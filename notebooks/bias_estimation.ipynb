{
 "cells": [
  {
   "cell_type": "markdown",
   "metadata": {},
   "source": [
    "# Imports & General stuff"
   ]
  },
  {
   "cell_type": "code",
   "execution_count": 1,
   "metadata": {
    "ExecuteTime": {
     "end_time": "2018-12-16T15:22:25.973859Z",
     "start_time": "2018-12-16T15:22:25.936486Z"
    }
   },
   "outputs": [
    {
     "data": {
      "text/html": [
       "<style>.container { width:95% !important; }</style>"
      ],
      "text/plain": [
       "<IPython.core.display.HTML object>"
      ]
     },
     "metadata": {},
     "output_type": "display_data"
    }
   ],
   "source": [
    "def fix_layout(width:int=95):\n",
    "    from IPython.core.display import display, HTML\n",
    "    display(HTML('<style>.container { width:' + str(width) + '% !important; }</style>'))\n",
    "    \n",
    "fix_layout()"
   ]
  },
  {
   "cell_type": "markdown",
   "metadata": {},
   "source": [
    "This notebook is dedicated to datasets analysis. \n",
    "\n",
    "Here we will concentrate on connecting our datasets into one dataframe that will later be used to extract meaningful information that can help us answer our research questions. \n",
    "\n",
    "In addition, data cleaning is performed where necessary since we will not use all the data provided. The goal of this notebook is to make data as easy as possible to use for future plotting and data story writing.\n",
    "\n",
    "So, let's dive into our data!"
   ]
  },
  {
   "cell_type": "code",
   "execution_count": 93,
   "metadata": {
    "ExecuteTime": {
     "end_time": "2018-12-16T17:34:13.168616Z",
     "start_time": "2018-12-16T17:34:13.129478Z"
    }
   },
   "outputs": [
    {
     "data": {
      "text/plain": [
       "<module 'utils.statement_handling' from '../src/utils/statement_handling.py'>"
      ]
     },
     "execution_count": 93,
     "metadata": {},
     "output_type": "execute_result"
    }
   ],
   "source": [
    "import os\n",
    "import re\n",
    "import json\n",
    "import time\n",
    "import datetime\n",
    "from functools import reduce\n",
    "from itertools import product\n",
    "\n",
    "from json import load, JSONDecodeError\n",
    "from functional import pseq, seq\n",
    "import pandas as pd\n",
    "import pandas_profiling\n",
    "import requests\n",
    "import pathlib\n",
    "\n",
    "# necessary to load the utils, which are in src\n",
    "import sys\n",
    "sys.path.append('../src')\n",
    "\n",
    "from utils import file, logging\n",
    "from utils.statement_handling import extract_information, safe_json_read\n",
    "\n",
    "from importlib import reload\n",
    "import matplotlib.pyplot as plt\n",
    "import seaborn as sns\n",
    "sns.set(style=\"whitegrid\", palette=\"pastel\")\n",
    "\n",
    "%matplotlib inline\n",
    "import utils.statement_handling as SH\n",
    "reload(SH)"
   ]
  },
  {
   "cell_type": "code",
   "execution_count": 3,
   "metadata": {
    "ExecuteTime": {
     "end_time": "2018-12-16T15:31:38.276962Z",
     "start_time": "2018-12-16T15:31:38.272569Z"
    }
   },
   "outputs": [],
   "source": [
    "def group_and_count(df, groupby_column, with_pct=False, with_avg=False):\n",
    "    result = df.groupby(groupby_column).size().sort_values(ascending=False).reset_index().rename(columns={0: 'count'})\n",
    "    if with_pct:\n",
    "        result['count_pct'] = result['count'] / result['count'].sum()\n",
    "    if with_avg:\n",
    "        result['count_avg'] = result['count'].mean()\n",
    "    return result"
   ]
  },
  {
   "cell_type": "code",
   "execution_count": 4,
   "metadata": {
    "ExecuteTime": {
     "end_time": "2018-12-16T15:31:38.574534Z",
     "start_time": "2018-12-16T15:31:38.569822Z"
    }
   },
   "outputs": [],
   "source": [
    "directory_liar_dataset = \"../data/liar_dataset\"\n",
    "directory_statements = f\"{directory_liar_dataset}/statements\"\n",
    "directory_visualizations = \"../docs/data_insight\"\n",
    "directory_election_results = \"../data/election_results\"\n",
    "directory_county_data = \"../data/county_data\""
   ]
  },
  {
   "cell_type": "markdown",
   "metadata": {},
   "source": [
    "# Statements"
   ]
  },
  {
   "cell_type": "code",
   "execution_count": 92,
   "metadata": {
    "ExecuteTime": {
     "end_time": "2018-12-16T17:30:34.902107Z",
     "start_time": "2018-12-16T17:30:31.854926Z"
    }
   },
   "outputs": [
    {
     "name": "stderr",
     "output_type": "stream",
     "text": [
      "ERROR:root:File ../data/liar_dataset/statements/5355.json is empty or something...\n",
      "ERROR:root:File ../data/liar_dataset/statements/9.json is empty or something...\n"
     ]
    },
    {
     "data": {
      "text/html": [
       "<div>\n",
       "<style scoped>\n",
       "    .dataframe tbody tr th:only-of-type {\n",
       "        vertical-align: middle;\n",
       "    }\n",
       "\n",
       "    .dataframe tbody tr th {\n",
       "        vertical-align: top;\n",
       "    }\n",
       "\n",
       "    .dataframe thead th {\n",
       "        text-align: right;\n",
       "    }\n",
       "</style>\n",
       "<table border=\"1\" class=\"dataframe\">\n",
       "  <thead>\n",
       "    <tr style=\"text-align: right;\">\n",
       "      <th></th>\n",
       "      <th>author_name_slug</th>\n",
       "      <th>context</th>\n",
       "      <th>label</th>\n",
       "      <th>party</th>\n",
       "      <th>ruling_date</th>\n",
       "      <th>speaker_current_job</th>\n",
       "      <th>speaker_first_name</th>\n",
       "      <th>speaker_home_state</th>\n",
       "      <th>speaker_last_name</th>\n",
       "      <th>statement</th>\n",
       "      <th>statement_date</th>\n",
       "      <th>statement_id</th>\n",
       "      <th>statement_type</th>\n",
       "      <th>statement_type_description</th>\n",
       "      <th>subject</th>\n",
       "    </tr>\n",
       "  </thead>\n",
       "  <tbody>\n",
       "    <tr>\n",
       "      <th>0</th>\n",
       "      <td>lauren-carroll</td>\n",
       "      <td>a speech at Northwestern University</td>\n",
       "      <td>mostly-true</td>\n",
       "      <td>Democrat</td>\n",
       "      <td>2014-10-08T14:09:46</td>\n",
       "      <td>President</td>\n",
       "      <td>Barack</td>\n",
       "      <td>Illinois</td>\n",
       "      <td>Obama</td>\n",
       "      <td>The cost of health care is now the single-bigg...</td>\n",
       "      <td>2014-10-02</td>\n",
       "      <td>10039</td>\n",
       "      <td>Claim</td>\n",
       "      <td>blog post</td>\n",
       "      <td>Deficit</td>\n",
       "    </tr>\n",
       "    <tr>\n",
       "      <th>1</th>\n",
       "      <td>manuela-tobias</td>\n",
       "      <td>in an ad</td>\n",
       "      <td>barely-true</td>\n",
       "      <td>Republican</td>\n",
       "      <td>2017-08-25T11:24:04</td>\n",
       "      <td></td>\n",
       "      <td></td>\n",
       "      <td></td>\n",
       "      <td>Senate Leadership Fund</td>\n",
       "      <td>Says Kelli Ward hosted a town hall on chemtrai...</td>\n",
       "      <td>2017-08-22</td>\n",
       "      <td>14464</td>\n",
       "      <td>Claim</td>\n",
       "      <td>blog post</td>\n",
       "      <td>Candidate Biography</td>\n",
       "    </tr>\n",
       "    <tr>\n",
       "      <th>2</th>\n",
       "      <td>brittany-alana-davis</td>\n",
       "      <td>remarks</td>\n",
       "      <td>mostly-true</td>\n",
       "      <td>Republican</td>\n",
       "      <td>2012-08-21T16:40:06</td>\n",
       "      <td>U.S. representative from Fort Myers</td>\n",
       "      <td>Connie</td>\n",
       "      <td>Florida</td>\n",
       "      <td>Mack</td>\n",
       "      <td>A small business in my district needed 31 diff...</td>\n",
       "      <td>2012-08-11</td>\n",
       "      <td>6501</td>\n",
       "      <td>Claim</td>\n",
       "      <td>blog post</td>\n",
       "      <td>Government regulation</td>\n",
       "    </tr>\n",
       "    <tr>\n",
       "      <th>3</th>\n",
       "      <td>dan-levy</td>\n",
       "      <td>a speech to the AFL-CIO Convention</td>\n",
       "      <td>barely-true</td>\n",
       "      <td>Democrat</td>\n",
       "      <td>2016-04-06T13:02:13</td>\n",
       "      <td>Presidential candidate</td>\n",
       "      <td>Hillary</td>\n",
       "      <td>New York</td>\n",
       "      <td>Clinton</td>\n",
       "      <td>When mentioning Villanova&amp;rsquo;s buzzer-beati...</td>\n",
       "      <td>2016-04-06</td>\n",
       "      <td>12192</td>\n",
       "      <td>Claim</td>\n",
       "      <td>blog post</td>\n",
       "      <td>Sports</td>\n",
       "    </tr>\n",
       "    <tr>\n",
       "      <th>4</th>\n",
       "      <td>c-eugene-emery</td>\n",
       "      <td>a television interview</td>\n",
       "      <td>false</td>\n",
       "      <td>Newsmaker</td>\n",
       "      <td>2011-05-31T00:01:00</td>\n",
       "      <td>President, Rhode Society for the Prevention of...</td>\n",
       "      <td>E.J.</td>\n",
       "      <td>Rhode Island</td>\n",
       "      <td>Finocchio</td>\n",
       "      <td>Most of your serial killers, most of your peop...</td>\n",
       "      <td>2011-04-24</td>\n",
       "      <td>3824</td>\n",
       "      <td>Claim</td>\n",
       "      <td>blog post</td>\n",
       "      <td>Animals</td>\n",
       "    </tr>\n",
       "  </tbody>\n",
       "</table>\n",
       "</div>"
      ],
      "text/plain": [
       "       author_name_slug                              context        label  \\\n",
       "0        lauren-carroll  a speech at Northwestern University  mostly-true   \n",
       "1        manuela-tobias                             in an ad  barely-true   \n",
       "2  brittany-alana-davis                              remarks  mostly-true   \n",
       "3              dan-levy   a speech to the AFL-CIO Convention  barely-true   \n",
       "4        c-eugene-emery               a television interview        false   \n",
       "\n",
       "        party          ruling_date  \\\n",
       "0    Democrat  2014-10-08T14:09:46   \n",
       "1  Republican  2017-08-25T11:24:04   \n",
       "2  Republican  2012-08-21T16:40:06   \n",
       "3    Democrat  2016-04-06T13:02:13   \n",
       "4   Newsmaker  2011-05-31T00:01:00   \n",
       "\n",
       "                                 speaker_current_job speaker_first_name  \\\n",
       "0                                          President             Barack   \n",
       "1                                                                         \n",
       "2                U.S. representative from Fort Myers             Connie   \n",
       "3                             Presidential candidate            Hillary   \n",
       "4  President, Rhode Society for the Prevention of...               E.J.   \n",
       "\n",
       "  speaker_home_state       speaker_last_name  \\\n",
       "0           Illinois                   Obama   \n",
       "1                     Senate Leadership Fund   \n",
       "2            Florida                    Mack   \n",
       "3           New York                 Clinton   \n",
       "4       Rhode Island               Finocchio   \n",
       "\n",
       "                                           statement statement_date  \\\n",
       "0  The cost of health care is now the single-bigg...     2014-10-02   \n",
       "1  Says Kelli Ward hosted a town hall on chemtrai...     2017-08-22   \n",
       "2  A small business in my district needed 31 diff...     2012-08-11   \n",
       "3  When mentioning Villanova&rsquo;s buzzer-beati...     2016-04-06   \n",
       "4  Most of your serial killers, most of your peop...     2011-04-24   \n",
       "\n",
       "   statement_id statement_type statement_type_description  \\\n",
       "0         10039          Claim                 blog post    \n",
       "1         14464          Claim                 blog post    \n",
       "2          6501          Claim                 blog post    \n",
       "3         12192          Claim                 blog post    \n",
       "4          3824          Claim                 blog post    \n",
       "\n",
       "                 subject  \n",
       "0                Deficit  \n",
       "1    Candidate Biography  \n",
       "2  Government regulation  \n",
       "3                 Sports  \n",
       "4                Animals  "
      ]
     },
     "execution_count": 92,
     "metadata": {},
     "output_type": "execute_result"
    }
   ],
   "source": [
    "statements = seq(pathlib.Path(directory_statements).iterdir()).map(SH.safe_json_read)\\\n",
    "                               .filter(lambda x: len(x) > 0)\\\n",
    "                               .map(SH.extract_information)\\\n",
    "                               .to_pandas()\n",
    "\n",
    "statements['statement_date'] = pd.to_datetime(statements['statement_date'])\n",
    "statements.head()"
   ]
  },
  {
   "cell_type": "code",
   "execution_count": 6,
   "metadata": {
    "ExecuteTime": {
     "end_time": "2018-12-16T15:31:46.941212Z",
     "start_time": "2018-12-16T15:31:46.937591Z"
    }
   },
   "outputs": [
    {
     "data": {
      "text/plain": [
       "(15471, 14)"
      ]
     },
     "execution_count": 6,
     "metadata": {},
     "output_type": "execute_result"
    }
   ],
   "source": [
    "statements.shape"
   ]
  },
  {
   "cell_type": "markdown",
   "metadata": {},
   "source": [
    "# Label counts"
   ]
  },
  {
   "cell_type": "code",
   "execution_count": 68,
   "metadata": {
    "ExecuteTime": {
     "end_time": "2018-12-16T16:44:47.079197Z",
     "start_time": "2018-12-16T16:44:47.074330Z"
    }
   },
   "outputs": [],
   "source": [
    "truhometer_labels = ['pants-fire', 'false', 'mostly-false', 'half-true', 'mostly-true', 'true']\n",
    "truhometer_labels = ['pants-fire', 'false', 'half-true', 'mostly-true', 'true']\n",
    "only_truthometer_label_idx = statements['label'].isin(truhometer_labels)"
   ]
  },
  {
   "cell_type": "code",
   "execution_count": 73,
   "metadata": {
    "ExecuteTime": {
     "end_time": "2018-12-16T16:56:04.470342Z",
     "start_time": "2018-12-16T16:56:04.306188Z"
    }
   },
   "outputs": [
    {
     "data": {
      "image/png": "[encoded data removed]",
      "text/plain": [
       "<Figure size 432x288 with 1 Axes>"
      ]
     },
     "metadata": {
      "needs_background": "light"
     },
     "output_type": "display_data"
    }
   ],
   "source": [
    "sns.barplot(data=group_and_count(statements.loc[only_truthometer_label_idx, :], 'label'), x='count', y='label', order=truhometer_labels)\n",
    "plt.title(\"Count of label-types\")\n",
    "plt.savefig('../docs/images/label_counts_overall.png')"
   ]
  },
  {
   "cell_type": "code",
   "execution_count": 49,
   "metadata": {
    "ExecuteTime": {
     "end_time": "2018-12-16T16:18:07.564575Z",
     "start_time": "2018-12-16T16:18:07.542967Z"
    }
   },
   "outputs": [
    {
     "data": {
      "text/html": [
       "<div>\n",
       "<style scoped>\n",
       "    .dataframe tbody tr th:only-of-type {\n",
       "        vertical-align: middle;\n",
       "    }\n",
       "\n",
       "    .dataframe tbody tr th {\n",
       "        vertical-align: top;\n",
       "    }\n",
       "\n",
       "    .dataframe thead th {\n",
       "        text-align: right;\n",
       "    }\n",
       "</style>\n",
       "<table border=\"1\" class=\"dataframe\">\n",
       "  <thead>\n",
       "    <tr style=\"text-align: right;\">\n",
       "      <th></th>\n",
       "      <th>statement_date</th>\n",
       "    </tr>\n",
       "  </thead>\n",
       "  <tbody>\n",
       "    <tr>\n",
       "      <th>count</th>\n",
       "      <td>12642</td>\n",
       "    </tr>\n",
       "    <tr>\n",
       "      <th>unique</th>\n",
       "      <td>3415</td>\n",
       "    </tr>\n",
       "    <tr>\n",
       "      <th>top</th>\n",
       "      <td>2011-10-11 00:00:00</td>\n",
       "    </tr>\n",
       "    <tr>\n",
       "      <th>freq</th>\n",
       "      <td>22</td>\n",
       "    </tr>\n",
       "    <tr>\n",
       "      <th>first</th>\n",
       "      <td>2000-10-01 00:00:00</td>\n",
       "    </tr>\n",
       "    <tr>\n",
       "      <th>last</th>\n",
       "      <td>2018-11-21 00:00:00</td>\n",
       "    </tr>\n",
       "  </tbody>\n",
       "</table>\n",
       "</div>"
      ],
      "text/plain": [
       "             statement_date\n",
       "count                 12642\n",
       "unique                 3415\n",
       "top     2011-10-11 00:00:00\n",
       "freq                     22\n",
       "first   2000-10-01 00:00:00\n",
       "last    2018-11-21 00:00:00"
      ]
     },
     "execution_count": 49,
     "metadata": {},
     "output_type": "execute_result"
    }
   ],
   "source": [
    "statements.loc[only_truthometer_label_idx,['statement_date']].describe()"
   ]
  },
  {
   "cell_type": "code",
   "execution_count": 61,
   "metadata": {
    "ExecuteTime": {
     "end_time": "2018-12-16T16:38:44.104209Z",
     "start_time": "2018-12-16T16:38:44.085513Z"
    }
   },
   "outputs": [
    {
     "data": {
      "text/plain": [
       "(12642, 1)"
      ]
     },
     "execution_count": 61,
     "metadata": {},
     "output_type": "execute_result"
    }
   ],
   "source": [
    "statements.loc[only_truthometer_label_idx,['statement_date']].shape"
   ]
  },
  {
   "cell_type": "code",
   "execution_count": 72,
   "metadata": {
    "ExecuteTime": {
     "end_time": "2018-12-16T16:55:39.759692Z",
     "start_time": "2018-12-16T16:55:39.035438Z"
    },
    "scrolled": true
   },
   "outputs": [
    {
     "data": {
      "image/png": "[encoded data removed]",
      "text/plain": [
       "<Figure size 1440x720 with 1 Axes>"
      ]
     },
     "metadata": {
      "needs_background": "light"
     },
     "output_type": "display_data"
    }
   ],
   "source": [
    "a = statements['statement_date'].dt.year\n",
    "b = a.value_counts().index\n",
    "b = sorted(list(b))\n",
    "\n",
    "def add_year(df, year):\n",
    "    df['year'] = year\n",
    "    return df\n",
    "\n",
    "\n",
    "d = pd.concat([add_year(group_and_count(statements.loc[(statements['statement_date'].dt.year == year) & only_truthometer_label_idx,: ], 'label'), year) for year in b])\n",
    "f = plt.figure(figsize=(20, 10))\n",
    "sns.barplot(data=d, x='count', y='label', hue='year', order=truhometer_labels)\n",
    "plt.title(\"Count of labels over the years\")\n",
    "plt.savefig('../docs/images/labels_over_years.png')"
   ]
  },
  {
   "cell_type": "markdown",
   "metadata": {},
   "source": [
    "## parties"
   ]
  },
  {
   "cell_type": "code",
   "execution_count": 95,
   "metadata": {
    "ExecuteTime": {
     "end_time": "2018-12-16T17:34:43.870126Z",
     "start_time": "2018-12-16T17:34:43.820050Z"
    }
   },
   "outputs": [],
   "source": [
    "statements = statements.loc[only_truthometer_label_idx]"
   ]
  },
  {
   "cell_type": "code",
   "execution_count": 97,
   "metadata": {
    "ExecuteTime": {
     "end_time": "2018-12-16T17:35:23.127886Z",
     "start_time": "2018-12-16T17:35:23.122626Z"
    }
   },
   "outputs": [],
   "source": [
    "parties_of_interest = ['Republican', 'Democrat']"
   ]
  },
  {
   "cell_type": "code",
   "execution_count": 111,
   "metadata": {
    "ExecuteTime": {
     "end_time": "2018-12-16T17:49:36.534208Z",
     "start_time": "2018-12-16T17:49:36.340550Z"
    }
   },
   "outputs": [
    {
     "data": {
      "image/png": "[encoded data removed]",
      "text/plain": [
       "<Figure size 432x288 with 1 Axes>"
      ]
     },
     "metadata": {
      "needs_background": "light"
     },
     "output_type": "display_data"
    }
   ],
   "source": [
    "sns.barplot(data=group_and_count(statements, 'party')[:10], y='party', x='count')\n",
    "plt.xlabel('Number of statements')\n",
    "plt.ylabel('Group')\n",
    "plt.title('Number of statements for the largest 10 groups')\n",
    "plt.savefig('../docs/images/nb_statements_10_largest_groups.png')"
   ]
  },
  {
   "cell_type": "code",
   "execution_count": 121,
   "metadata": {
    "ExecuteTime": {
     "end_time": "2018-12-16T17:52:49.319697Z",
     "start_time": "2018-12-16T17:52:49.061720Z"
    }
   },
   "outputs": [
    {
     "data": {
      "image/png": "[encoded data removed]",
      "text/plain": [
       "<Figure size 720x360 with 1 Axes>"
      ]
     },
     "metadata": {
      "needs_background": "light"
     },
     "output_type": "display_data"
    }
   ],
   "source": [
    "plt.figure(figsize=(10, 5))\n",
    "sns.barplot(data=group_and_count(statements.loc[statements.party.isin(parties_of_interest), :], ['party', 'label']), y='party', x='count', hue='label', hue_order=truhometer_labels)\n",
    "plt.xlabel('Number of rulings')\n",
    "plt.ylabel('Party')\n",
    "plt.title('Number of rulings for the two major parties')\n",
    "plt.savefig('../docs/images/nb_rulings_for_major_parties.png')"
   ]
  },
  {
   "cell_type": "code",
   "execution_count": 129,
   "metadata": {
    "ExecuteTime": {
     "end_time": "2018-12-16T17:55:42.464143Z",
     "start_time": "2018-12-16T17:55:42.408270Z"
    }
   },
   "outputs": [
    {
     "data": {
      "text/html": [
       "<div>\n",
       "<style scoped>\n",
       "    .dataframe tbody tr th:only-of-type {\n",
       "        vertical-align: middle;\n",
       "    }\n",
       "\n",
       "    .dataframe tbody tr th {\n",
       "        vertical-align: top;\n",
       "    }\n",
       "\n",
       "    .dataframe thead th {\n",
       "        text-align: right;\n",
       "    }\n",
       "</style>\n",
       "<table border=\"1\" class=\"dataframe\">\n",
       "  <thead>\n",
       "    <tr style=\"text-align: right;\">\n",
       "      <th></th>\n",
       "      <th>party</th>\n",
       "      <th>simple_label</th>\n",
       "      <th>label_count</th>\n",
       "      <th>party_count</th>\n",
       "      <th>in_group_pct</th>\n",
       "    </tr>\n",
       "  </thead>\n",
       "  <tbody>\n",
       "    <tr>\n",
       "      <th>0</th>\n",
       "      <td>Republican</td>\n",
       "      <td>true</td>\n",
       "      <td>3255</td>\n",
       "      <td>5313</td>\n",
       "      <td>0.612648</td>\n",
       "    </tr>\n",
       "    <tr>\n",
       "      <th>1</th>\n",
       "      <td>Republican</td>\n",
       "      <td>false</td>\n",
       "      <td>2058</td>\n",
       "      <td>5313</td>\n",
       "      <td>0.387352</td>\n",
       "    </tr>\n",
       "    <tr>\n",
       "      <th>2</th>\n",
       "      <td>Democrat</td>\n",
       "      <td>true</td>\n",
       "      <td>3105</td>\n",
       "      <td>3962</td>\n",
       "      <td>0.783695</td>\n",
       "    </tr>\n",
       "    <tr>\n",
       "      <th>3</th>\n",
       "      <td>Democrat</td>\n",
       "      <td>false</td>\n",
       "      <td>857</td>\n",
       "      <td>3962</td>\n",
       "      <td>0.216305</td>\n",
       "    </tr>\n",
       "  </tbody>\n",
       "</table>\n",
       "</div>"
      ],
      "text/plain": [
       "        party simple_label  label_count  party_count  in_group_pct\n",
       "0  Republican         true         3255         5313      0.612648\n",
       "1  Republican        false         2058         5313      0.387352\n",
       "2    Democrat         true         3105         3962      0.783695\n",
       "3    Democrat        false          857         3962      0.216305"
      ]
     },
     "execution_count": 129,
     "metadata": {},
     "output_type": "execute_result"
    }
   ],
   "source": [
    "a = group_and_count(statements.loc[statements.party.isin(parties_of_interest), :], ['party', 'simple_label']).rename(columns={'count': 'label_count'})\n",
    "b = group_and_count(statements.loc[statements.party.isin(parties_of_interest), :], ['party']).rename(columns={'count': 'party_count'})\n",
    "c = pd.merge(a, b)\n",
    "c['in_group_pct'] = c['label_count'] / c['party_count']\n",
    "c"
   ]
  },
  {
   "cell_type": "code",
   "execution_count": 123,
   "metadata": {
    "ExecuteTime": {
     "end_time": "2018-12-16T17:53:13.119053Z",
     "start_time": "2018-12-16T17:53:12.912179Z"
    }
   },
   "outputs": [
    {
     "data": {
      "image/png": "[encoded data removed]",
      "text/plain": [
       "<Figure size 720x360 with 1 Axes>"
      ]
     },
     "metadata": {
      "needs_background": "light"
     },
     "output_type": "display_data"
    }
   ],
   "source": [
    "plt.figure(figsize=(10, 5))\n",
    "sns.barplot(data=group_and_count(statements.loc[statements.party.isin(parties_of_interest), :], ['party', 'simple_label']), y='party', x='count', hue='simple_label')\n",
    "plt.xlabel('Number of rulings')\n",
    "plt.ylabel('Party')\n",
    "plt.title('Number of simplified rulings for the two major parties')\n",
    "plt.savefig('../docs/images/nb_simple_rulings_for_major_parties.png')"
   ]
  },
  {
   "cell_type": "code",
   "execution_count": 226,
   "metadata": {
    "ExecuteTime": {
     "end_time": "2018-12-16T18:59:54.974828Z",
     "start_time": "2018-12-16T18:59:54.544740Z"
    }
   },
   "outputs": [
    {
     "name": "stderr",
     "output_type": "stream",
     "text": [
      "/home/sam/.local/bin/miniconda3/envs/sci/lib/python3.6/site-packages/scipy/stats/stats.py:1713: FutureWarning: Using a non-tuple sequence for multidimensional indexing is deprecated; use `arr[tuple(seq)]` instead of `arr[seq]`. In the future this will be interpreted as an array index, `arr[np.array(seq)]`, which will result either in an error or a different result.\n",
      "  return np.add.reduce(sorted[indexer] * weights, axis=axis) / sumval\n"
     ]
    },
    {
     "data": {
      "image/png": "[encoded data removed]",
      "text/plain": [
       "<Figure size 432x288 with 1 Axes>"
      ]
     },
     "metadata": {
      "needs_background": "light"
     },
     "output_type": "display_data"
    }
   ],
   "source": [
    "import numpy as np\n",
    "statements['year'] = statements.statement_date.dt.year\n",
    "count_per_year_and_label = pd.pivot_table(group_and_count(statements.loc[statements.party.isin(parties_of_interest)], ['year', 'party', 'simple_label']), values=['count'], columns=['simple_label'], index=['year', 'party'])\n",
    "\n",
    "# sometimes I fucking hate multi-index...\n",
    "count_per_year_and_label = pd.DataFrame(count_per_year_and_label.reset_index().values, columns=['year', 'party', 'nb_false_statements', 'nb_true_statements'])\n",
    "count_per_year_and_label['ratio'] = 0\n",
    "for party in parties_of_interest:\n",
    "    _idx = count_per_year_and_label['party'].eq(party)\n",
    "    count_per_year_and_label.loc[_idx, 'ratio'] = count_per_year_and_label.loc[_idx, 'nb_false_statements'] / count_per_year_and_label.loc[_idx, 'nb_true_statements']\n",
    "    \n",
    "\n",
    "count_per_year_and_label['ratio'] = pd.to_numeric(count_per_year_and_label['ratio'])\n",
    "count_per_year_and_label['year'] = count_per_year_and_label.year.astype(np.int)\n",
    "\n",
    "#for party in parties_of_interest:\n",
    "#    sns.regplot(data=count_per_year_and_label.loc[count_per_year_and_label.party.eq(party), :], x='year', y='ratio', )\n",
    "\n",
    "#sns.lineplot(data=count_per_year_and_label, x='year', y='ratio', hue='party')\n",
    "#plt.title('Ratio of false to true statements over the years')\n",
    "#plt.savefig('../docs/images/ratio_false_true_parties.png')\n",
    "\n",
    "for party in reversed(parties_of_interest):\n",
    "    sns.regplot( data=count_per_year_and_label.loc[count_per_year_and_label.party.eq(party), :], x='year', y='ratio', label=party)\n",
    "    \n",
    "plt.legend()\n",
    "plt.title('Ratio of false to true statements over the years')\n",
    "plt.savefig('../docs/images/ratio_false_true_parties.png')"
   ]
  },
  {
   "cell_type": "markdown",
   "metadata": {},
   "source": [
    "## authors"
   ]
  },
  {
   "cell_type": "code",
   "execution_count": 103,
   "metadata": {
    "ExecuteTime": {
     "end_time": "2018-12-16T17:38:33.003682Z",
     "start_time": "2018-12-16T17:38:32.850822Z"
    }
   },
   "outputs": [],
   "source": [
    "statements['simple_label'] = statements['label'].apply(SH.simplify_label)\n",
    "a = statements.loc[statements['party'].isin(parties_of_interest), :]\n",
    "\n",
    "author_counts = group_and_count(a, 'author_name_slug').rename(columns={'count': 'total_count'})\n",
    "author_label_counts = group_and_count(a, ['author_name_slug', 'simple_label', 'party']).rename(columns={'count': 'label_count'})"
   ]
  },
  {
   "cell_type": "code",
   "execution_count": 105,
   "metadata": {
    "ExecuteTime": {
     "end_time": "2018-12-16T17:38:55.259789Z",
     "start_time": "2018-12-16T17:38:55.157651Z"
    }
   },
   "outputs": [
    {
     "data": {
      "text/html": [
       "<div>\n",
       "<style scoped>\n",
       "    .dataframe tbody tr th:only-of-type {\n",
       "        vertical-align: middle;\n",
       "    }\n",
       "\n",
       "    .dataframe tbody tr th {\n",
       "        vertical-align: top;\n",
       "    }\n",
       "\n",
       "    .dataframe thead th {\n",
       "        text-align: right;\n",
       "    }\n",
       "</style>\n",
       "<table border=\"1\" class=\"dataframe\">\n",
       "  <thead>\n",
       "    <tr style=\"text-align: right;\">\n",
       "      <th></th>\n",
       "      <th>author_name_slug</th>\n",
       "      <th>total_count</th>\n",
       "      <th>simple_label</th>\n",
       "      <th>party</th>\n",
       "      <th>label_count</th>\n",
       "      <th>pct</th>\n",
       "    </tr>\n",
       "  </thead>\n",
       "  <tbody>\n",
       "    <tr>\n",
       "      <th>0</th>\n",
       "      <td>louis-jacobson</td>\n",
       "      <td>998</td>\n",
       "      <td>true</td>\n",
       "      <td>Republican</td>\n",
       "      <td>329</td>\n",
       "      <td>0.329659</td>\n",
       "    </tr>\n",
       "    <tr>\n",
       "      <th>1</th>\n",
       "      <td>louis-jacobson</td>\n",
       "      <td>998</td>\n",
       "      <td>true</td>\n",
       "      <td>Democrat</td>\n",
       "      <td>306</td>\n",
       "      <td>0.306613</td>\n",
       "    </tr>\n",
       "    <tr>\n",
       "      <th>2</th>\n",
       "      <td>louis-jacobson</td>\n",
       "      <td>998</td>\n",
       "      <td>false</td>\n",
       "      <td>Republican</td>\n",
       "      <td>285</td>\n",
       "      <td>0.285571</td>\n",
       "    </tr>\n",
       "    <tr>\n",
       "      <th>3</th>\n",
       "      <td>louis-jacobson</td>\n",
       "      <td>998</td>\n",
       "      <td>false</td>\n",
       "      <td>Democrat</td>\n",
       "      <td>78</td>\n",
       "      <td>0.078156</td>\n",
       "    </tr>\n",
       "    <tr>\n",
       "      <th>4</th>\n",
       "      <td>w-gardner-selby</td>\n",
       "      <td>582</td>\n",
       "      <td>true</td>\n",
       "      <td>Republican</td>\n",
       "      <td>222</td>\n",
       "      <td>0.381443</td>\n",
       "    </tr>\n",
       "    <tr>\n",
       "      <th>5</th>\n",
       "      <td>w-gardner-selby</td>\n",
       "      <td>582</td>\n",
       "      <td>true</td>\n",
       "      <td>Democrat</td>\n",
       "      <td>167</td>\n",
       "      <td>0.286942</td>\n",
       "    </tr>\n",
       "    <tr>\n",
       "      <th>6</th>\n",
       "      <td>w-gardner-selby</td>\n",
       "      <td>582</td>\n",
       "      <td>false</td>\n",
       "      <td>Republican</td>\n",
       "      <td>138</td>\n",
       "      <td>0.237113</td>\n",
       "    </tr>\n",
       "    <tr>\n",
       "      <th>7</th>\n",
       "      <td>w-gardner-selby</td>\n",
       "      <td>582</td>\n",
       "      <td>false</td>\n",
       "      <td>Democrat</td>\n",
       "      <td>55</td>\n",
       "      <td>0.094502</td>\n",
       "    </tr>\n",
       "    <tr>\n",
       "      <th>8</th>\n",
       "      <td>tom-kertscher</td>\n",
       "      <td>424</td>\n",
       "      <td>true</td>\n",
       "      <td>Republican</td>\n",
       "      <td>139</td>\n",
       "      <td>0.327830</td>\n",
       "    </tr>\n",
       "    <tr>\n",
       "      <th>9</th>\n",
       "      <td>tom-kertscher</td>\n",
       "      <td>424</td>\n",
       "      <td>true</td>\n",
       "      <td>Democrat</td>\n",
       "      <td>133</td>\n",
       "      <td>0.313679</td>\n",
       "    </tr>\n",
       "    <tr>\n",
       "      <th>10</th>\n",
       "      <td>tom-kertscher</td>\n",
       "      <td>424</td>\n",
       "      <td>false</td>\n",
       "      <td>Republican</td>\n",
       "      <td>86</td>\n",
       "      <td>0.202830</td>\n",
       "    </tr>\n",
       "    <tr>\n",
       "      <th>11</th>\n",
       "      <td>tom-kertscher</td>\n",
       "      <td>424</td>\n",
       "      <td>false</td>\n",
       "      <td>Democrat</td>\n",
       "      <td>66</td>\n",
       "      <td>0.155660</td>\n",
       "    </tr>\n",
       "    <tr>\n",
       "      <th>12</th>\n",
       "      <td>angie-drobnic-holan</td>\n",
       "      <td>384</td>\n",
       "      <td>true</td>\n",
       "      <td>Democrat</td>\n",
       "      <td>155</td>\n",
       "      <td>0.403646</td>\n",
       "    </tr>\n",
       "    <tr>\n",
       "      <th>13</th>\n",
       "      <td>angie-drobnic-holan</td>\n",
       "      <td>384</td>\n",
       "      <td>true</td>\n",
       "      <td>Republican</td>\n",
       "      <td>119</td>\n",
       "      <td>0.309896</td>\n",
       "    </tr>\n",
       "    <tr>\n",
       "      <th>14</th>\n",
       "      <td>angie-drobnic-holan</td>\n",
       "      <td>384</td>\n",
       "      <td>false</td>\n",
       "      <td>Republican</td>\n",
       "      <td>71</td>\n",
       "      <td>0.184896</td>\n",
       "    </tr>\n",
       "    <tr>\n",
       "      <th>15</th>\n",
       "      <td>angie-drobnic-holan</td>\n",
       "      <td>384</td>\n",
       "      <td>false</td>\n",
       "      <td>Democrat</td>\n",
       "      <td>39</td>\n",
       "      <td>0.101562</td>\n",
       "    </tr>\n",
       "    <tr>\n",
       "      <th>16</th>\n",
       "      <td>amy-sherman</td>\n",
       "      <td>375</td>\n",
       "      <td>true</td>\n",
       "      <td>Republican</td>\n",
       "      <td>148</td>\n",
       "      <td>0.394667</td>\n",
       "    </tr>\n",
       "    <tr>\n",
       "      <th>17</th>\n",
       "      <td>amy-sherman</td>\n",
       "      <td>375</td>\n",
       "      <td>true</td>\n",
       "      <td>Democrat</td>\n",
       "      <td>120</td>\n",
       "      <td>0.320000</td>\n",
       "    </tr>\n",
       "    <tr>\n",
       "      <th>18</th>\n",
       "      <td>amy-sherman</td>\n",
       "      <td>375</td>\n",
       "      <td>false</td>\n",
       "      <td>Republican</td>\n",
       "      <td>79</td>\n",
       "      <td>0.210667</td>\n",
       "    </tr>\n",
       "    <tr>\n",
       "      <th>19</th>\n",
       "      <td>amy-sherman</td>\n",
       "      <td>375</td>\n",
       "      <td>false</td>\n",
       "      <td>Democrat</td>\n",
       "      <td>28</td>\n",
       "      <td>0.074667</td>\n",
       "    </tr>\n",
       "    <tr>\n",
       "      <th>20</th>\n",
       "      <td>jon-greenberg</td>\n",
       "      <td>343</td>\n",
       "      <td>false</td>\n",
       "      <td>Republican</td>\n",
       "      <td>120</td>\n",
       "      <td>0.349854</td>\n",
       "    </tr>\n",
       "    <tr>\n",
       "      <th>21</th>\n",
       "      <td>jon-greenberg</td>\n",
       "      <td>343</td>\n",
       "      <td>true</td>\n",
       "      <td>Democrat</td>\n",
       "      <td>113</td>\n",
       "      <td>0.329446</td>\n",
       "    </tr>\n",
       "    <tr>\n",
       "      <th>22</th>\n",
       "      <td>jon-greenberg</td>\n",
       "      <td>343</td>\n",
       "      <td>true</td>\n",
       "      <td>Republican</td>\n",
       "      <td>93</td>\n",
       "      <td>0.271137</td>\n",
       "    </tr>\n",
       "    <tr>\n",
       "      <th>23</th>\n",
       "      <td>jon-greenberg</td>\n",
       "      <td>343</td>\n",
       "      <td>false</td>\n",
       "      <td>Democrat</td>\n",
       "      <td>17</td>\n",
       "      <td>0.049563</td>\n",
       "    </tr>\n",
       "    <tr>\n",
       "      <th>24</th>\n",
       "      <td>robert-farley</td>\n",
       "      <td>273</td>\n",
       "      <td>true</td>\n",
       "      <td>Democrat</td>\n",
       "      <td>100</td>\n",
       "      <td>0.366300</td>\n",
       "    </tr>\n",
       "    <tr>\n",
       "      <th>25</th>\n",
       "      <td>robert-farley</td>\n",
       "      <td>273</td>\n",
       "      <td>true</td>\n",
       "      <td>Republican</td>\n",
       "      <td>83</td>\n",
       "      <td>0.304029</td>\n",
       "    </tr>\n",
       "    <tr>\n",
       "      <th>26</th>\n",
       "      <td>robert-farley</td>\n",
       "      <td>273</td>\n",
       "      <td>false</td>\n",
       "      <td>Republican</td>\n",
       "      <td>65</td>\n",
       "      <td>0.238095</td>\n",
       "    </tr>\n",
       "    <tr>\n",
       "      <th>27</th>\n",
       "      <td>robert-farley</td>\n",
       "      <td>273</td>\n",
       "      <td>false</td>\n",
       "      <td>Democrat</td>\n",
       "      <td>25</td>\n",
       "      <td>0.091575</td>\n",
       "    </tr>\n",
       "    <tr>\n",
       "      <th>28</th>\n",
       "      <td>lauren-carroll</td>\n",
       "      <td>212</td>\n",
       "      <td>true</td>\n",
       "      <td>Democrat</td>\n",
       "      <td>73</td>\n",
       "      <td>0.344340</td>\n",
       "    </tr>\n",
       "    <tr>\n",
       "      <th>29</th>\n",
       "      <td>lauren-carroll</td>\n",
       "      <td>212</td>\n",
       "      <td>true</td>\n",
       "      <td>Republican</td>\n",
       "      <td>69</td>\n",
       "      <td>0.325472</td>\n",
       "    </tr>\n",
       "    <tr>\n",
       "      <th>...</th>\n",
       "      <td>...</td>\n",
       "      <td>...</td>\n",
       "      <td>...</td>\n",
       "      <td>...</td>\n",
       "      <td>...</td>\n",
       "      <td>...</td>\n",
       "    </tr>\n",
       "    <tr>\n",
       "      <th>746</th>\n",
       "      <td>samantha-west</td>\n",
       "      <td>1</td>\n",
       "      <td>true</td>\n",
       "      <td>Democrat</td>\n",
       "      <td>1</td>\n",
       "      <td>1.000000</td>\n",
       "    </tr>\n",
       "    <tr>\n",
       "      <th>747</th>\n",
       "      <td>patrick-marley</td>\n",
       "      <td>1</td>\n",
       "      <td>true</td>\n",
       "      <td>Democrat</td>\n",
       "      <td>1</td>\n",
       "      <td>1.000000</td>\n",
       "    </tr>\n",
       "    <tr>\n",
       "      <th>748</th>\n",
       "      <td>dror-sharon</td>\n",
       "      <td>1</td>\n",
       "      <td>true</td>\n",
       "      <td>Democrat</td>\n",
       "      <td>1</td>\n",
       "      <td>1.000000</td>\n",
       "    </tr>\n",
       "    <tr>\n",
       "      <th>749</th>\n",
       "      <td>rye-druzin</td>\n",
       "      <td>1</td>\n",
       "      <td>true</td>\n",
       "      <td>Democrat</td>\n",
       "      <td>1</td>\n",
       "      <td>1.000000</td>\n",
       "    </tr>\n",
       "    <tr>\n",
       "      <th>750</th>\n",
       "      <td>kaitlin-dewulf</td>\n",
       "      <td>1</td>\n",
       "      <td>true</td>\n",
       "      <td>Democrat</td>\n",
       "      <td>1</td>\n",
       "      <td>1.000000</td>\n",
       "    </tr>\n",
       "    <tr>\n",
       "      <th>751</th>\n",
       "      <td>pat-gillespie</td>\n",
       "      <td>1</td>\n",
       "      <td>true</td>\n",
       "      <td>Democrat</td>\n",
       "      <td>1</td>\n",
       "      <td>1.000000</td>\n",
       "    </tr>\n",
       "    <tr>\n",
       "      <th>752</th>\n",
       "      <td>craig-gilbert</td>\n",
       "      <td>1</td>\n",
       "      <td>true</td>\n",
       "      <td>Republican</td>\n",
       "      <td>1</td>\n",
       "      <td>1.000000</td>\n",
       "    </tr>\n",
       "    <tr>\n",
       "      <th>753</th>\n",
       "      <td>ethan-dewitt</td>\n",
       "      <td>1</td>\n",
       "      <td>true</td>\n",
       "      <td>Republican</td>\n",
       "      <td>1</td>\n",
       "      <td>1.000000</td>\n",
       "    </tr>\n",
       "    <tr>\n",
       "      <th>754</th>\n",
       "      <td>nick-fouriezos</td>\n",
       "      <td>1</td>\n",
       "      <td>true</td>\n",
       "      <td>Democrat</td>\n",
       "      <td>1</td>\n",
       "      <td>1.000000</td>\n",
       "    </tr>\n",
       "    <tr>\n",
       "      <th>755</th>\n",
       "      <td>john-chase</td>\n",
       "      <td>1</td>\n",
       "      <td>false</td>\n",
       "      <td>Democrat</td>\n",
       "      <td>1</td>\n",
       "      <td>1.000000</td>\n",
       "    </tr>\n",
       "    <tr>\n",
       "      <th>756</th>\n",
       "      <td>brad-schmidt</td>\n",
       "      <td>1</td>\n",
       "      <td>true</td>\n",
       "      <td>Democrat</td>\n",
       "      <td>1</td>\n",
       "      <td>1.000000</td>\n",
       "    </tr>\n",
       "    <tr>\n",
       "      <th>757</th>\n",
       "      <td>josh-rogers</td>\n",
       "      <td>1</td>\n",
       "      <td>true</td>\n",
       "      <td>Republican</td>\n",
       "      <td>1</td>\n",
       "      <td>1.000000</td>\n",
       "    </tr>\n",
       "    <tr>\n",
       "      <th>758</th>\n",
       "      <td>harry-esteve</td>\n",
       "      <td>1</td>\n",
       "      <td>true</td>\n",
       "      <td>Republican</td>\n",
       "      <td>1</td>\n",
       "      <td>1.000000</td>\n",
       "    </tr>\n",
       "    <tr>\n",
       "      <th>759</th>\n",
       "      <td>brent-walth</td>\n",
       "      <td>1</td>\n",
       "      <td>true</td>\n",
       "      <td>Democrat</td>\n",
       "      <td>1</td>\n",
       "      <td>1.000000</td>\n",
       "    </tr>\n",
       "    <tr>\n",
       "      <th>760</th>\n",
       "      <td>kristen-clark</td>\n",
       "      <td>1</td>\n",
       "      <td>false</td>\n",
       "      <td>Republican</td>\n",
       "      <td>1</td>\n",
       "      <td>1.000000</td>\n",
       "    </tr>\n",
       "    <tr>\n",
       "      <th>761</th>\n",
       "      <td>tara-merrigan</td>\n",
       "      <td>1</td>\n",
       "      <td>true</td>\n",
       "      <td>Republican</td>\n",
       "      <td>1</td>\n",
       "      <td>1.000000</td>\n",
       "    </tr>\n",
       "    <tr>\n",
       "      <th>762</th>\n",
       "      <td>hadas-gold</td>\n",
       "      <td>1</td>\n",
       "      <td>true</td>\n",
       "      <td>Republican</td>\n",
       "      <td>1</td>\n",
       "      <td>1.000000</td>\n",
       "    </tr>\n",
       "    <tr>\n",
       "      <th>763</th>\n",
       "      <td>kevin-robillard</td>\n",
       "      <td>1</td>\n",
       "      <td>false</td>\n",
       "      <td>Republican</td>\n",
       "      <td>1</td>\n",
       "      <td>1.000000</td>\n",
       "    </tr>\n",
       "    <tr>\n",
       "      <th>764</th>\n",
       "      <td>carolina-vargas</td>\n",
       "      <td>1</td>\n",
       "      <td>true</td>\n",
       "      <td>Republican</td>\n",
       "      <td>1</td>\n",
       "      <td>1.000000</td>\n",
       "    </tr>\n",
       "    <tr>\n",
       "      <th>765</th>\n",
       "      <td>guy-boulton</td>\n",
       "      <td>1</td>\n",
       "      <td>false</td>\n",
       "      <td>Republican</td>\n",
       "      <td>1</td>\n",
       "      <td>1.000000</td>\n",
       "    </tr>\n",
       "    <tr>\n",
       "      <th>766</th>\n",
       "      <td>sue-owen-aas</td>\n",
       "      <td>1</td>\n",
       "      <td>false</td>\n",
       "      <td>Republican</td>\n",
       "      <td>1</td>\n",
       "      <td>1.000000</td>\n",
       "    </tr>\n",
       "    <tr>\n",
       "      <th>767</th>\n",
       "      <td>casey-mcdermott</td>\n",
       "      <td>1</td>\n",
       "      <td>true</td>\n",
       "      <td>Democrat</td>\n",
       "      <td>1</td>\n",
       "      <td>1.000000</td>\n",
       "    </tr>\n",
       "    <tr>\n",
       "      <th>768</th>\n",
       "      <td>steve-gilbert</td>\n",
       "      <td>1</td>\n",
       "      <td>true</td>\n",
       "      <td>Republican</td>\n",
       "      <td>1</td>\n",
       "      <td>1.000000</td>\n",
       "    </tr>\n",
       "    <tr>\n",
       "      <th>769</th>\n",
       "      <td>charles-maldonado</td>\n",
       "      <td>1</td>\n",
       "      <td>true</td>\n",
       "      <td>Democrat</td>\n",
       "      <td>1</td>\n",
       "      <td>1.000000</td>\n",
       "    </tr>\n",
       "    <tr>\n",
       "      <th>770</th>\n",
       "      <td>steve-ahillen</td>\n",
       "      <td>1</td>\n",
       "      <td>true</td>\n",
       "      <td>Republican</td>\n",
       "      <td>1</td>\n",
       "      <td>1.000000</td>\n",
       "    </tr>\n",
       "    <tr>\n",
       "      <th>771</th>\n",
       "      <td>george-ash</td>\n",
       "      <td>1</td>\n",
       "      <td>true</td>\n",
       "      <td>Republican</td>\n",
       "      <td>1</td>\n",
       "      <td>1.000000</td>\n",
       "    </tr>\n",
       "    <tr>\n",
       "      <th>772</th>\n",
       "      <td>jana-heigl</td>\n",
       "      <td>1</td>\n",
       "      <td>true</td>\n",
       "      <td>Democrat</td>\n",
       "      <td>1</td>\n",
       "      <td>1.000000</td>\n",
       "    </tr>\n",
       "    <tr>\n",
       "      <th>773</th>\n",
       "      <td>nicole-barrios</td>\n",
       "      <td>1</td>\n",
       "      <td>true</td>\n",
       "      <td>Republican</td>\n",
       "      <td>1</td>\n",
       "      <td>1.000000</td>\n",
       "    </tr>\n",
       "    <tr>\n",
       "      <th>774</th>\n",
       "      <td>forrest-milburn</td>\n",
       "      <td>1</td>\n",
       "      <td>true</td>\n",
       "      <td>Republican</td>\n",
       "      <td>1</td>\n",
       "      <td>1.000000</td>\n",
       "    </tr>\n",
       "    <tr>\n",
       "      <th>775</th>\n",
       "      <td>rachel-rice</td>\n",
       "      <td>1</td>\n",
       "      <td>true</td>\n",
       "      <td>Republican</td>\n",
       "      <td>1</td>\n",
       "      <td>1.000000</td>\n",
       "    </tr>\n",
       "  </tbody>\n",
       "</table>\n",
       "<p>776 rows × 6 columns</p>\n",
       "</div>"
      ],
      "text/plain": [
       "        author_name_slug  total_count simple_label       party  label_count  \\\n",
       "0         louis-jacobson          998         true  Republican          329   \n",
       "1         louis-jacobson          998         true    Democrat          306   \n",
       "2         louis-jacobson          998        false  Republican          285   \n",
       "3         louis-jacobson          998        false    Democrat           78   \n",
       "4        w-gardner-selby          582         true  Republican          222   \n",
       "5        w-gardner-selby          582         true    Democrat          167   \n",
       "6        w-gardner-selby          582        false  Republican          138   \n",
       "7        w-gardner-selby          582        false    Democrat           55   \n",
       "8          tom-kertscher          424         true  Republican          139   \n",
       "9          tom-kertscher          424         true    Democrat          133   \n",
       "10         tom-kertscher          424        false  Republican           86   \n",
       "11         tom-kertscher          424        false    Democrat           66   \n",
       "12   angie-drobnic-holan          384         true    Democrat          155   \n",
       "13   angie-drobnic-holan          384         true  Republican          119   \n",
       "14   angie-drobnic-holan          384        false  Republican           71   \n",
       "15   angie-drobnic-holan          384        false    Democrat           39   \n",
       "16           amy-sherman          375         true  Republican          148   \n",
       "17           amy-sherman          375         true    Democrat          120   \n",
       "18           amy-sherman          375        false  Republican           79   \n",
       "19           amy-sherman          375        false    Democrat           28   \n",
       "20         jon-greenberg          343        false  Republican          120   \n",
       "21         jon-greenberg          343         true    Democrat          113   \n",
       "22         jon-greenberg          343         true  Republican           93   \n",
       "23         jon-greenberg          343        false    Democrat           17   \n",
       "24         robert-farley          273         true    Democrat          100   \n",
       "25         robert-farley          273         true  Republican           83   \n",
       "26         robert-farley          273        false  Republican           65   \n",
       "27         robert-farley          273        false    Democrat           25   \n",
       "28        lauren-carroll          212         true    Democrat           73   \n",
       "29        lauren-carroll          212         true  Republican           69   \n",
       "..                   ...          ...          ...         ...          ...   \n",
       "746        samantha-west            1         true    Democrat            1   \n",
       "747       patrick-marley            1         true    Democrat            1   \n",
       "748          dror-sharon            1         true    Democrat            1   \n",
       "749           rye-druzin            1         true    Democrat            1   \n",
       "750       kaitlin-dewulf            1         true    Democrat            1   \n",
       "751        pat-gillespie            1         true    Democrat            1   \n",
       "752        craig-gilbert            1         true  Republican            1   \n",
       "753         ethan-dewitt            1         true  Republican            1   \n",
       "754       nick-fouriezos            1         true    Democrat            1   \n",
       "755           john-chase            1        false    Democrat            1   \n",
       "756         brad-schmidt            1         true    Democrat            1   \n",
       "757          josh-rogers            1         true  Republican            1   \n",
       "758         harry-esteve            1         true  Republican            1   \n",
       "759          brent-walth            1         true    Democrat            1   \n",
       "760        kristen-clark            1        false  Republican            1   \n",
       "761        tara-merrigan            1         true  Republican            1   \n",
       "762           hadas-gold            1         true  Republican            1   \n",
       "763      kevin-robillard            1        false  Republican            1   \n",
       "764      carolina-vargas            1         true  Republican            1   \n",
       "765          guy-boulton            1        false  Republican            1   \n",
       "766         sue-owen-aas            1        false  Republican            1   \n",
       "767      casey-mcdermott            1         true    Democrat            1   \n",
       "768        steve-gilbert            1         true  Republican            1   \n",
       "769    charles-maldonado            1         true    Democrat            1   \n",
       "770        steve-ahillen            1         true  Republican            1   \n",
       "771           george-ash            1         true  Republican            1   \n",
       "772           jana-heigl            1         true    Democrat            1   \n",
       "773       nicole-barrios            1         true  Republican            1   \n",
       "774      forrest-milburn            1         true  Republican            1   \n",
       "775          rachel-rice            1         true  Republican            1   \n",
       "\n",
       "          pct  \n",
       "0    0.329659  \n",
       "1    0.306613  \n",
       "2    0.285571  \n",
       "3    0.078156  \n",
       "4    0.381443  \n",
       "5    0.286942  \n",
       "6    0.237113  \n",
       "7    0.094502  \n",
       "8    0.327830  \n",
       "9    0.313679  \n",
       "10   0.202830  \n",
       "11   0.155660  \n",
       "12   0.403646  \n",
       "13   0.309896  \n",
       "14   0.184896  \n",
       "15   0.101562  \n",
       "16   0.394667  \n",
       "17   0.320000  \n",
       "18   0.210667  \n",
       "19   0.074667  \n",
       "20   0.349854  \n",
       "21   0.329446  \n",
       "22   0.271137  \n",
       "23   0.049563  \n",
       "24   0.366300  \n",
       "25   0.304029  \n",
       "26   0.238095  \n",
       "27   0.091575  \n",
       "28   0.344340  \n",
       "29   0.325472  \n",
       "..        ...  \n",
       "746  1.000000  \n",
       "747  1.000000  \n",
       "748  1.000000  \n",
       "749  1.000000  \n",
       "750  1.000000  \n",
       "751  1.000000  \n",
       "752  1.000000  \n",
       "753  1.000000  \n",
       "754  1.000000  \n",
       "755  1.000000  \n",
       "756  1.000000  \n",
       "757  1.000000  \n",
       "758  1.000000  \n",
       "759  1.000000  \n",
       "760  1.000000  \n",
       "761  1.000000  \n",
       "762  1.000000  \n",
       "763  1.000000  \n",
       "764  1.000000  \n",
       "765  1.000000  \n",
       "766  1.000000  \n",
       "767  1.000000  \n",
       "768  1.000000  \n",
       "769  1.000000  \n",
       "770  1.000000  \n",
       "771  1.000000  \n",
       "772  1.000000  \n",
       "773  1.000000  \n",
       "774  1.000000  \n",
       "775  1.000000  \n",
       "\n",
       "[776 rows x 6 columns]"
      ]
     },
     "execution_count": 105,
     "metadata": {},
     "output_type": "execute_result"
    }
   ],
   "source": [
    "a = author_counts.merge(author_label_counts, on='author_name_slug')\n",
    "a['pct'] = a['label_count'] / a['total_count']\n",
    "a"
   ]
  },
  {
   "cell_type": "code",
   "execution_count": null,
   "metadata": {},
   "outputs": [],
   "source": []
  },
  {
   "cell_type": "code",
   "execution_count": null,
   "metadata": {},
   "outputs": [],
   "source": []
  },
  {
   "cell_type": "code",
   "execution_count": null,
   "metadata": {},
   "outputs": [],
   "source": []
  },
  {
   "cell_type": "code",
   "execution_count": null,
   "metadata": {},
   "outputs": [],
   "source": []
  },
  {
   "cell_type": "code",
   "execution_count": null,
   "metadata": {},
   "outputs": [],
   "source": []
  },
  {
   "cell_type": "code",
   "execution_count": null,
   "metadata": {},
   "outputs": [],
   "source": []
  },
  {
   "cell_type": "code",
   "execution_count": null,
   "metadata": {},
   "outputs": [],
   "source": []
  },
  {
   "cell_type": "code",
   "execution_count": null,
   "metadata": {},
   "outputs": [],
   "source": []
  }
 ],
 "metadata": {
  "hide_input": false,
  "kernelspec": {
   "display_name": "Python 3",
   "language": "python",
   "name": "python3"
  },
  "language_info": {
   "codemirror_mode": {
    "name": "ipython",
    "version": 3
   },
   "file_extension": ".py",
   "mimetype": "text/x-python",
   "name": "python",
   "nbconvert_exporter": "python",
   "pygments_lexer": "ipython3",
   "version": "3.6.7"
  },
  "toc": {
   "base_numbering": 1,
   "nav_menu": {
    "height": "49.1333px",
    "width": "252px"
   },
   "number_sections": true,
   "sideBar": true,
   "skip_h1_title": false,
   "title_cell": "Table of Contents",
   "title_sidebar": "Contents",
   "toc_cell": false,
   "toc_position": {},
   "toc_section_display": "block",
   "toc_window_display": false
  }
 },
 "nbformat": 4,
 "nbformat_minor": 2
}
