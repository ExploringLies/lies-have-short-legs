{
 "cells": [
  {
   "cell_type": "markdown",
   "metadata": {},
   "source": [
    "# Imports & General stuff"
   ]
  },
  {
   "cell_type": "code",
   "execution_count": 1,
   "metadata": {
    "ExecuteTime": {
     "end_time": "2018-12-16T22:56:08.831164Z",
     "start_time": "2018-12-16T22:56:08.814893Z"
    }
   },
   "outputs": [
    {
     "data": {
      "text/html": [
       "<style>.container { width:95% !important; }</style>"
      ],
      "text/plain": [
       "<IPython.core.display.HTML object>"
      ]
     },
     "metadata": {},
     "output_type": "display_data"
    }
   ],
   "source": [
    "def fix_layout(width:int=95):\n",
    "    from IPython.core.display import display, HTML\n",
    "    display(HTML('<style>.container { width:' + str(width) + '% !important; }</style>'))\n",
    "    \n",
    "fix_layout()"
   ]
  },
  {
   "cell_type": "markdown",
   "metadata": {},
   "source": [
    "This notebook is dedicated to datasets analysis. \n",
    "\n",
    "Here we will concentrate on connecting our datasets into one dataframe that will later be used to extract meaningful information that can help us answer our research questions. \n",
    "\n",
    "In addition, data cleaning is performed where necessary since we will not use all the data provided. The goal of this notebook is to make data as easy as possible to use for future plotting and data story writing.\n",
    "\n",
    "So, let's dive into our data!"
   ]
  },
  {
   "cell_type": "code",
   "execution_count": 2,
   "metadata": {
    "ExecuteTime": {
     "end_time": "2018-12-16T22:56:10.921526Z",
     "start_time": "2018-12-16T22:56:09.559520Z"
    }
   },
   "outputs": [
    {
     "data": {
      "text/plain": [
       "<module 'utils.statement_handling' from '../src/utils/statement_handling.py'>"
      ]
     },
     "execution_count": 2,
     "metadata": {},
     "output_type": "execute_result"
    }
   ],
   "source": [
    "import os\n",
    "import re\n",
    "import json\n",
    "import time\n",
    "import datetime\n",
    "from functools import reduce\n",
    "from itertools import product\n",
    "\n",
    "from json import load, JSONDecodeError\n",
    "from functional import pseq, seq\n",
    "import pandas as pd\n",
    "import pandas_profiling\n",
    "import requests\n",
    "import pathlib\n",
    "\n",
    "# necessary to load the utils, which are in src\n",
    "import sys\n",
    "sys.path.append('../src')\n",
    "\n",
    "from utils import file, logging\n",
    "from utils.statement_handling import extract_information, safe_json_read\n",
    "\n",
    "from importlib import reload\n",
    "import matplotlib.pyplot as plt\n",
    "import seaborn as sns\n",
    "sns.set(style=\"whitegrid\", palette=\"pastel\")\n",
    "\n",
    "%matplotlib inline\n",
    "import utils.statement_handling as SH\n",
    "reload(SH)"
   ]
  },
  {
   "cell_type": "code",
   "execution_count": 3,
   "metadata": {
    "ExecuteTime": {
     "end_time": "2018-12-16T22:56:10.926648Z",
     "start_time": "2018-12-16T22:56:10.923474Z"
    }
   },
   "outputs": [],
   "source": [
    "def group_and_count(df, groupby_column, with_pct=False, with_avg=False):\n",
    "    result = df.groupby(groupby_column).size().sort_values(ascending=False).reset_index().rename(columns={0: 'count'})\n",
    "    if with_pct:\n",
    "        result['count_pct'] = result['count'] / result['count'].sum()\n",
    "    if with_avg:\n",
    "        result['count_avg'] = result['count'].mean()\n",
    "    return result"
   ]
  },
  {
   "cell_type": "code",
   "execution_count": 4,
   "metadata": {
    "ExecuteTime": {
     "end_time": "2018-12-16T22:56:10.965822Z",
     "start_time": "2018-12-16T22:56:10.928722Z"
    }
   },
   "outputs": [],
   "source": [
    "directory_liar_dataset = \"../data/liar_dataset\"\n",
    "directory_statements = f\"{directory_liar_dataset}/statements\"\n",
    "directory_visualizations = \"../docs/data_insight\"\n",
    "directory_election_results = \"../data/election_results\"\n",
    "directory_county_data = \"../data/county_data\""
   ]
  },
  {
   "cell_type": "markdown",
   "metadata": {},
   "source": [
    "# Statements"
   ]
  },
  {
   "cell_type": "code",
   "execution_count": 5,
   "metadata": {
    "ExecuteTime": {
     "end_time": "2018-12-16T22:56:15.574296Z",
     "start_time": "2018-12-16T22:56:12.200931Z"
    }
   },
   "outputs": [
    {
     "name": "stderr",
     "output_type": "stream",
     "text": [
      "ERROR:root:File ../data/liar_dataset/statements/5355.json is empty or something...\n",
      "ERROR:root:File ../data/liar_dataset/statements/9.json is empty or something...\n"
     ]
    },
    {
     "data": {
      "text/html": [
       "<div>\n",
       "<style scoped>\n",
       "    .dataframe tbody tr th:only-of-type {\n",
       "        vertical-align: middle;\n",
       "    }\n",
       "\n",
       "    .dataframe tbody tr th {\n",
       "        vertical-align: top;\n",
       "    }\n",
       "\n",
       "    .dataframe thead th {\n",
       "        text-align: right;\n",
       "    }\n",
       "</style>\n",
       "<table border=\"1\" class=\"dataframe\">\n",
       "  <thead>\n",
       "    <tr style=\"text-align: right;\">\n",
       "      <th></th>\n",
       "      <th>author_name_slug</th>\n",
       "      <th>context</th>\n",
       "      <th>label</th>\n",
       "      <th>party</th>\n",
       "      <th>ruling_date</th>\n",
       "      <th>speaker_current_job</th>\n",
       "      <th>speaker_first_name</th>\n",
       "      <th>speaker_home_state</th>\n",
       "      <th>speaker_last_name</th>\n",
       "      <th>statement</th>\n",
       "      <th>statement_date</th>\n",
       "      <th>statement_id</th>\n",
       "      <th>statement_type</th>\n",
       "      <th>statement_type_description</th>\n",
       "      <th>subject</th>\n",
       "    </tr>\n",
       "  </thead>\n",
       "  <tbody>\n",
       "    <tr>\n",
       "      <th>0</th>\n",
       "      <td>lauren-carroll</td>\n",
       "      <td>a speech at Northwestern University</td>\n",
       "      <td>mostly-true</td>\n",
       "      <td>Democrat</td>\n",
       "      <td>2014-10-08T14:09:46</td>\n",
       "      <td>President</td>\n",
       "      <td>Barack</td>\n",
       "      <td>Illinois</td>\n",
       "      <td>Obama</td>\n",
       "      <td>The cost of health care is now the single-bigg...</td>\n",
       "      <td>2014-10-02</td>\n",
       "      <td>10039</td>\n",
       "      <td>Claim</td>\n",
       "      <td>blog post</td>\n",
       "      <td>Deficit</td>\n",
       "    </tr>\n",
       "    <tr>\n",
       "      <th>1</th>\n",
       "      <td>manuela-tobias</td>\n",
       "      <td>in an ad</td>\n",
       "      <td>barely-true</td>\n",
       "      <td>Republican</td>\n",
       "      <td>2017-08-25T11:24:04</td>\n",
       "      <td></td>\n",
       "      <td></td>\n",
       "      <td></td>\n",
       "      <td>Senate Leadership Fund</td>\n",
       "      <td>Says Kelli Ward hosted a town hall on chemtrai...</td>\n",
       "      <td>2017-08-22</td>\n",
       "      <td>14464</td>\n",
       "      <td>Claim</td>\n",
       "      <td>blog post</td>\n",
       "      <td>Candidate Biography</td>\n",
       "    </tr>\n",
       "    <tr>\n",
       "      <th>2</th>\n",
       "      <td>brittany-alana-davis</td>\n",
       "      <td>remarks</td>\n",
       "      <td>mostly-true</td>\n",
       "      <td>Republican</td>\n",
       "      <td>2012-08-21T16:40:06</td>\n",
       "      <td>U.S. representative from Fort Myers</td>\n",
       "      <td>Connie</td>\n",
       "      <td>Florida</td>\n",
       "      <td>Mack</td>\n",
       "      <td>A small business in my district needed 31 diff...</td>\n",
       "      <td>2012-08-11</td>\n",
       "      <td>6501</td>\n",
       "      <td>Claim</td>\n",
       "      <td>blog post</td>\n",
       "      <td>Government regulation</td>\n",
       "    </tr>\n",
       "    <tr>\n",
       "      <th>3</th>\n",
       "      <td>dan-levy</td>\n",
       "      <td>a speech to the AFL-CIO Convention</td>\n",
       "      <td>barely-true</td>\n",
       "      <td>Democrat</td>\n",
       "      <td>2016-04-06T13:02:13</td>\n",
       "      <td>Presidential candidate</td>\n",
       "      <td>Hillary</td>\n",
       "      <td>New York</td>\n",
       "      <td>Clinton</td>\n",
       "      <td>When mentioning Villanova&amp;rsquo;s buzzer-beati...</td>\n",
       "      <td>2016-04-06</td>\n",
       "      <td>12192</td>\n",
       "      <td>Claim</td>\n",
       "      <td>blog post</td>\n",
       "      <td>Sports</td>\n",
       "    </tr>\n",
       "    <tr>\n",
       "      <th>4</th>\n",
       "      <td>c-eugene-emery</td>\n",
       "      <td>a television interview</td>\n",
       "      <td>false</td>\n",
       "      <td>Newsmaker</td>\n",
       "      <td>2011-05-31T00:01:00</td>\n",
       "      <td>President, Rhode Society for the Prevention of...</td>\n",
       "      <td>E.J.</td>\n",
       "      <td>Rhode Island</td>\n",
       "      <td>Finocchio</td>\n",
       "      <td>Most of your serial killers, most of your peop...</td>\n",
       "      <td>2011-04-24</td>\n",
       "      <td>3824</td>\n",
       "      <td>Claim</td>\n",
       "      <td>blog post</td>\n",
       "      <td>Animals</td>\n",
       "    </tr>\n",
       "  </tbody>\n",
       "</table>\n",
       "</div>"
      ],
      "text/plain": [
       "       author_name_slug                              context        label  \\\n",
       "0        lauren-carroll  a speech at Northwestern University  mostly-true   \n",
       "1        manuela-tobias                             in an ad  barely-true   \n",
       "2  brittany-alana-davis                              remarks  mostly-true   \n",
       "3              dan-levy   a speech to the AFL-CIO Convention  barely-true   \n",
       "4        c-eugene-emery               a television interview        false   \n",
       "\n",
       "        party          ruling_date  \\\n",
       "0    Democrat  2014-10-08T14:09:46   \n",
       "1  Republican  2017-08-25T11:24:04   \n",
       "2  Republican  2012-08-21T16:40:06   \n",
       "3    Democrat  2016-04-06T13:02:13   \n",
       "4   Newsmaker  2011-05-31T00:01:00   \n",
       "\n",
       "                                 speaker_current_job speaker_first_name  \\\n",
       "0                                          President             Barack   \n",
       "1                                                                         \n",
       "2                U.S. representative from Fort Myers             Connie   \n",
       "3                             Presidential candidate            Hillary   \n",
       "4  President, Rhode Society for the Prevention of...               E.J.   \n",
       "\n",
       "  speaker_home_state       speaker_last_name  \\\n",
       "0           Illinois                   Obama   \n",
       "1                     Senate Leadership Fund   \n",
       "2            Florida                    Mack   \n",
       "3           New York                 Clinton   \n",
       "4       Rhode Island               Finocchio   \n",
       "\n",
       "                                           statement statement_date  \\\n",
       "0  The cost of health care is now the single-bigg...     2014-10-02   \n",
       "1  Says Kelli Ward hosted a town hall on chemtrai...     2017-08-22   \n",
       "2  A small business in my district needed 31 diff...     2012-08-11   \n",
       "3  When mentioning Villanova&rsquo;s buzzer-beati...     2016-04-06   \n",
       "4  Most of your serial killers, most of your peop...     2011-04-24   \n",
       "\n",
       "   statement_id statement_type statement_type_description  \\\n",
       "0         10039          Claim                 blog post    \n",
       "1         14464          Claim                 blog post    \n",
       "2          6501          Claim                 blog post    \n",
       "3         12192          Claim                 blog post    \n",
       "4          3824          Claim                 blog post    \n",
       "\n",
       "                 subject  \n",
       "0                Deficit  \n",
       "1    Candidate Biography  \n",
       "2  Government regulation  \n",
       "3                 Sports  \n",
       "4                Animals  "
      ]
     },
     "execution_count": 5,
     "metadata": {},
     "output_type": "execute_result"
    }
   ],
   "source": [
    "statements = seq(pathlib.Path(directory_statements).iterdir()).map(SH.safe_json_read)\\\n",
    "                               .filter(lambda x: len(x) > 0)\\\n",
    "                               .map(SH.extract_information)\\\n",
    "                               .to_pandas()\n",
    "\n",
    "statements['statement_date'] = pd.to_datetime(statements['statement_date'])\n",
    "statements.head()"
   ]
  },
  {
   "cell_type": "code",
   "execution_count": 6,
   "metadata": {
    "ExecuteTime": {
     "end_time": "2018-12-16T22:56:15.582230Z",
     "start_time": "2018-12-16T22:56:15.577086Z"
    }
   },
   "outputs": [
    {
     "data": {
      "text/plain": [
       "(15471, 15)"
      ]
     },
     "execution_count": 6,
     "metadata": {},
     "output_type": "execute_result"
    }
   ],
   "source": [
    "statements.shape"
   ]
  },
  {
   "cell_type": "markdown",
   "metadata": {},
   "source": [
    "# Label counts"
   ]
  },
  {
   "cell_type": "code",
   "execution_count": 7,
   "metadata": {
    "ExecuteTime": {
     "end_time": "2018-12-16T22:56:15.609644Z",
     "start_time": "2018-12-16T22:56:15.584766Z"
    }
   },
   "outputs": [],
   "source": [
    "truhometer_labels = ['pants-fire', 'false', 'mostly-false', 'half-true', 'mostly-true', 'true']\n",
    "truhometer_labels = ['pants-fire', 'false', 'half-true', 'mostly-true', 'true']\n",
    "only_truthometer_label_idx = statements['label'].isin(truhometer_labels)"
   ]
  },
  {
   "cell_type": "code",
   "execution_count": 10,
   "metadata": {
    "ExecuteTime": {
     "end_time": "2018-12-16T22:56:27.061102Z",
     "start_time": "2018-12-16T22:56:26.876562Z"
    }
   },
   "outputs": [
    {
     "data": {
      "image/png": "[encoded data removed]",
      "text/plain": [
       "<Figure size 432x288 with 1 Axes>"
      ]
     },
     "metadata": {
      "needs_background": "light"
     },
     "output_type": "display_data"
    }
   ],
   "source": [
    "sns.barplot(data=group_and_count(statements.loc[only_truthometer_label_idx, :], 'label'), x='count', y='label', order=truhometer_labels)\n",
    "plt.title(\"Count of label-types\")\n",
    "plt.tight_layout()\n",
    "plt.savefig('../docs/images/label_counts_overall.png')"
   ]
  },
  {
   "cell_type": "code",
   "execution_count": 9,
   "metadata": {
    "ExecuteTime": {
     "end_time": "2018-12-16T22:56:15.853770Z",
     "start_time": "2018-12-16T22:56:15.823356Z"
    }
   },
   "outputs": [
    {
     "data": {
      "text/html": [
       "<div>\n",
       "<style scoped>\n",
       "    .dataframe tbody tr th:only-of-type {\n",
       "        vertical-align: middle;\n",
       "    }\n",
       "\n",
       "    .dataframe tbody tr th {\n",
       "        vertical-align: top;\n",
       "    }\n",
       "\n",
       "    .dataframe thead th {\n",
       "        text-align: right;\n",
       "    }\n",
       "</style>\n",
       "<table border=\"1\" class=\"dataframe\">\n",
       "  <thead>\n",
       "    <tr style=\"text-align: right;\">\n",
       "      <th></th>\n",
       "      <th>statement_date</th>\n",
       "    </tr>\n",
       "  </thead>\n",
       "  <tbody>\n",
       "    <tr>\n",
       "      <th>count</th>\n",
       "      <td>12642</td>\n",
       "    </tr>\n",
       "    <tr>\n",
       "      <th>unique</th>\n",
       "      <td>3415</td>\n",
       "    </tr>\n",
       "    <tr>\n",
       "      <th>top</th>\n",
       "      <td>2011-10-11 00:00:00</td>\n",
       "    </tr>\n",
       "    <tr>\n",
       "      <th>freq</th>\n",
       "      <td>22</td>\n",
       "    </tr>\n",
       "    <tr>\n",
       "      <th>first</th>\n",
       "      <td>2000-10-01 00:00:00</td>\n",
       "    </tr>\n",
       "    <tr>\n",
       "      <th>last</th>\n",
       "      <td>2018-11-21 00:00:00</td>\n",
       "    </tr>\n",
       "  </tbody>\n",
       "</table>\n",
       "</div>"
      ],
      "text/plain": [
       "             statement_date\n",
       "count                 12642\n",
       "unique                 3415\n",
       "top     2011-10-11 00:00:00\n",
       "freq                     22\n",
       "first   2000-10-01 00:00:00\n",
       "last    2018-11-21 00:00:00"
      ]
     },
     "execution_count": 9,
     "metadata": {},
     "output_type": "execute_result"
    }
   ],
   "source": [
    "statements.loc[only_truthometer_label_idx,['statement_date']].describe()"
   ]
  },
  {
   "cell_type": "code",
   "execution_count": 61,
   "metadata": {
    "ExecuteTime": {
     "end_time": "2018-12-16T16:38:44.104209Z",
     "start_time": "2018-12-16T16:38:44.085513Z"
    }
   },
   "outputs": [
    {
     "data": {
      "text/plain": [
       "(12642, 1)"
      ]
     },
     "execution_count": 61,
     "metadata": {},
     "output_type": "execute_result"
    }
   ],
   "source": [
    "statements.loc[only_truthometer_label_idx,['statement_date']].shape"
   ]
  },
  {
   "cell_type": "code",
   "execution_count": 11,
   "metadata": {
    "ExecuteTime": {
     "end_time": "2018-12-16T22:56:37.176368Z",
     "start_time": "2018-12-16T22:56:36.407801Z"
    },
    "scrolled": true
   },
   "outputs": [
    {
     "data": {
      "image/png": "[encoded data removed]",
      "text/plain": [
       "<Figure size 1440x720 with 1 Axes>"
      ]
     },
     "metadata": {
      "needs_background": "light"
     },
     "output_type": "display_data"
    }
   ],
   "source": [
    "a = statements['statement_date'].dt.year\n",
    "b = a.value_counts().index\n",
    "b = sorted(list(b))\n",
    "\n",
    "def add_year(df, year):\n",
    "    df['year'] = year\n",
    "    return df\n",
    "\n",
    "\n",
    "d = pd.concat([add_year(group_and_count(statements.loc[(statements['statement_date'].dt.year == year) & only_truthometer_label_idx,: ], 'label'), year) for year in b])\n",
    "f = plt.figure(figsize=(20, 10))\n",
    "plt.tight_layout()\n",
    "sns.barplot(data=d, x='count', y='label', hue='year', order=truhometer_labels)\n",
    "plt.title(\"Count of labels over the years\")\n",
    "plt.savefig('../docs/images/labels_over_years.png')"
   ]
  },
  {
   "cell_type": "markdown",
   "metadata": {},
   "source": [
    "## parties"
   ]
  },
  {
   "cell_type": "code",
   "execution_count": 12,
   "metadata": {
    "ExecuteTime": {
     "end_time": "2018-12-16T22:56:41.817527Z",
     "start_time": "2018-12-16T22:56:41.808715Z"
    }
   },
   "outputs": [],
   "source": [
    "statements = statements.loc[only_truthometer_label_idx]"
   ]
  },
  {
   "cell_type": "code",
   "execution_count": 13,
   "metadata": {
    "ExecuteTime": {
     "end_time": "2018-12-16T22:56:42.227358Z",
     "start_time": "2018-12-16T22:56:42.218248Z"
    }
   },
   "outputs": [],
   "source": [
    "parties_of_interest = ['Republican', 'Democrat']"
   ]
  },
  {
   "cell_type": "code",
   "execution_count": 15,
   "metadata": {
    "ExecuteTime": {
     "end_time": "2018-12-16T22:56:50.311538Z",
     "start_time": "2018-12-16T22:56:50.054471Z"
    }
   },
   "outputs": [
    {
     "data": {
      "image/png": "[encoded data removed]",
      "text/plain": [
       "<Figure size 432x288 with 1 Axes>"
      ]
     },
     "metadata": {
      "needs_background": "light"
     },
     "output_type": "display_data"
    }
   ],
   "source": [
    "sns.barplot(data=group_and_count(statements, 'party')[:10], y='party', x='count')\n",
    "plt.xlabel('Number of statements')\n",
    "plt.ylabel('Group')\n",
    "plt.title('Number of statements for the largest 10 groups')\n",
    "plt.tight_layout()\n",
    "plt.savefig('../docs/images/nb_statements_10_largest_groups.png')"
   ]
  },
  {
   "cell_type": "code",
   "execution_count": 16,
   "metadata": {
    "ExecuteTime": {
     "end_time": "2018-12-16T22:56:54.011705Z",
     "start_time": "2018-12-16T22:56:53.728233Z"
    }
   },
   "outputs": [
    {
     "data": {
      "image/png": "[encoded data removed]",
      "text/plain": [
       "<Figure size 720x360 with 1 Axes>"
      ]
     },
     "metadata": {
      "needs_background": "light"
     },
     "output_type": "display_data"
    }
   ],
   "source": [
    "plt.figure(figsize=(10, 5))\n",
    "sns.barplot(data=group_and_count(statements.loc[statements.party.isin(parties_of_interest), :], ['party', 'label']), y='party', x='count', hue='label', hue_order=truhometer_labels)\n",
    "plt.xlabel('Number of rulings')\n",
    "plt.ylabel('Party')\n",
    "plt.title('Number of rulings for the two major parties')\n",
    "plt.tight_layout()\n",
    "plt.savefig('../docs/images/nb_rulings_for_major_parties.png')"
   ]
  },
  {
   "cell_type": "code",
   "execution_count": 19,
   "metadata": {
    "ExecuteTime": {
     "end_time": "2018-12-16T22:58:28.894121Z",
     "start_time": "2018-12-16T22:58:28.781981Z"
    }
   },
   "outputs": [],
   "source": [
    "statements['simple_label'] = statements.label.apply(SH.simplify_label)"
   ]
  },
  {
   "cell_type": "code",
   "execution_count": 20,
   "metadata": {
    "ExecuteTime": {
     "end_time": "2018-12-16T22:58:29.622238Z",
     "start_time": "2018-12-16T22:58:29.549206Z"
    }
   },
   "outputs": [
    {
     "data": {
      "text/html": [
       "<div>\n",
       "<style scoped>\n",
       "    .dataframe tbody tr th:only-of-type {\n",
       "        vertical-align: middle;\n",
       "    }\n",
       "\n",
       "    .dataframe tbody tr th {\n",
       "        vertical-align: top;\n",
       "    }\n",
       "\n",
       "    .dataframe thead th {\n",
       "        text-align: right;\n",
       "    }\n",
       "</style>\n",
       "<table border=\"1\" class=\"dataframe\">\n",
       "  <thead>\n",
       "    <tr style=\"text-align: right;\">\n",
       "      <th></th>\n",
       "      <th>party</th>\n",
       "      <th>simple_label</th>\n",
       "      <th>label_count</th>\n",
       "      <th>party_count</th>\n",
       "      <th>in_group_pct</th>\n",
       "    </tr>\n",
       "  </thead>\n",
       "  <tbody>\n",
       "    <tr>\n",
       "      <th>0</th>\n",
       "      <td>Republican</td>\n",
       "      <td>true</td>\n",
       "      <td>3255</td>\n",
       "      <td>5313</td>\n",
       "      <td>0.612648</td>\n",
       "    </tr>\n",
       "    <tr>\n",
       "      <th>1</th>\n",
       "      <td>Republican</td>\n",
       "      <td>false</td>\n",
       "      <td>2058</td>\n",
       "      <td>5313</td>\n",
       "      <td>0.387352</td>\n",
       "    </tr>\n",
       "    <tr>\n",
       "      <th>2</th>\n",
       "      <td>Democrat</td>\n",
       "      <td>true</td>\n",
       "      <td>3105</td>\n",
       "      <td>3962</td>\n",
       "      <td>0.783695</td>\n",
       "    </tr>\n",
       "    <tr>\n",
       "      <th>3</th>\n",
       "      <td>Democrat</td>\n",
       "      <td>false</td>\n",
       "      <td>857</td>\n",
       "      <td>3962</td>\n",
       "      <td>0.216305</td>\n",
       "    </tr>\n",
       "  </tbody>\n",
       "</table>\n",
       "</div>"
      ],
      "text/plain": [
       "        party simple_label  label_count  party_count  in_group_pct\n",
       "0  Republican         true         3255         5313      0.612648\n",
       "1  Republican        false         2058         5313      0.387352\n",
       "2    Democrat         true         3105         3962      0.783695\n",
       "3    Democrat        false          857         3962      0.216305"
      ]
     },
     "execution_count": 20,
     "metadata": {},
     "output_type": "execute_result"
    }
   ],
   "source": [
    "a = group_and_count(statements.loc[statements.party.isin(parties_of_interest), :], ['party', 'simple_label']).rename(columns={'count': 'label_count'})\n",
    "b = group_and_count(statements.loc[statements.party.isin(parties_of_interest), :], ['party']).rename(columns={'count': 'party_count'})\n",
    "c = pd.merge(a, b)\n",
    "c['in_group_pct'] = c['label_count'] / c['party_count']\n",
    "c"
   ]
  },
  {
   "cell_type": "code",
   "execution_count": 22,
   "metadata": {
    "ExecuteTime": {
     "end_time": "2018-12-16T22:58:37.839470Z",
     "start_time": "2018-12-16T22:58:37.627748Z"
    }
   },
   "outputs": [
    {
     "data": {
      "image/png": "[encoded data removed]",
      "text/plain": [
       "<Figure size 720x360 with 1 Axes>"
      ]
     },
     "metadata": {
      "needs_background": "light"
     },
     "output_type": "display_data"
    }
   ],
   "source": [
    "plt.figure(figsize=(10, 5))\n",
    "sns.barplot(data=group_and_count(statements.loc[statements.party.isin(parties_of_interest), :], ['party', 'simple_label']), y='party', x='count', hue='simple_label')\n",
    "plt.xlabel('Number of rulings')\n",
    "plt.ylabel('Party')\n",
    "plt.tight_layout()\n",
    "plt.title('Number of simplified rulings for the two major parties')\n",
    "plt.savefig('../docs/images/nb_simple_rulings_for_major_parties.png')"
   ]
  },
  {
   "cell_type": "code",
   "execution_count": 23,
   "metadata": {
    "ExecuteTime": {
     "end_time": "2018-12-16T22:58:43.557264Z",
     "start_time": "2018-12-16T22:58:43.164327Z"
    }
   },
   "outputs": [
    {
     "name": "stderr",
     "output_type": "stream",
     "text": [
      "/home/sam/.local/bin/miniconda3/envs/sci/lib/python3.6/site-packages/scipy/stats/stats.py:1713: FutureWarning: Using a non-tuple sequence for multidimensional indexing is deprecated; use `arr[tuple(seq)]` instead of `arr[seq]`. In the future this will be interpreted as an array index, `arr[np.array(seq)]`, which will result either in an error or a different result.\n",
      "  return np.add.reduce(sorted[indexer] * weights, axis=axis) / sumval\n"
     ]
    },
    {
     "data": {
      "image/png": "[encoded data removed]",
      "text/plain": [
       "<Figure size 432x288 with 1 Axes>"
      ]
     },
     "metadata": {
      "needs_background": "light"
     },
     "output_type": "display_data"
    }
   ],
   "source": [
    "import numpy as np\n",
    "statements['year'] = statements.statement_date.dt.year\n",
    "count_per_year_and_label = pd.pivot_table(group_and_count(statements.loc[statements.party.isin(parties_of_interest)], ['year', 'party', 'simple_label']), values=['count'], columns=['simple_label'], index=['year', 'party'])\n",
    "\n",
    "# sometimes I fucking hate multi-index...\n",
    "count_per_year_and_label = pd.DataFrame(count_per_year_and_label.reset_index().values, columns=['year', 'party', 'nb_false_statements', 'nb_true_statements'])\n",
    "count_per_year_and_label['ratio'] = 0\n",
    "for party in parties_of_interest:\n",
    "    _idx = count_per_year_and_label['party'].eq(party)\n",
    "    count_per_year_and_label.loc[_idx, 'ratio'] = count_per_year_and_label.loc[_idx, 'nb_false_statements'] / count_per_year_and_label.loc[_idx, 'nb_true_statements']\n",
    "    \n",
    "\n",
    "count_per_year_and_label['ratio'] = pd.to_numeric(count_per_year_and_label['ratio'])\n",
    "count_per_year_and_label['year'] = count_per_year_and_label.year.astype(np.int)\n",
    "\n",
    "#for party in parties_of_interest:\n",
    "#    sns.regplot(data=count_per_year_and_label.loc[count_per_year_and_label.party.eq(party), :], x='year', y='ratio', )\n",
    "\n",
    "#sns.lineplot(data=count_per_year_and_label, x='year', y='ratio', hue='party')\n",
    "#plt.title('Ratio of false to true statements over the years')\n",
    "#plt.savefig('../docs/images/ratio_false_true_parties.png')\n",
    "\n",
    "for party in reversed(parties_of_interest):\n",
    "    sns.regplot( data=count_per_year_and_label.loc[count_per_year_and_label.party.eq(party), :], x='year', y='ratio', label=party)\n",
    "    \n",
    "plt.legend()\n",
    "plt.tight_layout()\n",
    "plt.title('Ratio of false to true statements over the years')\n",
    "plt.savefig('../docs/images/ratio_false_true_parties.png')"
   ]
  },
  {
   "cell_type": "markdown",
   "metadata": {},
   "source": [
    "## authors"
   ]
  },
  {
   "cell_type": "code",
   "execution_count": 26,
   "metadata": {
    "ExecuteTime": {
     "end_time": "2018-12-16T22:58:54.163240Z",
     "start_time": "2018-12-16T22:58:54.132069Z"
    }
   },
   "outputs": [],
   "source": [
    "statements['simple_label'] = statements['label'].apply(SH.simplify_label)\n",
    "a = statements.loc[statements['party'].isin(parties_of_interest), :]\n",
    "\n",
    "author_counts = group_and_count(a, 'author_name_slug').rename(columns={'count': 'total_count'})\n",
    "author_label_counts = group_and_count(a, ['author_name_slug', 'simple_label', 'party']).rename(columns={'count': 'label_count'})"
   ]
  },
  {
   "cell_type": "code",
   "execution_count": 27,
   "metadata": {
    "ExecuteTime": {
     "end_time": "2018-12-16T22:58:54.574758Z",
     "start_time": "2018-12-16T22:58:54.552769Z"
    }
   },
   "outputs": [
    {
     "ename": "KeyError",
     "evalue": "'label_count'",
     "output_type": "error",
     "traceback": [
      "\u001b[0;31m---------------------------------------------------------------------------\u001b[0m",
      "\u001b[0;31mKeyError\u001b[0m                                  Traceback (most recent call last)",
      "\u001b[0;32m<ipython-input-27-c3fe7639b009>\u001b[0m in \u001b[0;36m<module>\u001b[0;34m()\u001b[0m\n\u001b[0;32m----> 1\u001b[0;31m \u001b[0mpd\u001b[0m\u001b[0;34m.\u001b[0m\u001b[0mpivot_table\u001b[0m\u001b[0;34m(\u001b[0m\u001b[0ma\u001b[0m\u001b[0;34m.\u001b[0m\u001b[0mloc\u001b[0m\u001b[0;34m[\u001b[0m\u001b[0ma\u001b[0m\u001b[0;34m.\u001b[0m\u001b[0mparty\u001b[0m\u001b[0;34m.\u001b[0m\u001b[0meq\u001b[0m\u001b[0;34m(\u001b[0m\u001b[0;34m'Republican'\u001b[0m\u001b[0;34m)\u001b[0m\u001b[0;34m]\u001b[0m\u001b[0;34m,\u001b[0m \u001b[0mvalues\u001b[0m\u001b[0;34m=\u001b[0m\u001b[0;34m[\u001b[0m\u001b[0;34m'label_count'\u001b[0m\u001b[0;34m]\u001b[0m\u001b[0;34m,\u001b[0m \u001b[0mcolumns\u001b[0m\u001b[0;34m=\u001b[0m\u001b[0;34m[\u001b[0m\u001b[0;34m'simple_label'\u001b[0m\u001b[0;34m]\u001b[0m\u001b[0;34m,\u001b[0m \u001b[0mindex\u001b[0m\u001b[0;34m=\u001b[0m\u001b[0;34m'author_name_slug'\u001b[0m\u001b[0;34m)\u001b[0m\u001b[0;34m.\u001b[0m\u001b[0mreset_index\u001b[0m\u001b[0;34m(\u001b[0m\u001b[0;34m)\u001b[0m\u001b[0;34m[\u001b[0m\u001b[0;34m:\u001b[0m\u001b[0;36m10\u001b[0m\u001b[0;34m]\u001b[0m\u001b[0;34m\u001b[0m\u001b[0;34m\u001b[0m\u001b[0m\n\u001b[0m",
      "\u001b[0;32m~/.local/bin/miniconda3/envs/sci/lib/python3.6/site-packages/pandas/core/reshape/pivot.py\u001b[0m in \u001b[0;36mpivot_table\u001b[0;34m(data, values, index, columns, aggfunc, fill_value, margins, dropna, margins_name)\u001b[0m\n\u001b[1;32m     59\u001b[0m         \u001b[0;32mfor\u001b[0m \u001b[0mi\u001b[0m \u001b[0;32min\u001b[0m \u001b[0mvalues\u001b[0m\u001b[0;34m:\u001b[0m\u001b[0;34m\u001b[0m\u001b[0;34m\u001b[0m\u001b[0m\n\u001b[1;32m     60\u001b[0m             \u001b[0;32mif\u001b[0m \u001b[0mi\u001b[0m \u001b[0;32mnot\u001b[0m \u001b[0;32min\u001b[0m \u001b[0mdata\u001b[0m\u001b[0;34m:\u001b[0m\u001b[0;34m\u001b[0m\u001b[0;34m\u001b[0m\u001b[0m\n\u001b[0;32m---> 61\u001b[0;31m                 \u001b[0;32mraise\u001b[0m \u001b[0mKeyError\u001b[0m\u001b[0;34m(\u001b[0m\u001b[0mi\u001b[0m\u001b[0;34m)\u001b[0m\u001b[0;34m\u001b[0m\u001b[0;34m\u001b[0m\u001b[0m\n\u001b[0m\u001b[1;32m     62\u001b[0m \u001b[0;34m\u001b[0m\u001b[0m\n\u001b[1;32m     63\u001b[0m         \u001b[0mto_filter\u001b[0m \u001b[0;34m=\u001b[0m \u001b[0;34m[\u001b[0m\u001b[0;34m]\u001b[0m\u001b[0;34m\u001b[0m\u001b[0;34m\u001b[0m\u001b[0m\n",
      "\u001b[0;31mKeyError\u001b[0m: 'label_count'"
     ]
    }
   ],
   "source": [
    "pd.pivot_table(a.loc[a.party.eq('Republican')], values=['label_count'], columns=['simple_label'], index='author_name_slug').reset_index()[:10]"
   ]
  },
  {
   "cell_type": "code",
   "execution_count": 28,
   "metadata": {
    "ExecuteTime": {
     "end_time": "2018-12-16T22:59:00.436007Z",
     "start_time": "2018-12-16T22:59:00.407158Z"
    }
   },
   "outputs": [
    {
     "data": {
      "text/plain": [
       "43"
      ]
     },
     "execution_count": 28,
     "metadata": {},
     "output_type": "execute_result"
    }
   ],
   "source": [
    "_t = group_and_count(statements, 'author_name_slug', with_pct=True)\n",
    "_t['pct_sum'] = np.cumsum(group_and_count(statements, 'author_name_slug', with_pct=True)['count_pct'])\n",
    "(_t['pct_sum'] < 0.8).sum()"
   ]
  },
  {
   "cell_type": "code",
   "execution_count": 37,
   "metadata": {
    "ExecuteTime": {
     "end_time": "2018-12-16T23:00:41.743365Z",
     "start_time": "2018-12-16T23:00:41.413830Z"
    }
   },
   "outputs": [
    {
     "name": "stderr",
     "output_type": "stream",
     "text": [
      "/home/sam/.local/bin/miniconda3/envs/sci/lib/python3.6/site-packages/scipy/stats/stats.py:1713: FutureWarning: Using a non-tuple sequence for multidimensional indexing is deprecated; use `arr[tuple(seq)]` instead of `arr[seq]`. In the future this will be interpreted as an array index, `arr[np.array(seq)]`, which will result either in an error or a different result.\n",
      "  return np.add.reduce(sorted[indexer] * weights, axis=axis) / sumval\n"
     ]
    },
    {
     "data": {
      "text/plain": [
       "<Figure size 1296x720 with 0 Axes>"
      ]
     },
     "metadata": {},
     "output_type": "display_data"
    },
    {
     "data": {
      "image/png": "[encoded data removed]",
      "text/plain": [
       "<Figure size 360x360 with 1 Axes>"
      ]
     },
     "metadata": {
      "needs_background": "light"
     },
     "output_type": "display_data"
    }
   ],
   "source": [
    "a = author_counts.merge(author_label_counts, on='author_name_slug')\n",
    "#a['pct'] = a['label_count'] / a['total_count']\n",
    "def _ratio_(df, party):\n",
    "    df = df.fillna(0)\n",
    "    df[f'ratio_{party}'] = df[f'false_count_{party}'] / df[f'true_count_{party}']\n",
    "    return df\n",
    "\n",
    "a = pd.merge(*[_ratio_(pd.DataFrame(pd.pivot_table(a.loc[a.party.eq(party)], \n",
    "                                values=['label_count'],\n",
    "                                columns=['simple_label'],\n",
    "                                index='author_name_slug').reset_index().values, \n",
    "                 columns=['author', f'false_count_{party}', f'true_count_{party}']), party) for party in parties_of_interest], on='author')[['author', 'ratio_Republican', 'ratio_Democrat']]\n",
    "\n",
    "a = a.loc[a.ratio_Democrat.lt(a.ratio_Democrat.quantile(0.9)) & a.ratio_Republican.lt(a.ratio_Republican.quantile(0.9)), :]\n",
    "\n",
    "f = plt.figure(figsize=(18, 10))\n",
    "sns.lmplot(data=a, x='ratio_Republican', y='ratio_Democrat')\n",
    "plt.title('Ratio comparision between party-rulings on author basis')\n",
    "plt.xlabel('Ratio false-true statements for Republicans')\n",
    "plt.ylabel('Ratio false-true statements for Democrats')\n",
    "plt.tight_layout()\n",
    "plt.savefig('../docs/images/ratio_comparision_author_basis.png')"
   ]
  },
  {
   "cell_type": "code",
   "execution_count": 25,
   "metadata": {
    "ExecuteTime": {
     "end_time": "2018-12-16T22:58:51.801846Z",
     "start_time": "2018-12-16T22:58:51.790284Z"
    }
   },
   "outputs": [
    {
     "data": {
      "text/plain": [
       "label_count    2318.75\n",
       "dtype: float64"
      ]
     },
     "execution_count": 25,
     "metadata": {},
     "output_type": "execute_result"
    }
   ],
   "source": [
    "a.mean()"
   ]
  },
  {
   "cell_type": "code",
   "execution_count": null,
   "metadata": {},
   "outputs": [],
   "source": []
  },
  {
   "cell_type": "code",
   "execution_count": 243,
   "metadata": {
    "ExecuteTime": {
     "end_time": "2018-12-16T20:01:05.567287Z",
     "start_time": "2018-12-16T20:01:05.521342Z"
    }
   },
   "outputs": [
    {
     "data": {
      "text/plain": [
       "2"
      ]
     },
     "execution_count": 243,
     "metadata": {},
     "output_type": "execute_result"
    }
   ],
   "source": [
    "len([pd.DataFrame(pd.pivot_table(a.loc[a.party.eq(party)], \n",
    "                                values=['label_count'],\n",
    "                                columns=['simple_label'],\n",
    "                                index='author_name_slug').reset_index().values, \n",
    "                 columns=['author', f'false_count_{party}', f'true_count_{party}'])\n",
    "        for party in parties_of_interest])"
   ]
  },
  {
   "cell_type": "code",
   "execution_count": null,
   "metadata": {},
   "outputs": [],
   "source": []
  },
  {
   "cell_type": "code",
   "execution_count": null,
   "metadata": {},
   "outputs": [],
   "source": []
  },
  {
   "cell_type": "code",
   "execution_count": null,
   "metadata": {},
   "outputs": [],
   "source": []
  },
  {
   "cell_type": "code",
   "execution_count": null,
   "metadata": {},
   "outputs": [],
   "source": []
  },
  {
   "cell_type": "code",
   "execution_count": null,
   "metadata": {},
   "outputs": [],
   "source": []
  },
  {
   "cell_type": "code",
   "execution_count": null,
   "metadata": {},
   "outputs": [],
   "source": []
  },
  {
   "cell_type": "code",
   "execution_count": null,
   "metadata": {},
   "outputs": [],
   "source": []
  },
  {
   "cell_type": "code",
   "execution_count": null,
   "metadata": {},
   "outputs": [],
   "source": []
  }
 ],
 "metadata": {
  "hide_input": false,
  "kernelspec": {
   "display_name": "Python 3",
   "language": "python",
   "name": "python3"
  },
  "language_info": {
   "codemirror_mode": {
    "name": "ipython",
    "version": 3
   },
   "file_extension": ".py",
   "mimetype": "text/x-python",
   "name": "python",
   "nbconvert_exporter": "python",
   "pygments_lexer": "ipython3",
   "version": "3.6.7"
  },
  "toc": {
   "base_numbering": 1,
   "nav_menu": {
    "height": "49.1333px",
    "width": "252px"
   },
   "number_sections": true,
   "sideBar": true,
   "skip_h1_title": false,
   "title_cell": "Table of Contents",
   "title_sidebar": "Contents",
   "toc_cell": false,
   "toc_position": {},
   "toc_section_display": "block",
   "toc_window_display": false
  }
 },
 "nbformat": 4,
 "nbformat_minor": 2
}
