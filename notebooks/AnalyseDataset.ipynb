{
 "cells": [
  {
   "cell_type": "markdown",
   "metadata": {
    "heading_collapsed": true
   },
   "source": [
    "# Analysing Dataset"
   ]
  },
  {
   "cell_type": "code",
   "execution_count": 1,
   "metadata": {
    "ExecuteTime": {
     "end_time": "2018-12-13T16:22:16.844191Z",
     "start_time": "2018-12-13T16:22:16.823986Z"
    },
    "hidden": true
   },
   "outputs": [
    {
     "data": {
      "text/html": [
       "<style>.container { width:95% !important; }</style>"
      ],
      "text/plain": [
       "<IPython.core.display.HTML object>"
      ]
     },
     "metadata": {},
     "output_type": "display_data"
    }
   ],
   "source": [
    "def fix_layout(width:int=95):\n",
    "    from IPython.core.display import display, HTML\n",
    "    display(HTML('<style>.container { width:' + str(width) + '% !important; }</style>'))\n",
    "    \n",
    "fix_layout()"
   ]
  },
  {
   "cell_type": "markdown",
   "metadata": {
    "hidden": true
   },
   "source": [
    "This notebook is dedicated to datasets analysis. \n",
    "\n",
    "Here we will concentrate on connecting our datasets into one dataframe that will later be used to extract meaningful information that can help us answer our research questions. \n",
    "\n",
    "In addition, data cleaning is performed where necessary since we will not use all the data provided. The goal of this notebook is to make data as easy as possible to use for future plotting and data story writing.\n",
    "\n",
    "So, let's dive into our data!"
   ]
  },
  {
   "cell_type": "code",
   "execution_count": 2,
   "metadata": {
    "ExecuteTime": {
     "end_time": "2018-12-13T17:32:43.676648Z",
     "start_time": "2018-12-13T17:32:43.666025Z"
    },
    "hidden": true
   },
   "outputs": [
    {
     "data": {
      "text/plain": [
       "<module 'utils.statement_handling' from '../src/utils/statement_handling.py'>"
      ]
     },
     "execution_count": 2,
     "metadata": {},
     "output_type": "execute_result"
    }
   ],
   "source": [
    "import os\n",
    "import re\n",
    "import json\n",
    "import time\n",
    "import datetime\n",
    "from functools import reduce\n",
    "from itertools import product\n",
    "\n",
    "from json import load, JSONDecodeError\n",
    "from functional import pseq, seq\n",
    "import pandas as pd\n",
    "import pandas_profiling\n",
    "import requests\n",
    "import pathlib\n",
    "\n",
    "# necessary to load the utils, which are in src\n",
    "import sys\n",
    "sys.path.append('../src')\n",
    "\n",
    "from utils import file, logging\n",
    "from utils.statement_handling import extract_information, safe_json_read\n",
    "\n",
    "from importlib import reload\n",
    "\n",
    "import utils.statement_handling as SH\n",
    "reload(SH)"
   ]
  },
  {
   "cell_type": "code",
   "execution_count": 3,
   "metadata": {
    "ExecuteTime": {
     "end_time": "2018-12-13T16:22:20.508943Z",
     "start_time": "2018-12-13T16:22:20.503617Z"
    },
    "hidden": true
   },
   "outputs": [],
   "source": [
    "def group_and_count(df, groupby_column, with_pct=False, with_avg=False):\n",
    "    result = df.groupby(groupby_column).size().sort_values(ascending=False).reset_index().rename(columns={0: 'count'})\n",
    "    if with_pct:\n",
    "        result['count_pct'] = result['count'] / result['count'].sum()\n",
    "    if with_avg:\n",
    "        result['count_avg'] = result['count'].mean()\n",
    "    return result"
   ]
  },
  {
   "cell_type": "code",
   "execution_count": 4,
   "metadata": {
    "ExecuteTime": {
     "end_time": "2018-12-13T16:22:22.023282Z",
     "start_time": "2018-12-13T16:22:22.016409Z"
    },
    "hidden": true
   },
   "outputs": [],
   "source": [
    "directory_liar_dataset = \"../data/liar_dataset\"\n",
    "directory_statements = f\"{directory_liar_dataset}/statements\"\n",
    "directory_visualizations = \"../docs/data_insight\"\n",
    "directory_election_results = \"../data/election_results\"\n",
    "directory_county_data = \"../data/county_data\""
   ]
  },
  {
   "cell_type": "markdown",
   "metadata": {
    "heading_collapsed": true
   },
   "source": [
    "# LIAR Dataset"
   ]
  },
  {
   "cell_type": "markdown",
   "metadata": {
    "hidden": true
   },
   "source": [
    "This is just the LIAR dataset:"
   ]
  },
  {
   "cell_type": "code",
   "execution_count": 86,
   "metadata": {
    "ExecuteTime": {
     "end_time": "2018-12-13T16:57:40.678636Z",
     "start_time": "2018-12-13T16:57:37.652081Z"
    },
    "hidden": true
   },
   "outputs": [
    {
     "name": "stderr",
     "output_type": "stream",
     "text": [
      "ERROR:root:File ../data/liar_dataset/statements/5355.json is empty or something...\n",
      "ERROR:root:File ../data/liar_dataset/statements/9.json is empty or something...\n"
     ]
    },
    {
     "data": {
      "text/html": [
       "<div>\n",
       "<style scoped>\n",
       "    .dataframe tbody tr th:only-of-type {\n",
       "        vertical-align: middle;\n",
       "    }\n",
       "\n",
       "    .dataframe tbody tr th {\n",
       "        vertical-align: top;\n",
       "    }\n",
       "\n",
       "    .dataframe thead th {\n",
       "        text-align: right;\n",
       "    }\n",
       "</style>\n",
       "<table border=\"1\" class=\"dataframe\">\n",
       "  <thead>\n",
       "    <tr style=\"text-align: right;\">\n",
       "      <th></th>\n",
       "      <th>author_name_slug</th>\n",
       "      <th>context</th>\n",
       "      <th>label</th>\n",
       "      <th>ruling_date</th>\n",
       "      <th>speaker_current_job</th>\n",
       "      <th>speaker_first_name</th>\n",
       "      <th>speaker_home_state</th>\n",
       "      <th>speaker_last_name</th>\n",
       "      <th>statement</th>\n",
       "      <th>statement_date</th>\n",
       "      <th>statement_id</th>\n",
       "      <th>statement_type</th>\n",
       "      <th>statement_type_description</th>\n",
       "    </tr>\n",
       "  </thead>\n",
       "  <tbody>\n",
       "    <tr>\n",
       "      <th>13566</th>\n",
       "      <td>wes-allison</td>\n",
       "      <td>a debate in Orlando, Fla.</td>\n",
       "      <td>barely-true</td>\n",
       "      <td>2007-10-22T00:00:00</td>\n",
       "      <td>Attorney</td>\n",
       "      <td>Rudy</td>\n",
       "      <td>New York</td>\n",
       "      <td>Giuliani</td>\n",
       "      <td>I brought down crime more than anyone in this country -- maybe in the history of this country -- while I was mayor of New York City. -</td>\n",
       "      <td>2007-10-21</td>\n",
       "      <td>42</td>\n",
       "      <td>Claim</td>\n",
       "      <td>blog post</td>\n",
       "    </tr>\n",
       "    <tr>\n",
       "      <th>2280</th>\n",
       "      <td>robert-farley</td>\n",
       "      <td>Associated Press Annual Meeting, Washington D.C.</td>\n",
       "      <td>false</td>\n",
       "      <td>2008-04-16T00:00:00</td>\n",
       "      <td>President</td>\n",
       "      <td>Barack</td>\n",
       "      <td>Illinois</td>\n",
       "      <td>Obama</td>\n",
       "      <td>Hes promising four more years of an administration that will push for the privatization of Social Security...</td>\n",
       "      <td>2008-04-14</td>\n",
       "      <td>437</td>\n",
       "      <td>Attack</td>\n",
       "      <td>&lt;p&gt;\\r\\n\\tA criticism of a candidate.&lt;/p&gt;\\r\\n</td>\n",
       "    </tr>\n",
       "    <tr>\n",
       "      <th>10810</th>\n",
       "      <td>janie-har</td>\n",
       "      <td>a news story</td>\n",
       "      <td>true</td>\n",
       "      <td>2012-09-13T17:06:41</td>\n",
       "      <td></td>\n",
       "      <td>Bill</td>\n",
       "      <td></td>\n",
       "      <td>Kennemer</td>\n",
       "      <td>We just don&amp;#39;t want to get to be like Louisiana, where you have drive-up daiquiri shops.</td>\n",
       "      <td>2012-09-11</td>\n",
       "      <td>6707</td>\n",
       "      <td>Claim</td>\n",
       "      <td>blog post</td>\n",
       "    </tr>\n",
       "    <tr>\n",
       "      <th>6065</th>\n",
       "      <td>c-eugene-emery</td>\n",
       "      <td>an episode of \"Full Frontal with Samantha Bee\"</td>\n",
       "      <td>half-true</td>\n",
       "      <td>2016-05-17T16:30:03</td>\n",
       "      <td>President, National Abortion Federation</td>\n",
       "      <td>Vicki</td>\n",
       "      <td></td>\n",
       "      <td>Saporta</td>\n",
       "      <td>There are more than twice as many (crisis pregnancy centers) as there are legitimate abortion providers in the United States.</td>\n",
       "      <td>2016-05-09</td>\n",
       "      <td>12388</td>\n",
       "      <td>Claim</td>\n",
       "      <td>blog post</td>\n",
       "    </tr>\n",
       "    <tr>\n",
       "      <th>5217</th>\n",
       "      <td>w-gardner-selby</td>\n",
       "      <td>a commentary</td>\n",
       "      <td>true</td>\n",
       "      <td>2014-06-05T14:21:11</td>\n",
       "      <td>Editorial writer</td>\n",
       "      <td>Mike</td>\n",
       "      <td>Texas</td>\n",
       "      <td>Hashimoto</td>\n",
       "      <td>Public display of a long rifle is perfectly legal in Texas.</td>\n",
       "      <td>2014-06-02</td>\n",
       "      <td>9412</td>\n",
       "      <td>Claim</td>\n",
       "      <td>blog post</td>\n",
       "    </tr>\n",
       "    <tr>\n",
       "      <th>12187</th>\n",
       "      <td>lauren-carroll</td>\n",
       "      <td>a campaign rally in Iowa</td>\n",
       "      <td>half-true</td>\n",
       "      <td>2016-02-10T16:00:00</td>\n",
       "      <td>President</td>\n",
       "      <td>Donald</td>\n",
       "      <td>New York</td>\n",
       "      <td>Trump</td>\n",
       "      <td>I&amp;#39;m self-funding my own campaign.</td>\n",
       "      <td>2016-02-01</td>\n",
       "      <td>11889</td>\n",
       "      <td>Claim</td>\n",
       "      <td>blog post</td>\n",
       "    </tr>\n",
       "    <tr>\n",
       "      <th>6010</th>\n",
       "      <td>tom-humphrey</td>\n",
       "      <td>House floor debate over amending the state constitution to prohibit an income tax.</td>\n",
       "      <td>false</td>\n",
       "      <td>2012-02-09T04:30:00</td>\n",
       "      <td>House Majority Leader</td>\n",
       "      <td>Gerald</td>\n",
       "      <td>Tennessee</td>\n",
       "      <td>McCormick</td>\n",
       "      <td>&lt;div style=background-color: transparent; &gt;&lt;b id=internal-source-marker_0.8907879865728319 style=font-weight: normal; &gt;The state constitution clearly says there&amp;rsquo;s not to be a state income tax in Tennessee.&lt;/b&gt;&lt;/div&gt;</td>\n",
       "      <td>2012-01-19</td>\n",
       "      <td>5324</td>\n",
       "      <td>Claim</td>\n",
       "      <td>blog post</td>\n",
       "    </tr>\n",
       "    <tr>\n",
       "      <th>10862</th>\n",
       "      <td>alex-kuffner</td>\n",
       "      <td>a rally.</td>\n",
       "      <td>half-true</td>\n",
       "      <td>2012-04-01T06:00:00</td>\n",
       "      <td>restaurateur</td>\n",
       "      <td>John</td>\n",
       "      <td>Rhode Island</td>\n",
       "      <td>Elkhay</td>\n",
       "      <td>If Rhode Island raises the meal and beverage tax to 10 percent, it would be the fourth-highest in the nation.</td>\n",
       "      <td>2012-03-21</td>\n",
       "      <td>5652</td>\n",
       "      <td>Claim</td>\n",
       "      <td>blog post</td>\n",
       "    </tr>\n",
       "    <tr>\n",
       "      <th>7430</th>\n",
       "      <td>w-gardner-selby</td>\n",
       "      <td>an op-ed column.</td>\n",
       "      <td>mostly-true</td>\n",
       "      <td>2011-02-02T06:00:00</td>\n",
       "      <td>Small business owner</td>\n",
       "      <td>Mike</td>\n",
       "      <td>Texas</td>\n",
       "      <td>Villarreal</td>\n",
       "      <td>Says that over the last decade, the state&amp;#39;s population grew three times faster than the Texas state tax system.</td>\n",
       "      <td>2011-01-07</td>\n",
       "      <td>3157</td>\n",
       "      <td>Claim</td>\n",
       "      <td>blog post</td>\n",
       "    </tr>\n",
       "    <tr>\n",
       "      <th>2872</th>\n",
       "      <td>lauren-carroll</td>\n",
       "      <td>a rally in Cincinnati</td>\n",
       "      <td>true</td>\n",
       "      <td>2016-11-01T16:07:03</td>\n",
       "      <td>Presidential candidate</td>\n",
       "      <td>Hillary</td>\n",
       "      <td>New York</td>\n",
       "      <td>Clinton</td>\n",
       "      <td>Says of Donald Trump, He even said, on his very first day in office, he would require every school in America to let people carry guns into our classrooms.</td>\n",
       "      <td>2016-10-31</td>\n",
       "      <td>13395</td>\n",
       "      <td>Claim</td>\n",
       "      <td>blog post</td>\n",
       "    </tr>\n",
       "  </tbody>\n",
       "</table>\n",
       "</div>"
      ],
      "text/plain": [
       "      author_name_slug  \\\n",
       "13566      wes-allison   \n",
       "2280     robert-farley   \n",
       "10810        janie-har   \n",
       "6065    c-eugene-emery   \n",
       "5217   w-gardner-selby   \n",
       "12187   lauren-carroll   \n",
       "6010      tom-humphrey   \n",
       "10862     alex-kuffner   \n",
       "7430   w-gardner-selby   \n",
       "2872    lauren-carroll   \n",
       "\n",
       "                                                                                  context  \\\n",
       "13566                                                           a debate in Orlando, Fla.   \n",
       "2280                                     Associated Press Annual Meeting, Washington D.C.   \n",
       "10810                                                                        a news story   \n",
       "6065                                       an episode of \"Full Frontal with Samantha Bee\"   \n",
       "5217                                                                         a commentary   \n",
       "12187                                                            a campaign rally in Iowa   \n",
       "6010   House floor debate over amending the state constitution to prohibit an income tax.   \n",
       "10862                                                                            a rally.   \n",
       "7430                                                                     an op-ed column.   \n",
       "2872                                                                a rally in Cincinnati   \n",
       "\n",
       "             label          ruling_date  \\\n",
       "13566  barely-true  2007-10-22T00:00:00   \n",
       "2280         false  2008-04-16T00:00:00   \n",
       "10810         true  2012-09-13T17:06:41   \n",
       "6065     half-true  2016-05-17T16:30:03   \n",
       "5217          true  2014-06-05T14:21:11   \n",
       "12187    half-true  2016-02-10T16:00:00   \n",
       "6010         false  2012-02-09T04:30:00   \n",
       "10862    half-true  2012-04-01T06:00:00   \n",
       "7430   mostly-true  2011-02-02T06:00:00   \n",
       "2872          true  2016-11-01T16:07:03   \n",
       "\n",
       "                           speaker_current_job speaker_first_name  \\\n",
       "13566                                 Attorney               Rudy   \n",
       "2280                                 President             Barack   \n",
       "10810                                                        Bill   \n",
       "6065   President, National Abortion Federation              Vicki   \n",
       "5217                          Editorial writer               Mike   \n",
       "12187                                President             Donald   \n",
       "6010                     House Majority Leader             Gerald   \n",
       "10862                             restaurateur               John   \n",
       "7430                      Small business owner               Mike   \n",
       "2872                    Presidential candidate            Hillary   \n",
       "\n",
       "      speaker_home_state speaker_last_name  \\\n",
       "13566           New York          Giuliani   \n",
       "2280            Illinois             Obama   \n",
       "10810                             Kennemer   \n",
       "6065                               Saporta   \n",
       "5217               Texas         Hashimoto   \n",
       "12187           New York             Trump   \n",
       "6010           Tennessee         McCormick   \n",
       "10862       Rhode Island            Elkhay   \n",
       "7430               Texas        Villarreal   \n",
       "2872            New York           Clinton   \n",
       "\n",
       "                                                                                                                                                                                                                           statement  \\\n",
       "13566                                                                                        I brought down crime more than anyone in this country -- maybe in the history of this country -- while I was mayor of New York City. -    \n",
       "2280                                                                                                                   Hes promising four more years of an administration that will push for the privatization of Social Security...   \n",
       "10810                                                                                                                                    We just don&#39;t want to get to be like Louisiana, where you have drive-up daiquiri shops.   \n",
       "6065                                                                                                   There are more than twice as many (crisis pregnancy centers) as there are legitimate abortion providers in the United States.   \n",
       "5217                                                                                                                                                                     Public display of a long rifle is perfectly legal in Texas.   \n",
       "12187                                                                                                                                                                                          I&#39;m self-funding my own campaign.   \n",
       "6010   <div style=background-color: transparent; ><b id=internal-source-marker_0.8907879865728319 style=font-weight: normal; >The state constitution clearly says there&rsquo;s not to be a state income tax in Tennessee.</b></div>   \n",
       "10862                                                                                                                  If Rhode Island raises the meal and beverage tax to 10 percent, it would be the fourth-highest in the nation.   \n",
       "7430                                                                                                             Says that over the last decade, the state&#39;s population grew three times faster than the Texas state tax system.   \n",
       "2872                                                                     Says of Donald Trump, He even said, on his very first day in office, he would require every school in America to let people carry guns into our classrooms.   \n",
       "\n",
       "      statement_date  statement_id statement_type  \\\n",
       "13566     2007-10-21            42          Claim   \n",
       "2280      2008-04-14           437         Attack   \n",
       "10810     2012-09-11          6707          Claim   \n",
       "6065      2016-05-09         12388          Claim   \n",
       "5217      2014-06-02          9412          Claim   \n",
       "12187     2016-02-01         11889          Claim   \n",
       "6010      2012-01-19          5324          Claim   \n",
       "10862     2012-03-21          5652          Claim   \n",
       "7430      2011-01-07          3157          Claim   \n",
       "2872      2016-10-31         13395          Claim   \n",
       "\n",
       "                         statement_type_description  \n",
       "13566                                    blog post   \n",
       "2280   <p>\\r\\n\\tA criticism of a candidate.</p>\\r\\n  \n",
       "10810                                    blog post   \n",
       "6065                                     blog post   \n",
       "5217                                     blog post   \n",
       "12187                                    blog post   \n",
       "6010                                     blog post   \n",
       "10862                                    blog post   \n",
       "7430                                     blog post   \n",
       "2872                                     blog post   "
      ]
     },
     "execution_count": 86,
     "metadata": {},
     "output_type": "execute_result"
    }
   ],
   "source": [
    "statements = seq(pathlib.Path(directory_statements).iterdir()).map(safe_json_read)\\\n",
    "                               .filter(lambda x: len(x) > 0)\\\n",
    "                               .map(extract_information)\\\n",
    "                               .to_pandas()\n",
    "\n",
    "statements['statement_date'] = pd.to_datetime(statements['statement_date'])\n",
    "statements.sample(10)"
   ]
  },
  {
   "cell_type": "code",
   "execution_count": 150,
   "metadata": {
    "ExecuteTime": {
     "end_time": "2018-12-13T16:57:46.633085Z",
     "start_time": "2018-12-13T16:57:46.629695Z"
    },
    "hidden": true
   },
   "outputs": [
    {
     "data": {
      "text/plain": [
       "646"
      ]
     },
     "execution_count": 150,
     "metadata": {},
     "output_type": "execute_result"
    }
   ],
   "source": [
    "statements['speaker_last_name'].eq('Trump').sum()"
   ]
  },
  {
   "cell_type": "code",
   "execution_count": 7,
   "metadata": {
    "ExecuteTime": {
     "end_time": "2018-12-13T16:58:00.916407Z",
     "start_time": "2018-12-13T16:58:00.895890Z"
    },
    "hidden": true
   },
   "outputs": [
    {
     "name": "stdout",
     "output_type": "stream",
     "text": [
      "The number of different context names is: 5828. That is much too many different contexts and lots of them appear only a few times. We thus need to regroup/reduce the number of contexts.\n"
     ]
    }
   ],
   "source": [
    "print('The number of different context names is: {}.\\\n",
    " That is much too many different contexts and lots of them appear only a few times.\\\n",
    " We thus need to regroup/reduce the number of contexts.'.format(group_and_count(statements, 'context').shape[0]))"
   ]
  },
  {
   "cell_type": "code",
   "execution_count": 8,
   "metadata": {
    "ExecuteTime": {
     "end_time": "2018-12-13T16:58:05.878502Z",
     "start_time": "2018-12-13T16:58:05.848183Z"
    },
    "collapsed": true,
    "hidden": true
   },
   "outputs": [
    {
     "data": {
      "text/html": [
       "<div>\n",
       "<style scoped>\n",
       "    .dataframe tbody tr th:only-of-type {\n",
       "        vertical-align: middle;\n",
       "    }\n",
       "\n",
       "    .dataframe tbody tr th {\n",
       "        vertical-align: top;\n",
       "    }\n",
       "\n",
       "    .dataframe thead th {\n",
       "        text-align: right;\n",
       "    }\n",
       "</style>\n",
       "<table border=\"1\" class=\"dataframe\">\n",
       "  <thead>\n",
       "    <tr style=\"text-align: right;\">\n",
       "      <th></th>\n",
       "      <th>context</th>\n",
       "      <th>count</th>\n",
       "    </tr>\n",
       "  </thead>\n",
       "  <tbody>\n",
       "    <tr>\n",
       "      <th>0</th>\n",
       "      <td>a tweet</td>\n",
       "      <td>471</td>\n",
       "    </tr>\n",
       "    <tr>\n",
       "      <th>1</th>\n",
       "      <td>an interview</td>\n",
       "      <td>380</td>\n",
       "    </tr>\n",
       "    <tr>\n",
       "      <th>2</th>\n",
       "      <td>a news release</td>\n",
       "      <td>329</td>\n",
       "    </tr>\n",
       "    <tr>\n",
       "      <th>3</th>\n",
       "      <td>a press release</td>\n",
       "      <td>325</td>\n",
       "    </tr>\n",
       "    <tr>\n",
       "      <th>4</th>\n",
       "      <td>a speech</td>\n",
       "      <td>319</td>\n",
       "    </tr>\n",
       "    <tr>\n",
       "      <th>5</th>\n",
       "      <td>a TV ad</td>\n",
       "      <td>275</td>\n",
       "    </tr>\n",
       "    <tr>\n",
       "      <th>6</th>\n",
       "      <td>a campaign ad</td>\n",
       "      <td>221</td>\n",
       "    </tr>\n",
       "    <tr>\n",
       "      <th>7</th>\n",
       "      <td>a headline</td>\n",
       "      <td>175</td>\n",
       "    </tr>\n",
       "    <tr>\n",
       "      <th>8</th>\n",
       "      <td>a television ad</td>\n",
       "      <td>168</td>\n",
       "    </tr>\n",
       "    <tr>\n",
       "      <th>9</th>\n",
       "      <td></td>\n",
       "      <td>166</td>\n",
       "    </tr>\n",
       "    <tr>\n",
       "      <th>10</th>\n",
       "      <td>a radio interview</td>\n",
       "      <td>158</td>\n",
       "    </tr>\n",
       "    <tr>\n",
       "      <th>11</th>\n",
       "      <td>a debate</td>\n",
       "      <td>148</td>\n",
       "    </tr>\n",
       "    <tr>\n",
       "      <th>12</th>\n",
       "      <td>a Facebook post</td>\n",
       "      <td>139</td>\n",
       "    </tr>\n",
       "    <tr>\n",
       "      <th>13</th>\n",
       "      <td>a blog post</td>\n",
       "      <td>133</td>\n",
       "    </tr>\n",
       "    <tr>\n",
       "      <th>14</th>\n",
       "      <td>a press conference</td>\n",
       "      <td>125</td>\n",
       "    </tr>\n",
       "    <tr>\n",
       "      <th>15</th>\n",
       "      <td>a news conference</td>\n",
       "      <td>118</td>\n",
       "    </tr>\n",
       "    <tr>\n",
       "      <th>16</th>\n",
       "      <td>a campaign commercial</td>\n",
       "      <td>93</td>\n",
       "    </tr>\n",
       "    <tr>\n",
       "      <th>17</th>\n",
       "      <td>a television interview</td>\n",
       "      <td>90</td>\n",
       "    </tr>\n",
       "    <tr>\n",
       "      <th>18</th>\n",
       "      <td>a TV interview</td>\n",
       "      <td>76</td>\n",
       "    </tr>\n",
       "    <tr>\n",
       "      <th>19</th>\n",
       "      <td>a speech.</td>\n",
       "      <td>73</td>\n",
       "    </tr>\n",
       "    <tr>\n",
       "      <th>20</th>\n",
       "      <td>an ad</td>\n",
       "      <td>66</td>\n",
       "    </tr>\n",
       "    <tr>\n",
       "      <th>21</th>\n",
       "      <td>a radio ad</td>\n",
       "      <td>64</td>\n",
       "    </tr>\n",
       "    <tr>\n",
       "      <th>22</th>\n",
       "      <td>a TV ad.</td>\n",
       "      <td>62</td>\n",
       "    </tr>\n",
       "    <tr>\n",
       "      <th>23</th>\n",
       "      <td>a press release.</td>\n",
       "      <td>59</td>\n",
       "    </tr>\n",
       "    <tr>\n",
       "      <th>24</th>\n",
       "      <td>an interview on CNN</td>\n",
       "      <td>55</td>\n",
       "    </tr>\n",
       "    <tr>\n",
       "      <th>25</th>\n",
       "      <td>a post on Facebook</td>\n",
       "      <td>54</td>\n",
       "    </tr>\n",
       "    <tr>\n",
       "      <th>26</th>\n",
       "      <td>an interview on Fox News</td>\n",
       "      <td>53</td>\n",
       "    </tr>\n",
       "    <tr>\n",
       "      <th>27</th>\n",
       "      <td>a chain e-mail</td>\n",
       "      <td>52</td>\n",
       "    </tr>\n",
       "    <tr>\n",
       "      <th>28</th>\n",
       "      <td>an interview.</td>\n",
       "      <td>51</td>\n",
       "    </tr>\n",
       "    <tr>\n",
       "      <th>29</th>\n",
       "      <td>a campaign mailer</td>\n",
       "      <td>50</td>\n",
       "    </tr>\n",
       "    <tr>\n",
       "      <th>...</th>\n",
       "      <td>...</td>\n",
       "      <td>...</td>\n",
       "    </tr>\n",
       "    <tr>\n",
       "      <th>70</th>\n",
       "      <td>ABC's \"This Week\"</td>\n",
       "      <td>23</td>\n",
       "    </tr>\n",
       "    <tr>\n",
       "      <th>71</th>\n",
       "      <td>an interview on ABC's \"This Week\"</td>\n",
       "      <td>23</td>\n",
       "    </tr>\n",
       "    <tr>\n",
       "      <th>72</th>\n",
       "      <td>a news conference.</td>\n",
       "      <td>22</td>\n",
       "    </tr>\n",
       "    <tr>\n",
       "      <th>73</th>\n",
       "      <td>in a blog post</td>\n",
       "      <td>22</td>\n",
       "    </tr>\n",
       "    <tr>\n",
       "      <th>74</th>\n",
       "      <td>a Twitter post</td>\n",
       "      <td>21</td>\n",
       "    </tr>\n",
       "    <tr>\n",
       "      <th>75</th>\n",
       "      <td>the second presidential debate</td>\n",
       "      <td>21</td>\n",
       "    </tr>\n",
       "    <tr>\n",
       "      <th>76</th>\n",
       "      <td>comments on NBC's \"Meet the Press\"</td>\n",
       "      <td>21</td>\n",
       "    </tr>\n",
       "    <tr>\n",
       "      <th>77</th>\n",
       "      <td>a newspaper column</td>\n",
       "      <td>21</td>\n",
       "    </tr>\n",
       "    <tr>\n",
       "      <th>78</th>\n",
       "      <td>an e-mail</td>\n",
       "      <td>20</td>\n",
       "    </tr>\n",
       "    <tr>\n",
       "      <th>79</th>\n",
       "      <td>a campaign mailer.</td>\n",
       "      <td>20</td>\n",
       "    </tr>\n",
       "    <tr>\n",
       "      <th>80</th>\n",
       "      <td>a House floor speech</td>\n",
       "      <td>20</td>\n",
       "    </tr>\n",
       "    <tr>\n",
       "      <th>81</th>\n",
       "      <td>in a tweet</td>\n",
       "      <td>19</td>\n",
       "    </tr>\n",
       "    <tr>\n",
       "      <th>82</th>\n",
       "      <td>an advertisement</td>\n",
       "      <td>19</td>\n",
       "    </tr>\n",
       "    <tr>\n",
       "      <th>83</th>\n",
       "      <td>a speech on the Senate floor</td>\n",
       "      <td>19</td>\n",
       "    </tr>\n",
       "    <tr>\n",
       "      <th>84</th>\n",
       "      <td>a campaign website</td>\n",
       "      <td>19</td>\n",
       "    </tr>\n",
       "    <tr>\n",
       "      <th>85</th>\n",
       "      <td>a fundraising email</td>\n",
       "      <td>18</td>\n",
       "    </tr>\n",
       "    <tr>\n",
       "      <th>86</th>\n",
       "      <td>a video ad</td>\n",
       "      <td>18</td>\n",
       "    </tr>\n",
       "    <tr>\n",
       "      <th>87</th>\n",
       "      <td>comments on \"Meet the Press\"</td>\n",
       "      <td>18</td>\n",
       "    </tr>\n",
       "    <tr>\n",
       "      <th>88</th>\n",
       "      <td>a YouTube video</td>\n",
       "      <td>18</td>\n",
       "    </tr>\n",
       "    <tr>\n",
       "      <th>89</th>\n",
       "      <td>in a press release</td>\n",
       "      <td>18</td>\n",
       "    </tr>\n",
       "    <tr>\n",
       "      <th>90</th>\n",
       "      <td>a column</td>\n",
       "      <td>18</td>\n",
       "    </tr>\n",
       "    <tr>\n",
       "      <th>91</th>\n",
       "      <td>an opinion column</td>\n",
       "      <td>17</td>\n",
       "    </tr>\n",
       "    <tr>\n",
       "      <th>92</th>\n",
       "      <td>an interview on MSNBC's \"Morning Joe\"</td>\n",
       "      <td>17</td>\n",
       "    </tr>\n",
       "    <tr>\n",
       "      <th>93</th>\n",
       "      <td>a statement.</td>\n",
       "      <td>17</td>\n",
       "    </tr>\n",
       "    <tr>\n",
       "      <th>94</th>\n",
       "      <td>an interview with Fox News</td>\n",
       "      <td>17</td>\n",
       "    </tr>\n",
       "    <tr>\n",
       "      <th>95</th>\n",
       "      <td>a campaign email</td>\n",
       "      <td>17</td>\n",
       "    </tr>\n",
       "    <tr>\n",
       "      <th>96</th>\n",
       "      <td>a fundraising letter</td>\n",
       "      <td>17</td>\n",
       "    </tr>\n",
       "    <tr>\n",
       "      <th>97</th>\n",
       "      <td>an interview on CNN's \"State of the Union\"</td>\n",
       "      <td>16</td>\n",
       "    </tr>\n",
       "    <tr>\n",
       "      <th>98</th>\n",
       "      <td>a floor speech.</td>\n",
       "      <td>16</td>\n",
       "    </tr>\n",
       "    <tr>\n",
       "      <th>99</th>\n",
       "      <td>a tweet.</td>\n",
       "      <td>16</td>\n",
       "    </tr>\n",
       "  </tbody>\n",
       "</table>\n",
       "<p>100 rows × 2 columns</p>\n",
       "</div>"
      ],
      "text/plain": [
       "                                       context  count\n",
       "0                                      a tweet    471\n",
       "1                                 an interview    380\n",
       "2                               a news release    329\n",
       "3                              a press release    325\n",
       "4                                     a speech    319\n",
       "5                                      a TV ad    275\n",
       "6                                a campaign ad    221\n",
       "7                                   a headline    175\n",
       "8                              a television ad    168\n",
       "9                                                 166\n",
       "10                           a radio interview    158\n",
       "11                                    a debate    148\n",
       "12                             a Facebook post    139\n",
       "13                                 a blog post    133\n",
       "14                          a press conference    125\n",
       "15                           a news conference    118\n",
       "16                       a campaign commercial     93\n",
       "17                      a television interview     90\n",
       "18                              a TV interview     76\n",
       "19                                   a speech.     73\n",
       "20                                       an ad     66\n",
       "21                                  a radio ad     64\n",
       "22                                    a TV ad.     62\n",
       "23                            a press release.     59\n",
       "24                         an interview on CNN     55\n",
       "25                          a post on Facebook     54\n",
       "26                    an interview on Fox News     53\n",
       "27                              a chain e-mail     52\n",
       "28                               an interview.     51\n",
       "29                           a campaign mailer     50\n",
       "..                                         ...    ...\n",
       "70                           ABC's \"This Week\"     23\n",
       "71           an interview on ABC's \"This Week\"     23\n",
       "72                          a news conference.     22\n",
       "73                              in a blog post     22\n",
       "74                              a Twitter post     21\n",
       "75              the second presidential debate     21\n",
       "76          comments on NBC's \"Meet the Press\"     21\n",
       "77                          a newspaper column     21\n",
       "78                                   an e-mail     20\n",
       "79                          a campaign mailer.     20\n",
       "80                        a House floor speech     20\n",
       "81                                  in a tweet     19\n",
       "82                            an advertisement     19\n",
       "83                a speech on the Senate floor     19\n",
       "84                          a campaign website     19\n",
       "85                         a fundraising email     18\n",
       "86                                  a video ad     18\n",
       "87                comments on \"Meet the Press\"     18\n",
       "88                             a YouTube video     18\n",
       "89                          in a press release     18\n",
       "90                                    a column     18\n",
       "91                           an opinion column     17\n",
       "92       an interview on MSNBC's \"Morning Joe\"     17\n",
       "93                                a statement.     17\n",
       "94                  an interview with Fox News     17\n",
       "95                            a campaign email     17\n",
       "96                        a fundraising letter     17\n",
       "97  an interview on CNN's \"State of the Union\"     16\n",
       "98                             a floor speech.     16\n",
       "99                                    a tweet.     16\n",
       "\n",
       "[100 rows x 2 columns]"
      ]
     },
     "execution_count": 8,
     "metadata": {},
     "output_type": "execute_result"
    }
   ],
   "source": [
    "group_and_count(statements, 'context').head(100)"
   ]
  },
  {
   "cell_type": "markdown",
   "metadata": {
    "hidden": true
   },
   "source": [
    "So how to regroup all these or part of these?\n",
    "We can use the mean of communication for example:\n",
    "radio/tv/facebook/twitter/internet\n",
    "and these classes can have overlap..."
   ]
  },
  {
   "cell_type": "code",
   "execution_count": 9,
   "metadata": {
    "ExecuteTime": {
     "end_time": "2018-12-13T17:32:29.773868Z",
     "start_time": "2018-12-13T17:32:29.661428Z"
    },
    "hidden": true
   },
   "outputs": [],
   "source": [
    "statements['clean_context'] = statements['context'].apply(SH.clean_up_context)"
   ]
  },
  {
   "cell_type": "markdown",
   "metadata": {},
   "source": [
    "# ----------------------------------------------------------------------------------------------------\n",
    "# Biggest liars pants on fire"
   ]
  },
  {
   "cell_type": "markdown",
   "metadata": {},
   "source": [
    "Here are the people who most lie ordered by their proportion of pants on fire."
   ]
  },
  {
   "cell_type": "code",
   "execution_count": 232,
   "metadata": {},
   "outputs": [
    {
     "data": {
      "text/html": [
       "<div>\n",
       "<style scoped>\n",
       "    .dataframe tbody tr th:only-of-type {\n",
       "        vertical-align: middle;\n",
       "    }\n",
       "\n",
       "    .dataframe tbody tr th {\n",
       "        vertical-align: top;\n",
       "    }\n",
       "\n",
       "    .dataframe thead th {\n",
       "        text-align: right;\n",
       "    }\n",
       "</style>\n",
       "<table border=\"1\" class=\"dataframe\">\n",
       "  <thead>\n",
       "    <tr style=\"text-align: right;\">\n",
       "      <th></th>\n",
       "      <th>speaker_first_name</th>\n",
       "      <th>speaker_last_name</th>\n",
       "      <th>label</th>\n",
       "      <th>0_x</th>\n",
       "      <th>0_y</th>\n",
       "      <th>statements_perc</th>\n",
       "    </tr>\n",
       "  </thead>\n",
       "  <tbody>\n",
       "    <tr>\n",
       "      <th>3897</th>\n",
       "      <td>Mike</td>\n",
       "      <td>Rogers</td>\n",
       "      <td>true</td>\n",
       "      <td>1</td>\n",
       "      <td>7</td>\n",
       "      <td>0.142857</td>\n",
       "    </tr>\n",
       "    <tr>\n",
       "      <th>1445</th>\n",
       "      <td>Doug</td>\n",
       "      <td>Jones</td>\n",
       "      <td>mostly-true</td>\n",
       "      <td>1</td>\n",
       "      <td>3</td>\n",
       "      <td>0.333333</td>\n",
       "    </tr>\n",
       "    <tr>\n",
       "      <th>4623</th>\n",
       "      <td>Ron</td>\n",
       "      <td>Ramsey</td>\n",
       "      <td>pants-fire</td>\n",
       "      <td>1</td>\n",
       "      <td>3</td>\n",
       "      <td>0.333333</td>\n",
       "    </tr>\n",
       "    <tr>\n",
       "      <th>5537</th>\n",
       "      <td>Wayne</td>\n",
       "      <td>Rogers</td>\n",
       "      <td>pants-fire</td>\n",
       "      <td>1</td>\n",
       "      <td>1</td>\n",
       "      <td>1.000000</td>\n",
       "    </tr>\n",
       "    <tr>\n",
       "      <th>4894</th>\n",
       "      <td>Sheila</td>\n",
       "      <td>Oliver</td>\n",
       "      <td>mostly-true</td>\n",
       "      <td>3</td>\n",
       "      <td>6</td>\n",
       "      <td>0.500000</td>\n",
       "    </tr>\n",
       "  </tbody>\n",
       "</table>\n",
       "</div>"
      ],
      "text/plain": [
       "     speaker_first_name speaker_last_name        label  0_x  0_y  \\\n",
       "3897              Mike             Rogers         true    1    7   \n",
       "1445               Doug             Jones  mostly-true    1    3   \n",
       "4623                Ron            Ramsey   pants-fire    1    3   \n",
       "5537              Wayne            Rogers   pants-fire    1    1   \n",
       "4894             Sheila            Oliver  mostly-true    3    6   \n",
       "\n",
       "      statements_perc  \n",
       "3897         0.142857  \n",
       "1445         0.333333  \n",
       "4623         0.333333  \n",
       "5537         1.000000  \n",
       "4894         0.500000  "
      ]
     },
     "execution_count": 232,
     "metadata": {},
     "output_type": "execute_result"
    }
   ],
   "source": [
    "people_pants_classification = statements[['speaker_first_name', 'speaker_last_name', 'label']]\n",
    "\n",
    "# Does not work : people_pants_classification = people_pants_classification.loc[people_pants_classification['speaker_first_name']!='' & people_pants_classification['speaker_first_name'].notnull()]\n",
    "# So I did the following:\n",
    "people_pants_classification = people_pants_classification.loc[people_pants_classification['speaker_first_name']!='']\n",
    "people_pants_classification = people_pants_classification.loc[people_pants_classification['speaker_last_name']!='']\n",
    "people_pants_classification = people_pants_classification.loc[people_pants_classification['speaker_first_name'].notnull()]\n",
    "people_pants_classification = people_pants_classification.loc[people_pants_classification['speaker_last_name'].notnull()]\n",
    "\n",
    "_blop = people_pants_classification[['speaker_first_name', 'speaker_last_name']].groupby(['speaker_first_name', 'speaker_last_name']).size().reset_index()\n",
    "_blopblop = people_pants_classification.groupby(['speaker_first_name', 'speaker_last_name', 'label']).size().reset_index().rename(columns={'0':'nb_labeled_statements'})\n",
    "\n",
    "statement_percentage = pd.merge(_blopblop,_blop,on=['speaker_first_name','speaker_last_name'])\n",
    "\n",
    "statement_percentage['statements_perc'] = statement_percentage['0_x']/statement_percentage['0_y']\n",
    "#statement_percentage.sample(5)"
   ]
  },
  {
   "cell_type": "code",
   "execution_count": 250,
   "metadata": {},
   "outputs": [
    {
     "data": {
      "text/html": [
       "<div>\n",
       "<style scoped>\n",
       "    .dataframe tbody tr th:only-of-type {\n",
       "        vertical-align: middle;\n",
       "    }\n",
       "\n",
       "    .dataframe tbody tr th {\n",
       "        vertical-align: top;\n",
       "    }\n",
       "\n",
       "    .dataframe thead th {\n",
       "        text-align: right;\n",
       "    }\n",
       "</style>\n",
       "<table border=\"1\" class=\"dataframe\">\n",
       "  <thead>\n",
       "    <tr style=\"text-align: right;\">\n",
       "      <th></th>\n",
       "      <th>speaker_first_name</th>\n",
       "      <th>speaker_last_name</th>\n",
       "      <th>label</th>\n",
       "      <th>0_x</th>\n",
       "      <th>0_y</th>\n",
       "      <th>statements_perc</th>\n",
       "    </tr>\n",
       "  </thead>\n",
       "  <tbody>\n",
       "    <tr>\n",
       "      <th>5311</th>\n",
       "      <td>Todd</td>\n",
       "      <td>Staples</td>\n",
       "      <td>half-flip</td>\n",
       "      <td>1</td>\n",
       "      <td>12</td>\n",
       "      <td>0.083333</td>\n",
       "    </tr>\n",
       "    <tr>\n",
       "      <th>1228</th>\n",
       "      <td>David</td>\n",
       "      <td>Perdue</td>\n",
       "      <td>mostly-true</td>\n",
       "      <td>8</td>\n",
       "      <td>20</td>\n",
       "      <td>0.400000</td>\n",
       "    </tr>\n",
       "    <tr>\n",
       "      <th>1146</th>\n",
       "      <td>Dave</td>\n",
       "      <td>Aronberg</td>\n",
       "      <td>true</td>\n",
       "      <td>2</td>\n",
       "      <td>4</td>\n",
       "      <td>0.500000</td>\n",
       "    </tr>\n",
       "    <tr>\n",
       "      <th>4286</th>\n",
       "      <td>Ralph</td>\n",
       "      <td>Nader</td>\n",
       "      <td>false</td>\n",
       "      <td>1</td>\n",
       "      <td>4</td>\n",
       "      <td>0.250000</td>\n",
       "    </tr>\n",
       "    <tr>\n",
       "      <th>2245</th>\n",
       "      <td>Jeff</td>\n",
       "      <td>Brandes</td>\n",
       "      <td>true</td>\n",
       "      <td>2</td>\n",
       "      <td>4</td>\n",
       "      <td>0.500000</td>\n",
       "    </tr>\n",
       "  </tbody>\n",
       "</table>\n",
       "</div>"
      ],
      "text/plain": [
       "     speaker_first_name speaker_last_name        label  0_x  0_y  \\\n",
       "5311               Todd           Staples    half-flip    1   12   \n",
       "1228              David            Perdue  mostly-true    8   20   \n",
       "1146               Dave          Aronberg         true    2    4   \n",
       "4286              Ralph             Nader        false    1    4   \n",
       "2245               Jeff           Brandes         true    2    4   \n",
       "\n",
       "      statements_perc  \n",
       "5311         0.083333  \n",
       "1228         0.400000  \n",
       "1146         0.500000  \n",
       "4286         0.250000  \n",
       "2245         0.500000  "
      ]
     },
     "execution_count": 250,
     "metadata": {},
     "output_type": "execute_result"
    }
   ],
   "source": [
    "# pants on fire analysis\n",
    "statement_percentage.loc[statement_percentage['label']=='pants-fire'].sort_values(by='statements_perc', ascending=False)\n",
    "# remove all the statements_perc = 1 because they represent only pants-fire statements\n",
    "statement_percentage_cleaned = statement_percentage.loc[statement_percentage['statements_perc']<1]\n",
    "statement_percentage_cleaned.sample(5)"
   ]
  },
  {
   "cell_type": "code",
   "execution_count": 258,
   "metadata": {},
   "outputs": [],
   "source": [
    "%matplotlib inline\n",
    "#statement_percentage_cleaned.plot(kind='scatter' y='statements_perc')\n",
    "import seaborn as sns"
   ]
  },
  {
   "cell_type": "code",
   "execution_count": 259,
   "metadata": {},
   "outputs": [
    {
     "data": {
      "text/plain": [
       "<matplotlib.axes._subplots.AxesSubplot at 0x1a197bd2e8>"
      ]
     },
     "execution_count": 259,
     "metadata": {},
     "output_type": "execute_result"
    },
    {
     "data": {
      "image/png": "[encoded data removed]",
      "text/plain": [
       "<Figure size 432x288 with 1 Axes>"
      ]
     },
     "metadata": {},
     "output_type": "display_data"
    }
   ],
   "source": [
    "sns.distplot(statement_percentage_cleaned.statements_perc)"
   ]
  },
  {
   "cell_type": "code",
   "execution_count": 224,
   "metadata": {},
   "outputs": [],
   "source": [
    "# Column renaming does not work\n",
    "#.rename(columns={'0':'nb_statements'})\n",
    "# to rename the column of counts df = df.rename(columns={'oldName1': 'newName1', 'oldName2': 'newName2'})\n",
    "# _blop.rename(columns='0':'nb_statements')"
   ]
  },
  {
   "cell_type": "code",
   "execution_count": 225,
   "metadata": {},
   "outputs": [
    {
     "data": {
      "text/html": [
       "<div>\n",
       "<style scoped>\n",
       "    .dataframe tbody tr th:only-of-type {\n",
       "        vertical-align: middle;\n",
       "    }\n",
       "\n",
       "    .dataframe tbody tr th {\n",
       "        vertical-align: top;\n",
       "    }\n",
       "\n",
       "    .dataframe thead th {\n",
       "        text-align: right;\n",
       "    }\n",
       "</style>\n",
       "<table border=\"1\" class=\"dataframe\">\n",
       "  <thead>\n",
       "    <tr style=\"text-align: right;\">\n",
       "      <th></th>\n",
       "      <th>speaker_first_name</th>\n",
       "      <th>speaker_last_name</th>\n",
       "      <th>0</th>\n",
       "    </tr>\n",
       "  </thead>\n",
       "  <tbody>\n",
       "    <tr>\n",
       "      <th>783</th>\n",
       "      <td>Donald</td>\n",
       "      <td>Trump</td>\n",
       "      <td>639</td>\n",
       "    </tr>\n",
       "    <tr>\n",
       "      <th>1124</th>\n",
       "      <td>Ivanka</td>\n",
       "      <td>Trump</td>\n",
       "      <td>7</td>\n",
       "    </tr>\n",
       "  </tbody>\n",
       "</table>\n",
       "</div>"
      ],
      "text/plain": [
       "     speaker_first_name speaker_last_name    0\n",
       "783              Donald             Trump  639\n",
       "1124             Ivanka             Trump    7"
      ]
     },
     "execution_count": 225,
     "metadata": {},
     "output_type": "execute_result"
    }
   ],
   "source": [
    "# Verification, not needed\n",
    "_blop[_blop['speaker_last_name'].eq('Trump')]"
   ]
  },
  {
   "cell_type": "markdown",
   "metadata": {
    "heading_collapsed": true
   },
   "source": [
    "# ------------------------------------------------------------------------------------------------------"
   ]
  },
  {
   "cell_type": "code",
   "execution_count": null,
   "metadata": {
    "hidden": true
   },
   "outputs": [],
   "source": []
  },
  {
   "cell_type": "code",
   "execution_count": null,
   "metadata": {
    "hidden": true
   },
   "outputs": [],
   "source": []
  },
  {
   "cell_type": "code",
   "execution_count": 10,
   "metadata": {
    "ExecuteTime": {
     "end_time": "2018-11-23T14:05:12.691316Z",
     "start_time": "2018-11-23T14:05:12.658211Z"
    },
    "collapsed": true,
    "hidden": true
   },
   "outputs": [
    {
     "ename": "NameError",
     "evalue": "name 'false' is not defined",
     "output_type": "error",
     "traceback": [
      "\u001b[0;31m---------------------------------------------------------------------------\u001b[0m",
      "\u001b[0;31mNameError\u001b[0m                                 Traceback (most recent call last)",
      "\u001b[0;32m<ipython-input-10-2493ee97f1de>\u001b[0m in \u001b[0;36m<module>\u001b[0;34m()\u001b[0m\n\u001b[1;32m      1\u001b[0m \u001b[0;31m# no longer necessary\u001b[0m\u001b[0;34m\u001b[0m\u001b[0;34m\u001b[0m\u001b[0m\n\u001b[0;32m----> 2\u001b[0;31m \u001b[0;32mif\u001b[0m \u001b[0mfalse\u001b[0m\u001b[0;34m:\u001b[0m\u001b[0;34m\u001b[0m\u001b[0m\n\u001b[0m\u001b[1;32m      3\u001b[0m     \u001b[0mdf\u001b[0m\u001b[0;34m[\u001b[0m\u001b[0;34m'label_as_nb'\u001b[0m\u001b[0;34m]\u001b[0m \u001b[0;34m=\u001b[0m \u001b[0mdf\u001b[0m\u001b[0;34m[\u001b[0m\u001b[0;34m'label'\u001b[0m\u001b[0;34m]\u001b[0m\u001b[0;34m.\u001b[0m\u001b[0mapply\u001b[0m\u001b[0;34m(\u001b[0m\u001b[0mlabel_to_nb\u001b[0m\u001b[0;34m)\u001b[0m \u001b[0;34m*\u001b[0m \u001b[0;36m2\u001b[0m\u001b[0;34m\u001b[0m\u001b[0m\n\u001b[1;32m      4\u001b[0m     \u001b[0mdf\u001b[0m\u001b[0;34m[\u001b[0m\u001b[0;34m'statement_id'\u001b[0m\u001b[0;34m]\u001b[0m \u001b[0;34m=\u001b[0m \u001b[0mpd\u001b[0m\u001b[0;34m.\u001b[0m\u001b[0mto_numeric\u001b[0m\u001b[0;34m(\u001b[0m\u001b[0mdf\u001b[0m\u001b[0;34m[\u001b[0m\u001b[0;34m'statement_id'\u001b[0m\u001b[0;34m]\u001b[0m\u001b[0;34m)\u001b[0m\u001b[0;34m\u001b[0m\u001b[0m\n\u001b[1;32m      5\u001b[0m     \u001b[0mlies\u001b[0m \u001b[0;34m=\u001b[0m \u001b[0mdf\u001b[0m\u001b[0;34m.\u001b[0m\u001b[0mmerge\u001b[0m\u001b[0;34m(\u001b[0m\u001b[0madditional_information\u001b[0m\u001b[0;34m,\u001b[0m \u001b[0mon\u001b[0m\u001b[0;34m=\u001b[0m\u001b[0;34m'statement_id'\u001b[0m\u001b[0;34m,\u001b[0m \u001b[0mhow\u001b[0m\u001b[0;34m=\u001b[0m\u001b[0;34m'left'\u001b[0m\u001b[0;34m)\u001b[0m\u001b[0;34m\u001b[0m\u001b[0m\n",
      "\u001b[0;31mNameError\u001b[0m: name 'false' is not defined"
     ]
    }
   ],
   "source": [
    "# no longer necessary\n",
    "if false:\n",
    "    df['label_as_nb'] = df['label'].apply(label_to_nb) * 2 \n",
    "    df['statement_id'] = pd.to_numeric(df['statement_id'])\n",
    "    lies = df.merge(additional_information, on='statement_id', how='left')"
   ]
  },
  {
   "cell_type": "markdown",
   "metadata": {
    "hidden": true
   },
   "source": [
    "Let's just see what we have here:"
   ]
  },
  {
   "cell_type": "code",
   "execution_count": 11,
   "metadata": {
    "ExecuteTime": {
     "end_time": "2018-11-26T23:15:50.111849Z",
     "start_time": "2018-11-26T23:15:50.081132Z"
    },
    "hidden": true
   },
   "outputs": [
    {
     "ename": "NameError",
     "evalue": "name 'lies' is not defined",
     "output_type": "error",
     "traceback": [
      "\u001b[0;31m---------------------------------------------------------------------------\u001b[0m",
      "\u001b[0;31mNameError\u001b[0m                                 Traceback (most recent call last)",
      "\u001b[0;32m<ipython-input-11-6587f4827f39>\u001b[0m in \u001b[0;36m<module>\u001b[0;34m()\u001b[0m\n\u001b[1;32m      1\u001b[0m \u001b[0;31m# TODO rene add new values, see trello board\u001b[0m\u001b[0;34m\u001b[0m\u001b[0;34m\u001b[0m\u001b[0m\n\u001b[0;32m----> 2\u001b[0;31m \u001b[0mlies\u001b[0m\u001b[0;34m[\u001b[0m\u001b[0;34m'label_to_nb'\u001b[0m\u001b[0;34m]\u001b[0m \u001b[0;34m=\u001b[0m \u001b[0mlies\u001b[0m\u001b[0;34m[\u001b[0m\u001b[0;34m'label'\u001b[0m\u001b[0;34m]\u001b[0m\u001b[0;34m.\u001b[0m\u001b[0mapply\u001b[0m\u001b[0;34m(\u001b[0m\u001b[0mlabel_to_nb\u001b[0m\u001b[0;34m)\u001b[0m \u001b[0;34m*\u001b[0m \u001b[0;36m2\u001b[0m\u001b[0;34m\u001b[0m\u001b[0m\n\u001b[0m",
      "\u001b[0;31mNameError\u001b[0m: name 'lies' is not defined"
     ]
    }
   ],
   "source": [
    "# TODO rene add new values, see trello board\n",
    "lies['label_to_nb'] = lies['label'].apply(label_to_nb) * 2"
   ]
  },
  {
   "cell_type": "code",
   "execution_count": 12,
   "metadata": {
    "ExecuteTime": {
     "end_time": "2018-11-26T23:10:54.850114Z",
     "start_time": "2018-11-26T23:10:54.837258Z"
    },
    "hidden": true
   },
   "outputs": [
    {
     "ename": "NameError",
     "evalue": "name 'lies' is not defined",
     "output_type": "error",
     "traceback": [
      "\u001b[0;31m---------------------------------------------------------------------------\u001b[0m",
      "\u001b[0;31mNameError\u001b[0m                                 Traceback (most recent call last)",
      "\u001b[0;32m<ipython-input-12-6edf111eed88>\u001b[0m in \u001b[0;36m<module>\u001b[0;34m()\u001b[0m\n\u001b[0;32m----> 1\u001b[0;31m \u001b[0mlies\u001b[0m\u001b[0;34m[\u001b[0m\u001b[0;34m'label'\u001b[0m\u001b[0;34m]\u001b[0m\u001b[0;34m.\u001b[0m\u001b[0mvalue_counts\u001b[0m\u001b[0;34m(\u001b[0m\u001b[0;34m)\u001b[0m\u001b[0;34m\u001b[0m\u001b[0m\n\u001b[0m",
      "\u001b[0;31mNameError\u001b[0m: name 'lies' is not defined"
     ]
    }
   ],
   "source": [
    "lies['label'].value_counts()"
   ]
  },
  {
   "cell_type": "code",
   "execution_count": 13,
   "metadata": {
    "ExecuteTime": {
     "end_time": "2018-12-13T17:55:34.774105Z",
     "start_time": "2018-12-13T17:55:34.768276Z"
    },
    "hidden": true
   },
   "outputs": [],
   "source": [
    "def _count_for_last_name_(df, last_name):\n",
    "    return group_and_count(lies.loc[lies['speaker_last_name'].str.contains(last_name, flags=re.IGNORECASE), :], 'label', with_pct=True)\\\n",
    "            .rename(columns={'count': f'count_{last_name}', 'count_pct': f'count_pct{last_name}'})"
   ]
  },
  {
   "cell_type": "code",
   "execution_count": 14,
   "metadata": {
    "ExecuteTime": {
     "end_time": "2018-12-13T17:55:34.935077Z",
     "start_time": "2018-12-13T17:55:34.862847Z"
    },
    "hidden": true
   },
   "outputs": [
    {
     "ename": "NameError",
     "evalue": "name 'lies' is not defined",
     "output_type": "error",
     "traceback": [
      "\u001b[0;31m---------------------------------------------------------------------------\u001b[0m",
      "\u001b[0;31mNameError\u001b[0m                                 Traceback (most recent call last)",
      "\u001b[0;32m<ipython-input-14-956a7b1a4f8f>\u001b[0m in \u001b[0;36m<module>\u001b[0;34m()\u001b[0m\n\u001b[0;32m----> 1\u001b[0;31m \u001b[0mpd\u001b[0m\u001b[0;34m.\u001b[0m\u001b[0mmerge\u001b[0m\u001b[0;34m(\u001b[0m\u001b[0m_count_for_last_name_\u001b[0m\u001b[0;34m(\u001b[0m\u001b[0mlies\u001b[0m\u001b[0;34m,\u001b[0m \u001b[0;34m'obama'\u001b[0m\u001b[0;34m)\u001b[0m\u001b[0;34m,\u001b[0m \u001b[0m_count_for_last_name_\u001b[0m\u001b[0;34m(\u001b[0m\u001b[0mlies\u001b[0m\u001b[0;34m,\u001b[0m \u001b[0;34m'trump'\u001b[0m\u001b[0;34m)\u001b[0m\u001b[0;34m,\u001b[0m \u001b[0mon\u001b[0m\u001b[0;34m=\u001b[0m\u001b[0;34m'label'\u001b[0m\u001b[0;34m)\u001b[0m\u001b[0;34m\u001b[0m\u001b[0m\n\u001b[0m",
      "\u001b[0;31mNameError\u001b[0m: name 'lies' is not defined"
     ]
    }
   ],
   "source": [
    "pd.merge(_count_for_last_name_(lies, 'obama'), _count_for_last_name_(lies, 'trump'), on='label')"
   ]
  },
  {
   "cell_type": "markdown",
   "metadata": {
    "hidden": true
   },
   "source": [
    "Here we can see that Barack Obama had 549 statements labeled with _pants on fire_."
   ]
  },
  {
   "cell_type": "code",
   "execution_count": 15,
   "metadata": {
    "ExecuteTime": {
     "end_time": "2018-11-23T14:05:12.996192Z",
     "start_time": "2018-11-23T14:05:12.980178Z"
    },
    "hidden": true
   },
   "outputs": [
    {
     "ename": "NameError",
     "evalue": "name 'lies' is not defined",
     "output_type": "error",
     "traceback": [
      "\u001b[0;31m---------------------------------------------------------------------------\u001b[0m",
      "\u001b[0;31mNameError\u001b[0m                                 Traceback (most recent call last)",
      "\u001b[0;32m<ipython-input-15-ef27234ca332>\u001b[0m in \u001b[0;36m<module>\u001b[0;34m()\u001b[0m\n\u001b[0;32m----> 1\u001b[0;31m \u001b[0mlies\u001b[0m\u001b[0;34m[\u001b[0m\u001b[0mlies\u001b[0m\u001b[0;34m[\u001b[0m\u001b[0;34m'speakers_job_title'\u001b[0m\u001b[0;34m]\u001b[0m\u001b[0;34m.\u001b[0m\u001b[0mstr\u001b[0m\u001b[0;34m.\u001b[0m\u001b[0mcontains\u001b[0m\u001b[0;34m(\u001b[0m\u001b[0;34m'County'\u001b[0m\u001b[0;34m)\u001b[0m \u001b[0;34m==\u001b[0m \u001b[0;32mTrue\u001b[0m\u001b[0;34m]\u001b[0m\u001b[0;34m.\u001b[0m\u001b[0mshape\u001b[0m\u001b[0;34m\u001b[0m\u001b[0m\n\u001b[0m",
      "\u001b[0;31mNameError\u001b[0m: name 'lies' is not defined"
     ]
    }
   ],
   "source": [
    "lies[lies['speakers_job_title'].str.contains('County') == True].shape"
   ]
  },
  {
   "cell_type": "code",
   "execution_count": 16,
   "metadata": {
    "ExecuteTime": {
     "end_time": "2018-11-23T14:05:13.100791Z",
     "start_time": "2018-11-23T14:05:13.095370Z"
    },
    "hidden": true,
    "scrolled": true
   },
   "outputs": [
    {
     "ename": "NameError",
     "evalue": "name 'lies' is not defined",
     "output_type": "error",
     "traceback": [
      "\u001b[0;31m---------------------------------------------------------------------------\u001b[0m",
      "\u001b[0;31mNameError\u001b[0m                                 Traceback (most recent call last)",
      "\u001b[0;32m<ipython-input-16-4a6f1d0b56cc>\u001b[0m in \u001b[0;36m<module>\u001b[0;34m()\u001b[0m\n\u001b[0;32m----> 1\u001b[0;31m \u001b[0mlies\u001b[0m\u001b[0;34m[\u001b[0m\u001b[0;34m'statement_date'\u001b[0m\u001b[0;34m]\u001b[0m\u001b[0;34m.\u001b[0m\u001b[0mdescribe\u001b[0m\u001b[0;34m(\u001b[0m\u001b[0;34m)\u001b[0m\u001b[0;34m\u001b[0m\u001b[0m\n\u001b[0m",
      "\u001b[0;31mNameError\u001b[0m: name 'lies' is not defined"
     ]
    }
   ],
   "source": [
    "lies['statement_date'].describe()"
   ]
  },
  {
   "cell_type": "markdown",
   "metadata": {
    "hidden": true
   },
   "source": [
    "Above, we can see that statements range from 1995 to 2016."
   ]
  },
  {
   "cell_type": "markdown",
   "metadata": {
    "hidden": true
   },
   "source": [
    "Now, let's do some profiling to get some more insights:"
   ]
  },
  {
   "cell_type": "code",
   "execution_count": 17,
   "metadata": {
    "ExecuteTime": {
     "end_time": "2018-11-23T14:05:14.172902Z",
     "start_time": "2018-11-23T14:05:13.219463Z"
    },
    "hidden": true,
    "scrolled": true
   },
   "outputs": [
    {
     "ename": "NameError",
     "evalue": "name 'lies' is not defined",
     "output_type": "error",
     "traceback": [
      "\u001b[0;31m---------------------------------------------------------------------------\u001b[0m",
      "\u001b[0;31mNameError\u001b[0m                                 Traceback (most recent call last)",
      "\u001b[0;32m<ipython-input-17-a8a68b4275b0>\u001b[0m in \u001b[0;36m<module>\u001b[0;34m()\u001b[0m\n\u001b[0;32m----> 1\u001b[0;31m \u001b[0mpandas_profiling\u001b[0m\u001b[0;34m.\u001b[0m\u001b[0mProfileReport\u001b[0m\u001b[0;34m(\u001b[0m\u001b[0mlies\u001b[0m\u001b[0;34m)\u001b[0m\u001b[0;34m\u001b[0m\u001b[0m\n\u001b[0m",
      "\u001b[0;31mNameError\u001b[0m: name 'lies' is not defined"
     ]
    }
   ],
   "source": [
    "pandas_profiling.ProfileReport(lies)"
   ]
  },
  {
   "cell_type": "markdown",
   "metadata": {
    "heading_collapsed": true
   },
   "source": [
    "# Federal Election Results"
   ]
  },
  {
   "cell_type": "markdown",
   "metadata": {
    "hidden": true
   },
   "source": [
    "We have another dataset that we will explore and merge to our LIAR dataset in order to get some more insight into data. This one is regarding election results."
   ]
  },
  {
   "cell_type": "code",
   "execution_count": 18,
   "metadata": {
    "ExecuteTime": {
     "end_time": "2018-11-23T14:05:14.177069Z",
     "start_time": "2018-11-23T14:05:14.174640Z"
    },
    "hidden": true
   },
   "outputs": [],
   "source": [
    "pd.options.display.max_colwidth = 300\n",
    "pd.options.display.max_columns = 300"
   ]
  },
  {
   "cell_type": "code",
   "execution_count": 19,
   "metadata": {
    "ExecuteTime": {
     "end_time": "2018-11-23T14:05:14.190483Z",
     "start_time": "2018-11-23T14:05:14.178287Z"
    },
    "hidden": true
   },
   "outputs": [],
   "source": [
    "from itertools import product\n",
    "from functools import reduce"
   ]
  },
  {
   "cell_type": "code",
   "execution_count": 20,
   "metadata": {
    "ExecuteTime": {
     "end_time": "2018-12-13T17:55:48.638641Z",
     "start_time": "2018-12-13T17:55:48.631235Z"
    },
    "hidden": true
   },
   "outputs": [],
   "source": [
    "def add_ending(f):\n",
    "    \"\"\" File ending depending on a year\n",
    "    \n",
    "    Parameters\n",
    "    ----------\n",
    "    f: str\n",
    "        Name of the file\n",
    "    \n",
    "    ToDos:\n",
    "    - do 2012 it's a special snowflake\n",
    "    \"\"\"\n",
    "    if '2016' in f:\n",
    "        return f\"{f}x\"\n",
    "    else:\n",
    "        return f\n",
    "\n",
    "\n",
    "election_files = [(add_ending(f'{directory_election_results}/federalelections{year}.xls'), year) for year in [2014, 2016]]"
   ]
  },
  {
   "cell_type": "markdown",
   "metadata": {
    "hidden": true
   },
   "source": [
    "Now, let's prepare some data for viewing:"
   ]
  },
  {
   "cell_type": "code",
   "execution_count": 21,
   "metadata": {
    "ExecuteTime": {
     "end_time": "2018-12-13T17:55:51.265010Z",
     "start_time": "2018-12-13T17:55:51.258328Z"
    },
    "hidden": true
   },
   "outputs": [],
   "source": [
    "election_results_cols_of_interest = ['CANDIDATE NAME', 'PRIMARY VOTES', 'PRIMARY %']\n",
    "\n",
    "def fix_columns_election_results(df, year, type_):\n",
    "    \"\"\"we are only interested in the primary votes, since these reflect the opinion the most\"\"\"\n",
    "    df = df.loc[:, election_results_cols_of_interest]\n",
    "    df[f'primary_votes_{type_.lower()}_{year}'] = df['PRIMARY VOTES']\n",
    "    df[f'primary_votes_{type_.lower()}_{year}_pct'] = df['PRIMARY %']\n",
    "    return df.drop(columns=['PRIMARY VOTES', 'PRIMARY %'])\n",
    "\n",
    "\n",
    "def get_only_voting_results(df):\n",
    "    return df.loc[df['CANDIDATE NAME'].notna() & df['PRIMARY VOTES'].notna() & df['CANDIDATE NAME'].ne('Scattered') & df['CANDIDATE NAME'].ne('All Others'), :]\n",
    "\n",
    "\n",
    "def prep_election_results(df, year, type_):\n",
    "    return fix_columns_election_results(get_only_voting_results(df), year, type_)"
   ]
  },
  {
   "cell_type": "code",
   "execution_count": 22,
   "metadata": {
    "ExecuteTime": {
     "end_time": "2018-12-13T17:55:57.353263Z",
     "start_time": "2018-12-13T17:55:53.276293Z"
    },
    "hidden": true
   },
   "outputs": [],
   "source": [
    "election_results = [prep_election_results(pd.read_excel(f, sheet_name=f'{year} US {type_} Results by State'), year, type_) for (f, year), type_ in product(election_files, ['Senate', 'House'])]\n",
    "\n",
    "# we let the results as they are, merge, and then check if the person is a senator or a member of the house based on the other results\n",
    "# yes they did a spelling mistake\n",
    "election_results += [prep_election_results(pd.read_excel(f'{directory_election_results}/federalelections2012.xls', sheet_name=f'2012 US House & Senate Resuts'), 2012, 'all')]\n",
    "election_results = reduce(lambda acc, el: pd.merge(acc, el, on='CANDIDATE NAME', how='outer'), election_results)"
   ]
  },
  {
   "cell_type": "code",
   "execution_count": 23,
   "metadata": {
    "ExecuteTime": {
     "end_time": "2018-12-13T17:55:57.374766Z",
     "start_time": "2018-12-13T17:55:57.355287Z"
    },
    "hidden": true
   },
   "outputs": [
    {
     "data": {
      "text/html": [
       "<div>\n",
       "<style scoped>\n",
       "    .dataframe tbody tr th:only-of-type {\n",
       "        vertical-align: middle;\n",
       "    }\n",
       "\n",
       "    .dataframe tbody tr th {\n",
       "        vertical-align: top;\n",
       "    }\n",
       "\n",
       "    .dataframe thead th {\n",
       "        text-align: right;\n",
       "    }\n",
       "</style>\n",
       "<table border=\"1\" class=\"dataframe\">\n",
       "  <thead>\n",
       "    <tr style=\"text-align: right;\">\n",
       "      <th></th>\n",
       "      <th>CANDIDATE NAME</th>\n",
       "      <th>primary_votes_senate_2014</th>\n",
       "      <th>primary_votes_senate_2014_pct</th>\n",
       "      <th>primary_votes_house_2014</th>\n",
       "      <th>primary_votes_house_2014_pct</th>\n",
       "      <th>primary_votes_senate_2016</th>\n",
       "      <th>primary_votes_senate_2016_pct</th>\n",
       "      <th>primary_votes_house_2016</th>\n",
       "      <th>primary_votes_house_2016_pct</th>\n",
       "      <th>primary_votes_all_2012</th>\n",
       "      <th>primary_votes_all_2012_pct</th>\n",
       "    </tr>\n",
       "  </thead>\n",
       "  <tbody>\n",
       "    <tr>\n",
       "      <th>0</th>\n",
       "      <td>Sessions, Jeff</td>\n",
       "      <td>Unopposed</td>\n",
       "      <td>NaN</td>\n",
       "      <td>NaN</td>\n",
       "      <td>NaN</td>\n",
       "      <td>NaN</td>\n",
       "      <td>NaN</td>\n",
       "      <td>NaN</td>\n",
       "      <td>NaN</td>\n",
       "      <td>NaN</td>\n",
       "      <td>NaN</td>\n",
       "    </tr>\n",
       "    <tr>\n",
       "      <th>1</th>\n",
       "      <td>Sullivan, Dan</td>\n",
       "      <td>44740</td>\n",
       "      <td>0.400548</td>\n",
       "      <td>NaN</td>\n",
       "      <td>NaN</td>\n",
       "      <td>NaN</td>\n",
       "      <td>NaN</td>\n",
       "      <td>NaN</td>\n",
       "      <td>NaN</td>\n",
       "      <td>NaN</td>\n",
       "      <td>NaN</td>\n",
       "    </tr>\n",
       "    <tr>\n",
       "      <th>2</th>\n",
       "      <td>Miller, Joe</td>\n",
       "      <td>35904</td>\n",
       "      <td>0.321441</td>\n",
       "      <td>NaN</td>\n",
       "      <td>NaN</td>\n",
       "      <td>NaN</td>\n",
       "      <td>NaN</td>\n",
       "      <td>NaN</td>\n",
       "      <td>NaN</td>\n",
       "      <td>NaN</td>\n",
       "      <td>NaN</td>\n",
       "    </tr>\n",
       "    <tr>\n",
       "      <th>3</th>\n",
       "      <td>Treadwell, Mead</td>\n",
       "      <td>27807</td>\n",
       "      <td>0.248950</td>\n",
       "      <td>NaN</td>\n",
       "      <td>NaN</td>\n",
       "      <td>NaN</td>\n",
       "      <td>NaN</td>\n",
       "      <td>NaN</td>\n",
       "      <td>NaN</td>\n",
       "      <td>NaN</td>\n",
       "      <td>NaN</td>\n",
       "    </tr>\n",
       "    <tr>\n",
       "      <th>4</th>\n",
       "      <td>Jaramillo, John M.</td>\n",
       "      <td>3246</td>\n",
       "      <td>0.029061</td>\n",
       "      <td>NaN</td>\n",
       "      <td>NaN</td>\n",
       "      <td>NaN</td>\n",
       "      <td>NaN</td>\n",
       "      <td>NaN</td>\n",
       "      <td>NaN</td>\n",
       "      <td>NaN</td>\n",
       "      <td>NaN</td>\n",
       "    </tr>\n",
       "  </tbody>\n",
       "</table>\n",
       "</div>"
      ],
      "text/plain": [
       "       CANDIDATE NAME primary_votes_senate_2014  \\\n",
       "0      Sessions, Jeff                 Unopposed   \n",
       "1       Sullivan, Dan                     44740   \n",
       "2         Miller, Joe                     35904   \n",
       "3     Treadwell, Mead                     27807   \n",
       "4  Jaramillo, John M.                      3246   \n",
       "\n",
       "   primary_votes_senate_2014_pct primary_votes_house_2014  \\\n",
       "0                            NaN                      NaN   \n",
       "1                       0.400548                      NaN   \n",
       "2                       0.321441                      NaN   \n",
       "3                       0.248950                      NaN   \n",
       "4                       0.029061                      NaN   \n",
       "\n",
       "   primary_votes_house_2014_pct primary_votes_senate_2016  \\\n",
       "0                           NaN                       NaN   \n",
       "1                           NaN                       NaN   \n",
       "2                           NaN                       NaN   \n",
       "3                           NaN                       NaN   \n",
       "4                           NaN                       NaN   \n",
       "\n",
       "   primary_votes_senate_2016_pct primary_votes_house_2016  \\\n",
       "0                            NaN                      NaN   \n",
       "1                            NaN                      NaN   \n",
       "2                            NaN                      NaN   \n",
       "3                            NaN                      NaN   \n",
       "4                            NaN                      NaN   \n",
       "\n",
       "   primary_votes_house_2016_pct primary_votes_all_2012  \\\n",
       "0                           NaN                    NaN   \n",
       "1                           NaN                    NaN   \n",
       "2                           NaN                    NaN   \n",
       "3                           NaN                    NaN   \n",
       "4                           NaN                    NaN   \n",
       "\n",
       "  primary_votes_all_2012_pct  \n",
       "0                        NaN  \n",
       "1                        NaN  \n",
       "2                        NaN  \n",
       "3                        NaN  \n",
       "4                        NaN  "
      ]
     },
     "execution_count": 23,
     "metadata": {},
     "output_type": "execute_result"
    }
   ],
   "source": [
    "election_results.head()"
   ]
  },
  {
   "cell_type": "code",
   "execution_count": 24,
   "metadata": {
    "ExecuteTime": {
     "end_time": "2018-12-13T17:56:35.701754Z",
     "start_time": "2018-12-13T17:56:35.688944Z"
    },
    "hidden": true
   },
   "outputs": [
    {
     "name": "stdout",
     "output_type": "stream",
     "text": [
      "we have multple election results for 1110 politicians (0.19618239660657477%)\n"
     ]
    }
   ],
   "source": [
    "idx_multiple_election_results = election_results.loc[:, [c for c in election_results.columns if any((c.endswith(str(y)) for y in [2012, 2014, 2016]))]].notna().sum(axis=1) > 1\n",
    "\n",
    "print(f\"we have multple election results for {idx_multiple_election_results.sum()} politicians ({idx_multiple_election_results.mean()}%)\")"
   ]
  },
  {
   "cell_type": "code",
   "execution_count": 25,
   "metadata": {
    "ExecuteTime": {
     "end_time": "2018-12-13T17:56:48.386112Z",
     "start_time": "2018-12-13T17:56:48.361763Z"
    },
    "hidden": true
   },
   "outputs": [
    {
     "data": {
      "text/html": [
       "<div>\n",
       "<style scoped>\n",
       "    .dataframe tbody tr th:only-of-type {\n",
       "        vertical-align: middle;\n",
       "    }\n",
       "\n",
       "    .dataframe tbody tr th {\n",
       "        vertical-align: top;\n",
       "    }\n",
       "\n",
       "    .dataframe thead th {\n",
       "        text-align: right;\n",
       "    }\n",
       "</style>\n",
       "<table border=\"1\" class=\"dataframe\">\n",
       "  <thead>\n",
       "    <tr style=\"text-align: right;\">\n",
       "      <th></th>\n",
       "      <th>CANDIDATE NAME</th>\n",
       "      <th>primary_votes_senate_2014</th>\n",
       "      <th>primary_votes_senate_2014_pct</th>\n",
       "      <th>primary_votes_house_2014</th>\n",
       "      <th>primary_votes_house_2014_pct</th>\n",
       "      <th>primary_votes_senate_2016</th>\n",
       "      <th>primary_votes_senate_2016_pct</th>\n",
       "      <th>primary_votes_house_2016</th>\n",
       "      <th>primary_votes_house_2016_pct</th>\n",
       "      <th>primary_votes_all_2012</th>\n",
       "      <th>primary_votes_all_2012_pct</th>\n",
       "    </tr>\n",
       "  </thead>\n",
       "  <tbody>\n",
       "    <tr>\n",
       "      <th>16</th>\n",
       "      <td>Gardner, Cory</td>\n",
       "      <td>338324</td>\n",
       "      <td>1.000000</td>\n",
       "      <td>NaN</td>\n",
       "      <td>NaN</td>\n",
       "      <td>NaN</td>\n",
       "      <td>NaN</td>\n",
       "      <td>NaN</td>\n",
       "      <td>NaN</td>\n",
       "      <td>49340</td>\n",
       "      <td>1</td>\n",
       "    </tr>\n",
       "    <tr>\n",
       "      <th>19</th>\n",
       "      <td>Wade, Kevin</td>\n",
       "      <td>18181</td>\n",
       "      <td>0.756627</td>\n",
       "      <td>NaN</td>\n",
       "      <td>NaN</td>\n",
       "      <td>NaN</td>\n",
       "      <td>NaN</td>\n",
       "      <td>NaN</td>\n",
       "      <td>NaN</td>\n",
       "      <td>Unopposed</td>\n",
       "      <td>NaN</td>\n",
       "    </tr>\n",
       "    <tr>\n",
       "      <th>32</th>\n",
       "      <td>Schatz, Brian</td>\n",
       "      <td>115445</td>\n",
       "      <td>0.493460</td>\n",
       "      <td>NaN</td>\n",
       "      <td>NaN</td>\n",
       "      <td>162905</td>\n",
       "      <td>0.861662</td>\n",
       "      <td>NaN</td>\n",
       "      <td>NaN</td>\n",
       "      <td>NaN</td>\n",
       "      <td>NaN</td>\n",
       "    </tr>\n",
       "    <tr>\n",
       "      <th>33</th>\n",
       "      <td>Hanabusa, Colleen Wakako</td>\n",
       "      <td>113663</td>\n",
       "      <td>0.485843</td>\n",
       "      <td>NaN</td>\n",
       "      <td>NaN</td>\n",
       "      <td>NaN</td>\n",
       "      <td>NaN</td>\n",
       "      <td>74022</td>\n",
       "      <td>0.803757</td>\n",
       "      <td>NaN</td>\n",
       "      <td>NaN</td>\n",
       "    </tr>\n",
       "    <tr>\n",
       "      <th>36</th>\n",
       "      <td>Roco, John P.</td>\n",
       "      <td>4425</td>\n",
       "      <td>0.123572</td>\n",
       "      <td>NaN</td>\n",
       "      <td>NaN</td>\n",
       "      <td>3956</td>\n",
       "      <td>0.110303</td>\n",
       "      <td>NaN</td>\n",
       "      <td>NaN</td>\n",
       "      <td>545</td>\n",
       "      <td>0.0112848</td>\n",
       "    </tr>\n",
       "  </tbody>\n",
       "</table>\n",
       "</div>"
      ],
      "text/plain": [
       "              CANDIDATE NAME primary_votes_senate_2014  \\\n",
       "16             Gardner, Cory                    338324   \n",
       "19               Wade, Kevin                     18181   \n",
       "32             Schatz, Brian                    115445   \n",
       "33  Hanabusa, Colleen Wakako                    113663   \n",
       "36             Roco, John P.                      4425   \n",
       "\n",
       "    primary_votes_senate_2014_pct primary_votes_house_2014  \\\n",
       "16                       1.000000                      NaN   \n",
       "19                       0.756627                      NaN   \n",
       "32                       0.493460                      NaN   \n",
       "33                       0.485843                      NaN   \n",
       "36                       0.123572                      NaN   \n",
       "\n",
       "    primary_votes_house_2014_pct primary_votes_senate_2016  \\\n",
       "16                           NaN                       NaN   \n",
       "19                           NaN                       NaN   \n",
       "32                           NaN                    162905   \n",
       "33                           NaN                       NaN   \n",
       "36                           NaN                      3956   \n",
       "\n",
       "    primary_votes_senate_2016_pct primary_votes_house_2016  \\\n",
       "16                            NaN                      NaN   \n",
       "19                            NaN                      NaN   \n",
       "32                       0.861662                      NaN   \n",
       "33                            NaN                    74022   \n",
       "36                       0.110303                      NaN   \n",
       "\n",
       "    primary_votes_house_2016_pct primary_votes_all_2012  \\\n",
       "16                           NaN                  49340   \n",
       "19                           NaN              Unopposed   \n",
       "32                           NaN                    NaN   \n",
       "33                      0.803757                    NaN   \n",
       "36                           NaN                    545   \n",
       "\n",
       "   primary_votes_all_2012_pct  \n",
       "16                          1  \n",
       "19                        NaN  \n",
       "32                        NaN  \n",
       "33                        NaN  \n",
       "36                  0.0112848  "
      ]
     },
     "execution_count": 25,
     "metadata": {},
     "output_type": "execute_result"
    }
   ],
   "source": [
    "election_results[idx_multiple_election_results].head()"
   ]
  },
  {
   "cell_type": "code",
   "execution_count": 26,
   "metadata": {
    "ExecuteTime": {
     "end_time": "2018-11-26T23:30:48.179640Z",
     "start_time": "2018-11-26T23:30:48.159311Z"
    },
    "hidden": true,
    "scrolled": false
   },
   "outputs": [
    {
     "data": {
      "text/plain": [
       "Tonko, Paul D.             36\n",
       "Reed, Thomas W., II        36\n",
       "Collins, Chris             24\n",
       "Crowley, Joseph            12\n",
       "Slaughter, Louise M.       12\n",
       "Engel, Eliot L.            12\n",
       "Nadler, Jerrold L.         12\n",
       "Katko, John M.             12\n",
       "Higgins, Brian             12\n",
       "Maloney, Sean Patrick      12\n",
       "Lowey, Nita M.             12\n",
       "Israel, Steve J.            9\n",
       "Gibson, Christopher P.      9\n",
       "King, Peter T.              9\n",
       "Maloney, Carolyn B.         8\n",
       "Jeffries, Hakeem S.         8\n",
       "Stefanik, Elise M.          8\n",
       "Assini, Mark W.             8\n",
       "Clarke, Yvette D.           8\n",
       "Kuster, Ann McLane          8\n",
       "Long, Wendy                 6\n",
       "Bishop, Timothy H.          6\n",
       "Hayworth, Nan               6\n",
       "Zeldin, Lee M.              6\n",
       "Grimm, Michael G.           6\n",
       "Donovan, Dan                4\n",
       "Turek, Jessica L.           4\n",
       "Shea-Porter, Carol          4\n",
       "Terry, Lee                  4\n",
       "Gregory, Du Wayne           4\n",
       "                           ..\n",
       "Johnson, Bert               1\n",
       "Hope, Stephen G.            1\n",
       "Garrard, Robert D.          1\n",
       "Russo, Nathan C.            1\n",
       "Basler, Doug                1\n",
       "Pangrac, David              1\n",
       "White, Woody                1\n",
       "Craig, Ray                  1\n",
       "King, Mytsooko              1\n",
       "Lasee, Frank                1\n",
       "Bouie, John, II             1\n",
       "Peterson, Collin C.         1\n",
       "Shelly, Susan               1\n",
       "Parker, John Thompson       1\n",
       "Raths, Greg                 1\n",
       "Decker, John Henry          1\n",
       "Kemper, Nancy Jo            1\n",
       "Cramer, Robert              1\n",
       "Ostrowski, Andy             1\n",
       "Craig, Andy                 1\n",
       "Arterburn, Tony             1\n",
       "Kittappa, Raja              1\n",
       "Walter, Andrew              1\n",
       "Shields, Summer Justice     1\n",
       "Adams, Dirk S.              1\n",
       "Phipps, Sherry              1\n",
       "McDowell, Gary              1\n",
       "Miller, Aaron               1\n",
       "Reed, Ken                   1\n",
       "Carnahan, Russ              1\n",
       "Name: CANDIDATE NAME, Length: 5106, dtype: int64"
      ]
     },
     "execution_count": 26,
     "metadata": {},
     "output_type": "execute_result"
    }
   ],
   "source": [
    "# yeah ... let's see how many we can join. the one letter endings might be a problem\n",
    "election_results['CANDIDATE NAME'].value_counts()"
   ]
  },
  {
   "cell_type": "code",
   "execution_count": 27,
   "metadata": {
    "ExecuteTime": {
     "end_time": "2018-11-23T14:05:16.839135Z",
     "start_time": "2018-11-23T14:05:16.830067Z"
    },
    "hidden": true
   },
   "outputs": [
    {
     "ename": "NameError",
     "evalue": "name 'lies' is not defined",
     "output_type": "error",
     "traceback": [
      "\u001b[0;31m---------------------------------------------------------------------------\u001b[0m",
      "\u001b[0;31mNameError\u001b[0m                                 Traceback (most recent call last)",
      "\u001b[0;32m<ipython-input-27-88c26cf180bd>\u001b[0m in \u001b[0;36m<module>\u001b[0;34m()\u001b[0m\n\u001b[1;32m      1\u001b[0m \u001b[0;31m# we are only interest in people and they have a first name\u001b[0m\u001b[0;34m\u001b[0m\u001b[0;34m\u001b[0m\u001b[0m\n\u001b[0;32m----> 2\u001b[0;31m \u001b[0mlies\u001b[0m \u001b[0;34m=\u001b[0m \u001b[0mlies\u001b[0m\u001b[0;34m.\u001b[0m\u001b[0mloc\u001b[0m\u001b[0;34m[\u001b[0m\u001b[0mlies\u001b[0m\u001b[0;34m[\u001b[0m\u001b[0;34m'speaker_first_name'\u001b[0m\u001b[0;34m]\u001b[0m\u001b[0;34m.\u001b[0m\u001b[0mnotnull\u001b[0m\u001b[0;34m(\u001b[0m\u001b[0;34m)\u001b[0m\u001b[0;34m,\u001b[0m \u001b[0;34m:\u001b[0m\u001b[0;34m]\u001b[0m\u001b[0;34m\u001b[0m\u001b[0m\n\u001b[0m",
      "\u001b[0;31mNameError\u001b[0m: name 'lies' is not defined"
     ]
    }
   ],
   "source": [
    "# we are only interest in people and they have a first name\n",
    "lies = lies.loc[lies['speaker_first_name'].notnull(), :]"
   ]
  },
  {
   "cell_type": "code",
   "execution_count": 28,
   "metadata": {
    "ExecuteTime": {
     "end_time": "2018-11-23T14:05:16.883211Z",
     "start_time": "2018-11-23T14:05:16.840386Z"
    },
    "hidden": true
   },
   "outputs": [
    {
     "ename": "NameError",
     "evalue": "name 'lies' is not defined",
     "output_type": "error",
     "traceback": [
      "\u001b[0;31m---------------------------------------------------------------------------\u001b[0m",
      "\u001b[0;31mNameError\u001b[0m                                 Traceback (most recent call last)",
      "\u001b[0;32m<ipython-input-28-fe58a1d4426a>\u001b[0m in \u001b[0;36m<module>\u001b[0;34m()\u001b[0m\n\u001b[1;32m      1\u001b[0m \u001b[0;31m# to aggregate the statements\u001b[0m\u001b[0;34m\u001b[0m\u001b[0;34m\u001b[0m\u001b[0m\n\u001b[0;32m----> 2\u001b[0;31m \u001b[0mlies\u001b[0m\u001b[0;34m[\u001b[0m\u001b[0;34m'statement_year'\u001b[0m\u001b[0;34m]\u001b[0m \u001b[0;34m=\u001b[0m \u001b[0mlies\u001b[0m\u001b[0;34m[\u001b[0m\u001b[0;34m'statement_date'\u001b[0m\u001b[0;34m]\u001b[0m\u001b[0;34m.\u001b[0m\u001b[0mdt\u001b[0m\u001b[0;34m.\u001b[0m\u001b[0myear\u001b[0m\u001b[0;34m\u001b[0m\u001b[0m\n\u001b[0m\u001b[1;32m      3\u001b[0m \u001b[0;34m\u001b[0m\u001b[0m\n\u001b[1;32m      4\u001b[0m \u001b[0;31m# for the merging\u001b[0m\u001b[0;34m\u001b[0m\u001b[0;34m\u001b[0m\u001b[0m\n\u001b[1;32m      5\u001b[0m \u001b[0mlies\u001b[0m\u001b[0;34m[\u001b[0m\u001b[0;34m'speaker_full_name'\u001b[0m\u001b[0;34m]\u001b[0m \u001b[0;34m=\u001b[0m \u001b[0mlies\u001b[0m\u001b[0;34m[\u001b[0m\u001b[0;34m'speaker_last_name'\u001b[0m\u001b[0;34m]\u001b[0m \u001b[0;34m+\u001b[0m \u001b[0;34m', '\u001b[0m \u001b[0;34m+\u001b[0m \u001b[0mlies\u001b[0m\u001b[0;34m[\u001b[0m\u001b[0;34m'speaker_first_name'\u001b[0m\u001b[0;34m]\u001b[0m\u001b[0;34m\u001b[0m\u001b[0m\n",
      "\u001b[0;31mNameError\u001b[0m: name 'lies' is not defined"
     ]
    }
   ],
   "source": [
    "# to aggregate the statements\n",
    "lies['statement_year'] = lies['statement_date'].dt.year\n",
    "\n",
    "# for the merging\n",
    "lies['speaker_full_name'] = lies['speaker_last_name'] + ', ' + lies['speaker_first_name']"
   ]
  },
  {
   "cell_type": "markdown",
   "metadata": {
    "hidden": true
   },
   "source": [
    "### Cleaning job titles"
   ]
  },
  {
   "cell_type": "code",
   "execution_count": 29,
   "metadata": {
    "ExecuteTime": {
     "end_time": "2018-11-23T14:05:16.897019Z",
     "start_time": "2018-11-23T14:05:16.884462Z"
    },
    "hidden": true
   },
   "outputs": [
    {
     "ename": "NameError",
     "evalue": "name 'lies' is not defined",
     "output_type": "error",
     "traceback": [
      "\u001b[0;31m---------------------------------------------------------------------------\u001b[0m",
      "\u001b[0;31mNameError\u001b[0m                                 Traceback (most recent call last)",
      "\u001b[0;32m<ipython-input-29-a71a053de5b6>\u001b[0m in \u001b[0;36m<module>\u001b[0;34m()\u001b[0m\n\u001b[1;32m     13\u001b[0m         \u001b[0;32mreturn\u001b[0m \u001b[0mjt\u001b[0m\u001b[0;34m\u001b[0m\u001b[0m\n\u001b[1;32m     14\u001b[0m \u001b[0;34m\u001b[0m\u001b[0m\n\u001b[0;32m---> 15\u001b[0;31m \u001b[0mlies\u001b[0m\u001b[0;34m[\u001b[0m\u001b[0;34m'speakers_job_title_cleaned'\u001b[0m\u001b[0;34m]\u001b[0m \u001b[0;34m=\u001b[0m \u001b[0mlies\u001b[0m\u001b[0;34m[\u001b[0m\u001b[0;34m'speakers_job_title'\u001b[0m\u001b[0;34m]\u001b[0m\u001b[0;34m.\u001b[0m\u001b[0mapply\u001b[0m\u001b[0;34m(\u001b[0m\u001b[0mcleaned_job_title\u001b[0m\u001b[0;34m)\u001b[0m\u001b[0;34m\u001b[0m\u001b[0m\n\u001b[0m",
      "\u001b[0;31mNameError\u001b[0m: name 'lies' is not defined"
     ]
    }
   ],
   "source": [
    "# todo expand this and check this! this is just a quick and dirty fix\n",
    "# is it really houseman? probably not...\n",
    "_job_titles_of_interest = [('senat', 'senator'), ('governor', None), ('congress', 'congressman'), ('mayor', None), ('president', None), ('house', 'houseman'), ('rep', 'houseman')]\n",
    "job_titles_of_interest = [out if out is not None else j for j, out in _job_titles_of_interest]\n",
    "\n",
    "def cleaned_job_title(jt):\n",
    "    jt = str(jt).lower()\n",
    "    \n",
    "    for j, out in _job_titles_of_interest:\n",
    "        if j in jt:\n",
    "            return out if out is not None else j\n",
    "    else:\n",
    "        return jt\n",
    "\n",
    "lies['speakers_job_title_cleaned'] = lies['speakers_job_title'].apply(cleaned_job_title)"
   ]
  },
  {
   "cell_type": "code",
   "execution_count": 30,
   "metadata": {
    "ExecuteTime": {
     "end_time": "2018-11-23T14:05:16.932546Z",
     "start_time": "2018-11-23T14:05:16.898550Z"
    },
    "hidden": true
   },
   "outputs": [
    {
     "ename": "NameError",
     "evalue": "name 'lies' is not defined",
     "output_type": "error",
     "traceback": [
      "\u001b[0;31m---------------------------------------------------------------------------\u001b[0m",
      "\u001b[0;31mNameError\u001b[0m                                 Traceback (most recent call last)",
      "\u001b[0;32m<ipython-input-30-5b2032896777>\u001b[0m in \u001b[0;36m<module>\u001b[0;34m()\u001b[0m\n\u001b[0;32m----> 1\u001b[0;31m \u001b[0m_t\u001b[0m \u001b[0;34m=\u001b[0m \u001b[0mlies\u001b[0m\u001b[0;34m.\u001b[0m\u001b[0mmerge\u001b[0m\u001b[0;34m(\u001b[0m\u001b[0melection_results\u001b[0m\u001b[0;34m,\u001b[0m \u001b[0mleft_on\u001b[0m\u001b[0;34m=\u001b[0m\u001b[0;34m'speaker_full_name'\u001b[0m\u001b[0;34m,\u001b[0m \u001b[0mright_on\u001b[0m\u001b[0;34m=\u001b[0m\u001b[0;34m'CANDIDATE NAME'\u001b[0m\u001b[0;34m,\u001b[0m \u001b[0mhow\u001b[0m\u001b[0;34m=\u001b[0m\u001b[0;34m'outer'\u001b[0m\u001b[0;34m)\u001b[0m\u001b[0;34m\u001b[0m\u001b[0m\n\u001b[0m",
      "\u001b[0;31mNameError\u001b[0m: name 'lies' is not defined"
     ]
    }
   ],
   "source": [
    "_t = lies.merge(election_results, left_on='speaker_full_name', right_on='CANDIDATE NAME', how='outer')"
   ]
  },
  {
   "cell_type": "code",
   "execution_count": 31,
   "metadata": {
    "ExecuteTime": {
     "end_time": "2018-11-23T14:05:16.939503Z",
     "start_time": "2018-11-23T14:05:16.934213Z"
    },
    "hidden": true
   },
   "outputs": [
    {
     "ename": "NameError",
     "evalue": "name '_t' is not defined",
     "output_type": "error",
     "traceback": [
      "\u001b[0;31m---------------------------------------------------------------------------\u001b[0m",
      "\u001b[0;31mNameError\u001b[0m                                 Traceback (most recent call last)",
      "\u001b[0;32m<ipython-input-31-1bf6a89eff0b>\u001b[0m in \u001b[0;36m<module>\u001b[0;34m()\u001b[0m\n\u001b[0;32m----> 1\u001b[0;31m \u001b[0mprint\u001b[0m\u001b[0;34m(\u001b[0m\u001b[0;34mf\"found election results for {_t['CANDIDATE NAME'].notnull().sum()} ({_t['CANDIDATE NAME'].notnull().mean()}%) people\"\u001b[0m\u001b[0;34m)\u001b[0m\u001b[0;34m\u001b[0m\u001b[0m\n\u001b[0m",
      "\u001b[0;31mNameError\u001b[0m: name '_t' is not defined"
     ]
    }
   ],
   "source": [
    "print(f\"found election results for {_t['CANDIDATE NAME'].notnull().sum()} ({_t['CANDIDATE NAME'].notnull().mean()}%) people\")"
   ]
  },
  {
   "cell_type": "code",
   "execution_count": 32,
   "metadata": {
    "ExecuteTime": {
     "end_time": "2018-11-23T14:05:17.028465Z",
     "start_time": "2018-11-23T14:05:16.940630Z"
    },
    "hidden": true,
    "scrolled": true
   },
   "outputs": [
    {
     "ename": "NameError",
     "evalue": "name '_t' is not defined",
     "output_type": "error",
     "traceback": [
      "\u001b[0;31m---------------------------------------------------------------------------\u001b[0m",
      "\u001b[0;31mNameError\u001b[0m                                 Traceback (most recent call last)",
      "\u001b[0;32m<ipython-input-32-a25082731ef5>\u001b[0m in \u001b[0;36m<module>\u001b[0;34m()\u001b[0m\n\u001b[0;32m----> 1\u001b[0;31m \u001b[0mvotes_cols\u001b[0m \u001b[0;34m=\u001b[0m \u001b[0;34m[\u001b[0m\u001b[0mc\u001b[0m \u001b[0;32mfor\u001b[0m \u001b[0mc\u001b[0m \u001b[0;32min\u001b[0m \u001b[0m_t\u001b[0m\u001b[0;34m.\u001b[0m\u001b[0mcolumns\u001b[0m \u001b[0;32mif\u001b[0m \u001b[0;34m'votes'\u001b[0m \u001b[0;32min\u001b[0m \u001b[0mc\u001b[0m\u001b[0;34m]\u001b[0m\u001b[0;34m\u001b[0m\u001b[0m\n\u001b[0m\u001b[1;32m      2\u001b[0m \u001b[0museful_idx\u001b[0m \u001b[0;34m=\u001b[0m \u001b[0mreduce\u001b[0m\u001b[0;34m(\u001b[0m\u001b[0;32mlambda\u001b[0m \u001b[0macc\u001b[0m\u001b[0;34m,\u001b[0m \u001b[0mel\u001b[0m\u001b[0;34m:\u001b[0m \u001b[0macc\u001b[0m \u001b[0;34m|\u001b[0m \u001b[0mel\u001b[0m\u001b[0;34m,\u001b[0m \u001b[0;34m[\u001b[0m\u001b[0m_t\u001b[0m\u001b[0;34m[\u001b[0m\u001b[0mc\u001b[0m\u001b[0;34m]\u001b[0m\u001b[0;34m.\u001b[0m\u001b[0mnotnull\u001b[0m\u001b[0;34m(\u001b[0m\u001b[0;34m)\u001b[0m \u001b[0;32mfor\u001b[0m \u001b[0mc\u001b[0m \u001b[0;32min\u001b[0m \u001b[0mvotes_cols\u001b[0m\u001b[0;34m]\u001b[0m\u001b[0;34m)\u001b[0m \u001b[0;34m&\u001b[0m \u001b[0m_t\u001b[0m\u001b[0;34m[\u001b[0m\u001b[0;34m'speaker'\u001b[0m\u001b[0;34m]\u001b[0m\u001b[0;34m.\u001b[0m\u001b[0mnotnull\u001b[0m\u001b[0;34m(\u001b[0m\u001b[0;34m)\u001b[0m\u001b[0;34m\u001b[0m\u001b[0m\n\u001b[1;32m      3\u001b[0m \u001b[0;34m\u001b[0m\u001b[0m\n\u001b[1;32m      4\u001b[0m \u001b[0mprint\u001b[0m\u001b[0;34m(\u001b[0m\u001b[0;34mf\"found useful results for {useful_idx.sum()} people\"\u001b[0m\u001b[0;34m)\u001b[0m\u001b[0;34m\u001b[0m\u001b[0m\n\u001b[1;32m      5\u001b[0m \u001b[0;34m\u001b[0m\u001b[0m\n",
      "\u001b[0;31mNameError\u001b[0m: name '_t' is not defined"
     ]
    }
   ],
   "source": [
    "votes_cols = [c for c in _t.columns if 'votes' in c]\n",
    "useful_idx = reduce(lambda acc, el: acc | el, [_t[c].notnull() for c in votes_cols]) & _t['speaker'].notnull() \n",
    "\n",
    "print(f\"found useful results for {useful_idx.sum()} people\")\n",
    "\n",
    "columns_of_interest = ['label', 'label_as_nb', 'subject', 'speaker', 'speakers_job_title_cleaned', 'state_info', 'party_affiliation', 'context', 'statement_date'] + votes_cols\n",
    "_t.loc[useful_idx, columns_of_interest]"
   ]
  },
  {
   "cell_type": "code",
   "execution_count": 33,
   "metadata": {
    "ExecuteTime": {
     "end_time": "2018-11-23T14:05:23.130725Z",
     "start_time": "2018-11-23T14:05:23.124323Z"
    },
    "hidden": true,
    "scrolled": false
   },
   "outputs": [
    {
     "ename": "NameError",
     "evalue": "name '_t' is not defined",
     "output_type": "error",
     "traceback": [
      "\u001b[0;31m---------------------------------------------------------------------------\u001b[0m",
      "\u001b[0;31mNameError\u001b[0m                                 Traceback (most recent call last)",
      "\u001b[0;32m<ipython-input-33-8fc97f72a2fe>\u001b[0m in \u001b[0;36m<module>\u001b[0;34m()\u001b[0m\n\u001b[0;32m----> 1\u001b[0;31m \u001b[0m_t\u001b[0m\u001b[0;34m.\u001b[0m\u001b[0mloc\u001b[0m\u001b[0;34m[\u001b[0m\u001b[0museful_idx\u001b[0m\u001b[0;34m,\u001b[0m \u001b[0;34m'speakers_job_title_cleaned'\u001b[0m\u001b[0;34m]\u001b[0m\u001b[0;34m.\u001b[0m\u001b[0mvalue_counts\u001b[0m\u001b[0;34m(\u001b[0m\u001b[0;34m)\u001b[0m\u001b[0;34m\u001b[0m\u001b[0m\n\u001b[0m",
      "\u001b[0;31mNameError\u001b[0m: name '_t' is not defined"
     ]
    }
   ],
   "source": [
    "_t.loc[useful_idx, 'speakers_job_title_cleaned'].value_counts()"
   ]
  },
  {
   "cell_type": "code",
   "execution_count": 34,
   "metadata": {
    "ExecuteTime": {
     "end_time": "2018-11-23T14:05:25.316594Z",
     "start_time": "2018-11-23T14:05:25.264393Z"
    },
    "hidden": true,
    "scrolled": true
   },
   "outputs": [
    {
     "ename": "NameError",
     "evalue": "name '_t' is not defined",
     "output_type": "error",
     "traceback": [
      "\u001b[0;31m---------------------------------------------------------------------------\u001b[0m",
      "\u001b[0;31mNameError\u001b[0m                                 Traceback (most recent call last)",
      "\u001b[0;32m<ipython-input-34-9d3c7d9446d2>\u001b[0m in \u001b[0;36m<module>\u001b[0;34m()\u001b[0m\n\u001b[0;32m----> 1\u001b[0;31m \u001b[0m_t\u001b[0m\u001b[0;34m.\u001b[0m\u001b[0mloc\u001b[0m\u001b[0;34m[\u001b[0m\u001b[0m_t\u001b[0m\u001b[0;34m[\u001b[0m\u001b[0;34m'speakers_job_title_cleaned'\u001b[0m\u001b[0;34m]\u001b[0m\u001b[0;34m.\u001b[0m\u001b[0misin\u001b[0m\u001b[0;34m(\u001b[0m\u001b[0mjob_titles_of_interest\u001b[0m\u001b[0;34m)\u001b[0m \u001b[0;34m&\u001b[0m \u001b[0museful_idx\u001b[0m\u001b[0;34m,\u001b[0m \u001b[0mcolumns_of_interest\u001b[0m\u001b[0;34m]\u001b[0m\u001b[0;34m\u001b[0m\u001b[0m\n\u001b[0m",
      "\u001b[0;31mNameError\u001b[0m: name '_t' is not defined"
     ]
    }
   ],
   "source": [
    "_t.loc[_t['speakers_job_title_cleaned'].isin(job_titles_of_interest) & useful_idx, columns_of_interest]"
   ]
  },
  {
   "cell_type": "markdown",
   "metadata": {
    "hidden": true
   },
   "source": [
    "Now, our dataframe looks like this:"
   ]
  },
  {
   "cell_type": "code",
   "execution_count": 35,
   "metadata": {
    "hidden": true,
    "scrolled": true
   },
   "outputs": [
    {
     "ename": "NameError",
     "evalue": "name '_t' is not defined",
     "output_type": "error",
     "traceback": [
      "\u001b[0;31m---------------------------------------------------------------------------\u001b[0m",
      "\u001b[0;31mNameError\u001b[0m                                 Traceback (most recent call last)",
      "\u001b[0;32m<ipython-input-35-6bd914dc24e6>\u001b[0m in \u001b[0;36m<module>\u001b[0;34m()\u001b[0m\n\u001b[0;32m----> 1\u001b[0;31m \u001b[0m_t\u001b[0m\u001b[0;34m.\u001b[0m\u001b[0mhead\u001b[0m\u001b[0;34m(\u001b[0m\u001b[0;36m1\u001b[0m\u001b[0;34m)\u001b[0m\u001b[0;34m\u001b[0m\u001b[0m\n\u001b[0m",
      "\u001b[0;31mNameError\u001b[0m: name '_t' is not defined"
     ]
    }
   ],
   "source": [
    "_t.head(1)"
   ]
  },
  {
   "cell_type": "markdown",
   "metadata": {
    "heading_collapsed": true
   },
   "source": [
    "# County Data"
   ]
  },
  {
   "cell_type": "code",
   "execution_count": 36,
   "metadata": {
    "hidden": true
   },
   "outputs": [
    {
     "data": {
      "text/html": [
       "<div>\n",
       "<style scoped>\n",
       "    .dataframe tbody tr th:only-of-type {\n",
       "        vertical-align: middle;\n",
       "    }\n",
       "\n",
       "    .dataframe tbody tr th {\n",
       "        vertical-align: top;\n",
       "    }\n",
       "\n",
       "    .dataframe thead th {\n",
       "        text-align: right;\n",
       "    }\n",
       "</style>\n",
       "<table border=\"1\" class=\"dataframe\">\n",
       "  <thead>\n",
       "    <tr style=\"text-align: right;\">\n",
       "      <th></th>\n",
       "      <th>CensusId</th>\n",
       "      <th>State</th>\n",
       "      <th>County</th>\n",
       "      <th>TotalPop</th>\n",
       "      <th>Men</th>\n",
       "      <th>Women</th>\n",
       "      <th>Hispanic</th>\n",
       "      <th>White</th>\n",
       "      <th>Black</th>\n",
       "      <th>Native</th>\n",
       "      <th>Asian</th>\n",
       "      <th>Pacific</th>\n",
       "      <th>Citizen</th>\n",
       "      <th>Income</th>\n",
       "      <th>IncomeErr</th>\n",
       "      <th>IncomePerCap</th>\n",
       "      <th>IncomePerCapErr</th>\n",
       "      <th>Poverty</th>\n",
       "      <th>ChildPoverty</th>\n",
       "      <th>Professional</th>\n",
       "      <th>Service</th>\n",
       "      <th>Office</th>\n",
       "      <th>Construction</th>\n",
       "      <th>Production</th>\n",
       "      <th>Drive</th>\n",
       "      <th>Carpool</th>\n",
       "      <th>Transit</th>\n",
       "      <th>Walk</th>\n",
       "      <th>OtherTransp</th>\n",
       "      <th>WorkAtHome</th>\n",
       "      <th>MeanCommute</th>\n",
       "      <th>Employed</th>\n",
       "      <th>PrivateWork</th>\n",
       "      <th>PublicWork</th>\n",
       "      <th>SelfEmployed</th>\n",
       "      <th>FamilyWork</th>\n",
       "      <th>Unemployment</th>\n",
       "    </tr>\n",
       "  </thead>\n",
       "  <tbody>\n",
       "    <tr>\n",
       "      <th>0</th>\n",
       "      <td>1001</td>\n",
       "      <td>Alabama</td>\n",
       "      <td>Autauga</td>\n",
       "      <td>55221</td>\n",
       "      <td>26745</td>\n",
       "      <td>28476</td>\n",
       "      <td>2.6</td>\n",
       "      <td>75.8</td>\n",
       "      <td>18.5</td>\n",
       "      <td>0.4</td>\n",
       "      <td>1.0</td>\n",
       "      <td>0.0</td>\n",
       "      <td>40725</td>\n",
       "      <td>51281.0</td>\n",
       "      <td>2391.0</td>\n",
       "      <td>24974</td>\n",
       "      <td>1080</td>\n",
       "      <td>12.9</td>\n",
       "      <td>18.6</td>\n",
       "      <td>33.2</td>\n",
       "      <td>17.0</td>\n",
       "      <td>24.2</td>\n",
       "      <td>8.6</td>\n",
       "      <td>17.1</td>\n",
       "      <td>87.5</td>\n",
       "      <td>8.8</td>\n",
       "      <td>0.1</td>\n",
       "      <td>0.5</td>\n",
       "      <td>1.3</td>\n",
       "      <td>1.8</td>\n",
       "      <td>26.5</td>\n",
       "      <td>23986</td>\n",
       "      <td>73.6</td>\n",
       "      <td>20.9</td>\n",
       "      <td>5.5</td>\n",
       "      <td>0.0</td>\n",
       "      <td>7.6</td>\n",
       "    </tr>\n",
       "    <tr>\n",
       "      <th>1</th>\n",
       "      <td>1003</td>\n",
       "      <td>Alabama</td>\n",
       "      <td>Baldwin</td>\n",
       "      <td>195121</td>\n",
       "      <td>95314</td>\n",
       "      <td>99807</td>\n",
       "      <td>4.5</td>\n",
       "      <td>83.1</td>\n",
       "      <td>9.5</td>\n",
       "      <td>0.6</td>\n",
       "      <td>0.7</td>\n",
       "      <td>0.0</td>\n",
       "      <td>147695</td>\n",
       "      <td>50254.0</td>\n",
       "      <td>1263.0</td>\n",
       "      <td>27317</td>\n",
       "      <td>711</td>\n",
       "      <td>13.4</td>\n",
       "      <td>19.2</td>\n",
       "      <td>33.1</td>\n",
       "      <td>17.7</td>\n",
       "      <td>27.1</td>\n",
       "      <td>10.8</td>\n",
       "      <td>11.2</td>\n",
       "      <td>84.7</td>\n",
       "      <td>8.8</td>\n",
       "      <td>0.1</td>\n",
       "      <td>1.0</td>\n",
       "      <td>1.4</td>\n",
       "      <td>3.9</td>\n",
       "      <td>26.4</td>\n",
       "      <td>85953</td>\n",
       "      <td>81.5</td>\n",
       "      <td>12.3</td>\n",
       "      <td>5.8</td>\n",
       "      <td>0.4</td>\n",
       "      <td>7.5</td>\n",
       "    </tr>\n",
       "    <tr>\n",
       "      <th>2</th>\n",
       "      <td>1005</td>\n",
       "      <td>Alabama</td>\n",
       "      <td>Barbour</td>\n",
       "      <td>26932</td>\n",
       "      <td>14497</td>\n",
       "      <td>12435</td>\n",
       "      <td>4.6</td>\n",
       "      <td>46.2</td>\n",
       "      <td>46.7</td>\n",
       "      <td>0.2</td>\n",
       "      <td>0.4</td>\n",
       "      <td>0.0</td>\n",
       "      <td>20714</td>\n",
       "      <td>32964.0</td>\n",
       "      <td>2973.0</td>\n",
       "      <td>16824</td>\n",
       "      <td>798</td>\n",
       "      <td>26.7</td>\n",
       "      <td>45.3</td>\n",
       "      <td>26.8</td>\n",
       "      <td>16.1</td>\n",
       "      <td>23.1</td>\n",
       "      <td>10.8</td>\n",
       "      <td>23.1</td>\n",
       "      <td>83.8</td>\n",
       "      <td>10.9</td>\n",
       "      <td>0.4</td>\n",
       "      <td>1.8</td>\n",
       "      <td>1.5</td>\n",
       "      <td>1.6</td>\n",
       "      <td>24.1</td>\n",
       "      <td>8597</td>\n",
       "      <td>71.8</td>\n",
       "      <td>20.8</td>\n",
       "      <td>7.3</td>\n",
       "      <td>0.1</td>\n",
       "      <td>17.6</td>\n",
       "    </tr>\n",
       "    <tr>\n",
       "      <th>3</th>\n",
       "      <td>1007</td>\n",
       "      <td>Alabama</td>\n",
       "      <td>Bibb</td>\n",
       "      <td>22604</td>\n",
       "      <td>12073</td>\n",
       "      <td>10531</td>\n",
       "      <td>2.2</td>\n",
       "      <td>74.5</td>\n",
       "      <td>21.4</td>\n",
       "      <td>0.4</td>\n",
       "      <td>0.1</td>\n",
       "      <td>0.0</td>\n",
       "      <td>17495</td>\n",
       "      <td>38678.0</td>\n",
       "      <td>3995.0</td>\n",
       "      <td>18431</td>\n",
       "      <td>1618</td>\n",
       "      <td>16.8</td>\n",
       "      <td>27.9</td>\n",
       "      <td>21.5</td>\n",
       "      <td>17.9</td>\n",
       "      <td>17.8</td>\n",
       "      <td>19.0</td>\n",
       "      <td>23.7</td>\n",
       "      <td>83.2</td>\n",
       "      <td>13.5</td>\n",
       "      <td>0.5</td>\n",
       "      <td>0.6</td>\n",
       "      <td>1.5</td>\n",
       "      <td>0.7</td>\n",
       "      <td>28.8</td>\n",
       "      <td>8294</td>\n",
       "      <td>76.8</td>\n",
       "      <td>16.1</td>\n",
       "      <td>6.7</td>\n",
       "      <td>0.4</td>\n",
       "      <td>8.3</td>\n",
       "    </tr>\n",
       "    <tr>\n",
       "      <th>4</th>\n",
       "      <td>1009</td>\n",
       "      <td>Alabama</td>\n",
       "      <td>Blount</td>\n",
       "      <td>57710</td>\n",
       "      <td>28512</td>\n",
       "      <td>29198</td>\n",
       "      <td>8.6</td>\n",
       "      <td>87.9</td>\n",
       "      <td>1.5</td>\n",
       "      <td>0.3</td>\n",
       "      <td>0.1</td>\n",
       "      <td>0.0</td>\n",
       "      <td>42345</td>\n",
       "      <td>45813.0</td>\n",
       "      <td>3141.0</td>\n",
       "      <td>20532</td>\n",
       "      <td>708</td>\n",
       "      <td>16.7</td>\n",
       "      <td>27.2</td>\n",
       "      <td>28.5</td>\n",
       "      <td>14.1</td>\n",
       "      <td>23.9</td>\n",
       "      <td>13.5</td>\n",
       "      <td>19.9</td>\n",
       "      <td>84.9</td>\n",
       "      <td>11.2</td>\n",
       "      <td>0.4</td>\n",
       "      <td>0.9</td>\n",
       "      <td>0.4</td>\n",
       "      <td>2.3</td>\n",
       "      <td>34.9</td>\n",
       "      <td>22189</td>\n",
       "      <td>82.0</td>\n",
       "      <td>13.5</td>\n",
       "      <td>4.2</td>\n",
       "      <td>0.4</td>\n",
       "      <td>7.7</td>\n",
       "    </tr>\n",
       "  </tbody>\n",
       "</table>\n",
       "</div>"
      ],
      "text/plain": [
       "   CensusId    State   County  TotalPop    Men  Women  Hispanic  White  Black  \\\n",
       "0      1001  Alabama  Autauga     55221  26745  28476       2.6   75.8   18.5   \n",
       "1      1003  Alabama  Baldwin    195121  95314  99807       4.5   83.1    9.5   \n",
       "2      1005  Alabama  Barbour     26932  14497  12435       4.6   46.2   46.7   \n",
       "3      1007  Alabama     Bibb     22604  12073  10531       2.2   74.5   21.4   \n",
       "4      1009  Alabama   Blount     57710  28512  29198       8.6   87.9    1.5   \n",
       "\n",
       "   Native  Asian  Pacific  Citizen   Income  IncomeErr  IncomePerCap  \\\n",
       "0     0.4    1.0      0.0    40725  51281.0     2391.0         24974   \n",
       "1     0.6    0.7      0.0   147695  50254.0     1263.0         27317   \n",
       "2     0.2    0.4      0.0    20714  32964.0     2973.0         16824   \n",
       "3     0.4    0.1      0.0    17495  38678.0     3995.0         18431   \n",
       "4     0.3    0.1      0.0    42345  45813.0     3141.0         20532   \n",
       "\n",
       "   IncomePerCapErr  Poverty  ChildPoverty  Professional  Service  Office  \\\n",
       "0             1080     12.9          18.6          33.2     17.0    24.2   \n",
       "1              711     13.4          19.2          33.1     17.7    27.1   \n",
       "2              798     26.7          45.3          26.8     16.1    23.1   \n",
       "3             1618     16.8          27.9          21.5     17.9    17.8   \n",
       "4              708     16.7          27.2          28.5     14.1    23.9   \n",
       "\n",
       "   Construction  Production  Drive  Carpool  Transit  Walk  OtherTransp  \\\n",
       "0           8.6        17.1   87.5      8.8      0.1   0.5          1.3   \n",
       "1          10.8        11.2   84.7      8.8      0.1   1.0          1.4   \n",
       "2          10.8        23.1   83.8     10.9      0.4   1.8          1.5   \n",
       "3          19.0        23.7   83.2     13.5      0.5   0.6          1.5   \n",
       "4          13.5        19.9   84.9     11.2      0.4   0.9          0.4   \n",
       "\n",
       "   WorkAtHome  MeanCommute  Employed  PrivateWork  PublicWork  SelfEmployed  \\\n",
       "0         1.8         26.5     23986         73.6        20.9           5.5   \n",
       "1         3.9         26.4     85953         81.5        12.3           5.8   \n",
       "2         1.6         24.1      8597         71.8        20.8           7.3   \n",
       "3         0.7         28.8      8294         76.8        16.1           6.7   \n",
       "4         2.3         34.9     22189         82.0        13.5           4.2   \n",
       "\n",
       "   FamilyWork  Unemployment  \n",
       "0         0.0           7.6  \n",
       "1         0.4           7.5  \n",
       "2         0.1          17.6  \n",
       "3         0.4           8.3  \n",
       "4         0.4           7.7  "
      ]
     },
     "execution_count": 36,
     "metadata": {},
     "output_type": "execute_result"
    }
   ],
   "source": [
    "# load data file\n",
    "county_raw = pd.read_csv(f\"{directory_county_data}/acs2015_county_data.csv\")\n",
    "US_states = county_raw['State'].unique()\n",
    "county_raw.head()"
   ]
  },
  {
   "cell_type": "markdown",
   "metadata": {
    "ExecuteTime": {
     "end_time": "2018-11-23T13:15:16.215139Z",
     "start_time": "2018-11-23T13:15:16.189010Z"
    },
    "heading_collapsed": true
   },
   "source": [
    "# DATA SET COMPLETE"
   ]
  },
  {
   "cell_type": "markdown",
   "metadata": {
    "hidden": true
   },
   "source": [
    "At this point, we collected all the columns we need. Let's see how we can clean them:"
   ]
  },
  {
   "cell_type": "code",
   "execution_count": 37,
   "metadata": {
    "ExecuteTime": {
     "end_time": "2018-11-23T14:14:08.462121Z",
     "start_time": "2018-11-23T14:14:08.444554Z"
    },
    "hidden": true
   },
   "outputs": [
    {
     "ename": "NameError",
     "evalue": "name '_t' is not defined",
     "output_type": "error",
     "traceback": [
      "\u001b[0;31m---------------------------------------------------------------------------\u001b[0m",
      "\u001b[0;31mNameError\u001b[0m                                 Traceback (most recent call last)",
      "\u001b[0;32m<ipython-input-37-d116ff5f1c3c>\u001b[0m in \u001b[0;36m<module>\u001b[0;34m()\u001b[0m\n\u001b[0;32m----> 1\u001b[0;31m \u001b[0mmedian_speaker_value\u001b[0m \u001b[0;34m=\u001b[0m \u001b[0m_t\u001b[0m\u001b[0;34m.\u001b[0m\u001b[0mgroupby\u001b[0m\u001b[0;34m(\u001b[0m\u001b[0;34m[\u001b[0m\u001b[0;34m'statement_year'\u001b[0m\u001b[0;34m,\u001b[0m \u001b[0;34m'speaker'\u001b[0m\u001b[0;34m]\u001b[0m\u001b[0;34m)\u001b[0m\u001b[0;34m[\u001b[0m\u001b[0;34m'label_as_nb'\u001b[0m\u001b[0;34m]\u001b[0m\u001b[0;34m.\u001b[0m\u001b[0mmedian\u001b[0m\u001b[0;34m(\u001b[0m\u001b[0;34m)\u001b[0m\u001b[0;34m.\u001b[0m\u001b[0mreset_index\u001b[0m\u001b[0;34m(\u001b[0m\u001b[0;34m)\u001b[0m\u001b[0;34m\u001b[0m\u001b[0m\n\u001b[0m",
      "\u001b[0;31mNameError\u001b[0m: name '_t' is not defined"
     ]
    }
   ],
   "source": [
    "median_speaker_value = _t.groupby(['statement_year', 'speaker'])['label_as_nb'].median().reset_index()"
   ]
  },
  {
   "cell_type": "code",
   "execution_count": 38,
   "metadata": {
    "ExecuteTime": {
     "end_time": "2018-11-23T14:14:12.630778Z",
     "start_time": "2018-11-23T14:14:12.617803Z"
    },
    "hidden": true,
    "scrolled": true
   },
   "outputs": [
    {
     "ename": "NameError",
     "evalue": "name 'median_speaker_value' is not defined",
     "output_type": "error",
     "traceback": [
      "\u001b[0;31m---------------------------------------------------------------------------\u001b[0m",
      "\u001b[0;31mNameError\u001b[0m                                 Traceback (most recent call last)",
      "\u001b[0;32m<ipython-input-38-d94961eda4b8>\u001b[0m in \u001b[0;36m<module>\u001b[0;34m()\u001b[0m\n\u001b[0;32m----> 1\u001b[0;31m \u001b[0mmedian_speaker_value\u001b[0m\u001b[0;34m[\u001b[0m\u001b[0mmedian_speaker_value\u001b[0m\u001b[0;34m[\u001b[0m\u001b[0;34m'statement_year'\u001b[0m\u001b[0;34m]\u001b[0m \u001b[0;34m==\u001b[0m \u001b[0;36m2016\u001b[0m\u001b[0;34m]\u001b[0m\u001b[0;34m\u001b[0m\u001b[0m\n\u001b[0m",
      "\u001b[0;31mNameError\u001b[0m: name 'median_speaker_value' is not defined"
     ]
    }
   ],
   "source": [
    "median_speaker_value[median_speaker_value['statement_year'] == 2016]"
   ]
  },
  {
   "cell_type": "markdown",
   "metadata": {
    "hidden": true
   },
   "source": [
    "### Non-People Speakers Handling"
   ]
  },
  {
   "cell_type": "markdown",
   "metadata": {
    "hidden": true
   },
   "source": [
    "Removing non-people (_tweets, facebook posts, etc._) from the dataset:"
   ]
  },
  {
   "cell_type": "code",
   "execution_count": 39,
   "metadata": {
    "hidden": true,
    "scrolled": false
   },
   "outputs": [
    {
     "name": "stdout",
     "output_type": "stream",
     "text": [
      "[nltk_data] Downloading package punkt to /Users/puma/nltk_data...\n",
      "[nltk_data]   Package punkt is already up-to-date!\n"
     ]
    },
    {
     "ename": "NameError",
     "evalue": "name 'get_ner_tag' is not defined",
     "output_type": "error",
     "traceback": [
      "\u001b[0;31m---------------------------------------------------------------------------\u001b[0m",
      "\u001b[0;31mNameError\u001b[0m                                 Traceback (most recent call last)",
      "\u001b[0;32m<ipython-input-39-c89e6a15a211>\u001b[0m in \u001b[0;36m<module>\u001b[0;34m()\u001b[0m\n\u001b[1;32m     26\u001b[0m \u001b[0;31m# just to see if/how it works\u001b[0m\u001b[0;34m\u001b[0m\u001b[0;34m\u001b[0m\u001b[0m\n\u001b[1;32m     27\u001b[0m \u001b[0mword\u001b[0m \u001b[0;34m=\u001b[0m \u001b[0;34m\"Twitter-Post-Anna\"\u001b[0m\u001b[0;34m\u001b[0m\u001b[0m\n\u001b[0;32m---> 28\u001b[0;31m \u001b[0mget_ner_tag\u001b[0m\u001b[0;34m(\u001b[0m\u001b[0mword\u001b[0m\u001b[0;34m)\u001b[0m\u001b[0;34m\u001b[0m\u001b[0m\n\u001b[0m\u001b[1;32m     29\u001b[0m \u001b[0;34m\u001b[0m\u001b[0m\n\u001b[1;32m     30\u001b[0m \u001b[0mfull_speaker_name\u001b[0m \u001b[0;34m=\u001b[0m \u001b[0;34m\"Barack-Obama\"\u001b[0m\u001b[0;34m\u001b[0m\u001b[0m\n",
      "\u001b[0;31mNameError\u001b[0m: name 'get_ner_tag' is not defined"
     ]
    }
   ],
   "source": [
    "from nltk import download\n",
    "download('punkt')\n",
    "from nltk.tag import StanfordNERTagger\n",
    "from nltk.tokenize import word_tokenize\n",
    "from nltk import sent_tokenize\n",
    "from collections import Counter\n",
    "\n",
    "model = 'nlp/stanford-ner-2018-10-16/classifiers/english.all.3class.distsim.crf.ser.gz'\n",
    "jar = 'nlp/stanford-ner-2018-10-16/stanford-ner-3.9.2.jar'\n",
    "st = StanfordNERTagger(model, jar, encoding='utf-8')\n",
    "\n",
    "def get_tag(speaker):\n",
    "    ner_tag = 0\n",
    "    if type(speaker) == str:\n",
    "        full_speaker_name = speaker.replace(\"-\", \" \").title()\n",
    "\n",
    "        for sent in sent_tokenize(full_speaker_name):\n",
    "            tokens = word_tokenize(sent)\n",
    "            tags = st.tag(tokens)\n",
    "            \n",
    "        ner_tag= Counter(dict(tags).values()).most_common(1)[0][0]\n",
    "        print(tags, \" --> \", ner_tag)\n",
    "    return ner_tag\n",
    "    \n",
    "\n",
    "# just to see if/how it works\n",
    "word = \"Twitter-Post-Anna\"\n",
    "get_ner_tag(word)\n",
    "\n",
    "full_speaker_name = \"Barack-Obama\"\n",
    "get_ner_tag(full_speaker_name)\n",
    "\n",
    "full_speaker_name = 0\n",
    "get_ner_tag(full_speaker_name)\n"
   ]
  },
  {
   "cell_type": "code",
   "execution_count": null,
   "metadata": {
    "hidden": true,
    "scrolled": true
   },
   "outputs": [],
   "source": [
    "import os.path\n",
    "\n",
    "file_path = 'nlp/speaker_tags.json'\n",
    "\n",
    "if not os.path.exists(file_path):\n",
    "    print(f\"Total number of values to classify: {len(_t['speaker'].value_counts().index)}\")\n",
    "\n",
    "    words_with_tags = {}\n",
    "    for word in _t['speaker'].value_counts().index:\n",
    "        words_with_tags[word] = get_tag(word)\n",
    "    \n",
    "    # save tags, since it took ~3h to tag all 3214 unique speakers\n",
    "    with open(file_path, 'w') as fp:\n",
    "        json.dump(words_with_tags, fp, indent=4)\n",
    "else:\n",
    "    with open(file_path, 'r') as f:\n",
    "        words_with_tags = json.load(f)\n",
    "    print(f\"Total number of classified values (from file): {len(words_with_tags)}\")"
   ]
  },
  {
   "cell_type": "code",
   "execution_count": null,
   "metadata": {
    "hidden": true,
    "scrolled": true
   },
   "outputs": [],
   "source": [
    "_t[\"speaker_tag\"] = _t.apply(lambda row: words_with_tags[row['speaker']] if not pd.isnull(row['speaker']) else row['speaker'], axis=1)\n",
    "_t[['speaker','speaker_tag']].drop_duplicates()"
   ]
  },
  {
   "cell_type": "markdown",
   "metadata": {
    "hidden": true
   },
   "source": [
    "Seems good, so now let's remove non-people from the dataset:"
   ]
  },
  {
   "cell_type": "code",
   "execution_count": null,
   "metadata": {
    "hidden": true
   },
   "outputs": [],
   "source": [
    "_t.shape"
   ]
  },
  {
   "cell_type": "code",
   "execution_count": 40,
   "metadata": {
    "hidden": true
   },
   "outputs": [
    {
     "ename": "NameError",
     "evalue": "name '_t' is not defined",
     "output_type": "error",
     "traceback": [
      "\u001b[0;31m---------------------------------------------------------------------------\u001b[0m",
      "\u001b[0;31mNameError\u001b[0m                                 Traceback (most recent call last)",
      "\u001b[0;32m<ipython-input-40-a50c8c2b682f>\u001b[0m in \u001b[0;36m<module>\u001b[0;34m()\u001b[0m\n\u001b[0;32m----> 1\u001b[0;31m \u001b[0m_t\u001b[0m\u001b[0;34m[\u001b[0m\u001b[0m_t\u001b[0m\u001b[0;34m[\u001b[0m\u001b[0;34m'speaker_tag'\u001b[0m\u001b[0;34m]\u001b[0m \u001b[0;34m==\u001b[0m \u001b[0;34m\"PERSON\"\u001b[0m\u001b[0;34m]\u001b[0m\u001b[0;34m.\u001b[0m\u001b[0mshape\u001b[0m\u001b[0;34m\u001b[0m\u001b[0m\n\u001b[0m",
      "\u001b[0;31mNameError\u001b[0m: name '_t' is not defined"
     ]
    }
   ],
   "source": [
    "_t[_t['speaker_tag'] == \"PERSON\"].shape"
   ]
  },
  {
   "cell_type": "markdown",
   "metadata": {
    "hidden": true
   },
   "source": [
    "We see that we will remove ~5000 statements which are made by (speaker) _Twitter, Facebook, Blog post, Republican Party Texas, etc._"
   ]
  },
  {
   "cell_type": "code",
   "execution_count": 41,
   "metadata": {
    "hidden": true
   },
   "outputs": [
    {
     "ename": "NameError",
     "evalue": "name '_t' is not defined",
     "output_type": "error",
     "traceback": [
      "\u001b[0;31m---------------------------------------------------------------------------\u001b[0m",
      "\u001b[0;31mNameError\u001b[0m                                 Traceback (most recent call last)",
      "\u001b[0;32m<ipython-input-41-c625ec858ee9>\u001b[0m in \u001b[0;36m<module>\u001b[0;34m()\u001b[0m\n\u001b[1;32m      1\u001b[0m \u001b[0;31m# removing non-people statements\u001b[0m\u001b[0;34m\u001b[0m\u001b[0;34m\u001b[0m\u001b[0m\n\u001b[0;32m----> 2\u001b[0;31m \u001b[0m_t\u001b[0m \u001b[0;34m=\u001b[0m \u001b[0m_t\u001b[0m\u001b[0;34m[\u001b[0m\u001b[0m_t\u001b[0m\u001b[0;34m[\u001b[0m\u001b[0;34m'speaker_tag'\u001b[0m\u001b[0;34m]\u001b[0m \u001b[0;34m==\u001b[0m \u001b[0;34m\"PERSON\"\u001b[0m\u001b[0;34m]\u001b[0m\u001b[0;34m\u001b[0m\u001b[0m\n\u001b[0m",
      "\u001b[0;31mNameError\u001b[0m: name '_t' is not defined"
     ]
    }
   ],
   "source": [
    "# removing non-people statements\n",
    "_t = _t[_t['speaker_tag'] == \"PERSON\"]"
   ]
  },
  {
   "cell_type": "markdown",
   "metadata": {
    "hidden": true
   },
   "source": [
    "### Clean-up Context"
   ]
  },
  {
   "cell_type": "code",
   "execution_count": 42,
   "metadata": {
    "hidden": true,
    "scrolled": true
   },
   "outputs": [
    {
     "ename": "NameError",
     "evalue": "name '_t' is not defined",
     "output_type": "error",
     "traceback": [
      "\u001b[0;31m---------------------------------------------------------------------------\u001b[0m",
      "\u001b[0;31mNameError\u001b[0m                                 Traceback (most recent call last)",
      "\u001b[0;32m<ipython-input-42-e0c6b5558a5b>\u001b[0m in \u001b[0;36m<module>\u001b[0;34m()\u001b[0m\n\u001b[0;32m----> 1\u001b[0;31m \u001b[0m_t\u001b[0m\u001b[0;34m[\u001b[0m\u001b[0;34m\"context\"\u001b[0m\u001b[0;34m]\u001b[0m\u001b[0;34m.\u001b[0m\u001b[0mvalue_counts\u001b[0m\u001b[0;34m(\u001b[0m\u001b[0;34m)\u001b[0m\u001b[0;34m.\u001b[0m\u001b[0mindex\u001b[0m\u001b[0;34m.\u001b[0m\u001b[0mvalues\u001b[0m\u001b[0;34m\u001b[0m\u001b[0m\n\u001b[0m",
      "\u001b[0;31mNameError\u001b[0m: name '_t' is not defined"
     ]
    }
   ],
   "source": [
    "_t[\"context\"].value_counts().index.values"
   ]
  },
  {
   "cell_type": "markdown",
   "metadata": {
    "hidden": true
   },
   "source": [
    "It would be good to try using the tool that would extract keywords from these phases. Let's use NLTK Rake:"
   ]
  },
  {
   "cell_type": "code",
   "execution_count": 43,
   "metadata": {
    "hidden": true,
    "scrolled": true
   },
   "outputs": [
    {
     "ename": "ModuleNotFoundError",
     "evalue": "No module named 'rake_nltk'",
     "output_type": "error",
     "traceback": [
      "\u001b[0;31m---------------------------------------------------------------------------\u001b[0m",
      "\u001b[0;31mModuleNotFoundError\u001b[0m                       Traceback (most recent call last)",
      "\u001b[0;32m<ipython-input-43-1852c789c63f>\u001b[0m in \u001b[0;36m<module>\u001b[0;34m()\u001b[0m\n\u001b[0;32m----> 1\u001b[0;31m \u001b[0;32mfrom\u001b[0m \u001b[0mrake_nltk\u001b[0m \u001b[0;32mimport\u001b[0m \u001b[0mRake\u001b[0m\u001b[0;34m,\u001b[0m \u001b[0mMetric\u001b[0m\u001b[0;34m\u001b[0m\u001b[0m\n\u001b[0m\u001b[1;32m      2\u001b[0m \u001b[0;32mfrom\u001b[0m \u001b[0mcollections\u001b[0m \u001b[0;32mimport\u001b[0m \u001b[0mCounter\u001b[0m\u001b[0;34m\u001b[0m\u001b[0m\n\u001b[1;32m      3\u001b[0m \u001b[0;34m\u001b[0m\u001b[0m\n\u001b[1;32m      4\u001b[0m \u001b[0mdebug\u001b[0m \u001b[0;34m=\u001b[0m \u001b[0;32mFalse\u001b[0m\u001b[0;34m\u001b[0m\u001b[0m\n\u001b[1;32m      5\u001b[0m \u001b[0;34m\u001b[0m\u001b[0m\n",
      "\u001b[0;31mModuleNotFoundError\u001b[0m: No module named 'rake_nltk'"
     ]
    }
   ],
   "source": [
    "from rake_nltk import Rake, Metric\n",
    "from collections import Counter\n",
    "\n",
    "debug = False\n",
    "\n",
    "def do_keyword_extraction(words):\n",
    "    if debug: print(\"---\\n\", words)\n",
    "        \n",
    "    rake_all = Rake()\n",
    "    rake_all.extract_keywords_from_sentences(_t[\"context\"].value_counts().index.values)\n",
    "\n",
    "    word_degrees = dict(rake_all.get_word_degrees())\n",
    "    \n",
    "    r = Rake()\n",
    "    r.extract_keywords_from_text(words)\n",
    "\n",
    "    keywords = dict(r.get_word_degrees())\n",
    "    \n",
    "    if debug: print(keywords)\n",
    "        \n",
    "    for k, v in keywords.items():\n",
    "        keywords[k] = word_degrees[k]\n",
    "    \n",
    "    if debug: print(keywords)\n",
    "\n",
    "    return Counter(keywords).most_common(1)[0]"
   ]
  },
  {
   "cell_type": "code",
   "execution_count": 44,
   "metadata": {
    "hidden": true,
    "scrolled": true
   },
   "outputs": [
    {
     "ename": "NameError",
     "evalue": "name 'do_keyword_extraction' is not defined",
     "output_type": "error",
     "traceback": [
      "\u001b[0;31m---------------------------------------------------------------------------\u001b[0m",
      "\u001b[0;31mNameError\u001b[0m                                 Traceback (most recent call last)",
      "\u001b[0;32m<ipython-input-44-c45a67aa48ca>\u001b[0m in \u001b[0;36m<module>\u001b[0;34m()\u001b[0m\n\u001b[1;32m      1\u001b[0m \u001b[0;31m# try to see how it works\u001b[0m\u001b[0;34m\u001b[0m\u001b[0;34m\u001b[0m\u001b[0m\n\u001b[1;32m      2\u001b[0m \u001b[0mtext_to_process\u001b[0m \u001b[0;34m=\u001b[0m \u001b[0;34m\"a television interview\"\u001b[0m\u001b[0;34m\u001b[0m\u001b[0m\n\u001b[0;32m----> 3\u001b[0;31m \u001b[0mdo_keyword_extraction\u001b[0m\u001b[0;34m(\u001b[0m\u001b[0;34m\"an interview\"\u001b[0m\u001b[0;34m)\u001b[0m\u001b[0;34m\u001b[0m\u001b[0m\n\u001b[0m\u001b[1;32m      4\u001b[0m \u001b[0mdo_keyword_extraction\u001b[0m\u001b[0;34m(\u001b[0m\u001b[0;34m\"a television interview\"\u001b[0m\u001b[0;34m)\u001b[0m\u001b[0;34m\u001b[0m\u001b[0m\n\u001b[1;32m      5\u001b[0m \u001b[0mdo_keyword_extraction\u001b[0m\u001b[0;34m(\u001b[0m\u001b[0;34m\"a TV interview\"\u001b[0m\u001b[0;34m)\u001b[0m\u001b[0;34m\u001b[0m\u001b[0m\n",
      "\u001b[0;31mNameError\u001b[0m: name 'do_keyword_extraction' is not defined"
     ]
    }
   ],
   "source": [
    "# try to see how it works\n",
    "text_to_process = \"a television interview\"\n",
    "do_keyword_extraction(\"an interview\")\n",
    "do_keyword_extraction(\"a television interview\")\n",
    "do_keyword_extraction(\"a TV interview\")"
   ]
  },
  {
   "cell_type": "code",
   "execution_count": 45,
   "metadata": {
    "hidden": true,
    "scrolled": false
   },
   "outputs": [
    {
     "ename": "NameError",
     "evalue": "name '_t' is not defined",
     "output_type": "error",
     "traceback": [
      "\u001b[0;31m---------------------------------------------------------------------------\u001b[0m",
      "\u001b[0;31mNameError\u001b[0m                                 Traceback (most recent call last)",
      "\u001b[0;32m<ipython-input-45-bb6ac04755b6>\u001b[0m in \u001b[0;36m<module>\u001b[0;34m()\u001b[0m\n\u001b[0;32m----> 1\u001b[0;31m \u001b[0m_t\u001b[0m\u001b[0;34m[\u001b[0m\u001b[0;34m\"context_tag\"\u001b[0m\u001b[0;34m]\u001b[0m \u001b[0;34m=\u001b[0m \u001b[0m_t\u001b[0m\u001b[0;34m.\u001b[0m\u001b[0mapply\u001b[0m\u001b[0;34m(\u001b[0m\u001b[0;32mlambda\u001b[0m \u001b[0mrow\u001b[0m\u001b[0;34m:\u001b[0m \u001b[0mdo_keyword_extraction\u001b[0m\u001b[0;34m(\u001b[0m\u001b[0mrow\u001b[0m\u001b[0;34m[\u001b[0m\u001b[0;34m'context'\u001b[0m\u001b[0;34m]\u001b[0m\u001b[0;34m)\u001b[0m \u001b[0;32mif\u001b[0m \u001b[0;32mnot\u001b[0m \u001b[0mpd\u001b[0m\u001b[0;34m.\u001b[0m\u001b[0misnull\u001b[0m\u001b[0;34m(\u001b[0m\u001b[0mrow\u001b[0m\u001b[0;34m[\u001b[0m\u001b[0;34m'context'\u001b[0m\u001b[0;34m]\u001b[0m\u001b[0;34m)\u001b[0m \u001b[0;32melse\u001b[0m \u001b[0mrow\u001b[0m\u001b[0;34m[\u001b[0m\u001b[0;34m'context'\u001b[0m\u001b[0;34m]\u001b[0m\u001b[0;34m,\u001b[0m \u001b[0maxis\u001b[0m\u001b[0;34m=\u001b[0m\u001b[0;36m1\u001b[0m\u001b[0;34m)\u001b[0m\u001b[0;34m\u001b[0m\u001b[0m\n\u001b[0m",
      "\u001b[0;31mNameError\u001b[0m: name '_t' is not defined"
     ]
    }
   ],
   "source": [
    "_t[\"context_tag\"] = _t.apply(lambda row: do_keyword_extraction(row['context']) if not pd.isnull(row['context']) else row['context'], axis=1)"
   ]
  },
  {
   "cell_type": "code",
   "execution_count": 46,
   "metadata": {
    "hidden": true
   },
   "outputs": [
    {
     "ename": "NameError",
     "evalue": "name '_t' is not defined",
     "output_type": "error",
     "traceback": [
      "\u001b[0;31m---------------------------------------------------------------------------\u001b[0m",
      "\u001b[0;31mNameError\u001b[0m                                 Traceback (most recent call last)",
      "\u001b[0;32m<ipython-input-46-ea2de8b3e01d>\u001b[0m in \u001b[0;36m<module>\u001b[0;34m()\u001b[0m\n\u001b[0;32m----> 1\u001b[0;31m \u001b[0mcontext_tags\u001b[0m \u001b[0;34m=\u001b[0m \u001b[0m_t\u001b[0m\u001b[0;34m[\u001b[0m\u001b[0;34m[\u001b[0m\u001b[0;34m'context'\u001b[0m\u001b[0;34m,\u001b[0m\u001b[0;34m'context_tag'\u001b[0m\u001b[0;34m]\u001b[0m\u001b[0;34m]\u001b[0m\u001b[0;34m[\u001b[0m\u001b[0;34m'context_tag'\u001b[0m\u001b[0;34m]\u001b[0m\u001b[0;34m.\u001b[0m\u001b[0mvalue_counts\u001b[0m\u001b[0;34m(\u001b[0m\u001b[0;34m)\u001b[0m\u001b[0;34m\u001b[0m\u001b[0m\n\u001b[0m\u001b[1;32m      2\u001b[0m \u001b[0mprint\u001b[0m\u001b[0;34m(\u001b[0m\u001b[0;34mf\"Number of different context tags is {len(context_tags)}\"\u001b[0m\u001b[0;34m)\u001b[0m\u001b[0;34m\u001b[0m\u001b[0m\n\u001b[1;32m      3\u001b[0m \u001b[0mcontext_tags\u001b[0m\u001b[0;34m\u001b[0m\u001b[0m\n",
      "\u001b[0;31mNameError\u001b[0m: name '_t' is not defined"
     ]
    }
   ],
   "source": [
    "context_tags = _t[['context','context_tag']]['context_tag'].value_counts()\n",
    "print(f\"Number of different context tags is {len(context_tags)}\")\n",
    "context_tags"
   ]
  },
  {
   "cell_type": "markdown",
   "metadata": {
    "hidden": true
   },
   "source": [
    "We see that the number of context tags is 271, which is a preatty big number. Let's consider decreasing this number and make smaller groups."
   ]
  },
  {
   "cell_type": "code",
   "execution_count": 47,
   "metadata": {
    "hidden": true
   },
   "outputs": [],
   "source": [
    "# TODO: make smaller context groups, ideally around 10"
   ]
  },
  {
   "cell_type": "code",
   "execution_count": 48,
   "metadata": {
    "hidden": true
   },
   "outputs": [],
   "source": [
    "# TODO: implement tagging on the cleaned jobs as well"
   ]
  },
  {
   "cell_type": "code",
   "execution_count": 49,
   "metadata": {
    "hidden": true
   },
   "outputs": [],
   "source": [
    "# TODO: plot the answers from research questions we have"
   ]
  },
  {
   "cell_type": "markdown",
   "metadata": {
    "hidden": true
   },
   "source": [
    "## Some initial insights"
   ]
  },
  {
   "cell_type": "code",
   "execution_count": 50,
   "metadata": {
    "hidden": true,
    "scrolled": true
   },
   "outputs": [
    {
     "ename": "NameError",
     "evalue": "name '_t' is not defined",
     "output_type": "error",
     "traceback": [
      "\u001b[0;31m---------------------------------------------------------------------------\u001b[0m",
      "\u001b[0;31mNameError\u001b[0m                                 Traceback (most recent call last)",
      "\u001b[0;32m<ipython-input-50-f40e6d30a8e9>\u001b[0m in \u001b[0;36m<module>\u001b[0;34m()\u001b[0m\n\u001b[0;32m----> 1\u001b[0;31m \u001b[0m_t\u001b[0m\u001b[0;34m[\u001b[0m\u001b[0;34m'sum_not_so_true'\u001b[0m\u001b[0;34m]\u001b[0m \u001b[0;34m=\u001b[0m \u001b[0m_t\u001b[0m\u001b[0;34m[\u001b[0m\u001b[0;34m'pants_on_fire_counts'\u001b[0m\u001b[0;34m]\u001b[0m\u001b[0;34m/\u001b[0m\u001b[0;34m(\u001b[0m\u001b[0m_t\u001b[0m\u001b[0;34m[\u001b[0m\u001b[0;34m'barely_true_counts'\u001b[0m\u001b[0;34m]\u001b[0m \u001b[0;34m+\u001b[0m \u001b[0m_t\u001b[0m\u001b[0;34m[\u001b[0m\u001b[0;34m'false_counts'\u001b[0m\u001b[0;34m]\u001b[0m \u001b[0;34m+\u001b[0m \u001b[0m_t\u001b[0m\u001b[0;34m[\u001b[0m\u001b[0;34m'half_true_counts'\u001b[0m\u001b[0;34m]\u001b[0m \u001b[0;34m+\u001b[0m \u001b[0m_t\u001b[0m\u001b[0;34m[\u001b[0m\u001b[0;34m'mostly_true_counts'\u001b[0m\u001b[0;34m]\u001b[0m \u001b[0;34m+\u001b[0m \u001b[0m_t\u001b[0m\u001b[0;34m[\u001b[0m\u001b[0;34m'pants_on_fire_counts'\u001b[0m\u001b[0;34m]\u001b[0m\u001b[0;34m)\u001b[0m\u001b[0;34m\u001b[0m\u001b[0m\n\u001b[0m\u001b[1;32m      2\u001b[0m \u001b[0mnumber_of_party_affiliation\u001b[0m \u001b[0;34m=\u001b[0m \u001b[0m_t\u001b[0m\u001b[0;34m.\u001b[0m\u001b[0mgroupby\u001b[0m\u001b[0;34m(\u001b[0m\u001b[0;34m'party_affiliation'\u001b[0m\u001b[0;34m)\u001b[0m\u001b[0;34m[\u001b[0m\u001b[0;34m'sum_not_so_true'\u001b[0m\u001b[0;34m]\u001b[0m\u001b[0;34m.\u001b[0m\u001b[0msum\u001b[0m\u001b[0;34m(\u001b[0m\u001b[0;34m)\u001b[0m\u001b[0;34m.\u001b[0m\u001b[0msort_values\u001b[0m\u001b[0;34m(\u001b[0m\u001b[0mascending\u001b[0m\u001b[0;34m=\u001b[0m\u001b[0;32mFalse\u001b[0m\u001b[0;34m)\u001b[0m\u001b[0;34m\u001b[0m\u001b[0m\n\u001b[1;32m      3\u001b[0m \u001b[0mnumber_of_party_affiliation\u001b[0m\u001b[0;34m\u001b[0m\u001b[0m\n",
      "\u001b[0;31mNameError\u001b[0m: name '_t' is not defined"
     ]
    }
   ],
   "source": [
    "_t['sum_not_so_true'] = _t['pants_on_fire_counts']/(_t['barely_true_counts'] + _t['false_counts'] + _t['half_true_counts'] + _t['mostly_true_counts'] + _t['pants_on_fire_counts'])\n",
    "number_of_party_affiliation = _t.groupby('party_affiliation')['sum_not_so_true'].sum().sort_values(ascending=False)\n",
    "number_of_party_affiliation"
   ]
  },
  {
   "cell_type": "markdown",
   "metadata": {
    "hidden": true
   },
   "source": [
    "Here are the `party_affiliations` who most lie ordered by their proportion of lies. But we already know that the 2 dominant parties in USA are republican and democrat. We see that there are lots of unknown party affiliations from which we can make identify 2 possibilities"
   ]
  },
  {
   "cell_type": "code",
   "execution_count": 51,
   "metadata": {
    "hidden": true,
    "scrolled": true
   },
   "outputs": [
    {
     "ename": "NameError",
     "evalue": "name '_t' is not defined",
     "output_type": "error",
     "traceback": [
      "\u001b[0;31m---------------------------------------------------------------------------\u001b[0m",
      "\u001b[0;31mNameError\u001b[0m                                 Traceback (most recent call last)",
      "\u001b[0;32m<ipython-input-51-deb489306cc2>\u001b[0m in \u001b[0;36m<module>\u001b[0;34m()\u001b[0m\n\u001b[0;32m----> 1\u001b[0;31m \u001b[0mnumber_of_party_affiliation\u001b[0m \u001b[0;34m=\u001b[0m \u001b[0m_t\u001b[0m\u001b[0;34m.\u001b[0m\u001b[0mgroupby\u001b[0m\u001b[0;34m(\u001b[0m\u001b[0;34m[\u001b[0m\u001b[0;34m'speaker'\u001b[0m\u001b[0;34m]\u001b[0m\u001b[0;34m)\u001b[0m\u001b[0;34m[\u001b[0m\u001b[0;34m'sum_not_so_true'\u001b[0m\u001b[0;34m]\u001b[0m\u001b[0;34m.\u001b[0m\u001b[0msum\u001b[0m\u001b[0;34m(\u001b[0m\u001b[0;34m)\u001b[0m\u001b[0;34m.\u001b[0m\u001b[0msort_values\u001b[0m\u001b[0;34m(\u001b[0m\u001b[0mascending\u001b[0m\u001b[0;34m=\u001b[0m\u001b[0;32mFalse\u001b[0m\u001b[0;34m)\u001b[0m\u001b[0;34m\u001b[0m\u001b[0m\n\u001b[0m\u001b[1;32m      2\u001b[0m \u001b[0mnumber_of_party_affiliation\u001b[0m\u001b[0;34m.\u001b[0m\u001b[0mhead\u001b[0m\u001b[0;34m(\u001b[0m\u001b[0;36m10\u001b[0m\u001b[0;34m)\u001b[0m\u001b[0;34m\u001b[0m\u001b[0m\n",
      "\u001b[0;31mNameError\u001b[0m: name '_t' is not defined"
     ]
    }
   ],
   "source": [
    "number_of_party_affiliation = _t.groupby(['speaker'])['sum_not_so_true'].sum().sort_values(ascending=False)\n",
    "number_of_party_affiliation.head(10)"
   ]
  },
  {
   "cell_type": "markdown",
   "metadata": {
    "hidden": true
   },
   "source": [
    "Looking at the dataset content, people above are sorted quantity of lies."
   ]
  },
  {
   "cell_type": "code",
   "execution_count": 52,
   "metadata": {
    "hidden": true,
    "scrolled": false
   },
   "outputs": [
    {
     "ename": "NameError",
     "evalue": "name '_t' is not defined",
     "output_type": "error",
     "traceback": [
      "\u001b[0;31m---------------------------------------------------------------------------\u001b[0m",
      "\u001b[0;31mNameError\u001b[0m                                 Traceback (most recent call last)",
      "\u001b[0;32m<ipython-input-52-a0102b1e0120>\u001b[0m in \u001b[0;36m<module>\u001b[0;34m()\u001b[0m\n\u001b[0;32m----> 1\u001b[0;31m \u001b[0mall_contexts\u001b[0m \u001b[0;34m=\u001b[0m \u001b[0m_t\u001b[0m\u001b[0;34m[\u001b[0m\u001b[0;34m'context_tag'\u001b[0m\u001b[0;34m]\u001b[0m\u001b[0;34m.\u001b[0m\u001b[0munique\u001b[0m\u001b[0;34m(\u001b[0m\u001b[0;34m)\u001b[0m\u001b[0;34m\u001b[0m\u001b[0m\n\u001b[0m\u001b[1;32m      2\u001b[0m \u001b[0mnb_elements_context\u001b[0m \u001b[0;34m=\u001b[0m \u001b[0m_t\u001b[0m\u001b[0;34m.\u001b[0m\u001b[0mgroupby\u001b[0m\u001b[0;34m(\u001b[0m\u001b[0;34m[\u001b[0m\u001b[0;34m'context_tag'\u001b[0m\u001b[0;34m]\u001b[0m\u001b[0;34m)\u001b[0m\u001b[0;34m[\u001b[0m\u001b[0;34m'context_tag'\u001b[0m\u001b[0;34m]\u001b[0m\u001b[0;34m.\u001b[0m\u001b[0mcount\u001b[0m\u001b[0;34m(\u001b[0m\u001b[0;34m)\u001b[0m\u001b[0;34m.\u001b[0m\u001b[0msort_values\u001b[0m\u001b[0;34m(\u001b[0m\u001b[0mascending\u001b[0m\u001b[0;34m=\u001b[0m\u001b[0;32mFalse\u001b[0m\u001b[0;34m)\u001b[0m\u001b[0;34m\u001b[0m\u001b[0m\n\u001b[1;32m      3\u001b[0m \u001b[0mnb_elements_context\u001b[0m\u001b[0;34m.\u001b[0m\u001b[0mhead\u001b[0m\u001b[0;34m(\u001b[0m\u001b[0;36m50\u001b[0m\u001b[0;34m)\u001b[0m\u001b[0;34m\u001b[0m\u001b[0m\n",
      "\u001b[0;31mNameError\u001b[0m: name '_t' is not defined"
     ]
    }
   ],
   "source": [
    "all_contexts = _t['context_tag'].unique()\n",
    "nb_elements_context = _t.groupby(['context_tag'])['context_tag'].count().sort_values(ascending=False)\n",
    "nb_elements_context.head(50)"
   ]
  },
  {
   "cell_type": "markdown",
   "metadata": {
    "hidden": true
   },
   "source": [
    "Looking at the context, it seems that people lie the most during the interviews, then speech, after debates, and so on..."
   ]
  },
  {
   "cell_type": "markdown",
   "metadata": {
    "hidden": true
   },
   "source": [
    "## [misc] One statement content visualization"
   ]
  },
  {
   "cell_type": "markdown",
   "metadata": {
    "hidden": true
   },
   "source": [
    "Let's analyse first row, statement with id `1`. What is the information we get there?"
   ]
  },
  {
   "cell_type": "code",
   "execution_count": 53,
   "metadata": {
    "hidden": true
   },
   "outputs": [],
   "source": [
    "sid = 1.0"
   ]
  },
  {
   "cell_type": "code",
   "execution_count": 54,
   "metadata": {
    "hidden": true
   },
   "outputs": [
    {
     "ename": "NameError",
     "evalue": "name '_t' is not defined",
     "output_type": "error",
     "traceback": [
      "\u001b[0;31m---------------------------------------------------------------------------\u001b[0m",
      "\u001b[0;31mNameError\u001b[0m                                 Traceback (most recent call last)",
      "\u001b[0;32m<ipython-input-54-a8e3a32cbb1c>\u001b[0m in \u001b[0;36m<module>\u001b[0;34m()\u001b[0m\n\u001b[0;32m----> 1\u001b[0;31m \u001b[0m_t\u001b[0m\u001b[0;34m[\u001b[0m\u001b[0m_t\u001b[0m\u001b[0;34m.\u001b[0m\u001b[0mstatement_id\u001b[0m \u001b[0;34m==\u001b[0m \u001b[0msid\u001b[0m\u001b[0;34m]\u001b[0m\u001b[0;34m\u001b[0m\u001b[0m\n\u001b[0m",
      "\u001b[0;31mNameError\u001b[0m: name '_t' is not defined"
     ]
    }
   ],
   "source": [
    "_t[_t.statement_id == sid]"
   ]
  },
  {
   "cell_type": "code",
   "execution_count": 55,
   "metadata": {
    "hidden": true
   },
   "outputs": [],
   "source": [
    "with open(f\"{directory_statements}/{int(sid)}.json\", \"r\") as f:\n",
    "    data = json.load(f)"
   ]
  },
  {
   "cell_type": "markdown",
   "metadata": {
    "hidden": true
   },
   "source": [
    "Just to visualize JSON hierarchy, run the following cell:"
   ]
  },
  {
   "cell_type": "code",
   "execution_count": 56,
   "metadata": {
    "hidden": true
   },
   "outputs": [
    {
     "ename": "FileNotFoundError",
     "evalue": "[Errno 2] No such file or directory: '../docs/data_insight/data.json'",
     "output_type": "error",
     "traceback": [
      "\u001b[0;31m---------------------------------------------------------------------------\u001b[0m",
      "\u001b[0;31mFileNotFoundError\u001b[0m                         Traceback (most recent call last)",
      "\u001b[0;32m<ipython-input-56-0c41c9fde1ec>\u001b[0m in \u001b[0;36m<module>\u001b[0;34m()\u001b[0m\n\u001b[1;32m     17\u001b[0m \u001b[0mmy_dict\u001b[0m \u001b[0;34m=\u001b[0m \u001b[0mgo_further\u001b[0m\u001b[0;34m(\u001b[0m\u001b[0mdata\u001b[0m\u001b[0;34m,\u001b[0m \u001b[0mname\u001b[0m\u001b[0;34m=\u001b[0m\u001b[0;34m\"statement_info\"\u001b[0m\u001b[0;34m)\u001b[0m\u001b[0;34m\u001b[0m\u001b[0m\n\u001b[1;32m     18\u001b[0m \u001b[0;34m\u001b[0m\u001b[0m\n\u001b[0;32m---> 19\u001b[0;31m \u001b[0;32mwith\u001b[0m \u001b[0mopen\u001b[0m\u001b[0;34m(\u001b[0m\u001b[0;34mf\"{directory_visualizations}/data.json\"\u001b[0m\u001b[0;34m,\u001b[0m \u001b[0;34m\"w\"\u001b[0m\u001b[0;34m)\u001b[0m \u001b[0;32mas\u001b[0m \u001b[0mf\u001b[0m\u001b[0;34m:\u001b[0m\u001b[0;34m\u001b[0m\u001b[0m\n\u001b[0m\u001b[1;32m     20\u001b[0m     \u001b[0mjson\u001b[0m\u001b[0;34m.\u001b[0m\u001b[0mdump\u001b[0m\u001b[0;34m(\u001b[0m\u001b[0mmy_dict\u001b[0m\u001b[0;34m,\u001b[0m \u001b[0mf\u001b[0m\u001b[0;34m)\u001b[0m\u001b[0;34m\u001b[0m\u001b[0m\n\u001b[1;32m     21\u001b[0m \u001b[0;34m\u001b[0m\u001b[0m\n",
      "\u001b[0;31mFileNotFoundError\u001b[0m: [Errno 2] No such file or directory: '../docs/data_insight/data.json'"
     ]
    }
   ],
   "source": [
    "def go_further(dic, name):\n",
    "    dict_vis = {\"name\": name, \"children\": []}\n",
    "    for k, v in dic.items():\n",
    "        if type(v) == str:\n",
    "            new_el = {\"name\": k}\n",
    "        elif type(v) == list:\n",
    "            if len(v) > 0:\n",
    "                new_el = go_further(v[0], k)\n",
    "        elif type(v) == dict:\n",
    "            new_el = go_further(v, k)\n",
    "        else:\n",
    "            new_el = {\"name\": k}\n",
    "        dict_vis[\"children\"].append(new_el)\n",
    "        \n",
    "    return dict_vis\n",
    "\n",
    "my_dict = go_further(data, name=\"statement_info\")\n",
    "\n",
    "with open(f\"{directory_visualizations}/data.json\", \"w\") as f:\n",
    "    json.dump(my_dict, f)\n",
    "\n",
    "print(f\"Checkout visualization by: \\n1) cd ../visualizations \\n2) python -m http.server \\n3) in browser, open: http://localhost:8000/\")"
   ]
  },
  {
   "cell_type": "code",
   "execution_count": null,
   "metadata": {
    "hidden": true
   },
   "outputs": [],
   "source": []
  }
 ],
 "metadata": {
  "hide_input": false,
  "kernelspec": {
   "display_name": "Python 3",
   "language": "python",
   "name": "python3"
  },
  "language_info": {
   "codemirror_mode": {
    "name": "ipython",
    "version": 3
   },
   "file_extension": ".py",
   "mimetype": "text/x-python",
   "name": "python",
   "nbconvert_exporter": "python",
   "pygments_lexer": "ipython3",
   "version": "3.6.5"
  },
  "toc": {
   "base_numbering": 1,
   "nav_menu": {
    "height": "49.1333px",
    "width": "252px"
   },
   "number_sections": true,
   "sideBar": true,
   "skip_h1_title": false,
   "title_cell": "Table of Contents",
   "title_sidebar": "Contents",
   "toc_cell": false,
   "toc_position": {},
   "toc_section_display": "block",
   "toc_window_display": false
  }
 },
 "nbformat": 4,
 "nbformat_minor": 2
}
