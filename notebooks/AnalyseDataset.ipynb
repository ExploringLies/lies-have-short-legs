{
 "cells": [
  {
   "cell_type": "markdown",
   "metadata": {},
   "source": [
    "# Analysing Dataset"
   ]
  },
  {
   "cell_type": "code",
   "execution_count": 1,
   "metadata": {
    "ExecuteTime": {
     "end_time": "2018-12-13T16:22:16.844191Z",
     "start_time": "2018-12-13T16:22:16.823986Z"
    }
   },
   "outputs": [
    {
     "data": {
      "text/html": [
       "<style>.container { width:95% !important; }</style>"
      ],
      "text/plain": [
       "<IPython.core.display.HTML object>"
      ]
     },
     "metadata": {},
     "output_type": "display_data"
    }
   ],
   "source": [
    "def fix_layout(width:int=95):\n",
    "    from IPython.core.display import display, HTML\n",
    "    display(HTML('<style>.container { width:' + str(width) + '% !important; }</style>'))\n",
    "    \n",
    "fix_layout()"
   ]
  },
  {
   "cell_type": "markdown",
   "metadata": {},
   "source": [
    "This notebook is dedicated to datasets analysis. \n",
    "\n",
    "Here we will concentrate on connecting our datasets into one dataframe that will later be used to extract meaningful information that can help us answer our research questions. \n",
    "\n",
    "In addition, data cleaning is performed where necessary since we will not use all the data provided. The goal of this notebook is to make data as easy as possible to use for future plotting and data story writing.\n",
    "\n",
    "So, let's dive into our data!"
   ]
  },
  {
   "cell_type": "code",
   "execution_count": 2,
   "metadata": {
    "ExecuteTime": {
     "end_time": "2018-12-13T17:32:43.676648Z",
     "start_time": "2018-12-13T17:32:43.666025Z"
    }
   },
   "outputs": [
    {
     "data": {
      "text/plain": [
       "<module 'utils.statement_handling' from '../src/utils/statement_handling.py'>"
      ]
     },
     "execution_count": 2,
     "metadata": {},
     "output_type": "execute_result"
    }
   ],
   "source": [
    "import os\n",
    "import re\n",
    "import json\n",
    "import time\n",
    "import datetime\n",
    "from functools import reduce\n",
    "from itertools import product\n",
    "\n",
    "from json import load, JSONDecodeError\n",
    "from functional import pseq, seq\n",
    "import pandas as pd\n",
    "import pandas_profiling\n",
    "import requests\n",
    "import pathlib\n",
    "\n",
    "# necessary to load the utils, which are in src\n",
    "import sys\n",
    "sys.path.append('../src')\n",
    "\n",
    "from utils import file, logging\n",
    "from utils.statement_handling import extract_information, safe_json_read\n",
    "\n",
    "from importlib import reload\n",
    "\n",
    "import utils.statement_handling as SH\n",
    "reload(SH)"
   ]
  },
  {
   "cell_type": "code",
   "execution_count": 3,
   "metadata": {
    "ExecuteTime": {
     "end_time": "2018-12-13T16:22:20.508943Z",
     "start_time": "2018-12-13T16:22:20.503617Z"
    }
   },
   "outputs": [],
   "source": [
    "def group_and_count(df, groupby_column, with_pct=False, with_avg=False):\n",
    "    result = df.groupby(groupby_column).size().sort_values(ascending=False).reset_index().rename(columns={0: 'count'})\n",
    "    if with_pct:\n",
    "        result['count_pct'] = result['count'] / result['count'].sum()\n",
    "    if with_avg:\n",
    "        result['count_avg'] = result['count'].mean()\n",
    "    return result"
   ]
  },
  {
   "cell_type": "code",
   "execution_count": 4,
   "metadata": {
    "ExecuteTime": {
     "end_time": "2018-12-13T16:22:22.023282Z",
     "start_time": "2018-12-13T16:22:22.016409Z"
    }
   },
   "outputs": [],
   "source": [
    "directory_liar_dataset = \"../data/liar_dataset\"\n",
    "directory_statements = f\"{directory_liar_dataset}/statements\"\n",
    "directory_visualizations = \"../docs/data_insight\"\n",
    "directory_election_results = \"../data/election_results\"\n",
    "directory_county_data = \"../data/county_data\""
   ]
  },
  {
   "cell_type": "markdown",
   "metadata": {},
   "source": [
    "# LIAR Dataset"
   ]
  },
  {
   "cell_type": "markdown",
   "metadata": {},
   "source": [
    "This is just the LIAR dataset:"
   ]
  },
  {
   "cell_type": "code",
   "execution_count": 5,
   "metadata": {
    "ExecuteTime": {
     "end_time": "2018-12-13T16:57:40.678636Z",
     "start_time": "2018-12-13T16:57:37.652081Z"
    }
   },
   "outputs": [
    {
     "name": "stderr",
     "output_type": "stream",
     "text": [
      "ERROR:root:File ../data/liar_dataset/statements/5355.json is empty or something...\n",
      "ERROR:root:File ../data/liar_dataset/statements/9.json is empty or something...\n"
     ]
    },
    {
     "data": {
      "text/html": [
       "<div>\n",
       "<style scoped>\n",
       "    .dataframe tbody tr th:only-of-type {\n",
       "        vertical-align: middle;\n",
       "    }\n",
       "\n",
       "    .dataframe tbody tr th {\n",
       "        vertical-align: top;\n",
       "    }\n",
       "\n",
       "    .dataframe thead th {\n",
       "        text-align: right;\n",
       "    }\n",
       "</style>\n",
       "<table border=\"1\" class=\"dataframe\">\n",
       "  <thead>\n",
       "    <tr style=\"text-align: right;\">\n",
       "      <th></th>\n",
       "      <th>author_name_slug</th>\n",
       "      <th>context</th>\n",
       "      <th>label</th>\n",
       "      <th>ruling_date</th>\n",
       "      <th>speaker_current_job</th>\n",
       "      <th>speaker_first_name</th>\n",
       "      <th>speaker_home_state</th>\n",
       "      <th>speaker_last_name</th>\n",
       "      <th>statement</th>\n",
       "      <th>statement_date</th>\n",
       "      <th>statement_id</th>\n",
       "      <th>statement_type</th>\n",
       "      <th>statement_type_description</th>\n",
       "      <th>subject</th>\n",
       "    </tr>\n",
       "  </thead>\n",
       "  <tbody>\n",
       "    <tr>\n",
       "      <th>14782</th>\n",
       "      <td>tom-kertscher</td>\n",
       "      <td>a news release</td>\n",
       "      <td>true</td>\n",
       "      <td>2015-03-18T05:00:00</td>\n",
       "      <td>State Senator, District 4</td>\n",
       "      <td>Lena</td>\n",
       "      <td>Wisconsin</td>\n",
       "      <td>Taylor</td>\n",
       "      <td>Polling shows that nearly 74 percent of Nation...</td>\n",
       "      <td>2015-03-12</td>\n",
       "      <td>10626</td>\n",
       "      <td>Claim</td>\n",
       "      <td>blog post</td>\n",
       "      <td>Civil Rights</td>\n",
       "    </tr>\n",
       "    <tr>\n",
       "      <th>12235</th>\n",
       "      <td>jon-greenberg</td>\n",
       "      <td>the first presidential debate</td>\n",
       "      <td>half-true</td>\n",
       "      <td>2012-10-04T00:15:24</td>\n",
       "      <td>President</td>\n",
       "      <td>Barack</td>\n",
       "      <td>Illinois</td>\n",
       "      <td>Obama</td>\n",
       "      <td>Says Mitt Romney&amp;#39;s plan calls for a $5 tri...</td>\n",
       "      <td>2012-10-03</td>\n",
       "      <td>6833</td>\n",
       "      <td>Claim</td>\n",
       "      <td>blog post</td>\n",
       "      <td>Debates</td>\n",
       "    </tr>\n",
       "    <tr>\n",
       "      <th>4127</th>\n",
       "      <td>miriam-valverde</td>\n",
       "      <td>a blog post</td>\n",
       "      <td>pants-fire</td>\n",
       "      <td>2018-05-04T11:58:11</td>\n",
       "      <td></td>\n",
       "      <td></td>\n",
       "      <td></td>\n",
       "      <td>Bloggers</td>\n",
       "      <td>Thousands killed as Israel Drops Tactical Nucl...</td>\n",
       "      <td>2018-04-30</td>\n",
       "      <td>15354</td>\n",
       "      <td>Claim</td>\n",
       "      <td>blog post</td>\n",
       "      <td>Fake news</td>\n",
       "    </tr>\n",
       "    <tr>\n",
       "      <th>7939</th>\n",
       "      <td>robert-farley</td>\n",
       "      <td>Denver, Co.</td>\n",
       "      <td>false</td>\n",
       "      <td>2008-07-09T00:00:00</td>\n",
       "      <td>U.S. senator</td>\n",
       "      <td>John</td>\n",
       "      <td>Arizona</td>\n",
       "      <td>McCain</td>\n",
       "      <td>If you have an investment for your childs educ...</td>\n",
       "      <td>2008-07-07</td>\n",
       "      <td>561</td>\n",
       "      <td>Attack</td>\n",
       "      <td>&lt;p&gt;\\r\\n\\tA criticism of a candidate.&lt;/p&gt;\\r\\n</td>\n",
       "      <td>Taxes</td>\n",
       "    </tr>\n",
       "    <tr>\n",
       "      <th>14019</th>\n",
       "      <td>amy-sherman</td>\n",
       "      <td>an interview on MSNBC</td>\n",
       "      <td>mostly-true</td>\n",
       "      <td>2013-11-11T10:33:10</td>\n",
       "      <td></td>\n",
       "      <td>Charlie</td>\n",
       "      <td>Florida</td>\n",
       "      <td>Crist</td>\n",
       "      <td>Says Rick Scott cut education by $1.3 billion ...</td>\n",
       "      <td>2013-11-05</td>\n",
       "      <td>8524</td>\n",
       "      <td>Claim</td>\n",
       "      <td>blog post</td>\n",
       "      <td>Education</td>\n",
       "    </tr>\n",
       "    <tr>\n",
       "      <th>9274</th>\n",
       "      <td>dave-umhoefer</td>\n",
       "      <td>a tweet</td>\n",
       "      <td>half-true</td>\n",
       "      <td>2013-01-20T09:00:00</td>\n",
       "      <td>Milwaukee County Executive</td>\n",
       "      <td>Scott</td>\n",
       "      <td>Wisconsin</td>\n",
       "      <td>Walker</td>\n",
       "      <td>Thanks to Washington, nearly everyone will pay...</td>\n",
       "      <td>2013-01-04</td>\n",
       "      <td>7265</td>\n",
       "      <td>Attack</td>\n",
       "      <td>&lt;p&gt;\\r\\n\\tA criticism of a candidate.&lt;/p&gt;\\r\\n</td>\n",
       "      <td>Economy</td>\n",
       "    </tr>\n",
       "    <tr>\n",
       "      <th>12347</th>\n",
       "      <td>adriel-bettelheim</td>\n",
       "      <td>a speech to the Americans for Prosperity Michi...</td>\n",
       "      <td>half-true</td>\n",
       "      <td>2008-01-16T00:00:00</td>\n",
       "      <td>U.S. senator</td>\n",
       "      <td>John</td>\n",
       "      <td>Arizona</td>\n",
       "      <td>McCain</td>\n",
       "      <td>Congress just passed another huge, pork-filled...</td>\n",
       "      <td>2008-01-12</td>\n",
       "      <td>286</td>\n",
       "      <td>Claim</td>\n",
       "      <td>blog post</td>\n",
       "      <td>Federal Budget</td>\n",
       "    </tr>\n",
       "    <tr>\n",
       "      <th>14590</th>\n",
       "      <td>robert-farley</td>\n",
       "      <td>in a press release</td>\n",
       "      <td>false</td>\n",
       "      <td>2008-03-14T00:00:00</td>\n",
       "      <td></td>\n",
       "      <td></td>\n",
       "      <td>Tennessee</td>\n",
       "      <td>Tennessee Republican Party</td>\n",
       "      <td>You dont even have to go outside Obamas campai...</td>\n",
       "      <td>2008-02-25</td>\n",
       "      <td>395</td>\n",
       "      <td>Attack</td>\n",
       "      <td>&lt;p&gt;\\r\\n\\tA criticism of a candidate.&lt;/p&gt;\\r\\n</td>\n",
       "      <td>Israel</td>\n",
       "    </tr>\n",
       "    <tr>\n",
       "      <th>2153</th>\n",
       "      <td>c-eugene-emery</td>\n",
       "      <td>a posting on his website</td>\n",
       "      <td>false</td>\n",
       "      <td>2010-06-27T00:01:00</td>\n",
       "      <td></td>\n",
       "      <td>Mark S.</td>\n",
       "      <td>Rhode Island</td>\n",
       "      <td>Zaccaria</td>\n",
       "      <td>&lt;span id=internal-source-marker_0.395255026839...</td>\n",
       "      <td>2010-06-02</td>\n",
       "      <td>1947</td>\n",
       "      <td>Claim</td>\n",
       "      <td>blog post</td>\n",
       "      <td>Bipartisanship</td>\n",
       "    </tr>\n",
       "    <tr>\n",
       "      <th>10059</th>\n",
       "      <td>nancy-badertscher</td>\n",
       "      <td>press release</td>\n",
       "      <td>half-true</td>\n",
       "      <td>2015-11-13T00:00:00</td>\n",
       "      <td>website</td>\n",
       "      <td></td>\n",
       "      <td>Georgia</td>\n",
       "      <td>Kiplinger.com</td>\n",
       "      <td>Georgia is one of the 10 most tax-friendly sta...</td>\n",
       "      <td>2015-10-26</td>\n",
       "      <td>11565</td>\n",
       "      <td>Claim</td>\n",
       "      <td>blog post</td>\n",
       "      <td>Income</td>\n",
       "    </tr>\n",
       "  </tbody>\n",
       "</table>\n",
       "</div>"
      ],
      "text/plain": [
       "        author_name_slug                                            context  \\\n",
       "14782      tom-kertscher                                     a news release   \n",
       "12235      jon-greenberg                      the first presidential debate   \n",
       "4127     miriam-valverde                                        a blog post   \n",
       "7939       robert-farley                                        Denver, Co.   \n",
       "14019        amy-sherman                              an interview on MSNBC   \n",
       "9274       dave-umhoefer                                            a tweet   \n",
       "12347  adriel-bettelheim  a speech to the Americans for Prosperity Michi...   \n",
       "14590      robert-farley                                 in a press release   \n",
       "2153      c-eugene-emery                           a posting on his website   \n",
       "10059  nancy-badertscher                                      press release   \n",
       "\n",
       "             label          ruling_date         speaker_current_job  \\\n",
       "14782         true  2015-03-18T05:00:00   State Senator, District 4   \n",
       "12235    half-true  2012-10-04T00:15:24                   President   \n",
       "4127    pants-fire  2018-05-04T11:58:11                               \n",
       "7939         false  2008-07-09T00:00:00                U.S. senator   \n",
       "14019  mostly-true  2013-11-11T10:33:10                               \n",
       "9274     half-true  2013-01-20T09:00:00  Milwaukee County Executive   \n",
       "12347    half-true  2008-01-16T00:00:00                U.S. senator   \n",
       "14590        false  2008-03-14T00:00:00                               \n",
       "2153         false  2010-06-27T00:01:00                               \n",
       "10059    half-true  2015-11-13T00:00:00                     website   \n",
       "\n",
       "      speaker_first_name speaker_home_state           speaker_last_name  \\\n",
       "14782               Lena          Wisconsin                      Taylor   \n",
       "12235             Barack           Illinois                       Obama   \n",
       "4127                                                           Bloggers   \n",
       "7939                John            Arizona                      McCain   \n",
       "14019            Charlie            Florida                       Crist   \n",
       "9274               Scott          Wisconsin                      Walker   \n",
       "12347               John            Arizona                      McCain   \n",
       "14590                             Tennessee  Tennessee Republican Party   \n",
       "2153             Mark S.       Rhode Island                    Zaccaria   \n",
       "10059                               Georgia               Kiplinger.com   \n",
       "\n",
       "                                               statement statement_date  \\\n",
       "14782  Polling shows that nearly 74 percent of Nation...     2015-03-12   \n",
       "12235  Says Mitt Romney&#39;s plan calls for a $5 tri...     2012-10-03   \n",
       "4127   Thousands killed as Israel Drops Tactical Nucl...     2018-04-30   \n",
       "7939   If you have an investment for your childs educ...     2008-07-07   \n",
       "14019  Says Rick Scott cut education by $1.3 billion ...     2013-11-05   \n",
       "9274   Thanks to Washington, nearly everyone will pay...     2013-01-04   \n",
       "12347  Congress just passed another huge, pork-filled...     2008-01-12   \n",
       "14590  You dont even have to go outside Obamas campai...     2008-02-25   \n",
       "2153   <span id=internal-source-marker_0.395255026839...     2010-06-02   \n",
       "10059  Georgia is one of the 10 most tax-friendly sta...     2015-10-26   \n",
       "\n",
       "       statement_id statement_type  \\\n",
       "14782         10626          Claim   \n",
       "12235          6833          Claim   \n",
       "4127          15354          Claim   \n",
       "7939            561         Attack   \n",
       "14019          8524          Claim   \n",
       "9274           7265         Attack   \n",
       "12347           286          Claim   \n",
       "14590           395         Attack   \n",
       "2153           1947          Claim   \n",
       "10059         11565          Claim   \n",
       "\n",
       "                         statement_type_description         subject  \n",
       "14782                                    blog post     Civil Rights  \n",
       "12235                                    blog post          Debates  \n",
       "4127                                     blog post        Fake news  \n",
       "7939   <p>\\r\\n\\tA criticism of a candidate.</p>\\r\\n           Taxes  \n",
       "14019                                    blog post        Education  \n",
       "9274   <p>\\r\\n\\tA criticism of a candidate.</p>\\r\\n         Economy  \n",
       "12347                                    blog post   Federal Budget  \n",
       "14590  <p>\\r\\n\\tA criticism of a candidate.</p>\\r\\n          Israel  \n",
       "2153                                     blog post   Bipartisanship  \n",
       "10059                                    blog post           Income  "
      ]
     },
     "execution_count": 5,
     "metadata": {},
     "output_type": "execute_result"
    }
   ],
   "source": [
    "statements = seq(pathlib.Path(directory_statements).iterdir()).map(safe_json_read)\\\n",
    "                               .filter(lambda x: len(x) > 0)\\\n",
    "                               .map(extract_information)\\\n",
    "                               .to_pandas()\n",
    "\n",
    "statements['statement_date'] = pd.to_datetime(statements['statement_date'])\n",
    "statements.sample(10)"
   ]
  },
  {
   "cell_type": "code",
   "execution_count": 6,
   "metadata": {
    "ExecuteTime": {
     "end_time": "2018-12-13T16:57:46.633085Z",
     "start_time": "2018-12-13T16:57:46.629695Z"
    }
   },
   "outputs": [
    {
     "data": {
      "text/plain": [
       "646"
      ]
     },
     "execution_count": 6,
     "metadata": {},
     "output_type": "execute_result"
    }
   ],
   "source": [
    "statements['speaker_last_name'].eq('Trump').sum()"
   ]
  },
  {
   "cell_type": "code",
   "execution_count": 7,
   "metadata": {
    "ExecuteTime": {
     "end_time": "2018-12-13T16:58:00.916407Z",
     "start_time": "2018-12-13T16:58:00.895890Z"
    }
   },
   "outputs": [
    {
     "name": "stdout",
     "output_type": "stream",
     "text": [
      "The number of different context names is: 5828. That is much too many different contexts and lots of them appear only a few times. We thus need to regroup/reduce the number of contexts.\n"
     ]
    }
   ],
   "source": [
    "print('The number of different context names is: {}.\\\n",
    " That is much too many different contexts and lots of them appear only a few times.\\\n",
    " We thus need to regroup/reduce the number of contexts.'.format(group_and_count(statements, 'context').shape[0]))"
   ]
  },
  {
   "cell_type": "code",
   "execution_count": 8,
   "metadata": {
    "ExecuteTime": {
     "end_time": "2018-12-13T16:58:05.878502Z",
     "start_time": "2018-12-13T16:58:05.848183Z"
    }
   },
   "outputs": [
    {
     "data": {
      "text/html": [
       "<div>\n",
       "<style scoped>\n",
       "    .dataframe tbody tr th:only-of-type {\n",
       "        vertical-align: middle;\n",
       "    }\n",
       "\n",
       "    .dataframe tbody tr th {\n",
       "        vertical-align: top;\n",
       "    }\n",
       "\n",
       "    .dataframe thead th {\n",
       "        text-align: right;\n",
       "    }\n",
       "</style>\n",
       "<table border=\"1\" class=\"dataframe\">\n",
       "  <thead>\n",
       "    <tr style=\"text-align: right;\">\n",
       "      <th></th>\n",
       "      <th>context</th>\n",
       "      <th>count</th>\n",
       "    </tr>\n",
       "  </thead>\n",
       "  <tbody>\n",
       "    <tr>\n",
       "      <th>0</th>\n",
       "      <td>a tweet</td>\n",
       "      <td>471</td>\n",
       "    </tr>\n",
       "    <tr>\n",
       "      <th>1</th>\n",
       "      <td>an interview</td>\n",
       "      <td>380</td>\n",
       "    </tr>\n",
       "    <tr>\n",
       "      <th>2</th>\n",
       "      <td>a news release</td>\n",
       "      <td>329</td>\n",
       "    </tr>\n",
       "    <tr>\n",
       "      <th>3</th>\n",
       "      <td>a press release</td>\n",
       "      <td>325</td>\n",
       "    </tr>\n",
       "    <tr>\n",
       "      <th>4</th>\n",
       "      <td>a speech</td>\n",
       "      <td>319</td>\n",
       "    </tr>\n",
       "    <tr>\n",
       "      <th>5</th>\n",
       "      <td>a TV ad</td>\n",
       "      <td>275</td>\n",
       "    </tr>\n",
       "    <tr>\n",
       "      <th>6</th>\n",
       "      <td>a campaign ad</td>\n",
       "      <td>221</td>\n",
       "    </tr>\n",
       "    <tr>\n",
       "      <th>7</th>\n",
       "      <td>a headline</td>\n",
       "      <td>175</td>\n",
       "    </tr>\n",
       "    <tr>\n",
       "      <th>8</th>\n",
       "      <td>a television ad</td>\n",
       "      <td>168</td>\n",
       "    </tr>\n",
       "    <tr>\n",
       "      <th>9</th>\n",
       "      <td></td>\n",
       "      <td>166</td>\n",
       "    </tr>\n",
       "    <tr>\n",
       "      <th>10</th>\n",
       "      <td>a radio interview</td>\n",
       "      <td>158</td>\n",
       "    </tr>\n",
       "    <tr>\n",
       "      <th>11</th>\n",
       "      <td>a debate</td>\n",
       "      <td>148</td>\n",
       "    </tr>\n",
       "    <tr>\n",
       "      <th>12</th>\n",
       "      <td>a Facebook post</td>\n",
       "      <td>139</td>\n",
       "    </tr>\n",
       "    <tr>\n",
       "      <th>13</th>\n",
       "      <td>a blog post</td>\n",
       "      <td>133</td>\n",
       "    </tr>\n",
       "    <tr>\n",
       "      <th>14</th>\n",
       "      <td>a press conference</td>\n",
       "      <td>125</td>\n",
       "    </tr>\n",
       "    <tr>\n",
       "      <th>15</th>\n",
       "      <td>a news conference</td>\n",
       "      <td>118</td>\n",
       "    </tr>\n",
       "    <tr>\n",
       "      <th>16</th>\n",
       "      <td>a campaign commercial</td>\n",
       "      <td>93</td>\n",
       "    </tr>\n",
       "    <tr>\n",
       "      <th>17</th>\n",
       "      <td>a television interview</td>\n",
       "      <td>90</td>\n",
       "    </tr>\n",
       "    <tr>\n",
       "      <th>18</th>\n",
       "      <td>a TV interview</td>\n",
       "      <td>76</td>\n",
       "    </tr>\n",
       "    <tr>\n",
       "      <th>19</th>\n",
       "      <td>a speech.</td>\n",
       "      <td>73</td>\n",
       "    </tr>\n",
       "    <tr>\n",
       "      <th>20</th>\n",
       "      <td>an ad</td>\n",
       "      <td>66</td>\n",
       "    </tr>\n",
       "    <tr>\n",
       "      <th>21</th>\n",
       "      <td>a radio ad</td>\n",
       "      <td>64</td>\n",
       "    </tr>\n",
       "    <tr>\n",
       "      <th>22</th>\n",
       "      <td>a TV ad.</td>\n",
       "      <td>62</td>\n",
       "    </tr>\n",
       "    <tr>\n",
       "      <th>23</th>\n",
       "      <td>a press release.</td>\n",
       "      <td>59</td>\n",
       "    </tr>\n",
       "    <tr>\n",
       "      <th>24</th>\n",
       "      <td>an interview on CNN</td>\n",
       "      <td>55</td>\n",
       "    </tr>\n",
       "    <tr>\n",
       "      <th>25</th>\n",
       "      <td>a post on Facebook</td>\n",
       "      <td>54</td>\n",
       "    </tr>\n",
       "    <tr>\n",
       "      <th>26</th>\n",
       "      <td>an interview on Fox News</td>\n",
       "      <td>53</td>\n",
       "    </tr>\n",
       "    <tr>\n",
       "      <th>27</th>\n",
       "      <td>a chain e-mail</td>\n",
       "      <td>52</td>\n",
       "    </tr>\n",
       "    <tr>\n",
       "      <th>28</th>\n",
       "      <td>an interview.</td>\n",
       "      <td>51</td>\n",
       "    </tr>\n",
       "    <tr>\n",
       "      <th>29</th>\n",
       "      <td>a campaign mailer</td>\n",
       "      <td>50</td>\n",
       "    </tr>\n",
       "    <tr>\n",
       "      <th>...</th>\n",
       "      <td>...</td>\n",
       "      <td>...</td>\n",
       "    </tr>\n",
       "    <tr>\n",
       "      <th>70</th>\n",
       "      <td>ABC's \"This Week\"</td>\n",
       "      <td>23</td>\n",
       "    </tr>\n",
       "    <tr>\n",
       "      <th>71</th>\n",
       "      <td>an interview on ABC's \"This Week\"</td>\n",
       "      <td>23</td>\n",
       "    </tr>\n",
       "    <tr>\n",
       "      <th>72</th>\n",
       "      <td>a news conference.</td>\n",
       "      <td>22</td>\n",
       "    </tr>\n",
       "    <tr>\n",
       "      <th>73</th>\n",
       "      <td>in a blog post</td>\n",
       "      <td>22</td>\n",
       "    </tr>\n",
       "    <tr>\n",
       "      <th>74</th>\n",
       "      <td>a Twitter post</td>\n",
       "      <td>21</td>\n",
       "    </tr>\n",
       "    <tr>\n",
       "      <th>75</th>\n",
       "      <td>the second presidential debate</td>\n",
       "      <td>21</td>\n",
       "    </tr>\n",
       "    <tr>\n",
       "      <th>76</th>\n",
       "      <td>comments on NBC's \"Meet the Press\"</td>\n",
       "      <td>21</td>\n",
       "    </tr>\n",
       "    <tr>\n",
       "      <th>77</th>\n",
       "      <td>a newspaper column</td>\n",
       "      <td>21</td>\n",
       "    </tr>\n",
       "    <tr>\n",
       "      <th>78</th>\n",
       "      <td>an e-mail</td>\n",
       "      <td>20</td>\n",
       "    </tr>\n",
       "    <tr>\n",
       "      <th>79</th>\n",
       "      <td>a campaign mailer.</td>\n",
       "      <td>20</td>\n",
       "    </tr>\n",
       "    <tr>\n",
       "      <th>80</th>\n",
       "      <td>a House floor speech</td>\n",
       "      <td>20</td>\n",
       "    </tr>\n",
       "    <tr>\n",
       "      <th>81</th>\n",
       "      <td>in a tweet</td>\n",
       "      <td>19</td>\n",
       "    </tr>\n",
       "    <tr>\n",
       "      <th>82</th>\n",
       "      <td>an advertisement</td>\n",
       "      <td>19</td>\n",
       "    </tr>\n",
       "    <tr>\n",
       "      <th>83</th>\n",
       "      <td>a speech on the Senate floor</td>\n",
       "      <td>19</td>\n",
       "    </tr>\n",
       "    <tr>\n",
       "      <th>84</th>\n",
       "      <td>a campaign website</td>\n",
       "      <td>19</td>\n",
       "    </tr>\n",
       "    <tr>\n",
       "      <th>85</th>\n",
       "      <td>a fundraising email</td>\n",
       "      <td>18</td>\n",
       "    </tr>\n",
       "    <tr>\n",
       "      <th>86</th>\n",
       "      <td>a video ad</td>\n",
       "      <td>18</td>\n",
       "    </tr>\n",
       "    <tr>\n",
       "      <th>87</th>\n",
       "      <td>comments on \"Meet the Press\"</td>\n",
       "      <td>18</td>\n",
       "    </tr>\n",
       "    <tr>\n",
       "      <th>88</th>\n",
       "      <td>a YouTube video</td>\n",
       "      <td>18</td>\n",
       "    </tr>\n",
       "    <tr>\n",
       "      <th>89</th>\n",
       "      <td>in a press release</td>\n",
       "      <td>18</td>\n",
       "    </tr>\n",
       "    <tr>\n",
       "      <th>90</th>\n",
       "      <td>a column</td>\n",
       "      <td>18</td>\n",
       "    </tr>\n",
       "    <tr>\n",
       "      <th>91</th>\n",
       "      <td>an opinion column</td>\n",
       "      <td>17</td>\n",
       "    </tr>\n",
       "    <tr>\n",
       "      <th>92</th>\n",
       "      <td>an interview on MSNBC's \"Morning Joe\"</td>\n",
       "      <td>17</td>\n",
       "    </tr>\n",
       "    <tr>\n",
       "      <th>93</th>\n",
       "      <td>a statement.</td>\n",
       "      <td>17</td>\n",
       "    </tr>\n",
       "    <tr>\n",
       "      <th>94</th>\n",
       "      <td>an interview with Fox News</td>\n",
       "      <td>17</td>\n",
       "    </tr>\n",
       "    <tr>\n",
       "      <th>95</th>\n",
       "      <td>a campaign email</td>\n",
       "      <td>17</td>\n",
       "    </tr>\n",
       "    <tr>\n",
       "      <th>96</th>\n",
       "      <td>a fundraising letter</td>\n",
       "      <td>17</td>\n",
       "    </tr>\n",
       "    <tr>\n",
       "      <th>97</th>\n",
       "      <td>an interview on CNN's \"State of the Union\"</td>\n",
       "      <td>16</td>\n",
       "    </tr>\n",
       "    <tr>\n",
       "      <th>98</th>\n",
       "      <td>a floor speech.</td>\n",
       "      <td>16</td>\n",
       "    </tr>\n",
       "    <tr>\n",
       "      <th>99</th>\n",
       "      <td>a tweet.</td>\n",
       "      <td>16</td>\n",
       "    </tr>\n",
       "  </tbody>\n",
       "</table>\n",
       "<p>100 rows × 2 columns</p>\n",
       "</div>"
      ],
      "text/plain": [
       "                                       context  count\n",
       "0                                      a tweet    471\n",
       "1                                 an interview    380\n",
       "2                               a news release    329\n",
       "3                              a press release    325\n",
       "4                                     a speech    319\n",
       "5                                      a TV ad    275\n",
       "6                                a campaign ad    221\n",
       "7                                   a headline    175\n",
       "8                              a television ad    168\n",
       "9                                                 166\n",
       "10                           a radio interview    158\n",
       "11                                    a debate    148\n",
       "12                             a Facebook post    139\n",
       "13                                 a blog post    133\n",
       "14                          a press conference    125\n",
       "15                           a news conference    118\n",
       "16                       a campaign commercial     93\n",
       "17                      a television interview     90\n",
       "18                              a TV interview     76\n",
       "19                                   a speech.     73\n",
       "20                                       an ad     66\n",
       "21                                  a radio ad     64\n",
       "22                                    a TV ad.     62\n",
       "23                            a press release.     59\n",
       "24                         an interview on CNN     55\n",
       "25                          a post on Facebook     54\n",
       "26                    an interview on Fox News     53\n",
       "27                              a chain e-mail     52\n",
       "28                               an interview.     51\n",
       "29                           a campaign mailer     50\n",
       "..                                         ...    ...\n",
       "70                           ABC's \"This Week\"     23\n",
       "71           an interview on ABC's \"This Week\"     23\n",
       "72                          a news conference.     22\n",
       "73                              in a blog post     22\n",
       "74                              a Twitter post     21\n",
       "75              the second presidential debate     21\n",
       "76          comments on NBC's \"Meet the Press\"     21\n",
       "77                          a newspaper column     21\n",
       "78                                   an e-mail     20\n",
       "79                          a campaign mailer.     20\n",
       "80                        a House floor speech     20\n",
       "81                                  in a tweet     19\n",
       "82                            an advertisement     19\n",
       "83                a speech on the Senate floor     19\n",
       "84                          a campaign website     19\n",
       "85                         a fundraising email     18\n",
       "86                                  a video ad     18\n",
       "87                comments on \"Meet the Press\"     18\n",
       "88                             a YouTube video     18\n",
       "89                          in a press release     18\n",
       "90                                    a column     18\n",
       "91                           an opinion column     17\n",
       "92       an interview on MSNBC's \"Morning Joe\"     17\n",
       "93                                a statement.     17\n",
       "94                  an interview with Fox News     17\n",
       "95                            a campaign email     17\n",
       "96                        a fundraising letter     17\n",
       "97  an interview on CNN's \"State of the Union\"     16\n",
       "98                             a floor speech.     16\n",
       "99                                    a tweet.     16\n",
       "\n",
       "[100 rows x 2 columns]"
      ]
     },
     "execution_count": 8,
     "metadata": {},
     "output_type": "execute_result"
    }
   ],
   "source": [
    "group_and_count(statements, 'context').head(100)"
   ]
  },
  {
   "cell_type": "markdown",
   "metadata": {},
   "source": [
    "So how to regroup all these or part of these?\n",
    "We can use the mean of communication for example:\n",
    "radio/tv/facebook/twitter/internet\n",
    "and these classes can have overlap..."
   ]
  },
  {
   "cell_type": "code",
   "execution_count": 9,
   "metadata": {
    "ExecuteTime": {
     "end_time": "2018-12-13T17:32:29.773868Z",
     "start_time": "2018-12-13T17:32:29.661428Z"
    }
   },
   "outputs": [],
   "source": [
    "statements['clean_context'] = statements['context'].apply(SH.clean_up_context)"
   ]
  },
  {
   "cell_type": "code",
   "execution_count": null,
   "metadata": {},
   "outputs": [],
   "source": []
  },
  {
   "cell_type": "code",
   "execution_count": 10,
   "metadata": {
    "ExecuteTime": {
     "end_time": "2018-11-23T14:05:12.691316Z",
     "start_time": "2018-11-23T14:05:12.658211Z"
    }
   },
   "outputs": [
    {
     "ename": "NameError",
     "evalue": "name 'false' is not defined",
     "output_type": "error",
     "traceback": [
      "\u001b[0;31m---------------------------------------------------------------------------\u001b[0m",
      "\u001b[0;31mNameError\u001b[0m                                 Traceback (most recent call last)",
      "\u001b[0;32m<ipython-input-10-2493ee97f1de>\u001b[0m in \u001b[0;36m<module>\u001b[0;34m()\u001b[0m\n\u001b[1;32m      1\u001b[0m \u001b[0;31m# no longer necessary\u001b[0m\u001b[0;34m\u001b[0m\u001b[0;34m\u001b[0m\u001b[0m\n\u001b[0;32m----> 2\u001b[0;31m \u001b[0;32mif\u001b[0m \u001b[0mfalse\u001b[0m\u001b[0;34m:\u001b[0m\u001b[0;34m\u001b[0m\u001b[0m\n\u001b[0m\u001b[1;32m      3\u001b[0m     \u001b[0mdf\u001b[0m\u001b[0;34m[\u001b[0m\u001b[0;34m'label_as_nb'\u001b[0m\u001b[0;34m]\u001b[0m \u001b[0;34m=\u001b[0m \u001b[0mdf\u001b[0m\u001b[0;34m[\u001b[0m\u001b[0;34m'label'\u001b[0m\u001b[0;34m]\u001b[0m\u001b[0;34m.\u001b[0m\u001b[0mapply\u001b[0m\u001b[0;34m(\u001b[0m\u001b[0mlabel_to_nb\u001b[0m\u001b[0;34m)\u001b[0m \u001b[0;34m*\u001b[0m \u001b[0;36m2\u001b[0m\u001b[0;34m\u001b[0m\u001b[0m\n\u001b[1;32m      4\u001b[0m     \u001b[0mdf\u001b[0m\u001b[0;34m[\u001b[0m\u001b[0;34m'statement_id'\u001b[0m\u001b[0;34m]\u001b[0m \u001b[0;34m=\u001b[0m \u001b[0mpd\u001b[0m\u001b[0;34m.\u001b[0m\u001b[0mto_numeric\u001b[0m\u001b[0;34m(\u001b[0m\u001b[0mdf\u001b[0m\u001b[0;34m[\u001b[0m\u001b[0;34m'statement_id'\u001b[0m\u001b[0;34m]\u001b[0m\u001b[0;34m)\u001b[0m\u001b[0;34m\u001b[0m\u001b[0m\n\u001b[1;32m      5\u001b[0m     \u001b[0mlies\u001b[0m \u001b[0;34m=\u001b[0m \u001b[0mdf\u001b[0m\u001b[0;34m.\u001b[0m\u001b[0mmerge\u001b[0m\u001b[0;34m(\u001b[0m\u001b[0madditional_information\u001b[0m\u001b[0;34m,\u001b[0m \u001b[0mon\u001b[0m\u001b[0;34m=\u001b[0m\u001b[0;34m'statement_id'\u001b[0m\u001b[0;34m,\u001b[0m \u001b[0mhow\u001b[0m\u001b[0;34m=\u001b[0m\u001b[0;34m'left'\u001b[0m\u001b[0;34m)\u001b[0m\u001b[0;34m\u001b[0m\u001b[0m\n",
      "\u001b[0;31mNameError\u001b[0m: name 'false' is not defined"
     ]
    }
   ],
   "source": [
    "# no longer necessary\n",
    "if false:\n",
    "    df['label_as_nb'] = df['label'].apply(label_to_nb) * 2 \n",
    "    df['statement_id'] = pd.to_numeric(df['statement_id'])\n",
    "    lies = df.merge(additional_information, on='statement_id', how='left')"
   ]
  },
  {
   "cell_type": "markdown",
   "metadata": {},
   "source": [
    "Let's just see what we have here:"
   ]
  },
  {
   "cell_type": "code",
   "execution_count": 11,
   "metadata": {
    "ExecuteTime": {
     "end_time": "2018-11-26T23:15:50.111849Z",
     "start_time": "2018-11-26T23:15:50.081132Z"
    }
   },
   "outputs": [
    {
     "ename": "NameError",
     "evalue": "name 'lies' is not defined",
     "output_type": "error",
     "traceback": [
      "\u001b[0;31m---------------------------------------------------------------------------\u001b[0m",
      "\u001b[0;31mNameError\u001b[0m                                 Traceback (most recent call last)",
      "\u001b[0;32m<ipython-input-11-6587f4827f39>\u001b[0m in \u001b[0;36m<module>\u001b[0;34m()\u001b[0m\n\u001b[1;32m      1\u001b[0m \u001b[0;31m# TODO rene add new values, see trello board\u001b[0m\u001b[0;34m\u001b[0m\u001b[0;34m\u001b[0m\u001b[0m\n\u001b[0;32m----> 2\u001b[0;31m \u001b[0mlies\u001b[0m\u001b[0;34m[\u001b[0m\u001b[0;34m'label_to_nb'\u001b[0m\u001b[0;34m]\u001b[0m \u001b[0;34m=\u001b[0m \u001b[0mlies\u001b[0m\u001b[0;34m[\u001b[0m\u001b[0;34m'label'\u001b[0m\u001b[0;34m]\u001b[0m\u001b[0;34m.\u001b[0m\u001b[0mapply\u001b[0m\u001b[0;34m(\u001b[0m\u001b[0mlabel_to_nb\u001b[0m\u001b[0;34m)\u001b[0m \u001b[0;34m*\u001b[0m \u001b[0;36m2\u001b[0m\u001b[0;34m\u001b[0m\u001b[0m\n\u001b[0m",
      "\u001b[0;31mNameError\u001b[0m: name 'lies' is not defined"
     ]
    }
   ],
   "source": [
    "# TODO rene add new values, see trello board\n",
    "lies['label_to_nb'] = lies['label'].apply(label_to_nb) * 2"
   ]
  },
  {
   "cell_type": "code",
   "execution_count": 12,
   "metadata": {
    "ExecuteTime": {
     "end_time": "2018-11-26T23:10:54.850114Z",
     "start_time": "2018-11-26T23:10:54.837258Z"
    }
   },
   "outputs": [
    {
     "ename": "NameError",
     "evalue": "name 'lies' is not defined",
     "output_type": "error",
     "traceback": [
      "\u001b[0;31m---------------------------------------------------------------------------\u001b[0m",
      "\u001b[0;31mNameError\u001b[0m                                 Traceback (most recent call last)",
      "\u001b[0;32m<ipython-input-12-6edf111eed88>\u001b[0m in \u001b[0;36m<module>\u001b[0;34m()\u001b[0m\n\u001b[0;32m----> 1\u001b[0;31m \u001b[0mlies\u001b[0m\u001b[0;34m[\u001b[0m\u001b[0;34m'label'\u001b[0m\u001b[0;34m]\u001b[0m\u001b[0;34m.\u001b[0m\u001b[0mvalue_counts\u001b[0m\u001b[0;34m(\u001b[0m\u001b[0;34m)\u001b[0m\u001b[0;34m\u001b[0m\u001b[0m\n\u001b[0m",
      "\u001b[0;31mNameError\u001b[0m: name 'lies' is not defined"
     ]
    }
   ],
   "source": [
    "lies['label'].value_counts()"
   ]
  },
  {
   "cell_type": "code",
   "execution_count": 13,
   "metadata": {
    "ExecuteTime": {
     "end_time": "2018-12-13T17:55:34.774105Z",
     "start_time": "2018-12-13T17:55:34.768276Z"
    }
   },
   "outputs": [],
   "source": [
    "def _count_for_last_name_(df, last_name):\n",
    "    return group_and_count(lies.loc[lies['speaker_last_name'].str.contains(last_name, flags=re.IGNORECASE), :], 'label', with_pct=True)\\\n",
    "            .rename(columns={'count': f'count_{last_name}', 'count_pct': f'count_pct{last_name}'})"
   ]
  },
  {
   "cell_type": "code",
   "execution_count": 14,
   "metadata": {
    "ExecuteTime": {
     "end_time": "2018-12-13T17:55:34.935077Z",
     "start_time": "2018-12-13T17:55:34.862847Z"
    }
   },
   "outputs": [
    {
     "ename": "NameError",
     "evalue": "name 'lies' is not defined",
     "output_type": "error",
     "traceback": [
      "\u001b[0;31m---------------------------------------------------------------------------\u001b[0m",
      "\u001b[0;31mNameError\u001b[0m                                 Traceback (most recent call last)",
      "\u001b[0;32m<ipython-input-14-956a7b1a4f8f>\u001b[0m in \u001b[0;36m<module>\u001b[0;34m()\u001b[0m\n\u001b[0;32m----> 1\u001b[0;31m \u001b[0mpd\u001b[0m\u001b[0;34m.\u001b[0m\u001b[0mmerge\u001b[0m\u001b[0;34m(\u001b[0m\u001b[0m_count_for_last_name_\u001b[0m\u001b[0;34m(\u001b[0m\u001b[0mlies\u001b[0m\u001b[0;34m,\u001b[0m \u001b[0;34m'obama'\u001b[0m\u001b[0;34m)\u001b[0m\u001b[0;34m,\u001b[0m \u001b[0m_count_for_last_name_\u001b[0m\u001b[0;34m(\u001b[0m\u001b[0mlies\u001b[0m\u001b[0;34m,\u001b[0m \u001b[0;34m'trump'\u001b[0m\u001b[0;34m)\u001b[0m\u001b[0;34m,\u001b[0m \u001b[0mon\u001b[0m\u001b[0;34m=\u001b[0m\u001b[0;34m'label'\u001b[0m\u001b[0;34m)\u001b[0m\u001b[0;34m\u001b[0m\u001b[0m\n\u001b[0m",
      "\u001b[0;31mNameError\u001b[0m: name 'lies' is not defined"
     ]
    }
   ],
   "source": [
    "pd.merge(_count_for_last_name_(lies, 'obama'), _count_for_last_name_(lies, 'trump'), on='label')"
   ]
  },
  {
   "cell_type": "markdown",
   "metadata": {},
   "source": [
    "Here we can see that Barack Obama had 549 statements labeled with _pants on fire_."
   ]
  },
  {
   "cell_type": "code",
   "execution_count": 15,
   "metadata": {
    "ExecuteTime": {
     "end_time": "2018-11-23T14:05:12.996192Z",
     "start_time": "2018-11-23T14:05:12.980178Z"
    }
   },
   "outputs": [
    {
     "ename": "NameError",
     "evalue": "name 'lies' is not defined",
     "output_type": "error",
     "traceback": [
      "\u001b[0;31m---------------------------------------------------------------------------\u001b[0m",
      "\u001b[0;31mNameError\u001b[0m                                 Traceback (most recent call last)",
      "\u001b[0;32m<ipython-input-15-ef27234ca332>\u001b[0m in \u001b[0;36m<module>\u001b[0;34m()\u001b[0m\n\u001b[0;32m----> 1\u001b[0;31m \u001b[0mlies\u001b[0m\u001b[0;34m[\u001b[0m\u001b[0mlies\u001b[0m\u001b[0;34m[\u001b[0m\u001b[0;34m'speakers_job_title'\u001b[0m\u001b[0;34m]\u001b[0m\u001b[0;34m.\u001b[0m\u001b[0mstr\u001b[0m\u001b[0;34m.\u001b[0m\u001b[0mcontains\u001b[0m\u001b[0;34m(\u001b[0m\u001b[0;34m'County'\u001b[0m\u001b[0;34m)\u001b[0m \u001b[0;34m==\u001b[0m \u001b[0;32mTrue\u001b[0m\u001b[0;34m]\u001b[0m\u001b[0;34m.\u001b[0m\u001b[0mshape\u001b[0m\u001b[0;34m\u001b[0m\u001b[0m\n\u001b[0m",
      "\u001b[0;31mNameError\u001b[0m: name 'lies' is not defined"
     ]
    }
   ],
   "source": [
    "lies[lies['speakers_job_title'].str.contains('County') == True].shape"
   ]
  },
  {
   "cell_type": "code",
   "execution_count": 16,
   "metadata": {
    "ExecuteTime": {
     "end_time": "2018-11-23T14:05:13.100791Z",
     "start_time": "2018-11-23T14:05:13.095370Z"
    },
    "scrolled": true
   },
   "outputs": [
    {
     "ename": "NameError",
     "evalue": "name 'lies' is not defined",
     "output_type": "error",
     "traceback": [
      "\u001b[0;31m---------------------------------------------------------------------------\u001b[0m",
      "\u001b[0;31mNameError\u001b[0m                                 Traceback (most recent call last)",
      "\u001b[0;32m<ipython-input-16-4a6f1d0b56cc>\u001b[0m in \u001b[0;36m<module>\u001b[0;34m()\u001b[0m\n\u001b[0;32m----> 1\u001b[0;31m \u001b[0mlies\u001b[0m\u001b[0;34m[\u001b[0m\u001b[0;34m'statement_date'\u001b[0m\u001b[0;34m]\u001b[0m\u001b[0;34m.\u001b[0m\u001b[0mdescribe\u001b[0m\u001b[0;34m(\u001b[0m\u001b[0;34m)\u001b[0m\u001b[0;34m\u001b[0m\u001b[0m\n\u001b[0m",
      "\u001b[0;31mNameError\u001b[0m: name 'lies' is not defined"
     ]
    }
   ],
   "source": [
    "lies['statement_date'].describe()"
   ]
  },
  {
   "cell_type": "markdown",
   "metadata": {},
   "source": [
    "Above, we can see that statements range from 1995 to 2016."
   ]
  },
  {
   "cell_type": "markdown",
   "metadata": {},
   "source": [
    "Now, let's do some profiling to get some more insights:"
   ]
  },
  {
   "cell_type": "code",
   "execution_count": 17,
   "metadata": {
    "ExecuteTime": {
     "end_time": "2018-11-23T14:05:14.172902Z",
     "start_time": "2018-11-23T14:05:13.219463Z"
    },
    "scrolled": true
   },
   "outputs": [
    {
     "ename": "NameError",
     "evalue": "name 'lies' is not defined",
     "output_type": "error",
     "traceback": [
      "\u001b[0;31m---------------------------------------------------------------------------\u001b[0m",
      "\u001b[0;31mNameError\u001b[0m                                 Traceback (most recent call last)",
      "\u001b[0;32m<ipython-input-17-a8a68b4275b0>\u001b[0m in \u001b[0;36m<module>\u001b[0;34m()\u001b[0m\n\u001b[0;32m----> 1\u001b[0;31m \u001b[0mpandas_profiling\u001b[0m\u001b[0;34m.\u001b[0m\u001b[0mProfileReport\u001b[0m\u001b[0;34m(\u001b[0m\u001b[0mlies\u001b[0m\u001b[0;34m)\u001b[0m\u001b[0;34m\u001b[0m\u001b[0m\n\u001b[0m",
      "\u001b[0;31mNameError\u001b[0m: name 'lies' is not defined"
     ]
    }
   ],
   "source": [
    "pandas_profiling.ProfileReport(lies)"
   ]
  },
  {
   "cell_type": "markdown",
   "metadata": {},
   "source": [
    "# Federal Election Results"
   ]
  },
  {
   "cell_type": "markdown",
   "metadata": {},
   "source": [
    "We have another dataset that we will explore and merge to our LIAR dataset in order to get some more insight into data. This one is regarding election results."
   ]
  },
  {
   "cell_type": "code",
   "execution_count": 18,
   "metadata": {
    "ExecuteTime": {
     "end_time": "2018-11-23T14:05:14.177069Z",
     "start_time": "2018-11-23T14:05:14.174640Z"
    }
   },
   "outputs": [],
   "source": [
    "pd.options.display.max_colwidth = 300\n",
    "pd.options.display.max_columns = 300"
   ]
  },
  {
   "cell_type": "code",
   "execution_count": 19,
   "metadata": {
    "ExecuteTime": {
     "end_time": "2018-11-23T14:05:14.190483Z",
     "start_time": "2018-11-23T14:05:14.178287Z"
    }
   },
   "outputs": [],
   "source": [
    "from itertools import product\n",
    "from functools import reduce"
   ]
  },
  {
   "cell_type": "code",
   "execution_count": 20,
   "metadata": {
    "ExecuteTime": {
     "end_time": "2018-12-13T17:55:48.638641Z",
     "start_time": "2018-12-13T17:55:48.631235Z"
    }
   },
   "outputs": [],
   "source": [
    "def add_ending(f):\n",
    "    \"\"\" File ending depending on a year\n",
    "    \n",
    "    Parameters\n",
    "    ----------\n",
    "    f: str\n",
    "        Name of the file\n",
    "    \n",
    "    ToDos:\n",
    "    - do 2012 it's a special snowflake\n",
    "    \"\"\"\n",
    "    if '2016' in f:\n",
    "        return f\"{f}x\"\n",
    "    else:\n",
    "        return f\n",
    "\n",
    "\n",
    "election_files = [(add_ending(f'{directory_election_results}/federalelections{year}.xls'), year) for year in [2014, 2016]]"
   ]
  },
  {
   "cell_type": "markdown",
   "metadata": {},
   "source": [
    "Now, let's prepare some data for viewing:"
   ]
  },
  {
   "cell_type": "code",
   "execution_count": 21,
   "metadata": {
    "ExecuteTime": {
     "end_time": "2018-12-13T17:55:51.265010Z",
     "start_time": "2018-12-13T17:55:51.258328Z"
    }
   },
   "outputs": [],
   "source": [
    "election_results_cols_of_interest = ['CANDIDATE NAME', 'PRIMARY VOTES', 'PRIMARY %']\n",
    "\n",
    "def fix_columns_election_results(df, year, type_):\n",
    "    \"\"\"we are only interested in the primary votes, since these reflect the opinion the most\"\"\"\n",
    "    df = df.loc[:, election_results_cols_of_interest]\n",
    "    df[f'primary_votes_{type_.lower()}_{year}'] = df['PRIMARY VOTES']\n",
    "    df[f'primary_votes_{type_.lower()}_{year}_pct'] = df['PRIMARY %']\n",
    "    return df.drop(columns=['PRIMARY VOTES', 'PRIMARY %'])\n",
    "\n",
    "\n",
    "def get_only_voting_results(df):\n",
    "    return df.loc[df['CANDIDATE NAME'].notna() & df['PRIMARY VOTES'].notna() & df['CANDIDATE NAME'].ne('Scattered') & df['CANDIDATE NAME'].ne('All Others'), :]\n",
    "\n",
    "\n",
    "def prep_election_results(df, year, type_):\n",
    "    return fix_columns_election_results(get_only_voting_results(df), year, type_)"
   ]
  },
  {
   "cell_type": "code",
   "execution_count": 22,
   "metadata": {
    "ExecuteTime": {
     "end_time": "2018-12-13T17:55:57.353263Z",
     "start_time": "2018-12-13T17:55:53.276293Z"
    }
   },
   "outputs": [],
   "source": [
    "election_results = [prep_election_results(pd.read_excel(f, sheet_name=f'{year} US {type_} Results by State'), year, type_) for (f, year), type_ in product(election_files, ['Senate', 'House'])]\n",
    "\n",
    "# we let the results as they are, merge, and then check if the person is a senator or a member of the house based on the other results\n",
    "# yes they did a spelling mistake\n",
    "election_results += [prep_election_results(pd.read_excel(f'{directory_election_results}/federalelections2012.xls', sheet_name=f'2012 US House & Senate Resuts'), 2012, 'all')]\n",
    "election_results = reduce(lambda acc, el: pd.merge(acc, el, on='CANDIDATE NAME', how='outer'), election_results)"
   ]
  },
  {
   "cell_type": "code",
   "execution_count": 23,
   "metadata": {
    "ExecuteTime": {
     "end_time": "2018-12-13T17:55:57.374766Z",
     "start_time": "2018-12-13T17:55:57.355287Z"
    }
   },
   "outputs": [
    {
     "data": {
      "text/html": [
       "<div>\n",
       "<style scoped>\n",
       "    .dataframe tbody tr th:only-of-type {\n",
       "        vertical-align: middle;\n",
       "    }\n",
       "\n",
       "    .dataframe tbody tr th {\n",
       "        vertical-align: top;\n",
       "    }\n",
       "\n",
       "    .dataframe thead th {\n",
       "        text-align: right;\n",
       "    }\n",
       "</style>\n",
       "<table border=\"1\" class=\"dataframe\">\n",
       "  <thead>\n",
       "    <tr style=\"text-align: right;\">\n",
       "      <th></th>\n",
       "      <th>CANDIDATE NAME</th>\n",
       "      <th>primary_votes_senate_2014</th>\n",
       "      <th>primary_votes_senate_2014_pct</th>\n",
       "      <th>primary_votes_house_2014</th>\n",
       "      <th>primary_votes_house_2014_pct</th>\n",
       "      <th>primary_votes_senate_2016</th>\n",
       "      <th>primary_votes_senate_2016_pct</th>\n",
       "      <th>primary_votes_house_2016</th>\n",
       "      <th>primary_votes_house_2016_pct</th>\n",
       "      <th>primary_votes_all_2012</th>\n",
       "      <th>primary_votes_all_2012_pct</th>\n",
       "    </tr>\n",
       "  </thead>\n",
       "  <tbody>\n",
       "    <tr>\n",
       "      <th>0</th>\n",
       "      <td>Sessions, Jeff</td>\n",
       "      <td>Unopposed</td>\n",
       "      <td>NaN</td>\n",
       "      <td>NaN</td>\n",
       "      <td>NaN</td>\n",
       "      <td>NaN</td>\n",
       "      <td>NaN</td>\n",
       "      <td>NaN</td>\n",
       "      <td>NaN</td>\n",
       "      <td>NaN</td>\n",
       "      <td>NaN</td>\n",
       "    </tr>\n",
       "    <tr>\n",
       "      <th>1</th>\n",
       "      <td>Sullivan, Dan</td>\n",
       "      <td>44740</td>\n",
       "      <td>0.400548</td>\n",
       "      <td>NaN</td>\n",
       "      <td>NaN</td>\n",
       "      <td>NaN</td>\n",
       "      <td>NaN</td>\n",
       "      <td>NaN</td>\n",
       "      <td>NaN</td>\n",
       "      <td>NaN</td>\n",
       "      <td>NaN</td>\n",
       "    </tr>\n",
       "    <tr>\n",
       "      <th>2</th>\n",
       "      <td>Miller, Joe</td>\n",
       "      <td>35904</td>\n",
       "      <td>0.321441</td>\n",
       "      <td>NaN</td>\n",
       "      <td>NaN</td>\n",
       "      <td>NaN</td>\n",
       "      <td>NaN</td>\n",
       "      <td>NaN</td>\n",
       "      <td>NaN</td>\n",
       "      <td>NaN</td>\n",
       "      <td>NaN</td>\n",
       "    </tr>\n",
       "    <tr>\n",
       "      <th>3</th>\n",
       "      <td>Treadwell, Mead</td>\n",
       "      <td>27807</td>\n",
       "      <td>0.248950</td>\n",
       "      <td>NaN</td>\n",
       "      <td>NaN</td>\n",
       "      <td>NaN</td>\n",
       "      <td>NaN</td>\n",
       "      <td>NaN</td>\n",
       "      <td>NaN</td>\n",
       "      <td>NaN</td>\n",
       "      <td>NaN</td>\n",
       "    </tr>\n",
       "    <tr>\n",
       "      <th>4</th>\n",
       "      <td>Jaramillo, John M.</td>\n",
       "      <td>3246</td>\n",
       "      <td>0.029061</td>\n",
       "      <td>NaN</td>\n",
       "      <td>NaN</td>\n",
       "      <td>NaN</td>\n",
       "      <td>NaN</td>\n",
       "      <td>NaN</td>\n",
       "      <td>NaN</td>\n",
       "      <td>NaN</td>\n",
       "      <td>NaN</td>\n",
       "    </tr>\n",
       "  </tbody>\n",
       "</table>\n",
       "</div>"
      ],
      "text/plain": [
       "       CANDIDATE NAME primary_votes_senate_2014  \\\n",
       "0      Sessions, Jeff                 Unopposed   \n",
       "1       Sullivan, Dan                     44740   \n",
       "2         Miller, Joe                     35904   \n",
       "3     Treadwell, Mead                     27807   \n",
       "4  Jaramillo, John M.                      3246   \n",
       "\n",
       "   primary_votes_senate_2014_pct primary_votes_house_2014  \\\n",
       "0                            NaN                      NaN   \n",
       "1                       0.400548                      NaN   \n",
       "2                       0.321441                      NaN   \n",
       "3                       0.248950                      NaN   \n",
       "4                       0.029061                      NaN   \n",
       "\n",
       "   primary_votes_house_2014_pct primary_votes_senate_2016  \\\n",
       "0                           NaN                       NaN   \n",
       "1                           NaN                       NaN   \n",
       "2                           NaN                       NaN   \n",
       "3                           NaN                       NaN   \n",
       "4                           NaN                       NaN   \n",
       "\n",
       "   primary_votes_senate_2016_pct primary_votes_house_2016  \\\n",
       "0                            NaN                      NaN   \n",
       "1                            NaN                      NaN   \n",
       "2                            NaN                      NaN   \n",
       "3                            NaN                      NaN   \n",
       "4                            NaN                      NaN   \n",
       "\n",
       "   primary_votes_house_2016_pct primary_votes_all_2012  \\\n",
       "0                           NaN                    NaN   \n",
       "1                           NaN                    NaN   \n",
       "2                           NaN                    NaN   \n",
       "3                           NaN                    NaN   \n",
       "4                           NaN                    NaN   \n",
       "\n",
       "  primary_votes_all_2012_pct  \n",
       "0                        NaN  \n",
       "1                        NaN  \n",
       "2                        NaN  \n",
       "3                        NaN  \n",
       "4                        NaN  "
      ]
     },
     "execution_count": 23,
     "metadata": {},
     "output_type": "execute_result"
    }
   ],
   "source": [
    "election_results.head()"
   ]
  },
  {
   "cell_type": "code",
   "execution_count": 24,
   "metadata": {
    "ExecuteTime": {
     "end_time": "2018-12-13T17:56:35.701754Z",
     "start_time": "2018-12-13T17:56:35.688944Z"
    }
   },
   "outputs": [
    {
     "name": "stdout",
     "output_type": "stream",
     "text": [
      "we have multple election results for 1110 politicians (0.19618239660657477%)\n"
     ]
    }
   ],
   "source": [
    "idx_multiple_election_results = election_results.loc[:, [c for c in election_results.columns if any((c.endswith(str(y)) for y in [2012, 2014, 2016]))]].notna().sum(axis=1) > 1\n",
    "\n",
    "print(f\"we have multple election results for {idx_multiple_election_results.sum()} politicians ({idx_multiple_election_results.mean()}%)\")"
   ]
  },
  {
   "cell_type": "code",
   "execution_count": 25,
   "metadata": {
    "ExecuteTime": {
     "end_time": "2018-12-13T17:56:48.386112Z",
     "start_time": "2018-12-13T17:56:48.361763Z"
    }
   },
   "outputs": [
    {
     "data": {
      "text/html": [
       "<div>\n",
       "<style scoped>\n",
       "    .dataframe tbody tr th:only-of-type {\n",
       "        vertical-align: middle;\n",
       "    }\n",
       "\n",
       "    .dataframe tbody tr th {\n",
       "        vertical-align: top;\n",
       "    }\n",
       "\n",
       "    .dataframe thead th {\n",
       "        text-align: right;\n",
       "    }\n",
       "</style>\n",
       "<table border=\"1\" class=\"dataframe\">\n",
       "  <thead>\n",
       "    <tr style=\"text-align: right;\">\n",
       "      <th></th>\n",
       "      <th>CANDIDATE NAME</th>\n",
       "      <th>primary_votes_senate_2014</th>\n",
       "      <th>primary_votes_senate_2014_pct</th>\n",
       "      <th>primary_votes_house_2014</th>\n",
       "      <th>primary_votes_house_2014_pct</th>\n",
       "      <th>primary_votes_senate_2016</th>\n",
       "      <th>primary_votes_senate_2016_pct</th>\n",
       "      <th>primary_votes_house_2016</th>\n",
       "      <th>primary_votes_house_2016_pct</th>\n",
       "      <th>primary_votes_all_2012</th>\n",
       "      <th>primary_votes_all_2012_pct</th>\n",
       "    </tr>\n",
       "  </thead>\n",
       "  <tbody>\n",
       "    <tr>\n",
       "      <th>16</th>\n",
       "      <td>Gardner, Cory</td>\n",
       "      <td>338324</td>\n",
       "      <td>1.000000</td>\n",
       "      <td>NaN</td>\n",
       "      <td>NaN</td>\n",
       "      <td>NaN</td>\n",
       "      <td>NaN</td>\n",
       "      <td>NaN</td>\n",
       "      <td>NaN</td>\n",
       "      <td>49340</td>\n",
       "      <td>1</td>\n",
       "    </tr>\n",
       "    <tr>\n",
       "      <th>19</th>\n",
       "      <td>Wade, Kevin</td>\n",
       "      <td>18181</td>\n",
       "      <td>0.756627</td>\n",
       "      <td>NaN</td>\n",
       "      <td>NaN</td>\n",
       "      <td>NaN</td>\n",
       "      <td>NaN</td>\n",
       "      <td>NaN</td>\n",
       "      <td>NaN</td>\n",
       "      <td>Unopposed</td>\n",
       "      <td>NaN</td>\n",
       "    </tr>\n",
       "    <tr>\n",
       "      <th>32</th>\n",
       "      <td>Schatz, Brian</td>\n",
       "      <td>115445</td>\n",
       "      <td>0.493460</td>\n",
       "      <td>NaN</td>\n",
       "      <td>NaN</td>\n",
       "      <td>162905</td>\n",
       "      <td>0.861662</td>\n",
       "      <td>NaN</td>\n",
       "      <td>NaN</td>\n",
       "      <td>NaN</td>\n",
       "      <td>NaN</td>\n",
       "    </tr>\n",
       "    <tr>\n",
       "      <th>33</th>\n",
       "      <td>Hanabusa, Colleen Wakako</td>\n",
       "      <td>113663</td>\n",
       "      <td>0.485843</td>\n",
       "      <td>NaN</td>\n",
       "      <td>NaN</td>\n",
       "      <td>NaN</td>\n",
       "      <td>NaN</td>\n",
       "      <td>74022</td>\n",
       "      <td>0.803757</td>\n",
       "      <td>NaN</td>\n",
       "      <td>NaN</td>\n",
       "    </tr>\n",
       "    <tr>\n",
       "      <th>36</th>\n",
       "      <td>Roco, John P.</td>\n",
       "      <td>4425</td>\n",
       "      <td>0.123572</td>\n",
       "      <td>NaN</td>\n",
       "      <td>NaN</td>\n",
       "      <td>3956</td>\n",
       "      <td>0.110303</td>\n",
       "      <td>NaN</td>\n",
       "      <td>NaN</td>\n",
       "      <td>545</td>\n",
       "      <td>0.0112848</td>\n",
       "    </tr>\n",
       "  </tbody>\n",
       "</table>\n",
       "</div>"
      ],
      "text/plain": [
       "              CANDIDATE NAME primary_votes_senate_2014  \\\n",
       "16             Gardner, Cory                    338324   \n",
       "19               Wade, Kevin                     18181   \n",
       "32             Schatz, Brian                    115445   \n",
       "33  Hanabusa, Colleen Wakako                    113663   \n",
       "36             Roco, John P.                      4425   \n",
       "\n",
       "    primary_votes_senate_2014_pct primary_votes_house_2014  \\\n",
       "16                       1.000000                      NaN   \n",
       "19                       0.756627                      NaN   \n",
       "32                       0.493460                      NaN   \n",
       "33                       0.485843                      NaN   \n",
       "36                       0.123572                      NaN   \n",
       "\n",
       "    primary_votes_house_2014_pct primary_votes_senate_2016  \\\n",
       "16                           NaN                       NaN   \n",
       "19                           NaN                       NaN   \n",
       "32                           NaN                    162905   \n",
       "33                           NaN                       NaN   \n",
       "36                           NaN                      3956   \n",
       "\n",
       "    primary_votes_senate_2016_pct primary_votes_house_2016  \\\n",
       "16                            NaN                      NaN   \n",
       "19                            NaN                      NaN   \n",
       "32                       0.861662                      NaN   \n",
       "33                            NaN                    74022   \n",
       "36                       0.110303                      NaN   \n",
       "\n",
       "    primary_votes_house_2016_pct primary_votes_all_2012  \\\n",
       "16                           NaN                  49340   \n",
       "19                           NaN              Unopposed   \n",
       "32                           NaN                    NaN   \n",
       "33                      0.803757                    NaN   \n",
       "36                           NaN                    545   \n",
       "\n",
       "   primary_votes_all_2012_pct  \n",
       "16                          1  \n",
       "19                        NaN  \n",
       "32                        NaN  \n",
       "33                        NaN  \n",
       "36                  0.0112848  "
      ]
     },
     "execution_count": 25,
     "metadata": {},
     "output_type": "execute_result"
    }
   ],
   "source": [
    "election_results[idx_multiple_election_results].head()"
   ]
  },
  {
   "cell_type": "code",
   "execution_count": 26,
   "metadata": {
    "ExecuteTime": {
     "end_time": "2018-11-26T23:30:48.179640Z",
     "start_time": "2018-11-26T23:30:48.159311Z"
    },
    "scrolled": false
   },
   "outputs": [
    {
     "data": {
      "text/plain": [
       "Tonko, Paul D.               36\n",
       "Reed, Thomas W., II          36\n",
       "Collins, Chris               24\n",
       "Lowey, Nita M.               12\n",
       "Maloney, Sean Patrick        12\n",
       "Engel, Eliot L.              12\n",
       "Katko, John M.               12\n",
       "Nadler, Jerrold L.           12\n",
       "Slaughter, Louise M.         12\n",
       "Higgins, Brian               12\n",
       "Crowley, Joseph              12\n",
       "King, Peter T.                9\n",
       "Israel, Steve J.              9\n",
       "Gibson, Christopher P.        9\n",
       "Assini, Mark W.               8\n",
       "Maloney, Carolyn B.           8\n",
       "Stefanik, Elise M.            8\n",
       "Kuster, Ann McLane            8\n",
       "Clarke, Yvette D.             8\n",
       "Jeffries, Hakeem S.           8\n",
       "Zeldin, Lee M.                6\n",
       "Grimm, Michael G.             6\n",
       "Long, Wendy                   6\n",
       "Hayworth, Nan                 6\n",
       "Bishop, Timothy H.            6\n",
       "Hanna, Richard L.             4\n",
       "Rice, Kathleen M.             4\n",
       "Fortenberry, Jeff             4\n",
       "Scattered                     4\n",
       "Shea-Porter, Carol            4\n",
       "                             ..\n",
       "Brady, Kevin                  1\n",
       "Gluck, George                 1\n",
       "Marquez, Chris                1\n",
       "Leppert, Tom                  1\n",
       "Jaramillo, John M.            1\n",
       "Adams, Steve                  1\n",
       "Macko, David                  1\n",
       "Crawley, Timothy I.           1\n",
       "McDermott, George E.          1\n",
       "Rea, John                     1\n",
       "Poliak, Carlo \"Nakusa\"        1\n",
       "Posey, Bill                   1\n",
       "Wall, Jamie                   1\n",
       "Donka, Mark                   1\n",
       "Williamson, W. John           1\n",
       "Williams, David Earl, III     1\n",
       "Hancock, Dave                 1\n",
       "Davis, D'Nese                 1\n",
       "Coble, Paul Y.                1\n",
       "Cannon, Jerry                 1\n",
       "Bagwell, Tom                  1\n",
       "Monson, Sheldon               1\n",
       "Pinkerton, John               1\n",
       "Wheeler, Jamie                1\n",
       "Norris, Phil                  1\n",
       "Shannon, T. W.                1\n",
       "Thompson, Glenn               1\n",
       "Gore, Albert N., Jr.          1\n",
       "Morris, Brad                  1\n",
       "Magee, Erin Kent              1\n",
       "Name: CANDIDATE NAME, Length: 5106, dtype: int64"
      ]
     },
     "execution_count": 26,
     "metadata": {},
     "output_type": "execute_result"
    }
   ],
   "source": [
    "# yeah ... let's see how many we can join. the one letter endings might be a problem\n",
    "election_results['CANDIDATE NAME'].value_counts()"
   ]
  },
  {
   "cell_type": "code",
   "execution_count": 27,
   "metadata": {
    "ExecuteTime": {
     "end_time": "2018-11-23T14:05:16.839135Z",
     "start_time": "2018-11-23T14:05:16.830067Z"
    }
   },
   "outputs": [
    {
     "ename": "NameError",
     "evalue": "name 'lies' is not defined",
     "output_type": "error",
     "traceback": [
      "\u001b[0;31m---------------------------------------------------------------------------\u001b[0m",
      "\u001b[0;31mNameError\u001b[0m                                 Traceback (most recent call last)",
      "\u001b[0;32m<ipython-input-27-88c26cf180bd>\u001b[0m in \u001b[0;36m<module>\u001b[0;34m()\u001b[0m\n\u001b[1;32m      1\u001b[0m \u001b[0;31m# we are only interest in people and they have a first name\u001b[0m\u001b[0;34m\u001b[0m\u001b[0;34m\u001b[0m\u001b[0m\n\u001b[0;32m----> 2\u001b[0;31m \u001b[0mlies\u001b[0m \u001b[0;34m=\u001b[0m \u001b[0mlies\u001b[0m\u001b[0;34m.\u001b[0m\u001b[0mloc\u001b[0m\u001b[0;34m[\u001b[0m\u001b[0mlies\u001b[0m\u001b[0;34m[\u001b[0m\u001b[0;34m'speaker_first_name'\u001b[0m\u001b[0;34m]\u001b[0m\u001b[0;34m.\u001b[0m\u001b[0mnotnull\u001b[0m\u001b[0;34m(\u001b[0m\u001b[0;34m)\u001b[0m\u001b[0;34m,\u001b[0m \u001b[0;34m:\u001b[0m\u001b[0;34m]\u001b[0m\u001b[0;34m\u001b[0m\u001b[0m\n\u001b[0m",
      "\u001b[0;31mNameError\u001b[0m: name 'lies' is not defined"
     ]
    }
   ],
   "source": [
    "# we are only interest in people and they have a first name\n",
    "lies = lies.loc[lies['speaker_first_name'].notnull(), :]"
   ]
  },
  {
   "cell_type": "code",
   "execution_count": 28,
   "metadata": {
    "ExecuteTime": {
     "end_time": "2018-11-23T14:05:16.883211Z",
     "start_time": "2018-11-23T14:05:16.840386Z"
    }
   },
   "outputs": [
    {
     "ename": "NameError",
     "evalue": "name 'lies' is not defined",
     "output_type": "error",
     "traceback": [
      "\u001b[0;31m---------------------------------------------------------------------------\u001b[0m",
      "\u001b[0;31mNameError\u001b[0m                                 Traceback (most recent call last)",
      "\u001b[0;32m<ipython-input-28-fe58a1d4426a>\u001b[0m in \u001b[0;36m<module>\u001b[0;34m()\u001b[0m\n\u001b[1;32m      1\u001b[0m \u001b[0;31m# to aggregate the statements\u001b[0m\u001b[0;34m\u001b[0m\u001b[0;34m\u001b[0m\u001b[0m\n\u001b[0;32m----> 2\u001b[0;31m \u001b[0mlies\u001b[0m\u001b[0;34m[\u001b[0m\u001b[0;34m'statement_year'\u001b[0m\u001b[0;34m]\u001b[0m \u001b[0;34m=\u001b[0m \u001b[0mlies\u001b[0m\u001b[0;34m[\u001b[0m\u001b[0;34m'statement_date'\u001b[0m\u001b[0;34m]\u001b[0m\u001b[0;34m.\u001b[0m\u001b[0mdt\u001b[0m\u001b[0;34m.\u001b[0m\u001b[0myear\u001b[0m\u001b[0;34m\u001b[0m\u001b[0m\n\u001b[0m\u001b[1;32m      3\u001b[0m \u001b[0;34m\u001b[0m\u001b[0m\n\u001b[1;32m      4\u001b[0m \u001b[0;31m# for the merging\u001b[0m\u001b[0;34m\u001b[0m\u001b[0;34m\u001b[0m\u001b[0m\n\u001b[1;32m      5\u001b[0m \u001b[0mlies\u001b[0m\u001b[0;34m[\u001b[0m\u001b[0;34m'speaker_full_name'\u001b[0m\u001b[0;34m]\u001b[0m \u001b[0;34m=\u001b[0m \u001b[0mlies\u001b[0m\u001b[0;34m[\u001b[0m\u001b[0;34m'speaker_last_name'\u001b[0m\u001b[0;34m]\u001b[0m \u001b[0;34m+\u001b[0m \u001b[0;34m', '\u001b[0m \u001b[0;34m+\u001b[0m \u001b[0mlies\u001b[0m\u001b[0;34m[\u001b[0m\u001b[0;34m'speaker_first_name'\u001b[0m\u001b[0;34m]\u001b[0m\u001b[0;34m\u001b[0m\u001b[0m\n",
      "\u001b[0;31mNameError\u001b[0m: name 'lies' is not defined"
     ]
    }
   ],
   "source": [
    "# to aggregate the statements\n",
    "lies['statement_year'] = lies['statement_date'].dt.year\n",
    "\n",
    "# for the merging\n",
    "lies['speaker_full_name'] = lies['speaker_last_name'] + ', ' + lies['speaker_first_name']"
   ]
  },
  {
   "cell_type": "markdown",
   "metadata": {
    "heading_collapsed": true
   },
   "source": [
    "### Cleaning job titles"
   ]
  },
  {
   "cell_type": "code",
   "execution_count": null,
   "metadata": {
    "ExecuteTime": {
     "end_time": "2018-11-23T14:05:16.897019Z",
     "start_time": "2018-11-23T14:05:16.884462Z"
    },
    "hidden": true
   },
   "outputs": [],
   "source": [
    "# todo expand this and check this! this is just a quick and dirty fix\n",
    "# is it really houseman? probably not...\n",
    "_job_titles_of_interest = [('senat', 'senator'), ('governor', None), ('congress', 'congressman'), ('mayor', None), ('president', None), ('house', 'houseman'), ('rep', 'houseman')]\n",
    "job_titles_of_interest = [out if out is not None else j for j, out in _job_titles_of_interest]\n",
    "\n",
    "def cleaned_job_title(jt):\n",
    "    jt = str(jt).lower()\n",
    "    \n",
    "    for j, out in _job_titles_of_interest:\n",
    "        if j in jt:\n",
    "            return out if out is not None else j\n",
    "    else:\n",
    "        return jt\n",
    "\n",
    "lies['speakers_job_title_cleaned'] = lies['speakers_job_title'].apply(cleaned_job_title)"
   ]
  },
  {
   "cell_type": "code",
   "execution_count": null,
   "metadata": {
    "ExecuteTime": {
     "end_time": "2018-11-23T14:05:16.932546Z",
     "start_time": "2018-11-23T14:05:16.898550Z"
    },
    "hidden": true
   },
   "outputs": [],
   "source": [
    "_t = lies.merge(election_results, left_on='speaker_full_name', right_on='CANDIDATE NAME', how='outer')"
   ]
  },
  {
   "cell_type": "code",
   "execution_count": null,
   "metadata": {
    "ExecuteTime": {
     "end_time": "2018-11-23T14:05:16.939503Z",
     "start_time": "2018-11-23T14:05:16.934213Z"
    },
    "hidden": true
   },
   "outputs": [],
   "source": [
    "print(f\"found election results for {_t['CANDIDATE NAME'].notnull().sum()} ({_t['CANDIDATE NAME'].notnull().mean()}%) people\")"
   ]
  },
  {
   "cell_type": "code",
   "execution_count": null,
   "metadata": {
    "ExecuteTime": {
     "end_time": "2018-11-23T14:05:17.028465Z",
     "start_time": "2018-11-23T14:05:16.940630Z"
    },
    "hidden": true,
    "scrolled": true
   },
   "outputs": [],
   "source": [
    "votes_cols = [c for c in _t.columns if 'votes' in c]\n",
    "useful_idx = reduce(lambda acc, el: acc | el, [_t[c].notnull() for c in votes_cols]) & _t['speaker'].notnull() \n",
    "\n",
    "print(f\"found useful results for {useful_idx.sum()} people\")\n",
    "\n",
    "columns_of_interest = ['label', 'label_as_nb', 'subject', 'speaker', 'speakers_job_title_cleaned', 'state_info', 'party_affiliation', 'context', 'statement_date'] + votes_cols\n",
    "_t.loc[useful_idx, columns_of_interest]"
   ]
  },
  {
   "cell_type": "code",
   "execution_count": null,
   "metadata": {
    "ExecuteTime": {
     "end_time": "2018-11-23T14:05:23.130725Z",
     "start_time": "2018-11-23T14:05:23.124323Z"
    },
    "hidden": true,
    "scrolled": false
   },
   "outputs": [],
   "source": [
    "_t.loc[useful_idx, 'speakers_job_title_cleaned'].value_counts()"
   ]
  },
  {
   "cell_type": "code",
   "execution_count": null,
   "metadata": {
    "ExecuteTime": {
     "end_time": "2018-11-23T14:05:25.316594Z",
     "start_time": "2018-11-23T14:05:25.264393Z"
    },
    "hidden": true,
    "scrolled": true
   },
   "outputs": [],
   "source": [
    "_t.loc[_t['speakers_job_title_cleaned'].isin(job_titles_of_interest) & useful_idx, columns_of_interest]"
   ]
  },
  {
   "cell_type": "markdown",
   "metadata": {
    "hidden": true
   },
   "source": [
    "Now, our dataframe looks like this:"
   ]
  },
  {
   "cell_type": "code",
   "execution_count": null,
   "metadata": {
    "hidden": true,
    "scrolled": true
   },
   "outputs": [],
   "source": [
    "_t.head(1)"
   ]
  },
  {
   "cell_type": "markdown",
   "metadata": {},
   "source": [
    "# County Data"
   ]
  },
  {
   "cell_type": "code",
   "execution_count": null,
   "metadata": {},
   "outputs": [],
   "source": [
    "# load data file\n",
    "county_raw = pd.read_csv(f\"{directory_county_data}/acs2015_county_data.csv\")\n",
    "US_states = county_raw['State'].unique()\n",
    "county_raw.head()"
   ]
  },
  {
   "cell_type": "markdown",
   "metadata": {
    "ExecuteTime": {
     "end_time": "2018-11-23T13:15:16.215139Z",
     "start_time": "2018-11-23T13:15:16.189010Z"
    }
   },
   "source": [
    "# DATA SET COMPLETE"
   ]
  },
  {
   "cell_type": "markdown",
   "metadata": {},
   "source": [
    "At this point, we collected all the columns we need. Let's see how we can clean them:"
   ]
  },
  {
   "cell_type": "code",
   "execution_count": 29,
   "metadata": {
    "ExecuteTime": {
     "end_time": "2018-11-23T14:14:08.462121Z",
     "start_time": "2018-11-23T14:14:08.444554Z"
    }
   },
   "outputs": [
    {
     "ename": "NameError",
     "evalue": "name '_t' is not defined",
     "output_type": "error",
     "traceback": [
      "\u001b[0;31m---------------------------------------------------------------------------\u001b[0m",
      "\u001b[0;31mNameError\u001b[0m                                 Traceback (most recent call last)",
      "\u001b[0;32m<ipython-input-29-d116ff5f1c3c>\u001b[0m in \u001b[0;36m<module>\u001b[0;34m()\u001b[0m\n\u001b[0;32m----> 1\u001b[0;31m \u001b[0mmedian_speaker_value\u001b[0m \u001b[0;34m=\u001b[0m \u001b[0m_t\u001b[0m\u001b[0;34m.\u001b[0m\u001b[0mgroupby\u001b[0m\u001b[0;34m(\u001b[0m\u001b[0;34m[\u001b[0m\u001b[0;34m'statement_year'\u001b[0m\u001b[0;34m,\u001b[0m \u001b[0;34m'speaker'\u001b[0m\u001b[0;34m]\u001b[0m\u001b[0;34m)\u001b[0m\u001b[0;34m[\u001b[0m\u001b[0;34m'label_as_nb'\u001b[0m\u001b[0;34m]\u001b[0m\u001b[0;34m.\u001b[0m\u001b[0mmedian\u001b[0m\u001b[0;34m(\u001b[0m\u001b[0;34m)\u001b[0m\u001b[0;34m.\u001b[0m\u001b[0mreset_index\u001b[0m\u001b[0;34m(\u001b[0m\u001b[0;34m)\u001b[0m\u001b[0;34m\u001b[0m\u001b[0m\n\u001b[0m",
      "\u001b[0;31mNameError\u001b[0m: name '_t' is not defined"
     ]
    }
   ],
   "source": [
    "median_speaker_value = _t.groupby(['statement_year', 'speaker'])['label_as_nb'].median().reset_index()"
   ]
  },
  {
   "cell_type": "code",
   "execution_count": 30,
   "metadata": {
    "ExecuteTime": {
     "end_time": "2018-11-23T14:14:12.630778Z",
     "start_time": "2018-11-23T14:14:12.617803Z"
    },
    "scrolled": true
   },
   "outputs": [
    {
     "ename": "NameError",
     "evalue": "name 'median_speaker_value' is not defined",
     "output_type": "error",
     "traceback": [
      "\u001b[0;31m---------------------------------------------------------------------------\u001b[0m",
      "\u001b[0;31mNameError\u001b[0m                                 Traceback (most recent call last)",
      "\u001b[0;32m<ipython-input-30-d94961eda4b8>\u001b[0m in \u001b[0;36m<module>\u001b[0;34m()\u001b[0m\n\u001b[0;32m----> 1\u001b[0;31m \u001b[0mmedian_speaker_value\u001b[0m\u001b[0;34m[\u001b[0m\u001b[0mmedian_speaker_value\u001b[0m\u001b[0;34m[\u001b[0m\u001b[0;34m'statement_year'\u001b[0m\u001b[0;34m]\u001b[0m \u001b[0;34m==\u001b[0m \u001b[0;36m2016\u001b[0m\u001b[0;34m]\u001b[0m\u001b[0;34m\u001b[0m\u001b[0m\n\u001b[0m",
      "\u001b[0;31mNameError\u001b[0m: name 'median_speaker_value' is not defined"
     ]
    }
   ],
   "source": [
    "median_speaker_value[median_speaker_value['statement_year'] == 2016]"
   ]
  },
  {
   "cell_type": "markdown",
   "metadata": {
    "heading_collapsed": true
   },
   "source": [
    "### Non-People Speakers Handling"
   ]
  },
  {
   "cell_type": "markdown",
   "metadata": {
    "hidden": true
   },
   "source": [
    "Removing non-people (_tweets, facebook posts, etc._) from the dataset:"
   ]
  },
  {
   "cell_type": "code",
   "execution_count": null,
   "metadata": {
    "hidden": true,
    "scrolled": false
   },
   "outputs": [],
   "source": [
    "from nltk import download\n",
    "download('punkt')\n",
    "from nltk.tag import StanfordNERTagger\n",
    "from nltk.tokenize import word_tokenize\n",
    "from nltk import sent_tokenize\n",
    "from collections import Counter\n",
    "\n",
    "model = 'nlp/stanford-ner-2018-10-16/classifiers/english.all.3class.distsim.crf.ser.gz'\n",
    "jar = 'nlp/stanford-ner-2018-10-16/stanford-ner-3.9.2.jar'\n",
    "st = StanfordNERTagger(model, jar, encoding='utf-8')\n",
    "\n",
    "def get_tag(speaker):\n",
    "    ner_tag = 0\n",
    "    if type(speaker) == str:\n",
    "        full_speaker_name = speaker.replace(\"-\", \" \").title()\n",
    "\n",
    "        for sent in sent_tokenize(full_speaker_name):\n",
    "            tokens = word_tokenize(sent)\n",
    "            tags = st.tag(tokens)\n",
    "            \n",
    "        ner_tag= Counter(dict(tags).values()).most_common(1)[0][0]\n",
    "        print(tags, \" --> \", ner_tag)\n",
    "    return ner_tag\n",
    "    \n",
    "\n",
    "# just to see if/how it works\n",
    "word = \"Twitter-Post-Anna\"\n",
    "get_ner_tag(word)\n",
    "\n",
    "full_speaker_name = \"Barack-Obama\"\n",
    "get_ner_tag(full_speaker_name)\n",
    "\n",
    "full_speaker_name = 0\n",
    "get_ner_tag(full_speaker_name)\n"
   ]
  },
  {
   "cell_type": "code",
   "execution_count": null,
   "metadata": {
    "hidden": true,
    "scrolled": true
   },
   "outputs": [],
   "source": [
    "import os.path\n",
    "\n",
    "file_path = 'nlp/speaker_tags.json'\n",
    "\n",
    "if not os.path.exists(file_path):\n",
    "    print(f\"Total number of values to classify: {len(_t['speaker'].value_counts().index)}\")\n",
    "\n",
    "    words_with_tags = {}\n",
    "    for word in _t['speaker'].value_counts().index:\n",
    "        words_with_tags[word] = get_tag(word)\n",
    "    \n",
    "    # save tags, since it took ~3h to tag all 3214 unique speakers\n",
    "    with open(file_path, 'w') as fp:\n",
    "        json.dump(words_with_tags, fp, indent=4)\n",
    "else:\n",
    "    with open(file_path, 'r') as f:\n",
    "        words_with_tags = json.load(f)\n",
    "    print(f\"Total number of classified values (from file): {len(words_with_tags)}\")"
   ]
  },
  {
   "cell_type": "code",
   "execution_count": null,
   "metadata": {
    "hidden": true,
    "scrolled": true
   },
   "outputs": [],
   "source": [
    "_t[\"speaker_tag\"] = _t.apply(lambda row: words_with_tags[row['speaker']] if not pd.isnull(row['speaker']) else row['speaker'], axis=1)\n",
    "_t[['speaker','speaker_tag']].drop_duplicates()"
   ]
  },
  {
   "cell_type": "markdown",
   "metadata": {
    "hidden": true
   },
   "source": [
    "Seems good, so now let's remove non-people from the dataset:"
   ]
  },
  {
   "cell_type": "code",
   "execution_count": null,
   "metadata": {
    "hidden": true
   },
   "outputs": [],
   "source": [
    "_t.shape"
   ]
  },
  {
   "cell_type": "code",
   "execution_count": null,
   "metadata": {
    "hidden": true
   },
   "outputs": [],
   "source": [
    "_t[_t['speaker_tag'] == \"PERSON\"].shape"
   ]
  },
  {
   "cell_type": "markdown",
   "metadata": {
    "hidden": true
   },
   "source": [
    "We see that we will remove ~5000 statements which are made by (speaker) _Twitter, Facebook, Blog post, Republican Party Texas, etc._"
   ]
  },
  {
   "cell_type": "code",
   "execution_count": null,
   "metadata": {
    "hidden": true
   },
   "outputs": [],
   "source": [
    "# removing non-people statements\n",
    "_t = _t[_t['speaker_tag'] == \"PERSON\"]"
   ]
  },
  {
   "cell_type": "markdown",
   "metadata": {
    "heading_collapsed": true
   },
   "source": [
    "### Clean-up Context"
   ]
  },
  {
   "cell_type": "code",
   "execution_count": null,
   "metadata": {
    "hidden": true,
    "scrolled": true
   },
   "outputs": [],
   "source": [
    "_t[\"context\"].value_counts().index.values"
   ]
  },
  {
   "cell_type": "markdown",
   "metadata": {
    "hidden": true
   },
   "source": [
    "It would be good to try using the tool that would extract keywords from these phases. Let's use NLTK Rake:"
   ]
  },
  {
   "cell_type": "code",
   "execution_count": null,
   "metadata": {
    "hidden": true,
    "scrolled": true
   },
   "outputs": [],
   "source": [
    "from rake_nltk import Rake, Metric\n",
    "from collections import Counter\n",
    "\n",
    "debug = False\n",
    "\n",
    "def do_keyword_extraction(words):\n",
    "    if debug: print(\"---\\n\", words)\n",
    "        \n",
    "    rake_all = Rake()\n",
    "    rake_all.extract_keywords_from_sentences(_t[\"context\"].value_counts().index.values)\n",
    "\n",
    "    word_degrees = dict(rake_all.get_word_degrees())\n",
    "    \n",
    "    r = Rake()\n",
    "    r.extract_keywords_from_text(words)\n",
    "\n",
    "    keywords = dict(r.get_word_degrees())\n",
    "    \n",
    "    if debug: print(keywords)\n",
    "        \n",
    "    for k, v in keywords.items():\n",
    "        keywords[k] = word_degrees[k]\n",
    "    \n",
    "    if debug: print(keywords)\n",
    "\n",
    "    return Counter(keywords).most_common(1)[0]"
   ]
  },
  {
   "cell_type": "code",
   "execution_count": null,
   "metadata": {
    "hidden": true,
    "scrolled": true
   },
   "outputs": [],
   "source": [
    "# try to see how it works\n",
    "text_to_process = \"a television interview\"\n",
    "do_keyword_extraction(\"an interview\")\n",
    "do_keyword_extraction(\"a television interview\")\n",
    "do_keyword_extraction(\"a TV interview\")"
   ]
  },
  {
   "cell_type": "code",
   "execution_count": null,
   "metadata": {
    "hidden": true,
    "scrolled": false
   },
   "outputs": [],
   "source": [
    "_t[\"context_tag\"] = _t.apply(lambda row: do_keyword_extraction(row['context']) if not pd.isnull(row['context']) else row['context'], axis=1)"
   ]
  },
  {
   "cell_type": "code",
   "execution_count": null,
   "metadata": {
    "hidden": true
   },
   "outputs": [],
   "source": [
    "context_tags = _t[['context','context_tag']]['context_tag'].value_counts()\n",
    "print(f\"Number of different context tags is {len(context_tags)}\")\n",
    "context_tags"
   ]
  },
  {
   "cell_type": "markdown",
   "metadata": {
    "hidden": true
   },
   "source": [
    "We see that the number of context tags is 271, which is a preatty big number. Let's consider decreasing this number and make smaller groups."
   ]
  },
  {
   "cell_type": "code",
   "execution_count": null,
   "metadata": {
    "hidden": true
   },
   "outputs": [],
   "source": [
    "# TODO: make smaller context groups, ideally around 10"
   ]
  },
  {
   "cell_type": "code",
   "execution_count": null,
   "metadata": {
    "hidden": true
   },
   "outputs": [],
   "source": [
    "# TODO: implement tagging on the cleaned jobs as well"
   ]
  },
  {
   "cell_type": "code",
   "execution_count": null,
   "metadata": {
    "hidden": true
   },
   "outputs": [],
   "source": [
    "# TODO: plot the answers from research questions we have"
   ]
  },
  {
   "cell_type": "markdown",
   "metadata": {
    "heading_collapsed": true
   },
   "source": [
    "## Some initial insights"
   ]
  },
  {
   "cell_type": "code",
   "execution_count": null,
   "metadata": {
    "hidden": true,
    "scrolled": true
   },
   "outputs": [],
   "source": [
    "_t['sum_not_so_true'] = _t['pants_on_fire_counts']/(_t['barely_true_counts'] + _t['false_counts'] + _t['half_true_counts'] + _t['mostly_true_counts'] + _t['pants_on_fire_counts'])\n",
    "number_of_party_affiliation = _t.groupby('party_affiliation')['sum_not_so_true'].sum().sort_values(ascending=False)\n",
    "number_of_party_affiliation"
   ]
  },
  {
   "cell_type": "markdown",
   "metadata": {
    "hidden": true
   },
   "source": [
    "Here are the `party_affiliations` who most lie ordered by their proportion of lies. But we already know that the 2 dominant parties in USA are republican and democrat. We see that there are lots of unknown party affiliations from which we can make identify 2 possibilities"
   ]
  },
  {
   "cell_type": "code",
   "execution_count": null,
   "metadata": {
    "hidden": true,
    "scrolled": true
   },
   "outputs": [],
   "source": [
    "number_of_party_affiliation = _t.groupby(['speaker'])['sum_not_so_true'].sum().sort_values(ascending=False)\n",
    "number_of_party_affiliation.head(10)"
   ]
  },
  {
   "cell_type": "markdown",
   "metadata": {
    "hidden": true
   },
   "source": [
    "Looking at the dataset content, people above are sorted quantity of lies."
   ]
  },
  {
   "cell_type": "code",
   "execution_count": null,
   "metadata": {
    "hidden": true,
    "scrolled": false
   },
   "outputs": [],
   "source": [
    "all_contexts = _t['context_tag'].unique()\n",
    "nb_elements_context = _t.groupby(['context_tag'])['context_tag'].count().sort_values(ascending=False)\n",
    "nb_elements_context.head(50)"
   ]
  },
  {
   "cell_type": "markdown",
   "metadata": {
    "hidden": true
   },
   "source": [
    "Looking at the context, it seems that people lie the most during the interviews, then speech, after debates, and so on..."
   ]
  },
  {
   "cell_type": "markdown",
   "metadata": {
    "heading_collapsed": true
   },
   "source": [
    "## [misc] One statement content visualization"
   ]
  },
  {
   "cell_type": "markdown",
   "metadata": {
    "hidden": true
   },
   "source": [
    "Let's analyse first row, statement with id `1`. What is the information we get there?"
   ]
  },
  {
   "cell_type": "code",
   "execution_count": null,
   "metadata": {
    "hidden": true
   },
   "outputs": [],
   "source": [
    "sid = 1.0"
   ]
  },
  {
   "cell_type": "code",
   "execution_count": null,
   "metadata": {
    "hidden": true
   },
   "outputs": [],
   "source": [
    "_t[_t.statement_id == sid]"
   ]
  },
  {
   "cell_type": "code",
   "execution_count": null,
   "metadata": {
    "hidden": true
   },
   "outputs": [],
   "source": [
    "with open(f\"{directory_statements}/{int(sid)}.json\", \"r\") as f:\n",
    "    data = json.load(f)"
   ]
  },
  {
   "cell_type": "markdown",
   "metadata": {
    "hidden": true
   },
   "source": [
    "Just to visualize JSON hierarchy, run the following cell:"
   ]
  },
  {
   "cell_type": "code",
   "execution_count": null,
   "metadata": {
    "hidden": true
   },
   "outputs": [],
   "source": [
    "def go_further(dic, name):\n",
    "    dict_vis = {\"name\": name, \"children\": []}\n",
    "    for k, v in dic.items():\n",
    "        if type(v) == str:\n",
    "            new_el = {\"name\": k}\n",
    "        elif type(v) == list:\n",
    "            if len(v) > 0:\n",
    "                new_el = go_further(v[0], k)\n",
    "        elif type(v) == dict:\n",
    "            new_el = go_further(v, k)\n",
    "        else:\n",
    "            new_el = {\"name\": k}\n",
    "        dict_vis[\"children\"].append(new_el)\n",
    "        \n",
    "    return dict_vis\n",
    "\n",
    "my_dict = go_further(data, name=\"statement_info\")\n",
    "\n",
    "with open(f\"{directory_visualizations}/data.json\", \"w\") as f:\n",
    "    json.dump(my_dict, f)\n",
    "\n",
    "print(f\"Checkout visualization by: \\n1) cd ../visualizations \\n2) python -m http.server \\n3) in browser, open: http://localhost:8000/\")"
   ]
  },
  {
   "cell_type": "markdown",
   "metadata": {},
   "source": [
    "## Biggest liars pants on fire"
   ]
  },
  {
   "cell_type": "markdown",
   "metadata": {},
   "source": [
    "Here are the people who most lie ordered by their proportion of pants on fire."
   ]
  },
  {
   "cell_type": "code",
   "execution_count": null,
   "metadata": {},
   "outputs": [],
   "source": [
    "people_pants_classification = statements[['speaker_first_name', 'speaker_last_name', 'label', 'speaker_home_state']]\n",
    "#people_pants_classification[(people_pants_classification['speaker_first_name'].isnull() | people_pants_classification['speaker_first_name'].str.strip().eq('')) == False][:1].values\n",
    "\n",
    "# We want to keep only people which have both a first-name and a last-name (not totaly perfect)\n",
    "people_pants_classification = people_pants_classification[((people_pants_classification['speaker_first_name'].isnull() |\n",
    "                                                           people_pants_classification['speaker_first_name'].str.strip().eq('')) == False)]\n",
    "people_pants_classification = people_pants_classification[((people_pants_classification['speaker_last_name'].isnull() |\n",
    "                                                           people_pants_classification['speaker_last_name'].str.strip().eq('')) == False)]\n",
    "people_pants_classification = people_pants_classification[((people_pants_classification['label'].isnull() |\n",
    "                                                           people_pants_classification['label'].str.strip().eq('')) == False)]\n",
    "\n",
    "_blop = people_pants_classification[['speaker_first_name', 'speaker_last_name']].groupby(['speaker_first_name', 'speaker_last_name']).size().reset_index()\n",
    "_blopblop = people_pants_classification.groupby(['speaker_first_name', 'speaker_last_name', 'label']).size().reset_index().rename(columns={'0':'nb_labeled_statements'})\n",
    "\n",
    "statement_percentage = pd.merge(_blopblop,_blop,on=['speaker_first_name', 'speaker_last_name'])\n",
    "\n",
    "statement_percentage['statements_perc'] = statement_percentage['0_x']/statement_percentage['0_y']\n",
    "#statement_percentage.sample(5)"
   ]
  },
  {
   "cell_type": "markdown",
   "metadata": {},
   "source": [
    "#### Pants on fire analysis"
   ]
  },
  {
   "cell_type": "code",
   "execution_count": null,
   "metadata": {},
   "outputs": [],
   "source": [
    "statement_percentage_cleaned = statement_percentage.loc[statement_percentage['label']=='pants-fire'].sort_values(by='statements_perc', ascending=False)"
   ]
  },
  {
   "cell_type": "markdown",
   "metadata": {},
   "source": [
    "#### We need people who have at least a certain number of statements to limit bias"
   ]
  },
  {
   "cell_type": "code",
   "execution_count": null,
   "metadata": {},
   "outputs": [],
   "source": [
    "statement_percentage_cleaned_numerous = statement_percentage_cleaned.loc[statement_percentage_cleaned['0_y']>20]\n",
    "print('The 10 badest guys with the highest percentage of pants on fire are:')\n",
    "statement_percentage_cleaned_numerous.head(10)"
   ]
  },
  {
   "cell_type": "code",
   "execution_count": null,
   "metadata": {},
   "outputs": [],
   "source": [
    "statement_percentage_cleaned = statement_percentage_cleaned.loc[statement_percentage_cleaned['0_y']>1]\n",
    "statement_percentage_cleaned.head(10)"
   ]
  },
  {
   "cell_type": "code",
   "execution_count": 99,
   "metadata": {},
   "outputs": [],
   "source": [
    "%matplotlib inline\n",
    "#statement_percentage_cleaned.plot(kind='scatter' y='statements_perc')\n",
    "import seaborn as sns"
   ]
  },
  {
   "cell_type": "code",
   "execution_count": null,
   "metadata": {},
   "outputs": [],
   "source": [
    "sns.distplot(statement_percentage_cleaned['0_y'], bins=50, kde=False, axlabel='number of statements for each person')"
   ]
  },
  {
   "cell_type": "code",
   "execution_count": null,
   "metadata": {},
   "outputs": [],
   "source": [
    "sns.distplot(statement_percentage_cleaned.statements_perc, bins=50, kde=False, axlabel='percentage of \"pants on fire\" for each person')"
   ]
  },
  {
   "cell_type": "code",
   "execution_count": null,
   "metadata": {},
   "outputs": [],
   "source": [
    "statement_percentage_cleaned_top10 = statement_percentage_cleaned.sort_values(['0_y'], ascending=[False]).head(10).sort_values(['statements_perc'], ascending=[False])\n",
    "statement_percentage_cleaned_top10"
   ]
  },
  {
   "cell_type": "code",
   "execution_count": null,
   "metadata": {},
   "outputs": [],
   "source": [
    "# Column renaming does not work\n",
    "#.rename(columns={'0':'nb_statements'})\n",
    "# to rename the column of counts df = df.rename(columns={'oldName1': 'newName1', 'oldName2': 'newName2'})\n",
    "# _blop.rename(columns='0':'nb_statements')"
   ]
  },
  {
   "cell_type": "code",
   "execution_count": null,
   "metadata": {},
   "outputs": [],
   "source": [
    "# Verification, not needed\n",
    "_blop[_blop['speaker_last_name'].eq('Trump')]"
   ]
  },
  {
   "cell_type": "markdown",
   "metadata": {},
   "source": [
    "## Blopy objects"
   ]
  },
  {
   "cell_type": "code",
   "execution_count": 31,
   "metadata": {},
   "outputs": [
    {
     "data": {
      "text/plain": [
       "{'art': [{'brightcove': '',\n",
       "   'caption': 'Texas Sen. Steve Ogden, R-Bryan, and Republican Lt. Gov. David Dewhurst spoke to reporters April 5 about the state budget and the tax system.',\n",
       "   'id': 1257,\n",
       "   'infogram': '',\n",
       "   'ndn': '',\n",
       "   'ndnid': '',\n",
       "   'other': '',\n",
       "   'photo': None,\n",
       "   'resource_type': {'id': 2,\n",
       "    'name': 'YouTube',\n",
       "    'resource_uri': '/api/v/2/mediatype/2/'},\n",
       "   'resource_uri': '/api/v/2/media/1257/',\n",
       "   'title': 'Steve Ogden, business tax',\n",
       "   'wibbitz': '',\n",
       "   'youtube': '<iframe src=\"//www.youtube.com/embed/EaRdqdEUrZQ?rel=0&wmode=opaque\" frameborder=\"0\" allowfullscreen></iframe>',\n",
       "   'youtubeID': 'EaRdqdEUrZQ'}],\n",
       " 'author': [{'email_address': 'mashford-grooms@statesman.com',\n",
       "   'first_name': 'Meghan',\n",
       "   'id': 118,\n",
       "   'last_name': 'Ashford-Grooms',\n",
       "   'name_slug': 'meghan-ashford-grooms',\n",
       "   'on_staff_page': None,\n",
       "   'phone': None,\n",
       "   'photo': None,\n",
       "   'publication': {'id': 3,\n",
       "    'publication_name': 'Austin American-Statesman',\n",
       "    'resource_uri': '/api/v/2/publication/3/'},\n",
       "   'resource_uri': '/api/v/2/staffer/118/',\n",
       "   'title': 'PolitiFact Texas staff writer',\n",
       "   'twitter': None}],\n",
       " 'canonical_url': '/texas/statements/2011/may/15/steve-ogden/state-sen-steve-ogden-says-businesses-pay-most-tax/',\n",
       " 'edition': {'adkey': 'Editions',\n",
       "  'advalue': 'Texas',\n",
       "  'edition': 'Texas',\n",
       "  'edition_slug': 'texas',\n",
       "  'has_afterthefact': False,\n",
       "  'id': 2,\n",
       "  'index_page': False,\n",
       "  'meter_name': 'The Texas Truth-O-Meter',\n",
       "  'resource_uri': '/api/v/2/edition/2/'},\n",
       " 'editor': [{'email_address': 'wgstexas@gmail.com',\n",
       "   'first_name': 'W. Gardner',\n",
       "   'id': 122,\n",
       "   'last_name': 'Selby',\n",
       "   'name_slug': 'w-gardner-selby',\n",
       "   'on_staff_page': 84,\n",
       "   'phone': '',\n",
       "   'photo': None,\n",
       "   'publication': {'id': 3,\n",
       "    'publication_name': 'Austin American-Statesman',\n",
       "    'resource_uri': '/api/v/2/publication/3/'},\n",
       "   'resource_uri': '/api/v/2/staffer/122/',\n",
       "   'title': 'Former PolitiFact Texas editor',\n",
       "   'twitter': ''}],\n",
       " 'facebook_headline': None,\n",
       " 'id': 3721,\n",
       " 'in_future': False,\n",
       " 'is_pundit': False,\n",
       " 'make_public': True,\n",
       " 'preview': True,\n",
       " 'researcher': [{'email_address': 'mashford-grooms@statesman.com',\n",
       "   'first_name': 'Meghan',\n",
       "   'id': 118,\n",
       "   'last_name': 'Ashford-Grooms',\n",
       "   'name_slug': 'meghan-ashford-grooms',\n",
       "   'on_staff_page': None,\n",
       "   'phone': None,\n",
       "   'photo': None,\n",
       "   'publication': {'id': 3,\n",
       "    'publication_name': 'Austin American-Statesman',\n",
       "    'resource_uri': '/api/v/2/publication/3/'},\n",
       "   'resource_uri': '/api/v/2/staffer/118/',\n",
       "   'title': 'PolitiFact Texas staff writer',\n",
       "   'twitter': None}],\n",
       " 'resource_uri': '/api/v/2/statement/3721/',\n",
       " 'ruling': {'adkey': 'Truth-O-Meter',\n",
       "  'advalue': 'Mostly True',\n",
       "  'id': 2,\n",
       "  'resource_uri': '/api/v/2/statementruling/2/',\n",
       "  'ruling': 'Mostly True',\n",
       "  'ruling_graphic': 'https://s3.amazonaws.com/static.politifact.com/rulings/tom-mostlytrue.png',\n",
       "  'ruling_slug': 'mostly-true'},\n",
       " 'ruling_comments': '<p>\\r\\n\\tAsked by reporters how legislators can address the state&rsquo;s recurring revenue shortfall, Senate Finance Committee Chairman Steve Ogden reiterated his belief that a good start would be reworking the business franchise tax.</p>\\r\\n<p>\\r\\n\\tReaders may recall that the franchise tax was revamped in 2006 to help pay for a statewide reduction in local school property taxes, but it has not brought in as much money as was projected.</p>\\r\\n<p>\\r\\n\\tHowever, &quot;the issue is not to single out businesses as some sort of villain,&quot; Ogden, R-Bryan, said April 5. &quot;They already pay most of the taxes. The issue is having a tax system that, in my opinion, is uniform and equitable and as low as possible.&quot;</p>\\r\\n<p>\\r\\n\\tReaders who spotted Ogden&rsquo;s comment in an <em>Austin American-Statesman</em> news <a href=\"http://www.statesman.com/news/texas-politics/business-tax-needs-another-look-key-senator-says-1378426.html\">story</a> asked us to check whether businesses do &quot;pay most of the taxes.&quot;</p>\\r\\n<p>\\r\\n\\tResponding to our inquiry, Ogden pointed to the way the tax system is structured in Texas. Because the state has no personal income tax, Ogden said, most state and local tax revenue comes from taxes that are levied on businesses and individuals alike. And because businesses &quot;are the largest economic entities in the state,&quot; he said, it stands to reason that they pay the most.</p>\\r\\n<p>\\r\\n\\tOgden referred us to a biennial <a href=\"http://www.window.state.tx.us/taxinfo/incidence/\">report</a> from the state comptroller&rsquo;s office on tax burdens in Texas. The latest version, published in February, projects how much businesses and individual consumers will pay in state sales and use taxes, franchise taxes, gasoline taxes, motor vehicle sales taxes, cigarette taxes, oil production taxes and school property taxes in 2013.</p>\\r\\n<p>\\r\\n\\tAccording to the report, two of the taxes &mdash; franchise and oil production&nbsp; &mdash;&nbsp; are initially paid entirely by businesses. A third tax, the cigarette tax, is paid entirely by consumers. The remaining four taxes are shared between consumers and businesses.</p>\\r\\n<p>\\r\\n\\tThe largest expected revenue producers are school property taxes ($11.3 billion projected to be paid by businesses in 2013, $10.7 billion by consumers) and state sales taxes ($9.8 billion projected to be paid by businesses, $12.1 billion by consumers).</p>\\r\\n<p>\\r\\n\\tTo get a total tax dollar amount for each category &mdash; consumers and businesses &mdash; we added up the estimated burden imposed by each of the taxes analyzed in the report. The results were close: $28.2 billion for businesses and $27.5 billion for consumers.</p>\\r\\n<p>\\r\\n\\tTwo previous comptroller&rsquo;s tax-incidence reports calculated slightly greater tax burdens for businesses, compared with individuals, but differed from the current report because they included a natural gas tax but not cigarette and oil production taxes.</p>\\r\\n<p>\\r\\n\\tThe <a href=\"http://www.window.state.tx.us/taxinfo/incidence/incidence09/\">2009 report</a>, projecting ahead to 2011, estimated $30.1 billion for businesses and $28.4 billion for consumers. The <a href=\"http://www.window.state.tx.us/taxinfo/incidence/incidence07/\">2007 report</a>, projecting for 2009, estimated $25.9 billion for businesses vs. $25.2 billion for consumers.</p>\\r\\n<p>\\r\\n\\tNext, we touched base with the Texas Taxpayers and Research Association, a business group, about Ogden&rsquo;s statement. Dale Craymer, its president, said by email that the comptroller&rsquo;s report does not consider &quot;the entire spectrum of taxes in the state.&quot;</p>\\r\\n<p>\\r\\n\\tR.J. DeSilva, a spokesman for the comptroller&rsquo;s office, told us that the six state taxes in the agency&rsquo;s 2011 report &mdash; excluding school property taxes, which are collected locally &mdash; represented 86 percent of state tax revenue in fiscal 2010. Also excluded are property taxes paid to local governments such as cities and counties.</p>\\r\\n<p>\\r\\n\\tCraymer suggested that we consider what he called the most comprehensive look at business taxes, a study done for the Council on State Taxation, a Washington-based trade association representing corporate businesses. Bill Hammond, president of the Texas Association of Business, also pointed us to the report.</p>\\r\\n<p>\\r\\n\\tThe study, by the economics and statistics unit of consulting firm Ernst &amp; Young, estimates the taxes paid by businesses to state and local governments in each state in fiscal year 2008. Among them: property taxes, state and local sales taxes paid by businesses on purchases of production materials and equipment, corporate income and franchise taxes, unemployment insurance taxes, and business and corporate license taxes.</p>\\r\\n<p>\\r\\n\\tThe study estimates that in Texas, businesses paid 61.2 percent of state and local taxes. That compares with a national share of 44.1 percent.</p>\\r\\n<p>\\r\\n\\tWe asked how the study was done. Andrew Phillips, an author, told us that researchers drew data from several sources, including the U.S. Census Bureau, IRS and Bureau of Economic Analysis.</p>\\r\\n<p>\\r\\n\\tFor another perspective on the Ernst &amp; Young report, we turned to Matt Gardner, executive director of the Institute on Taxation and Economic Policy, a research arm of Washington-based Citizens for Tax Justice, which says it advocates for fair taxation of middle- and low-income families.</p>\\r\\n<p>\\r\\n\\tGardner suggested that the Ernst &amp; Young report may have overestimated the share of total property taxes paid by businesses. He said his own estimate, based on available 2008 data from the Census Bureau, indicates that Texas homeowners paid about 45 percent of property taxes that year. If one assumes that businesses paid the rest, Gardner said, their share is 55 percent, not the 62 percent share of property taxes reported by Ernst &amp; Young.</p>\\r\\n<p>\\r\\n\\tStill, Gardner didn&rsquo;t quibble much with Ogden&rsquo;s statement. &quot;It&rsquo;s probably OK to assert that a majority of Texas taxes fall initially on non-individuals,&quot; he said.</p>\\r\\n<p>\\r\\n\\tBoth Gardner and Hammond, the TAB president, echoed Ogden&rsquo;s point that businesses in Texas shoulder a higher-than-average initial tax burden because the state is one of a minority that have no income tax on individuals.</p>\\r\\n<p>\\r\\n\\tBut inherent in the distinction between taxes on individuals and on businesses is the idea that the latter can shift their burdens to customers, employees, tenants and others. The comptroller&rsquo;s report says: &quot;It should be recognized that any tax levied directly on a business&quot; will ultimately be passed on &mdash; either to consumers through higher prices, to employees through lower wages or to business owners and shareholders through reduced profits. Businesses can also push some of their tax burden out of the state.</p>\\r\\n<p>\\r\\n\\tHow much tax shifting occurs depends on the market in which a business operates and other complicated factors. &quot;The only thing that can be said with certainty is that no one really knows how taxes (particularly those levied on property and business) are shifted,&quot; according to the comptroller&rsquo;s report.</p>\\r\\n<p>\\r\\n\\tTom Neubig, an author of the Ernst &amp; Young report, told us, &quot;All economists would say that it isn&rsquo;t business that bears the burden of the taxes; it&rsquo;s people.&quot; He pointed to a January 2010 national study in which he and other researchers, using 2005 tax data, estimated where state and local business taxes ultimately fall. The study concluded that in Texas, business owners wound up holding the bag for 4 percent of those taxes. The rest were shifted into higher consumer prices (2 percent), lower wages (45 percent) and to people living outside Texas (49 percent).</p>\\r\\n<p>\\r\\n\\tFor Gardner, this &quot;final incidence&quot; is more important than whether businesses or individuals initially pay the taxes.</p>\\r\\n<p>\\r\\n\\tUpshot: The analyses we found basically support Ogden&rsquo;s claim that businesses pay &quot;most&quot; of the taxes in Texas, though the margin varies from a slim 51 percent (according to the state comptroller) to 61 percent (Ernst &amp; Young). However, analysts also agree that businesses &mdash; unlike individuals &mdash; can offload their tax burden through various means.</p>\\r\\n<p>\\r\\n\\tWe rate Ogden&rsquo;s statement Mostly True.</p>',\n",
       " 'ruling_comments_date': '2011-05-09T12:45:54.160403',\n",
       " 'ruling_date': '2011-05-15T06:00:00',\n",
       " 'ruling_headline': 'State Sen. Steve Ogden says businesses pay most of the taxes in Texas',\n",
       " 'ruling_headline_slug': 'state-sen-steve-ogden-says-businesses-pay-most-tax',\n",
       " 'ruling_link_text': 'Analyses support statement, but businesses pass on tax burden',\n",
       " 'ruling_state': None,\n",
       " 'source_documents': None,\n",
       " 'sources': '<p>\\r\\n\\tTexas Tribune, &quot;Senate Leaders: Texas Must Address Structural Deficit,&quot; <a href=\"http://www.texastribune.org/texas-legislature/82nd-legislative-session/texas-needs-to-address-structural-deficit/\">video</a>, April 5, 2011</p>\\r\\n<p>\\r\\n\\tAustin American-Statesman, &quot;<a href=\"http://www.statesman.com/news/texas-politics/business-tax-needs-another-look-key-senator-says-1378426.html\">Business tax needs another look, key senator says</a>,&quot; April 5, 2011</p>\\r\\n<p>\\r\\n\\tInterview with Sen. Steve Ogden, April 12, 2011</p>\\r\\n<p>\\r\\n\\tTexas comptroller, &quot;Tax Exemptions and Tax Incidence,&quot; February <a href=\"http://www.window.state.tx.us/taxinfo/incidence/96-463TaxIncidence02-11.pdf\">2011</a></p>\\r\\n<p>\\r\\n\\tTexas comptroller, &quot;Tax Exemptions and Tax Incidence,&quot; February <a href=\"http://www.window.state.tx.us/taxinfo/incidence/incidence09/incidence09.pdf\">2009</a></p>\\r\\n<p>\\r\\n\\tTexas comptroller, &quot;Tax Exemptions and Tax Incidence,&quot; February <a href=\"http://www.window.state.tx.us/taxinfo/incidence/incidence07/incidence07.pdf\">2007</a></p>\\r\\n<p>\\r\\n\\tEmail (<a href=\"http://alt.coxnewsweb.com/statesman/politifact/051311_craymeremail.html\">excerpt</a>) from Dale Craymer, president, Texas Taxpayers and Research Association, April 7, 2011</p>\\r\\n<p>\\r\\n\\tInterview with R.J. DeSilva, spokesman, Texas comptroller&rsquo;s office, April 19, 2011</p>\\r\\n<p>\\r\\n\\tInterview with Bill Hammond, president, Texas Association of Business, May 4, 2011</p>\\r\\n<p>\\r\\n\\tCouncil on State Taxation, &quot;<a href=\"http://www.cost.org/Page.aspx?id=72322\">Total state and local business taxes: 50 state estimates for fiscal year 2008</a>,&quot; prepared by Ernst &amp; Young, January 2009</p>\\r\\n<p>\\r\\n\\tInterview with Andrew Phillips, senior manager, Quantitative Economics and Statistics, Ernst &amp; Young, April 25 and May 4, 2011</p>\\r\\n<p>\\r\\n\\tInterview with Tom Neubig, national director, Quantitative Economics and Statistics, Ernst &amp; Young, April 25, 2011</p>\\r\\n<p>\\r\\n\\tInterview with Matthew Gardner, executive director, Institute on Taxation and Economic Policy, April 28 and May 4, 2011</p>\\r\\n<p>\\r\\n\\tState Tax Notes, &quot;<a href=\"http://alt.coxnewsweb.com/statesman/politifact/051311_econ2010study.pdf\">The Economic Incidence of Additional State Business Taxes</a>,&quot; Jan. 11, 2010</p>',\n",
       " 'speaker': {'adkey': None,\n",
       "  'advalue': None,\n",
       "  'barely_true_count': 0,\n",
       "  'current_job': 'oil and gas producer',\n",
       "  'false_count': 0,\n",
       "  'first_name': 'Steve',\n",
       "  'half_true_count': 1,\n",
       "  'home_state': 'Texas',\n",
       "  'id': 1194,\n",
       "  'last_name': 'Ogden',\n",
       "  'mostly_true_count': 1,\n",
       "  'name_slug': 'steve-ogden',\n",
       "  'pants_count': 0,\n",
       "  'party': {'id': 3,\n",
       "   'party': 'Republican',\n",
       "   'party_slug': 'republican',\n",
       "   'resource_uri': '/api/v/2/party/3/'},\n",
       "  'photo': 'https://s3.amazonaws.com/static.politifact.com/politifact/mugs/ogden2009.JPG',\n",
       "  'primary_edition': {'adkey': 'Editions',\n",
       "   'advalue': 'Texas',\n",
       "   'edition': 'Texas',\n",
       "   'edition_slug': 'texas',\n",
       "   'has_afterthefact': False,\n",
       "   'id': 2,\n",
       "   'index_page': False,\n",
       "   'meter_name': 'The Texas Truth-O-Meter',\n",
       "   'resource_uri': '/api/v/2/edition/2/'},\n",
       "  'promise_meter_cutout': None,\n",
       "  'resource_uri': '/api/v/2/person/1194/',\n",
       "  'total_count': 2,\n",
       "  'true_count': 0,\n",
       "  'website': 'http://www.senate.state.tx.us/75r/senate/members/dist5/dist5.htm'},\n",
       " 'statement': '<p>\\r\\n\\tSays businesses &quot;already pay most of the taxes.&quot;</p>',\n",
       " 'statement_context': 'comments to reporters on Texas Senate floor',\n",
       " 'statement_date': '2011-04-05',\n",
       " 'statement_type': {'id': 2,\n",
       "  'resource_uri': '/api/v/2/statementtype/2/',\n",
       "  'statement_type': 'Claim',\n",
       "  'type_description': 'blog post '},\n",
       " 'subject': [{'description': '',\n",
       "   'id': 120,\n",
       "   'photo': None,\n",
       "   'resource_uri': '/api/v/2/subject/120/',\n",
       "   'subject': 'State Budget',\n",
       "   'subject_slug': 'state-budget',\n",
       "   'used_in_edition': []},\n",
       "  {'description': '',\n",
       "   'id': 208,\n",
       "   'photo': None,\n",
       "   'resource_uri': '/api/v/2/subject/208/',\n",
       "   'subject': 'State Finances',\n",
       "   'subject_slug': 'state-finances',\n",
       "   'used_in_edition': ['/api/v/2/edition/5/']},\n",
       "  {'description': '',\n",
       "   'id': 8,\n",
       "   'photo': None,\n",
       "   'resource_uri': '/api/v/2/subject/8/',\n",
       "   'subject': 'Taxes',\n",
       "   'subject_slug': 'taxes',\n",
       "   'used_in_edition': []}],\n",
       " 'target': [],\n",
       " 'twitter_headline': ''}"
      ]
     },
     "execution_count": 31,
     "metadata": {},
     "output_type": "execute_result"
    }
   ],
   "source": [
    "safe_json_read(list(pathlib.Path(directory_statements).iterdir())[0])"
   ]
  },
  {
   "cell_type": "code",
   "execution_count": 32,
   "metadata": {},
   "outputs": [
    {
     "ename": "NameError",
     "evalue": "name 'res' is not defined",
     "output_type": "error",
     "traceback": [
      "\u001b[0;31m---------------------------------------------------------------------------\u001b[0m",
      "\u001b[0;31mNameError\u001b[0m                                 Traceback (most recent call last)",
      "\u001b[0;32m<ipython-input-32-ad10d3faa5db>\u001b[0m in \u001b[0;36m<module>\u001b[0;34m()\u001b[0m\n\u001b[0;32m----> 1\u001b[0;31m \u001b[0mres\u001b[0m\u001b[0;34m.\u001b[0m\u001b[0mget\u001b[0m\u001b[0;34m(\u001b[0m\u001b[0;34m'subject'\u001b[0m\u001b[0;34m,\u001b[0m \u001b[0;34m{\u001b[0m\u001b[0;34m'description'\u001b[0m\u001b[0;34m:\u001b[0m\u001b[0;34m''\u001b[0m\u001b[0;34m}\u001b[0m\u001b[0;34m)\u001b[0m\u001b[0;34m.\u001b[0m\u001b[0mget\u001b[0m\u001b[0;34m(\u001b[0m\u001b[0;34m'description'\u001b[0m\u001b[0;34m,\u001b[0m\u001b[0;34m''\u001b[0m\u001b[0;34m)\u001b[0m\u001b[0;34m\u001b[0m\u001b[0m\n\u001b[0m",
      "\u001b[0;31mNameError\u001b[0m: name 'res' is not defined"
     ]
    }
   ],
   "source": [
    "res.get('subject', {'description':''}).get('description','')"
   ]
  },
  {
   "cell_type": "code",
   "execution_count": 33,
   "metadata": {
    "scrolled": true
   },
   "outputs": [
    {
     "data": {
      "text/html": [
       "<div>\n",
       "<style scoped>\n",
       "    .dataframe tbody tr th:only-of-type {\n",
       "        vertical-align: middle;\n",
       "    }\n",
       "\n",
       "    .dataframe tbody tr th {\n",
       "        vertical-align: top;\n",
       "    }\n",
       "\n",
       "    .dataframe thead th {\n",
       "        text-align: right;\n",
       "    }\n",
       "</style>\n",
       "<table border=\"1\" class=\"dataframe\">\n",
       "  <thead>\n",
       "    <tr style=\"text-align: right;\">\n",
       "      <th></th>\n",
       "      <th>subject</th>\n",
       "      <th>count</th>\n",
       "      <th>count_pct</th>\n",
       "    </tr>\n",
       "  </thead>\n",
       "  <tbody>\n",
       "    <tr>\n",
       "      <th>0</th>\n",
       "      <td>Economy</td>\n",
       "      <td>1244</td>\n",
       "      <td>0.080409</td>\n",
       "    </tr>\n",
       "    <tr>\n",
       "      <th>1</th>\n",
       "      <td>Health Care</td>\n",
       "      <td>1114</td>\n",
       "      <td>0.072006</td>\n",
       "    </tr>\n",
       "    <tr>\n",
       "      <th>2</th>\n",
       "      <td>Candidate Biography</td>\n",
       "      <td>819</td>\n",
       "      <td>0.052938</td>\n",
       "    </tr>\n",
       "    <tr>\n",
       "      <th>3</th>\n",
       "      <td>Education</td>\n",
       "      <td>813</td>\n",
       "      <td>0.052550</td>\n",
       "    </tr>\n",
       "    <tr>\n",
       "      <th>4</th>\n",
       "      <td>Elections</td>\n",
       "      <td>660</td>\n",
       "      <td>0.042660</td>\n",
       "    </tr>\n",
       "    <tr>\n",
       "      <th>5</th>\n",
       "      <td>Crime</td>\n",
       "      <td>570</td>\n",
       "      <td>0.036843</td>\n",
       "    </tr>\n",
       "    <tr>\n",
       "      <th>6</th>\n",
       "      <td>Federal Budget</td>\n",
       "      <td>529</td>\n",
       "      <td>0.034193</td>\n",
       "    </tr>\n",
       "    <tr>\n",
       "      <th>7</th>\n",
       "      <td>Immigration</td>\n",
       "      <td>477</td>\n",
       "      <td>0.030832</td>\n",
       "    </tr>\n",
       "    <tr>\n",
       "      <th>8</th>\n",
       "      <td>Taxes</td>\n",
       "      <td>473</td>\n",
       "      <td>0.030573</td>\n",
       "    </tr>\n",
       "    <tr>\n",
       "      <th>9</th>\n",
       "      <td>Foreign Policy</td>\n",
       "      <td>446</td>\n",
       "      <td>0.028828</td>\n",
       "    </tr>\n",
       "    <tr>\n",
       "      <th>10</th>\n",
       "      <td>Fake news</td>\n",
       "      <td>432</td>\n",
       "      <td>0.027923</td>\n",
       "    </tr>\n",
       "    <tr>\n",
       "      <th>11</th>\n",
       "      <td>Energy</td>\n",
       "      <td>355</td>\n",
       "      <td>0.022946</td>\n",
       "    </tr>\n",
       "    <tr>\n",
       "      <th>12</th>\n",
       "      <td>Abortion</td>\n",
       "      <td>351</td>\n",
       "      <td>0.022688</td>\n",
       "    </tr>\n",
       "    <tr>\n",
       "      <th>13</th>\n",
       "      <td>Guns</td>\n",
       "      <td>279</td>\n",
       "      <td>0.018034</td>\n",
       "    </tr>\n",
       "    <tr>\n",
       "      <th>14</th>\n",
       "      <td>Campaign Finance</td>\n",
       "      <td>275</td>\n",
       "      <td>0.017775</td>\n",
       "    </tr>\n",
       "    <tr>\n",
       "      <th>15</th>\n",
       "      <td>State Budget</td>\n",
       "      <td>269</td>\n",
       "      <td>0.017387</td>\n",
       "    </tr>\n",
       "    <tr>\n",
       "      <th>16</th>\n",
       "      <td>Children</td>\n",
       "      <td>258</td>\n",
       "      <td>0.016676</td>\n",
       "    </tr>\n",
       "    <tr>\n",
       "      <th>17</th>\n",
       "      <td>Jobs</td>\n",
       "      <td>254</td>\n",
       "      <td>0.016418</td>\n",
       "    </tr>\n",
       "    <tr>\n",
       "      <th>18</th>\n",
       "      <td>Congress</td>\n",
       "      <td>247</td>\n",
       "      <td>0.015965</td>\n",
       "    </tr>\n",
       "    <tr>\n",
       "      <th>19</th>\n",
       "      <td>Corrections and Updates</td>\n",
       "      <td>239</td>\n",
       "      <td>0.015448</td>\n",
       "    </tr>\n",
       "    <tr>\n",
       "      <th>20</th>\n",
       "      <td>Deficit</td>\n",
       "      <td>190</td>\n",
       "      <td>0.012281</td>\n",
       "    </tr>\n",
       "    <tr>\n",
       "      <th>21</th>\n",
       "      <td>Environment</td>\n",
       "      <td>186</td>\n",
       "      <td>0.012022</td>\n",
       "    </tr>\n",
       "    <tr>\n",
       "      <th>22</th>\n",
       "      <td>History</td>\n",
       "      <td>176</td>\n",
       "      <td>0.011376</td>\n",
       "    </tr>\n",
       "    <tr>\n",
       "      <th>23</th>\n",
       "      <td>Corporations</td>\n",
       "      <td>152</td>\n",
       "      <td>0.009825</td>\n",
       "    </tr>\n",
       "    <tr>\n",
       "      <th>24</th>\n",
       "      <td>Job Accomplishments</td>\n",
       "      <td>144</td>\n",
       "      <td>0.009308</td>\n",
       "    </tr>\n",
       "    <tr>\n",
       "      <th>25</th>\n",
       "      <td>Climate Change</td>\n",
       "      <td>144</td>\n",
       "      <td>0.009308</td>\n",
       "    </tr>\n",
       "    <tr>\n",
       "      <th>26</th>\n",
       "      <td>Ethics</td>\n",
       "      <td>137</td>\n",
       "      <td>0.008855</td>\n",
       "    </tr>\n",
       "    <tr>\n",
       "      <th>27</th>\n",
       "      <td>Civil Rights</td>\n",
       "      <td>135</td>\n",
       "      <td>0.008726</td>\n",
       "    </tr>\n",
       "    <tr>\n",
       "      <th>28</th>\n",
       "      <td>Homeland Security</td>\n",
       "      <td>133</td>\n",
       "      <td>0.008597</td>\n",
       "    </tr>\n",
       "    <tr>\n",
       "      <th>29</th>\n",
       "      <td>Debt</td>\n",
       "      <td>123</td>\n",
       "      <td>0.007950</td>\n",
       "    </tr>\n",
       "    <tr>\n",
       "      <th>...</th>\n",
       "      <td>...</td>\n",
       "      <td>...</td>\n",
       "      <td>...</td>\n",
       "    </tr>\n",
       "    <tr>\n",
       "      <th>110</th>\n",
       "      <td>Natural Disasters</td>\n",
       "      <td>10</td>\n",
       "      <td>0.000646</td>\n",
       "    </tr>\n",
       "    <tr>\n",
       "      <th>111</th>\n",
       "      <td>Food</td>\n",
       "      <td>10</td>\n",
       "      <td>0.000646</td>\n",
       "    </tr>\n",
       "    <tr>\n",
       "      <th>112</th>\n",
       "      <td>Sotomayor Nomination</td>\n",
       "      <td>9</td>\n",
       "      <td>0.000582</td>\n",
       "    </tr>\n",
       "    <tr>\n",
       "      <th>113</th>\n",
       "      <td>Gas Prices</td>\n",
       "      <td>9</td>\n",
       "      <td>0.000582</td>\n",
       "    </tr>\n",
       "    <tr>\n",
       "      <th>114</th>\n",
       "      <td>Marriage</td>\n",
       "      <td>9</td>\n",
       "      <td>0.000582</td>\n",
       "    </tr>\n",
       "    <tr>\n",
       "      <th>115</th>\n",
       "      <td>Public Service</td>\n",
       "      <td>9</td>\n",
       "      <td>0.000582</td>\n",
       "    </tr>\n",
       "    <tr>\n",
       "      <th>116</th>\n",
       "      <td>Food Safety</td>\n",
       "      <td>9</td>\n",
       "      <td>0.000582</td>\n",
       "    </tr>\n",
       "    <tr>\n",
       "      <th>117</th>\n",
       "      <td>Weather</td>\n",
       "      <td>8</td>\n",
       "      <td>0.000517</td>\n",
       "    </tr>\n",
       "    <tr>\n",
       "      <th>118</th>\n",
       "      <td>Recreation</td>\n",
       "      <td>8</td>\n",
       "      <td>0.000517</td>\n",
       "    </tr>\n",
       "    <tr>\n",
       "      <th>119</th>\n",
       "      <td>Tourism</td>\n",
       "      <td>8</td>\n",
       "      <td>0.000517</td>\n",
       "    </tr>\n",
       "    <tr>\n",
       "      <th>120</th>\n",
       "      <td>Water</td>\n",
       "      <td>8</td>\n",
       "      <td>0.000517</td>\n",
       "    </tr>\n",
       "    <tr>\n",
       "      <th>121</th>\n",
       "      <td>Unions</td>\n",
       "      <td>8</td>\n",
       "      <td>0.000517</td>\n",
       "    </tr>\n",
       "    <tr>\n",
       "      <th>122</th>\n",
       "      <td>Florida Amendments</td>\n",
       "      <td>7</td>\n",
       "      <td>0.000452</td>\n",
       "    </tr>\n",
       "    <tr>\n",
       "      <th>123</th>\n",
       "      <td>State government spending</td>\n",
       "      <td>7</td>\n",
       "      <td>0.000452</td>\n",
       "    </tr>\n",
       "    <tr>\n",
       "      <th>124</th>\n",
       "      <td>Iran</td>\n",
       "      <td>7</td>\n",
       "      <td>0.000452</td>\n",
       "    </tr>\n",
       "    <tr>\n",
       "      <th>125</th>\n",
       "      <td>Privacy</td>\n",
       "      <td>7</td>\n",
       "      <td>0.000452</td>\n",
       "    </tr>\n",
       "    <tr>\n",
       "      <th>126</th>\n",
       "      <td>Kagan Nomination</td>\n",
       "      <td>6</td>\n",
       "      <td>0.000388</td>\n",
       "    </tr>\n",
       "    <tr>\n",
       "      <th>127</th>\n",
       "      <td>Science</td>\n",
       "      <td>6</td>\n",
       "      <td>0.000388</td>\n",
       "    </tr>\n",
       "    <tr>\n",
       "      <th>128</th>\n",
       "      <td>New Hampshire 2012</td>\n",
       "      <td>6</td>\n",
       "      <td>0.000388</td>\n",
       "    </tr>\n",
       "    <tr>\n",
       "      <th>129</th>\n",
       "      <td>Hunger</td>\n",
       "      <td>6</td>\n",
       "      <td>0.000388</td>\n",
       "    </tr>\n",
       "    <tr>\n",
       "      <th>130</th>\n",
       "      <td>Death Penalty</td>\n",
       "      <td>6</td>\n",
       "      <td>0.000388</td>\n",
       "    </tr>\n",
       "    <tr>\n",
       "      <th>131</th>\n",
       "      <td>Occupy Wall Street</td>\n",
       "      <td>5</td>\n",
       "      <td>0.000323</td>\n",
       "    </tr>\n",
       "    <tr>\n",
       "      <th>132</th>\n",
       "      <td>Wealth</td>\n",
       "      <td>5</td>\n",
       "      <td>0.000323</td>\n",
       "    </tr>\n",
       "    <tr>\n",
       "      <th>133</th>\n",
       "      <td>After the Fact</td>\n",
       "      <td>5</td>\n",
       "      <td>0.000323</td>\n",
       "    </tr>\n",
       "    <tr>\n",
       "      <th>134</th>\n",
       "      <td>Message Machine 2014</td>\n",
       "      <td>5</td>\n",
       "      <td>0.000323</td>\n",
       "    </tr>\n",
       "    <tr>\n",
       "      <th>135</th>\n",
       "      <td>Sexuality</td>\n",
       "      <td>5</td>\n",
       "      <td>0.000323</td>\n",
       "    </tr>\n",
       "    <tr>\n",
       "      <th>136</th>\n",
       "      <td>Homeless</td>\n",
       "      <td>4</td>\n",
       "      <td>0.000259</td>\n",
       "    </tr>\n",
       "    <tr>\n",
       "      <th>137</th>\n",
       "      <td>Automatic Voter Registration</td>\n",
       "      <td>4</td>\n",
       "      <td>0.000259</td>\n",
       "    </tr>\n",
       "    <tr>\n",
       "      <th>138</th>\n",
       "      <td>Autism</td>\n",
       "      <td>4</td>\n",
       "      <td>0.000259</td>\n",
       "    </tr>\n",
       "    <tr>\n",
       "      <th>139</th>\n",
       "      <td>Lottery</td>\n",
       "      <td>4</td>\n",
       "      <td>0.000259</td>\n",
       "    </tr>\n",
       "  </tbody>\n",
       "</table>\n",
       "<p>140 rows × 3 columns</p>\n",
       "</div>"
      ],
      "text/plain": [
       "                           subject  count  count_pct\n",
       "0                          Economy   1244   0.080409\n",
       "1                      Health Care   1114   0.072006\n",
       "2              Candidate Biography    819   0.052938\n",
       "3                        Education    813   0.052550\n",
       "4                        Elections    660   0.042660\n",
       "5                            Crime    570   0.036843\n",
       "6                   Federal Budget    529   0.034193\n",
       "7                      Immigration    477   0.030832\n",
       "8                            Taxes    473   0.030573\n",
       "9                   Foreign Policy    446   0.028828\n",
       "10                       Fake news    432   0.027923\n",
       "11                          Energy    355   0.022946\n",
       "12                        Abortion    351   0.022688\n",
       "13                            Guns    279   0.018034\n",
       "14                Campaign Finance    275   0.017775\n",
       "15                    State Budget    269   0.017387\n",
       "16                        Children    258   0.016676\n",
       "17                            Jobs    254   0.016418\n",
       "18                        Congress    247   0.015965\n",
       "19         Corrections and Updates    239   0.015448\n",
       "20                         Deficit    190   0.012281\n",
       "21                     Environment    186   0.012022\n",
       "22                         History    176   0.011376\n",
       "23                    Corporations    152   0.009825\n",
       "24             Job Accomplishments    144   0.009308\n",
       "25                  Climate Change    144   0.009308\n",
       "26                          Ethics    137   0.008855\n",
       "27                    Civil Rights    135   0.008726\n",
       "28               Homeland Security    133   0.008597\n",
       "29                            Debt    123   0.007950\n",
       "..                             ...    ...        ...\n",
       "110             Natural Disasters      10   0.000646\n",
       "111                           Food     10   0.000646\n",
       "112           Sotomayor Nomination      9   0.000582\n",
       "113                     Gas Prices      9   0.000582\n",
       "114                       Marriage      9   0.000582\n",
       "115                 Public Service      9   0.000582\n",
       "116                    Food Safety      9   0.000582\n",
       "117                        Weather      8   0.000517\n",
       "118                     Recreation      8   0.000517\n",
       "119                        Tourism      8   0.000517\n",
       "120                          Water      8   0.000517\n",
       "121                         Unions      8   0.000517\n",
       "122             Florida Amendments      7   0.000452\n",
       "123     State government spending       7   0.000452\n",
       "124                           Iran      7   0.000452\n",
       "125                        Privacy      7   0.000452\n",
       "126               Kagan Nomination      6   0.000388\n",
       "127                        Science      6   0.000388\n",
       "128             New Hampshire 2012      6   0.000388\n",
       "129                         Hunger      6   0.000388\n",
       "130                  Death Penalty      6   0.000388\n",
       "131             Occupy Wall Street      5   0.000323\n",
       "132                         Wealth      5   0.000323\n",
       "133                 After the Fact      5   0.000323\n",
       "134           Message Machine 2014      5   0.000323\n",
       "135                      Sexuality      5   0.000323\n",
       "136                       Homeless      4   0.000259\n",
       "137  Automatic Voter Registration       4   0.000259\n",
       "138                         Autism      4   0.000259\n",
       "139                        Lottery      4   0.000259\n",
       "\n",
       "[140 rows x 3 columns]"
      ]
     },
     "execution_count": 33,
     "metadata": {},
     "output_type": "execute_result"
    }
   ],
   "source": [
    "subject_toward_simplification = group_and_count(statements, 'subject', with_pct=True)\n",
    "subject_toward_simplification.head(140)"
   ]
  },
  {
   "cell_type": "code",
   "execution_count": 71,
   "metadata": {},
   "outputs": [],
   "source": [
    "statements['clean_subject'] = statements['subject'].apply(SH.clean_up_subject)"
   ]
  },
  {
   "cell_type": "code",
   "execution_count": 36,
   "metadata": {},
   "outputs": [
    {
     "data": {
      "text/html": [
       "<div>\n",
       "<style scoped>\n",
       "    .dataframe tbody tr th:only-of-type {\n",
       "        vertical-align: middle;\n",
       "    }\n",
       "\n",
       "    .dataframe tbody tr th {\n",
       "        vertical-align: top;\n",
       "    }\n",
       "\n",
       "    .dataframe thead th {\n",
       "        text-align: right;\n",
       "    }\n",
       "</style>\n",
       "<table border=\"1\" class=\"dataframe\">\n",
       "  <thead>\n",
       "    <tr style=\"text-align: right;\">\n",
       "      <th></th>\n",
       "      <th>clean_subject</th>\n",
       "      <th>count</th>\n",
       "    </tr>\n",
       "  </thead>\n",
       "  <tbody>\n",
       "    <tr>\n",
       "      <th>0</th>\n",
       "      <td>economy</td>\n",
       "      <td>3474</td>\n",
       "    </tr>\n",
       "    <tr>\n",
       "      <th>1</th>\n",
       "      <td>politics</td>\n",
       "      <td>2366</td>\n",
       "    </tr>\n",
       "    <tr>\n",
       "      <th>2</th>\n",
       "      <td>security</td>\n",
       "      <td>1632</td>\n",
       "    </tr>\n",
       "    <tr>\n",
       "      <th>3</th>\n",
       "      <td>family</td>\n",
       "      <td>1527</td>\n",
       "    </tr>\n",
       "    <tr>\n",
       "      <th>4</th>\n",
       "      <td>other_subject</td>\n",
       "      <td>1493</td>\n",
       "    </tr>\n",
       "    <tr>\n",
       "      <th>5</th>\n",
       "      <td>health</td>\n",
       "      <td>1318</td>\n",
       "    </tr>\n",
       "    <tr>\n",
       "      <th>6</th>\n",
       "      <td>fake</td>\n",
       "      <td>1019</td>\n",
       "    </tr>\n",
       "    <tr>\n",
       "      <th>7</th>\n",
       "      <td>immigration</td>\n",
       "      <td>923</td>\n",
       "    </tr>\n",
       "    <tr>\n",
       "      <th>8</th>\n",
       "      <td>environment</td>\n",
       "      <td>916</td>\n",
       "    </tr>\n",
       "    <tr>\n",
       "      <th>9</th>\n",
       "      <td>rights</td>\n",
       "      <td>803</td>\n",
       "    </tr>\n",
       "  </tbody>\n",
       "</table>\n",
       "</div>"
      ],
      "text/plain": [
       "   clean_subject  count\n",
       "0        economy   3474\n",
       "1       politics   2366\n",
       "2       security   1632\n",
       "3         family   1527\n",
       "4  other_subject   1493\n",
       "5         health   1318\n",
       "6           fake   1019\n",
       "7    immigration    923\n",
       "8    environment    916\n",
       "9         rights    803"
      ]
     },
     "execution_count": 36,
     "metadata": {},
     "output_type": "execute_result"
    }
   ],
   "source": [
    "group_and_count(statements,'clean_subject').head(100)\n"
   ]
  },
  {
   "cell_type": "markdown",
   "metadata": {},
   "source": [
    "#### Plot ratio over the years"
   ]
  },
  {
   "cell_type": "code",
   "execution_count": 119,
   "metadata": {},
   "outputs": [
    {
     "name": "stderr",
     "output_type": "stream",
     "text": [
      "/anaconda3/lib/python3.6/site-packages/ipykernel_launcher.py:2: SettingWithCopyWarning: \n",
      "A value is trying to be set on a copy of a slice from a DataFrame.\n",
      "Try using .loc[row_indexer,col_indexer] = value instead\n",
      "\n",
      "See the caveats in the documentation: http://pandas.pydata.org/pandas-docs/stable/indexing.html#indexing-view-versus-copy\n",
      "  \n"
     ]
    },
    {
     "data": {
      "text/html": [
       "<div>\n",
       "<style scoped>\n",
       "    .dataframe tbody tr th:only-of-type {\n",
       "        vertical-align: middle;\n",
       "    }\n",
       "\n",
       "    .dataframe tbody tr th {\n",
       "        vertical-align: top;\n",
       "    }\n",
       "\n",
       "    .dataframe thead th {\n",
       "        text-align: right;\n",
       "    }\n",
       "</style>\n",
       "<table border=\"1\" class=\"dataframe\">\n",
       "  <thead>\n",
       "    <tr style=\"text-align: right;\">\n",
       "      <th></th>\n",
       "      <th>statement_date</th>\n",
       "      <th>clean_subject</th>\n",
       "      <th>dates_for_plot</th>\n",
       "    </tr>\n",
       "  </thead>\n",
       "  <tbody>\n",
       "    <tr>\n",
       "      <th>0</th>\n",
       "      <td>2011-04-05</td>\n",
       "      <td>economy</td>\n",
       "      <td>201104</td>\n",
       "    </tr>\n",
       "    <tr>\n",
       "      <th>1</th>\n",
       "      <td>2010-11-04</td>\n",
       "      <td>economy</td>\n",
       "      <td>201011</td>\n",
       "    </tr>\n",
       "    <tr>\n",
       "      <th>2</th>\n",
       "      <td>2016-10-09</td>\n",
       "      <td>politics</td>\n",
       "      <td>201610</td>\n",
       "    </tr>\n",
       "    <tr>\n",
       "      <th>3</th>\n",
       "      <td>2008-09-17</td>\n",
       "      <td>rights</td>\n",
       "      <td>200809</td>\n",
       "    </tr>\n",
       "    <tr>\n",
       "      <th>4</th>\n",
       "      <td>2018-10-12</td>\n",
       "      <td>health</td>\n",
       "      <td>201810</td>\n",
       "    </tr>\n",
       "  </tbody>\n",
       "</table>\n",
       "</div>"
      ],
      "text/plain": [
       "  statement_date clean_subject  dates_for_plot\n",
       "0     2011-04-05       economy          201104\n",
       "1     2010-11-04       economy          201011\n",
       "2     2016-10-09      politics          201610\n",
       "3     2008-09-17        rights          200809\n",
       "4     2018-10-12        health          201810"
      ]
     },
     "execution_count": 119,
     "metadata": {},
     "output_type": "execute_result"
    }
   ],
   "source": [
    "objects_along_time = statements[['statement_date', 'clean_subject']]\n",
    "objects_along_time['dates_for_plot'] = statements.statement_date.dt.year*100+statements.statement_date.dt.month\n",
    "#objects_along_time['dates_for_plot'] = statements[['statement_date', 'clean_subject']]#.statement_date.dt.year*100+statements.statement_date.dt.month\n",
    "objects_along_time.head(5)"
   ]
  },
  {
   "cell_type": "code",
   "execution_count": 120,
   "metadata": {},
   "outputs": [
    {
     "data": {
      "text/html": [
       "<div>\n",
       "<style scoped>\n",
       "    .dataframe tbody tr th:only-of-type {\n",
       "        vertical-align: middle;\n",
       "    }\n",
       "\n",
       "    .dataframe tbody tr th {\n",
       "        vertical-align: top;\n",
       "    }\n",
       "\n",
       "    .dataframe thead th {\n",
       "        text-align: right;\n",
       "    }\n",
       "</style>\n",
       "<table border=\"1\" class=\"dataframe\">\n",
       "  <thead>\n",
       "    <tr style=\"text-align: right;\">\n",
       "      <th></th>\n",
       "      <th>statement_date</th>\n",
       "      <th>clean_subject</th>\n",
       "      <th>dates_for_plot</th>\n",
       "    </tr>\n",
       "  </thead>\n",
       "  <tbody>\n",
       "    <tr>\n",
       "      <th>0</th>\n",
       "      <td>2011-04-05</td>\n",
       "      <td>economy</td>\n",
       "      <td>201104</td>\n",
       "    </tr>\n",
       "    <tr>\n",
       "      <th>1</th>\n",
       "      <td>2010-11-04</td>\n",
       "      <td>economy</td>\n",
       "      <td>201011</td>\n",
       "    </tr>\n",
       "    <tr>\n",
       "      <th>2</th>\n",
       "      <td>2016-10-09</td>\n",
       "      <td>politics</td>\n",
       "      <td>201610</td>\n",
       "    </tr>\n",
       "    <tr>\n",
       "      <th>3</th>\n",
       "      <td>2008-09-17</td>\n",
       "      <td>rights</td>\n",
       "      <td>200809</td>\n",
       "    </tr>\n",
       "    <tr>\n",
       "      <th>4</th>\n",
       "      <td>2018-10-12</td>\n",
       "      <td>health</td>\n",
       "      <td>201810</td>\n",
       "    </tr>\n",
       "    <tr>\n",
       "      <th>5</th>\n",
       "      <td>2012-08-10</td>\n",
       "      <td>other_subject</td>\n",
       "      <td>201208</td>\n",
       "    </tr>\n",
       "    <tr>\n",
       "      <th>6</th>\n",
       "      <td>2012-08-01</td>\n",
       "      <td>economy</td>\n",
       "      <td>201208</td>\n",
       "    </tr>\n",
       "    <tr>\n",
       "      <th>7</th>\n",
       "      <td>2011-02-22</td>\n",
       "      <td>family</td>\n",
       "      <td>201102</td>\n",
       "    </tr>\n",
       "    <tr>\n",
       "      <th>8</th>\n",
       "      <td>2008-08-31</td>\n",
       "      <td>politics</td>\n",
       "      <td>200808</td>\n",
       "    </tr>\n",
       "    <tr>\n",
       "      <th>9</th>\n",
       "      <td>2017-01-12</td>\n",
       "      <td>environment</td>\n",
       "      <td>201701</td>\n",
       "    </tr>\n",
       "    <tr>\n",
       "      <th>10</th>\n",
       "      <td>2016-08-16</td>\n",
       "      <td>family</td>\n",
       "      <td>201608</td>\n",
       "    </tr>\n",
       "    <tr>\n",
       "      <th>11</th>\n",
       "      <td>2008-02-26</td>\n",
       "      <td>immigration</td>\n",
       "      <td>200802</td>\n",
       "    </tr>\n",
       "    <tr>\n",
       "      <th>12</th>\n",
       "      <td>2016-10-06</td>\n",
       "      <td>politics</td>\n",
       "      <td>201610</td>\n",
       "    </tr>\n",
       "    <tr>\n",
       "      <th>13</th>\n",
       "      <td>2012-06-28</td>\n",
       "      <td>health</td>\n",
       "      <td>201206</td>\n",
       "    </tr>\n",
       "    <tr>\n",
       "      <th>14</th>\n",
       "      <td>2010-12-20</td>\n",
       "      <td>environment</td>\n",
       "      <td>201012</td>\n",
       "    </tr>\n",
       "    <tr>\n",
       "      <th>15</th>\n",
       "      <td>2010-07-25</td>\n",
       "      <td>other_subject</td>\n",
       "      <td>201007</td>\n",
       "    </tr>\n",
       "    <tr>\n",
       "      <th>16</th>\n",
       "      <td>2016-05-22</td>\n",
       "      <td>other_subject</td>\n",
       "      <td>201605</td>\n",
       "    </tr>\n",
       "    <tr>\n",
       "      <th>17</th>\n",
       "      <td>2013-01-07</td>\n",
       "      <td>economy</td>\n",
       "      <td>201301</td>\n",
       "    </tr>\n",
       "    <tr>\n",
       "      <th>18</th>\n",
       "      <td>2013-01-14</td>\n",
       "      <td>security</td>\n",
       "      <td>201301</td>\n",
       "    </tr>\n",
       "    <tr>\n",
       "      <th>19</th>\n",
       "      <td>2010-10-09</td>\n",
       "      <td>security</td>\n",
       "      <td>201010</td>\n",
       "    </tr>\n",
       "    <tr>\n",
       "      <th>20</th>\n",
       "      <td>2016-03-16</td>\n",
       "      <td>politics</td>\n",
       "      <td>201603</td>\n",
       "    </tr>\n",
       "    <tr>\n",
       "      <th>21</th>\n",
       "      <td>2016-06-24</td>\n",
       "      <td>economy</td>\n",
       "      <td>201606</td>\n",
       "    </tr>\n",
       "    <tr>\n",
       "      <th>22</th>\n",
       "      <td>2013-10-21</td>\n",
       "      <td>economy</td>\n",
       "      <td>201310</td>\n",
       "    </tr>\n",
       "    <tr>\n",
       "      <th>23</th>\n",
       "      <td>2013-05-03</td>\n",
       "      <td>politics</td>\n",
       "      <td>201305</td>\n",
       "    </tr>\n",
       "    <tr>\n",
       "      <th>24</th>\n",
       "      <td>2012-09-30</td>\n",
       "      <td>economy</td>\n",
       "      <td>201209</td>\n",
       "    </tr>\n",
       "    <tr>\n",
       "      <th>25</th>\n",
       "      <td>2018-02-20</td>\n",
       "      <td>fake</td>\n",
       "      <td>201802</td>\n",
       "    </tr>\n",
       "    <tr>\n",
       "      <th>26</th>\n",
       "      <td>2013-08-19</td>\n",
       "      <td>other_subject</td>\n",
       "      <td>201308</td>\n",
       "    </tr>\n",
       "    <tr>\n",
       "      <th>27</th>\n",
       "      <td>2013-01-07</td>\n",
       "      <td>other_subject</td>\n",
       "      <td>201301</td>\n",
       "    </tr>\n",
       "    <tr>\n",
       "      <th>28</th>\n",
       "      <td>2010-07-14</td>\n",
       "      <td>environment</td>\n",
       "      <td>201007</td>\n",
       "    </tr>\n",
       "    <tr>\n",
       "      <th>29</th>\n",
       "      <td>2016-06-22</td>\n",
       "      <td>immigration</td>\n",
       "      <td>201606</td>\n",
       "    </tr>\n",
       "    <tr>\n",
       "      <th>...</th>\n",
       "      <td>...</td>\n",
       "      <td>...</td>\n",
       "      <td>...</td>\n",
       "    </tr>\n",
       "    <tr>\n",
       "      <th>15067</th>\n",
       "      <td>2016-06-08</td>\n",
       "      <td>health</td>\n",
       "      <td>201606</td>\n",
       "    </tr>\n",
       "    <tr>\n",
       "      <th>15075</th>\n",
       "      <td>2017-01-30</td>\n",
       "      <td>environment</td>\n",
       "      <td>201701</td>\n",
       "    </tr>\n",
       "    <tr>\n",
       "      <th>15079</th>\n",
       "      <td>2007-12-27</td>\n",
       "      <td>immigration</td>\n",
       "      <td>200712</td>\n",
       "    </tr>\n",
       "    <tr>\n",
       "      <th>15089</th>\n",
       "      <td>2008-08-04</td>\n",
       "      <td>family</td>\n",
       "      <td>200808</td>\n",
       "    </tr>\n",
       "    <tr>\n",
       "      <th>15093</th>\n",
       "      <td>2010-08-16</td>\n",
       "      <td>rights</td>\n",
       "      <td>201008</td>\n",
       "    </tr>\n",
       "    <tr>\n",
       "      <th>15094</th>\n",
       "      <td>2007-07-19</td>\n",
       "      <td>politics</td>\n",
       "      <td>200707</td>\n",
       "    </tr>\n",
       "    <tr>\n",
       "      <th>15107</th>\n",
       "      <td>2012-09-11</td>\n",
       "      <td>environment</td>\n",
       "      <td>201209</td>\n",
       "    </tr>\n",
       "    <tr>\n",
       "      <th>15109</th>\n",
       "      <td>2008-05-12</td>\n",
       "      <td>economy</td>\n",
       "      <td>200805</td>\n",
       "    </tr>\n",
       "    <tr>\n",
       "      <th>15115</th>\n",
       "      <td>2013-07-20</td>\n",
       "      <td>immigration</td>\n",
       "      <td>201307</td>\n",
       "    </tr>\n",
       "    <tr>\n",
       "      <th>15118</th>\n",
       "      <td>2016-09-19</td>\n",
       "      <td>rights</td>\n",
       "      <td>201609</td>\n",
       "    </tr>\n",
       "    <tr>\n",
       "      <th>15133</th>\n",
       "      <td>2016-07-09</td>\n",
       "      <td>environment</td>\n",
       "      <td>201607</td>\n",
       "    </tr>\n",
       "    <tr>\n",
       "      <th>15160</th>\n",
       "      <td>2008-09-09</td>\n",
       "      <td>family</td>\n",
       "      <td>200809</td>\n",
       "    </tr>\n",
       "    <tr>\n",
       "      <th>15163</th>\n",
       "      <td>2009-12-30</td>\n",
       "      <td>politics</td>\n",
       "      <td>200912</td>\n",
       "    </tr>\n",
       "    <tr>\n",
       "      <th>15169</th>\n",
       "      <td>2008-02-06</td>\n",
       "      <td>security</td>\n",
       "      <td>200802</td>\n",
       "    </tr>\n",
       "    <tr>\n",
       "      <th>15172</th>\n",
       "      <td>2008-08-25</td>\n",
       "      <td>health</td>\n",
       "      <td>200808</td>\n",
       "    </tr>\n",
       "    <tr>\n",
       "      <th>15203</th>\n",
       "      <td>2009-08-05</td>\n",
       "      <td>other_subject</td>\n",
       "      <td>200908</td>\n",
       "    </tr>\n",
       "    <tr>\n",
       "      <th>15205</th>\n",
       "      <td>2013-06-04</td>\n",
       "      <td>fake</td>\n",
       "      <td>201306</td>\n",
       "    </tr>\n",
       "    <tr>\n",
       "      <th>15223</th>\n",
       "      <td>2009-04-06</td>\n",
       "      <td>politics</td>\n",
       "      <td>200904</td>\n",
       "    </tr>\n",
       "    <tr>\n",
       "      <th>15240</th>\n",
       "      <td>2016-12-15</td>\n",
       "      <td>family</td>\n",
       "      <td>201612</td>\n",
       "    </tr>\n",
       "    <tr>\n",
       "      <th>15257</th>\n",
       "      <td>2015-12-08</td>\n",
       "      <td>politics</td>\n",
       "      <td>201512</td>\n",
       "    </tr>\n",
       "    <tr>\n",
       "      <th>15258</th>\n",
       "      <td>2017-05-20</td>\n",
       "      <td>environment</td>\n",
       "      <td>201705</td>\n",
       "    </tr>\n",
       "    <tr>\n",
       "      <th>15260</th>\n",
       "      <td>2009-12-07</td>\n",
       "      <td>environment</td>\n",
       "      <td>200912</td>\n",
       "    </tr>\n",
       "    <tr>\n",
       "      <th>15292</th>\n",
       "      <td>2015-03-31</td>\n",
       "      <td>rights</td>\n",
       "      <td>201503</td>\n",
       "    </tr>\n",
       "    <tr>\n",
       "      <th>15298</th>\n",
       "      <td>2012-05-08</td>\n",
       "      <td>fake</td>\n",
       "      <td>201205</td>\n",
       "    </tr>\n",
       "    <tr>\n",
       "      <th>15301</th>\n",
       "      <td>2007-12-05</td>\n",
       "      <td>family</td>\n",
       "      <td>200712</td>\n",
       "    </tr>\n",
       "    <tr>\n",
       "      <th>15306</th>\n",
       "      <td>2010-03-25</td>\n",
       "      <td>other_subject</td>\n",
       "      <td>201003</td>\n",
       "    </tr>\n",
       "    <tr>\n",
       "      <th>15315</th>\n",
       "      <td>2009-04-14</td>\n",
       "      <td>economy</td>\n",
       "      <td>200904</td>\n",
       "    </tr>\n",
       "    <tr>\n",
       "      <th>15334</th>\n",
       "      <td>2013-06-13</td>\n",
       "      <td>fake</td>\n",
       "      <td>201306</td>\n",
       "    </tr>\n",
       "    <tr>\n",
       "      <th>15337</th>\n",
       "      <td>2016-09-26</td>\n",
       "      <td>rights</td>\n",
       "      <td>201609</td>\n",
       "    </tr>\n",
       "    <tr>\n",
       "      <th>15442</th>\n",
       "      <td>2012-11-27</td>\n",
       "      <td>fake</td>\n",
       "      <td>201211</td>\n",
       "    </tr>\n",
       "  </tbody>\n",
       "</table>\n",
       "<p>5786 rows × 3 columns</p>\n",
       "</div>"
      ],
      "text/plain": [
       "      statement_date  clean_subject  dates_for_plot\n",
       "0         2011-04-05        economy          201104\n",
       "1         2010-11-04        economy          201011\n",
       "2         2016-10-09       politics          201610\n",
       "3         2008-09-17         rights          200809\n",
       "4         2018-10-12         health          201810\n",
       "5         2012-08-10  other_subject          201208\n",
       "6         2012-08-01        economy          201208\n",
       "7         2011-02-22         family          201102\n",
       "8         2008-08-31       politics          200808\n",
       "9         2017-01-12    environment          201701\n",
       "10        2016-08-16         family          201608\n",
       "11        2008-02-26    immigration          200802\n",
       "12        2016-10-06       politics          201610\n",
       "13        2012-06-28         health          201206\n",
       "14        2010-12-20    environment          201012\n",
       "15        2010-07-25  other_subject          201007\n",
       "16        2016-05-22  other_subject          201605\n",
       "17        2013-01-07        economy          201301\n",
       "18        2013-01-14       security          201301\n",
       "19        2010-10-09       security          201010\n",
       "20        2016-03-16       politics          201603\n",
       "21        2016-06-24        economy          201606\n",
       "22        2013-10-21        economy          201310\n",
       "23        2013-05-03       politics          201305\n",
       "24        2012-09-30        economy          201209\n",
       "25        2018-02-20           fake          201802\n",
       "26        2013-08-19  other_subject          201308\n",
       "27        2013-01-07  other_subject          201301\n",
       "28        2010-07-14    environment          201007\n",
       "29        2016-06-22    immigration          201606\n",
       "...              ...            ...             ...\n",
       "15067     2016-06-08         health          201606\n",
       "15075     2017-01-30    environment          201701\n",
       "15079     2007-12-27    immigration          200712\n",
       "15089     2008-08-04         family          200808\n",
       "15093     2010-08-16         rights          201008\n",
       "15094     2007-07-19       politics          200707\n",
       "15107     2012-09-11    environment          201209\n",
       "15109     2008-05-12        economy          200805\n",
       "15115     2013-07-20    immigration          201307\n",
       "15118     2016-09-19         rights          201609\n",
       "15133     2016-07-09    environment          201607\n",
       "15160     2008-09-09         family          200809\n",
       "15163     2009-12-30       politics          200912\n",
       "15169     2008-02-06       security          200802\n",
       "15172     2008-08-25         health          200808\n",
       "15203     2009-08-05  other_subject          200908\n",
       "15205     2013-06-04           fake          201306\n",
       "15223     2009-04-06       politics          200904\n",
       "15240     2016-12-15         family          201612\n",
       "15257     2015-12-08       politics          201512\n",
       "15258     2017-05-20    environment          201705\n",
       "15260     2009-12-07    environment          200912\n",
       "15292     2015-03-31         rights          201503\n",
       "15298     2012-05-08           fake          201205\n",
       "15301     2007-12-05         family          200712\n",
       "15306     2010-03-25  other_subject          201003\n",
       "15315     2009-04-14        economy          200904\n",
       "15334     2013-06-13           fake          201306\n",
       "15337     2016-09-26         rights          201609\n",
       "15442     2012-11-27           fake          201211\n",
       "\n",
       "[5786 rows x 3 columns]"
      ]
     },
     "execution_count": 120,
     "metadata": {},
     "output_type": "execute_result"
    }
   ],
   "source": [
    "objects_along_time.groupby(['dates_for_plot', 'clean_subject']).head(5)\n"
   ]
  },
  {
   "cell_type": "code",
   "execution_count": 121,
   "metadata": {},
   "outputs": [],
   "source": [
    "objects_along_time = group_and_count(objects_along_time, ['dates_for_plot', 'clean_subject'])"
   ]
  },
  {
   "cell_type": "code",
   "execution_count": 65,
   "metadata": {},
   "outputs": [
    {
     "data": {
      "text/plain": [
       "['dates_for_plot', 'clean_subject', 'count']"
      ]
     },
     "execution_count": 65,
     "metadata": {},
     "output_type": "execute_result"
    }
   ],
   "source": [
    "list(objects_along_time)"
   ]
  },
  {
   "cell_type": "code",
   "execution_count": 89,
   "metadata": {},
   "outputs": [
    {
     "data": {
      "text/plain": [
       "<matplotlib.axes._subplots.AxesSubplot at 0x108f5ec18>"
      ]
     },
     "execution_count": 89,
     "metadata": {},
     "output_type": "execute_result"
    }
   ],
   "source": [
    "objects_along_time.plot.scatter('dates_for_plot', 'count')"
   ]
  },
  {
   "cell_type": "code",
   "execution_count": 92,
   "metadata": {},
   "outputs": [
    {
     "ename": "NameError",
     "evalue": "name 'plt' is not defined",
     "output_type": "error",
     "traceback": [
      "\u001b[0;31m---------------------------------------------------------------------------\u001b[0m",
      "\u001b[0;31mNameError\u001b[0m                                 Traceback (most recent call last)",
      "\u001b[0;32m<ipython-input-92-66cba74d5043>\u001b[0m in \u001b[0;36m<module>\u001b[0;34m()\u001b[0m\n\u001b[0;32m----> 1\u001b[0;31m \u001b[0mplt\u001b[0m\u001b[0;34m.\u001b[0m\u001b[0mscatter\u001b[0m\u001b[0;34m(\u001b[0m\u001b[0mobjects_along_time\u001b[0m\u001b[0;34m[\u001b[0m\u001b[0;34m'dates_for_plot'\u001b[0m\u001b[0;34m]\u001b[0m\u001b[0;34m,\u001b[0m \u001b[0mobjects_along_time\u001b[0m\u001b[0;34m[\u001b[0m\u001b[0;34m'count'\u001b[0m\u001b[0;34m]\u001b[0m\u001b[0;34m,\u001b[0m \u001b[0mc\u001b[0m\u001b[0;34m=\u001b[0m\u001b[0;34m\"g\"\u001b[0m\u001b[0;34m,\u001b[0m \u001b[0malpha\u001b[0m\u001b[0;34m=\u001b[0m\u001b[0;36m0.5\u001b[0m\u001b[0;34m,\u001b[0m \u001b[0mmarker\u001b[0m\u001b[0;34m=\u001b[0m\u001b[0;34mr'$\\clubsuit$'\u001b[0m\u001b[0;34m,\u001b[0m \u001b[0mlabel\u001b[0m\u001b[0;34m=\u001b[0m\u001b[0;34m\"Luck\"\u001b[0m\u001b[0;34m)\u001b[0m\u001b[0;34m\u001b[0m\u001b[0m\n\u001b[0m",
      "\u001b[0;31mNameError\u001b[0m: name 'plt' is not defined"
     ]
    }
   ],
   "source": [
    "plt.scatter(objects_along_time['dates_for_plot'], objects_along_time['count'], c=\"g\", alpha=0.5, marker=r'$\\clubsuit$', label=\"Luck\")"
   ]
  },
  {
   "cell_type": "code",
   "execution_count": 94,
   "metadata": {},
   "outputs": [
    {
     "data": {
      "text/plain": [
       "array(['security', 'immigration', 'politics', 'rights', 'economy',\n",
       "       'environment', 'fake', 'family', 'health', 'other_subject'],\n",
       "      dtype=object)"
      ]
     },
     "execution_count": 94,
     "metadata": {},
     "output_type": "execute_result"
    }
   ],
   "source": [
    "subjects = objects_along_time.clean_subject.unique()\n",
    "subjects\n"
   ]
  },
  {
   "cell_type": "code",
   "execution_count": 101,
   "metadata": {
    "collapsed": true
   },
   "outputs": [
    {
     "ename": "ValueError",
     "evalue": "color kwarg must have one color per dataset",
     "output_type": "error",
     "traceback": [
      "\u001b[0;31m---------------------------------------------------------------------------\u001b[0m",
      "\u001b[0;31mValueError\u001b[0m                                Traceback (most recent call last)",
      "\u001b[0;32m<ipython-input-101-5873d3e514e2>\u001b[0m in \u001b[0;36m<module>\u001b[0;34m()\u001b[0m\n\u001b[1;32m      1\u001b[0m \u001b[0;32mfor\u001b[0m \u001b[0mtype\u001b[0m \u001b[0;32min\u001b[0m \u001b[0mobjects_along_time\u001b[0m\u001b[0;34m[\u001b[0m\u001b[0;34m'clean_subject'\u001b[0m\u001b[0;34m]\u001b[0m\u001b[0;34m.\u001b[0m\u001b[0munique\u001b[0m\u001b[0;34m(\u001b[0m\u001b[0;34m)\u001b[0m\u001b[0;34m:\u001b[0m\u001b[0;34m\u001b[0m\u001b[0m\n\u001b[0;32m----> 2\u001b[0;31m     \u001b[0msns\u001b[0m\u001b[0;34m.\u001b[0m\u001b[0mdistplot\u001b[0m\u001b[0;34m(\u001b[0m\u001b[0mobjects_along_time\u001b[0m\u001b[0;34m[\u001b[0m\u001b[0;34m[\u001b[0m\u001b[0;34m'dates_for_plot'\u001b[0m\u001b[0;34m,\u001b[0m \u001b[0;34m'count'\u001b[0m\u001b[0;34m]\u001b[0m\u001b[0;34m]\u001b[0m\u001b[0;34m.\u001b[0m\u001b[0mloc\u001b[0m\u001b[0;34m[\u001b[0m\u001b[0mobjects_along_time\u001b[0m\u001b[0;34m[\u001b[0m\u001b[0;34m'clean_subject'\u001b[0m\u001b[0;34m]\u001b[0m \u001b[0;34m==\u001b[0m \u001b[0mtype\u001b[0m\u001b[0;34m,\u001b[0m \u001b[0;34m:\u001b[0m\u001b[0;34m]\u001b[0m\u001b[0;34m)\u001b[0m\u001b[0;34m\u001b[0m\u001b[0m\n\u001b[0m\u001b[1;32m      3\u001b[0m \u001b[0;34m\u001b[0m\u001b[0m\n\u001b[1;32m      4\u001b[0m \u001b[0;31m# plt.savefig('../docs/images/sample_fig.png')\u001b[0m\u001b[0;34m\u001b[0m\u001b[0;34m\u001b[0m\u001b[0m\n",
      "\u001b[0;32m/anaconda3/lib/python3.6/site-packages/seaborn/distributions.py\u001b[0m in \u001b[0;36mdistplot\u001b[0;34m(a, bins, hist, kde, rug, fit, hist_kws, kde_kws, rug_kws, fit_kws, color, vertical, norm_hist, axlabel, label, ax)\u001b[0m\n\u001b[1;32m    223\u001b[0m         \u001b[0mhist_color\u001b[0m \u001b[0;34m=\u001b[0m \u001b[0mhist_kws\u001b[0m\u001b[0;34m.\u001b[0m\u001b[0mpop\u001b[0m\u001b[0;34m(\u001b[0m\u001b[0;34m\"color\"\u001b[0m\u001b[0;34m,\u001b[0m \u001b[0mcolor\u001b[0m\u001b[0;34m)\u001b[0m\u001b[0;34m\u001b[0m\u001b[0m\n\u001b[1;32m    224\u001b[0m         ax.hist(a, bins, orientation=orientation,\n\u001b[0;32m--> 225\u001b[0;31m                 color=hist_color, **hist_kws)\n\u001b[0m\u001b[1;32m    226\u001b[0m         \u001b[0;32mif\u001b[0m \u001b[0mhist_color\u001b[0m \u001b[0;34m!=\u001b[0m \u001b[0mcolor\u001b[0m\u001b[0;34m:\u001b[0m\u001b[0;34m\u001b[0m\u001b[0m\n\u001b[1;32m    227\u001b[0m             \u001b[0mhist_kws\u001b[0m\u001b[0;34m[\u001b[0m\u001b[0;34m\"color\"\u001b[0m\u001b[0;34m]\u001b[0m \u001b[0;34m=\u001b[0m \u001b[0mhist_color\u001b[0m\u001b[0;34m\u001b[0m\u001b[0m\n",
      "\u001b[0;32m/anaconda3/lib/python3.6/site-packages/matplotlib/__init__.py\u001b[0m in \u001b[0;36minner\u001b[0;34m(ax, *args, **kwargs)\u001b[0m\n\u001b[1;32m   1853\u001b[0m                         \u001b[0;34m\"the Matplotlib list!)\"\u001b[0m \u001b[0;34m%\u001b[0m \u001b[0;34m(\u001b[0m\u001b[0mlabel_namer\u001b[0m\u001b[0;34m,\u001b[0m \u001b[0mfunc\u001b[0m\u001b[0;34m.\u001b[0m\u001b[0m__name__\u001b[0m\u001b[0;34m)\u001b[0m\u001b[0;34m,\u001b[0m\u001b[0;34m\u001b[0m\u001b[0m\n\u001b[1;32m   1854\u001b[0m                         RuntimeWarning, stacklevel=2)\n\u001b[0;32m-> 1855\u001b[0;31m             \u001b[0;32mreturn\u001b[0m \u001b[0mfunc\u001b[0m\u001b[0;34m(\u001b[0m\u001b[0max\u001b[0m\u001b[0;34m,\u001b[0m \u001b[0;34m*\u001b[0m\u001b[0margs\u001b[0m\u001b[0;34m,\u001b[0m \u001b[0;34m**\u001b[0m\u001b[0mkwargs\u001b[0m\u001b[0;34m)\u001b[0m\u001b[0;34m\u001b[0m\u001b[0m\n\u001b[0m\u001b[1;32m   1856\u001b[0m \u001b[0;34m\u001b[0m\u001b[0m\n\u001b[1;32m   1857\u001b[0m         inner.__doc__ = _add_data_doc(inner.__doc__,\n",
      "\u001b[0;32m/anaconda3/lib/python3.6/site-packages/matplotlib/axes/_axes.py\u001b[0m in \u001b[0;36mhist\u001b[0;34m(***failed resolving arguments***)\u001b[0m\n\u001b[1;32m   6502\u001b[0m             \u001b[0mcolor\u001b[0m \u001b[0;34m=\u001b[0m \u001b[0mmcolors\u001b[0m\u001b[0;34m.\u001b[0m\u001b[0mto_rgba_array\u001b[0m\u001b[0;34m(\u001b[0m\u001b[0mcolor\u001b[0m\u001b[0;34m)\u001b[0m\u001b[0;34m\u001b[0m\u001b[0m\n\u001b[1;32m   6503\u001b[0m             \u001b[0;32mif\u001b[0m \u001b[0mlen\u001b[0m\u001b[0;34m(\u001b[0m\u001b[0mcolor\u001b[0m\u001b[0;34m)\u001b[0m \u001b[0;34m!=\u001b[0m \u001b[0mnx\u001b[0m\u001b[0;34m:\u001b[0m\u001b[0;34m\u001b[0m\u001b[0m\n\u001b[0;32m-> 6504\u001b[0;31m                 \u001b[0;32mraise\u001b[0m \u001b[0mValueError\u001b[0m\u001b[0;34m(\u001b[0m\u001b[0;34m\"color kwarg must have one color per dataset\"\u001b[0m\u001b[0;34m)\u001b[0m\u001b[0;34m\u001b[0m\u001b[0m\n\u001b[0m\u001b[1;32m   6505\u001b[0m \u001b[0;34m\u001b[0m\u001b[0m\n\u001b[1;32m   6506\u001b[0m         \u001b[0;31m# If bins are not specified either explicitly or via range,\u001b[0m\u001b[0;34m\u001b[0m\u001b[0;34m\u001b[0m\u001b[0m\n",
      "\u001b[0;31mValueError\u001b[0m: color kwarg must have one color per dataset"
     ]
    },
    {
     "data": {
      "image/png": "[encoded data removed]",
      "text/plain": [
       "<Figure size 432x288 with 1 Axes>"
      ]
     },
     "metadata": {},
     "output_type": "display_data"
    }
   ],
   "source": [
    "for type in objects_along_time['clean_subject'].unique():\n",
    "    sns.distplot(objects_along_time[['dates_for_plot', 'count']].loc[objects_along_time['clean_subject'] == type, :])\n",
    "    \n",
    "# plt.savefig('../docs/images/sample_fig.png')"
   ]
  },
  {
   "cell_type": "code",
   "execution_count": 128,
   "metadata": {},
   "outputs": [
    {
     "data": {
      "text/plain": [
       "['dates_for_plot', 'clean_subject', 'count']"
      ]
     },
     "execution_count": 128,
     "metadata": {},
     "output_type": "execute_result"
    }
   ],
   "source": [
    "#caca = objects_along_time.loc[objects_along_time['clean_subject'] == 'environment']\n",
    "#caca.head(5)\n",
    "#list(caca)"
   ]
  },
  {
   "cell_type": "code",
   "execution_count": 129,
   "metadata": {
    "collapsed": true
   },
   "outputs": [
    {
     "ename": "TypeError",
     "evalue": "float() argument must be a string or a number, not 'method'",
     "output_type": "error",
     "traceback": [
      "\u001b[0;31m---------------------------------------------------------------------------\u001b[0m",
      "\u001b[0;31mTypeError\u001b[0m                                 Traceback (most recent call last)",
      "\u001b[0;32m<ipython-input-129-fe7a14f417a4>\u001b[0m in \u001b[0;36m<module>\u001b[0;34m()\u001b[0m\n\u001b[0;32m----> 1\u001b[0;31m \u001b[0msns\u001b[0m\u001b[0;34m.\u001b[0m\u001b[0mscatterplot\u001b[0m\u001b[0;34m(\u001b[0m\u001b[0mx\u001b[0m\u001b[0;34m=\u001b[0m\u001b[0mcaca\u001b[0m\u001b[0;34m.\u001b[0m\u001b[0mdates_for_plot\u001b[0m\u001b[0;34m,\u001b[0m \u001b[0my\u001b[0m\u001b[0;34m=\u001b[0m\u001b[0mcaca\u001b[0m\u001b[0;34m.\u001b[0m\u001b[0mcount\u001b[0m\u001b[0;34m)\u001b[0m\u001b[0;34m\u001b[0m\u001b[0m\n\u001b[0m",
      "\u001b[0;32m/anaconda3/lib/python3.6/site-packages/seaborn/relational.py\u001b[0m in \u001b[0;36mscatterplot\u001b[0;34m(x, y, hue, style, size, data, palette, hue_order, hue_norm, sizes, size_order, size_norm, markers, style_order, x_bins, y_bins, units, estimator, ci, n_boot, alpha, x_jitter, y_jitter, legend, ax, **kwargs)\u001b[0m\n\u001b[1;32m   1339\u001b[0m         \u001b[0max\u001b[0m \u001b[0;34m=\u001b[0m \u001b[0mplt\u001b[0m\u001b[0;34m.\u001b[0m\u001b[0mgca\u001b[0m\u001b[0;34m(\u001b[0m\u001b[0;34m)\u001b[0m\u001b[0;34m\u001b[0m\u001b[0m\n\u001b[1;32m   1340\u001b[0m \u001b[0;34m\u001b[0m\u001b[0m\n\u001b[0;32m-> 1341\u001b[0;31m     \u001b[0mp\u001b[0m\u001b[0;34m.\u001b[0m\u001b[0mplot\u001b[0m\u001b[0;34m(\u001b[0m\u001b[0max\u001b[0m\u001b[0;34m,\u001b[0m \u001b[0mkwargs\u001b[0m\u001b[0;34m)\u001b[0m\u001b[0;34m\u001b[0m\u001b[0m\n\u001b[0m\u001b[1;32m   1342\u001b[0m \u001b[0;34m\u001b[0m\u001b[0m\n\u001b[1;32m   1343\u001b[0m     \u001b[0;32mreturn\u001b[0m \u001b[0max\u001b[0m\u001b[0;34m\u001b[0m\u001b[0m\n",
      "\u001b[0;32m/anaconda3/lib/python3.6/site-packages/seaborn/relational.py\u001b[0m in \u001b[0;36mplot\u001b[0;34m(self, ax, kws)\u001b[0m\n\u001b[1;32m    914\u001b[0m \u001b[0;34m\u001b[0m\u001b[0m\n\u001b[1;32m    915\u001b[0m         \u001b[0margs\u001b[0m \u001b[0;34m=\u001b[0m \u001b[0mnp\u001b[0m\u001b[0;34m.\u001b[0m\u001b[0masarray\u001b[0m\u001b[0;34m(\u001b[0m\u001b[0mx\u001b[0m\u001b[0;34m)\u001b[0m\u001b[0;34m,\u001b[0m \u001b[0mnp\u001b[0m\u001b[0;34m.\u001b[0m\u001b[0masarray\u001b[0m\u001b[0;34m(\u001b[0m\u001b[0my\u001b[0m\u001b[0;34m)\u001b[0m\u001b[0;34m,\u001b[0m \u001b[0mnp\u001b[0m\u001b[0;34m.\u001b[0m\u001b[0masarray\u001b[0m\u001b[0;34m(\u001b[0m\u001b[0ms\u001b[0m\u001b[0;34m)\u001b[0m\u001b[0;34m,\u001b[0m \u001b[0mnp\u001b[0m\u001b[0;34m.\u001b[0m\u001b[0masarray\u001b[0m\u001b[0;34m(\u001b[0m\u001b[0mc\u001b[0m\u001b[0;34m)\u001b[0m\u001b[0;34m\u001b[0m\u001b[0m\n\u001b[0;32m--> 916\u001b[0;31m         \u001b[0mpoints\u001b[0m \u001b[0;34m=\u001b[0m \u001b[0max\u001b[0m\u001b[0;34m.\u001b[0m\u001b[0mscatter\u001b[0m\u001b[0;34m(\u001b[0m\u001b[0;34m*\u001b[0m\u001b[0margs\u001b[0m\u001b[0;34m,\u001b[0m \u001b[0;34m**\u001b[0m\u001b[0mkws\u001b[0m\u001b[0;34m)\u001b[0m\u001b[0;34m\u001b[0m\u001b[0m\n\u001b[0m\u001b[1;32m    917\u001b[0m \u001b[0;34m\u001b[0m\u001b[0m\n\u001b[1;32m    918\u001b[0m         \u001b[0;31m# Update the paths to get different marker shapes. This has to be\u001b[0m\u001b[0;34m\u001b[0m\u001b[0;34m\u001b[0m\u001b[0m\n",
      "\u001b[0;32m/anaconda3/lib/python3.6/site-packages/matplotlib/__init__.py\u001b[0m in \u001b[0;36minner\u001b[0;34m(ax, *args, **kwargs)\u001b[0m\n\u001b[1;32m   1853\u001b[0m                         \u001b[0;34m\"the Matplotlib list!)\"\u001b[0m \u001b[0;34m%\u001b[0m \u001b[0;34m(\u001b[0m\u001b[0mlabel_namer\u001b[0m\u001b[0;34m,\u001b[0m \u001b[0mfunc\u001b[0m\u001b[0;34m.\u001b[0m\u001b[0m__name__\u001b[0m\u001b[0;34m)\u001b[0m\u001b[0;34m,\u001b[0m\u001b[0;34m\u001b[0m\u001b[0m\n\u001b[1;32m   1854\u001b[0m                         RuntimeWarning, stacklevel=2)\n\u001b[0;32m-> 1855\u001b[0;31m             \u001b[0;32mreturn\u001b[0m \u001b[0mfunc\u001b[0m\u001b[0;34m(\u001b[0m\u001b[0max\u001b[0m\u001b[0;34m,\u001b[0m \u001b[0;34m*\u001b[0m\u001b[0margs\u001b[0m\u001b[0;34m,\u001b[0m \u001b[0;34m**\u001b[0m\u001b[0mkwargs\u001b[0m\u001b[0;34m)\u001b[0m\u001b[0;34m\u001b[0m\u001b[0m\n\u001b[0m\u001b[1;32m   1856\u001b[0m \u001b[0;34m\u001b[0m\u001b[0m\n\u001b[1;32m   1857\u001b[0m         inner.__doc__ = _add_data_doc(inner.__doc__,\n",
      "\u001b[0;32m/anaconda3/lib/python3.6/site-packages/matplotlib/axes/_axes.py\u001b[0m in \u001b[0;36mscatter\u001b[0;34m(self, x, y, s, c, marker, cmap, norm, vmin, vmax, alpha, linewidths, verts, edgecolors, **kwargs)\u001b[0m\n\u001b[1;32m   4318\u001b[0m                 \u001b[0moffsets\u001b[0m\u001b[0;34m=\u001b[0m\u001b[0moffsets\u001b[0m\u001b[0;34m,\u001b[0m\u001b[0;34m\u001b[0m\u001b[0m\n\u001b[1;32m   4319\u001b[0m                 \u001b[0mtransOffset\u001b[0m\u001b[0;34m=\u001b[0m\u001b[0mkwargs\u001b[0m\u001b[0;34m.\u001b[0m\u001b[0mpop\u001b[0m\u001b[0;34m(\u001b[0m\u001b[0;34m'transform'\u001b[0m\u001b[0;34m,\u001b[0m \u001b[0mself\u001b[0m\u001b[0;34m.\u001b[0m\u001b[0mtransData\u001b[0m\u001b[0;34m)\u001b[0m\u001b[0;34m,\u001b[0m\u001b[0;34m\u001b[0m\u001b[0m\n\u001b[0;32m-> 4320\u001b[0;31m                 \u001b[0malpha\u001b[0m\u001b[0;34m=\u001b[0m\u001b[0malpha\u001b[0m\u001b[0;34m\u001b[0m\u001b[0m\n\u001b[0m\u001b[1;32m   4321\u001b[0m                 )\n\u001b[1;32m   4322\u001b[0m         \u001b[0mcollection\u001b[0m\u001b[0;34m.\u001b[0m\u001b[0mset_transform\u001b[0m\u001b[0;34m(\u001b[0m\u001b[0mmtransforms\u001b[0m\u001b[0;34m.\u001b[0m\u001b[0mIdentityTransform\u001b[0m\u001b[0;34m(\u001b[0m\u001b[0;34m)\u001b[0m\u001b[0;34m)\u001b[0m\u001b[0;34m\u001b[0m\u001b[0m\n",
      "\u001b[0;32m/anaconda3/lib/python3.6/site-packages/matplotlib/collections.py\u001b[0m in \u001b[0;36m__init__\u001b[0;34m(self, paths, sizes, **kwargs)\u001b[0m\n\u001b[1;32m    925\u001b[0m         \"\"\"\n\u001b[1;32m    926\u001b[0m \u001b[0;34m\u001b[0m\u001b[0m\n\u001b[0;32m--> 927\u001b[0;31m         \u001b[0mCollection\u001b[0m\u001b[0;34m.\u001b[0m\u001b[0m__init__\u001b[0m\u001b[0;34m(\u001b[0m\u001b[0mself\u001b[0m\u001b[0;34m,\u001b[0m \u001b[0;34m**\u001b[0m\u001b[0mkwargs\u001b[0m\u001b[0;34m)\u001b[0m\u001b[0;34m\u001b[0m\u001b[0m\n\u001b[0m\u001b[1;32m    928\u001b[0m         \u001b[0mself\u001b[0m\u001b[0;34m.\u001b[0m\u001b[0mset_paths\u001b[0m\u001b[0;34m(\u001b[0m\u001b[0mpaths\u001b[0m\u001b[0;34m)\u001b[0m\u001b[0;34m\u001b[0m\u001b[0m\n\u001b[1;32m    929\u001b[0m         \u001b[0mself\u001b[0m\u001b[0;34m.\u001b[0m\u001b[0mset_sizes\u001b[0m\u001b[0;34m(\u001b[0m\u001b[0msizes\u001b[0m\u001b[0;34m)\u001b[0m\u001b[0;34m\u001b[0m\u001b[0m\n",
      "\u001b[0;32m/anaconda3/lib/python3.6/site-packages/matplotlib/collections.py\u001b[0m in \u001b[0;36m__init__\u001b[0;34m(self, edgecolors, facecolors, linewidths, linestyles, capstyle, joinstyle, antialiaseds, offsets, transOffset, norm, cmap, pickradius, hatch, urls, offset_position, zorder, **kwargs)\u001b[0m\n\u001b[1;32m    157\u001b[0m         \u001b[0mself\u001b[0m\u001b[0;34m.\u001b[0m\u001b[0m_uniform_offsets\u001b[0m \u001b[0;34m=\u001b[0m \u001b[0;32mNone\u001b[0m\u001b[0;34m\u001b[0m\u001b[0m\n\u001b[1;32m    158\u001b[0m         \u001b[0;32mif\u001b[0m \u001b[0moffsets\u001b[0m \u001b[0;32mis\u001b[0m \u001b[0;32mnot\u001b[0m \u001b[0;32mNone\u001b[0m\u001b[0;34m:\u001b[0m\u001b[0;34m\u001b[0m\u001b[0m\n\u001b[0;32m--> 159\u001b[0;31m             \u001b[0moffsets\u001b[0m \u001b[0;34m=\u001b[0m \u001b[0mnp\u001b[0m\u001b[0;34m.\u001b[0m\u001b[0masanyarray\u001b[0m\u001b[0;34m(\u001b[0m\u001b[0moffsets\u001b[0m\u001b[0;34m,\u001b[0m \u001b[0mfloat\u001b[0m\u001b[0;34m)\u001b[0m\u001b[0;34m\u001b[0m\u001b[0m\n\u001b[0m\u001b[1;32m    160\u001b[0m             \u001b[0;31m# Broadcast (2,) -> (1, 2) but nothing else.\u001b[0m\u001b[0;34m\u001b[0m\u001b[0;34m\u001b[0m\u001b[0m\n\u001b[1;32m    161\u001b[0m             \u001b[0;32mif\u001b[0m \u001b[0moffsets\u001b[0m\u001b[0;34m.\u001b[0m\u001b[0mshape\u001b[0m \u001b[0;34m==\u001b[0m \u001b[0;34m(\u001b[0m\u001b[0;36m2\u001b[0m\u001b[0;34m,\u001b[0m\u001b[0;34m)\u001b[0m\u001b[0;34m:\u001b[0m\u001b[0;34m\u001b[0m\u001b[0m\n",
      "\u001b[0;32m/anaconda3/lib/python3.6/site-packages/numpy/core/numeric.py\u001b[0m in \u001b[0;36masanyarray\u001b[0;34m(a, dtype, order)\u001b[0m\n\u001b[1;32m    542\u001b[0m \u001b[0;34m\u001b[0m\u001b[0m\n\u001b[1;32m    543\u001b[0m     \"\"\"\n\u001b[0;32m--> 544\u001b[0;31m     \u001b[0;32mreturn\u001b[0m \u001b[0marray\u001b[0m\u001b[0;34m(\u001b[0m\u001b[0ma\u001b[0m\u001b[0;34m,\u001b[0m \u001b[0mdtype\u001b[0m\u001b[0;34m,\u001b[0m \u001b[0mcopy\u001b[0m\u001b[0;34m=\u001b[0m\u001b[0;32mFalse\u001b[0m\u001b[0;34m,\u001b[0m \u001b[0morder\u001b[0m\u001b[0;34m=\u001b[0m\u001b[0morder\u001b[0m\u001b[0;34m,\u001b[0m \u001b[0msubok\u001b[0m\u001b[0;34m=\u001b[0m\u001b[0;32mTrue\u001b[0m\u001b[0;34m)\u001b[0m\u001b[0;34m\u001b[0m\u001b[0m\n\u001b[0m\u001b[1;32m    545\u001b[0m \u001b[0;34m\u001b[0m\u001b[0m\n\u001b[1;32m    546\u001b[0m \u001b[0;34m\u001b[0m\u001b[0m\n",
      "\u001b[0;31mTypeError\u001b[0m: float() argument must be a string or a number, not 'method'"
     ]
    },
    {
     "data": {
      "image/png": "[encoded data removed]",
      "text/plain": [
       "<Figure size 432x288 with 1 Axes>"
      ]
     },
     "metadata": {},
     "output_type": "display_data"
    }
   ],
   "source": [
    "#sns.scatterplot(x=caca.dates_for_plot, y=caca.count)"
   ]
  },
  {
   "cell_type": "code",
   "execution_count": 126,
   "metadata": {},
   "outputs": [
    {
     "data": {
      "text/plain": [
       "<matplotlib.axes._subplots.AxesSubplot at 0x1a160e94a8>"
      ]
     },
     "execution_count": 126,
     "metadata": {},
     "output_type": "execute_result"
    },
    {
     "data": {
      "image/png": "[encoded data removed]",
      "text/plain": [
       "<Figure size 432x288 with 1 Axes>"
      ]
     },
     "metadata": {},
     "output_type": "display_data"
    }
   ],
   "source": [
    "\n",
    "sns.scatterplot(x=objects_along_time['dates_for_plot'].loc[objects_along_time['clean_subject'] == 'environment'], y=objects_along_time['count'].loc[objects_along_time['clean_subject'] == 'environment'])"
   ]
  },
  {
   "cell_type": "markdown",
   "metadata": {},
   "source": [
    "## Plot on which weekday people lie"
   ]
  },
  {
   "cell_type": "code",
   "execution_count": 42,
   "metadata": {},
   "outputs": [
    {
     "data": {
      "text/plain": [
       "['author_name_slug',\n",
       " 'context',\n",
       " 'label',\n",
       " 'ruling_date',\n",
       " 'speaker_current_job',\n",
       " 'speaker_first_name',\n",
       " 'speaker_home_state',\n",
       " 'speaker_last_name',\n",
       " 'statement',\n",
       " 'statement_date',\n",
       " 'statement_id',\n",
       " 'statement_type',\n",
       " 'statement_type_description',\n",
       " 'subject',\n",
       " 'clean_context',\n",
       " 'clean_subject']"
      ]
     },
     "execution_count": 42,
     "metadata": {},
     "output_type": "execute_result"
    }
   ],
   "source": [
    "list(statements)"
   ]
  },
  {
   "cell_type": "code",
   "execution_count": null,
   "metadata": {},
   "outputs": [],
   "source": [
    "statements['ruling_date'].dtypes"
   ]
  },
  {
   "cell_type": "markdown",
   "metadata": {},
   "source": [
    "It is an object, Ok, so where are the days of the week in there????"
   ]
  },
  {
   "cell_type": "code",
   "execution_count": null,
   "metadata": {},
   "outputs": [],
   "source": [
    "statements.ruling_date"
   ]
  },
  {
   "cell_type": "code",
   "execution_count": null,
   "metadata": {},
   "outputs": [],
   "source": [
    "import calendar\n",
    "\n",
    "c = calendar.HTMLCalendar(calendar.SUNDAY)\n",
    "print c.formatmonth(2007, 7)"
   ]
  },
  {
   "cell_type": "code",
   "execution_count": null,
   "metadata": {},
   "outputs": [],
   "source": [
    "import calendar\n",
    "\n",
    "c = calendar.TextCalendar(calendar.SUNDAY)\n",
    "for i in (1, 2, 3):\n",
    "    c.prmonth(2007, i)"
   ]
  },
  {
   "cell_type": "code",
   "execution_count": null,
   "metadata": {},
   "outputs": [],
   "source": []
  },
  {
   "cell_type": "markdown",
   "metadata": {
    "heading_collapsed": true
   },
   "source": [
    "## Source of dataset"
   ]
  },
  {
   "cell_type": "markdown",
   "metadata": {
    "hidden": true
   },
   "source": [
    "[politifact](https://www.politifact.com)"
   ]
  },
  {
   "cell_type": "code",
   "execution_count": 73,
   "metadata": {
    "hidden": true
   },
   "outputs": [
    {
     "data": {
      "text/plain": [
       "['author_name_slug',\n",
       " 'context',\n",
       " 'label',\n",
       " 'ruling_date',\n",
       " 'speaker_current_job',\n",
       " 'speaker_first_name',\n",
       " 'speaker_home_state',\n",
       " 'speaker_last_name',\n",
       " 'statement',\n",
       " 'statement_date',\n",
       " 'statement_id',\n",
       " 'statement_type',\n",
       " 'statement_type_description',\n",
       " 'subject',\n",
       " 'clean_context',\n",
       " 'clean_subject']"
      ]
     },
     "execution_count": 73,
     "metadata": {},
     "output_type": "execute_result"
    }
   ],
   "source": [
    "list(statements)"
   ]
  },
  {
   "cell_type": "markdown",
   "metadata": {
    "heading_collapsed": true
   },
   "source": [
    "## Author bias"
   ]
  },
  {
   "cell_type": "code",
   "execution_count": 77,
   "metadata": {
    "hidden": true
   },
   "outputs": [],
   "source": [
    "cacablop = group_and_count(statements, 'author_name_slug')"
   ]
  },
  {
   "cell_type": "code",
   "execution_count": 79,
   "metadata": {
    "hidden": true
   },
   "outputs": [
    {
     "data": {
      "text/html": [
       "<div>\n",
       "<style scoped>\n",
       "    .dataframe tbody tr th:only-of-type {\n",
       "        vertical-align: middle;\n",
       "    }\n",
       "\n",
       "    .dataframe tbody tr th {\n",
       "        vertical-align: top;\n",
       "    }\n",
       "\n",
       "    .dataframe thead th {\n",
       "        text-align: right;\n",
       "    }\n",
       "</style>\n",
       "<table border=\"1\" class=\"dataframe\">\n",
       "  <thead>\n",
       "    <tr style=\"text-align: right;\">\n",
       "      <th></th>\n",
       "      <th>author_name_slug</th>\n",
       "      <th>count</th>\n",
       "    </tr>\n",
       "  </thead>\n",
       "  <tbody>\n",
       "    <tr>\n",
       "      <th>0</th>\n",
       "      <td>louis-jacobson</td>\n",
       "      <td>1587</td>\n",
       "    </tr>\n",
       "    <tr>\n",
       "      <th>1</th>\n",
       "      <td>w-gardner-selby</td>\n",
       "      <td>899</td>\n",
       "    </tr>\n",
       "    <tr>\n",
       "      <th>2</th>\n",
       "      <td>jon-greenberg</td>\n",
       "      <td>719</td>\n",
       "    </tr>\n",
       "    <tr>\n",
       "      <th>3</th>\n",
       "      <td>amy-sherman</td>\n",
       "      <td>719</td>\n",
       "    </tr>\n",
       "    <tr>\n",
       "      <th>4</th>\n",
       "      <td>tom-kertscher</td>\n",
       "      <td>709</td>\n",
       "    </tr>\n",
       "    <tr>\n",
       "      <th>5</th>\n",
       "      <td>angie-drobnic-holan</td>\n",
       "      <td>603</td>\n",
       "    </tr>\n",
       "    <tr>\n",
       "      <th>6</th>\n",
       "      <td>robert-farley</td>\n",
       "      <td>446</td>\n",
       "    </tr>\n",
       "    <tr>\n",
       "      <th>7</th>\n",
       "      <td>c-eugene-emery</td>\n",
       "      <td>399</td>\n",
       "    </tr>\n",
       "    <tr>\n",
       "      <th>8</th>\n",
       "      <td>joshua-gillin</td>\n",
       "      <td>396</td>\n",
       "    </tr>\n",
       "    <tr>\n",
       "      <th>9</th>\n",
       "      <td>dave-umhoefer</td>\n",
       "      <td>358</td>\n",
       "    </tr>\n",
       "  </tbody>\n",
       "</table>\n",
       "</div>"
      ],
      "text/plain": [
       "      author_name_slug  count\n",
       "0       louis-jacobson   1587\n",
       "1      w-gardner-selby    899\n",
       "2        jon-greenberg    719\n",
       "3          amy-sherman    719\n",
       "4        tom-kertscher    709\n",
       "5  angie-drobnic-holan    603\n",
       "6        robert-farley    446\n",
       "7       c-eugene-emery    399\n",
       "8        joshua-gillin    396\n",
       "9        dave-umhoefer    358"
      ]
     },
     "execution_count": 79,
     "metadata": {},
     "output_type": "execute_result"
    }
   ],
   "source": [
    "cacablop.head(10)"
   ]
  },
  {
   "cell_type": "code",
   "execution_count": 85,
   "metadata": {
    "hidden": true
   },
   "outputs": [
    {
     "data": {
      "text/plain": [
       "<matplotlib.axes._subplots.AxesSubplot at 0x1086974a8>"
      ]
     },
     "execution_count": 85,
     "metadata": {},
     "output_type": "execute_result"
    }
   ],
   "source": [
    "cacablop.plot.scatter()"
   ]
  },
  {
   "cell_type": "code",
   "execution_count": null,
   "metadata": {
    "hidden": true
   },
   "outputs": [],
   "source": []
  }
 ],
 "metadata": {
  "hide_input": false,
  "kernelspec": {
   "display_name": "Python 3",
   "language": "python",
   "name": "python3"
  },
  "language_info": {
   "codemirror_mode": {
    "name": "ipython",
    "version": 3
   },
   "file_extension": ".py",
   "mimetype": "text/x-python",
   "name": "python",
   "nbconvert_exporter": "python",
   "pygments_lexer": "ipython3",
   "version": "3.6.5"
  },
  "toc": {
   "base_numbering": 1,
   "nav_menu": {
    "height": "49.1333px",
    "width": "252px"
   },
   "number_sections": true,
   "sideBar": true,
   "skip_h1_title": false,
   "title_cell": "Table of Contents",
   "title_sidebar": "Contents",
   "toc_cell": false,
   "toc_position": {},
   "toc_section_display": "block",
   "toc_window_display": false
  }
 },
 "nbformat": 4,
 "nbformat_minor": 2
}
