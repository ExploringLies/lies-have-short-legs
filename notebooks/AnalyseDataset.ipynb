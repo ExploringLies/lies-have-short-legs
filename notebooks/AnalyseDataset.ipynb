{
 "cells": [
  {
   "cell_type": "markdown",
   "metadata": {},
   "source": [
    "# Analysing Dataset"
   ]
  },
  {
   "cell_type": "code",
   "execution_count": 2,
   "metadata": {
    "ExecuteTime": {
     "end_time": "2018-12-13T16:22:16.844191Z",
     "start_time": "2018-12-13T16:22:16.823986Z"
    }
   },
   "outputs": [
    {
     "data": {
      "text/html": [
       "<style>.container { width:95% !important; }</style>"
      ],
      "text/plain": [
       "<IPython.core.display.HTML object>"
      ]
     },
     "metadata": {},
     "output_type": "display_data"
    }
   ],
   "source": [
    "def fix_layout(width:int=95):\n",
    "    from IPython.core.display import display, HTML\n",
    "    display(HTML('<style>.container { width:' + str(width) + '% !important; }</style>'))\n",
    "    \n",
    "fix_layout()"
   ]
  },
  {
   "cell_type": "markdown",
   "metadata": {},
   "source": [
    "This notebook is dedicated to datasets analysis. \n",
    "\n",
    "Here we will concentrate on connecting our datasets into one dataframe that will later be used to extract meaningful information that can help us answer our research questions. \n",
    "\n",
    "In addition, data cleaning is performed where necessary since we will not use all the data provided. The goal of this notebook is to make data as easy as possible to use for future plotting and data story writing.\n",
    "\n",
    "So, let's dive into our data!"
   ]
  },
  {
   "cell_type": "code",
   "execution_count": 3,
   "metadata": {
    "ExecuteTime": {
     "end_time": "2018-12-13T17:32:43.676648Z",
     "start_time": "2018-12-13T17:32:43.666025Z"
    }
   },
   "outputs": [
    {
     "data": {
      "text/plain": [
       "<module 'utils.statement_handling' from '../src/utils/statement_handling.py'>"
      ]
     },
     "execution_count": 3,
     "metadata": {},
     "output_type": "execute_result"
    }
   ],
   "source": [
    "import os\n",
    "import re\n",
    "import json\n",
    "import time\n",
    "import datetime\n",
    "from functools import reduce\n",
    "from itertools import product\n",
    "\n",
    "from json import load, JSONDecodeError\n",
    "from functional import pseq, seq\n",
    "import pandas as pd\n",
    "import pandas_profiling\n",
    "import requests\n",
    "import pathlib\n",
    "\n",
    "# necessary to load the utils, which are in src\n",
    "import sys\n",
    "sys.path.append('../src')\n",
    "\n",
    "from utils import file, logging\n",
    "from utils.statement_handling import extract_information, safe_json_read\n",
    "\n",
    "from importlib import reload\n",
    "\n",
    "import utils.statement_handling as SH\n",
    "reload(SH)"
   ]
  },
  {
   "cell_type": "code",
   "execution_count": 4,
   "metadata": {
    "ExecuteTime": {
     "end_time": "2018-12-13T16:22:20.508943Z",
     "start_time": "2018-12-13T16:22:20.503617Z"
    }
   },
   "outputs": [],
   "source": [
    "def group_and_count(df, groupby_column, with_pct=False, with_avg=False):\n",
    "    result = df.groupby(groupby_column).size().sort_values(ascending=False).reset_index().rename(columns={0: 'count'})\n",
    "    if with_pct:\n",
    "        result['count_pct'] = result['count'] / result['count'].sum()\n",
    "    if with_avg:\n",
    "        result['count_avg'] = result['count'].mean()\n",
    "    return result"
   ]
  },
  {
   "cell_type": "code",
   "execution_count": 5,
   "metadata": {
    "ExecuteTime": {
     "end_time": "2018-12-13T16:22:22.023282Z",
     "start_time": "2018-12-13T16:22:22.016409Z"
    }
   },
   "outputs": [],
   "source": [
    "directory_liar_dataset = \"../data/liar_dataset\"\n",
    "directory_statements = f\"{directory_liar_dataset}/statements\"\n",
    "directory_visualizations = \"../docs/data_insight\"\n",
    "directory_election_results = \"../data/election_results\"\n",
    "directory_county_data = \"../data/county_data\""
   ]
  },
  {
   "cell_type": "markdown",
   "metadata": {},
   "source": [
    "# LIAR Dataset"
   ]
  },
  {
   "cell_type": "markdown",
   "metadata": {},
   "source": [
    "This is just the LIAR dataset:"
   ]
  },
  {
   "cell_type": "code",
   "execution_count": 6,
   "metadata": {
    "ExecuteTime": {
     "end_time": "2018-12-13T16:57:40.678636Z",
     "start_time": "2018-12-13T16:57:37.652081Z"
    }
   },
   "outputs": [
    {
     "name": "stderr",
     "output_type": "stream",
     "text": [
      "ERROR:root:File ../data/liar_dataset/statements/5355.json is empty or something...\n",
      "ERROR:root:File ../data/liar_dataset/statements/9.json is empty or something...\n"
     ]
    },
    {
     "data": {
      "text/html": [
       "<div>\n",
       "<style scoped>\n",
       "    .dataframe tbody tr th:only-of-type {\n",
       "        vertical-align: middle;\n",
       "    }\n",
       "\n",
       "    .dataframe tbody tr th {\n",
       "        vertical-align: top;\n",
       "    }\n",
       "\n",
       "    .dataframe thead th {\n",
       "        text-align: right;\n",
       "    }\n",
       "</style>\n",
       "<table border=\"1\" class=\"dataframe\">\n",
       "  <thead>\n",
       "    <tr style=\"text-align: right;\">\n",
       "      <th></th>\n",
       "      <th>author_name_slug</th>\n",
       "      <th>context</th>\n",
       "      <th>label</th>\n",
       "      <th>ruling_date</th>\n",
       "      <th>speaker_current_job</th>\n",
       "      <th>speaker_first_name</th>\n",
       "      <th>speaker_home_state</th>\n",
       "      <th>speaker_last_name</th>\n",
       "      <th>statement</th>\n",
       "      <th>statement_date</th>\n",
       "      <th>statement_id</th>\n",
       "      <th>statement_type</th>\n",
       "      <th>statement_type_description</th>\n",
       "      <th>subject</th>\n",
       "    </tr>\n",
       "  </thead>\n",
       "  <tbody>\n",
       "    <tr>\n",
       "      <th>3511</th>\n",
       "      <td>jacob-geiger</td>\n",
       "      <td>a House floor speech.</td>\n",
       "      <td>true</td>\n",
       "      <td>2011-03-05T08:00:24</td>\n",
       "      <td>Minority leader, House of Delegates</td>\n",
       "      <td>Ward</td>\n",
       "      <td>Virginia</td>\n",
       "      <td>Armstrong</td>\n",
       "      <td>A telephone company will no longer have to pro...</td>\n",
       "      <td>2011-03-21</td>\n",
       "      <td>3366</td>\n",
       "      <td>Claim</td>\n",
       "      <td>blog post</td>\n",
       "      <td>Regulation</td>\n",
       "    </tr>\n",
       "    <tr>\n",
       "      <th>13094</th>\n",
       "      <td>joshua-gillin</td>\n",
       "      <td>a Florida House judiciary committee hearing</td>\n",
       "      <td>false</td>\n",
       "      <td>2015-04-06T17:45:22</td>\n",
       "      <td>Sarasota state representative, District 73</td>\n",
       "      <td>Greg</td>\n",
       "      <td>Florida</td>\n",
       "      <td>Steube</td>\n",
       "      <td>You know how many children in the history of t...</td>\n",
       "      <td>2015-04-02</td>\n",
       "      <td>10685</td>\n",
       "      <td>Claim</td>\n",
       "      <td>blog post</td>\n",
       "      <td>Education</td>\n",
       "    </tr>\n",
       "    <tr>\n",
       "      <th>15304</th>\n",
       "      <td>tom-kertscher</td>\n",
       "      <td>a speech</td>\n",
       "      <td>half-true</td>\n",
       "      <td>2015-10-01T05:00:00</td>\n",
       "      <td>U.S. senator</td>\n",
       "      <td>Elizabeth</td>\n",
       "      <td>Massachusetts</td>\n",
       "      <td>Warren</td>\n",
       "      <td>Student loans from the federal government issu...</td>\n",
       "      <td>2015-09-26</td>\n",
       "      <td>11365</td>\n",
       "      <td>Claim</td>\n",
       "      <td>blog post</td>\n",
       "      <td>Debt</td>\n",
       "    </tr>\n",
       "    <tr>\n",
       "      <th>4914</th>\n",
       "      <td>louis-jacobson</td>\n",
       "      <td>the second presidential debate</td>\n",
       "      <td>mostly-true</td>\n",
       "      <td>2016-10-10T01:14:09</td>\n",
       "      <td>President</td>\n",
       "      <td>Donald</td>\n",
       "      <td>New York</td>\n",
       "      <td>Trump</td>\n",
       "      <td>We have an increase in murder within our citie...</td>\n",
       "      <td>2016-10-09</td>\n",
       "      <td>13234</td>\n",
       "      <td>Claim</td>\n",
       "      <td>blog post</td>\n",
       "      <td>Crime</td>\n",
       "    </tr>\n",
       "    <tr>\n",
       "      <th>9701</th>\n",
       "      <td>angie-drobnic-holan</td>\n",
       "      <td>a column</td>\n",
       "      <td>mostly-true</td>\n",
       "      <td>2009-06-24T09:57:25</td>\n",
       "      <td>New York Times columnist</td>\n",
       "      <td>Paul</td>\n",
       "      <td></td>\n",
       "      <td>Krugman</td>\n",
       "      <td>Even high estimates for an early draft of the ...</td>\n",
       "      <td>2009-06-22</td>\n",
       "      <td>1060</td>\n",
       "      <td>Claim</td>\n",
       "      <td>blog post</td>\n",
       "      <td>Economy</td>\n",
       "    </tr>\n",
       "    <tr>\n",
       "      <th>10592</th>\n",
       "      <td>louis-jacobson</td>\n",
       "      <td>a campaign ad</td>\n",
       "      <td>barely-true</td>\n",
       "      <td>2014-02-14T11:47:17</td>\n",
       "      <td></td>\n",
       "      <td></td>\n",
       "      <td></td>\n",
       "      <td>Patriot Majority USA</td>\n",
       "      <td>Says North Carolina Republican Senate candidat...</td>\n",
       "      <td>2014-02-12</td>\n",
       "      <td>8922</td>\n",
       "      <td>Claim</td>\n",
       "      <td>blog post</td>\n",
       "      <td>Federal Budget</td>\n",
       "    </tr>\n",
       "    <tr>\n",
       "      <th>8744</th>\n",
       "      <td>joshua-gillin</td>\n",
       "      <td>a headline</td>\n",
       "      <td>pants-fire</td>\n",
       "      <td>2017-04-06T10:00:00</td>\n",
       "      <td></td>\n",
       "      <td></td>\n",
       "      <td></td>\n",
       "      <td>Bloggers</td>\n",
       "      <td>Police find 19 white female bodies in freezers...</td>\n",
       "      <td>2016-07-20</td>\n",
       "      <td>13955</td>\n",
       "      <td>Claim</td>\n",
       "      <td>blog post</td>\n",
       "      <td>Fake news</td>\n",
       "    </tr>\n",
       "    <tr>\n",
       "      <th>3083</th>\n",
       "      <td>katie-akin</td>\n",
       "      <td>a campaign ad from his political committee Flo...</td>\n",
       "      <td>barely-true</td>\n",
       "      <td>2018-07-27T16:09:43</td>\n",
       "      <td>Florida Commissioner of Agriculture</td>\n",
       "      <td>Adam</td>\n",
       "      <td>Florida</td>\n",
       "      <td>Putnam</td>\n",
       "      <td>Congressman (Ron) DeSantis sponsored legislati...</td>\n",
       "      <td>2018-07-24</td>\n",
       "      <td>15666</td>\n",
       "      <td>Claim</td>\n",
       "      <td>blog post</td>\n",
       "      <td>Taxes</td>\n",
       "    </tr>\n",
       "    <tr>\n",
       "      <th>7637</th>\n",
       "      <td>jon-greenberg</td>\n",
       "      <td>a broadcast of \"Charlie Rose\"</td>\n",
       "      <td>true</td>\n",
       "      <td>2015-02-25T16:41:01</td>\n",
       "      <td></td>\n",
       "      <td>Michael</td>\n",
       "      <td></td>\n",
       "      <td>Morell</td>\n",
       "      <td>The potential Iran nuclear agreement would lim...</td>\n",
       "      <td>2015-02-18</td>\n",
       "      <td>10550</td>\n",
       "      <td>Claim</td>\n",
       "      <td>blog post</td>\n",
       "      <td>Foreign Policy</td>\n",
       "    </tr>\n",
       "    <tr>\n",
       "      <th>6059</th>\n",
       "      <td>nell-benton</td>\n",
       "      <td>a statement on his campaign Web site.</td>\n",
       "      <td>mostly-true</td>\n",
       "      <td>2007-09-17T00:00:00</td>\n",
       "      <td>U.S. representative</td>\n",
       "      <td>Ron</td>\n",
       "      <td>Texas</td>\n",
       "      <td>Paul</td>\n",
       "      <td>Congressman Paul introduces numerous pieces of...</td>\n",
       "      <td>2007-09-17</td>\n",
       "      <td>70</td>\n",
       "      <td>Claim</td>\n",
       "      <td>blog post</td>\n",
       "      <td>Job Accomplishments</td>\n",
       "    </tr>\n",
       "  </tbody>\n",
       "</table>\n",
       "</div>"
      ],
      "text/plain": [
       "          author_name_slug                                            context  \\\n",
       "3511          jacob-geiger                              a House floor speech.   \n",
       "13094        joshua-gillin        a Florida House judiciary committee hearing   \n",
       "15304        tom-kertscher                                           a speech   \n",
       "4914        louis-jacobson                     the second presidential debate   \n",
       "9701   angie-drobnic-holan                                           a column   \n",
       "10592       louis-jacobson                                      a campaign ad   \n",
       "8744         joshua-gillin                                         a headline   \n",
       "3083            katie-akin  a campaign ad from his political committee Flo...   \n",
       "7637         jon-greenberg                      a broadcast of \"Charlie Rose\"   \n",
       "6059           nell-benton              a statement on his campaign Web site.   \n",
       "\n",
       "             label          ruling_date  \\\n",
       "3511          true  2011-03-05T08:00:24   \n",
       "13094        false  2015-04-06T17:45:22   \n",
       "15304    half-true  2015-10-01T05:00:00   \n",
       "4914   mostly-true  2016-10-10T01:14:09   \n",
       "9701   mostly-true  2009-06-24T09:57:25   \n",
       "10592  barely-true  2014-02-14T11:47:17   \n",
       "8744    pants-fire  2017-04-06T10:00:00   \n",
       "3083   barely-true  2018-07-27T16:09:43   \n",
       "7637          true  2015-02-25T16:41:01   \n",
       "6059   mostly-true  2007-09-17T00:00:00   \n",
       "\n",
       "                              speaker_current_job speaker_first_name  \\\n",
       "3511          Minority leader, House of Delegates               Ward   \n",
       "13094  Sarasota state representative, District 73               Greg   \n",
       "15304                                U.S. senator          Elizabeth   \n",
       "4914                                    President             Donald   \n",
       "9701                     New York Times columnist               Paul   \n",
       "10592                                                                  \n",
       "8744                                                                   \n",
       "3083          Florida Commissioner of Agriculture               Adam   \n",
       "7637                                                         Michael   \n",
       "6059                          U.S. representative                Ron   \n",
       "\n",
       "      speaker_home_state     speaker_last_name  \\\n",
       "3511            Virginia             Armstrong   \n",
       "13094            Florida                Steube   \n",
       "15304     Massachusetts                 Warren   \n",
       "4914            New York                 Trump   \n",
       "9701                                   Krugman   \n",
       "10592                     Patriot Majority USA   \n",
       "8744                                  Bloggers   \n",
       "3083             Florida                Putnam   \n",
       "7637                                    Morell   \n",
       "6059               Texas                  Paul   \n",
       "\n",
       "                                               statement statement_date  \\\n",
       "3511   A telephone company will no longer have to pro...     2011-03-21   \n",
       "13094  You know how many children in the history of t...     2015-04-02   \n",
       "15304  Student loans from the federal government issu...     2015-09-26   \n",
       "4914   We have an increase in murder within our citie...     2016-10-09   \n",
       "9701   Even high estimates for an early draft of the ...     2009-06-22   \n",
       "10592  Says North Carolina Republican Senate candidat...     2014-02-12   \n",
       "8744   Police find 19 white female bodies in freezers...     2016-07-20   \n",
       "3083   Congressman (Ron) DeSantis sponsored legislati...     2018-07-24   \n",
       "7637   The potential Iran nuclear agreement would lim...     2015-02-18   \n",
       "6059   Congressman Paul introduces numerous pieces of...     2007-09-17   \n",
       "\n",
       "       statement_id statement_type statement_type_description  \\\n",
       "3511           3366          Claim                 blog post    \n",
       "13094         10685          Claim                 blog post    \n",
       "15304         11365          Claim                 blog post    \n",
       "4914          13234          Claim                 blog post    \n",
       "9701           1060          Claim                 blog post    \n",
       "10592          8922          Claim                 blog post    \n",
       "8744          13955          Claim                 blog post    \n",
       "3083          15666          Claim                 blog post    \n",
       "7637          10550          Claim                 blog post    \n",
       "6059             70          Claim                 blog post    \n",
       "\n",
       "                   subject  \n",
       "3511            Regulation  \n",
       "13094            Education  \n",
       "15304                 Debt  \n",
       "4914                 Crime  \n",
       "9701               Economy  \n",
       "10592       Federal Budget  \n",
       "8744             Fake news  \n",
       "3083                 Taxes  \n",
       "7637        Foreign Policy  \n",
       "6059   Job Accomplishments  "
      ]
     },
     "execution_count": 6,
     "metadata": {},
     "output_type": "execute_result"
    }
   ],
   "source": [
    "statements = seq(pathlib.Path(directory_statements).iterdir()).map(safe_json_read)\\\n",
    "                               .filter(lambda x: len(x) > 0)\\\n",
    "                               .map(extract_information)\\\n",
    "                               .to_pandas()\n",
    "\n",
    "statements['statement_date'] = pd.to_datetime(statements['statement_date'])\n",
    "statements.sample(10)"
   ]
  },
  {
   "cell_type": "code",
   "execution_count": 7,
   "metadata": {
    "ExecuteTime": {
     "end_time": "2018-12-13T16:57:46.633085Z",
     "start_time": "2018-12-13T16:57:46.629695Z"
    }
   },
   "outputs": [
    {
     "data": {
      "text/plain": [
       "646"
      ]
     },
     "execution_count": 7,
     "metadata": {},
     "output_type": "execute_result"
    }
   ],
   "source": [
    "statements['speaker_last_name'].eq('Trump').sum()"
   ]
  },
  {
   "cell_type": "code",
   "execution_count": 8,
   "metadata": {
    "ExecuteTime": {
     "end_time": "2018-12-13T16:58:00.916407Z",
     "start_time": "2018-12-13T16:58:00.895890Z"
    }
   },
   "outputs": [
    {
     "name": "stdout",
     "output_type": "stream",
     "text": [
      "The number of different context names is: 5828. That is much too many different contexts and lots of them appear only a few times. We thus need to regroup/reduce the number of contexts.\n"
     ]
    }
   ],
   "source": [
    "print('The number of different context names is: {}.\\\n",
    " That is much too many different contexts and lots of them appear only a few times.\\\n",
    " We thus need to regroup/reduce the number of contexts.'.format(group_and_count(statements, 'context').shape[0]))"
   ]
  },
  {
   "cell_type": "code",
   "execution_count": 9,
   "metadata": {
    "ExecuteTime": {
     "end_time": "2018-12-13T16:58:05.878502Z",
     "start_time": "2018-12-13T16:58:05.848183Z"
    }
   },
   "outputs": [
    {
     "data": {
      "text/html": [
       "<div>\n",
       "<style scoped>\n",
       "    .dataframe tbody tr th:only-of-type {\n",
       "        vertical-align: middle;\n",
       "    }\n",
       "\n",
       "    .dataframe tbody tr th {\n",
       "        vertical-align: top;\n",
       "    }\n",
       "\n",
       "    .dataframe thead th {\n",
       "        text-align: right;\n",
       "    }\n",
       "</style>\n",
       "<table border=\"1\" class=\"dataframe\">\n",
       "  <thead>\n",
       "    <tr style=\"text-align: right;\">\n",
       "      <th></th>\n",
       "      <th>context</th>\n",
       "      <th>count</th>\n",
       "    </tr>\n",
       "  </thead>\n",
       "  <tbody>\n",
       "    <tr>\n",
       "      <th>0</th>\n",
       "      <td>a tweet</td>\n",
       "      <td>471</td>\n",
       "    </tr>\n",
       "    <tr>\n",
       "      <th>1</th>\n",
       "      <td>an interview</td>\n",
       "      <td>380</td>\n",
       "    </tr>\n",
       "    <tr>\n",
       "      <th>2</th>\n",
       "      <td>a news release</td>\n",
       "      <td>329</td>\n",
       "    </tr>\n",
       "    <tr>\n",
       "      <th>3</th>\n",
       "      <td>a press release</td>\n",
       "      <td>325</td>\n",
       "    </tr>\n",
       "    <tr>\n",
       "      <th>4</th>\n",
       "      <td>a speech</td>\n",
       "      <td>319</td>\n",
       "    </tr>\n",
       "    <tr>\n",
       "      <th>5</th>\n",
       "      <td>a TV ad</td>\n",
       "      <td>275</td>\n",
       "    </tr>\n",
       "    <tr>\n",
       "      <th>6</th>\n",
       "      <td>a campaign ad</td>\n",
       "      <td>221</td>\n",
       "    </tr>\n",
       "    <tr>\n",
       "      <th>7</th>\n",
       "      <td>a headline</td>\n",
       "      <td>175</td>\n",
       "    </tr>\n",
       "    <tr>\n",
       "      <th>8</th>\n",
       "      <td>a television ad</td>\n",
       "      <td>168</td>\n",
       "    </tr>\n",
       "    <tr>\n",
       "      <th>9</th>\n",
       "      <td></td>\n",
       "      <td>166</td>\n",
       "    </tr>\n",
       "    <tr>\n",
       "      <th>10</th>\n",
       "      <td>a radio interview</td>\n",
       "      <td>158</td>\n",
       "    </tr>\n",
       "    <tr>\n",
       "      <th>11</th>\n",
       "      <td>a debate</td>\n",
       "      <td>148</td>\n",
       "    </tr>\n",
       "    <tr>\n",
       "      <th>12</th>\n",
       "      <td>a Facebook post</td>\n",
       "      <td>139</td>\n",
       "    </tr>\n",
       "    <tr>\n",
       "      <th>13</th>\n",
       "      <td>a blog post</td>\n",
       "      <td>133</td>\n",
       "    </tr>\n",
       "    <tr>\n",
       "      <th>14</th>\n",
       "      <td>a press conference</td>\n",
       "      <td>125</td>\n",
       "    </tr>\n",
       "    <tr>\n",
       "      <th>15</th>\n",
       "      <td>a news conference</td>\n",
       "      <td>118</td>\n",
       "    </tr>\n",
       "    <tr>\n",
       "      <th>16</th>\n",
       "      <td>a campaign commercial</td>\n",
       "      <td>93</td>\n",
       "    </tr>\n",
       "    <tr>\n",
       "      <th>17</th>\n",
       "      <td>a television interview</td>\n",
       "      <td>90</td>\n",
       "    </tr>\n",
       "    <tr>\n",
       "      <th>18</th>\n",
       "      <td>a TV interview</td>\n",
       "      <td>76</td>\n",
       "    </tr>\n",
       "    <tr>\n",
       "      <th>19</th>\n",
       "      <td>a speech.</td>\n",
       "      <td>73</td>\n",
       "    </tr>\n",
       "    <tr>\n",
       "      <th>20</th>\n",
       "      <td>an ad</td>\n",
       "      <td>66</td>\n",
       "    </tr>\n",
       "    <tr>\n",
       "      <th>21</th>\n",
       "      <td>a radio ad</td>\n",
       "      <td>64</td>\n",
       "    </tr>\n",
       "    <tr>\n",
       "      <th>22</th>\n",
       "      <td>a TV ad.</td>\n",
       "      <td>62</td>\n",
       "    </tr>\n",
       "    <tr>\n",
       "      <th>23</th>\n",
       "      <td>a press release.</td>\n",
       "      <td>59</td>\n",
       "    </tr>\n",
       "    <tr>\n",
       "      <th>24</th>\n",
       "      <td>an interview on CNN</td>\n",
       "      <td>55</td>\n",
       "    </tr>\n",
       "    <tr>\n",
       "      <th>25</th>\n",
       "      <td>a post on Facebook</td>\n",
       "      <td>54</td>\n",
       "    </tr>\n",
       "    <tr>\n",
       "      <th>26</th>\n",
       "      <td>an interview on Fox News</td>\n",
       "      <td>53</td>\n",
       "    </tr>\n",
       "    <tr>\n",
       "      <th>27</th>\n",
       "      <td>a chain e-mail</td>\n",
       "      <td>52</td>\n",
       "    </tr>\n",
       "    <tr>\n",
       "      <th>28</th>\n",
       "      <td>an interview.</td>\n",
       "      <td>51</td>\n",
       "    </tr>\n",
       "    <tr>\n",
       "      <th>29</th>\n",
       "      <td>a campaign mailer</td>\n",
       "      <td>50</td>\n",
       "    </tr>\n",
       "    <tr>\n",
       "      <th>...</th>\n",
       "      <td>...</td>\n",
       "      <td>...</td>\n",
       "    </tr>\n",
       "    <tr>\n",
       "      <th>70</th>\n",
       "      <td>ABC's \"This Week\"</td>\n",
       "      <td>23</td>\n",
       "    </tr>\n",
       "    <tr>\n",
       "      <th>71</th>\n",
       "      <td>an interview on ABC's \"This Week\"</td>\n",
       "      <td>23</td>\n",
       "    </tr>\n",
       "    <tr>\n",
       "      <th>72</th>\n",
       "      <td>a news conference.</td>\n",
       "      <td>22</td>\n",
       "    </tr>\n",
       "    <tr>\n",
       "      <th>73</th>\n",
       "      <td>in a blog post</td>\n",
       "      <td>22</td>\n",
       "    </tr>\n",
       "    <tr>\n",
       "      <th>74</th>\n",
       "      <td>a Twitter post</td>\n",
       "      <td>21</td>\n",
       "    </tr>\n",
       "    <tr>\n",
       "      <th>75</th>\n",
       "      <td>the second presidential debate</td>\n",
       "      <td>21</td>\n",
       "    </tr>\n",
       "    <tr>\n",
       "      <th>76</th>\n",
       "      <td>comments on NBC's \"Meet the Press\"</td>\n",
       "      <td>21</td>\n",
       "    </tr>\n",
       "    <tr>\n",
       "      <th>77</th>\n",
       "      <td>a newspaper column</td>\n",
       "      <td>21</td>\n",
       "    </tr>\n",
       "    <tr>\n",
       "      <th>78</th>\n",
       "      <td>an e-mail</td>\n",
       "      <td>20</td>\n",
       "    </tr>\n",
       "    <tr>\n",
       "      <th>79</th>\n",
       "      <td>a campaign mailer.</td>\n",
       "      <td>20</td>\n",
       "    </tr>\n",
       "    <tr>\n",
       "      <th>80</th>\n",
       "      <td>a House floor speech</td>\n",
       "      <td>20</td>\n",
       "    </tr>\n",
       "    <tr>\n",
       "      <th>81</th>\n",
       "      <td>in a tweet</td>\n",
       "      <td>19</td>\n",
       "    </tr>\n",
       "    <tr>\n",
       "      <th>82</th>\n",
       "      <td>an advertisement</td>\n",
       "      <td>19</td>\n",
       "    </tr>\n",
       "    <tr>\n",
       "      <th>83</th>\n",
       "      <td>a speech on the Senate floor</td>\n",
       "      <td>19</td>\n",
       "    </tr>\n",
       "    <tr>\n",
       "      <th>84</th>\n",
       "      <td>a campaign website</td>\n",
       "      <td>19</td>\n",
       "    </tr>\n",
       "    <tr>\n",
       "      <th>85</th>\n",
       "      <td>a fundraising email</td>\n",
       "      <td>18</td>\n",
       "    </tr>\n",
       "    <tr>\n",
       "      <th>86</th>\n",
       "      <td>a video ad</td>\n",
       "      <td>18</td>\n",
       "    </tr>\n",
       "    <tr>\n",
       "      <th>87</th>\n",
       "      <td>comments on \"Meet the Press\"</td>\n",
       "      <td>18</td>\n",
       "    </tr>\n",
       "    <tr>\n",
       "      <th>88</th>\n",
       "      <td>a YouTube video</td>\n",
       "      <td>18</td>\n",
       "    </tr>\n",
       "    <tr>\n",
       "      <th>89</th>\n",
       "      <td>in a press release</td>\n",
       "      <td>18</td>\n",
       "    </tr>\n",
       "    <tr>\n",
       "      <th>90</th>\n",
       "      <td>a column</td>\n",
       "      <td>18</td>\n",
       "    </tr>\n",
       "    <tr>\n",
       "      <th>91</th>\n",
       "      <td>an opinion column</td>\n",
       "      <td>17</td>\n",
       "    </tr>\n",
       "    <tr>\n",
       "      <th>92</th>\n",
       "      <td>an interview on MSNBC's \"Morning Joe\"</td>\n",
       "      <td>17</td>\n",
       "    </tr>\n",
       "    <tr>\n",
       "      <th>93</th>\n",
       "      <td>a statement.</td>\n",
       "      <td>17</td>\n",
       "    </tr>\n",
       "    <tr>\n",
       "      <th>94</th>\n",
       "      <td>an interview with Fox News</td>\n",
       "      <td>17</td>\n",
       "    </tr>\n",
       "    <tr>\n",
       "      <th>95</th>\n",
       "      <td>a campaign email</td>\n",
       "      <td>17</td>\n",
       "    </tr>\n",
       "    <tr>\n",
       "      <th>96</th>\n",
       "      <td>a fundraising letter</td>\n",
       "      <td>17</td>\n",
       "    </tr>\n",
       "    <tr>\n",
       "      <th>97</th>\n",
       "      <td>an interview on CNN's \"State of the Union\"</td>\n",
       "      <td>16</td>\n",
       "    </tr>\n",
       "    <tr>\n",
       "      <th>98</th>\n",
       "      <td>a floor speech.</td>\n",
       "      <td>16</td>\n",
       "    </tr>\n",
       "    <tr>\n",
       "      <th>99</th>\n",
       "      <td>a tweet.</td>\n",
       "      <td>16</td>\n",
       "    </tr>\n",
       "  </tbody>\n",
       "</table>\n",
       "<p>100 rows × 2 columns</p>\n",
       "</div>"
      ],
      "text/plain": [
       "                                       context  count\n",
       "0                                      a tweet    471\n",
       "1                                 an interview    380\n",
       "2                               a news release    329\n",
       "3                              a press release    325\n",
       "4                                     a speech    319\n",
       "5                                      a TV ad    275\n",
       "6                                a campaign ad    221\n",
       "7                                   a headline    175\n",
       "8                              a television ad    168\n",
       "9                                                 166\n",
       "10                           a radio interview    158\n",
       "11                                    a debate    148\n",
       "12                             a Facebook post    139\n",
       "13                                 a blog post    133\n",
       "14                          a press conference    125\n",
       "15                           a news conference    118\n",
       "16                       a campaign commercial     93\n",
       "17                      a television interview     90\n",
       "18                              a TV interview     76\n",
       "19                                   a speech.     73\n",
       "20                                       an ad     66\n",
       "21                                  a radio ad     64\n",
       "22                                    a TV ad.     62\n",
       "23                            a press release.     59\n",
       "24                         an interview on CNN     55\n",
       "25                          a post on Facebook     54\n",
       "26                    an interview on Fox News     53\n",
       "27                              a chain e-mail     52\n",
       "28                               an interview.     51\n",
       "29                           a campaign mailer     50\n",
       "..                                         ...    ...\n",
       "70                           ABC's \"This Week\"     23\n",
       "71           an interview on ABC's \"This Week\"     23\n",
       "72                          a news conference.     22\n",
       "73                              in a blog post     22\n",
       "74                              a Twitter post     21\n",
       "75              the second presidential debate     21\n",
       "76          comments on NBC's \"Meet the Press\"     21\n",
       "77                          a newspaper column     21\n",
       "78                                   an e-mail     20\n",
       "79                          a campaign mailer.     20\n",
       "80                        a House floor speech     20\n",
       "81                                  in a tweet     19\n",
       "82                            an advertisement     19\n",
       "83                a speech on the Senate floor     19\n",
       "84                          a campaign website     19\n",
       "85                         a fundraising email     18\n",
       "86                                  a video ad     18\n",
       "87                comments on \"Meet the Press\"     18\n",
       "88                             a YouTube video     18\n",
       "89                          in a press release     18\n",
       "90                                    a column     18\n",
       "91                           an opinion column     17\n",
       "92       an interview on MSNBC's \"Morning Joe\"     17\n",
       "93                                a statement.     17\n",
       "94                  an interview with Fox News     17\n",
       "95                            a campaign email     17\n",
       "96                        a fundraising letter     17\n",
       "97  an interview on CNN's \"State of the Union\"     16\n",
       "98                             a floor speech.     16\n",
       "99                                    a tweet.     16\n",
       "\n",
       "[100 rows x 2 columns]"
      ]
     },
     "execution_count": 9,
     "metadata": {},
     "output_type": "execute_result"
    }
   ],
   "source": [
    "group_and_count(statements, 'context').head(100)"
   ]
  },
  {
   "cell_type": "markdown",
   "metadata": {},
   "source": [
    "So how to regroup all these or part of these?\n",
    "We can use the mean of communication for example:\n",
    "radio/tv/facebook/twitter/internet\n",
    "and these classes can have overlap..."
   ]
  },
  {
   "cell_type": "code",
   "execution_count": 10,
   "metadata": {
    "ExecuteTime": {
     "end_time": "2018-12-13T17:32:29.773868Z",
     "start_time": "2018-12-13T17:32:29.661428Z"
    }
   },
   "outputs": [],
   "source": [
    "statements['clean_context'] = statements['context'].apply(SH.clean_up_context)"
   ]
  },
  {
   "cell_type": "code",
   "execution_count": null,
   "metadata": {},
   "outputs": [],
   "source": []
  },
  {
   "cell_type": "code",
   "execution_count": 11,
   "metadata": {
    "ExecuteTime": {
     "end_time": "2018-11-23T14:05:12.691316Z",
     "start_time": "2018-11-23T14:05:12.658211Z"
    }
   },
   "outputs": [
    {
     "ename": "NameError",
     "evalue": "name 'false' is not defined",
     "output_type": "error",
     "traceback": [
      "\u001b[0;31m---------------------------------------------------------------------------\u001b[0m",
      "\u001b[0;31mNameError\u001b[0m                                 Traceback (most recent call last)",
      "\u001b[0;32m<ipython-input-11-2493ee97f1de>\u001b[0m in \u001b[0;36m<module>\u001b[0;34m()\u001b[0m\n\u001b[1;32m      1\u001b[0m \u001b[0;31m# no longer necessary\u001b[0m\u001b[0;34m\u001b[0m\u001b[0;34m\u001b[0m\u001b[0m\n\u001b[0;32m----> 2\u001b[0;31m \u001b[0;32mif\u001b[0m \u001b[0mfalse\u001b[0m\u001b[0;34m:\u001b[0m\u001b[0;34m\u001b[0m\u001b[0m\n\u001b[0m\u001b[1;32m      3\u001b[0m     \u001b[0mdf\u001b[0m\u001b[0;34m[\u001b[0m\u001b[0;34m'label_as_nb'\u001b[0m\u001b[0;34m]\u001b[0m \u001b[0;34m=\u001b[0m \u001b[0mdf\u001b[0m\u001b[0;34m[\u001b[0m\u001b[0;34m'label'\u001b[0m\u001b[0;34m]\u001b[0m\u001b[0;34m.\u001b[0m\u001b[0mapply\u001b[0m\u001b[0;34m(\u001b[0m\u001b[0mlabel_to_nb\u001b[0m\u001b[0;34m)\u001b[0m \u001b[0;34m*\u001b[0m \u001b[0;36m2\u001b[0m\u001b[0;34m\u001b[0m\u001b[0m\n\u001b[1;32m      4\u001b[0m     \u001b[0mdf\u001b[0m\u001b[0;34m[\u001b[0m\u001b[0;34m'statement_id'\u001b[0m\u001b[0;34m]\u001b[0m \u001b[0;34m=\u001b[0m \u001b[0mpd\u001b[0m\u001b[0;34m.\u001b[0m\u001b[0mto_numeric\u001b[0m\u001b[0;34m(\u001b[0m\u001b[0mdf\u001b[0m\u001b[0;34m[\u001b[0m\u001b[0;34m'statement_id'\u001b[0m\u001b[0;34m]\u001b[0m\u001b[0;34m)\u001b[0m\u001b[0;34m\u001b[0m\u001b[0m\n\u001b[1;32m      5\u001b[0m     \u001b[0mlies\u001b[0m \u001b[0;34m=\u001b[0m \u001b[0mdf\u001b[0m\u001b[0;34m.\u001b[0m\u001b[0mmerge\u001b[0m\u001b[0;34m(\u001b[0m\u001b[0madditional_information\u001b[0m\u001b[0;34m,\u001b[0m \u001b[0mon\u001b[0m\u001b[0;34m=\u001b[0m\u001b[0;34m'statement_id'\u001b[0m\u001b[0;34m,\u001b[0m \u001b[0mhow\u001b[0m\u001b[0;34m=\u001b[0m\u001b[0;34m'left'\u001b[0m\u001b[0;34m)\u001b[0m\u001b[0;34m\u001b[0m\u001b[0m\n",
      "\u001b[0;31mNameError\u001b[0m: name 'false' is not defined"
     ]
    }
   ],
   "source": [
    "# no longer necessary\n",
    "if false:\n",
    "    df['label_as_nb'] = df['label'].apply(label_to_nb) * 2 \n",
    "    df['statement_id'] = pd.to_numeric(df['statement_id'])\n",
    "    lies = df.merge(additional_information, on='statement_id', how='left')"
   ]
  },
  {
   "cell_type": "markdown",
   "metadata": {},
   "source": [
    "Let's just see what we have here:"
   ]
  },
  {
   "cell_type": "code",
   "execution_count": null,
   "metadata": {
    "ExecuteTime": {
     "end_time": "2018-11-26T23:15:50.111849Z",
     "start_time": "2018-11-26T23:15:50.081132Z"
    }
   },
   "outputs": [],
   "source": [
    "# TODO rene add new values, see trello board\n",
    "lies['label_to_nb'] = lies['label'].apply(label_to_nb) * 2"
   ]
  },
  {
   "cell_type": "code",
   "execution_count": null,
   "metadata": {
    "ExecuteTime": {
     "end_time": "2018-11-26T23:10:54.850114Z",
     "start_time": "2018-11-26T23:10:54.837258Z"
    }
   },
   "outputs": [],
   "source": [
    "lies['label'].value_counts()"
   ]
  },
  {
   "cell_type": "code",
   "execution_count": null,
   "metadata": {
    "ExecuteTime": {
     "end_time": "2018-12-13T17:55:34.774105Z",
     "start_time": "2018-12-13T17:55:34.768276Z"
    }
   },
   "outputs": [],
   "source": [
    "def _count_for_last_name_(df, last_name):\n",
    "    return group_and_count(lies.loc[lies['speaker_last_name'].str.contains(last_name, flags=re.IGNORECASE), :], 'label', with_pct=True)\\\n",
    "            .rename(columns={'count': f'count_{last_name}', 'count_pct': f'count_pct{last_name}'})"
   ]
  },
  {
   "cell_type": "code",
   "execution_count": null,
   "metadata": {
    "ExecuteTime": {
     "end_time": "2018-12-13T17:55:34.935077Z",
     "start_time": "2018-12-13T17:55:34.862847Z"
    }
   },
   "outputs": [],
   "source": [
    "pd.merge(_count_for_last_name_(lies, 'obama'), _count_for_last_name_(lies, 'trump'), on='label')"
   ]
  },
  {
   "cell_type": "markdown",
   "metadata": {},
   "source": [
    "Here we can see that Barack Obama had 549 statements labeled with _pants on fire_."
   ]
  },
  {
   "cell_type": "code",
   "execution_count": null,
   "metadata": {
    "ExecuteTime": {
     "end_time": "2018-11-23T14:05:12.996192Z",
     "start_time": "2018-11-23T14:05:12.980178Z"
    }
   },
   "outputs": [],
   "source": [
    "lies[lies['speakers_job_title'].str.contains('County') == True].shape"
   ]
  },
  {
   "cell_type": "code",
   "execution_count": null,
   "metadata": {
    "ExecuteTime": {
     "end_time": "2018-11-23T14:05:13.100791Z",
     "start_time": "2018-11-23T14:05:13.095370Z"
    },
    "scrolled": true
   },
   "outputs": [],
   "source": [
    "lies['statement_date'].describe()"
   ]
  },
  {
   "cell_type": "markdown",
   "metadata": {},
   "source": [
    "Above, we can see that statements range from 1995 to 2016."
   ]
  },
  {
   "cell_type": "markdown",
   "metadata": {},
   "source": [
    "Now, let's do some profiling to get some more insights:"
   ]
  },
  {
   "cell_type": "code",
   "execution_count": null,
   "metadata": {
    "ExecuteTime": {
     "end_time": "2018-11-23T14:05:14.172902Z",
     "start_time": "2018-11-23T14:05:13.219463Z"
    },
    "scrolled": true
   },
   "outputs": [],
   "source": [
    "pandas_profiling.ProfileReport(lies)"
   ]
  },
  {
   "cell_type": "markdown",
   "metadata": {},
   "source": [
    "# Federal Election Results"
   ]
  },
  {
   "cell_type": "markdown",
   "metadata": {},
   "source": [
    "We have another dataset that we will explore and merge to our LIAR dataset in order to get some more insight into data. This one is regarding election results."
   ]
  },
  {
   "cell_type": "code",
   "execution_count": null,
   "metadata": {
    "ExecuteTime": {
     "end_time": "2018-11-23T14:05:14.177069Z",
     "start_time": "2018-11-23T14:05:14.174640Z"
    }
   },
   "outputs": [],
   "source": [
    "pd.options.display.max_colwidth = 300\n",
    "pd.options.display.max_columns = 300"
   ]
  },
  {
   "cell_type": "code",
   "execution_count": null,
   "metadata": {
    "ExecuteTime": {
     "end_time": "2018-11-23T14:05:14.190483Z",
     "start_time": "2018-11-23T14:05:14.178287Z"
    }
   },
   "outputs": [],
   "source": [
    "from itertools import product\n",
    "from functools import reduce"
   ]
  },
  {
   "cell_type": "code",
   "execution_count": null,
   "metadata": {
    "ExecuteTime": {
     "end_time": "2018-12-13T17:55:48.638641Z",
     "start_time": "2018-12-13T17:55:48.631235Z"
    }
   },
   "outputs": [],
   "source": [
    "def add_ending(f):\n",
    "    \"\"\" File ending depending on a year\n",
    "    \n",
    "    Parameters\n",
    "    ----------\n",
    "    f: str\n",
    "        Name of the file\n",
    "    \n",
    "    ToDos:\n",
    "    - do 2012 it's a special snowflake\n",
    "    \"\"\"\n",
    "    if '2016' in f:\n",
    "        return f\"{f}x\"\n",
    "    else:\n",
    "        return f\n",
    "\n",
    "\n",
    "election_files = [(add_ending(f'{directory_election_results}/federalelections{year}.xls'), year) for year in [2014, 2016]]"
   ]
  },
  {
   "cell_type": "markdown",
   "metadata": {},
   "source": [
    "Now, let's prepare some data for viewing:"
   ]
  },
  {
   "cell_type": "code",
   "execution_count": null,
   "metadata": {
    "ExecuteTime": {
     "end_time": "2018-12-13T17:55:51.265010Z",
     "start_time": "2018-12-13T17:55:51.258328Z"
    }
   },
   "outputs": [],
   "source": [
    "election_results_cols_of_interest = ['CANDIDATE NAME', 'PRIMARY VOTES', 'PRIMARY %']\n",
    "\n",
    "def fix_columns_election_results(df, year, type_):\n",
    "    \"\"\"we are only interested in the primary votes, since these reflect the opinion the most\"\"\"\n",
    "    df = df.loc[:, election_results_cols_of_interest]\n",
    "    df[f'primary_votes_{type_.lower()}_{year}'] = df['PRIMARY VOTES']\n",
    "    df[f'primary_votes_{type_.lower()}_{year}_pct'] = df['PRIMARY %']\n",
    "    return df.drop(columns=['PRIMARY VOTES', 'PRIMARY %'])\n",
    "\n",
    "\n",
    "def get_only_voting_results(df):\n",
    "    return df.loc[df['CANDIDATE NAME'].notna() & df['PRIMARY VOTES'].notna() & df['CANDIDATE NAME'].ne('Scattered') & df['CANDIDATE NAME'].ne('All Others'), :]\n",
    "\n",
    "\n",
    "def prep_election_results(df, year, type_):\n",
    "    return fix_columns_election_results(get_only_voting_results(df), year, type_)"
   ]
  },
  {
   "cell_type": "code",
   "execution_count": 12,
   "metadata": {
    "ExecuteTime": {
     "end_time": "2018-12-13T17:55:57.353263Z",
     "start_time": "2018-12-13T17:55:53.276293Z"
    }
   },
   "outputs": [
    {
     "ename": "NameError",
     "evalue": "name 'election_files' is not defined",
     "output_type": "error",
     "traceback": [
      "\u001b[0;31m---------------------------------------------------------------------------\u001b[0m",
      "\u001b[0;31mNameError\u001b[0m                                 Traceback (most recent call last)",
      "\u001b[0;32m<ipython-input-12-a34379e4a751>\u001b[0m in \u001b[0;36m<module>\u001b[0;34m()\u001b[0m\n\u001b[0;32m----> 1\u001b[0;31m \u001b[0melection_results\u001b[0m \u001b[0;34m=\u001b[0m \u001b[0;34m[\u001b[0m\u001b[0mprep_election_results\u001b[0m\u001b[0;34m(\u001b[0m\u001b[0mpd\u001b[0m\u001b[0;34m.\u001b[0m\u001b[0mread_excel\u001b[0m\u001b[0;34m(\u001b[0m\u001b[0mf\u001b[0m\u001b[0;34m,\u001b[0m \u001b[0msheet_name\u001b[0m\u001b[0;34m=\u001b[0m\u001b[0;34mf'{year} US {type_} Results by State'\u001b[0m\u001b[0;34m)\u001b[0m\u001b[0;34m,\u001b[0m \u001b[0myear\u001b[0m\u001b[0;34m,\u001b[0m \u001b[0mtype_\u001b[0m\u001b[0;34m)\u001b[0m \u001b[0;32mfor\u001b[0m \u001b[0;34m(\u001b[0m\u001b[0mf\u001b[0m\u001b[0;34m,\u001b[0m \u001b[0myear\u001b[0m\u001b[0;34m)\u001b[0m\u001b[0;34m,\u001b[0m \u001b[0mtype_\u001b[0m \u001b[0;32min\u001b[0m \u001b[0mproduct\u001b[0m\u001b[0;34m(\u001b[0m\u001b[0melection_files\u001b[0m\u001b[0;34m,\u001b[0m \u001b[0;34m[\u001b[0m\u001b[0;34m'Senate'\u001b[0m\u001b[0;34m,\u001b[0m \u001b[0;34m'House'\u001b[0m\u001b[0;34m]\u001b[0m\u001b[0;34m)\u001b[0m\u001b[0;34m]\u001b[0m\u001b[0;34m\u001b[0m\u001b[0m\n\u001b[0m\u001b[1;32m      2\u001b[0m \u001b[0;34m\u001b[0m\u001b[0m\n\u001b[1;32m      3\u001b[0m \u001b[0;31m# we let the results as they are, merge, and then check if the person is a senator or a member of the house based on the other results\u001b[0m\u001b[0;34m\u001b[0m\u001b[0;34m\u001b[0m\u001b[0m\n\u001b[1;32m      4\u001b[0m \u001b[0;31m# yes they did a spelling mistake\u001b[0m\u001b[0;34m\u001b[0m\u001b[0;34m\u001b[0m\u001b[0m\n\u001b[1;32m      5\u001b[0m \u001b[0melection_results\u001b[0m \u001b[0;34m+=\u001b[0m \u001b[0;34m[\u001b[0m\u001b[0mprep_election_results\u001b[0m\u001b[0;34m(\u001b[0m\u001b[0mpd\u001b[0m\u001b[0;34m.\u001b[0m\u001b[0mread_excel\u001b[0m\u001b[0;34m(\u001b[0m\u001b[0;34mf'{directory_election_results}/federalelections2012.xls'\u001b[0m\u001b[0;34m,\u001b[0m \u001b[0msheet_name\u001b[0m\u001b[0;34m=\u001b[0m\u001b[0;34mf'2012 US House & Senate Resuts'\u001b[0m\u001b[0;34m)\u001b[0m\u001b[0;34m,\u001b[0m \u001b[0;36m2012\u001b[0m\u001b[0;34m,\u001b[0m \u001b[0;34m'all'\u001b[0m\u001b[0;34m)\u001b[0m\u001b[0;34m]\u001b[0m\u001b[0;34m\u001b[0m\u001b[0m\n",
      "\u001b[0;31mNameError\u001b[0m: name 'election_files' is not defined"
     ]
    }
   ],
   "source": [
    "election_results = [prep_election_results(pd.read_excel(f, sheet_name=f'{year} US {type_} Results by State'), year, type_) for (f, year), type_ in product(election_files, ['Senate', 'House'])]\n",
    "\n",
    "# we let the results as they are, merge, and then check if the person is a senator or a member of the house based on the other results\n",
    "# yes they did a spelling mistake\n",
    "election_results += [prep_election_results(pd.read_excel(f'{directory_election_results}/federalelections2012.xls', sheet_name=f'2012 US House & Senate Resuts'), 2012, 'all')]\n",
    "election_results = reduce(lambda acc, el: pd.merge(acc, el, on='CANDIDATE NAME', how='outer'), election_results)"
   ]
  },
  {
   "cell_type": "code",
   "execution_count": 13,
   "metadata": {
    "ExecuteTime": {
     "end_time": "2018-12-13T17:55:57.374766Z",
     "start_time": "2018-12-13T17:55:57.355287Z"
    }
   },
   "outputs": [
    {
     "ename": "NameError",
     "evalue": "name 'election_results' is not defined",
     "output_type": "error",
     "traceback": [
      "\u001b[0;31m---------------------------------------------------------------------------\u001b[0m",
      "\u001b[0;31mNameError\u001b[0m                                 Traceback (most recent call last)",
      "\u001b[0;32m<ipython-input-13-3992d8ac2b42>\u001b[0m in \u001b[0;36m<module>\u001b[0;34m()\u001b[0m\n\u001b[0;32m----> 1\u001b[0;31m \u001b[0melection_results\u001b[0m\u001b[0;34m.\u001b[0m\u001b[0mhead\u001b[0m\u001b[0;34m(\u001b[0m\u001b[0;34m)\u001b[0m\u001b[0;34m\u001b[0m\u001b[0m\n\u001b[0m",
      "\u001b[0;31mNameError\u001b[0m: name 'election_results' is not defined"
     ]
    }
   ],
   "source": [
    "election_results.head()"
   ]
  },
  {
   "cell_type": "code",
   "execution_count": 14,
   "metadata": {
    "ExecuteTime": {
     "end_time": "2018-12-13T17:56:35.701754Z",
     "start_time": "2018-12-13T17:56:35.688944Z"
    }
   },
   "outputs": [
    {
     "ename": "NameError",
     "evalue": "name 'election_results' is not defined",
     "output_type": "error",
     "traceback": [
      "\u001b[0;31m---------------------------------------------------------------------------\u001b[0m",
      "\u001b[0;31mNameError\u001b[0m                                 Traceback (most recent call last)",
      "\u001b[0;32m<ipython-input-14-22775f81e7a7>\u001b[0m in \u001b[0;36m<module>\u001b[0;34m()\u001b[0m\n\u001b[0;32m----> 1\u001b[0;31m \u001b[0midx_multiple_election_results\u001b[0m \u001b[0;34m=\u001b[0m \u001b[0melection_results\u001b[0m\u001b[0;34m.\u001b[0m\u001b[0mloc\u001b[0m\u001b[0;34m[\u001b[0m\u001b[0;34m:\u001b[0m\u001b[0;34m,\u001b[0m \u001b[0;34m[\u001b[0m\u001b[0mc\u001b[0m \u001b[0;32mfor\u001b[0m \u001b[0mc\u001b[0m \u001b[0;32min\u001b[0m \u001b[0melection_results\u001b[0m\u001b[0;34m.\u001b[0m\u001b[0mcolumns\u001b[0m \u001b[0;32mif\u001b[0m \u001b[0many\u001b[0m\u001b[0;34m(\u001b[0m\u001b[0;34m(\u001b[0m\u001b[0mc\u001b[0m\u001b[0;34m.\u001b[0m\u001b[0mendswith\u001b[0m\u001b[0;34m(\u001b[0m\u001b[0mstr\u001b[0m\u001b[0;34m(\u001b[0m\u001b[0my\u001b[0m\u001b[0;34m)\u001b[0m\u001b[0;34m)\u001b[0m \u001b[0;32mfor\u001b[0m \u001b[0my\u001b[0m \u001b[0;32min\u001b[0m \u001b[0;34m[\u001b[0m\u001b[0;36m2012\u001b[0m\u001b[0;34m,\u001b[0m \u001b[0;36m2014\u001b[0m\u001b[0;34m,\u001b[0m \u001b[0;36m2016\u001b[0m\u001b[0;34m]\u001b[0m\u001b[0;34m)\u001b[0m\u001b[0;34m)\u001b[0m\u001b[0;34m]\u001b[0m\u001b[0;34m]\u001b[0m\u001b[0;34m.\u001b[0m\u001b[0mnotna\u001b[0m\u001b[0;34m(\u001b[0m\u001b[0;34m)\u001b[0m\u001b[0;34m.\u001b[0m\u001b[0msum\u001b[0m\u001b[0;34m(\u001b[0m\u001b[0maxis\u001b[0m\u001b[0;34m=\u001b[0m\u001b[0;36m1\u001b[0m\u001b[0;34m)\u001b[0m \u001b[0;34m>\u001b[0m \u001b[0;36m1\u001b[0m\u001b[0;34m\u001b[0m\u001b[0m\n\u001b[0m\u001b[1;32m      2\u001b[0m \u001b[0;34m\u001b[0m\u001b[0m\n\u001b[1;32m      3\u001b[0m \u001b[0mprint\u001b[0m\u001b[0;34m(\u001b[0m\u001b[0;34mf\"we have multple election results for {idx_multiple_election_results.sum()} politicians ({idx_multiple_election_results.mean()}%)\"\u001b[0m\u001b[0;34m)\u001b[0m\u001b[0;34m\u001b[0m\u001b[0m\n",
      "\u001b[0;31mNameError\u001b[0m: name 'election_results' is not defined"
     ]
    }
   ],
   "source": [
    "idx_multiple_election_results = election_results.loc[:, [c for c in election_results.columns if any((c.endswith(str(y)) for y in [2012, 2014, 2016]))]].notna().sum(axis=1) > 1\n",
    "\n",
    "print(f\"we have multple election results for {idx_multiple_election_results.sum()} politicians ({idx_multiple_election_results.mean()}%)\")"
   ]
  },
  {
   "cell_type": "code",
   "execution_count": 15,
   "metadata": {
    "ExecuteTime": {
     "end_time": "2018-12-13T17:56:48.386112Z",
     "start_time": "2018-12-13T17:56:48.361763Z"
    }
   },
   "outputs": [
    {
     "ename": "NameError",
     "evalue": "name 'election_results' is not defined",
     "output_type": "error",
     "traceback": [
      "\u001b[0;31m---------------------------------------------------------------------------\u001b[0m",
      "\u001b[0;31mNameError\u001b[0m                                 Traceback (most recent call last)",
      "\u001b[0;32m<ipython-input-15-803cd6aef504>\u001b[0m in \u001b[0;36m<module>\u001b[0;34m()\u001b[0m\n\u001b[0;32m----> 1\u001b[0;31m \u001b[0melection_results\u001b[0m\u001b[0;34m[\u001b[0m\u001b[0midx_multiple_election_results\u001b[0m\u001b[0;34m]\u001b[0m\u001b[0;34m.\u001b[0m\u001b[0mhead\u001b[0m\u001b[0;34m(\u001b[0m\u001b[0;34m)\u001b[0m\u001b[0;34m\u001b[0m\u001b[0m\n\u001b[0m",
      "\u001b[0;31mNameError\u001b[0m: name 'election_results' is not defined"
     ]
    }
   ],
   "source": [
    "election_results[idx_multiple_election_results].head()"
   ]
  },
  {
   "cell_type": "code",
   "execution_count": 16,
   "metadata": {
    "ExecuteTime": {
     "end_time": "2018-11-26T23:30:48.179640Z",
     "start_time": "2018-11-26T23:30:48.159311Z"
    },
    "scrolled": false
   },
   "outputs": [
    {
     "ename": "NameError",
     "evalue": "name 'election_results' is not defined",
     "output_type": "error",
     "traceback": [
      "\u001b[0;31m---------------------------------------------------------------------------\u001b[0m",
      "\u001b[0;31mNameError\u001b[0m                                 Traceback (most recent call last)",
      "\u001b[0;32m<ipython-input-16-e62e00f6bbb8>\u001b[0m in \u001b[0;36m<module>\u001b[0;34m()\u001b[0m\n\u001b[1;32m      1\u001b[0m \u001b[0;31m# yeah ... let's see how many we can join. the one letter endings might be a problem\u001b[0m\u001b[0;34m\u001b[0m\u001b[0;34m\u001b[0m\u001b[0m\n\u001b[0;32m----> 2\u001b[0;31m \u001b[0melection_results\u001b[0m\u001b[0;34m[\u001b[0m\u001b[0;34m'CANDIDATE NAME'\u001b[0m\u001b[0;34m]\u001b[0m\u001b[0;34m.\u001b[0m\u001b[0mvalue_counts\u001b[0m\u001b[0;34m(\u001b[0m\u001b[0;34m)\u001b[0m\u001b[0;34m\u001b[0m\u001b[0m\n\u001b[0m",
      "\u001b[0;31mNameError\u001b[0m: name 'election_results' is not defined"
     ]
    }
   ],
   "source": [
    "# yeah ... let's see how many we can join. the one letter endings might be a problem\n",
    "election_results['CANDIDATE NAME'].value_counts()"
   ]
  },
  {
   "cell_type": "code",
   "execution_count": 17,
   "metadata": {
    "ExecuteTime": {
     "end_time": "2018-11-23T14:05:16.839135Z",
     "start_time": "2018-11-23T14:05:16.830067Z"
    }
   },
   "outputs": [
    {
     "ename": "NameError",
     "evalue": "name 'lies' is not defined",
     "output_type": "error",
     "traceback": [
      "\u001b[0;31m---------------------------------------------------------------------------\u001b[0m",
      "\u001b[0;31mNameError\u001b[0m                                 Traceback (most recent call last)",
      "\u001b[0;32m<ipython-input-17-88c26cf180bd>\u001b[0m in \u001b[0;36m<module>\u001b[0;34m()\u001b[0m\n\u001b[1;32m      1\u001b[0m \u001b[0;31m# we are only interest in people and they have a first name\u001b[0m\u001b[0;34m\u001b[0m\u001b[0;34m\u001b[0m\u001b[0m\n\u001b[0;32m----> 2\u001b[0;31m \u001b[0mlies\u001b[0m \u001b[0;34m=\u001b[0m \u001b[0mlies\u001b[0m\u001b[0;34m.\u001b[0m\u001b[0mloc\u001b[0m\u001b[0;34m[\u001b[0m\u001b[0mlies\u001b[0m\u001b[0;34m[\u001b[0m\u001b[0;34m'speaker_first_name'\u001b[0m\u001b[0;34m]\u001b[0m\u001b[0;34m.\u001b[0m\u001b[0mnotnull\u001b[0m\u001b[0;34m(\u001b[0m\u001b[0;34m)\u001b[0m\u001b[0;34m,\u001b[0m \u001b[0;34m:\u001b[0m\u001b[0;34m]\u001b[0m\u001b[0;34m\u001b[0m\u001b[0m\n\u001b[0m",
      "\u001b[0;31mNameError\u001b[0m: name 'lies' is not defined"
     ]
    }
   ],
   "source": [
    "# we are only interest in people and they have a first name\n",
    "lies = lies.loc[lies['speaker_first_name'].notnull(), :]"
   ]
  },
  {
   "cell_type": "code",
   "execution_count": 18,
   "metadata": {
    "ExecuteTime": {
     "end_time": "2018-11-23T14:05:16.883211Z",
     "start_time": "2018-11-23T14:05:16.840386Z"
    }
   },
   "outputs": [
    {
     "ename": "NameError",
     "evalue": "name 'lies' is not defined",
     "output_type": "error",
     "traceback": [
      "\u001b[0;31m---------------------------------------------------------------------------\u001b[0m",
      "\u001b[0;31mNameError\u001b[0m                                 Traceback (most recent call last)",
      "\u001b[0;32m<ipython-input-18-fe58a1d4426a>\u001b[0m in \u001b[0;36m<module>\u001b[0;34m()\u001b[0m\n\u001b[1;32m      1\u001b[0m \u001b[0;31m# to aggregate the statements\u001b[0m\u001b[0;34m\u001b[0m\u001b[0;34m\u001b[0m\u001b[0m\n\u001b[0;32m----> 2\u001b[0;31m \u001b[0mlies\u001b[0m\u001b[0;34m[\u001b[0m\u001b[0;34m'statement_year'\u001b[0m\u001b[0;34m]\u001b[0m \u001b[0;34m=\u001b[0m \u001b[0mlies\u001b[0m\u001b[0;34m[\u001b[0m\u001b[0;34m'statement_date'\u001b[0m\u001b[0;34m]\u001b[0m\u001b[0;34m.\u001b[0m\u001b[0mdt\u001b[0m\u001b[0;34m.\u001b[0m\u001b[0myear\u001b[0m\u001b[0;34m\u001b[0m\u001b[0m\n\u001b[0m\u001b[1;32m      3\u001b[0m \u001b[0;34m\u001b[0m\u001b[0m\n\u001b[1;32m      4\u001b[0m \u001b[0;31m# for the merging\u001b[0m\u001b[0;34m\u001b[0m\u001b[0;34m\u001b[0m\u001b[0m\n\u001b[1;32m      5\u001b[0m \u001b[0mlies\u001b[0m\u001b[0;34m[\u001b[0m\u001b[0;34m'speaker_full_name'\u001b[0m\u001b[0;34m]\u001b[0m \u001b[0;34m=\u001b[0m \u001b[0mlies\u001b[0m\u001b[0;34m[\u001b[0m\u001b[0;34m'speaker_last_name'\u001b[0m\u001b[0;34m]\u001b[0m \u001b[0;34m+\u001b[0m \u001b[0;34m', '\u001b[0m \u001b[0;34m+\u001b[0m \u001b[0mlies\u001b[0m\u001b[0;34m[\u001b[0m\u001b[0;34m'speaker_first_name'\u001b[0m\u001b[0;34m]\u001b[0m\u001b[0;34m\u001b[0m\u001b[0m\n",
      "\u001b[0;31mNameError\u001b[0m: name 'lies' is not defined"
     ]
    }
   ],
   "source": [
    "# to aggregate the statements\n",
    "lies['statement_year'] = lies['statement_date'].dt.year\n",
    "\n",
    "# for the merging\n",
    "lies['speaker_full_name'] = lies['speaker_last_name'] + ', ' + lies['speaker_first_name']"
   ]
  },
  {
   "cell_type": "markdown",
   "metadata": {},
   "source": [
    "### Cleaning job titles"
   ]
  },
  {
   "cell_type": "code",
   "execution_count": 19,
   "metadata": {
    "ExecuteTime": {
     "end_time": "2018-11-23T14:05:16.897019Z",
     "start_time": "2018-11-23T14:05:16.884462Z"
    }
   },
   "outputs": [
    {
     "ename": "NameError",
     "evalue": "name 'lies' is not defined",
     "output_type": "error",
     "traceback": [
      "\u001b[0;31m---------------------------------------------------------------------------\u001b[0m",
      "\u001b[0;31mNameError\u001b[0m                                 Traceback (most recent call last)",
      "\u001b[0;32m<ipython-input-19-a71a053de5b6>\u001b[0m in \u001b[0;36m<module>\u001b[0;34m()\u001b[0m\n\u001b[1;32m     13\u001b[0m         \u001b[0;32mreturn\u001b[0m \u001b[0mjt\u001b[0m\u001b[0;34m\u001b[0m\u001b[0m\n\u001b[1;32m     14\u001b[0m \u001b[0;34m\u001b[0m\u001b[0m\n\u001b[0;32m---> 15\u001b[0;31m \u001b[0mlies\u001b[0m\u001b[0;34m[\u001b[0m\u001b[0;34m'speakers_job_title_cleaned'\u001b[0m\u001b[0;34m]\u001b[0m \u001b[0;34m=\u001b[0m \u001b[0mlies\u001b[0m\u001b[0;34m[\u001b[0m\u001b[0;34m'speakers_job_title'\u001b[0m\u001b[0;34m]\u001b[0m\u001b[0;34m.\u001b[0m\u001b[0mapply\u001b[0m\u001b[0;34m(\u001b[0m\u001b[0mcleaned_job_title\u001b[0m\u001b[0;34m)\u001b[0m\u001b[0;34m\u001b[0m\u001b[0m\n\u001b[0m",
      "\u001b[0;31mNameError\u001b[0m: name 'lies' is not defined"
     ]
    }
   ],
   "source": [
    "# todo expand this and check this! this is just a quick and dirty fix\n",
    "# is it really houseman? probably not...\n",
    "_job_titles_of_interest = [('senat', 'senator'), ('governor', None), ('congress', 'congressman'), ('mayor', None), ('president', None), ('house', 'houseman'), ('rep', 'houseman')]\n",
    "job_titles_of_interest = [out if out is not None else j for j, out in _job_titles_of_interest]\n",
    "\n",
    "def cleaned_job_title(jt):\n",
    "    jt = str(jt).lower()\n",
    "    \n",
    "    for j, out in _job_titles_of_interest:\n",
    "        if j in jt:\n",
    "            return out if out is not None else j\n",
    "    else:\n",
    "        return jt\n",
    "\n",
    "lies['speakers_job_title_cleaned'] = lies['speakers_job_title'].apply(cleaned_job_title)"
   ]
  },
  {
   "cell_type": "code",
   "execution_count": 20,
   "metadata": {
    "ExecuteTime": {
     "end_time": "2018-11-23T14:05:16.932546Z",
     "start_time": "2018-11-23T14:05:16.898550Z"
    }
   },
   "outputs": [
    {
     "ename": "NameError",
     "evalue": "name 'lies' is not defined",
     "output_type": "error",
     "traceback": [
      "\u001b[0;31m---------------------------------------------------------------------------\u001b[0m",
      "\u001b[0;31mNameError\u001b[0m                                 Traceback (most recent call last)",
      "\u001b[0;32m<ipython-input-20-5b2032896777>\u001b[0m in \u001b[0;36m<module>\u001b[0;34m()\u001b[0m\n\u001b[0;32m----> 1\u001b[0;31m \u001b[0m_t\u001b[0m \u001b[0;34m=\u001b[0m \u001b[0mlies\u001b[0m\u001b[0;34m.\u001b[0m\u001b[0mmerge\u001b[0m\u001b[0;34m(\u001b[0m\u001b[0melection_results\u001b[0m\u001b[0;34m,\u001b[0m \u001b[0mleft_on\u001b[0m\u001b[0;34m=\u001b[0m\u001b[0;34m'speaker_full_name'\u001b[0m\u001b[0;34m,\u001b[0m \u001b[0mright_on\u001b[0m\u001b[0;34m=\u001b[0m\u001b[0;34m'CANDIDATE NAME'\u001b[0m\u001b[0;34m,\u001b[0m \u001b[0mhow\u001b[0m\u001b[0;34m=\u001b[0m\u001b[0;34m'outer'\u001b[0m\u001b[0;34m)\u001b[0m\u001b[0;34m\u001b[0m\u001b[0m\n\u001b[0m",
      "\u001b[0;31mNameError\u001b[0m: name 'lies' is not defined"
     ]
    }
   ],
   "source": [
    "_t = lies.merge(election_results, left_on='speaker_full_name', right_on='CANDIDATE NAME', how='outer')"
   ]
  },
  {
   "cell_type": "code",
   "execution_count": 21,
   "metadata": {
    "ExecuteTime": {
     "end_time": "2018-11-23T14:05:16.939503Z",
     "start_time": "2018-11-23T14:05:16.934213Z"
    }
   },
   "outputs": [
    {
     "ename": "NameError",
     "evalue": "name '_t' is not defined",
     "output_type": "error",
     "traceback": [
      "\u001b[0;31m---------------------------------------------------------------------------\u001b[0m",
      "\u001b[0;31mNameError\u001b[0m                                 Traceback (most recent call last)",
      "\u001b[0;32m<ipython-input-21-1bf6a89eff0b>\u001b[0m in \u001b[0;36m<module>\u001b[0;34m()\u001b[0m\n\u001b[0;32m----> 1\u001b[0;31m \u001b[0mprint\u001b[0m\u001b[0;34m(\u001b[0m\u001b[0;34mf\"found election results for {_t['CANDIDATE NAME'].notnull().sum()} ({_t['CANDIDATE NAME'].notnull().mean()}%) people\"\u001b[0m\u001b[0;34m)\u001b[0m\u001b[0;34m\u001b[0m\u001b[0m\n\u001b[0m",
      "\u001b[0;31mNameError\u001b[0m: name '_t' is not defined"
     ]
    }
   ],
   "source": [
    "print(f\"found election results for {_t['CANDIDATE NAME'].notnull().sum()} ({_t['CANDIDATE NAME'].notnull().mean()}%) people\")"
   ]
  },
  {
   "cell_type": "code",
   "execution_count": 22,
   "metadata": {
    "ExecuteTime": {
     "end_time": "2018-11-23T14:05:17.028465Z",
     "start_time": "2018-11-23T14:05:16.940630Z"
    },
    "scrolled": true
   },
   "outputs": [
    {
     "ename": "NameError",
     "evalue": "name '_t' is not defined",
     "output_type": "error",
     "traceback": [
      "\u001b[0;31m---------------------------------------------------------------------------\u001b[0m",
      "\u001b[0;31mNameError\u001b[0m                                 Traceback (most recent call last)",
      "\u001b[0;32m<ipython-input-22-a25082731ef5>\u001b[0m in \u001b[0;36m<module>\u001b[0;34m()\u001b[0m\n\u001b[0;32m----> 1\u001b[0;31m \u001b[0mvotes_cols\u001b[0m \u001b[0;34m=\u001b[0m \u001b[0;34m[\u001b[0m\u001b[0mc\u001b[0m \u001b[0;32mfor\u001b[0m \u001b[0mc\u001b[0m \u001b[0;32min\u001b[0m \u001b[0m_t\u001b[0m\u001b[0;34m.\u001b[0m\u001b[0mcolumns\u001b[0m \u001b[0;32mif\u001b[0m \u001b[0;34m'votes'\u001b[0m \u001b[0;32min\u001b[0m \u001b[0mc\u001b[0m\u001b[0;34m]\u001b[0m\u001b[0;34m\u001b[0m\u001b[0m\n\u001b[0m\u001b[1;32m      2\u001b[0m \u001b[0museful_idx\u001b[0m \u001b[0;34m=\u001b[0m \u001b[0mreduce\u001b[0m\u001b[0;34m(\u001b[0m\u001b[0;32mlambda\u001b[0m \u001b[0macc\u001b[0m\u001b[0;34m,\u001b[0m \u001b[0mel\u001b[0m\u001b[0;34m:\u001b[0m \u001b[0macc\u001b[0m \u001b[0;34m|\u001b[0m \u001b[0mel\u001b[0m\u001b[0;34m,\u001b[0m \u001b[0;34m[\u001b[0m\u001b[0m_t\u001b[0m\u001b[0;34m[\u001b[0m\u001b[0mc\u001b[0m\u001b[0;34m]\u001b[0m\u001b[0;34m.\u001b[0m\u001b[0mnotnull\u001b[0m\u001b[0;34m(\u001b[0m\u001b[0;34m)\u001b[0m \u001b[0;32mfor\u001b[0m \u001b[0mc\u001b[0m \u001b[0;32min\u001b[0m \u001b[0mvotes_cols\u001b[0m\u001b[0;34m]\u001b[0m\u001b[0;34m)\u001b[0m \u001b[0;34m&\u001b[0m \u001b[0m_t\u001b[0m\u001b[0;34m[\u001b[0m\u001b[0;34m'speaker'\u001b[0m\u001b[0;34m]\u001b[0m\u001b[0;34m.\u001b[0m\u001b[0mnotnull\u001b[0m\u001b[0;34m(\u001b[0m\u001b[0;34m)\u001b[0m\u001b[0;34m\u001b[0m\u001b[0m\n\u001b[1;32m      3\u001b[0m \u001b[0;34m\u001b[0m\u001b[0m\n\u001b[1;32m      4\u001b[0m \u001b[0mprint\u001b[0m\u001b[0;34m(\u001b[0m\u001b[0;34mf\"found useful results for {useful_idx.sum()} people\"\u001b[0m\u001b[0;34m)\u001b[0m\u001b[0;34m\u001b[0m\u001b[0m\n\u001b[1;32m      5\u001b[0m \u001b[0;34m\u001b[0m\u001b[0m\n",
      "\u001b[0;31mNameError\u001b[0m: name '_t' is not defined"
     ]
    }
   ],
   "source": [
    "votes_cols = [c for c in _t.columns if 'votes' in c]\n",
    "useful_idx = reduce(lambda acc, el: acc | el, [_t[c].notnull() for c in votes_cols]) & _t['speaker'].notnull() \n",
    "\n",
    "print(f\"found useful results for {useful_idx.sum()} people\")\n",
    "\n",
    "columns_of_interest = ['label', 'label_as_nb', 'subject', 'speaker', 'speakers_job_title_cleaned', 'state_info', 'party_affiliation', 'context', 'statement_date'] + votes_cols\n",
    "_t.loc[useful_idx, columns_of_interest]"
   ]
  },
  {
   "cell_type": "code",
   "execution_count": 23,
   "metadata": {
    "ExecuteTime": {
     "end_time": "2018-11-23T14:05:23.130725Z",
     "start_time": "2018-11-23T14:05:23.124323Z"
    },
    "scrolled": false
   },
   "outputs": [
    {
     "ename": "NameError",
     "evalue": "name '_t' is not defined",
     "output_type": "error",
     "traceback": [
      "\u001b[0;31m---------------------------------------------------------------------------\u001b[0m",
      "\u001b[0;31mNameError\u001b[0m                                 Traceback (most recent call last)",
      "\u001b[0;32m<ipython-input-23-8fc97f72a2fe>\u001b[0m in \u001b[0;36m<module>\u001b[0;34m()\u001b[0m\n\u001b[0;32m----> 1\u001b[0;31m \u001b[0m_t\u001b[0m\u001b[0;34m.\u001b[0m\u001b[0mloc\u001b[0m\u001b[0;34m[\u001b[0m\u001b[0museful_idx\u001b[0m\u001b[0;34m,\u001b[0m \u001b[0;34m'speakers_job_title_cleaned'\u001b[0m\u001b[0;34m]\u001b[0m\u001b[0;34m.\u001b[0m\u001b[0mvalue_counts\u001b[0m\u001b[0;34m(\u001b[0m\u001b[0;34m)\u001b[0m\u001b[0;34m\u001b[0m\u001b[0m\n\u001b[0m",
      "\u001b[0;31mNameError\u001b[0m: name '_t' is not defined"
     ]
    }
   ],
   "source": [
    "_t.loc[useful_idx, 'speakers_job_title_cleaned'].value_counts()"
   ]
  },
  {
   "cell_type": "code",
   "execution_count": 24,
   "metadata": {
    "ExecuteTime": {
     "end_time": "2018-11-23T14:05:25.316594Z",
     "start_time": "2018-11-23T14:05:25.264393Z"
    },
    "scrolled": true
   },
   "outputs": [
    {
     "ename": "NameError",
     "evalue": "name '_t' is not defined",
     "output_type": "error",
     "traceback": [
      "\u001b[0;31m---------------------------------------------------------------------------\u001b[0m",
      "\u001b[0;31mNameError\u001b[0m                                 Traceback (most recent call last)",
      "\u001b[0;32m<ipython-input-24-9d3c7d9446d2>\u001b[0m in \u001b[0;36m<module>\u001b[0;34m()\u001b[0m\n\u001b[0;32m----> 1\u001b[0;31m \u001b[0m_t\u001b[0m\u001b[0;34m.\u001b[0m\u001b[0mloc\u001b[0m\u001b[0;34m[\u001b[0m\u001b[0m_t\u001b[0m\u001b[0;34m[\u001b[0m\u001b[0;34m'speakers_job_title_cleaned'\u001b[0m\u001b[0;34m]\u001b[0m\u001b[0;34m.\u001b[0m\u001b[0misin\u001b[0m\u001b[0;34m(\u001b[0m\u001b[0mjob_titles_of_interest\u001b[0m\u001b[0;34m)\u001b[0m \u001b[0;34m&\u001b[0m \u001b[0museful_idx\u001b[0m\u001b[0;34m,\u001b[0m \u001b[0mcolumns_of_interest\u001b[0m\u001b[0;34m]\u001b[0m\u001b[0;34m\u001b[0m\u001b[0m\n\u001b[0m",
      "\u001b[0;31mNameError\u001b[0m: name '_t' is not defined"
     ]
    }
   ],
   "source": [
    "_t.loc[_t['speakers_job_title_cleaned'].isin(job_titles_of_interest) & useful_idx, columns_of_interest]"
   ]
  },
  {
   "cell_type": "markdown",
   "metadata": {},
   "source": [
    "Now, our dataframe looks like this:"
   ]
  },
  {
   "cell_type": "code",
   "execution_count": 25,
   "metadata": {
    "scrolled": true
   },
   "outputs": [
    {
     "ename": "NameError",
     "evalue": "name '_t' is not defined",
     "output_type": "error",
     "traceback": [
      "\u001b[0;31m---------------------------------------------------------------------------\u001b[0m",
      "\u001b[0;31mNameError\u001b[0m                                 Traceback (most recent call last)",
      "\u001b[0;32m<ipython-input-25-6bd914dc24e6>\u001b[0m in \u001b[0;36m<module>\u001b[0;34m()\u001b[0m\n\u001b[0;32m----> 1\u001b[0;31m \u001b[0m_t\u001b[0m\u001b[0;34m.\u001b[0m\u001b[0mhead\u001b[0m\u001b[0;34m(\u001b[0m\u001b[0;36m1\u001b[0m\u001b[0;34m)\u001b[0m\u001b[0;34m\u001b[0m\u001b[0m\n\u001b[0m",
      "\u001b[0;31mNameError\u001b[0m: name '_t' is not defined"
     ]
    }
   ],
   "source": [
    "_t.head(1)"
   ]
  },
  {
   "cell_type": "markdown",
   "metadata": {},
   "source": [
    "# County Data"
   ]
  },
  {
   "cell_type": "code",
   "execution_count": 26,
   "metadata": {},
   "outputs": [
    {
     "data": {
      "text/html": [
       "<div>\n",
       "<style scoped>\n",
       "    .dataframe tbody tr th:only-of-type {\n",
       "        vertical-align: middle;\n",
       "    }\n",
       "\n",
       "    .dataframe tbody tr th {\n",
       "        vertical-align: top;\n",
       "    }\n",
       "\n",
       "    .dataframe thead th {\n",
       "        text-align: right;\n",
       "    }\n",
       "</style>\n",
       "<table border=\"1\" class=\"dataframe\">\n",
       "  <thead>\n",
       "    <tr style=\"text-align: right;\">\n",
       "      <th></th>\n",
       "      <th>CensusId</th>\n",
       "      <th>State</th>\n",
       "      <th>County</th>\n",
       "      <th>TotalPop</th>\n",
       "      <th>Men</th>\n",
       "      <th>Women</th>\n",
       "      <th>Hispanic</th>\n",
       "      <th>White</th>\n",
       "      <th>Black</th>\n",
       "      <th>Native</th>\n",
       "      <th>...</th>\n",
       "      <th>Walk</th>\n",
       "      <th>OtherTransp</th>\n",
       "      <th>WorkAtHome</th>\n",
       "      <th>MeanCommute</th>\n",
       "      <th>Employed</th>\n",
       "      <th>PrivateWork</th>\n",
       "      <th>PublicWork</th>\n",
       "      <th>SelfEmployed</th>\n",
       "      <th>FamilyWork</th>\n",
       "      <th>Unemployment</th>\n",
       "    </tr>\n",
       "  </thead>\n",
       "  <tbody>\n",
       "    <tr>\n",
       "      <th>0</th>\n",
       "      <td>1001</td>\n",
       "      <td>Alabama</td>\n",
       "      <td>Autauga</td>\n",
       "      <td>55221</td>\n",
       "      <td>26745</td>\n",
       "      <td>28476</td>\n",
       "      <td>2.6</td>\n",
       "      <td>75.8</td>\n",
       "      <td>18.5</td>\n",
       "      <td>0.4</td>\n",
       "      <td>...</td>\n",
       "      <td>0.5</td>\n",
       "      <td>1.3</td>\n",
       "      <td>1.8</td>\n",
       "      <td>26.5</td>\n",
       "      <td>23986</td>\n",
       "      <td>73.6</td>\n",
       "      <td>20.9</td>\n",
       "      <td>5.5</td>\n",
       "      <td>0.0</td>\n",
       "      <td>7.6</td>\n",
       "    </tr>\n",
       "    <tr>\n",
       "      <th>1</th>\n",
       "      <td>1003</td>\n",
       "      <td>Alabama</td>\n",
       "      <td>Baldwin</td>\n",
       "      <td>195121</td>\n",
       "      <td>95314</td>\n",
       "      <td>99807</td>\n",
       "      <td>4.5</td>\n",
       "      <td>83.1</td>\n",
       "      <td>9.5</td>\n",
       "      <td>0.6</td>\n",
       "      <td>...</td>\n",
       "      <td>1.0</td>\n",
       "      <td>1.4</td>\n",
       "      <td>3.9</td>\n",
       "      <td>26.4</td>\n",
       "      <td>85953</td>\n",
       "      <td>81.5</td>\n",
       "      <td>12.3</td>\n",
       "      <td>5.8</td>\n",
       "      <td>0.4</td>\n",
       "      <td>7.5</td>\n",
       "    </tr>\n",
       "    <tr>\n",
       "      <th>2</th>\n",
       "      <td>1005</td>\n",
       "      <td>Alabama</td>\n",
       "      <td>Barbour</td>\n",
       "      <td>26932</td>\n",
       "      <td>14497</td>\n",
       "      <td>12435</td>\n",
       "      <td>4.6</td>\n",
       "      <td>46.2</td>\n",
       "      <td>46.7</td>\n",
       "      <td>0.2</td>\n",
       "      <td>...</td>\n",
       "      <td>1.8</td>\n",
       "      <td>1.5</td>\n",
       "      <td>1.6</td>\n",
       "      <td>24.1</td>\n",
       "      <td>8597</td>\n",
       "      <td>71.8</td>\n",
       "      <td>20.8</td>\n",
       "      <td>7.3</td>\n",
       "      <td>0.1</td>\n",
       "      <td>17.6</td>\n",
       "    </tr>\n",
       "    <tr>\n",
       "      <th>3</th>\n",
       "      <td>1007</td>\n",
       "      <td>Alabama</td>\n",
       "      <td>Bibb</td>\n",
       "      <td>22604</td>\n",
       "      <td>12073</td>\n",
       "      <td>10531</td>\n",
       "      <td>2.2</td>\n",
       "      <td>74.5</td>\n",
       "      <td>21.4</td>\n",
       "      <td>0.4</td>\n",
       "      <td>...</td>\n",
       "      <td>0.6</td>\n",
       "      <td>1.5</td>\n",
       "      <td>0.7</td>\n",
       "      <td>28.8</td>\n",
       "      <td>8294</td>\n",
       "      <td>76.8</td>\n",
       "      <td>16.1</td>\n",
       "      <td>6.7</td>\n",
       "      <td>0.4</td>\n",
       "      <td>8.3</td>\n",
       "    </tr>\n",
       "    <tr>\n",
       "      <th>4</th>\n",
       "      <td>1009</td>\n",
       "      <td>Alabama</td>\n",
       "      <td>Blount</td>\n",
       "      <td>57710</td>\n",
       "      <td>28512</td>\n",
       "      <td>29198</td>\n",
       "      <td>8.6</td>\n",
       "      <td>87.9</td>\n",
       "      <td>1.5</td>\n",
       "      <td>0.3</td>\n",
       "      <td>...</td>\n",
       "      <td>0.9</td>\n",
       "      <td>0.4</td>\n",
       "      <td>2.3</td>\n",
       "      <td>34.9</td>\n",
       "      <td>22189</td>\n",
       "      <td>82.0</td>\n",
       "      <td>13.5</td>\n",
       "      <td>4.2</td>\n",
       "      <td>0.4</td>\n",
       "      <td>7.7</td>\n",
       "    </tr>\n",
       "  </tbody>\n",
       "</table>\n",
       "<p>5 rows × 37 columns</p>\n",
       "</div>"
      ],
      "text/plain": [
       "   CensusId    State   County  TotalPop    Men  Women  Hispanic  White  Black  \\\n",
       "0      1001  Alabama  Autauga     55221  26745  28476       2.6   75.8   18.5   \n",
       "1      1003  Alabama  Baldwin    195121  95314  99807       4.5   83.1    9.5   \n",
       "2      1005  Alabama  Barbour     26932  14497  12435       4.6   46.2   46.7   \n",
       "3      1007  Alabama     Bibb     22604  12073  10531       2.2   74.5   21.4   \n",
       "4      1009  Alabama   Blount     57710  28512  29198       8.6   87.9    1.5   \n",
       "\n",
       "   Native      ...       Walk  OtherTransp  WorkAtHome  MeanCommute  Employed  \\\n",
       "0     0.4      ...        0.5          1.3         1.8         26.5     23986   \n",
       "1     0.6      ...        1.0          1.4         3.9         26.4     85953   \n",
       "2     0.2      ...        1.8          1.5         1.6         24.1      8597   \n",
       "3     0.4      ...        0.6          1.5         0.7         28.8      8294   \n",
       "4     0.3      ...        0.9          0.4         2.3         34.9     22189   \n",
       "\n",
       "   PrivateWork  PublicWork  SelfEmployed  FamilyWork  Unemployment  \n",
       "0         73.6        20.9           5.5         0.0           7.6  \n",
       "1         81.5        12.3           5.8         0.4           7.5  \n",
       "2         71.8        20.8           7.3         0.1          17.6  \n",
       "3         76.8        16.1           6.7         0.4           8.3  \n",
       "4         82.0        13.5           4.2         0.4           7.7  \n",
       "\n",
       "[5 rows x 37 columns]"
      ]
     },
     "execution_count": 26,
     "metadata": {},
     "output_type": "execute_result"
    }
   ],
   "source": [
    "# load data file\n",
    "county_raw = pd.read_csv(f\"{directory_county_data}/acs2015_county_data.csv\")\n",
    "US_states = county_raw['State'].unique()\n",
    "county_raw.head()"
   ]
  },
  {
   "cell_type": "markdown",
   "metadata": {
    "ExecuteTime": {
     "end_time": "2018-11-23T13:15:16.215139Z",
     "start_time": "2018-11-23T13:15:16.189010Z"
    }
   },
   "source": [
    "# DATA SET COMPLETE"
   ]
  },
  {
   "cell_type": "markdown",
   "metadata": {},
   "source": [
    "At this point, we collected all the columns we need. Let's see how we can clean them:"
   ]
  },
  {
   "cell_type": "code",
   "execution_count": 27,
   "metadata": {
    "ExecuteTime": {
     "end_time": "2018-11-23T14:14:08.462121Z",
     "start_time": "2018-11-23T14:14:08.444554Z"
    }
   },
   "outputs": [
    {
     "ename": "NameError",
     "evalue": "name '_t' is not defined",
     "output_type": "error",
     "traceback": [
      "\u001b[0;31m---------------------------------------------------------------------------\u001b[0m",
      "\u001b[0;31mNameError\u001b[0m                                 Traceback (most recent call last)",
      "\u001b[0;32m<ipython-input-27-d116ff5f1c3c>\u001b[0m in \u001b[0;36m<module>\u001b[0;34m()\u001b[0m\n\u001b[0;32m----> 1\u001b[0;31m \u001b[0mmedian_speaker_value\u001b[0m \u001b[0;34m=\u001b[0m \u001b[0m_t\u001b[0m\u001b[0;34m.\u001b[0m\u001b[0mgroupby\u001b[0m\u001b[0;34m(\u001b[0m\u001b[0;34m[\u001b[0m\u001b[0;34m'statement_year'\u001b[0m\u001b[0;34m,\u001b[0m \u001b[0;34m'speaker'\u001b[0m\u001b[0;34m]\u001b[0m\u001b[0;34m)\u001b[0m\u001b[0;34m[\u001b[0m\u001b[0;34m'label_as_nb'\u001b[0m\u001b[0;34m]\u001b[0m\u001b[0;34m.\u001b[0m\u001b[0mmedian\u001b[0m\u001b[0;34m(\u001b[0m\u001b[0;34m)\u001b[0m\u001b[0;34m.\u001b[0m\u001b[0mreset_index\u001b[0m\u001b[0;34m(\u001b[0m\u001b[0;34m)\u001b[0m\u001b[0;34m\u001b[0m\u001b[0m\n\u001b[0m",
      "\u001b[0;31mNameError\u001b[0m: name '_t' is not defined"
     ]
    }
   ],
   "source": [
    "median_speaker_value = _t.groupby(['statement_year', 'speaker'])['label_as_nb'].median().reset_index()"
   ]
  },
  {
   "cell_type": "code",
   "execution_count": 28,
   "metadata": {
    "ExecuteTime": {
     "end_time": "2018-11-23T14:14:12.630778Z",
     "start_time": "2018-11-23T14:14:12.617803Z"
    },
    "scrolled": true
   },
   "outputs": [
    {
     "ename": "NameError",
     "evalue": "name 'median_speaker_value' is not defined",
     "output_type": "error",
     "traceback": [
      "\u001b[0;31m---------------------------------------------------------------------------\u001b[0m",
      "\u001b[0;31mNameError\u001b[0m                                 Traceback (most recent call last)",
      "\u001b[0;32m<ipython-input-28-d94961eda4b8>\u001b[0m in \u001b[0;36m<module>\u001b[0;34m()\u001b[0m\n\u001b[0;32m----> 1\u001b[0;31m \u001b[0mmedian_speaker_value\u001b[0m\u001b[0;34m[\u001b[0m\u001b[0mmedian_speaker_value\u001b[0m\u001b[0;34m[\u001b[0m\u001b[0;34m'statement_year'\u001b[0m\u001b[0;34m]\u001b[0m \u001b[0;34m==\u001b[0m \u001b[0;36m2016\u001b[0m\u001b[0;34m]\u001b[0m\u001b[0;34m\u001b[0m\u001b[0m\n\u001b[0m",
      "\u001b[0;31mNameError\u001b[0m: name 'median_speaker_value' is not defined"
     ]
    }
   ],
   "source": [
    "median_speaker_value[median_speaker_value['statement_year'] == 2016]"
   ]
  },
  {
   "cell_type": "markdown",
   "metadata": {},
   "source": [
    "### Non-People Speakers Handling"
   ]
  },
  {
   "cell_type": "markdown",
   "metadata": {},
   "source": [
    "Removing non-people (_tweets, facebook posts, etc._) from the dataset:"
   ]
  },
  {
   "cell_type": "code",
   "execution_count": 29,
   "metadata": {
    "scrolled": false
   },
   "outputs": [
    {
     "name": "stdout",
     "output_type": "stream",
     "text": [
      "[nltk_data] Downloading package punkt to /Users/puma/nltk_data...\n",
      "[nltk_data]   Package punkt is already up-to-date!\n"
     ]
    },
    {
     "ename": "NameError",
     "evalue": "name 'get_ner_tag' is not defined",
     "output_type": "error",
     "traceback": [
      "\u001b[0;31m---------------------------------------------------------------------------\u001b[0m",
      "\u001b[0;31mNameError\u001b[0m                                 Traceback (most recent call last)",
      "\u001b[0;32m<ipython-input-29-c89e6a15a211>\u001b[0m in \u001b[0;36m<module>\u001b[0;34m()\u001b[0m\n\u001b[1;32m     26\u001b[0m \u001b[0;31m# just to see if/how it works\u001b[0m\u001b[0;34m\u001b[0m\u001b[0;34m\u001b[0m\u001b[0m\n\u001b[1;32m     27\u001b[0m \u001b[0mword\u001b[0m \u001b[0;34m=\u001b[0m \u001b[0;34m\"Twitter-Post-Anna\"\u001b[0m\u001b[0;34m\u001b[0m\u001b[0m\n\u001b[0;32m---> 28\u001b[0;31m \u001b[0mget_ner_tag\u001b[0m\u001b[0;34m(\u001b[0m\u001b[0mword\u001b[0m\u001b[0;34m)\u001b[0m\u001b[0;34m\u001b[0m\u001b[0m\n\u001b[0m\u001b[1;32m     29\u001b[0m \u001b[0;34m\u001b[0m\u001b[0m\n\u001b[1;32m     30\u001b[0m \u001b[0mfull_speaker_name\u001b[0m \u001b[0;34m=\u001b[0m \u001b[0;34m\"Barack-Obama\"\u001b[0m\u001b[0;34m\u001b[0m\u001b[0m\n",
      "\u001b[0;31mNameError\u001b[0m: name 'get_ner_tag' is not defined"
     ]
    }
   ],
   "source": [
    "from nltk import download\n",
    "download('punkt')\n",
    "from nltk.tag import StanfordNERTagger\n",
    "from nltk.tokenize import word_tokenize\n",
    "from nltk import sent_tokenize\n",
    "from collections import Counter\n",
    "\n",
    "model = 'nlp/stanford-ner-2018-10-16/classifiers/english.all.3class.distsim.crf.ser.gz'\n",
    "jar = 'nlp/stanford-ner-2018-10-16/stanford-ner-3.9.2.jar'\n",
    "st = StanfordNERTagger(model, jar, encoding='utf-8')\n",
    "\n",
    "def get_tag(speaker):\n",
    "    ner_tag = 0\n",
    "    if type(speaker) == str:\n",
    "        full_speaker_name = speaker.replace(\"-\", \" \").title()\n",
    "\n",
    "        for sent in sent_tokenize(full_speaker_name):\n",
    "            tokens = word_tokenize(sent)\n",
    "            tags = st.tag(tokens)\n",
    "            \n",
    "        ner_tag= Counter(dict(tags).values()).most_common(1)[0][0]\n",
    "        print(tags, \" --> \", ner_tag)\n",
    "    return ner_tag\n",
    "    \n",
    "\n",
    "# just to see if/how it works\n",
    "word = \"Twitter-Post-Anna\"\n",
    "get_ner_tag(word)\n",
    "\n",
    "full_speaker_name = \"Barack-Obama\"\n",
    "get_ner_tag(full_speaker_name)\n",
    "\n",
    "full_speaker_name = 0\n",
    "get_ner_tag(full_speaker_name)\n"
   ]
  },
  {
   "cell_type": "code",
   "execution_count": null,
   "metadata": {
    "scrolled": true
   },
   "outputs": [],
   "source": [
    "import os.path\n",
    "\n",
    "file_path = 'nlp/speaker_tags.json'\n",
    "\n",
    "if not os.path.exists(file_path):\n",
    "    print(f\"Total number of values to classify: {len(_t['speaker'].value_counts().index)}\")\n",
    "\n",
    "    words_with_tags = {}\n",
    "    for word in _t['speaker'].value_counts().index:\n",
    "        words_with_tags[word] = get_tag(word)\n",
    "    \n",
    "    # save tags, since it took ~3h to tag all 3214 unique speakers\n",
    "    with open(file_path, 'w') as fp:\n",
    "        json.dump(words_with_tags, fp, indent=4)\n",
    "else:\n",
    "    with open(file_path, 'r') as f:\n",
    "        words_with_tags = json.load(f)\n",
    "    print(f\"Total number of classified values (from file): {len(words_with_tags)}\")"
   ]
  },
  {
   "cell_type": "code",
   "execution_count": null,
   "metadata": {
    "scrolled": true
   },
   "outputs": [],
   "source": [
    "_t[\"speaker_tag\"] = _t.apply(lambda row: words_with_tags[row['speaker']] if not pd.isnull(row['speaker']) else row['speaker'], axis=1)\n",
    "_t[['speaker','speaker_tag']].drop_duplicates()"
   ]
  },
  {
   "cell_type": "markdown",
   "metadata": {},
   "source": [
    "Seems good, so now let's remove non-people from the dataset:"
   ]
  },
  {
   "cell_type": "code",
   "execution_count": null,
   "metadata": {},
   "outputs": [],
   "source": [
    "_t.shape"
   ]
  },
  {
   "cell_type": "code",
   "execution_count": null,
   "metadata": {},
   "outputs": [],
   "source": [
    "_t[_t['speaker_tag'] == \"PERSON\"].shape"
   ]
  },
  {
   "cell_type": "markdown",
   "metadata": {},
   "source": [
    "We see that we will remove ~5000 statements which are made by (speaker) _Twitter, Facebook, Blog post, Republican Party Texas, etc._"
   ]
  },
  {
   "cell_type": "code",
   "execution_count": 30,
   "metadata": {},
   "outputs": [
    {
     "ename": "NameError",
     "evalue": "name '_t' is not defined",
     "output_type": "error",
     "traceback": [
      "\u001b[0;31m---------------------------------------------------------------------------\u001b[0m",
      "\u001b[0;31mNameError\u001b[0m                                 Traceback (most recent call last)",
      "\u001b[0;32m<ipython-input-30-c625ec858ee9>\u001b[0m in \u001b[0;36m<module>\u001b[0;34m()\u001b[0m\n\u001b[1;32m      1\u001b[0m \u001b[0;31m# removing non-people statements\u001b[0m\u001b[0;34m\u001b[0m\u001b[0;34m\u001b[0m\u001b[0m\n\u001b[0;32m----> 2\u001b[0;31m \u001b[0m_t\u001b[0m \u001b[0;34m=\u001b[0m \u001b[0m_t\u001b[0m\u001b[0;34m[\u001b[0m\u001b[0m_t\u001b[0m\u001b[0;34m[\u001b[0m\u001b[0;34m'speaker_tag'\u001b[0m\u001b[0;34m]\u001b[0m \u001b[0;34m==\u001b[0m \u001b[0;34m\"PERSON\"\u001b[0m\u001b[0;34m]\u001b[0m\u001b[0;34m\u001b[0m\u001b[0m\n\u001b[0m",
      "\u001b[0;31mNameError\u001b[0m: name '_t' is not defined"
     ]
    }
   ],
   "source": [
    "# removing non-people statements\n",
    "_t = _t[_t['speaker_tag'] == \"PERSON\"]"
   ]
  },
  {
   "cell_type": "markdown",
   "metadata": {},
   "source": [
    "### Clean-up Context"
   ]
  },
  {
   "cell_type": "code",
   "execution_count": 31,
   "metadata": {
    "scrolled": true
   },
   "outputs": [
    {
     "ename": "NameError",
     "evalue": "name '_t' is not defined",
     "output_type": "error",
     "traceback": [
      "\u001b[0;31m---------------------------------------------------------------------------\u001b[0m",
      "\u001b[0;31mNameError\u001b[0m                                 Traceback (most recent call last)",
      "\u001b[0;32m<ipython-input-31-e0c6b5558a5b>\u001b[0m in \u001b[0;36m<module>\u001b[0;34m()\u001b[0m\n\u001b[0;32m----> 1\u001b[0;31m \u001b[0m_t\u001b[0m\u001b[0;34m[\u001b[0m\u001b[0;34m\"context\"\u001b[0m\u001b[0;34m]\u001b[0m\u001b[0;34m.\u001b[0m\u001b[0mvalue_counts\u001b[0m\u001b[0;34m(\u001b[0m\u001b[0;34m)\u001b[0m\u001b[0;34m.\u001b[0m\u001b[0mindex\u001b[0m\u001b[0;34m.\u001b[0m\u001b[0mvalues\u001b[0m\u001b[0;34m\u001b[0m\u001b[0m\n\u001b[0m",
      "\u001b[0;31mNameError\u001b[0m: name '_t' is not defined"
     ]
    }
   ],
   "source": [
    "_t[\"context\"].value_counts().index.values"
   ]
  },
  {
   "cell_type": "markdown",
   "metadata": {},
   "source": [
    "It would be good to try using the tool that would extract keywords from these phases. Let's use NLTK Rake:"
   ]
  },
  {
   "cell_type": "code",
   "execution_count": 32,
   "metadata": {
    "scrolled": true
   },
   "outputs": [
    {
     "ename": "ModuleNotFoundError",
     "evalue": "No module named 'rake_nltk'",
     "output_type": "error",
     "traceback": [
      "\u001b[0;31m---------------------------------------------------------------------------\u001b[0m",
      "\u001b[0;31mModuleNotFoundError\u001b[0m                       Traceback (most recent call last)",
      "\u001b[0;32m<ipython-input-32-1852c789c63f>\u001b[0m in \u001b[0;36m<module>\u001b[0;34m()\u001b[0m\n\u001b[0;32m----> 1\u001b[0;31m \u001b[0;32mfrom\u001b[0m \u001b[0mrake_nltk\u001b[0m \u001b[0;32mimport\u001b[0m \u001b[0mRake\u001b[0m\u001b[0;34m,\u001b[0m \u001b[0mMetric\u001b[0m\u001b[0;34m\u001b[0m\u001b[0m\n\u001b[0m\u001b[1;32m      2\u001b[0m \u001b[0;32mfrom\u001b[0m \u001b[0mcollections\u001b[0m \u001b[0;32mimport\u001b[0m \u001b[0mCounter\u001b[0m\u001b[0;34m\u001b[0m\u001b[0m\n\u001b[1;32m      3\u001b[0m \u001b[0;34m\u001b[0m\u001b[0m\n\u001b[1;32m      4\u001b[0m \u001b[0mdebug\u001b[0m \u001b[0;34m=\u001b[0m \u001b[0;32mFalse\u001b[0m\u001b[0;34m\u001b[0m\u001b[0m\n\u001b[1;32m      5\u001b[0m \u001b[0;34m\u001b[0m\u001b[0m\n",
      "\u001b[0;31mModuleNotFoundError\u001b[0m: No module named 'rake_nltk'"
     ]
    }
   ],
   "source": [
    "from rake_nltk import Rake, Metric\n",
    "from collections import Counter\n",
    "\n",
    "debug = False\n",
    "\n",
    "def do_keyword_extraction(words):\n",
    "    if debug: print(\"---\\n\", words)\n",
    "        \n",
    "    rake_all = Rake()\n",
    "    rake_all.extract_keywords_from_sentences(_t[\"context\"].value_counts().index.values)\n",
    "\n",
    "    word_degrees = dict(rake_all.get_word_degrees())\n",
    "    \n",
    "    r = Rake()\n",
    "    r.extract_keywords_from_text(words)\n",
    "\n",
    "    keywords = dict(r.get_word_degrees())\n",
    "    \n",
    "    if debug: print(keywords)\n",
    "        \n",
    "    for k, v in keywords.items():\n",
    "        keywords[k] = word_degrees[k]\n",
    "    \n",
    "    if debug: print(keywords)\n",
    "\n",
    "    return Counter(keywords).most_common(1)[0]"
   ]
  },
  {
   "cell_type": "code",
   "execution_count": 33,
   "metadata": {
    "scrolled": true
   },
   "outputs": [
    {
     "ename": "NameError",
     "evalue": "name 'do_keyword_extraction' is not defined",
     "output_type": "error",
     "traceback": [
      "\u001b[0;31m---------------------------------------------------------------------------\u001b[0m",
      "\u001b[0;31mNameError\u001b[0m                                 Traceback (most recent call last)",
      "\u001b[0;32m<ipython-input-33-c45a67aa48ca>\u001b[0m in \u001b[0;36m<module>\u001b[0;34m()\u001b[0m\n\u001b[1;32m      1\u001b[0m \u001b[0;31m# try to see how it works\u001b[0m\u001b[0;34m\u001b[0m\u001b[0;34m\u001b[0m\u001b[0m\n\u001b[1;32m      2\u001b[0m \u001b[0mtext_to_process\u001b[0m \u001b[0;34m=\u001b[0m \u001b[0;34m\"a television interview\"\u001b[0m\u001b[0;34m\u001b[0m\u001b[0m\n\u001b[0;32m----> 3\u001b[0;31m \u001b[0mdo_keyword_extraction\u001b[0m\u001b[0;34m(\u001b[0m\u001b[0;34m\"an interview\"\u001b[0m\u001b[0;34m)\u001b[0m\u001b[0;34m\u001b[0m\u001b[0m\n\u001b[0m\u001b[1;32m      4\u001b[0m \u001b[0mdo_keyword_extraction\u001b[0m\u001b[0;34m(\u001b[0m\u001b[0;34m\"a television interview\"\u001b[0m\u001b[0;34m)\u001b[0m\u001b[0;34m\u001b[0m\u001b[0m\n\u001b[1;32m      5\u001b[0m \u001b[0mdo_keyword_extraction\u001b[0m\u001b[0;34m(\u001b[0m\u001b[0;34m\"a TV interview\"\u001b[0m\u001b[0;34m)\u001b[0m\u001b[0;34m\u001b[0m\u001b[0m\n",
      "\u001b[0;31mNameError\u001b[0m: name 'do_keyword_extraction' is not defined"
     ]
    }
   ],
   "source": [
    "# try to see how it works\n",
    "text_to_process = \"a television interview\"\n",
    "do_keyword_extraction(\"an interview\")\n",
    "do_keyword_extraction(\"a television interview\")\n",
    "do_keyword_extraction(\"a TV interview\")"
   ]
  },
  {
   "cell_type": "code",
   "execution_count": 34,
   "metadata": {
    "scrolled": false
   },
   "outputs": [
    {
     "ename": "NameError",
     "evalue": "name '_t' is not defined",
     "output_type": "error",
     "traceback": [
      "\u001b[0;31m---------------------------------------------------------------------------\u001b[0m",
      "\u001b[0;31mNameError\u001b[0m                                 Traceback (most recent call last)",
      "\u001b[0;32m<ipython-input-34-bb6ac04755b6>\u001b[0m in \u001b[0;36m<module>\u001b[0;34m()\u001b[0m\n\u001b[0;32m----> 1\u001b[0;31m \u001b[0m_t\u001b[0m\u001b[0;34m[\u001b[0m\u001b[0;34m\"context_tag\"\u001b[0m\u001b[0;34m]\u001b[0m \u001b[0;34m=\u001b[0m \u001b[0m_t\u001b[0m\u001b[0;34m.\u001b[0m\u001b[0mapply\u001b[0m\u001b[0;34m(\u001b[0m\u001b[0;32mlambda\u001b[0m \u001b[0mrow\u001b[0m\u001b[0;34m:\u001b[0m \u001b[0mdo_keyword_extraction\u001b[0m\u001b[0;34m(\u001b[0m\u001b[0mrow\u001b[0m\u001b[0;34m[\u001b[0m\u001b[0;34m'context'\u001b[0m\u001b[0;34m]\u001b[0m\u001b[0;34m)\u001b[0m \u001b[0;32mif\u001b[0m \u001b[0;32mnot\u001b[0m \u001b[0mpd\u001b[0m\u001b[0;34m.\u001b[0m\u001b[0misnull\u001b[0m\u001b[0;34m(\u001b[0m\u001b[0mrow\u001b[0m\u001b[0;34m[\u001b[0m\u001b[0;34m'context'\u001b[0m\u001b[0;34m]\u001b[0m\u001b[0;34m)\u001b[0m \u001b[0;32melse\u001b[0m \u001b[0mrow\u001b[0m\u001b[0;34m[\u001b[0m\u001b[0;34m'context'\u001b[0m\u001b[0;34m]\u001b[0m\u001b[0;34m,\u001b[0m \u001b[0maxis\u001b[0m\u001b[0;34m=\u001b[0m\u001b[0;36m1\u001b[0m\u001b[0;34m)\u001b[0m\u001b[0;34m\u001b[0m\u001b[0m\n\u001b[0m",
      "\u001b[0;31mNameError\u001b[0m: name '_t' is not defined"
     ]
    }
   ],
   "source": [
    "_t[\"context_tag\"] = _t.apply(lambda row: do_keyword_extraction(row['context']) if not pd.isnull(row['context']) else row['context'], axis=1)"
   ]
  },
  {
   "cell_type": "code",
   "execution_count": 35,
   "metadata": {},
   "outputs": [
    {
     "ename": "NameError",
     "evalue": "name '_t' is not defined",
     "output_type": "error",
     "traceback": [
      "\u001b[0;31m---------------------------------------------------------------------------\u001b[0m",
      "\u001b[0;31mNameError\u001b[0m                                 Traceback (most recent call last)",
      "\u001b[0;32m<ipython-input-35-ea2de8b3e01d>\u001b[0m in \u001b[0;36m<module>\u001b[0;34m()\u001b[0m\n\u001b[0;32m----> 1\u001b[0;31m \u001b[0mcontext_tags\u001b[0m \u001b[0;34m=\u001b[0m \u001b[0m_t\u001b[0m\u001b[0;34m[\u001b[0m\u001b[0;34m[\u001b[0m\u001b[0;34m'context'\u001b[0m\u001b[0;34m,\u001b[0m\u001b[0;34m'context_tag'\u001b[0m\u001b[0;34m]\u001b[0m\u001b[0;34m]\u001b[0m\u001b[0;34m[\u001b[0m\u001b[0;34m'context_tag'\u001b[0m\u001b[0;34m]\u001b[0m\u001b[0;34m.\u001b[0m\u001b[0mvalue_counts\u001b[0m\u001b[0;34m(\u001b[0m\u001b[0;34m)\u001b[0m\u001b[0;34m\u001b[0m\u001b[0m\n\u001b[0m\u001b[1;32m      2\u001b[0m \u001b[0mprint\u001b[0m\u001b[0;34m(\u001b[0m\u001b[0;34mf\"Number of different context tags is {len(context_tags)}\"\u001b[0m\u001b[0;34m)\u001b[0m\u001b[0;34m\u001b[0m\u001b[0m\n\u001b[1;32m      3\u001b[0m \u001b[0mcontext_tags\u001b[0m\u001b[0;34m\u001b[0m\u001b[0m\n",
      "\u001b[0;31mNameError\u001b[0m: name '_t' is not defined"
     ]
    }
   ],
   "source": [
    "context_tags = _t[['context','context_tag']]['context_tag'].value_counts()\n",
    "print(f\"Number of different context tags is {len(context_tags)}\")\n",
    "context_tags"
   ]
  },
  {
   "cell_type": "markdown",
   "metadata": {},
   "source": [
    "We see that the number of context tags is 271, which is a preatty big number. Let's consider decreasing this number and make smaller groups."
   ]
  },
  {
   "cell_type": "code",
   "execution_count": 36,
   "metadata": {},
   "outputs": [],
   "source": [
    "# TODO: make smaller context groups, ideally around 10"
   ]
  },
  {
   "cell_type": "code",
   "execution_count": 37,
   "metadata": {},
   "outputs": [],
   "source": [
    "# TODO: implement tagging on the cleaned jobs as well"
   ]
  },
  {
   "cell_type": "code",
   "execution_count": 38,
   "metadata": {},
   "outputs": [],
   "source": [
    "# TODO: plot the answers from research questions we have"
   ]
  },
  {
   "cell_type": "markdown",
   "metadata": {},
   "source": [
    "## Some initial insights"
   ]
  },
  {
   "cell_type": "code",
   "execution_count": 39,
   "metadata": {
    "scrolled": true
   },
   "outputs": [
    {
     "ename": "NameError",
     "evalue": "name '_t' is not defined",
     "output_type": "error",
     "traceback": [
      "\u001b[0;31m---------------------------------------------------------------------------\u001b[0m",
      "\u001b[0;31mNameError\u001b[0m                                 Traceback (most recent call last)",
      "\u001b[0;32m<ipython-input-39-f40e6d30a8e9>\u001b[0m in \u001b[0;36m<module>\u001b[0;34m()\u001b[0m\n\u001b[0;32m----> 1\u001b[0;31m \u001b[0m_t\u001b[0m\u001b[0;34m[\u001b[0m\u001b[0;34m'sum_not_so_true'\u001b[0m\u001b[0;34m]\u001b[0m \u001b[0;34m=\u001b[0m \u001b[0m_t\u001b[0m\u001b[0;34m[\u001b[0m\u001b[0;34m'pants_on_fire_counts'\u001b[0m\u001b[0;34m]\u001b[0m\u001b[0;34m/\u001b[0m\u001b[0;34m(\u001b[0m\u001b[0m_t\u001b[0m\u001b[0;34m[\u001b[0m\u001b[0;34m'barely_true_counts'\u001b[0m\u001b[0;34m]\u001b[0m \u001b[0;34m+\u001b[0m \u001b[0m_t\u001b[0m\u001b[0;34m[\u001b[0m\u001b[0;34m'false_counts'\u001b[0m\u001b[0;34m]\u001b[0m \u001b[0;34m+\u001b[0m \u001b[0m_t\u001b[0m\u001b[0;34m[\u001b[0m\u001b[0;34m'half_true_counts'\u001b[0m\u001b[0;34m]\u001b[0m \u001b[0;34m+\u001b[0m \u001b[0m_t\u001b[0m\u001b[0;34m[\u001b[0m\u001b[0;34m'mostly_true_counts'\u001b[0m\u001b[0;34m]\u001b[0m \u001b[0;34m+\u001b[0m \u001b[0m_t\u001b[0m\u001b[0;34m[\u001b[0m\u001b[0;34m'pants_on_fire_counts'\u001b[0m\u001b[0;34m]\u001b[0m\u001b[0;34m)\u001b[0m\u001b[0;34m\u001b[0m\u001b[0m\n\u001b[0m\u001b[1;32m      2\u001b[0m \u001b[0mnumber_of_party_affiliation\u001b[0m \u001b[0;34m=\u001b[0m \u001b[0m_t\u001b[0m\u001b[0;34m.\u001b[0m\u001b[0mgroupby\u001b[0m\u001b[0;34m(\u001b[0m\u001b[0;34m'party_affiliation'\u001b[0m\u001b[0;34m)\u001b[0m\u001b[0;34m[\u001b[0m\u001b[0;34m'sum_not_so_true'\u001b[0m\u001b[0;34m]\u001b[0m\u001b[0;34m.\u001b[0m\u001b[0msum\u001b[0m\u001b[0;34m(\u001b[0m\u001b[0;34m)\u001b[0m\u001b[0;34m.\u001b[0m\u001b[0msort_values\u001b[0m\u001b[0;34m(\u001b[0m\u001b[0mascending\u001b[0m\u001b[0;34m=\u001b[0m\u001b[0;32mFalse\u001b[0m\u001b[0;34m)\u001b[0m\u001b[0;34m\u001b[0m\u001b[0m\n\u001b[1;32m      3\u001b[0m \u001b[0mnumber_of_party_affiliation\u001b[0m\u001b[0;34m\u001b[0m\u001b[0m\n",
      "\u001b[0;31mNameError\u001b[0m: name '_t' is not defined"
     ]
    }
   ],
   "source": [
    "_t['sum_not_so_true'] = _t['pants_on_fire_counts']/(_t['barely_true_counts'] + _t['false_counts'] + _t['half_true_counts'] + _t['mostly_true_counts'] + _t['pants_on_fire_counts'])\n",
    "number_of_party_affiliation = _t.groupby('party_affiliation')['sum_not_so_true'].sum().sort_values(ascending=False)\n",
    "number_of_party_affiliation"
   ]
  },
  {
   "cell_type": "markdown",
   "metadata": {},
   "source": [
    "Here are the `party_affiliations` who most lie ordered by their proportion of lies. But we already know that the 2 dominant parties in USA are republican and democrat. We see that there are lots of unknown party affiliations from which we can make identify 2 possibilities"
   ]
  },
  {
   "cell_type": "code",
   "execution_count": 40,
   "metadata": {
    "scrolled": true
   },
   "outputs": [
    {
     "ename": "NameError",
     "evalue": "name '_t' is not defined",
     "output_type": "error",
     "traceback": [
      "\u001b[0;31m---------------------------------------------------------------------------\u001b[0m",
      "\u001b[0;31mNameError\u001b[0m                                 Traceback (most recent call last)",
      "\u001b[0;32m<ipython-input-40-deb489306cc2>\u001b[0m in \u001b[0;36m<module>\u001b[0;34m()\u001b[0m\n\u001b[0;32m----> 1\u001b[0;31m \u001b[0mnumber_of_party_affiliation\u001b[0m \u001b[0;34m=\u001b[0m \u001b[0m_t\u001b[0m\u001b[0;34m.\u001b[0m\u001b[0mgroupby\u001b[0m\u001b[0;34m(\u001b[0m\u001b[0;34m[\u001b[0m\u001b[0;34m'speaker'\u001b[0m\u001b[0;34m]\u001b[0m\u001b[0;34m)\u001b[0m\u001b[0;34m[\u001b[0m\u001b[0;34m'sum_not_so_true'\u001b[0m\u001b[0;34m]\u001b[0m\u001b[0;34m.\u001b[0m\u001b[0msum\u001b[0m\u001b[0;34m(\u001b[0m\u001b[0;34m)\u001b[0m\u001b[0;34m.\u001b[0m\u001b[0msort_values\u001b[0m\u001b[0;34m(\u001b[0m\u001b[0mascending\u001b[0m\u001b[0;34m=\u001b[0m\u001b[0;32mFalse\u001b[0m\u001b[0;34m)\u001b[0m\u001b[0;34m\u001b[0m\u001b[0m\n\u001b[0m\u001b[1;32m      2\u001b[0m \u001b[0mnumber_of_party_affiliation\u001b[0m\u001b[0;34m.\u001b[0m\u001b[0mhead\u001b[0m\u001b[0;34m(\u001b[0m\u001b[0;36m10\u001b[0m\u001b[0;34m)\u001b[0m\u001b[0;34m\u001b[0m\u001b[0m\n",
      "\u001b[0;31mNameError\u001b[0m: name '_t' is not defined"
     ]
    }
   ],
   "source": [
    "number_of_party_affiliation = _t.groupby(['speaker'])['sum_not_so_true'].sum().sort_values(ascending=False)\n",
    "number_of_party_affiliation.head(10)"
   ]
  },
  {
   "cell_type": "markdown",
   "metadata": {},
   "source": [
    "Looking at the dataset content, people above are sorted quantity of lies."
   ]
  },
  {
   "cell_type": "code",
   "execution_count": 41,
   "metadata": {
    "scrolled": false
   },
   "outputs": [
    {
     "ename": "NameError",
     "evalue": "name '_t' is not defined",
     "output_type": "error",
     "traceback": [
      "\u001b[0;31m---------------------------------------------------------------------------\u001b[0m",
      "\u001b[0;31mNameError\u001b[0m                                 Traceback (most recent call last)",
      "\u001b[0;32m<ipython-input-41-a0102b1e0120>\u001b[0m in \u001b[0;36m<module>\u001b[0;34m()\u001b[0m\n\u001b[0;32m----> 1\u001b[0;31m \u001b[0mall_contexts\u001b[0m \u001b[0;34m=\u001b[0m \u001b[0m_t\u001b[0m\u001b[0;34m[\u001b[0m\u001b[0;34m'context_tag'\u001b[0m\u001b[0;34m]\u001b[0m\u001b[0;34m.\u001b[0m\u001b[0munique\u001b[0m\u001b[0;34m(\u001b[0m\u001b[0;34m)\u001b[0m\u001b[0;34m\u001b[0m\u001b[0m\n\u001b[0m\u001b[1;32m      2\u001b[0m \u001b[0mnb_elements_context\u001b[0m \u001b[0;34m=\u001b[0m \u001b[0m_t\u001b[0m\u001b[0;34m.\u001b[0m\u001b[0mgroupby\u001b[0m\u001b[0;34m(\u001b[0m\u001b[0;34m[\u001b[0m\u001b[0;34m'context_tag'\u001b[0m\u001b[0;34m]\u001b[0m\u001b[0;34m)\u001b[0m\u001b[0;34m[\u001b[0m\u001b[0;34m'context_tag'\u001b[0m\u001b[0;34m]\u001b[0m\u001b[0;34m.\u001b[0m\u001b[0mcount\u001b[0m\u001b[0;34m(\u001b[0m\u001b[0;34m)\u001b[0m\u001b[0;34m.\u001b[0m\u001b[0msort_values\u001b[0m\u001b[0;34m(\u001b[0m\u001b[0mascending\u001b[0m\u001b[0;34m=\u001b[0m\u001b[0;32mFalse\u001b[0m\u001b[0;34m)\u001b[0m\u001b[0;34m\u001b[0m\u001b[0m\n\u001b[1;32m      3\u001b[0m \u001b[0mnb_elements_context\u001b[0m\u001b[0;34m.\u001b[0m\u001b[0mhead\u001b[0m\u001b[0;34m(\u001b[0m\u001b[0;36m50\u001b[0m\u001b[0;34m)\u001b[0m\u001b[0;34m\u001b[0m\u001b[0m\n",
      "\u001b[0;31mNameError\u001b[0m: name '_t' is not defined"
     ]
    }
   ],
   "source": [
    "all_contexts = _t['context_tag'].unique()\n",
    "nb_elements_context = _t.groupby(['context_tag'])['context_tag'].count().sort_values(ascending=False)\n",
    "nb_elements_context.head(50)"
   ]
  },
  {
   "cell_type": "markdown",
   "metadata": {},
   "source": [
    "Looking at the context, it seems that people lie the most during the interviews, then speech, after debates, and so on..."
   ]
  },
  {
   "cell_type": "markdown",
   "metadata": {},
   "source": [
    "## [misc] One statement content visualization"
   ]
  },
  {
   "cell_type": "markdown",
   "metadata": {},
   "source": [
    "Let's analyse first row, statement with id `1`. What is the information we get there?"
   ]
  },
  {
   "cell_type": "code",
   "execution_count": 42,
   "metadata": {},
   "outputs": [],
   "source": [
    "sid = 1.0"
   ]
  },
  {
   "cell_type": "code",
   "execution_count": 43,
   "metadata": {},
   "outputs": [
    {
     "ename": "NameError",
     "evalue": "name '_t' is not defined",
     "output_type": "error",
     "traceback": [
      "\u001b[0;31m---------------------------------------------------------------------------\u001b[0m",
      "\u001b[0;31mNameError\u001b[0m                                 Traceback (most recent call last)",
      "\u001b[0;32m<ipython-input-43-a8e3a32cbb1c>\u001b[0m in \u001b[0;36m<module>\u001b[0;34m()\u001b[0m\n\u001b[0;32m----> 1\u001b[0;31m \u001b[0m_t\u001b[0m\u001b[0;34m[\u001b[0m\u001b[0m_t\u001b[0m\u001b[0;34m.\u001b[0m\u001b[0mstatement_id\u001b[0m \u001b[0;34m==\u001b[0m \u001b[0msid\u001b[0m\u001b[0;34m]\u001b[0m\u001b[0;34m\u001b[0m\u001b[0m\n\u001b[0m",
      "\u001b[0;31mNameError\u001b[0m: name '_t' is not defined"
     ]
    }
   ],
   "source": [
    "_t[_t.statement_id == sid]"
   ]
  },
  {
   "cell_type": "code",
   "execution_count": 44,
   "metadata": {},
   "outputs": [],
   "source": [
    "with open(f\"{directory_statements}/{int(sid)}.json\", \"r\") as f:\n",
    "    data = json.load(f)"
   ]
  },
  {
   "cell_type": "markdown",
   "metadata": {},
   "source": [
    "Just to visualize JSON hierarchy, run the following cell:"
   ]
  },
  {
   "cell_type": "code",
   "execution_count": 45,
   "metadata": {},
   "outputs": [
    {
     "ename": "FileNotFoundError",
     "evalue": "[Errno 2] No such file or directory: '../docs/data_insight/data.json'",
     "output_type": "error",
     "traceback": [
      "\u001b[0;31m---------------------------------------------------------------------------\u001b[0m",
      "\u001b[0;31mFileNotFoundError\u001b[0m                         Traceback (most recent call last)",
      "\u001b[0;32m<ipython-input-45-0c41c9fde1ec>\u001b[0m in \u001b[0;36m<module>\u001b[0;34m()\u001b[0m\n\u001b[1;32m     17\u001b[0m \u001b[0mmy_dict\u001b[0m \u001b[0;34m=\u001b[0m \u001b[0mgo_further\u001b[0m\u001b[0;34m(\u001b[0m\u001b[0mdata\u001b[0m\u001b[0;34m,\u001b[0m \u001b[0mname\u001b[0m\u001b[0;34m=\u001b[0m\u001b[0;34m\"statement_info\"\u001b[0m\u001b[0;34m)\u001b[0m\u001b[0;34m\u001b[0m\u001b[0m\n\u001b[1;32m     18\u001b[0m \u001b[0;34m\u001b[0m\u001b[0m\n\u001b[0;32m---> 19\u001b[0;31m \u001b[0;32mwith\u001b[0m \u001b[0mopen\u001b[0m\u001b[0;34m(\u001b[0m\u001b[0;34mf\"{directory_visualizations}/data.json\"\u001b[0m\u001b[0;34m,\u001b[0m \u001b[0;34m\"w\"\u001b[0m\u001b[0;34m)\u001b[0m \u001b[0;32mas\u001b[0m \u001b[0mf\u001b[0m\u001b[0;34m:\u001b[0m\u001b[0;34m\u001b[0m\u001b[0m\n\u001b[0m\u001b[1;32m     20\u001b[0m     \u001b[0mjson\u001b[0m\u001b[0;34m.\u001b[0m\u001b[0mdump\u001b[0m\u001b[0;34m(\u001b[0m\u001b[0mmy_dict\u001b[0m\u001b[0;34m,\u001b[0m \u001b[0mf\u001b[0m\u001b[0;34m)\u001b[0m\u001b[0;34m\u001b[0m\u001b[0m\n\u001b[1;32m     21\u001b[0m \u001b[0;34m\u001b[0m\u001b[0m\n",
      "\u001b[0;31mFileNotFoundError\u001b[0m: [Errno 2] No such file or directory: '../docs/data_insight/data.json'"
     ]
    }
   ],
   "source": [
    "def go_further(dic, name):\n",
    "    dict_vis = {\"name\": name, \"children\": []}\n",
    "    for k, v in dic.items():\n",
    "        if type(v) == str:\n",
    "            new_el = {\"name\": k}\n",
    "        elif type(v) == list:\n",
    "            if len(v) > 0:\n",
    "                new_el = go_further(v[0], k)\n",
    "        elif type(v) == dict:\n",
    "            new_el = go_further(v, k)\n",
    "        else:\n",
    "            new_el = {\"name\": k}\n",
    "        dict_vis[\"children\"].append(new_el)\n",
    "        \n",
    "    return dict_vis\n",
    "\n",
    "my_dict = go_further(data, name=\"statement_info\")\n",
    "\n",
    "with open(f\"{directory_visualizations}/data.json\", \"w\") as f:\n",
    "    json.dump(my_dict, f)\n",
    "\n",
    "print(f\"Checkout visualization by: \\n1) cd ../visualizations \\n2) python -m http.server \\n3) in browser, open: http://localhost:8000/\")"
   ]
  },
  {
   "cell_type": "markdown",
   "metadata": {},
   "source": [
    "## Biggest liars pants on fire"
   ]
  },
  {
   "cell_type": "markdown",
   "metadata": {},
   "source": [
    "Here are the people who most lie ordered by their proportion of pants on fire."
   ]
  },
  {
   "cell_type": "code",
   "execution_count": 46,
   "metadata": {},
   "outputs": [],
   "source": [
    "people_pants_classification = statements[['speaker_first_name', 'speaker_last_name', 'label', 'speaker_home_state']]\n",
    "#people_pants_classification[(people_pants_classification['speaker_first_name'].isnull() | people_pants_classification['speaker_first_name'].str.strip().eq('')) == False][:1].values\n",
    "\n",
    "# We want to keep only people which have both a first-name and a last-name (not totaly perfect)\n",
    "people_pants_classification = people_pants_classification[((people_pants_classification['speaker_first_name'].isnull() |\n",
    "                                                           people_pants_classification['speaker_first_name'].str.strip().eq('')) == False)]\n",
    "people_pants_classification = people_pants_classification[((people_pants_classification['speaker_last_name'].isnull() |\n",
    "                                                           people_pants_classification['speaker_last_name'].str.strip().eq('')) == False)]\n",
    "people_pants_classification = people_pants_classification[((people_pants_classification['label'].isnull() |\n",
    "                                                           people_pants_classification['label'].str.strip().eq('')) == False)]\n",
    "\n",
    "_blop = people_pants_classification[['speaker_first_name', 'speaker_last_name']].groupby(['speaker_first_name', 'speaker_last_name']).size().reset_index()\n",
    "_blopblop = people_pants_classification.groupby(['speaker_first_name', 'speaker_last_name', 'label']).size().reset_index().rename(columns={'0':'nb_labeled_statements'})\n",
    "\n",
    "statement_percentage = pd.merge(_blopblop,_blop,on=['speaker_first_name', 'speaker_last_name'])\n",
    "\n",
    "statement_percentage['statements_perc'] = statement_percentage['0_x']/statement_percentage['0_y']\n",
    "#statement_percentage.sample(5)"
   ]
  },
  {
   "cell_type": "markdown",
   "metadata": {},
   "source": [
    "#### Pants on fire analysis"
   ]
  },
  {
   "cell_type": "code",
   "execution_count": 47,
   "metadata": {},
   "outputs": [],
   "source": [
    "statement_percentage_cleaned = statement_percentage.loc[statement_percentage['label']=='pants-fire'].sort_values(by='statements_perc', ascending=False)"
   ]
  },
  {
   "cell_type": "markdown",
   "metadata": {},
   "source": [
    "#### We need people who have at least a certain number of statements to limit bias"
   ]
  },
  {
   "cell_type": "code",
   "execution_count": 48,
   "metadata": {},
   "outputs": [
    {
     "name": "stdout",
     "output_type": "stream",
     "text": [
      "The 10 badest guys with the highest percentage of pants on fire are:\n"
     ]
    },
    {
     "data": {
      "text/html": [
       "<div>\n",
       "<style scoped>\n",
       "    .dataframe tbody tr th:only-of-type {\n",
       "        vertical-align: middle;\n",
       "    }\n",
       "\n",
       "    .dataframe tbody tr th {\n",
       "        vertical-align: top;\n",
       "    }\n",
       "\n",
       "    .dataframe thead th {\n",
       "        text-align: right;\n",
       "    }\n",
       "</style>\n",
       "<table border=\"1\" class=\"dataframe\">\n",
       "  <thead>\n",
       "    <tr style=\"text-align: right;\">\n",
       "      <th></th>\n",
       "      <th>speaker_first_name</th>\n",
       "      <th>speaker_last_name</th>\n",
       "      <th>label</th>\n",
       "      <th>0_x</th>\n",
       "      <th>0_y</th>\n",
       "      <th>statements_perc</th>\n",
       "    </tr>\n",
       "  </thead>\n",
       "  <tbody>\n",
       "    <tr>\n",
       "      <th>3746</th>\n",
       "      <td>Michele</td>\n",
       "      <td>Bachmann</td>\n",
       "      <td>pants-fire</td>\n",
       "      <td>16</td>\n",
       "      <td>61</td>\n",
       "      <td>0.262295</td>\n",
       "    </tr>\n",
       "    <tr>\n",
       "      <th>4668</th>\n",
       "      <td>Rush</td>\n",
       "      <td>Limbaugh</td>\n",
       "      <td>pants-fire</td>\n",
       "      <td>10</td>\n",
       "      <td>39</td>\n",
       "      <td>0.256410</td>\n",
       "    </tr>\n",
       "    <tr>\n",
       "      <th>2840</th>\n",
       "      <td>Josh</td>\n",
       "      <td>Mandel</td>\n",
       "      <td>pants-fire</td>\n",
       "      <td>6</td>\n",
       "      <td>29</td>\n",
       "      <td>0.206897</td>\n",
       "    </tr>\n",
       "    <tr>\n",
       "      <th>1824</th>\n",
       "      <td>Glenn</td>\n",
       "      <td>Beck</td>\n",
       "      <td>pants-fire</td>\n",
       "      <td>6</td>\n",
       "      <td>31</td>\n",
       "      <td>0.193548</td>\n",
       "    </tr>\n",
       "    <tr>\n",
       "      <th>1079</th>\n",
       "      <td>Dan</td>\n",
       "      <td>Patrick</td>\n",
       "      <td>pants-fire</td>\n",
       "      <td>6</td>\n",
       "      <td>32</td>\n",
       "      <td>0.187500</td>\n",
       "    </tr>\n",
       "    <tr>\n",
       "      <th>637</th>\n",
       "      <td>Bruce</td>\n",
       "      <td>Rauner</td>\n",
       "      <td>pants-fire</td>\n",
       "      <td>4</td>\n",
       "      <td>23</td>\n",
       "      <td>0.173913</td>\n",
       "    </tr>\n",
       "    <tr>\n",
       "      <th>116</th>\n",
       "      <td>Allen</td>\n",
       "      <td>West</td>\n",
       "      <td>pants-fire</td>\n",
       "      <td>4</td>\n",
       "      <td>26</td>\n",
       "      <td>0.153846</td>\n",
       "    </tr>\n",
       "    <tr>\n",
       "      <th>1395</th>\n",
       "      <td>Donald</td>\n",
       "      <td>Trump</td>\n",
       "      <td>pants-fire</td>\n",
       "      <td>92</td>\n",
       "      <td>639</td>\n",
       "      <td>0.143975</td>\n",
       "    </tr>\n",
       "    <tr>\n",
       "      <th>340</th>\n",
       "      <td>Ben</td>\n",
       "      <td>Carson</td>\n",
       "      <td>pants-fire</td>\n",
       "      <td>4</td>\n",
       "      <td>28</td>\n",
       "      <td>0.142857</td>\n",
       "    </tr>\n",
       "    <tr>\n",
       "      <th>3970</th>\n",
       "      <td>Newt</td>\n",
       "      <td>Gingrich</td>\n",
       "      <td>pants-fire</td>\n",
       "      <td>12</td>\n",
       "      <td>86</td>\n",
       "      <td>0.139535</td>\n",
       "    </tr>\n",
       "  </tbody>\n",
       "</table>\n",
       "</div>"
      ],
      "text/plain": [
       "     speaker_first_name speaker_last_name       label  0_x  0_y  \\\n",
       "3746            Michele          Bachmann  pants-fire   16   61   \n",
       "4668               Rush          Limbaugh  pants-fire   10   39   \n",
       "2840               Josh            Mandel  pants-fire    6   29   \n",
       "1824              Glenn              Beck  pants-fire    6   31   \n",
       "1079                Dan           Patrick  pants-fire    6   32   \n",
       "637               Bruce            Rauner  pants-fire    4   23   \n",
       "116               Allen              West  pants-fire    4   26   \n",
       "1395             Donald             Trump  pants-fire   92  639   \n",
       "340                 Ben            Carson  pants-fire    4   28   \n",
       "3970               Newt          Gingrich  pants-fire   12   86   \n",
       "\n",
       "      statements_perc  \n",
       "3746         0.262295  \n",
       "4668         0.256410  \n",
       "2840         0.206897  \n",
       "1824         0.193548  \n",
       "1079         0.187500  \n",
       "637          0.173913  \n",
       "116          0.153846  \n",
       "1395         0.143975  \n",
       "340          0.142857  \n",
       "3970         0.139535  "
      ]
     },
     "execution_count": 48,
     "metadata": {},
     "output_type": "execute_result"
    }
   ],
   "source": [
    "statement_percentage_cleaned_numerous = statement_percentage_cleaned.loc[statement_percentage_cleaned['0_y']>20]\n",
    "print('The 10 badest guys with the highest percentage of pants on fire are:')\n",
    "statement_percentage_cleaned_numerous.head(10)"
   ]
  },
  {
   "cell_type": "code",
   "execution_count": 49,
   "metadata": {},
   "outputs": [
    {
     "data": {
      "text/html": [
       "<div>\n",
       "<style scoped>\n",
       "    .dataframe tbody tr th:only-of-type {\n",
       "        vertical-align: middle;\n",
       "    }\n",
       "\n",
       "    .dataframe tbody tr th {\n",
       "        vertical-align: top;\n",
       "    }\n",
       "\n",
       "    .dataframe thead th {\n",
       "        text-align: right;\n",
       "    }\n",
       "</style>\n",
       "<table border=\"1\" class=\"dataframe\">\n",
       "  <thead>\n",
       "    <tr style=\"text-align: right;\">\n",
       "      <th></th>\n",
       "      <th>speaker_first_name</th>\n",
       "      <th>speaker_last_name</th>\n",
       "      <th>label</th>\n",
       "      <th>0_x</th>\n",
       "      <th>0_y</th>\n",
       "      <th>statements_perc</th>\n",
       "    </tr>\n",
       "  </thead>\n",
       "  <tbody>\n",
       "    <tr>\n",
       "      <th>3625</th>\n",
       "      <td>Matthew</td>\n",
       "      <td>Rosendale</td>\n",
       "      <td>pants-fire</td>\n",
       "      <td>2</td>\n",
       "      <td>2</td>\n",
       "      <td>1.0</td>\n",
       "    </tr>\n",
       "    <tr>\n",
       "      <th>2939</th>\n",
       "      <td>Kathie</td>\n",
       "      <td>Glass</td>\n",
       "      <td>pants-fire</td>\n",
       "      <td>2</td>\n",
       "      <td>2</td>\n",
       "      <td>1.0</td>\n",
       "    </tr>\n",
       "    <tr>\n",
       "      <th>1850</th>\n",
       "      <td>Graeme</td>\n",
       "      <td>Zielinski</td>\n",
       "      <td>pants-fire</td>\n",
       "      <td>2</td>\n",
       "      <td>2</td>\n",
       "      <td>1.0</td>\n",
       "    </tr>\n",
       "    <tr>\n",
       "      <th>2847</th>\n",
       "      <td>Joshua</td>\n",
       "      <td>Feuerstein</td>\n",
       "      <td>pants-fire</td>\n",
       "      <td>2</td>\n",
       "      <td>2</td>\n",
       "      <td>1.0</td>\n",
       "    </tr>\n",
       "    <tr>\n",
       "      <th>5022</th>\n",
       "      <td>Steve</td>\n",
       "      <td>Kagen</td>\n",
       "      <td>pants-fire</td>\n",
       "      <td>2</td>\n",
       "      <td>2</td>\n",
       "      <td>1.0</td>\n",
       "    </tr>\n",
       "    <tr>\n",
       "      <th>5441</th>\n",
       "      <td>Uspoln</td>\n",
       "      <td>Website</td>\n",
       "      <td>pants-fire</td>\n",
       "      <td>4</td>\n",
       "      <td>4</td>\n",
       "      <td>1.0</td>\n",
       "    </tr>\n",
       "    <tr>\n",
       "      <th>1064</th>\n",
       "      <td>Dan</td>\n",
       "      <td>Kapanke</td>\n",
       "      <td>pants-fire</td>\n",
       "      <td>2</td>\n",
       "      <td>2</td>\n",
       "      <td>1.0</td>\n",
       "    </tr>\n",
       "    <tr>\n",
       "      <th>1039</th>\n",
       "      <td>Daily World</td>\n",
       "      <td>Update</td>\n",
       "      <td>pants-fire</td>\n",
       "      <td>4</td>\n",
       "      <td>4</td>\n",
       "      <td>1.0</td>\n",
       "    </tr>\n",
       "    <tr>\n",
       "      <th>641</th>\n",
       "      <td>Bryan</td>\n",
       "      <td>Fischer</td>\n",
       "      <td>pants-fire</td>\n",
       "      <td>2</td>\n",
       "      <td>2</td>\n",
       "      <td>1.0</td>\n",
       "    </tr>\n",
       "    <tr>\n",
       "      <th>363</th>\n",
       "      <td>Betsy</td>\n",
       "      <td>McCaughey</td>\n",
       "      <td>pants-fire</td>\n",
       "      <td>2</td>\n",
       "      <td>2</td>\n",
       "      <td>1.0</td>\n",
       "    </tr>\n",
       "  </tbody>\n",
       "</table>\n",
       "</div>"
      ],
      "text/plain": [
       "     speaker_first_name speaker_last_name       label  0_x  0_y  \\\n",
       "3625            Matthew         Rosendale  pants-fire    2    2   \n",
       "2939             Kathie             Glass  pants-fire    2    2   \n",
       "1850             Graeme         Zielinski  pants-fire    2    2   \n",
       "2847             Joshua        Feuerstein  pants-fire    2    2   \n",
       "5022              Steve             Kagen  pants-fire    2    2   \n",
       "5441             Uspoln           Website  pants-fire    4    4   \n",
       "1064                Dan           Kapanke  pants-fire    2    2   \n",
       "1039       Daily World             Update  pants-fire    4    4   \n",
       "641               Bryan           Fischer  pants-fire    2    2   \n",
       "363               Betsy         McCaughey  pants-fire    2    2   \n",
       "\n",
       "      statements_perc  \n",
       "3625              1.0  \n",
       "2939              1.0  \n",
       "1850              1.0  \n",
       "2847              1.0  \n",
       "5022              1.0  \n",
       "5441              1.0  \n",
       "1064              1.0  \n",
       "1039              1.0  \n",
       "641               1.0  \n",
       "363               1.0  "
      ]
     },
     "execution_count": 49,
     "metadata": {},
     "output_type": "execute_result"
    }
   ],
   "source": [
    "statement_percentage_cleaned = statement_percentage_cleaned.loc[statement_percentage_cleaned['0_y']>1]\n",
    "statement_percentage_cleaned.head(10)"
   ]
  },
  {
   "cell_type": "code",
   "execution_count": 50,
   "metadata": {},
   "outputs": [],
   "source": [
    "%matplotlib inline\n",
    "#statement_percentage_cleaned.plot(kind='scatter' y='statements_perc')\n",
    "import seaborn as sns"
   ]
  },
  {
   "cell_type": "code",
   "execution_count": 51,
   "metadata": {},
   "outputs": [
    {
     "data": {
      "text/plain": [
       "<matplotlib.axes._subplots.AxesSubplot at 0x1a193ffba8>"
      ]
     },
     "execution_count": 51,
     "metadata": {},
     "output_type": "execute_result"
    },
    {
     "data": {
      "image/png": "[encoded data removed]",
      "text/plain": [
       "<Figure size 432x288 with 1 Axes>"
      ]
     },
     "metadata": {},
     "output_type": "display_data"
    }
   ],
   "source": [
    "sns.distplot(statement_percentage_cleaned['0_y'], bins=50, kde=False, axlabel='number of statements for each person')"
   ]
  },
  {
   "cell_type": "code",
   "execution_count": 52,
   "metadata": {},
   "outputs": [
    {
     "data": {
      "text/plain": [
       "<matplotlib.axes._subplots.AxesSubplot at 0x1a11482400>"
      ]
     },
     "execution_count": 52,
     "metadata": {},
     "output_type": "execute_result"
    },
    {
     "data": {
      "image/png": "[encoded data removed]",
      "text/plain": [
       "<Figure size 432x288 with 1 Axes>"
      ]
     },
     "metadata": {},
     "output_type": "display_data"
    }
   ],
   "source": [
    "sns.distplot(statement_percentage_cleaned.statements_perc, bins=50, kde=False, axlabel='percentage of \"pants on fire\" for each person')"
   ]
  },
  {
   "cell_type": "code",
   "execution_count": 67,
   "metadata": {},
   "outputs": [
    {
     "data": {
      "text/html": [
       "<div>\n",
       "<style scoped>\n",
       "    .dataframe tbody tr th:only-of-type {\n",
       "        vertical-align: middle;\n",
       "    }\n",
       "\n",
       "    .dataframe tbody tr th {\n",
       "        vertical-align: top;\n",
       "    }\n",
       "\n",
       "    .dataframe thead th {\n",
       "        text-align: right;\n",
       "    }\n",
       "</style>\n",
       "<table border=\"1\" class=\"dataframe\">\n",
       "  <thead>\n",
       "    <tr style=\"text-align: right;\">\n",
       "      <th></th>\n",
       "      <th>speaker_first_name</th>\n",
       "      <th>speaker_last_name</th>\n",
       "      <th>label</th>\n",
       "      <th>0_x</th>\n",
       "      <th>0_y</th>\n",
       "      <th>statements_perc</th>\n",
       "    </tr>\n",
       "  </thead>\n",
       "  <tbody>\n",
       "    <tr>\n",
       "      <th>1395</th>\n",
       "      <td>Donald</td>\n",
       "      <td>Trump</td>\n",
       "      <td>pants-fire</td>\n",
       "      <td>92</td>\n",
       "      <td>639</td>\n",
       "      <td>0.143975</td>\n",
       "    </tr>\n",
       "    <tr>\n",
       "      <th>4428</th>\n",
       "      <td>Rick</td>\n",
       "      <td>Perry</td>\n",
       "      <td>pants-fire</td>\n",
       "      <td>18</td>\n",
       "      <td>175</td>\n",
       "      <td>0.102857</td>\n",
       "    </tr>\n",
       "    <tr>\n",
       "      <th>3904</th>\n",
       "      <td>Mitt</td>\n",
       "      <td>Romney</td>\n",
       "      <td>pants-fire</td>\n",
       "      <td>19</td>\n",
       "      <td>216</td>\n",
       "      <td>0.087963</td>\n",
       "    </tr>\n",
       "    <tr>\n",
       "      <th>5149</th>\n",
       "      <td>Ted</td>\n",
       "      <td>Cruz</td>\n",
       "      <td>pants-fire</td>\n",
       "      <td>9</td>\n",
       "      <td>141</td>\n",
       "      <td>0.063830</td>\n",
       "    </tr>\n",
       "    <tr>\n",
       "      <th>4817</th>\n",
       "      <td>Scott</td>\n",
       "      <td>Walker</td>\n",
       "      <td>pants-fire</td>\n",
       "      <td>11</td>\n",
       "      <td>211</td>\n",
       "      <td>0.052133</td>\n",
       "    </tr>\n",
       "    <tr>\n",
       "      <th>4443</th>\n",
       "      <td>Rick</td>\n",
       "      <td>Scott</td>\n",
       "      <td>pants-fire</td>\n",
       "      <td>8</td>\n",
       "      <td>164</td>\n",
       "      <td>0.048780</td>\n",
       "    </tr>\n",
       "    <tr>\n",
       "      <th>2662</th>\n",
       "      <td>John</td>\n",
       "      <td>McCain</td>\n",
       "      <td>pants-fire</td>\n",
       "      <td>8</td>\n",
       "      <td>190</td>\n",
       "      <td>0.042105</td>\n",
       "    </tr>\n",
       "    <tr>\n",
       "      <th>3422</th>\n",
       "      <td>Marco</td>\n",
       "      <td>Rubio</td>\n",
       "      <td>pants-fire</td>\n",
       "      <td>5</td>\n",
       "      <td>163</td>\n",
       "      <td>0.030675</td>\n",
       "    </tr>\n",
       "    <tr>\n",
       "      <th>1973</th>\n",
       "      <td>Hillary</td>\n",
       "      <td>Clinton</td>\n",
       "      <td>pants-fire</td>\n",
       "      <td>7</td>\n",
       "      <td>300</td>\n",
       "      <td>0.023333</td>\n",
       "    </tr>\n",
       "    <tr>\n",
       "      <th>287</th>\n",
       "      <td>Barack</td>\n",
       "      <td>Obama</td>\n",
       "      <td>pants-fire</td>\n",
       "      <td>9</td>\n",
       "      <td>619</td>\n",
       "      <td>0.014540</td>\n",
       "    </tr>\n",
       "  </tbody>\n",
       "</table>\n",
       "</div>"
      ],
      "text/plain": [
       "     speaker_first_name speaker_last_name       label  0_x  0_y  \\\n",
       "1395             Donald             Trump  pants-fire   92  639   \n",
       "4428               Rick             Perry  pants-fire   18  175   \n",
       "3904               Mitt            Romney  pants-fire   19  216   \n",
       "5149                Ted              Cruz  pants-fire    9  141   \n",
       "4817              Scott            Walker  pants-fire   11  211   \n",
       "4443               Rick             Scott  pants-fire    8  164   \n",
       "2662               John            McCain  pants-fire    8  190   \n",
       "3422              Marco             Rubio  pants-fire    5  163   \n",
       "1973            Hillary           Clinton  pants-fire    7  300   \n",
       "287              Barack             Obama  pants-fire    9  619   \n",
       "\n",
       "      statements_perc  \n",
       "1395         0.143975  \n",
       "4428         0.102857  \n",
       "3904         0.087963  \n",
       "5149         0.063830  \n",
       "4817         0.052133  \n",
       "4443         0.048780  \n",
       "2662         0.042105  \n",
       "3422         0.030675  \n",
       "1973         0.023333  \n",
       "287          0.014540  "
      ]
     },
     "execution_count": 67,
     "metadata": {},
     "output_type": "execute_result"
    }
   ],
   "source": [
    "statement_percentage_cleaned_top10 = statement_percentage_cleaned.sort_values(['0_y'], ascending=[False]).head(10).sort_values(['statements_perc'], ascending=[False])\n",
    "statement_percentage_cleaned_top10"
   ]
  },
  {
   "cell_type": "code",
   "execution_count": 53,
   "metadata": {},
   "outputs": [],
   "source": [
    "# Column renaming does not work\n",
    "#.rename(columns={'0':'nb_statements'})\n",
    "# to rename the column of counts df = df.rename(columns={'oldName1': 'newName1', 'oldName2': 'newName2'})\n",
    "# _blop.rename(columns='0':'nb_statements')"
   ]
  },
  {
   "cell_type": "code",
   "execution_count": 54,
   "metadata": {},
   "outputs": [
    {
     "data": {
      "text/html": [
       "<div>\n",
       "<style scoped>\n",
       "    .dataframe tbody tr th:only-of-type {\n",
       "        vertical-align: middle;\n",
       "    }\n",
       "\n",
       "    .dataframe tbody tr th {\n",
       "        vertical-align: top;\n",
       "    }\n",
       "\n",
       "    .dataframe thead th {\n",
       "        text-align: right;\n",
       "    }\n",
       "</style>\n",
       "<table border=\"1\" class=\"dataframe\">\n",
       "  <thead>\n",
       "    <tr style=\"text-align: right;\">\n",
       "      <th></th>\n",
       "      <th>speaker_first_name</th>\n",
       "      <th>speaker_last_name</th>\n",
       "      <th>0</th>\n",
       "    </tr>\n",
       "  </thead>\n",
       "  <tbody>\n",
       "    <tr>\n",
       "      <th>774</th>\n",
       "      <td>Donald</td>\n",
       "      <td>Trump</td>\n",
       "      <td>639</td>\n",
       "    </tr>\n",
       "    <tr>\n",
       "      <th>1114</th>\n",
       "      <td>Ivanka</td>\n",
       "      <td>Trump</td>\n",
       "      <td>7</td>\n",
       "    </tr>\n",
       "  </tbody>\n",
       "</table>\n",
       "</div>"
      ],
      "text/plain": [
       "     speaker_first_name speaker_last_name    0\n",
       "774              Donald             Trump  639\n",
       "1114             Ivanka             Trump    7"
      ]
     },
     "execution_count": 54,
     "metadata": {},
     "output_type": "execute_result"
    }
   ],
   "source": [
    "# Verification, not needed\n",
    "_blop[_blop['speaker_last_name'].eq('Trump')]"
   ]
  },
  {
   "cell_type": "markdown",
   "metadata": {},
   "source": [
    "## Blopy objects"
   ]
  },
  {
   "cell_type": "code",
   "execution_count": 58,
   "metadata": {},
   "outputs": [
    {
     "data": {
      "text/plain": [
       "{'art': [{'brightcove': '',\n",
       "   'caption': 'Texas Sen. Steve Ogden, R-Bryan, and Republican Lt. Gov. David Dewhurst spoke to reporters April 5 about the state budget and the tax system.',\n",
       "   'id': 1257,\n",
       "   'infogram': '',\n",
       "   'ndn': '',\n",
       "   'ndnid': '',\n",
       "   'other': '',\n",
       "   'photo': None,\n",
       "   'resource_type': {'id': 2,\n",
       "    'name': 'YouTube',\n",
       "    'resource_uri': '/api/v/2/mediatype/2/'},\n",
       "   'resource_uri': '/api/v/2/media/1257/',\n",
       "   'title': 'Steve Ogden, business tax',\n",
       "   'wibbitz': '',\n",
       "   'youtube': '<iframe src=\"//www.youtube.com/embed/EaRdqdEUrZQ?rel=0&wmode=opaque\" frameborder=\"0\" allowfullscreen></iframe>',\n",
       "   'youtubeID': 'EaRdqdEUrZQ'}],\n",
       " 'author': [{'email_address': 'mashford-grooms@statesman.com',\n",
       "   'first_name': 'Meghan',\n",
       "   'id': 118,\n",
       "   'last_name': 'Ashford-Grooms',\n",
       "   'name_slug': 'meghan-ashford-grooms',\n",
       "   'on_staff_page': None,\n",
       "   'phone': None,\n",
       "   'photo': None,\n",
       "   'publication': {'id': 3,\n",
       "    'publication_name': 'Austin American-Statesman',\n",
       "    'resource_uri': '/api/v/2/publication/3/'},\n",
       "   'resource_uri': '/api/v/2/staffer/118/',\n",
       "   'title': 'PolitiFact Texas staff writer',\n",
       "   'twitter': None}],\n",
       " 'canonical_url': '/texas/statements/2011/may/15/steve-ogden/state-sen-steve-ogden-says-businesses-pay-most-tax/',\n",
       " 'edition': {'adkey': 'Editions',\n",
       "  'advalue': 'Texas',\n",
       "  'edition': 'Texas',\n",
       "  'edition_slug': 'texas',\n",
       "  'has_afterthefact': False,\n",
       "  'id': 2,\n",
       "  'index_page': False,\n",
       "  'meter_name': 'The Texas Truth-O-Meter',\n",
       "  'resource_uri': '/api/v/2/edition/2/'},\n",
       " 'editor': [{'email_address': 'wgstexas@gmail.com',\n",
       "   'first_name': 'W. Gardner',\n",
       "   'id': 122,\n",
       "   'last_name': 'Selby',\n",
       "   'name_slug': 'w-gardner-selby',\n",
       "   'on_staff_page': 84,\n",
       "   'phone': '',\n",
       "   'photo': None,\n",
       "   'publication': {'id': 3,\n",
       "    'publication_name': 'Austin American-Statesman',\n",
       "    'resource_uri': '/api/v/2/publication/3/'},\n",
       "   'resource_uri': '/api/v/2/staffer/122/',\n",
       "   'title': 'Former PolitiFact Texas editor',\n",
       "   'twitter': ''}],\n",
       " 'facebook_headline': None,\n",
       " 'id': 3721,\n",
       " 'in_future': False,\n",
       " 'is_pundit': False,\n",
       " 'make_public': True,\n",
       " 'preview': True,\n",
       " 'researcher': [{'email_address': 'mashford-grooms@statesman.com',\n",
       "   'first_name': 'Meghan',\n",
       "   'id': 118,\n",
       "   'last_name': 'Ashford-Grooms',\n",
       "   'name_slug': 'meghan-ashford-grooms',\n",
       "   'on_staff_page': None,\n",
       "   'phone': None,\n",
       "   'photo': None,\n",
       "   'publication': {'id': 3,\n",
       "    'publication_name': 'Austin American-Statesman',\n",
       "    'resource_uri': '/api/v/2/publication/3/'},\n",
       "   'resource_uri': '/api/v/2/staffer/118/',\n",
       "   'title': 'PolitiFact Texas staff writer',\n",
       "   'twitter': None}],\n",
       " 'resource_uri': '/api/v/2/statement/3721/',\n",
       " 'ruling': {'adkey': 'Truth-O-Meter',\n",
       "  'advalue': 'Mostly True',\n",
       "  'id': 2,\n",
       "  'resource_uri': '/api/v/2/statementruling/2/',\n",
       "  'ruling': 'Mostly True',\n",
       "  'ruling_graphic': 'https://s3.amazonaws.com/static.politifact.com/rulings/tom-mostlytrue.png',\n",
       "  'ruling_slug': 'mostly-true'},\n",
       " 'ruling_comments': '<p>\\r\\n\\tAsked by reporters how legislators can address the state&rsquo;s recurring revenue shortfall, Senate Finance Committee Chairman Steve Ogden reiterated his belief that a good start would be reworking the business franchise tax.</p>\\r\\n<p>\\r\\n\\tReaders may recall that the franchise tax was revamped in 2006 to help pay for a statewide reduction in local school property taxes, but it has not brought in as much money as was projected.</p>\\r\\n<p>\\r\\n\\tHowever, &quot;the issue is not to single out businesses as some sort of villain,&quot; Ogden, R-Bryan, said April 5. &quot;They already pay most of the taxes. The issue is having a tax system that, in my opinion, is uniform and equitable and as low as possible.&quot;</p>\\r\\n<p>\\r\\n\\tReaders who spotted Ogden&rsquo;s comment in an <em>Austin American-Statesman</em> news <a href=\"http://www.statesman.com/news/texas-politics/business-tax-needs-another-look-key-senator-says-1378426.html\">story</a> asked us to check whether businesses do &quot;pay most of the taxes.&quot;</p>\\r\\n<p>\\r\\n\\tResponding to our inquiry, Ogden pointed to the way the tax system is structured in Texas. Because the state has no personal income tax, Ogden said, most state and local tax revenue comes from taxes that are levied on businesses and individuals alike. And because businesses &quot;are the largest economic entities in the state,&quot; he said, it stands to reason that they pay the most.</p>\\r\\n<p>\\r\\n\\tOgden referred us to a biennial <a href=\"http://www.window.state.tx.us/taxinfo/incidence/\">report</a> from the state comptroller&rsquo;s office on tax burdens in Texas. The latest version, published in February, projects how much businesses and individual consumers will pay in state sales and use taxes, franchise taxes, gasoline taxes, motor vehicle sales taxes, cigarette taxes, oil production taxes and school property taxes in 2013.</p>\\r\\n<p>\\r\\n\\tAccording to the report, two of the taxes &mdash; franchise and oil production&nbsp; &mdash;&nbsp; are initially paid entirely by businesses. A third tax, the cigarette tax, is paid entirely by consumers. The remaining four taxes are shared between consumers and businesses.</p>\\r\\n<p>\\r\\n\\tThe largest expected revenue producers are school property taxes ($11.3 billion projected to be paid by businesses in 2013, $10.7 billion by consumers) and state sales taxes ($9.8 billion projected to be paid by businesses, $12.1 billion by consumers).</p>\\r\\n<p>\\r\\n\\tTo get a total tax dollar amount for each category &mdash; consumers and businesses &mdash; we added up the estimated burden imposed by each of the taxes analyzed in the report. The results were close: $28.2 billion for businesses and $27.5 billion for consumers.</p>\\r\\n<p>\\r\\n\\tTwo previous comptroller&rsquo;s tax-incidence reports calculated slightly greater tax burdens for businesses, compared with individuals, but differed from the current report because they included a natural gas tax but not cigarette and oil production taxes.</p>\\r\\n<p>\\r\\n\\tThe <a href=\"http://www.window.state.tx.us/taxinfo/incidence/incidence09/\">2009 report</a>, projecting ahead to 2011, estimated $30.1 billion for businesses and $28.4 billion for consumers. The <a href=\"http://www.window.state.tx.us/taxinfo/incidence/incidence07/\">2007 report</a>, projecting for 2009, estimated $25.9 billion for businesses vs. $25.2 billion for consumers.</p>\\r\\n<p>\\r\\n\\tNext, we touched base with the Texas Taxpayers and Research Association, a business group, about Ogden&rsquo;s statement. Dale Craymer, its president, said by email that the comptroller&rsquo;s report does not consider &quot;the entire spectrum of taxes in the state.&quot;</p>\\r\\n<p>\\r\\n\\tR.J. DeSilva, a spokesman for the comptroller&rsquo;s office, told us that the six state taxes in the agency&rsquo;s 2011 report &mdash; excluding school property taxes, which are collected locally &mdash; represented 86 percent of state tax revenue in fiscal 2010. Also excluded are property taxes paid to local governments such as cities and counties.</p>\\r\\n<p>\\r\\n\\tCraymer suggested that we consider what he called the most comprehensive look at business taxes, a study done for the Council on State Taxation, a Washington-based trade association representing corporate businesses. Bill Hammond, president of the Texas Association of Business, also pointed us to the report.</p>\\r\\n<p>\\r\\n\\tThe study, by the economics and statistics unit of consulting firm Ernst &amp; Young, estimates the taxes paid by businesses to state and local governments in each state in fiscal year 2008. Among them: property taxes, state and local sales taxes paid by businesses on purchases of production materials and equipment, corporate income and franchise taxes, unemployment insurance taxes, and business and corporate license taxes.</p>\\r\\n<p>\\r\\n\\tThe study estimates that in Texas, businesses paid 61.2 percent of state and local taxes. That compares with a national share of 44.1 percent.</p>\\r\\n<p>\\r\\n\\tWe asked how the study was done. Andrew Phillips, an author, told us that researchers drew data from several sources, including the U.S. Census Bureau, IRS and Bureau of Economic Analysis.</p>\\r\\n<p>\\r\\n\\tFor another perspective on the Ernst &amp; Young report, we turned to Matt Gardner, executive director of the Institute on Taxation and Economic Policy, a research arm of Washington-based Citizens for Tax Justice, which says it advocates for fair taxation of middle- and low-income families.</p>\\r\\n<p>\\r\\n\\tGardner suggested that the Ernst &amp; Young report may have overestimated the share of total property taxes paid by businesses. He said his own estimate, based on available 2008 data from the Census Bureau, indicates that Texas homeowners paid about 45 percent of property taxes that year. If one assumes that businesses paid the rest, Gardner said, their share is 55 percent, not the 62 percent share of property taxes reported by Ernst &amp; Young.</p>\\r\\n<p>\\r\\n\\tStill, Gardner didn&rsquo;t quibble much with Ogden&rsquo;s statement. &quot;It&rsquo;s probably OK to assert that a majority of Texas taxes fall initially on non-individuals,&quot; he said.</p>\\r\\n<p>\\r\\n\\tBoth Gardner and Hammond, the TAB president, echoed Ogden&rsquo;s point that businesses in Texas shoulder a higher-than-average initial tax burden because the state is one of a minority that have no income tax on individuals.</p>\\r\\n<p>\\r\\n\\tBut inherent in the distinction between taxes on individuals and on businesses is the idea that the latter can shift their burdens to customers, employees, tenants and others. The comptroller&rsquo;s report says: &quot;It should be recognized that any tax levied directly on a business&quot; will ultimately be passed on &mdash; either to consumers through higher prices, to employees through lower wages or to business owners and shareholders through reduced profits. Businesses can also push some of their tax burden out of the state.</p>\\r\\n<p>\\r\\n\\tHow much tax shifting occurs depends on the market in which a business operates and other complicated factors. &quot;The only thing that can be said with certainty is that no one really knows how taxes (particularly those levied on property and business) are shifted,&quot; according to the comptroller&rsquo;s report.</p>\\r\\n<p>\\r\\n\\tTom Neubig, an author of the Ernst &amp; Young report, told us, &quot;All economists would say that it isn&rsquo;t business that bears the burden of the taxes; it&rsquo;s people.&quot; He pointed to a January 2010 national study in which he and other researchers, using 2005 tax data, estimated where state and local business taxes ultimately fall. The study concluded that in Texas, business owners wound up holding the bag for 4 percent of those taxes. The rest were shifted into higher consumer prices (2 percent), lower wages (45 percent) and to people living outside Texas (49 percent).</p>\\r\\n<p>\\r\\n\\tFor Gardner, this &quot;final incidence&quot; is more important than whether businesses or individuals initially pay the taxes.</p>\\r\\n<p>\\r\\n\\tUpshot: The analyses we found basically support Ogden&rsquo;s claim that businesses pay &quot;most&quot; of the taxes in Texas, though the margin varies from a slim 51 percent (according to the state comptroller) to 61 percent (Ernst &amp; Young). However, analysts also agree that businesses &mdash; unlike individuals &mdash; can offload their tax burden through various means.</p>\\r\\n<p>\\r\\n\\tWe rate Ogden&rsquo;s statement Mostly True.</p>',\n",
       " 'ruling_comments_date': '2011-05-09T12:45:54.160403',\n",
       " 'ruling_date': '2011-05-15T06:00:00',\n",
       " 'ruling_headline': 'State Sen. Steve Ogden says businesses pay most of the taxes in Texas',\n",
       " 'ruling_headline_slug': 'state-sen-steve-ogden-says-businesses-pay-most-tax',\n",
       " 'ruling_link_text': 'Analyses support statement, but businesses pass on tax burden',\n",
       " 'ruling_state': None,\n",
       " 'source_documents': None,\n",
       " 'sources': '<p>\\r\\n\\tTexas Tribune, &quot;Senate Leaders: Texas Must Address Structural Deficit,&quot; <a href=\"http://www.texastribune.org/texas-legislature/82nd-legislative-session/texas-needs-to-address-structural-deficit/\">video</a>, April 5, 2011</p>\\r\\n<p>\\r\\n\\tAustin American-Statesman, &quot;<a href=\"http://www.statesman.com/news/texas-politics/business-tax-needs-another-look-key-senator-says-1378426.html\">Business tax needs another look, key senator says</a>,&quot; April 5, 2011</p>\\r\\n<p>\\r\\n\\tInterview with Sen. Steve Ogden, April 12, 2011</p>\\r\\n<p>\\r\\n\\tTexas comptroller, &quot;Tax Exemptions and Tax Incidence,&quot; February <a href=\"http://www.window.state.tx.us/taxinfo/incidence/96-463TaxIncidence02-11.pdf\">2011</a></p>\\r\\n<p>\\r\\n\\tTexas comptroller, &quot;Tax Exemptions and Tax Incidence,&quot; February <a href=\"http://www.window.state.tx.us/taxinfo/incidence/incidence09/incidence09.pdf\">2009</a></p>\\r\\n<p>\\r\\n\\tTexas comptroller, &quot;Tax Exemptions and Tax Incidence,&quot; February <a href=\"http://www.window.state.tx.us/taxinfo/incidence/incidence07/incidence07.pdf\">2007</a></p>\\r\\n<p>\\r\\n\\tEmail (<a href=\"http://alt.coxnewsweb.com/statesman/politifact/051311_craymeremail.html\">excerpt</a>) from Dale Craymer, president, Texas Taxpayers and Research Association, April 7, 2011</p>\\r\\n<p>\\r\\n\\tInterview with R.J. DeSilva, spokesman, Texas comptroller&rsquo;s office, April 19, 2011</p>\\r\\n<p>\\r\\n\\tInterview with Bill Hammond, president, Texas Association of Business, May 4, 2011</p>\\r\\n<p>\\r\\n\\tCouncil on State Taxation, &quot;<a href=\"http://www.cost.org/Page.aspx?id=72322\">Total state and local business taxes: 50 state estimates for fiscal year 2008</a>,&quot; prepared by Ernst &amp; Young, January 2009</p>\\r\\n<p>\\r\\n\\tInterview with Andrew Phillips, senior manager, Quantitative Economics and Statistics, Ernst &amp; Young, April 25 and May 4, 2011</p>\\r\\n<p>\\r\\n\\tInterview with Tom Neubig, national director, Quantitative Economics and Statistics, Ernst &amp; Young, April 25, 2011</p>\\r\\n<p>\\r\\n\\tInterview with Matthew Gardner, executive director, Institute on Taxation and Economic Policy, April 28 and May 4, 2011</p>\\r\\n<p>\\r\\n\\tState Tax Notes, &quot;<a href=\"http://alt.coxnewsweb.com/statesman/politifact/051311_econ2010study.pdf\">The Economic Incidence of Additional State Business Taxes</a>,&quot; Jan. 11, 2010</p>',\n",
       " 'speaker': {'adkey': None,\n",
       "  'advalue': None,\n",
       "  'barely_true_count': 0,\n",
       "  'current_job': 'oil and gas producer',\n",
       "  'false_count': 0,\n",
       "  'first_name': 'Steve',\n",
       "  'half_true_count': 1,\n",
       "  'home_state': 'Texas',\n",
       "  'id': 1194,\n",
       "  'last_name': 'Ogden',\n",
       "  'mostly_true_count': 1,\n",
       "  'name_slug': 'steve-ogden',\n",
       "  'pants_count': 0,\n",
       "  'party': {'id': 3,\n",
       "   'party': 'Republican',\n",
       "   'party_slug': 'republican',\n",
       "   'resource_uri': '/api/v/2/party/3/'},\n",
       "  'photo': 'https://s3.amazonaws.com/static.politifact.com/politifact/mugs/ogden2009.JPG',\n",
       "  'primary_edition': {'adkey': 'Editions',\n",
       "   'advalue': 'Texas',\n",
       "   'edition': 'Texas',\n",
       "   'edition_slug': 'texas',\n",
       "   'has_afterthefact': False,\n",
       "   'id': 2,\n",
       "   'index_page': False,\n",
       "   'meter_name': 'The Texas Truth-O-Meter',\n",
       "   'resource_uri': '/api/v/2/edition/2/'},\n",
       "  'promise_meter_cutout': None,\n",
       "  'resource_uri': '/api/v/2/person/1194/',\n",
       "  'total_count': 2,\n",
       "  'true_count': 0,\n",
       "  'website': 'http://www.senate.state.tx.us/75r/senate/members/dist5/dist5.htm'},\n",
       " 'statement': '<p>\\r\\n\\tSays businesses &quot;already pay most of the taxes.&quot;</p>',\n",
       " 'statement_context': 'comments to reporters on Texas Senate floor',\n",
       " 'statement_date': '2011-04-05',\n",
       " 'statement_type': {'id': 2,\n",
       "  'resource_uri': '/api/v/2/statementtype/2/',\n",
       "  'statement_type': 'Claim',\n",
       "  'type_description': 'blog post '},\n",
       " 'subject': [{'description': '',\n",
       "   'id': 120,\n",
       "   'photo': None,\n",
       "   'resource_uri': '/api/v/2/subject/120/',\n",
       "   'subject': 'State Budget',\n",
       "   'subject_slug': 'state-budget',\n",
       "   'used_in_edition': []},\n",
       "  {'description': '',\n",
       "   'id': 208,\n",
       "   'photo': None,\n",
       "   'resource_uri': '/api/v/2/subject/208/',\n",
       "   'subject': 'State Finances',\n",
       "   'subject_slug': 'state-finances',\n",
       "   'used_in_edition': ['/api/v/2/edition/5/']},\n",
       "  {'description': '',\n",
       "   'id': 8,\n",
       "   'photo': None,\n",
       "   'resource_uri': '/api/v/2/subject/8/',\n",
       "   'subject': 'Taxes',\n",
       "   'subject_slug': 'taxes',\n",
       "   'used_in_edition': []}],\n",
       " 'target': [],\n",
       " 'twitter_headline': ''}"
      ]
     },
     "execution_count": 58,
     "metadata": {},
     "output_type": "execute_result"
    }
   ],
   "source": [
    "safe_json_read(list(pathlib.Path(directory_statements).iterdir())[0])"
   ]
  },
  {
   "cell_type": "code",
   "execution_count": 59,
   "metadata": {},
   "outputs": [
    {
     "ename": "NameError",
     "evalue": "name 'res' is not defined",
     "output_type": "error",
     "traceback": [
      "\u001b[0;31m---------------------------------------------------------------------------\u001b[0m",
      "\u001b[0;31mNameError\u001b[0m                                 Traceback (most recent call last)",
      "\u001b[0;32m<ipython-input-59-ad10d3faa5db>\u001b[0m in \u001b[0;36m<module>\u001b[0;34m()\u001b[0m\n\u001b[0;32m----> 1\u001b[0;31m \u001b[0mres\u001b[0m\u001b[0;34m.\u001b[0m\u001b[0mget\u001b[0m\u001b[0;34m(\u001b[0m\u001b[0;34m'subject'\u001b[0m\u001b[0;34m,\u001b[0m \u001b[0;34m{\u001b[0m\u001b[0;34m'description'\u001b[0m\u001b[0;34m:\u001b[0m\u001b[0;34m''\u001b[0m\u001b[0;34m}\u001b[0m\u001b[0;34m)\u001b[0m\u001b[0;34m.\u001b[0m\u001b[0mget\u001b[0m\u001b[0;34m(\u001b[0m\u001b[0;34m'description'\u001b[0m\u001b[0;34m,\u001b[0m\u001b[0;34m''\u001b[0m\u001b[0;34m)\u001b[0m\u001b[0;34m\u001b[0m\u001b[0m\n\u001b[0m",
      "\u001b[0;31mNameError\u001b[0m: name 'res' is not defined"
     ]
    }
   ],
   "source": [
    "res.get('subject', {'description':''}).get('description','')"
   ]
  },
  {
   "cell_type": "code",
   "execution_count": 85,
   "metadata": {
    "scrolled": true
   },
   "outputs": [
    {
     "data": {
      "text/html": [
       "<div>\n",
       "<style scoped>\n",
       "    .dataframe tbody tr th:only-of-type {\n",
       "        vertical-align: middle;\n",
       "    }\n",
       "\n",
       "    .dataframe tbody tr th {\n",
       "        vertical-align: top;\n",
       "    }\n",
       "\n",
       "    .dataframe thead th {\n",
       "        text-align: right;\n",
       "    }\n",
       "</style>\n",
       "<table border=\"1\" class=\"dataframe\">\n",
       "  <thead>\n",
       "    <tr style=\"text-align: right;\">\n",
       "      <th></th>\n",
       "      <th>subject</th>\n",
       "      <th>count</th>\n",
       "      <th>count_pct</th>\n",
       "    </tr>\n",
       "  </thead>\n",
       "  <tbody>\n",
       "    <tr>\n",
       "      <th>0</th>\n",
       "      <td>Economy</td>\n",
       "      <td>1244</td>\n",
       "      <td>0.080409</td>\n",
       "    </tr>\n",
       "    <tr>\n",
       "      <th>1</th>\n",
       "      <td>Health Care</td>\n",
       "      <td>1114</td>\n",
       "      <td>0.072006</td>\n",
       "    </tr>\n",
       "    <tr>\n",
       "      <th>2</th>\n",
       "      <td>Candidate Biography</td>\n",
       "      <td>819</td>\n",
       "      <td>0.052938</td>\n",
       "    </tr>\n",
       "    <tr>\n",
       "      <th>3</th>\n",
       "      <td>Education</td>\n",
       "      <td>813</td>\n",
       "      <td>0.052550</td>\n",
       "    </tr>\n",
       "    <tr>\n",
       "      <th>4</th>\n",
       "      <td>Elections</td>\n",
       "      <td>660</td>\n",
       "      <td>0.042660</td>\n",
       "    </tr>\n",
       "    <tr>\n",
       "      <th>5</th>\n",
       "      <td>Crime</td>\n",
       "      <td>570</td>\n",
       "      <td>0.036843</td>\n",
       "    </tr>\n",
       "    <tr>\n",
       "      <th>6</th>\n",
       "      <td>Federal Budget</td>\n",
       "      <td>529</td>\n",
       "      <td>0.034193</td>\n",
       "    </tr>\n",
       "    <tr>\n",
       "      <th>7</th>\n",
       "      <td>Immigration</td>\n",
       "      <td>477</td>\n",
       "      <td>0.030832</td>\n",
       "    </tr>\n",
       "    <tr>\n",
       "      <th>8</th>\n",
       "      <td>Taxes</td>\n",
       "      <td>473</td>\n",
       "      <td>0.030573</td>\n",
       "    </tr>\n",
       "    <tr>\n",
       "      <th>9</th>\n",
       "      <td>Foreign Policy</td>\n",
       "      <td>446</td>\n",
       "      <td>0.028828</td>\n",
       "    </tr>\n",
       "    <tr>\n",
       "      <th>10</th>\n",
       "      <td>Fake news</td>\n",
       "      <td>432</td>\n",
       "      <td>0.027923</td>\n",
       "    </tr>\n",
       "    <tr>\n",
       "      <th>11</th>\n",
       "      <td>Energy</td>\n",
       "      <td>355</td>\n",
       "      <td>0.022946</td>\n",
       "    </tr>\n",
       "    <tr>\n",
       "      <th>12</th>\n",
       "      <td>Abortion</td>\n",
       "      <td>351</td>\n",
       "      <td>0.022688</td>\n",
       "    </tr>\n",
       "    <tr>\n",
       "      <th>13</th>\n",
       "      <td>Guns</td>\n",
       "      <td>279</td>\n",
       "      <td>0.018034</td>\n",
       "    </tr>\n",
       "    <tr>\n",
       "      <th>14</th>\n",
       "      <td>Campaign Finance</td>\n",
       "      <td>275</td>\n",
       "      <td>0.017775</td>\n",
       "    </tr>\n",
       "    <tr>\n",
       "      <th>15</th>\n",
       "      <td>State Budget</td>\n",
       "      <td>269</td>\n",
       "      <td>0.017387</td>\n",
       "    </tr>\n",
       "    <tr>\n",
       "      <th>16</th>\n",
       "      <td>Children</td>\n",
       "      <td>258</td>\n",
       "      <td>0.016676</td>\n",
       "    </tr>\n",
       "    <tr>\n",
       "      <th>17</th>\n",
       "      <td>Jobs</td>\n",
       "      <td>254</td>\n",
       "      <td>0.016418</td>\n",
       "    </tr>\n",
       "    <tr>\n",
       "      <th>18</th>\n",
       "      <td>Congress</td>\n",
       "      <td>247</td>\n",
       "      <td>0.015965</td>\n",
       "    </tr>\n",
       "    <tr>\n",
       "      <th>19</th>\n",
       "      <td>Corrections and Updates</td>\n",
       "      <td>239</td>\n",
       "      <td>0.015448</td>\n",
       "    </tr>\n",
       "    <tr>\n",
       "      <th>20</th>\n",
       "      <td>Deficit</td>\n",
       "      <td>190</td>\n",
       "      <td>0.012281</td>\n",
       "    </tr>\n",
       "    <tr>\n",
       "      <th>21</th>\n",
       "      <td>Environment</td>\n",
       "      <td>186</td>\n",
       "      <td>0.012022</td>\n",
       "    </tr>\n",
       "    <tr>\n",
       "      <th>22</th>\n",
       "      <td>History</td>\n",
       "      <td>176</td>\n",
       "      <td>0.011376</td>\n",
       "    </tr>\n",
       "    <tr>\n",
       "      <th>23</th>\n",
       "      <td>Corporations</td>\n",
       "      <td>152</td>\n",
       "      <td>0.009825</td>\n",
       "    </tr>\n",
       "    <tr>\n",
       "      <th>24</th>\n",
       "      <td>Job Accomplishments</td>\n",
       "      <td>144</td>\n",
       "      <td>0.009308</td>\n",
       "    </tr>\n",
       "    <tr>\n",
       "      <th>25</th>\n",
       "      <td>Climate Change</td>\n",
       "      <td>144</td>\n",
       "      <td>0.009308</td>\n",
       "    </tr>\n",
       "    <tr>\n",
       "      <th>26</th>\n",
       "      <td>Ethics</td>\n",
       "      <td>137</td>\n",
       "      <td>0.008855</td>\n",
       "    </tr>\n",
       "    <tr>\n",
       "      <th>27</th>\n",
       "      <td>Civil Rights</td>\n",
       "      <td>135</td>\n",
       "      <td>0.008726</td>\n",
       "    </tr>\n",
       "    <tr>\n",
       "      <th>28</th>\n",
       "      <td>Homeland Security</td>\n",
       "      <td>133</td>\n",
       "      <td>0.008597</td>\n",
       "    </tr>\n",
       "    <tr>\n",
       "      <th>29</th>\n",
       "      <td>Debt</td>\n",
       "      <td>123</td>\n",
       "      <td>0.007950</td>\n",
       "    </tr>\n",
       "    <tr>\n",
       "      <th>...</th>\n",
       "      <td>...</td>\n",
       "      <td>...</td>\n",
       "      <td>...</td>\n",
       "    </tr>\n",
       "    <tr>\n",
       "      <th>110</th>\n",
       "      <td>Natural Disasters</td>\n",
       "      <td>10</td>\n",
       "      <td>0.000646</td>\n",
       "    </tr>\n",
       "    <tr>\n",
       "      <th>111</th>\n",
       "      <td>Food</td>\n",
       "      <td>10</td>\n",
       "      <td>0.000646</td>\n",
       "    </tr>\n",
       "    <tr>\n",
       "      <th>112</th>\n",
       "      <td>Sotomayor Nomination</td>\n",
       "      <td>9</td>\n",
       "      <td>0.000582</td>\n",
       "    </tr>\n",
       "    <tr>\n",
       "      <th>113</th>\n",
       "      <td>Gas Prices</td>\n",
       "      <td>9</td>\n",
       "      <td>0.000582</td>\n",
       "    </tr>\n",
       "    <tr>\n",
       "      <th>114</th>\n",
       "      <td>Marriage</td>\n",
       "      <td>9</td>\n",
       "      <td>0.000582</td>\n",
       "    </tr>\n",
       "    <tr>\n",
       "      <th>115</th>\n",
       "      <td>Public Service</td>\n",
       "      <td>9</td>\n",
       "      <td>0.000582</td>\n",
       "    </tr>\n",
       "    <tr>\n",
       "      <th>116</th>\n",
       "      <td>Food Safety</td>\n",
       "      <td>9</td>\n",
       "      <td>0.000582</td>\n",
       "    </tr>\n",
       "    <tr>\n",
       "      <th>117</th>\n",
       "      <td>Weather</td>\n",
       "      <td>8</td>\n",
       "      <td>0.000517</td>\n",
       "    </tr>\n",
       "    <tr>\n",
       "      <th>118</th>\n",
       "      <td>Recreation</td>\n",
       "      <td>8</td>\n",
       "      <td>0.000517</td>\n",
       "    </tr>\n",
       "    <tr>\n",
       "      <th>119</th>\n",
       "      <td>Tourism</td>\n",
       "      <td>8</td>\n",
       "      <td>0.000517</td>\n",
       "    </tr>\n",
       "    <tr>\n",
       "      <th>120</th>\n",
       "      <td>Water</td>\n",
       "      <td>8</td>\n",
       "      <td>0.000517</td>\n",
       "    </tr>\n",
       "    <tr>\n",
       "      <th>121</th>\n",
       "      <td>Unions</td>\n",
       "      <td>8</td>\n",
       "      <td>0.000517</td>\n",
       "    </tr>\n",
       "    <tr>\n",
       "      <th>122</th>\n",
       "      <td>Florida Amendments</td>\n",
       "      <td>7</td>\n",
       "      <td>0.000452</td>\n",
       "    </tr>\n",
       "    <tr>\n",
       "      <th>123</th>\n",
       "      <td>State government spending</td>\n",
       "      <td>7</td>\n",
       "      <td>0.000452</td>\n",
       "    </tr>\n",
       "    <tr>\n",
       "      <th>124</th>\n",
       "      <td>Iran</td>\n",
       "      <td>7</td>\n",
       "      <td>0.000452</td>\n",
       "    </tr>\n",
       "    <tr>\n",
       "      <th>125</th>\n",
       "      <td>Privacy</td>\n",
       "      <td>7</td>\n",
       "      <td>0.000452</td>\n",
       "    </tr>\n",
       "    <tr>\n",
       "      <th>126</th>\n",
       "      <td>Kagan Nomination</td>\n",
       "      <td>6</td>\n",
       "      <td>0.000388</td>\n",
       "    </tr>\n",
       "    <tr>\n",
       "      <th>127</th>\n",
       "      <td>Science</td>\n",
       "      <td>6</td>\n",
       "      <td>0.000388</td>\n",
       "    </tr>\n",
       "    <tr>\n",
       "      <th>128</th>\n",
       "      <td>New Hampshire 2012</td>\n",
       "      <td>6</td>\n",
       "      <td>0.000388</td>\n",
       "    </tr>\n",
       "    <tr>\n",
       "      <th>129</th>\n",
       "      <td>Hunger</td>\n",
       "      <td>6</td>\n",
       "      <td>0.000388</td>\n",
       "    </tr>\n",
       "    <tr>\n",
       "      <th>130</th>\n",
       "      <td>Death Penalty</td>\n",
       "      <td>6</td>\n",
       "      <td>0.000388</td>\n",
       "    </tr>\n",
       "    <tr>\n",
       "      <th>131</th>\n",
       "      <td>Occupy Wall Street</td>\n",
       "      <td>5</td>\n",
       "      <td>0.000323</td>\n",
       "    </tr>\n",
       "    <tr>\n",
       "      <th>132</th>\n",
       "      <td>Wealth</td>\n",
       "      <td>5</td>\n",
       "      <td>0.000323</td>\n",
       "    </tr>\n",
       "    <tr>\n",
       "      <th>133</th>\n",
       "      <td>After the Fact</td>\n",
       "      <td>5</td>\n",
       "      <td>0.000323</td>\n",
       "    </tr>\n",
       "    <tr>\n",
       "      <th>134</th>\n",
       "      <td>Message Machine 2014</td>\n",
       "      <td>5</td>\n",
       "      <td>0.000323</td>\n",
       "    </tr>\n",
       "    <tr>\n",
       "      <th>135</th>\n",
       "      <td>Sexuality</td>\n",
       "      <td>5</td>\n",
       "      <td>0.000323</td>\n",
       "    </tr>\n",
       "    <tr>\n",
       "      <th>136</th>\n",
       "      <td>Homeless</td>\n",
       "      <td>4</td>\n",
       "      <td>0.000259</td>\n",
       "    </tr>\n",
       "    <tr>\n",
       "      <th>137</th>\n",
       "      <td>Automatic Voter Registration</td>\n",
       "      <td>4</td>\n",
       "      <td>0.000259</td>\n",
       "    </tr>\n",
       "    <tr>\n",
       "      <th>138</th>\n",
       "      <td>Autism</td>\n",
       "      <td>4</td>\n",
       "      <td>0.000259</td>\n",
       "    </tr>\n",
       "    <tr>\n",
       "      <th>139</th>\n",
       "      <td>Lottery</td>\n",
       "      <td>4</td>\n",
       "      <td>0.000259</td>\n",
       "    </tr>\n",
       "  </tbody>\n",
       "</table>\n",
       "<p>140 rows × 3 columns</p>\n",
       "</div>"
      ],
      "text/plain": [
       "                           subject  count  count_pct\n",
       "0                          Economy   1244   0.080409\n",
       "1                      Health Care   1114   0.072006\n",
       "2              Candidate Biography    819   0.052938\n",
       "3                        Education    813   0.052550\n",
       "4                        Elections    660   0.042660\n",
       "5                            Crime    570   0.036843\n",
       "6                   Federal Budget    529   0.034193\n",
       "7                      Immigration    477   0.030832\n",
       "8                            Taxes    473   0.030573\n",
       "9                   Foreign Policy    446   0.028828\n",
       "10                       Fake news    432   0.027923\n",
       "11                          Energy    355   0.022946\n",
       "12                        Abortion    351   0.022688\n",
       "13                            Guns    279   0.018034\n",
       "14                Campaign Finance    275   0.017775\n",
       "15                    State Budget    269   0.017387\n",
       "16                        Children    258   0.016676\n",
       "17                            Jobs    254   0.016418\n",
       "18                        Congress    247   0.015965\n",
       "19         Corrections and Updates    239   0.015448\n",
       "20                         Deficit    190   0.012281\n",
       "21                     Environment    186   0.012022\n",
       "22                         History    176   0.011376\n",
       "23                    Corporations    152   0.009825\n",
       "24             Job Accomplishments    144   0.009308\n",
       "25                  Climate Change    144   0.009308\n",
       "26                          Ethics    137   0.008855\n",
       "27                    Civil Rights    135   0.008726\n",
       "28               Homeland Security    133   0.008597\n",
       "29                            Debt    123   0.007950\n",
       "..                             ...    ...        ...\n",
       "110             Natural Disasters      10   0.000646\n",
       "111                           Food     10   0.000646\n",
       "112           Sotomayor Nomination      9   0.000582\n",
       "113                     Gas Prices      9   0.000582\n",
       "114                       Marriage      9   0.000582\n",
       "115                 Public Service      9   0.000582\n",
       "116                    Food Safety      9   0.000582\n",
       "117                        Weather      8   0.000517\n",
       "118                     Recreation      8   0.000517\n",
       "119                        Tourism      8   0.000517\n",
       "120                          Water      8   0.000517\n",
       "121                         Unions      8   0.000517\n",
       "122             Florida Amendments      7   0.000452\n",
       "123     State government spending       7   0.000452\n",
       "124                           Iran      7   0.000452\n",
       "125                        Privacy      7   0.000452\n",
       "126               Kagan Nomination      6   0.000388\n",
       "127                        Science      6   0.000388\n",
       "128             New Hampshire 2012      6   0.000388\n",
       "129                         Hunger      6   0.000388\n",
       "130                  Death Penalty      6   0.000388\n",
       "131             Occupy Wall Street      5   0.000323\n",
       "132                         Wealth      5   0.000323\n",
       "133                 After the Fact      5   0.000323\n",
       "134           Message Machine 2014      5   0.000323\n",
       "135                      Sexuality      5   0.000323\n",
       "136                       Homeless      4   0.000259\n",
       "137  Automatic Voter Registration       4   0.000259\n",
       "138                         Autism      4   0.000259\n",
       "139                        Lottery      4   0.000259\n",
       "\n",
       "[140 rows x 3 columns]"
      ]
     },
     "execution_count": 85,
     "metadata": {},
     "output_type": "execute_result"
    }
   ],
   "source": [
    "subject_toward_simplification = group_and_count(statements, 'subject', with_pct=True)\n",
    "subject_toward_simplification.head(140)"
   ]
  },
  {
   "cell_type": "code",
   "execution_count": 88,
   "metadata": {},
   "outputs": [],
   "source": [
    "def clean_up_subject(c):\n",
    "    # Insensitive case search of terms to regroup similar subjects together\n",
    "    # normally this would have been done with a regex, but since the dataset is small enough this works well\n",
    "    \n",
    "    c = c.lower()\n",
    "    \n",
    "    if any([s in c for s in ['budget', 'deficit', 'debt', 'economy', 'finance', 'taxe', 'income', 'trade', 'pension', 'retirement', 'gas', 'price']]):\n",
    "        return 'economy'\n",
    "    elif any([s in c for s in ['health care', 'water' 'aid', 'medic', 'alcohol', 'welfare', 'disability', 'ebola', 'food']]):\n",
    "        return 'health'\n",
    "    elif any([s in c for s in ['energy', 'climate', 'environment', 'transportation', 'agriculture', 'weather', 'natur', 'nuclear']]):\n",
    "        return 'environment'\n",
    "    elif any([s in c for s in ['immigration', 'foreign']]):\n",
    "        return 'immigration'\n",
    "    elif any([s in c for s in ['fake', 'news', 'correction', 'update', 'ethics', 'public', 'administration', 'transparency']]):\n",
    "        return 'fake'\n",
    "    elif any([s in c for s in ['abortion', 'children', 'education', 'gay', 'sex', 'privacy', 'recreation', 'tourism']]):\n",
    "        return 'family'\n",
    "    elif any([s in c for s in ['corporation', 'job', 'civil', 'rights', 'ethics', 'labor', 'worker']]):\n",
    "        return 'rights'\n",
    "    elif any([s in c for s in ['gun', 'crim', 'justice', 'security', 'terrorism', 'military', 'afghanistan', 'iraq', 'drugs', 'safety', 'marijuana', 'penalty']]):\n",
    "        return 'security'\n",
    "    elif any([s in c for s in ['government', 'election', 'candidate', 'congress', 'history', 'parti']]):\n",
    "        return 'politics'\n",
    "\n",
    "    else:\n",
    "        return 'other_subject'"
   ]
  },
  {
   "cell_type": "code",
   "execution_count": 92,
   "metadata": {},
   "outputs": [],
   "source": [
    "statements['clean_subject'] = statements['subject'].apply(clean_up_subject)"
   ]
  },
  {
   "cell_type": "code",
   "execution_count": 96,
   "metadata": {},
   "outputs": [
    {
     "data": {
      "text/html": [
       "<div>\n",
       "<style scoped>\n",
       "    .dataframe tbody tr th:only-of-type {\n",
       "        vertical-align: middle;\n",
       "    }\n",
       "\n",
       "    .dataframe tbody tr th {\n",
       "        vertical-align: top;\n",
       "    }\n",
       "\n",
       "    .dataframe thead th {\n",
       "        text-align: right;\n",
       "    }\n",
       "</style>\n",
       "<table border=\"1\" class=\"dataframe\">\n",
       "  <thead>\n",
       "    <tr style=\"text-align: right;\">\n",
       "      <th></th>\n",
       "      <th>clean_subject</th>\n",
       "      <th>count</th>\n",
       "    </tr>\n",
       "  </thead>\n",
       "  <tbody>\n",
       "    <tr>\n",
       "      <th>0</th>\n",
       "      <td>economy</td>\n",
       "      <td>3474</td>\n",
       "    </tr>\n",
       "    <tr>\n",
       "      <th>1</th>\n",
       "      <td>politics</td>\n",
       "      <td>2366</td>\n",
       "    </tr>\n",
       "    <tr>\n",
       "      <th>2</th>\n",
       "      <td>security</td>\n",
       "      <td>1632</td>\n",
       "    </tr>\n",
       "    <tr>\n",
       "      <th>3</th>\n",
       "      <td>family</td>\n",
       "      <td>1527</td>\n",
       "    </tr>\n",
       "    <tr>\n",
       "      <th>4</th>\n",
       "      <td>other_subject</td>\n",
       "      <td>1493</td>\n",
       "    </tr>\n",
       "    <tr>\n",
       "      <th>5</th>\n",
       "      <td>health</td>\n",
       "      <td>1318</td>\n",
       "    </tr>\n",
       "    <tr>\n",
       "      <th>6</th>\n",
       "      <td>fake</td>\n",
       "      <td>1019</td>\n",
       "    </tr>\n",
       "    <tr>\n",
       "      <th>7</th>\n",
       "      <td>immigration</td>\n",
       "      <td>923</td>\n",
       "    </tr>\n",
       "    <tr>\n",
       "      <th>8</th>\n",
       "      <td>environment</td>\n",
       "      <td>916</td>\n",
       "    </tr>\n",
       "    <tr>\n",
       "      <th>9</th>\n",
       "      <td>rights</td>\n",
       "      <td>803</td>\n",
       "    </tr>\n",
       "  </tbody>\n",
       "</table>\n",
       "</div>"
      ],
      "text/plain": [
       "   clean_subject  count\n",
       "0        economy   3474\n",
       "1       politics   2366\n",
       "2       security   1632\n",
       "3         family   1527\n",
       "4  other_subject   1493\n",
       "5         health   1318\n",
       "6           fake   1019\n",
       "7    immigration    923\n",
       "8    environment    916\n",
       "9         rights    803"
      ]
     },
     "execution_count": 96,
     "metadata": {},
     "output_type": "execute_result"
    }
   ],
   "source": [
    "group_and_count(statements,'clean_subject').head(100)\n"
   ]
  },
  {
   "cell_type": "code",
   "execution_count": null,
   "metadata": {},
   "outputs": [],
   "source": []
  }
 ],
 "metadata": {
  "hide_input": false,
  "kernelspec": {
   "display_name": "Python 3",
   "language": "python",
   "name": "python3"
  },
  "language_info": {
   "codemirror_mode": {
    "name": "ipython",
    "version": 3
   },
   "file_extension": ".py",
   "mimetype": "text/x-python",
   "name": "python",
   "nbconvert_exporter": "python",
   "pygments_lexer": "ipython3",
   "version": "3.6.5"
  },
  "toc": {
   "base_numbering": 1,
   "nav_menu": {
    "height": "49.1333px",
    "width": "252px"
   },
   "number_sections": true,
   "sideBar": true,
   "skip_h1_title": false,
   "title_cell": "Table of Contents",
   "title_sidebar": "Contents",
   "toc_cell": false,
   "toc_position": {},
   "toc_section_display": "block",
   "toc_window_display": false
  }
 },
 "nbformat": 4,
 "nbformat_minor": 2
}
