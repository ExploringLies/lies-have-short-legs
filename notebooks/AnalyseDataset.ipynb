{
 "cells": [
  {
   "cell_type": "markdown",
   "metadata": {},
   "source": [
    "# Analysing Dataset"
   ]
  },
  {
   "cell_type": "code",
   "execution_count": 79,
   "metadata": {
    "ExecuteTime": {
     "end_time": "2018-12-13T16:22:16.844191Z",
     "start_time": "2018-12-13T16:22:16.823986Z"
    }
   },
   "outputs": [
    {
     "data": {
      "text/html": [
       "<style>.container { width:95% !important; }</style>"
      ],
      "text/plain": [
       "<IPython.core.display.HTML object>"
      ]
     },
     "metadata": {},
     "output_type": "display_data"
    }
   ],
   "source": [
    "def fix_layout(width:int=95):\n",
    "    from IPython.core.display import display, HTML\n",
    "    display(HTML('<style>.container { width:' + str(width) + '% !important; }</style>'))\n",
    "    \n",
    "fix_layout()"
   ]
  },
  {
   "cell_type": "markdown",
   "metadata": {},
   "source": [
    "This notebook is dedicated to datasets analysis. \n",
    "\n",
    "Here we will concentrate on connecting our datasets into one dataframe that will later be used to extract meaningful information that can help us answer our research questions. \n",
    "\n",
    "In addition, data cleaning is performed where necessary since we will not use all the data provided. The goal of this notebook is to make data as easy as possible to use for future plotting and data story writing.\n",
    "\n",
    "So, let's dive into our data!"
   ]
  },
  {
   "cell_type": "code",
   "execution_count": 80,
   "metadata": {
    "ExecuteTime": {
     "end_time": "2018-12-13T17:32:43.676648Z",
     "start_time": "2018-12-13T17:32:43.666025Z"
    }
   },
   "outputs": [
    {
     "data": {
      "text/plain": [
       "<module 'utils.statement_handling' from '../src/utils/statement_handling.py'>"
      ]
     },
     "execution_count": 80,
     "metadata": {},
     "output_type": "execute_result"
    }
   ],
   "source": [
    "import os\n",
    "import re\n",
    "import json\n",
    "import time\n",
    "import datetime\n",
    "from functools import reduce\n",
    "from itertools import product\n",
    "\n",
    "from json import load, JSONDecodeError\n",
    "from functional import pseq, seq\n",
    "import pandas as pd\n",
    "import pandas_profiling\n",
    "import requests\n",
    "import pathlib\n",
    "\n",
    "# necessary to load the utils, which are in src\n",
    "import sys\n",
    "sys.path.append('../src')\n",
    "\n",
    "from utils import file, logging\n",
    "from utils.statement_handling import extract_information, safe_json_read\n",
    "\n",
    "from importlib import reload\n",
    "\n",
    "import utils.statement_handling as SH\n",
    "reload(SH)"
   ]
  },
  {
   "cell_type": "code",
   "execution_count": 81,
   "metadata": {
    "ExecuteTime": {
     "end_time": "2018-12-13T16:22:20.508943Z",
     "start_time": "2018-12-13T16:22:20.503617Z"
    }
   },
   "outputs": [],
   "source": [
    "def group_and_count(df, groupby_column, with_pct=False, with_avg=False):\n",
    "    result = df.groupby(groupby_column).size().sort_values(ascending=False).reset_index().rename(columns={0: 'count'})\n",
    "    if with_pct:\n",
    "        result['count_pct'] = result['count'] / result['count'].sum()\n",
    "    if with_avg:\n",
    "        result['count_avg'] = result['count'].mean()\n",
    "    return result"
   ]
  },
  {
   "cell_type": "code",
   "execution_count": 82,
   "metadata": {
    "ExecuteTime": {
     "end_time": "2018-12-13T16:22:22.023282Z",
     "start_time": "2018-12-13T16:22:22.016409Z"
    }
   },
   "outputs": [],
   "source": [
    "directory_liar_dataset = \"../data/liar_dataset\"\n",
    "directory_statements = f\"{directory_liar_dataset}/statements\"\n",
    "directory_visualizations = \"../docs/data_insight\"\n",
    "directory_election_results = \"../data/election_results\"\n",
    "directory_county_data = \"../data/county_data\""
   ]
  },
  {
   "cell_type": "markdown",
   "metadata": {},
   "source": [
    "# LIAR Dataset"
   ]
  },
  {
   "cell_type": "markdown",
   "metadata": {},
   "source": [
    "This is just the LIAR dataset:"
   ]
  },
  {
   "cell_type": "code",
   "execution_count": 83,
   "metadata": {
    "ExecuteTime": {
     "end_time": "2018-12-13T16:57:40.678636Z",
     "start_time": "2018-12-13T16:57:37.652081Z"
    }
   },
   "outputs": [
    {
     "name": "stderr",
     "output_type": "stream",
     "text": [
      "ERROR:root:File ../data/liar_dataset/statements/5355.json is empty or something...\n",
      "ERROR:root:File ../data/liar_dataset/statements/9.json is empty or something...\n"
     ]
    },
    {
     "data": {
      "text/html": [
       "<div>\n",
       "<style scoped>\n",
       "    .dataframe tbody tr th:only-of-type {\n",
       "        vertical-align: middle;\n",
       "    }\n",
       "\n",
       "    .dataframe tbody tr th {\n",
       "        vertical-align: top;\n",
       "    }\n",
       "\n",
       "    .dataframe thead th {\n",
       "        text-align: right;\n",
       "    }\n",
       "</style>\n",
       "<table border=\"1\" class=\"dataframe\">\n",
       "  <thead>\n",
       "    <tr style=\"text-align: right;\">\n",
       "      <th></th>\n",
       "      <th>author_name_slug</th>\n",
       "      <th>context</th>\n",
       "      <th>label</th>\n",
       "      <th>ruling_date</th>\n",
       "      <th>speaker_current_job</th>\n",
       "      <th>speaker_first_name</th>\n",
       "      <th>speaker_home_state</th>\n",
       "      <th>speaker_last_name</th>\n",
       "      <th>statement</th>\n",
       "      <th>statement_date</th>\n",
       "      <th>statement_id</th>\n",
       "      <th>statement_type</th>\n",
       "      <th>statement_type_description</th>\n",
       "      <th>subject</th>\n",
       "    </tr>\n",
       "  </thead>\n",
       "  <tbody>\n",
       "    <tr>\n",
       "      <th>8962</th>\n",
       "      <td>chris-nichols</td>\n",
       "      <td>a headline</td>\n",
       "      <td>pants-fire</td>\n",
       "      <td>2017-12-20T09:55:15</td>\n",
       "      <td></td>\n",
       "      <td></td>\n",
       "      <td></td>\n",
       "      <td>USA In Front</td>\n",
       "      <td>BREAKING: Illegal Muslim From Iran Arrested Fo...</td>\n",
       "      <td>2017-12-11</td>\n",
       "      <td>14863</td>\n",
       "      <td>Claim</td>\n",
       "      <td>blog post</td>\n",
       "      <td>Crime</td>\n",
       "    </tr>\n",
       "    <tr>\n",
       "      <th>10136</th>\n",
       "      <td>angie-drobnic-holan</td>\n",
       "      <td>flip-o-meter</td>\n",
       "      <td>no-flip</td>\n",
       "      <td>2008-08-12T00:00:00</td>\n",
       "      <td>President</td>\n",
       "      <td>Barack</td>\n",
       "      <td>Illinois</td>\n",
       "      <td>Obama</td>\n",
       "      <td>On a timetable to withdraw from Iraq.</td>\n",
       "      <td>2008-08-04</td>\n",
       "      <td>604</td>\n",
       "      <td>Flip</td>\n",
       "      <td>Flip-o-Meter items</td>\n",
       "      <td>Iraq</td>\n",
       "    </tr>\n",
       "    <tr>\n",
       "      <th>8124</th>\n",
       "      <td>PaulSpecht</td>\n",
       "      <td>Press release</td>\n",
       "      <td>barely-true</td>\n",
       "      <td>2017-08-16T16:09:44</td>\n",
       "      <td>Governor of North Carolina</td>\n",
       "      <td>Roy</td>\n",
       "      <td>North Carolina</td>\n",
       "      <td>Cooper</td>\n",
       "      <td>House Bill 330 grants immunity from liability ...</td>\n",
       "      <td>2017-08-15</td>\n",
       "      <td>14438</td>\n",
       "      <td>Claim</td>\n",
       "      <td>blog post</td>\n",
       "      <td>Legal Issues</td>\n",
       "    </tr>\n",
       "    <tr>\n",
       "      <th>11396</th>\n",
       "      <td>jon-greenberg</td>\n",
       "      <td>a broadcast of \"The Daily Show\"</td>\n",
       "      <td>mostly-true</td>\n",
       "      <td>2015-06-22T12:09:47</td>\n",
       "      <td>former president</td>\n",
       "      <td>Bill</td>\n",
       "      <td>Arkansas</td>\n",
       "      <td>Clinton</td>\n",
       "      <td>Between 2010 and 2014, there was no net in-mig...</td>\n",
       "      <td>2015-06-17</td>\n",
       "      <td>10968</td>\n",
       "      <td>Claim</td>\n",
       "      <td>blog post</td>\n",
       "      <td>Immigration</td>\n",
       "    </tr>\n",
       "    <tr>\n",
       "      <th>14219</th>\n",
       "      <td>clayton-youngman</td>\n",
       "      <td>on NBC's Today Show</td>\n",
       "      <td>mostly-true</td>\n",
       "      <td>2015-10-12T11:13:42</td>\n",
       "      <td>Presidential candidate</td>\n",
       "      <td>Hillary</td>\n",
       "      <td>New York</td>\n",
       "      <td>Clinton</td>\n",
       "      <td>There have been seven investigations (of Bengh...</td>\n",
       "      <td>2015-10-05</td>\n",
       "      <td>11406</td>\n",
       "      <td>Claim</td>\n",
       "      <td>blog post</td>\n",
       "      <td>Congress</td>\n",
       "    </tr>\n",
       "    <tr>\n",
       "      <th>12664</th>\n",
       "      <td>c-eugene-emery</td>\n",
       "      <td>a Providence Journal-WPRI-12 debate</td>\n",
       "      <td>true</td>\n",
       "      <td>2014-10-24T00:01:00</td>\n",
       "      <td>mayor, city of Cranston, R.I.</td>\n",
       "      <td>Allan</td>\n",
       "      <td>Rhode Island</td>\n",
       "      <td>Fung</td>\n",
       "      <td>Governor Carcieri has not been campaigning wit...</td>\n",
       "      <td>2014-10-21</td>\n",
       "      <td>10129</td>\n",
       "      <td>Claim</td>\n",
       "      <td>blog post</td>\n",
       "      <td>Candidate Biography</td>\n",
       "    </tr>\n",
       "    <tr>\n",
       "      <th>3487</th>\n",
       "      <td>tom-kertscher</td>\n",
       "      <td>campaign mail piece</td>\n",
       "      <td>pants-fire</td>\n",
       "      <td>2011-08-12T09:57:19</td>\n",
       "      <td>State Senator, 22nd District</td>\n",
       "      <td>Bob</td>\n",
       "      <td>Wisconsin</td>\n",
       "      <td>Wirch</td>\n",
       "      <td>Says he helped bring Uline company to Kenosha ...</td>\n",
       "      <td>2011-07-25</td>\n",
       "      <td>4270</td>\n",
       "      <td>Claim</td>\n",
       "      <td>blog post</td>\n",
       "      <td>Jobs</td>\n",
       "    </tr>\n",
       "    <tr>\n",
       "      <th>978</th>\n",
       "      <td>PaulSpecht</td>\n",
       "      <td>in a blog</td>\n",
       "      <td>barely-true</td>\n",
       "      <td>2017-08-22T11:28:38</td>\n",
       "      <td>N.C. Representative</td>\n",
       "      <td>David</td>\n",
       "      <td>North Carolina</td>\n",
       "      <td>Lewis</td>\n",
       "      <td>Gov. Roy Cooper has filed nearly one lawsuit a...</td>\n",
       "      <td>2017-07-31</td>\n",
       "      <td>14451</td>\n",
       "      <td>Claim</td>\n",
       "      <td>blog post</td>\n",
       "      <td>Government Efficiency</td>\n",
       "    </tr>\n",
       "    <tr>\n",
       "      <th>13992</th>\n",
       "      <td>aaron-sharockman</td>\n",
       "      <td>a U.S. Senate primary debate on FOX News Sunday</td>\n",
       "      <td>false</td>\n",
       "      <td>2010-03-29T20:03:26</td>\n",
       "      <td>U.S. Senator</td>\n",
       "      <td>Marco</td>\n",
       "      <td>Florida</td>\n",
       "      <td>Rubio</td>\n",
       "      <td>Charlie Crist worked with Acorn to give felons...</td>\n",
       "      <td>2010-03-28</td>\n",
       "      <td>1640</td>\n",
       "      <td>Claim</td>\n",
       "      <td>blog post</td>\n",
       "      <td>Civil Rights</td>\n",
       "    </tr>\n",
       "    <tr>\n",
       "      <th>2923</th>\n",
       "      <td>clay-wirestone</td>\n",
       "      <td>an online petition</td>\n",
       "      <td>mostly-true</td>\n",
       "      <td>2016-03-18T13:53:52</td>\n",
       "      <td></td>\n",
       "      <td></td>\n",
       "      <td>New Hampshire</td>\n",
       "      <td>New Hampshire Republican Party</td>\n",
       "      <td>Given the results of the primary, the vote of ...</td>\n",
       "      <td>2016-02-16</td>\n",
       "      <td>12091</td>\n",
       "      <td>Claim</td>\n",
       "      <td>blog post</td>\n",
       "      <td>Elections</td>\n",
       "    </tr>\n",
       "  </tbody>\n",
       "</table>\n",
       "</div>"
      ],
      "text/plain": [
       "          author_name_slug                                          context  \\\n",
       "8962         chris-nichols                                       a headline   \n",
       "10136  angie-drobnic-holan                                     flip-o-meter   \n",
       "8124            PaulSpecht                                    Press release   \n",
       "11396        jon-greenberg                  a broadcast of \"The Daily Show\"   \n",
       "14219     clayton-youngman                              on NBC's Today Show   \n",
       "12664       c-eugene-emery              a Providence Journal-WPRI-12 debate   \n",
       "3487         tom-kertscher                              campaign mail piece   \n",
       "978             PaulSpecht                                        in a blog   \n",
       "13992     aaron-sharockman  a U.S. Senate primary debate on FOX News Sunday   \n",
       "2923        clay-wirestone                               an online petition   \n",
       "\n",
       "             label          ruling_date            speaker_current_job  \\\n",
       "8962    pants-fire  2017-12-20T09:55:15                                  \n",
       "10136      no-flip  2008-08-12T00:00:00                      President   \n",
       "8124   barely-true  2017-08-16T16:09:44     Governor of North Carolina   \n",
       "11396  mostly-true  2015-06-22T12:09:47               former president   \n",
       "14219  mostly-true  2015-10-12T11:13:42         Presidential candidate   \n",
       "12664         true  2014-10-24T00:01:00  mayor, city of Cranston, R.I.   \n",
       "3487    pants-fire  2011-08-12T09:57:19   State Senator, 22nd District   \n",
       "978    barely-true  2017-08-22T11:28:38            N.C. Representative   \n",
       "13992        false  2010-03-29T20:03:26                   U.S. Senator   \n",
       "2923   mostly-true  2016-03-18T13:53:52                                  \n",
       "\n",
       "      speaker_first_name speaker_home_state               speaker_last_name  \\\n",
       "8962                                                           USA In Front   \n",
       "10136             Barack           Illinois                           Obama   \n",
       "8124                 Roy     North Carolina                          Cooper   \n",
       "11396               Bill           Arkansas                         Clinton   \n",
       "14219            Hillary           New York                         Clinton   \n",
       "12664              Allan       Rhode Island                            Fung   \n",
       "3487                 Bob          Wisconsin                           Wirch   \n",
       "978                David     North Carolina                           Lewis   \n",
       "13992              Marco            Florida                           Rubio   \n",
       "2923                          New Hampshire  New Hampshire Republican Party   \n",
       "\n",
       "                                               statement statement_date  \\\n",
       "8962   BREAKING: Illegal Muslim From Iran Arrested Fo...     2017-12-11   \n",
       "10136              On a timetable to withdraw from Iraq.     2008-08-04   \n",
       "8124   House Bill 330 grants immunity from liability ...     2017-08-15   \n",
       "11396  Between 2010 and 2014, there was no net in-mig...     2015-06-17   \n",
       "14219  There have been seven investigations (of Bengh...     2015-10-05   \n",
       "12664  Governor Carcieri has not been campaigning wit...     2014-10-21   \n",
       "3487   Says he helped bring Uline company to Kenosha ...     2011-07-25   \n",
       "978    Gov. Roy Cooper has filed nearly one lawsuit a...     2017-07-31   \n",
       "13992  Charlie Crist worked with Acorn to give felons...     2010-03-28   \n",
       "2923   Given the results of the primary, the vote of ...     2016-02-16   \n",
       "\n",
       "       statement_id statement_type statement_type_description  \\\n",
       "8962          14863          Claim                 blog post    \n",
       "10136           604           Flip         Flip-o-Meter items   \n",
       "8124          14438          Claim                 blog post    \n",
       "11396         10968          Claim                 blog post    \n",
       "14219         11406          Claim                 blog post    \n",
       "12664         10129          Claim                 blog post    \n",
       "3487           4270          Claim                 blog post    \n",
       "978           14451          Claim                 blog post    \n",
       "13992          1640          Claim                 blog post    \n",
       "2923          12091          Claim                 blog post    \n",
       "\n",
       "                     subject  \n",
       "8962                   Crime  \n",
       "10136                   Iraq  \n",
       "8124            Legal Issues  \n",
       "11396            Immigration  \n",
       "14219               Congress  \n",
       "12664    Candidate Biography  \n",
       "3487                    Jobs  \n",
       "978    Government Efficiency  \n",
       "13992           Civil Rights  \n",
       "2923               Elections  "
      ]
     },
     "execution_count": 83,
     "metadata": {},
     "output_type": "execute_result"
    }
   ],
   "source": [
    "statements = seq(pathlib.Path(directory_statements).iterdir()).map(safe_json_read)\\\n",
    "                               .filter(lambda x: len(x) > 0)\\\n",
    "                               .map(extract_information)\\\n",
    "                               .to_pandas()\n",
    "\n",
    "statements['statement_date'] = pd.to_datetime(statements['statement_date'])\n",
    "statements.sample(10)"
   ]
  },
  {
   "cell_type": "code",
   "execution_count": 84,
   "metadata": {
    "ExecuteTime": {
     "end_time": "2018-12-13T16:57:46.633085Z",
     "start_time": "2018-12-13T16:57:46.629695Z"
    }
   },
   "outputs": [
    {
     "data": {
      "text/plain": [
       "646"
      ]
     },
     "execution_count": 84,
     "metadata": {},
     "output_type": "execute_result"
    }
   ],
   "source": [
    "statements['speaker_last_name'].eq('Trump').sum()"
   ]
  },
  {
   "cell_type": "code",
   "execution_count": 85,
   "metadata": {
    "ExecuteTime": {
     "end_time": "2018-12-13T16:58:00.916407Z",
     "start_time": "2018-12-13T16:58:00.895890Z"
    }
   },
   "outputs": [
    {
     "name": "stdout",
     "output_type": "stream",
     "text": [
      "The number of different context names is: 5828. That is much too many different contexts and lots of them appear only a few times. We thus need to regroup/reduce the number of contexts.\n"
     ]
    }
   ],
   "source": [
    "print('The number of different context names is: {}.\\\n",
    " That is much too many different contexts and lots of them appear only a few times.\\\n",
    " We thus need to regroup/reduce the number of contexts.'.format(group_and_count(statements, 'context').shape[0]))"
   ]
  },
  {
   "cell_type": "code",
   "execution_count": 86,
   "metadata": {
    "ExecuteTime": {
     "end_time": "2018-12-13T16:58:05.878502Z",
     "start_time": "2018-12-13T16:58:05.848183Z"
    }
   },
   "outputs": [
    {
     "data": {
      "text/html": [
       "<div>\n",
       "<style scoped>\n",
       "    .dataframe tbody tr th:only-of-type {\n",
       "        vertical-align: middle;\n",
       "    }\n",
       "\n",
       "    .dataframe tbody tr th {\n",
       "        vertical-align: top;\n",
       "    }\n",
       "\n",
       "    .dataframe thead th {\n",
       "        text-align: right;\n",
       "    }\n",
       "</style>\n",
       "<table border=\"1\" class=\"dataframe\">\n",
       "  <thead>\n",
       "    <tr style=\"text-align: right;\">\n",
       "      <th></th>\n",
       "      <th>context</th>\n",
       "      <th>count</th>\n",
       "    </tr>\n",
       "  </thead>\n",
       "  <tbody>\n",
       "    <tr>\n",
       "      <th>0</th>\n",
       "      <td>a tweet</td>\n",
       "      <td>471</td>\n",
       "    </tr>\n",
       "    <tr>\n",
       "      <th>1</th>\n",
       "      <td>an interview</td>\n",
       "      <td>380</td>\n",
       "    </tr>\n",
       "    <tr>\n",
       "      <th>2</th>\n",
       "      <td>a news release</td>\n",
       "      <td>329</td>\n",
       "    </tr>\n",
       "    <tr>\n",
       "      <th>3</th>\n",
       "      <td>a press release</td>\n",
       "      <td>325</td>\n",
       "    </tr>\n",
       "    <tr>\n",
       "      <th>4</th>\n",
       "      <td>a speech</td>\n",
       "      <td>319</td>\n",
       "    </tr>\n",
       "    <tr>\n",
       "      <th>5</th>\n",
       "      <td>a TV ad</td>\n",
       "      <td>275</td>\n",
       "    </tr>\n",
       "    <tr>\n",
       "      <th>6</th>\n",
       "      <td>a campaign ad</td>\n",
       "      <td>221</td>\n",
       "    </tr>\n",
       "    <tr>\n",
       "      <th>7</th>\n",
       "      <td>a headline</td>\n",
       "      <td>175</td>\n",
       "    </tr>\n",
       "    <tr>\n",
       "      <th>8</th>\n",
       "      <td>a television ad</td>\n",
       "      <td>168</td>\n",
       "    </tr>\n",
       "    <tr>\n",
       "      <th>9</th>\n",
       "      <td></td>\n",
       "      <td>166</td>\n",
       "    </tr>\n",
       "    <tr>\n",
       "      <th>10</th>\n",
       "      <td>a radio interview</td>\n",
       "      <td>158</td>\n",
       "    </tr>\n",
       "    <tr>\n",
       "      <th>11</th>\n",
       "      <td>a debate</td>\n",
       "      <td>148</td>\n",
       "    </tr>\n",
       "    <tr>\n",
       "      <th>12</th>\n",
       "      <td>a Facebook post</td>\n",
       "      <td>139</td>\n",
       "    </tr>\n",
       "    <tr>\n",
       "      <th>13</th>\n",
       "      <td>a blog post</td>\n",
       "      <td>133</td>\n",
       "    </tr>\n",
       "    <tr>\n",
       "      <th>14</th>\n",
       "      <td>a press conference</td>\n",
       "      <td>125</td>\n",
       "    </tr>\n",
       "    <tr>\n",
       "      <th>15</th>\n",
       "      <td>a news conference</td>\n",
       "      <td>118</td>\n",
       "    </tr>\n",
       "    <tr>\n",
       "      <th>16</th>\n",
       "      <td>a campaign commercial</td>\n",
       "      <td>93</td>\n",
       "    </tr>\n",
       "    <tr>\n",
       "      <th>17</th>\n",
       "      <td>a television interview</td>\n",
       "      <td>90</td>\n",
       "    </tr>\n",
       "    <tr>\n",
       "      <th>18</th>\n",
       "      <td>a TV interview</td>\n",
       "      <td>76</td>\n",
       "    </tr>\n",
       "    <tr>\n",
       "      <th>19</th>\n",
       "      <td>a speech.</td>\n",
       "      <td>73</td>\n",
       "    </tr>\n",
       "    <tr>\n",
       "      <th>20</th>\n",
       "      <td>an ad</td>\n",
       "      <td>66</td>\n",
       "    </tr>\n",
       "    <tr>\n",
       "      <th>21</th>\n",
       "      <td>a radio ad</td>\n",
       "      <td>64</td>\n",
       "    </tr>\n",
       "    <tr>\n",
       "      <th>22</th>\n",
       "      <td>a TV ad.</td>\n",
       "      <td>62</td>\n",
       "    </tr>\n",
       "    <tr>\n",
       "      <th>23</th>\n",
       "      <td>a press release.</td>\n",
       "      <td>59</td>\n",
       "    </tr>\n",
       "    <tr>\n",
       "      <th>24</th>\n",
       "      <td>an interview on CNN</td>\n",
       "      <td>55</td>\n",
       "    </tr>\n",
       "    <tr>\n",
       "      <th>25</th>\n",
       "      <td>a post on Facebook</td>\n",
       "      <td>54</td>\n",
       "    </tr>\n",
       "    <tr>\n",
       "      <th>26</th>\n",
       "      <td>an interview on Fox News</td>\n",
       "      <td>53</td>\n",
       "    </tr>\n",
       "    <tr>\n",
       "      <th>27</th>\n",
       "      <td>a chain e-mail</td>\n",
       "      <td>52</td>\n",
       "    </tr>\n",
       "    <tr>\n",
       "      <th>28</th>\n",
       "      <td>an interview.</td>\n",
       "      <td>51</td>\n",
       "    </tr>\n",
       "    <tr>\n",
       "      <th>29</th>\n",
       "      <td>a campaign mailer</td>\n",
       "      <td>50</td>\n",
       "    </tr>\n",
       "    <tr>\n",
       "      <th>...</th>\n",
       "      <td>...</td>\n",
       "      <td>...</td>\n",
       "    </tr>\n",
       "    <tr>\n",
       "      <th>70</th>\n",
       "      <td>ABC's \"This Week\"</td>\n",
       "      <td>23</td>\n",
       "    </tr>\n",
       "    <tr>\n",
       "      <th>71</th>\n",
       "      <td>an interview on ABC's \"This Week\"</td>\n",
       "      <td>23</td>\n",
       "    </tr>\n",
       "    <tr>\n",
       "      <th>72</th>\n",
       "      <td>a news conference.</td>\n",
       "      <td>22</td>\n",
       "    </tr>\n",
       "    <tr>\n",
       "      <th>73</th>\n",
       "      <td>in a blog post</td>\n",
       "      <td>22</td>\n",
       "    </tr>\n",
       "    <tr>\n",
       "      <th>74</th>\n",
       "      <td>a Twitter post</td>\n",
       "      <td>21</td>\n",
       "    </tr>\n",
       "    <tr>\n",
       "      <th>75</th>\n",
       "      <td>the second presidential debate</td>\n",
       "      <td>21</td>\n",
       "    </tr>\n",
       "    <tr>\n",
       "      <th>76</th>\n",
       "      <td>comments on NBC's \"Meet the Press\"</td>\n",
       "      <td>21</td>\n",
       "    </tr>\n",
       "    <tr>\n",
       "      <th>77</th>\n",
       "      <td>a newspaper column</td>\n",
       "      <td>21</td>\n",
       "    </tr>\n",
       "    <tr>\n",
       "      <th>78</th>\n",
       "      <td>an e-mail</td>\n",
       "      <td>20</td>\n",
       "    </tr>\n",
       "    <tr>\n",
       "      <th>79</th>\n",
       "      <td>a campaign mailer.</td>\n",
       "      <td>20</td>\n",
       "    </tr>\n",
       "    <tr>\n",
       "      <th>80</th>\n",
       "      <td>a House floor speech</td>\n",
       "      <td>20</td>\n",
       "    </tr>\n",
       "    <tr>\n",
       "      <th>81</th>\n",
       "      <td>in a tweet</td>\n",
       "      <td>19</td>\n",
       "    </tr>\n",
       "    <tr>\n",
       "      <th>82</th>\n",
       "      <td>an advertisement</td>\n",
       "      <td>19</td>\n",
       "    </tr>\n",
       "    <tr>\n",
       "      <th>83</th>\n",
       "      <td>a speech on the Senate floor</td>\n",
       "      <td>19</td>\n",
       "    </tr>\n",
       "    <tr>\n",
       "      <th>84</th>\n",
       "      <td>a campaign website</td>\n",
       "      <td>19</td>\n",
       "    </tr>\n",
       "    <tr>\n",
       "      <th>85</th>\n",
       "      <td>a fundraising email</td>\n",
       "      <td>18</td>\n",
       "    </tr>\n",
       "    <tr>\n",
       "      <th>86</th>\n",
       "      <td>a video ad</td>\n",
       "      <td>18</td>\n",
       "    </tr>\n",
       "    <tr>\n",
       "      <th>87</th>\n",
       "      <td>comments on \"Meet the Press\"</td>\n",
       "      <td>18</td>\n",
       "    </tr>\n",
       "    <tr>\n",
       "      <th>88</th>\n",
       "      <td>a YouTube video</td>\n",
       "      <td>18</td>\n",
       "    </tr>\n",
       "    <tr>\n",
       "      <th>89</th>\n",
       "      <td>in a press release</td>\n",
       "      <td>18</td>\n",
       "    </tr>\n",
       "    <tr>\n",
       "      <th>90</th>\n",
       "      <td>a column</td>\n",
       "      <td>18</td>\n",
       "    </tr>\n",
       "    <tr>\n",
       "      <th>91</th>\n",
       "      <td>an opinion column</td>\n",
       "      <td>17</td>\n",
       "    </tr>\n",
       "    <tr>\n",
       "      <th>92</th>\n",
       "      <td>an interview on MSNBC's \"Morning Joe\"</td>\n",
       "      <td>17</td>\n",
       "    </tr>\n",
       "    <tr>\n",
       "      <th>93</th>\n",
       "      <td>a statement.</td>\n",
       "      <td>17</td>\n",
       "    </tr>\n",
       "    <tr>\n",
       "      <th>94</th>\n",
       "      <td>an interview with Fox News</td>\n",
       "      <td>17</td>\n",
       "    </tr>\n",
       "    <tr>\n",
       "      <th>95</th>\n",
       "      <td>a campaign email</td>\n",
       "      <td>17</td>\n",
       "    </tr>\n",
       "    <tr>\n",
       "      <th>96</th>\n",
       "      <td>a fundraising letter</td>\n",
       "      <td>17</td>\n",
       "    </tr>\n",
       "    <tr>\n",
       "      <th>97</th>\n",
       "      <td>an interview on CNN's \"State of the Union\"</td>\n",
       "      <td>16</td>\n",
       "    </tr>\n",
       "    <tr>\n",
       "      <th>98</th>\n",
       "      <td>a floor speech.</td>\n",
       "      <td>16</td>\n",
       "    </tr>\n",
       "    <tr>\n",
       "      <th>99</th>\n",
       "      <td>a tweet.</td>\n",
       "      <td>16</td>\n",
       "    </tr>\n",
       "  </tbody>\n",
       "</table>\n",
       "<p>100 rows × 2 columns</p>\n",
       "</div>"
      ],
      "text/plain": [
       "                                       context  count\n",
       "0                                      a tweet    471\n",
       "1                                 an interview    380\n",
       "2                               a news release    329\n",
       "3                              a press release    325\n",
       "4                                     a speech    319\n",
       "5                                      a TV ad    275\n",
       "6                                a campaign ad    221\n",
       "7                                   a headline    175\n",
       "8                              a television ad    168\n",
       "9                                                 166\n",
       "10                           a radio interview    158\n",
       "11                                    a debate    148\n",
       "12                             a Facebook post    139\n",
       "13                                 a blog post    133\n",
       "14                          a press conference    125\n",
       "15                           a news conference    118\n",
       "16                       a campaign commercial     93\n",
       "17                      a television interview     90\n",
       "18                              a TV interview     76\n",
       "19                                   a speech.     73\n",
       "20                                       an ad     66\n",
       "21                                  a radio ad     64\n",
       "22                                    a TV ad.     62\n",
       "23                            a press release.     59\n",
       "24                         an interview on CNN     55\n",
       "25                          a post on Facebook     54\n",
       "26                    an interview on Fox News     53\n",
       "27                              a chain e-mail     52\n",
       "28                               an interview.     51\n",
       "29                           a campaign mailer     50\n",
       "..                                         ...    ...\n",
       "70                           ABC's \"This Week\"     23\n",
       "71           an interview on ABC's \"This Week\"     23\n",
       "72                          a news conference.     22\n",
       "73                              in a blog post     22\n",
       "74                              a Twitter post     21\n",
       "75              the second presidential debate     21\n",
       "76          comments on NBC's \"Meet the Press\"     21\n",
       "77                          a newspaper column     21\n",
       "78                                   an e-mail     20\n",
       "79                          a campaign mailer.     20\n",
       "80                        a House floor speech     20\n",
       "81                                  in a tweet     19\n",
       "82                            an advertisement     19\n",
       "83                a speech on the Senate floor     19\n",
       "84                          a campaign website     19\n",
       "85                         a fundraising email     18\n",
       "86                                  a video ad     18\n",
       "87                comments on \"Meet the Press\"     18\n",
       "88                             a YouTube video     18\n",
       "89                          in a press release     18\n",
       "90                                    a column     18\n",
       "91                           an opinion column     17\n",
       "92       an interview on MSNBC's \"Morning Joe\"     17\n",
       "93                                a statement.     17\n",
       "94                  an interview with Fox News     17\n",
       "95                            a campaign email     17\n",
       "96                        a fundraising letter     17\n",
       "97  an interview on CNN's \"State of the Union\"     16\n",
       "98                             a floor speech.     16\n",
       "99                                    a tweet.     16\n",
       "\n",
       "[100 rows x 2 columns]"
      ]
     },
     "execution_count": 86,
     "metadata": {},
     "output_type": "execute_result"
    }
   ],
   "source": [
    "group_and_count(statements, 'context').head(100)"
   ]
  },
  {
   "cell_type": "markdown",
   "metadata": {},
   "source": [
    "So how to regroup all these or part of these?\n",
    "We can use the mean of communication for example:\n",
    "radio/tv/facebook/twitter/internet\n",
    "and these classes can have overlap..."
   ]
  },
  {
   "cell_type": "code",
   "execution_count": 87,
   "metadata": {
    "ExecuteTime": {
     "end_time": "2018-12-13T17:32:29.773868Z",
     "start_time": "2018-12-13T17:32:29.661428Z"
    }
   },
   "outputs": [],
   "source": [
    "statements['clean_context'] = statements['context'].apply(SH.clean_up_context)"
   ]
  },
  {
   "cell_type": "code",
   "execution_count": null,
   "metadata": {},
   "outputs": [],
   "source": []
  },
  {
   "cell_type": "code",
   "execution_count": 88,
   "metadata": {
    "ExecuteTime": {
     "end_time": "2018-11-23T14:05:12.691316Z",
     "start_time": "2018-11-23T14:05:12.658211Z"
    }
   },
   "outputs": [
    {
     "ename": "NameError",
     "evalue": "name 'false' is not defined",
     "output_type": "error",
     "traceback": [
      "\u001b[0;31m---------------------------------------------------------------------------\u001b[0m",
      "\u001b[0;31mNameError\u001b[0m                                 Traceback (most recent call last)",
      "\u001b[0;32m<ipython-input-88-2493ee97f1de>\u001b[0m in \u001b[0;36m<module>\u001b[0;34m()\u001b[0m\n\u001b[1;32m      1\u001b[0m \u001b[0;31m# no longer necessary\u001b[0m\u001b[0;34m\u001b[0m\u001b[0;34m\u001b[0m\u001b[0m\n\u001b[0;32m----> 2\u001b[0;31m \u001b[0;32mif\u001b[0m \u001b[0mfalse\u001b[0m\u001b[0;34m:\u001b[0m\u001b[0;34m\u001b[0m\u001b[0m\n\u001b[0m\u001b[1;32m      3\u001b[0m     \u001b[0mdf\u001b[0m\u001b[0;34m[\u001b[0m\u001b[0;34m'label_as_nb'\u001b[0m\u001b[0;34m]\u001b[0m \u001b[0;34m=\u001b[0m \u001b[0mdf\u001b[0m\u001b[0;34m[\u001b[0m\u001b[0;34m'label'\u001b[0m\u001b[0;34m]\u001b[0m\u001b[0;34m.\u001b[0m\u001b[0mapply\u001b[0m\u001b[0;34m(\u001b[0m\u001b[0mlabel_to_nb\u001b[0m\u001b[0;34m)\u001b[0m \u001b[0;34m*\u001b[0m \u001b[0;36m2\u001b[0m\u001b[0;34m\u001b[0m\u001b[0m\n\u001b[1;32m      4\u001b[0m     \u001b[0mdf\u001b[0m\u001b[0;34m[\u001b[0m\u001b[0;34m'statement_id'\u001b[0m\u001b[0;34m]\u001b[0m \u001b[0;34m=\u001b[0m \u001b[0mpd\u001b[0m\u001b[0;34m.\u001b[0m\u001b[0mto_numeric\u001b[0m\u001b[0;34m(\u001b[0m\u001b[0mdf\u001b[0m\u001b[0;34m[\u001b[0m\u001b[0;34m'statement_id'\u001b[0m\u001b[0;34m]\u001b[0m\u001b[0;34m)\u001b[0m\u001b[0;34m\u001b[0m\u001b[0m\n\u001b[1;32m      5\u001b[0m     \u001b[0mlies\u001b[0m \u001b[0;34m=\u001b[0m \u001b[0mdf\u001b[0m\u001b[0;34m.\u001b[0m\u001b[0mmerge\u001b[0m\u001b[0;34m(\u001b[0m\u001b[0madditional_information\u001b[0m\u001b[0;34m,\u001b[0m \u001b[0mon\u001b[0m\u001b[0;34m=\u001b[0m\u001b[0;34m'statement_id'\u001b[0m\u001b[0;34m,\u001b[0m \u001b[0mhow\u001b[0m\u001b[0;34m=\u001b[0m\u001b[0;34m'left'\u001b[0m\u001b[0;34m)\u001b[0m\u001b[0;34m\u001b[0m\u001b[0m\n",
      "\u001b[0;31mNameError\u001b[0m: name 'false' is not defined"
     ]
    }
   ],
   "source": [
    "# no longer necessary\n",
    "if false:\n",
    "    df['label_as_nb'] = df['label'].apply(label_to_nb) * 2 \n",
    "    df['statement_id'] = pd.to_numeric(df['statement_id'])\n",
    "    lies = df.merge(additional_information, on='statement_id', how='left')"
   ]
  },
  {
   "cell_type": "markdown",
   "metadata": {},
   "source": [
    "Let's just see what we have here:"
   ]
  },
  {
   "cell_type": "code",
   "execution_count": 89,
   "metadata": {
    "ExecuteTime": {
     "end_time": "2018-11-26T23:15:50.111849Z",
     "start_time": "2018-11-26T23:15:50.081132Z"
    }
   },
   "outputs": [
    {
     "ename": "NameError",
     "evalue": "name 'lies' is not defined",
     "output_type": "error",
     "traceback": [
      "\u001b[0;31m---------------------------------------------------------------------------\u001b[0m",
      "\u001b[0;31mNameError\u001b[0m                                 Traceback (most recent call last)",
      "\u001b[0;32m<ipython-input-89-6587f4827f39>\u001b[0m in \u001b[0;36m<module>\u001b[0;34m()\u001b[0m\n\u001b[1;32m      1\u001b[0m \u001b[0;31m# TODO rene add new values, see trello board\u001b[0m\u001b[0;34m\u001b[0m\u001b[0;34m\u001b[0m\u001b[0m\n\u001b[0;32m----> 2\u001b[0;31m \u001b[0mlies\u001b[0m\u001b[0;34m[\u001b[0m\u001b[0;34m'label_to_nb'\u001b[0m\u001b[0;34m]\u001b[0m \u001b[0;34m=\u001b[0m \u001b[0mlies\u001b[0m\u001b[0;34m[\u001b[0m\u001b[0;34m'label'\u001b[0m\u001b[0;34m]\u001b[0m\u001b[0;34m.\u001b[0m\u001b[0mapply\u001b[0m\u001b[0;34m(\u001b[0m\u001b[0mlabel_to_nb\u001b[0m\u001b[0;34m)\u001b[0m \u001b[0;34m*\u001b[0m \u001b[0;36m2\u001b[0m\u001b[0;34m\u001b[0m\u001b[0m\n\u001b[0m",
      "\u001b[0;31mNameError\u001b[0m: name 'lies' is not defined"
     ]
    }
   ],
   "source": [
    "# TODO rene add new values, see trello board\n",
    "lies['label_to_nb'] = lies['label'].apply(label_to_nb) * 2"
   ]
  },
  {
   "cell_type": "code",
   "execution_count": 90,
   "metadata": {
    "ExecuteTime": {
     "end_time": "2018-11-26T23:10:54.850114Z",
     "start_time": "2018-11-26T23:10:54.837258Z"
    }
   },
   "outputs": [
    {
     "ename": "NameError",
     "evalue": "name 'lies' is not defined",
     "output_type": "error",
     "traceback": [
      "\u001b[0;31m---------------------------------------------------------------------------\u001b[0m",
      "\u001b[0;31mNameError\u001b[0m                                 Traceback (most recent call last)",
      "\u001b[0;32m<ipython-input-90-6edf111eed88>\u001b[0m in \u001b[0;36m<module>\u001b[0;34m()\u001b[0m\n\u001b[0;32m----> 1\u001b[0;31m \u001b[0mlies\u001b[0m\u001b[0;34m[\u001b[0m\u001b[0;34m'label'\u001b[0m\u001b[0;34m]\u001b[0m\u001b[0;34m.\u001b[0m\u001b[0mvalue_counts\u001b[0m\u001b[0;34m(\u001b[0m\u001b[0;34m)\u001b[0m\u001b[0;34m\u001b[0m\u001b[0m\n\u001b[0m",
      "\u001b[0;31mNameError\u001b[0m: name 'lies' is not defined"
     ]
    }
   ],
   "source": [
    "lies['label'].value_counts()"
   ]
  },
  {
   "cell_type": "code",
   "execution_count": 91,
   "metadata": {
    "ExecuteTime": {
     "end_time": "2018-12-13T17:55:34.774105Z",
     "start_time": "2018-12-13T17:55:34.768276Z"
    }
   },
   "outputs": [],
   "source": [
    "def _count_for_last_name_(df, last_name):\n",
    "    return group_and_count(lies.loc[lies['speaker_last_name'].str.contains(last_name, flags=re.IGNORECASE), :], 'label', with_pct=True)\\\n",
    "            .rename(columns={'count': f'count_{last_name}', 'count_pct': f'count_pct{last_name}'})"
   ]
  },
  {
   "cell_type": "code",
   "execution_count": 92,
   "metadata": {
    "ExecuteTime": {
     "end_time": "2018-12-13T17:55:34.935077Z",
     "start_time": "2018-12-13T17:55:34.862847Z"
    }
   },
   "outputs": [
    {
     "ename": "NameError",
     "evalue": "name 'lies' is not defined",
     "output_type": "error",
     "traceback": [
      "\u001b[0;31m---------------------------------------------------------------------------\u001b[0m",
      "\u001b[0;31mNameError\u001b[0m                                 Traceback (most recent call last)",
      "\u001b[0;32m<ipython-input-92-956a7b1a4f8f>\u001b[0m in \u001b[0;36m<module>\u001b[0;34m()\u001b[0m\n\u001b[0;32m----> 1\u001b[0;31m \u001b[0mpd\u001b[0m\u001b[0;34m.\u001b[0m\u001b[0mmerge\u001b[0m\u001b[0;34m(\u001b[0m\u001b[0m_count_for_last_name_\u001b[0m\u001b[0;34m(\u001b[0m\u001b[0mlies\u001b[0m\u001b[0;34m,\u001b[0m \u001b[0;34m'obama'\u001b[0m\u001b[0;34m)\u001b[0m\u001b[0;34m,\u001b[0m \u001b[0m_count_for_last_name_\u001b[0m\u001b[0;34m(\u001b[0m\u001b[0mlies\u001b[0m\u001b[0;34m,\u001b[0m \u001b[0;34m'trump'\u001b[0m\u001b[0;34m)\u001b[0m\u001b[0;34m,\u001b[0m \u001b[0mon\u001b[0m\u001b[0;34m=\u001b[0m\u001b[0;34m'label'\u001b[0m\u001b[0;34m)\u001b[0m\u001b[0;34m\u001b[0m\u001b[0m\n\u001b[0m",
      "\u001b[0;31mNameError\u001b[0m: name 'lies' is not defined"
     ]
    }
   ],
   "source": [
    "pd.merge(_count_for_last_name_(lies, 'obama'), _count_for_last_name_(lies, 'trump'), on='label')"
   ]
  },
  {
   "cell_type": "markdown",
   "metadata": {},
   "source": [
    "Here we can see that Barack Obama had 549 statements labeled with _pants on fire_."
   ]
  },
  {
   "cell_type": "code",
   "execution_count": 93,
   "metadata": {
    "ExecuteTime": {
     "end_time": "2018-11-23T14:05:12.996192Z",
     "start_time": "2018-11-23T14:05:12.980178Z"
    }
   },
   "outputs": [
    {
     "ename": "NameError",
     "evalue": "name 'lies' is not defined",
     "output_type": "error",
     "traceback": [
      "\u001b[0;31m---------------------------------------------------------------------------\u001b[0m",
      "\u001b[0;31mNameError\u001b[0m                                 Traceback (most recent call last)",
      "\u001b[0;32m<ipython-input-93-ef27234ca332>\u001b[0m in \u001b[0;36m<module>\u001b[0;34m()\u001b[0m\n\u001b[0;32m----> 1\u001b[0;31m \u001b[0mlies\u001b[0m\u001b[0;34m[\u001b[0m\u001b[0mlies\u001b[0m\u001b[0;34m[\u001b[0m\u001b[0;34m'speakers_job_title'\u001b[0m\u001b[0;34m]\u001b[0m\u001b[0;34m.\u001b[0m\u001b[0mstr\u001b[0m\u001b[0;34m.\u001b[0m\u001b[0mcontains\u001b[0m\u001b[0;34m(\u001b[0m\u001b[0;34m'County'\u001b[0m\u001b[0;34m)\u001b[0m \u001b[0;34m==\u001b[0m \u001b[0;32mTrue\u001b[0m\u001b[0;34m]\u001b[0m\u001b[0;34m.\u001b[0m\u001b[0mshape\u001b[0m\u001b[0;34m\u001b[0m\u001b[0m\n\u001b[0m",
      "\u001b[0;31mNameError\u001b[0m: name 'lies' is not defined"
     ]
    }
   ],
   "source": [
    "lies[lies['speakers_job_title'].str.contains('County') == True].shape"
   ]
  },
  {
   "cell_type": "code",
   "execution_count": 94,
   "metadata": {
    "ExecuteTime": {
     "end_time": "2018-11-23T14:05:13.100791Z",
     "start_time": "2018-11-23T14:05:13.095370Z"
    },
    "scrolled": true
   },
   "outputs": [
    {
     "ename": "NameError",
     "evalue": "name 'lies' is not defined",
     "output_type": "error",
     "traceback": [
      "\u001b[0;31m---------------------------------------------------------------------------\u001b[0m",
      "\u001b[0;31mNameError\u001b[0m                                 Traceback (most recent call last)",
      "\u001b[0;32m<ipython-input-94-4a6f1d0b56cc>\u001b[0m in \u001b[0;36m<module>\u001b[0;34m()\u001b[0m\n\u001b[0;32m----> 1\u001b[0;31m \u001b[0mlies\u001b[0m\u001b[0;34m[\u001b[0m\u001b[0;34m'statement_date'\u001b[0m\u001b[0;34m]\u001b[0m\u001b[0;34m.\u001b[0m\u001b[0mdescribe\u001b[0m\u001b[0;34m(\u001b[0m\u001b[0;34m)\u001b[0m\u001b[0;34m\u001b[0m\u001b[0m\n\u001b[0m",
      "\u001b[0;31mNameError\u001b[0m: name 'lies' is not defined"
     ]
    }
   ],
   "source": [
    "lies['statement_date'].describe()"
   ]
  },
  {
   "cell_type": "markdown",
   "metadata": {},
   "source": [
    "Above, we can see that statements range from 1995 to 2016."
   ]
  },
  {
   "cell_type": "markdown",
   "metadata": {},
   "source": [
    "Now, let's do some profiling to get some more insights:"
   ]
  },
  {
   "cell_type": "code",
   "execution_count": 95,
   "metadata": {
    "ExecuteTime": {
     "end_time": "2018-11-23T14:05:14.172902Z",
     "start_time": "2018-11-23T14:05:13.219463Z"
    },
    "scrolled": true
   },
   "outputs": [
    {
     "ename": "NameError",
     "evalue": "name 'lies' is not defined",
     "output_type": "error",
     "traceback": [
      "\u001b[0;31m---------------------------------------------------------------------------\u001b[0m",
      "\u001b[0;31mNameError\u001b[0m                                 Traceback (most recent call last)",
      "\u001b[0;32m<ipython-input-95-a8a68b4275b0>\u001b[0m in \u001b[0;36m<module>\u001b[0;34m()\u001b[0m\n\u001b[0;32m----> 1\u001b[0;31m \u001b[0mpandas_profiling\u001b[0m\u001b[0;34m.\u001b[0m\u001b[0mProfileReport\u001b[0m\u001b[0;34m(\u001b[0m\u001b[0mlies\u001b[0m\u001b[0;34m)\u001b[0m\u001b[0;34m\u001b[0m\u001b[0m\n\u001b[0m",
      "\u001b[0;31mNameError\u001b[0m: name 'lies' is not defined"
     ]
    }
   ],
   "source": [
    "pandas_profiling.ProfileReport(lies)"
   ]
  },
  {
   "cell_type": "markdown",
   "metadata": {},
   "source": [
    "# Federal Election Results"
   ]
  },
  {
   "cell_type": "markdown",
   "metadata": {},
   "source": [
    "We have another dataset that we will explore and merge to our LIAR dataset in order to get some more insight into data. This one is regarding election results."
   ]
  },
  {
   "cell_type": "code",
   "execution_count": 96,
   "metadata": {
    "ExecuteTime": {
     "end_time": "2018-11-23T14:05:14.177069Z",
     "start_time": "2018-11-23T14:05:14.174640Z"
    }
   },
   "outputs": [],
   "source": [
    "pd.options.display.max_colwidth = 300\n",
    "pd.options.display.max_columns = 300"
   ]
  },
  {
   "cell_type": "code",
   "execution_count": 97,
   "metadata": {
    "ExecuteTime": {
     "end_time": "2018-11-23T14:05:14.190483Z",
     "start_time": "2018-11-23T14:05:14.178287Z"
    }
   },
   "outputs": [],
   "source": [
    "from itertools import product\n",
    "from functools import reduce"
   ]
  },
  {
   "cell_type": "code",
   "execution_count": 98,
   "metadata": {
    "ExecuteTime": {
     "end_time": "2018-12-13T17:55:48.638641Z",
     "start_time": "2018-12-13T17:55:48.631235Z"
    }
   },
   "outputs": [],
   "source": [
    "def add_ending(f):\n",
    "    \"\"\" File ending depending on a year\n",
    "    \n",
    "    Parameters\n",
    "    ----------\n",
    "    f: str\n",
    "        Name of the file\n",
    "    \n",
    "    ToDos:\n",
    "    - do 2012 it's a special snowflake\n",
    "    \"\"\"\n",
    "    if '2016' in f:\n",
    "        return f\"{f}x\"\n",
    "    else:\n",
    "        return f\n",
    "\n",
    "\n",
    "election_files = [(add_ending(f'{directory_election_results}/federalelections{year}.xls'), year) for year in [2014, 2016]]"
   ]
  },
  {
   "cell_type": "markdown",
   "metadata": {},
   "source": [
    "Now, let's prepare some data for viewing:"
   ]
  },
  {
   "cell_type": "code",
   "execution_count": 99,
   "metadata": {
    "ExecuteTime": {
     "end_time": "2018-12-13T17:55:51.265010Z",
     "start_time": "2018-12-13T17:55:51.258328Z"
    }
   },
   "outputs": [],
   "source": [
    "election_results_cols_of_interest = ['CANDIDATE NAME', 'PRIMARY VOTES', 'PRIMARY %']\n",
    "\n",
    "def fix_columns_election_results(df, year, type_):\n",
    "    \"\"\"we are only interested in the primary votes, since these reflect the opinion the most\"\"\"\n",
    "    df = df.loc[:, election_results_cols_of_interest]\n",
    "    df[f'primary_votes_{type_.lower()}_{year}'] = df['PRIMARY VOTES']\n",
    "    df[f'primary_votes_{type_.lower()}_{year}_pct'] = df['PRIMARY %']\n",
    "    return df.drop(columns=['PRIMARY VOTES', 'PRIMARY %'])\n",
    "\n",
    "\n",
    "def get_only_voting_results(df):\n",
    "    return df.loc[df['CANDIDATE NAME'].notna() & df['PRIMARY VOTES'].notna() & df['CANDIDATE NAME'].ne('Scattered') & df['CANDIDATE NAME'].ne('All Others'), :]\n",
    "\n",
    "\n",
    "def prep_election_results(df, year, type_):\n",
    "    return fix_columns_election_results(get_only_voting_results(df), year, type_)"
   ]
  },
  {
   "cell_type": "code",
   "execution_count": 100,
   "metadata": {
    "ExecuteTime": {
     "end_time": "2018-12-13T17:55:57.353263Z",
     "start_time": "2018-12-13T17:55:53.276293Z"
    }
   },
   "outputs": [],
   "source": [
    "election_results = [prep_election_results(pd.read_excel(f, sheet_name=f'{year} US {type_} Results by State'), year, type_) for (f, year), type_ in product(election_files, ['Senate', 'House'])]\n",
    "\n",
    "# we let the results as they are, merge, and then check if the person is a senator or a member of the house based on the other results\n",
    "# yes they did a spelling mistake\n",
    "election_results += [prep_election_results(pd.read_excel(f'{directory_election_results}/federalelections2012.xls', sheet_name=f'2012 US House & Senate Resuts'), 2012, 'all')]\n",
    "election_results = reduce(lambda acc, el: pd.merge(acc, el, on='CANDIDATE NAME', how='outer'), election_results)"
   ]
  },
  {
   "cell_type": "code",
   "execution_count": 101,
   "metadata": {
    "ExecuteTime": {
     "end_time": "2018-12-13T17:55:57.374766Z",
     "start_time": "2018-12-13T17:55:57.355287Z"
    }
   },
   "outputs": [
    {
     "data": {
      "text/html": [
       "<div>\n",
       "<style scoped>\n",
       "    .dataframe tbody tr th:only-of-type {\n",
       "        vertical-align: middle;\n",
       "    }\n",
       "\n",
       "    .dataframe tbody tr th {\n",
       "        vertical-align: top;\n",
       "    }\n",
       "\n",
       "    .dataframe thead th {\n",
       "        text-align: right;\n",
       "    }\n",
       "</style>\n",
       "<table border=\"1\" class=\"dataframe\">\n",
       "  <thead>\n",
       "    <tr style=\"text-align: right;\">\n",
       "      <th></th>\n",
       "      <th>CANDIDATE NAME</th>\n",
       "      <th>primary_votes_senate_2014</th>\n",
       "      <th>primary_votes_senate_2014_pct</th>\n",
       "      <th>primary_votes_house_2014</th>\n",
       "      <th>primary_votes_house_2014_pct</th>\n",
       "      <th>primary_votes_senate_2016</th>\n",
       "      <th>primary_votes_senate_2016_pct</th>\n",
       "      <th>primary_votes_house_2016</th>\n",
       "      <th>primary_votes_house_2016_pct</th>\n",
       "      <th>primary_votes_all_2012</th>\n",
       "      <th>primary_votes_all_2012_pct</th>\n",
       "    </tr>\n",
       "  </thead>\n",
       "  <tbody>\n",
       "    <tr>\n",
       "      <th>0</th>\n",
       "      <td>Sessions, Jeff</td>\n",
       "      <td>Unopposed</td>\n",
       "      <td>NaN</td>\n",
       "      <td>NaN</td>\n",
       "      <td>NaN</td>\n",
       "      <td>NaN</td>\n",
       "      <td>NaN</td>\n",
       "      <td>NaN</td>\n",
       "      <td>NaN</td>\n",
       "      <td>NaN</td>\n",
       "      <td>NaN</td>\n",
       "    </tr>\n",
       "    <tr>\n",
       "      <th>1</th>\n",
       "      <td>Sullivan, Dan</td>\n",
       "      <td>44740</td>\n",
       "      <td>0.400548</td>\n",
       "      <td>NaN</td>\n",
       "      <td>NaN</td>\n",
       "      <td>NaN</td>\n",
       "      <td>NaN</td>\n",
       "      <td>NaN</td>\n",
       "      <td>NaN</td>\n",
       "      <td>NaN</td>\n",
       "      <td>NaN</td>\n",
       "    </tr>\n",
       "    <tr>\n",
       "      <th>2</th>\n",
       "      <td>Miller, Joe</td>\n",
       "      <td>35904</td>\n",
       "      <td>0.321441</td>\n",
       "      <td>NaN</td>\n",
       "      <td>NaN</td>\n",
       "      <td>NaN</td>\n",
       "      <td>NaN</td>\n",
       "      <td>NaN</td>\n",
       "      <td>NaN</td>\n",
       "      <td>NaN</td>\n",
       "      <td>NaN</td>\n",
       "    </tr>\n",
       "    <tr>\n",
       "      <th>3</th>\n",
       "      <td>Treadwell, Mead</td>\n",
       "      <td>27807</td>\n",
       "      <td>0.248950</td>\n",
       "      <td>NaN</td>\n",
       "      <td>NaN</td>\n",
       "      <td>NaN</td>\n",
       "      <td>NaN</td>\n",
       "      <td>NaN</td>\n",
       "      <td>NaN</td>\n",
       "      <td>NaN</td>\n",
       "      <td>NaN</td>\n",
       "    </tr>\n",
       "    <tr>\n",
       "      <th>4</th>\n",
       "      <td>Jaramillo, John M.</td>\n",
       "      <td>3246</td>\n",
       "      <td>0.029061</td>\n",
       "      <td>NaN</td>\n",
       "      <td>NaN</td>\n",
       "      <td>NaN</td>\n",
       "      <td>NaN</td>\n",
       "      <td>NaN</td>\n",
       "      <td>NaN</td>\n",
       "      <td>NaN</td>\n",
       "      <td>NaN</td>\n",
       "    </tr>\n",
       "  </tbody>\n",
       "</table>\n",
       "</div>"
      ],
      "text/plain": [
       "       CANDIDATE NAME primary_votes_senate_2014  \\\n",
       "0      Sessions, Jeff                 Unopposed   \n",
       "1       Sullivan, Dan                     44740   \n",
       "2         Miller, Joe                     35904   \n",
       "3     Treadwell, Mead                     27807   \n",
       "4  Jaramillo, John M.                      3246   \n",
       "\n",
       "   primary_votes_senate_2014_pct primary_votes_house_2014  \\\n",
       "0                            NaN                      NaN   \n",
       "1                       0.400548                      NaN   \n",
       "2                       0.321441                      NaN   \n",
       "3                       0.248950                      NaN   \n",
       "4                       0.029061                      NaN   \n",
       "\n",
       "   primary_votes_house_2014_pct primary_votes_senate_2016  \\\n",
       "0                           NaN                       NaN   \n",
       "1                           NaN                       NaN   \n",
       "2                           NaN                       NaN   \n",
       "3                           NaN                       NaN   \n",
       "4                           NaN                       NaN   \n",
       "\n",
       "   primary_votes_senate_2016_pct primary_votes_house_2016  \\\n",
       "0                            NaN                      NaN   \n",
       "1                            NaN                      NaN   \n",
       "2                            NaN                      NaN   \n",
       "3                            NaN                      NaN   \n",
       "4                            NaN                      NaN   \n",
       "\n",
       "   primary_votes_house_2016_pct primary_votes_all_2012  \\\n",
       "0                           NaN                    NaN   \n",
       "1                           NaN                    NaN   \n",
       "2                           NaN                    NaN   \n",
       "3                           NaN                    NaN   \n",
       "4                           NaN                    NaN   \n",
       "\n",
       "  primary_votes_all_2012_pct  \n",
       "0                        NaN  \n",
       "1                        NaN  \n",
       "2                        NaN  \n",
       "3                        NaN  \n",
       "4                        NaN  "
      ]
     },
     "execution_count": 101,
     "metadata": {},
     "output_type": "execute_result"
    }
   ],
   "source": [
    "election_results.head()"
   ]
  },
  {
   "cell_type": "code",
   "execution_count": 102,
   "metadata": {
    "ExecuteTime": {
     "end_time": "2018-12-13T17:56:35.701754Z",
     "start_time": "2018-12-13T17:56:35.688944Z"
    }
   },
   "outputs": [
    {
     "name": "stdout",
     "output_type": "stream",
     "text": [
      "we have multple election results for 1110 politicians (0.19618239660657477%)\n"
     ]
    }
   ],
   "source": [
    "idx_multiple_election_results = election_results.loc[:, [c for c in election_results.columns if any((c.endswith(str(y)) for y in [2012, 2014, 2016]))]].notna().sum(axis=1) > 1\n",
    "\n",
    "print(f\"we have multple election results for {idx_multiple_election_results.sum()} politicians ({idx_multiple_election_results.mean()}%)\")"
   ]
  },
  {
   "cell_type": "code",
   "execution_count": 103,
   "metadata": {
    "ExecuteTime": {
     "end_time": "2018-12-13T17:56:48.386112Z",
     "start_time": "2018-12-13T17:56:48.361763Z"
    }
   },
   "outputs": [
    {
     "data": {
      "text/html": [
       "<div>\n",
       "<style scoped>\n",
       "    .dataframe tbody tr th:only-of-type {\n",
       "        vertical-align: middle;\n",
       "    }\n",
       "\n",
       "    .dataframe tbody tr th {\n",
       "        vertical-align: top;\n",
       "    }\n",
       "\n",
       "    .dataframe thead th {\n",
       "        text-align: right;\n",
       "    }\n",
       "</style>\n",
       "<table border=\"1\" class=\"dataframe\">\n",
       "  <thead>\n",
       "    <tr style=\"text-align: right;\">\n",
       "      <th></th>\n",
       "      <th>CANDIDATE NAME</th>\n",
       "      <th>primary_votes_senate_2014</th>\n",
       "      <th>primary_votes_senate_2014_pct</th>\n",
       "      <th>primary_votes_house_2014</th>\n",
       "      <th>primary_votes_house_2014_pct</th>\n",
       "      <th>primary_votes_senate_2016</th>\n",
       "      <th>primary_votes_senate_2016_pct</th>\n",
       "      <th>primary_votes_house_2016</th>\n",
       "      <th>primary_votes_house_2016_pct</th>\n",
       "      <th>primary_votes_all_2012</th>\n",
       "      <th>primary_votes_all_2012_pct</th>\n",
       "    </tr>\n",
       "  </thead>\n",
       "  <tbody>\n",
       "    <tr>\n",
       "      <th>16</th>\n",
       "      <td>Gardner, Cory</td>\n",
       "      <td>338324</td>\n",
       "      <td>1.000000</td>\n",
       "      <td>NaN</td>\n",
       "      <td>NaN</td>\n",
       "      <td>NaN</td>\n",
       "      <td>NaN</td>\n",
       "      <td>NaN</td>\n",
       "      <td>NaN</td>\n",
       "      <td>49340</td>\n",
       "      <td>1</td>\n",
       "    </tr>\n",
       "    <tr>\n",
       "      <th>19</th>\n",
       "      <td>Wade, Kevin</td>\n",
       "      <td>18181</td>\n",
       "      <td>0.756627</td>\n",
       "      <td>NaN</td>\n",
       "      <td>NaN</td>\n",
       "      <td>NaN</td>\n",
       "      <td>NaN</td>\n",
       "      <td>NaN</td>\n",
       "      <td>NaN</td>\n",
       "      <td>Unopposed</td>\n",
       "      <td>NaN</td>\n",
       "    </tr>\n",
       "    <tr>\n",
       "      <th>32</th>\n",
       "      <td>Schatz, Brian</td>\n",
       "      <td>115445</td>\n",
       "      <td>0.493460</td>\n",
       "      <td>NaN</td>\n",
       "      <td>NaN</td>\n",
       "      <td>162905</td>\n",
       "      <td>0.861662</td>\n",
       "      <td>NaN</td>\n",
       "      <td>NaN</td>\n",
       "      <td>NaN</td>\n",
       "      <td>NaN</td>\n",
       "    </tr>\n",
       "    <tr>\n",
       "      <th>33</th>\n",
       "      <td>Hanabusa, Colleen Wakako</td>\n",
       "      <td>113663</td>\n",
       "      <td>0.485843</td>\n",
       "      <td>NaN</td>\n",
       "      <td>NaN</td>\n",
       "      <td>NaN</td>\n",
       "      <td>NaN</td>\n",
       "      <td>74022</td>\n",
       "      <td>0.803757</td>\n",
       "      <td>NaN</td>\n",
       "      <td>NaN</td>\n",
       "    </tr>\n",
       "    <tr>\n",
       "      <th>36</th>\n",
       "      <td>Roco, John P.</td>\n",
       "      <td>4425</td>\n",
       "      <td>0.123572</td>\n",
       "      <td>NaN</td>\n",
       "      <td>NaN</td>\n",
       "      <td>3956</td>\n",
       "      <td>0.110303</td>\n",
       "      <td>NaN</td>\n",
       "      <td>NaN</td>\n",
       "      <td>545</td>\n",
       "      <td>0.0112848</td>\n",
       "    </tr>\n",
       "  </tbody>\n",
       "</table>\n",
       "</div>"
      ],
      "text/plain": [
       "              CANDIDATE NAME primary_votes_senate_2014  \\\n",
       "16             Gardner, Cory                    338324   \n",
       "19               Wade, Kevin                     18181   \n",
       "32             Schatz, Brian                    115445   \n",
       "33  Hanabusa, Colleen Wakako                    113663   \n",
       "36             Roco, John P.                      4425   \n",
       "\n",
       "    primary_votes_senate_2014_pct primary_votes_house_2014  \\\n",
       "16                       1.000000                      NaN   \n",
       "19                       0.756627                      NaN   \n",
       "32                       0.493460                      NaN   \n",
       "33                       0.485843                      NaN   \n",
       "36                       0.123572                      NaN   \n",
       "\n",
       "    primary_votes_house_2014_pct primary_votes_senate_2016  \\\n",
       "16                           NaN                       NaN   \n",
       "19                           NaN                       NaN   \n",
       "32                           NaN                    162905   \n",
       "33                           NaN                       NaN   \n",
       "36                           NaN                      3956   \n",
       "\n",
       "    primary_votes_senate_2016_pct primary_votes_house_2016  \\\n",
       "16                            NaN                      NaN   \n",
       "19                            NaN                      NaN   \n",
       "32                       0.861662                      NaN   \n",
       "33                            NaN                    74022   \n",
       "36                       0.110303                      NaN   \n",
       "\n",
       "    primary_votes_house_2016_pct primary_votes_all_2012  \\\n",
       "16                           NaN                  49340   \n",
       "19                           NaN              Unopposed   \n",
       "32                           NaN                    NaN   \n",
       "33                      0.803757                    NaN   \n",
       "36                           NaN                    545   \n",
       "\n",
       "   primary_votes_all_2012_pct  \n",
       "16                          1  \n",
       "19                        NaN  \n",
       "32                        NaN  \n",
       "33                        NaN  \n",
       "36                  0.0112848  "
      ]
     },
     "execution_count": 103,
     "metadata": {},
     "output_type": "execute_result"
    }
   ],
   "source": [
    "election_results[idx_multiple_election_results].head()"
   ]
  },
  {
   "cell_type": "code",
   "execution_count": 104,
   "metadata": {
    "ExecuteTime": {
     "end_time": "2018-11-26T23:30:48.179640Z",
     "start_time": "2018-11-26T23:30:48.159311Z"
    },
    "scrolled": false
   },
   "outputs": [
    {
     "data": {
      "text/plain": [
       "Reed, Thomas W., II            36\n",
       "Tonko, Paul D.                 36\n",
       "Collins, Chris                 24\n",
       "Maloney, Sean Patrick          12\n",
       "Higgins, Brian                 12\n",
       "Nadler, Jerrold L.             12\n",
       "Katko, John M.                 12\n",
       "Lowey, Nita M.                 12\n",
       "Slaughter, Louise M.           12\n",
       "Crowley, Joseph                12\n",
       "Engel, Eliot L.                12\n",
       "King, Peter T.                  9\n",
       "Gibson, Christopher P.          9\n",
       "Israel, Steve J.                9\n",
       "Kuster, Ann McLane              8\n",
       "Stefanik, Elise M.              8\n",
       "Maloney, Carolyn B.             8\n",
       "Clarke, Yvette D.               8\n",
       "Jeffries, Hakeem S.             8\n",
       "Assini, Mark W.                 8\n",
       "Zeldin, Lee M.                  6\n",
       "Long, Wendy                     6\n",
       "Bishop, Timothy H.              6\n",
       "Hayworth, Nan                   6\n",
       "Grimm, Michael G.               6\n",
       "Guinta, Frank C.                4\n",
       "Rice, Kathleen M.               4\n",
       "Maffei, Daniel B.               4\n",
       "Shea-Porter, Carol              4\n",
       "Smith, Adrian                   4\n",
       "                               ..\n",
       "Potter, Tom                     1\n",
       "Trone, David                    1\n",
       "Butterfield, G. K.              1\n",
       "Singh, Vanila                   1\n",
       "Works, Marshall                 1\n",
       "Bradshaw, Jessica Puente        1\n",
       "McDermott, Jim                  1\n",
       "Simpson, Cory                   1\n",
       "Howell, Kevin                   1\n",
       "Eckhart, Don Elijah             1\n",
       "James, Craig                    1\n",
       "Moulton, Seth                   1\n",
       "Michael, Angela                 1\n",
       "Johnson, Charles Chuck, Jr.     1\n",
       "Gray, Phil                      1\n",
       "Koenen, Glenn                   1\n",
       "Hawks, Paula                    1\n",
       "Pollock, Ben                    1\n",
       "Diaz-Balart, Mario              1\n",
       "Keenen, Lee                     1\n",
       "Ford, Therese                   1\n",
       "Wurzelbacher, Samuel J.         1\n",
       "Hollingsworth, Trey             1\n",
       "Tomlinson, H.F. \"Rusty\"         1\n",
       "Cardin, Ben                     1\n",
       "Digby, Jack                     1\n",
       "Gonzalez, Jenniffer             1\n",
       "Bobb, Christina                 1\n",
       "Chabot, Steve                   1\n",
       "Adame, Marshall                 1\n",
       "Name: CANDIDATE NAME, Length: 5106, dtype: int64"
      ]
     },
     "execution_count": 104,
     "metadata": {},
     "output_type": "execute_result"
    }
   ],
   "source": [
    "# yeah ... let's see how many we can join. the one letter endings might be a problem\n",
    "election_results['CANDIDATE NAME'].value_counts()"
   ]
  },
  {
   "cell_type": "code",
   "execution_count": 108,
   "metadata": {
    "ExecuteTime": {
     "end_time": "2018-11-23T14:05:16.839135Z",
     "start_time": "2018-11-23T14:05:16.830067Z"
    }
   },
   "outputs": [
    {
     "ename": "NameError",
     "evalue": "name 'lies' is not defined",
     "output_type": "error",
     "traceback": [
      "\u001b[0;31m---------------------------------------------------------------------------\u001b[0m",
      "\u001b[0;31mNameError\u001b[0m                                 Traceback (most recent call last)",
      "\u001b[0;32m<ipython-input-108-88c26cf180bd>\u001b[0m in \u001b[0;36m<module>\u001b[0;34m()\u001b[0m\n\u001b[1;32m      1\u001b[0m \u001b[0;31m# we are only interest in people and they have a first name\u001b[0m\u001b[0;34m\u001b[0m\u001b[0;34m\u001b[0m\u001b[0m\n\u001b[0;32m----> 2\u001b[0;31m \u001b[0mlies\u001b[0m \u001b[0;34m=\u001b[0m \u001b[0mlies\u001b[0m\u001b[0;34m.\u001b[0m\u001b[0mloc\u001b[0m\u001b[0;34m[\u001b[0m\u001b[0mlies\u001b[0m\u001b[0;34m[\u001b[0m\u001b[0;34m'speaker_first_name'\u001b[0m\u001b[0;34m]\u001b[0m\u001b[0;34m.\u001b[0m\u001b[0mnotnull\u001b[0m\u001b[0;34m(\u001b[0m\u001b[0;34m)\u001b[0m\u001b[0;34m,\u001b[0m \u001b[0;34m:\u001b[0m\u001b[0;34m]\u001b[0m\u001b[0;34m\u001b[0m\u001b[0m\n\u001b[0m",
      "\u001b[0;31mNameError\u001b[0m: name 'lies' is not defined"
     ]
    }
   ],
   "source": [
    "# we are only interest in people and they have a first name\n",
    "lies = lies.loc[lies['speaker_first_name'].notnull(), :]"
   ]
  },
  {
   "cell_type": "code",
   "execution_count": 109,
   "metadata": {
    "ExecuteTime": {
     "end_time": "2018-11-23T14:05:16.883211Z",
     "start_time": "2018-11-23T14:05:16.840386Z"
    }
   },
   "outputs": [
    {
     "ename": "NameError",
     "evalue": "name 'lies' is not defined",
     "output_type": "error",
     "traceback": [
      "\u001b[0;31m---------------------------------------------------------------------------\u001b[0m",
      "\u001b[0;31mNameError\u001b[0m                                 Traceback (most recent call last)",
      "\u001b[0;32m<ipython-input-109-fe58a1d4426a>\u001b[0m in \u001b[0;36m<module>\u001b[0;34m()\u001b[0m\n\u001b[1;32m      1\u001b[0m \u001b[0;31m# to aggregate the statements\u001b[0m\u001b[0;34m\u001b[0m\u001b[0;34m\u001b[0m\u001b[0m\n\u001b[0;32m----> 2\u001b[0;31m \u001b[0mlies\u001b[0m\u001b[0;34m[\u001b[0m\u001b[0;34m'statement_year'\u001b[0m\u001b[0;34m]\u001b[0m \u001b[0;34m=\u001b[0m \u001b[0mlies\u001b[0m\u001b[0;34m[\u001b[0m\u001b[0;34m'statement_date'\u001b[0m\u001b[0;34m]\u001b[0m\u001b[0;34m.\u001b[0m\u001b[0mdt\u001b[0m\u001b[0;34m.\u001b[0m\u001b[0myear\u001b[0m\u001b[0;34m\u001b[0m\u001b[0m\n\u001b[0m\u001b[1;32m      3\u001b[0m \u001b[0;34m\u001b[0m\u001b[0m\n\u001b[1;32m      4\u001b[0m \u001b[0;31m# for the merging\u001b[0m\u001b[0;34m\u001b[0m\u001b[0;34m\u001b[0m\u001b[0m\n\u001b[1;32m      5\u001b[0m \u001b[0mlies\u001b[0m\u001b[0;34m[\u001b[0m\u001b[0;34m'speaker_full_name'\u001b[0m\u001b[0;34m]\u001b[0m \u001b[0;34m=\u001b[0m \u001b[0mlies\u001b[0m\u001b[0;34m[\u001b[0m\u001b[0;34m'speaker_last_name'\u001b[0m\u001b[0;34m]\u001b[0m \u001b[0;34m+\u001b[0m \u001b[0;34m', '\u001b[0m \u001b[0;34m+\u001b[0m \u001b[0mlies\u001b[0m\u001b[0;34m[\u001b[0m\u001b[0;34m'speaker_first_name'\u001b[0m\u001b[0;34m]\u001b[0m\u001b[0;34m\u001b[0m\u001b[0m\n",
      "\u001b[0;31mNameError\u001b[0m: name 'lies' is not defined"
     ]
    }
   ],
   "source": [
    "# to aggregate the statements\n",
    "lies['statement_year'] = lies['statement_date'].dt.year\n",
    "\n",
    "# for the merging\n",
    "lies['speaker_full_name'] = lies['speaker_last_name'] + ', ' + lies['speaker_first_name']"
   ]
  },
  {
   "cell_type": "markdown",
   "metadata": {},
   "source": [
    "### Cleaning job titles"
   ]
  },
  {
   "cell_type": "code",
   "execution_count": 110,
   "metadata": {
    "ExecuteTime": {
     "end_time": "2018-11-23T14:05:16.897019Z",
     "start_time": "2018-11-23T14:05:16.884462Z"
    }
   },
   "outputs": [
    {
     "ename": "NameError",
     "evalue": "name 'lies' is not defined",
     "output_type": "error",
     "traceback": [
      "\u001b[0;31m---------------------------------------------------------------------------\u001b[0m",
      "\u001b[0;31mNameError\u001b[0m                                 Traceback (most recent call last)",
      "\u001b[0;32m<ipython-input-110-a71a053de5b6>\u001b[0m in \u001b[0;36m<module>\u001b[0;34m()\u001b[0m\n\u001b[1;32m     13\u001b[0m         \u001b[0;32mreturn\u001b[0m \u001b[0mjt\u001b[0m\u001b[0;34m\u001b[0m\u001b[0m\n\u001b[1;32m     14\u001b[0m \u001b[0;34m\u001b[0m\u001b[0m\n\u001b[0;32m---> 15\u001b[0;31m \u001b[0mlies\u001b[0m\u001b[0;34m[\u001b[0m\u001b[0;34m'speakers_job_title_cleaned'\u001b[0m\u001b[0;34m]\u001b[0m \u001b[0;34m=\u001b[0m \u001b[0mlies\u001b[0m\u001b[0;34m[\u001b[0m\u001b[0;34m'speakers_job_title'\u001b[0m\u001b[0;34m]\u001b[0m\u001b[0;34m.\u001b[0m\u001b[0mapply\u001b[0m\u001b[0;34m(\u001b[0m\u001b[0mcleaned_job_title\u001b[0m\u001b[0;34m)\u001b[0m\u001b[0;34m\u001b[0m\u001b[0m\n\u001b[0m",
      "\u001b[0;31mNameError\u001b[0m: name 'lies' is not defined"
     ]
    }
   ],
   "source": [
    "# todo expand this and check this! this is just a quick and dirty fix\n",
    "# is it really houseman? probably not...\n",
    "_job_titles_of_interest = [('senat', 'senator'), ('governor', None), ('congress', 'congressman'), ('mayor', None), ('president', None), ('house', 'houseman'), ('rep', 'houseman')]\n",
    "job_titles_of_interest = [out if out is not None else j for j, out in _job_titles_of_interest]\n",
    "\n",
    "def cleaned_job_title(jt):\n",
    "    jt = str(jt).lower()\n",
    "    \n",
    "    for j, out in _job_titles_of_interest:\n",
    "        if j in jt:\n",
    "            return out if out is not None else j\n",
    "    else:\n",
    "        return jt\n",
    "\n",
    "lies['speakers_job_title_cleaned'] = lies['speakers_job_title'].apply(cleaned_job_title)"
   ]
  },
  {
   "cell_type": "code",
   "execution_count": 111,
   "metadata": {
    "ExecuteTime": {
     "end_time": "2018-11-23T14:05:16.932546Z",
     "start_time": "2018-11-23T14:05:16.898550Z"
    }
   },
   "outputs": [
    {
     "ename": "NameError",
     "evalue": "name 'lies' is not defined",
     "output_type": "error",
     "traceback": [
      "\u001b[0;31m---------------------------------------------------------------------------\u001b[0m",
      "\u001b[0;31mNameError\u001b[0m                                 Traceback (most recent call last)",
      "\u001b[0;32m<ipython-input-111-5b2032896777>\u001b[0m in \u001b[0;36m<module>\u001b[0;34m()\u001b[0m\n\u001b[0;32m----> 1\u001b[0;31m \u001b[0m_t\u001b[0m \u001b[0;34m=\u001b[0m \u001b[0mlies\u001b[0m\u001b[0;34m.\u001b[0m\u001b[0mmerge\u001b[0m\u001b[0;34m(\u001b[0m\u001b[0melection_results\u001b[0m\u001b[0;34m,\u001b[0m \u001b[0mleft_on\u001b[0m\u001b[0;34m=\u001b[0m\u001b[0;34m'speaker_full_name'\u001b[0m\u001b[0;34m,\u001b[0m \u001b[0mright_on\u001b[0m\u001b[0;34m=\u001b[0m\u001b[0;34m'CANDIDATE NAME'\u001b[0m\u001b[0;34m,\u001b[0m \u001b[0mhow\u001b[0m\u001b[0;34m=\u001b[0m\u001b[0;34m'outer'\u001b[0m\u001b[0;34m)\u001b[0m\u001b[0;34m\u001b[0m\u001b[0m\n\u001b[0m",
      "\u001b[0;31mNameError\u001b[0m: name 'lies' is not defined"
     ]
    }
   ],
   "source": [
    "_t = lies.merge(election_results, left_on='speaker_full_name', right_on='CANDIDATE NAME', how='outer')"
   ]
  },
  {
   "cell_type": "code",
   "execution_count": 112,
   "metadata": {
    "ExecuteTime": {
     "end_time": "2018-11-23T14:05:16.939503Z",
     "start_time": "2018-11-23T14:05:16.934213Z"
    }
   },
   "outputs": [
    {
     "ename": "NameError",
     "evalue": "name '_t' is not defined",
     "output_type": "error",
     "traceback": [
      "\u001b[0;31m---------------------------------------------------------------------------\u001b[0m",
      "\u001b[0;31mNameError\u001b[0m                                 Traceback (most recent call last)",
      "\u001b[0;32m<ipython-input-112-1bf6a89eff0b>\u001b[0m in \u001b[0;36m<module>\u001b[0;34m()\u001b[0m\n\u001b[0;32m----> 1\u001b[0;31m \u001b[0mprint\u001b[0m\u001b[0;34m(\u001b[0m\u001b[0;34mf\"found election results for {_t['CANDIDATE NAME'].notnull().sum()} ({_t['CANDIDATE NAME'].notnull().mean()}%) people\"\u001b[0m\u001b[0;34m)\u001b[0m\u001b[0;34m\u001b[0m\u001b[0m\n\u001b[0m",
      "\u001b[0;31mNameError\u001b[0m: name '_t' is not defined"
     ]
    }
   ],
   "source": [
    "print(f\"found election results for {_t['CANDIDATE NAME'].notnull().sum()} ({_t['CANDIDATE NAME'].notnull().mean()}%) people\")"
   ]
  },
  {
   "cell_type": "code",
   "execution_count": 113,
   "metadata": {
    "ExecuteTime": {
     "end_time": "2018-11-23T14:05:17.028465Z",
     "start_time": "2018-11-23T14:05:16.940630Z"
    },
    "scrolled": true
   },
   "outputs": [
    {
     "ename": "NameError",
     "evalue": "name '_t' is not defined",
     "output_type": "error",
     "traceback": [
      "\u001b[0;31m---------------------------------------------------------------------------\u001b[0m",
      "\u001b[0;31mNameError\u001b[0m                                 Traceback (most recent call last)",
      "\u001b[0;32m<ipython-input-113-a25082731ef5>\u001b[0m in \u001b[0;36m<module>\u001b[0;34m()\u001b[0m\n\u001b[0;32m----> 1\u001b[0;31m \u001b[0mvotes_cols\u001b[0m \u001b[0;34m=\u001b[0m \u001b[0;34m[\u001b[0m\u001b[0mc\u001b[0m \u001b[0;32mfor\u001b[0m \u001b[0mc\u001b[0m \u001b[0;32min\u001b[0m \u001b[0m_t\u001b[0m\u001b[0;34m.\u001b[0m\u001b[0mcolumns\u001b[0m \u001b[0;32mif\u001b[0m \u001b[0;34m'votes'\u001b[0m \u001b[0;32min\u001b[0m \u001b[0mc\u001b[0m\u001b[0;34m]\u001b[0m\u001b[0;34m\u001b[0m\u001b[0m\n\u001b[0m\u001b[1;32m      2\u001b[0m \u001b[0museful_idx\u001b[0m \u001b[0;34m=\u001b[0m \u001b[0mreduce\u001b[0m\u001b[0;34m(\u001b[0m\u001b[0;32mlambda\u001b[0m \u001b[0macc\u001b[0m\u001b[0;34m,\u001b[0m \u001b[0mel\u001b[0m\u001b[0;34m:\u001b[0m \u001b[0macc\u001b[0m \u001b[0;34m|\u001b[0m \u001b[0mel\u001b[0m\u001b[0;34m,\u001b[0m \u001b[0;34m[\u001b[0m\u001b[0m_t\u001b[0m\u001b[0;34m[\u001b[0m\u001b[0mc\u001b[0m\u001b[0;34m]\u001b[0m\u001b[0;34m.\u001b[0m\u001b[0mnotnull\u001b[0m\u001b[0;34m(\u001b[0m\u001b[0;34m)\u001b[0m \u001b[0;32mfor\u001b[0m \u001b[0mc\u001b[0m \u001b[0;32min\u001b[0m \u001b[0mvotes_cols\u001b[0m\u001b[0;34m]\u001b[0m\u001b[0;34m)\u001b[0m \u001b[0;34m&\u001b[0m \u001b[0m_t\u001b[0m\u001b[0;34m[\u001b[0m\u001b[0;34m'speaker'\u001b[0m\u001b[0;34m]\u001b[0m\u001b[0;34m.\u001b[0m\u001b[0mnotnull\u001b[0m\u001b[0;34m(\u001b[0m\u001b[0;34m)\u001b[0m\u001b[0;34m\u001b[0m\u001b[0m\n\u001b[1;32m      3\u001b[0m \u001b[0;34m\u001b[0m\u001b[0m\n\u001b[1;32m      4\u001b[0m \u001b[0mprint\u001b[0m\u001b[0;34m(\u001b[0m\u001b[0;34mf\"found useful results for {useful_idx.sum()} people\"\u001b[0m\u001b[0;34m)\u001b[0m\u001b[0;34m\u001b[0m\u001b[0m\n\u001b[1;32m      5\u001b[0m \u001b[0;34m\u001b[0m\u001b[0m\n",
      "\u001b[0;31mNameError\u001b[0m: name '_t' is not defined"
     ]
    }
   ],
   "source": [
    "votes_cols = [c for c in _t.columns if 'votes' in c]\n",
    "useful_idx = reduce(lambda acc, el: acc | el, [_t[c].notnull() for c in votes_cols]) & _t['speaker'].notnull() \n",
    "\n",
    "print(f\"found useful results for {useful_idx.sum()} people\")\n",
    "\n",
    "columns_of_interest = ['label', 'label_as_nb', 'subject', 'speaker', 'speakers_job_title_cleaned', 'state_info', 'party_affiliation', 'context', 'statement_date'] + votes_cols\n",
    "_t.loc[useful_idx, columns_of_interest]"
   ]
  },
  {
   "cell_type": "code",
   "execution_count": 114,
   "metadata": {
    "ExecuteTime": {
     "end_time": "2018-11-23T14:05:23.130725Z",
     "start_time": "2018-11-23T14:05:23.124323Z"
    },
    "scrolled": false
   },
   "outputs": [
    {
     "ename": "NameError",
     "evalue": "name '_t' is not defined",
     "output_type": "error",
     "traceback": [
      "\u001b[0;31m---------------------------------------------------------------------------\u001b[0m",
      "\u001b[0;31mNameError\u001b[0m                                 Traceback (most recent call last)",
      "\u001b[0;32m<ipython-input-114-8fc97f72a2fe>\u001b[0m in \u001b[0;36m<module>\u001b[0;34m()\u001b[0m\n\u001b[0;32m----> 1\u001b[0;31m \u001b[0m_t\u001b[0m\u001b[0;34m.\u001b[0m\u001b[0mloc\u001b[0m\u001b[0;34m[\u001b[0m\u001b[0museful_idx\u001b[0m\u001b[0;34m,\u001b[0m \u001b[0;34m'speakers_job_title_cleaned'\u001b[0m\u001b[0;34m]\u001b[0m\u001b[0;34m.\u001b[0m\u001b[0mvalue_counts\u001b[0m\u001b[0;34m(\u001b[0m\u001b[0;34m)\u001b[0m\u001b[0;34m\u001b[0m\u001b[0m\n\u001b[0m",
      "\u001b[0;31mNameError\u001b[0m: name '_t' is not defined"
     ]
    }
   ],
   "source": [
    "_t.loc[useful_idx, 'speakers_job_title_cleaned'].value_counts()"
   ]
  },
  {
   "cell_type": "code",
   "execution_count": 115,
   "metadata": {
    "ExecuteTime": {
     "end_time": "2018-11-23T14:05:25.316594Z",
     "start_time": "2018-11-23T14:05:25.264393Z"
    },
    "scrolled": true
   },
   "outputs": [
    {
     "ename": "NameError",
     "evalue": "name '_t' is not defined",
     "output_type": "error",
     "traceback": [
      "\u001b[0;31m---------------------------------------------------------------------------\u001b[0m",
      "\u001b[0;31mNameError\u001b[0m                                 Traceback (most recent call last)",
      "\u001b[0;32m<ipython-input-115-9d3c7d9446d2>\u001b[0m in \u001b[0;36m<module>\u001b[0;34m()\u001b[0m\n\u001b[0;32m----> 1\u001b[0;31m \u001b[0m_t\u001b[0m\u001b[0;34m.\u001b[0m\u001b[0mloc\u001b[0m\u001b[0;34m[\u001b[0m\u001b[0m_t\u001b[0m\u001b[0;34m[\u001b[0m\u001b[0;34m'speakers_job_title_cleaned'\u001b[0m\u001b[0;34m]\u001b[0m\u001b[0;34m.\u001b[0m\u001b[0misin\u001b[0m\u001b[0;34m(\u001b[0m\u001b[0mjob_titles_of_interest\u001b[0m\u001b[0;34m)\u001b[0m \u001b[0;34m&\u001b[0m \u001b[0museful_idx\u001b[0m\u001b[0;34m,\u001b[0m \u001b[0mcolumns_of_interest\u001b[0m\u001b[0;34m]\u001b[0m\u001b[0;34m\u001b[0m\u001b[0m\n\u001b[0m",
      "\u001b[0;31mNameError\u001b[0m: name '_t' is not defined"
     ]
    }
   ],
   "source": [
    "_t.loc[_t['speakers_job_title_cleaned'].isin(job_titles_of_interest) & useful_idx, columns_of_interest]"
   ]
  },
  {
   "cell_type": "markdown",
   "metadata": {},
   "source": [
    "Now, our dataframe looks like this:"
   ]
  },
  {
   "cell_type": "code",
   "execution_count": 116,
   "metadata": {
    "scrolled": true
   },
   "outputs": [
    {
     "ename": "NameError",
     "evalue": "name '_t' is not defined",
     "output_type": "error",
     "traceback": [
      "\u001b[0;31m---------------------------------------------------------------------------\u001b[0m",
      "\u001b[0;31mNameError\u001b[0m                                 Traceback (most recent call last)",
      "\u001b[0;32m<ipython-input-116-6bd914dc24e6>\u001b[0m in \u001b[0;36m<module>\u001b[0;34m()\u001b[0m\n\u001b[0;32m----> 1\u001b[0;31m \u001b[0m_t\u001b[0m\u001b[0;34m.\u001b[0m\u001b[0mhead\u001b[0m\u001b[0;34m(\u001b[0m\u001b[0;36m1\u001b[0m\u001b[0;34m)\u001b[0m\u001b[0;34m\u001b[0m\u001b[0m\n\u001b[0m",
      "\u001b[0;31mNameError\u001b[0m: name '_t' is not defined"
     ]
    }
   ],
   "source": [
    "_t.head(1)"
   ]
  },
  {
   "cell_type": "markdown",
   "metadata": {},
   "source": [
    "# County Data"
   ]
  },
  {
   "cell_type": "code",
   "execution_count": 117,
   "metadata": {},
   "outputs": [
    {
     "data": {
      "text/html": [
       "<div>\n",
       "<style scoped>\n",
       "    .dataframe tbody tr th:only-of-type {\n",
       "        vertical-align: middle;\n",
       "    }\n",
       "\n",
       "    .dataframe tbody tr th {\n",
       "        vertical-align: top;\n",
       "    }\n",
       "\n",
       "    .dataframe thead th {\n",
       "        text-align: right;\n",
       "    }\n",
       "</style>\n",
       "<table border=\"1\" class=\"dataframe\">\n",
       "  <thead>\n",
       "    <tr style=\"text-align: right;\">\n",
       "      <th></th>\n",
       "      <th>CensusId</th>\n",
       "      <th>State</th>\n",
       "      <th>County</th>\n",
       "      <th>TotalPop</th>\n",
       "      <th>Men</th>\n",
       "      <th>Women</th>\n",
       "      <th>Hispanic</th>\n",
       "      <th>White</th>\n",
       "      <th>Black</th>\n",
       "      <th>Native</th>\n",
       "      <th>Asian</th>\n",
       "      <th>Pacific</th>\n",
       "      <th>Citizen</th>\n",
       "      <th>Income</th>\n",
       "      <th>IncomeErr</th>\n",
       "      <th>IncomePerCap</th>\n",
       "      <th>IncomePerCapErr</th>\n",
       "      <th>Poverty</th>\n",
       "      <th>ChildPoverty</th>\n",
       "      <th>Professional</th>\n",
       "      <th>Service</th>\n",
       "      <th>Office</th>\n",
       "      <th>Construction</th>\n",
       "      <th>Production</th>\n",
       "      <th>Drive</th>\n",
       "      <th>Carpool</th>\n",
       "      <th>Transit</th>\n",
       "      <th>Walk</th>\n",
       "      <th>OtherTransp</th>\n",
       "      <th>WorkAtHome</th>\n",
       "      <th>MeanCommute</th>\n",
       "      <th>Employed</th>\n",
       "      <th>PrivateWork</th>\n",
       "      <th>PublicWork</th>\n",
       "      <th>SelfEmployed</th>\n",
       "      <th>FamilyWork</th>\n",
       "      <th>Unemployment</th>\n",
       "    </tr>\n",
       "  </thead>\n",
       "  <tbody>\n",
       "    <tr>\n",
       "      <th>0</th>\n",
       "      <td>1001</td>\n",
       "      <td>Alabama</td>\n",
       "      <td>Autauga</td>\n",
       "      <td>55221</td>\n",
       "      <td>26745</td>\n",
       "      <td>28476</td>\n",
       "      <td>2.6</td>\n",
       "      <td>75.8</td>\n",
       "      <td>18.5</td>\n",
       "      <td>0.4</td>\n",
       "      <td>1.0</td>\n",
       "      <td>0.0</td>\n",
       "      <td>40725</td>\n",
       "      <td>51281.0</td>\n",
       "      <td>2391.0</td>\n",
       "      <td>24974</td>\n",
       "      <td>1080</td>\n",
       "      <td>12.9</td>\n",
       "      <td>18.6</td>\n",
       "      <td>33.2</td>\n",
       "      <td>17.0</td>\n",
       "      <td>24.2</td>\n",
       "      <td>8.6</td>\n",
       "      <td>17.1</td>\n",
       "      <td>87.5</td>\n",
       "      <td>8.8</td>\n",
       "      <td>0.1</td>\n",
       "      <td>0.5</td>\n",
       "      <td>1.3</td>\n",
       "      <td>1.8</td>\n",
       "      <td>26.5</td>\n",
       "      <td>23986</td>\n",
       "      <td>73.6</td>\n",
       "      <td>20.9</td>\n",
       "      <td>5.5</td>\n",
       "      <td>0.0</td>\n",
       "      <td>7.6</td>\n",
       "    </tr>\n",
       "    <tr>\n",
       "      <th>1</th>\n",
       "      <td>1003</td>\n",
       "      <td>Alabama</td>\n",
       "      <td>Baldwin</td>\n",
       "      <td>195121</td>\n",
       "      <td>95314</td>\n",
       "      <td>99807</td>\n",
       "      <td>4.5</td>\n",
       "      <td>83.1</td>\n",
       "      <td>9.5</td>\n",
       "      <td>0.6</td>\n",
       "      <td>0.7</td>\n",
       "      <td>0.0</td>\n",
       "      <td>147695</td>\n",
       "      <td>50254.0</td>\n",
       "      <td>1263.0</td>\n",
       "      <td>27317</td>\n",
       "      <td>711</td>\n",
       "      <td>13.4</td>\n",
       "      <td>19.2</td>\n",
       "      <td>33.1</td>\n",
       "      <td>17.7</td>\n",
       "      <td>27.1</td>\n",
       "      <td>10.8</td>\n",
       "      <td>11.2</td>\n",
       "      <td>84.7</td>\n",
       "      <td>8.8</td>\n",
       "      <td>0.1</td>\n",
       "      <td>1.0</td>\n",
       "      <td>1.4</td>\n",
       "      <td>3.9</td>\n",
       "      <td>26.4</td>\n",
       "      <td>85953</td>\n",
       "      <td>81.5</td>\n",
       "      <td>12.3</td>\n",
       "      <td>5.8</td>\n",
       "      <td>0.4</td>\n",
       "      <td>7.5</td>\n",
       "    </tr>\n",
       "    <tr>\n",
       "      <th>2</th>\n",
       "      <td>1005</td>\n",
       "      <td>Alabama</td>\n",
       "      <td>Barbour</td>\n",
       "      <td>26932</td>\n",
       "      <td>14497</td>\n",
       "      <td>12435</td>\n",
       "      <td>4.6</td>\n",
       "      <td>46.2</td>\n",
       "      <td>46.7</td>\n",
       "      <td>0.2</td>\n",
       "      <td>0.4</td>\n",
       "      <td>0.0</td>\n",
       "      <td>20714</td>\n",
       "      <td>32964.0</td>\n",
       "      <td>2973.0</td>\n",
       "      <td>16824</td>\n",
       "      <td>798</td>\n",
       "      <td>26.7</td>\n",
       "      <td>45.3</td>\n",
       "      <td>26.8</td>\n",
       "      <td>16.1</td>\n",
       "      <td>23.1</td>\n",
       "      <td>10.8</td>\n",
       "      <td>23.1</td>\n",
       "      <td>83.8</td>\n",
       "      <td>10.9</td>\n",
       "      <td>0.4</td>\n",
       "      <td>1.8</td>\n",
       "      <td>1.5</td>\n",
       "      <td>1.6</td>\n",
       "      <td>24.1</td>\n",
       "      <td>8597</td>\n",
       "      <td>71.8</td>\n",
       "      <td>20.8</td>\n",
       "      <td>7.3</td>\n",
       "      <td>0.1</td>\n",
       "      <td>17.6</td>\n",
       "    </tr>\n",
       "    <tr>\n",
       "      <th>3</th>\n",
       "      <td>1007</td>\n",
       "      <td>Alabama</td>\n",
       "      <td>Bibb</td>\n",
       "      <td>22604</td>\n",
       "      <td>12073</td>\n",
       "      <td>10531</td>\n",
       "      <td>2.2</td>\n",
       "      <td>74.5</td>\n",
       "      <td>21.4</td>\n",
       "      <td>0.4</td>\n",
       "      <td>0.1</td>\n",
       "      <td>0.0</td>\n",
       "      <td>17495</td>\n",
       "      <td>38678.0</td>\n",
       "      <td>3995.0</td>\n",
       "      <td>18431</td>\n",
       "      <td>1618</td>\n",
       "      <td>16.8</td>\n",
       "      <td>27.9</td>\n",
       "      <td>21.5</td>\n",
       "      <td>17.9</td>\n",
       "      <td>17.8</td>\n",
       "      <td>19.0</td>\n",
       "      <td>23.7</td>\n",
       "      <td>83.2</td>\n",
       "      <td>13.5</td>\n",
       "      <td>0.5</td>\n",
       "      <td>0.6</td>\n",
       "      <td>1.5</td>\n",
       "      <td>0.7</td>\n",
       "      <td>28.8</td>\n",
       "      <td>8294</td>\n",
       "      <td>76.8</td>\n",
       "      <td>16.1</td>\n",
       "      <td>6.7</td>\n",
       "      <td>0.4</td>\n",
       "      <td>8.3</td>\n",
       "    </tr>\n",
       "    <tr>\n",
       "      <th>4</th>\n",
       "      <td>1009</td>\n",
       "      <td>Alabama</td>\n",
       "      <td>Blount</td>\n",
       "      <td>57710</td>\n",
       "      <td>28512</td>\n",
       "      <td>29198</td>\n",
       "      <td>8.6</td>\n",
       "      <td>87.9</td>\n",
       "      <td>1.5</td>\n",
       "      <td>0.3</td>\n",
       "      <td>0.1</td>\n",
       "      <td>0.0</td>\n",
       "      <td>42345</td>\n",
       "      <td>45813.0</td>\n",
       "      <td>3141.0</td>\n",
       "      <td>20532</td>\n",
       "      <td>708</td>\n",
       "      <td>16.7</td>\n",
       "      <td>27.2</td>\n",
       "      <td>28.5</td>\n",
       "      <td>14.1</td>\n",
       "      <td>23.9</td>\n",
       "      <td>13.5</td>\n",
       "      <td>19.9</td>\n",
       "      <td>84.9</td>\n",
       "      <td>11.2</td>\n",
       "      <td>0.4</td>\n",
       "      <td>0.9</td>\n",
       "      <td>0.4</td>\n",
       "      <td>2.3</td>\n",
       "      <td>34.9</td>\n",
       "      <td>22189</td>\n",
       "      <td>82.0</td>\n",
       "      <td>13.5</td>\n",
       "      <td>4.2</td>\n",
       "      <td>0.4</td>\n",
       "      <td>7.7</td>\n",
       "    </tr>\n",
       "  </tbody>\n",
       "</table>\n",
       "</div>"
      ],
      "text/plain": [
       "   CensusId    State   County  TotalPop    Men  Women  Hispanic  White  Black  \\\n",
       "0      1001  Alabama  Autauga     55221  26745  28476       2.6   75.8   18.5   \n",
       "1      1003  Alabama  Baldwin    195121  95314  99807       4.5   83.1    9.5   \n",
       "2      1005  Alabama  Barbour     26932  14497  12435       4.6   46.2   46.7   \n",
       "3      1007  Alabama     Bibb     22604  12073  10531       2.2   74.5   21.4   \n",
       "4      1009  Alabama   Blount     57710  28512  29198       8.6   87.9    1.5   \n",
       "\n",
       "   Native  Asian  Pacific  Citizen   Income  IncomeErr  IncomePerCap  \\\n",
       "0     0.4    1.0      0.0    40725  51281.0     2391.0         24974   \n",
       "1     0.6    0.7      0.0   147695  50254.0     1263.0         27317   \n",
       "2     0.2    0.4      0.0    20714  32964.0     2973.0         16824   \n",
       "3     0.4    0.1      0.0    17495  38678.0     3995.0         18431   \n",
       "4     0.3    0.1      0.0    42345  45813.0     3141.0         20532   \n",
       "\n",
       "   IncomePerCapErr  Poverty  ChildPoverty  Professional  Service  Office  \\\n",
       "0             1080     12.9          18.6          33.2     17.0    24.2   \n",
       "1              711     13.4          19.2          33.1     17.7    27.1   \n",
       "2              798     26.7          45.3          26.8     16.1    23.1   \n",
       "3             1618     16.8          27.9          21.5     17.9    17.8   \n",
       "4              708     16.7          27.2          28.5     14.1    23.9   \n",
       "\n",
       "   Construction  Production  Drive  Carpool  Transit  Walk  OtherTransp  \\\n",
       "0           8.6        17.1   87.5      8.8      0.1   0.5          1.3   \n",
       "1          10.8        11.2   84.7      8.8      0.1   1.0          1.4   \n",
       "2          10.8        23.1   83.8     10.9      0.4   1.8          1.5   \n",
       "3          19.0        23.7   83.2     13.5      0.5   0.6          1.5   \n",
       "4          13.5        19.9   84.9     11.2      0.4   0.9          0.4   \n",
       "\n",
       "   WorkAtHome  MeanCommute  Employed  PrivateWork  PublicWork  SelfEmployed  \\\n",
       "0         1.8         26.5     23986         73.6        20.9           5.5   \n",
       "1         3.9         26.4     85953         81.5        12.3           5.8   \n",
       "2         1.6         24.1      8597         71.8        20.8           7.3   \n",
       "3         0.7         28.8      8294         76.8        16.1           6.7   \n",
       "4         2.3         34.9     22189         82.0        13.5           4.2   \n",
       "\n",
       "   FamilyWork  Unemployment  \n",
       "0         0.0           7.6  \n",
       "1         0.4           7.5  \n",
       "2         0.1          17.6  \n",
       "3         0.4           8.3  \n",
       "4         0.4           7.7  "
      ]
     },
     "execution_count": 117,
     "metadata": {},
     "output_type": "execute_result"
    }
   ],
   "source": [
    "# load data file\n",
    "county_raw = pd.read_csv(f\"{directory_county_data}/acs2015_county_data.csv\")\n",
    "US_states = county_raw['State'].unique()\n",
    "county_raw.head()"
   ]
  },
  {
   "cell_type": "markdown",
   "metadata": {
    "ExecuteTime": {
     "end_time": "2018-11-23T13:15:16.215139Z",
     "start_time": "2018-11-23T13:15:16.189010Z"
    }
   },
   "source": [
    "# DATA SET COMPLETE"
   ]
  },
  {
   "cell_type": "markdown",
   "metadata": {},
   "source": [
    "At this point, we collected all the columns we need. Let's see how we can clean them:"
   ]
  },
  {
   "cell_type": "code",
   "execution_count": 118,
   "metadata": {
    "ExecuteTime": {
     "end_time": "2018-11-23T14:14:08.462121Z",
     "start_time": "2018-11-23T14:14:08.444554Z"
    }
   },
   "outputs": [
    {
     "ename": "NameError",
     "evalue": "name '_t' is not defined",
     "output_type": "error",
     "traceback": [
      "\u001b[0;31m---------------------------------------------------------------------------\u001b[0m",
      "\u001b[0;31mNameError\u001b[0m                                 Traceback (most recent call last)",
      "\u001b[0;32m<ipython-input-118-d116ff5f1c3c>\u001b[0m in \u001b[0;36m<module>\u001b[0;34m()\u001b[0m\n\u001b[0;32m----> 1\u001b[0;31m \u001b[0mmedian_speaker_value\u001b[0m \u001b[0;34m=\u001b[0m \u001b[0m_t\u001b[0m\u001b[0;34m.\u001b[0m\u001b[0mgroupby\u001b[0m\u001b[0;34m(\u001b[0m\u001b[0;34m[\u001b[0m\u001b[0;34m'statement_year'\u001b[0m\u001b[0;34m,\u001b[0m \u001b[0;34m'speaker'\u001b[0m\u001b[0;34m]\u001b[0m\u001b[0;34m)\u001b[0m\u001b[0;34m[\u001b[0m\u001b[0;34m'label_as_nb'\u001b[0m\u001b[0;34m]\u001b[0m\u001b[0;34m.\u001b[0m\u001b[0mmedian\u001b[0m\u001b[0;34m(\u001b[0m\u001b[0;34m)\u001b[0m\u001b[0;34m.\u001b[0m\u001b[0mreset_index\u001b[0m\u001b[0;34m(\u001b[0m\u001b[0;34m)\u001b[0m\u001b[0;34m\u001b[0m\u001b[0m\n\u001b[0m",
      "\u001b[0;31mNameError\u001b[0m: name '_t' is not defined"
     ]
    }
   ],
   "source": [
    "median_speaker_value = _t.groupby(['statement_year', 'speaker'])['label_as_nb'].median().reset_index()"
   ]
  },
  {
   "cell_type": "code",
   "execution_count": 119,
   "metadata": {
    "ExecuteTime": {
     "end_time": "2018-11-23T14:14:12.630778Z",
     "start_time": "2018-11-23T14:14:12.617803Z"
    },
    "scrolled": true
   },
   "outputs": [
    {
     "ename": "NameError",
     "evalue": "name 'median_speaker_value' is not defined",
     "output_type": "error",
     "traceback": [
      "\u001b[0;31m---------------------------------------------------------------------------\u001b[0m",
      "\u001b[0;31mNameError\u001b[0m                                 Traceback (most recent call last)",
      "\u001b[0;32m<ipython-input-119-d94961eda4b8>\u001b[0m in \u001b[0;36m<module>\u001b[0;34m()\u001b[0m\n\u001b[0;32m----> 1\u001b[0;31m \u001b[0mmedian_speaker_value\u001b[0m\u001b[0;34m[\u001b[0m\u001b[0mmedian_speaker_value\u001b[0m\u001b[0;34m[\u001b[0m\u001b[0;34m'statement_year'\u001b[0m\u001b[0;34m]\u001b[0m \u001b[0;34m==\u001b[0m \u001b[0;36m2016\u001b[0m\u001b[0;34m]\u001b[0m\u001b[0;34m\u001b[0m\u001b[0m\n\u001b[0m",
      "\u001b[0;31mNameError\u001b[0m: name 'median_speaker_value' is not defined"
     ]
    }
   ],
   "source": [
    "median_speaker_value[median_speaker_value['statement_year'] == 2016]"
   ]
  },
  {
   "cell_type": "markdown",
   "metadata": {},
   "source": [
    "### Non-People Speakers Handling"
   ]
  },
  {
   "cell_type": "markdown",
   "metadata": {},
   "source": [
    "Removing non-people (_tweets, facebook posts, etc._) from the dataset:"
   ]
  },
  {
   "cell_type": "code",
   "execution_count": 120,
   "metadata": {
    "scrolled": false
   },
   "outputs": [
    {
     "name": "stdout",
     "output_type": "stream",
     "text": [
      "[nltk_data] Downloading package punkt to /Users/puma/nltk_data...\n",
      "[nltk_data]   Package punkt is already up-to-date!\n"
     ]
    },
    {
     "ename": "NameError",
     "evalue": "name 'get_ner_tag' is not defined",
     "output_type": "error",
     "traceback": [
      "\u001b[0;31m---------------------------------------------------------------------------\u001b[0m",
      "\u001b[0;31mNameError\u001b[0m                                 Traceback (most recent call last)",
      "\u001b[0;32m<ipython-input-120-c89e6a15a211>\u001b[0m in \u001b[0;36m<module>\u001b[0;34m()\u001b[0m\n\u001b[1;32m     26\u001b[0m \u001b[0;31m# just to see if/how it works\u001b[0m\u001b[0;34m\u001b[0m\u001b[0;34m\u001b[0m\u001b[0m\n\u001b[1;32m     27\u001b[0m \u001b[0mword\u001b[0m \u001b[0;34m=\u001b[0m \u001b[0;34m\"Twitter-Post-Anna\"\u001b[0m\u001b[0;34m\u001b[0m\u001b[0m\n\u001b[0;32m---> 28\u001b[0;31m \u001b[0mget_ner_tag\u001b[0m\u001b[0;34m(\u001b[0m\u001b[0mword\u001b[0m\u001b[0;34m)\u001b[0m\u001b[0;34m\u001b[0m\u001b[0m\n\u001b[0m\u001b[1;32m     29\u001b[0m \u001b[0;34m\u001b[0m\u001b[0m\n\u001b[1;32m     30\u001b[0m \u001b[0mfull_speaker_name\u001b[0m \u001b[0;34m=\u001b[0m \u001b[0;34m\"Barack-Obama\"\u001b[0m\u001b[0;34m\u001b[0m\u001b[0m\n",
      "\u001b[0;31mNameError\u001b[0m: name 'get_ner_tag' is not defined"
     ]
    }
   ],
   "source": [
    "from nltk import download\n",
    "download('punkt')\n",
    "from nltk.tag import StanfordNERTagger\n",
    "from nltk.tokenize import word_tokenize\n",
    "from nltk import sent_tokenize\n",
    "from collections import Counter\n",
    "\n",
    "model = 'nlp/stanford-ner-2018-10-16/classifiers/english.all.3class.distsim.crf.ser.gz'\n",
    "jar = 'nlp/stanford-ner-2018-10-16/stanford-ner-3.9.2.jar'\n",
    "st = StanfordNERTagger(model, jar, encoding='utf-8')\n",
    "\n",
    "def get_tag(speaker):\n",
    "    ner_tag = 0\n",
    "    if type(speaker) == str:\n",
    "        full_speaker_name = speaker.replace(\"-\", \" \").title()\n",
    "\n",
    "        for sent in sent_tokenize(full_speaker_name):\n",
    "            tokens = word_tokenize(sent)\n",
    "            tags = st.tag(tokens)\n",
    "            \n",
    "        ner_tag= Counter(dict(tags).values()).most_common(1)[0][0]\n",
    "        print(tags, \" --> \", ner_tag)\n",
    "    return ner_tag\n",
    "    \n",
    "\n",
    "# just to see if/how it works\n",
    "word = \"Twitter-Post-Anna\"\n",
    "get_ner_tag(word)\n",
    "\n",
    "full_speaker_name = \"Barack-Obama\"\n",
    "get_ner_tag(full_speaker_name)\n",
    "\n",
    "full_speaker_name = 0\n",
    "get_ner_tag(full_speaker_name)\n"
   ]
  },
  {
   "cell_type": "code",
   "execution_count": null,
   "metadata": {
    "scrolled": true
   },
   "outputs": [],
   "source": [
    "import os.path\n",
    "\n",
    "file_path = 'nlp/speaker_tags.json'\n",
    "\n",
    "if not os.path.exists(file_path):\n",
    "    print(f\"Total number of values to classify: {len(_t['speaker'].value_counts().index)}\")\n",
    "\n",
    "    words_with_tags = {}\n",
    "    for word in _t['speaker'].value_counts().index:\n",
    "        words_with_tags[word] = get_tag(word)\n",
    "    \n",
    "    # save tags, since it took ~3h to tag all 3214 unique speakers\n",
    "    with open(file_path, 'w') as fp:\n",
    "        json.dump(words_with_tags, fp, indent=4)\n",
    "else:\n",
    "    with open(file_path, 'r') as f:\n",
    "        words_with_tags = json.load(f)\n",
    "    print(f\"Total number of classified values (from file): {len(words_with_tags)}\")"
   ]
  },
  {
   "cell_type": "code",
   "execution_count": 121,
   "metadata": {
    "scrolled": true
   },
   "outputs": [
    {
     "ename": "NameError",
     "evalue": "name '_t' is not defined",
     "output_type": "error",
     "traceback": [
      "\u001b[0;31m---------------------------------------------------------------------------\u001b[0m",
      "\u001b[0;31mNameError\u001b[0m                                 Traceback (most recent call last)",
      "\u001b[0;32m<ipython-input-121-a345c8568f69>\u001b[0m in \u001b[0;36m<module>\u001b[0;34m()\u001b[0m\n\u001b[0;32m----> 1\u001b[0;31m \u001b[0m_t\u001b[0m\u001b[0;34m[\u001b[0m\u001b[0;34m\"speaker_tag\"\u001b[0m\u001b[0;34m]\u001b[0m \u001b[0;34m=\u001b[0m \u001b[0m_t\u001b[0m\u001b[0;34m.\u001b[0m\u001b[0mapply\u001b[0m\u001b[0;34m(\u001b[0m\u001b[0;32mlambda\u001b[0m \u001b[0mrow\u001b[0m\u001b[0;34m:\u001b[0m \u001b[0mwords_with_tags\u001b[0m\u001b[0;34m[\u001b[0m\u001b[0mrow\u001b[0m\u001b[0;34m[\u001b[0m\u001b[0;34m'speaker'\u001b[0m\u001b[0;34m]\u001b[0m\u001b[0;34m]\u001b[0m \u001b[0;32mif\u001b[0m \u001b[0;32mnot\u001b[0m \u001b[0mpd\u001b[0m\u001b[0;34m.\u001b[0m\u001b[0misnull\u001b[0m\u001b[0;34m(\u001b[0m\u001b[0mrow\u001b[0m\u001b[0;34m[\u001b[0m\u001b[0;34m'speaker'\u001b[0m\u001b[0;34m]\u001b[0m\u001b[0;34m)\u001b[0m \u001b[0;32melse\u001b[0m \u001b[0mrow\u001b[0m\u001b[0;34m[\u001b[0m\u001b[0;34m'speaker'\u001b[0m\u001b[0;34m]\u001b[0m\u001b[0;34m,\u001b[0m \u001b[0maxis\u001b[0m\u001b[0;34m=\u001b[0m\u001b[0;36m1\u001b[0m\u001b[0;34m)\u001b[0m\u001b[0;34m\u001b[0m\u001b[0m\n\u001b[0m\u001b[1;32m      2\u001b[0m \u001b[0m_t\u001b[0m\u001b[0;34m[\u001b[0m\u001b[0;34m[\u001b[0m\u001b[0;34m'speaker'\u001b[0m\u001b[0;34m,\u001b[0m\u001b[0;34m'speaker_tag'\u001b[0m\u001b[0;34m]\u001b[0m\u001b[0;34m]\u001b[0m\u001b[0;34m.\u001b[0m\u001b[0mdrop_duplicates\u001b[0m\u001b[0;34m(\u001b[0m\u001b[0;34m)\u001b[0m\u001b[0;34m\u001b[0m\u001b[0m\n",
      "\u001b[0;31mNameError\u001b[0m: name '_t' is not defined"
     ]
    }
   ],
   "source": [
    "_t[\"speaker_tag\"] = _t.apply(lambda row: words_with_tags[row['speaker']] if not pd.isnull(row['speaker']) else row['speaker'], axis=1)\n",
    "_t[['speaker','speaker_tag']].drop_duplicates()"
   ]
  },
  {
   "cell_type": "markdown",
   "metadata": {},
   "source": [
    "Seems good, so now let's remove non-people from the dataset:"
   ]
  },
  {
   "cell_type": "code",
   "execution_count": 122,
   "metadata": {},
   "outputs": [
    {
     "ename": "NameError",
     "evalue": "name '_t' is not defined",
     "output_type": "error",
     "traceback": [
      "\u001b[0;31m---------------------------------------------------------------------------\u001b[0m",
      "\u001b[0;31mNameError\u001b[0m                                 Traceback (most recent call last)",
      "\u001b[0;32m<ipython-input-122-109f31024d8c>\u001b[0m in \u001b[0;36m<module>\u001b[0;34m()\u001b[0m\n\u001b[0;32m----> 1\u001b[0;31m \u001b[0m_t\u001b[0m\u001b[0;34m.\u001b[0m\u001b[0mshape\u001b[0m\u001b[0;34m\u001b[0m\u001b[0m\n\u001b[0m",
      "\u001b[0;31mNameError\u001b[0m: name '_t' is not defined"
     ]
    }
   ],
   "source": [
    "_t.shape"
   ]
  },
  {
   "cell_type": "code",
   "execution_count": 123,
   "metadata": {},
   "outputs": [
    {
     "ename": "NameError",
     "evalue": "name '_t' is not defined",
     "output_type": "error",
     "traceback": [
      "\u001b[0;31m---------------------------------------------------------------------------\u001b[0m",
      "\u001b[0;31mNameError\u001b[0m                                 Traceback (most recent call last)",
      "\u001b[0;32m<ipython-input-123-a50c8c2b682f>\u001b[0m in \u001b[0;36m<module>\u001b[0;34m()\u001b[0m\n\u001b[0;32m----> 1\u001b[0;31m \u001b[0m_t\u001b[0m\u001b[0;34m[\u001b[0m\u001b[0m_t\u001b[0m\u001b[0;34m[\u001b[0m\u001b[0;34m'speaker_tag'\u001b[0m\u001b[0;34m]\u001b[0m \u001b[0;34m==\u001b[0m \u001b[0;34m\"PERSON\"\u001b[0m\u001b[0;34m]\u001b[0m\u001b[0;34m.\u001b[0m\u001b[0mshape\u001b[0m\u001b[0;34m\u001b[0m\u001b[0m\n\u001b[0m",
      "\u001b[0;31mNameError\u001b[0m: name '_t' is not defined"
     ]
    }
   ],
   "source": [
    "_t[_t['speaker_tag'] == \"PERSON\"].shape"
   ]
  },
  {
   "cell_type": "markdown",
   "metadata": {},
   "source": [
    "We see that we will remove ~5000 statements which are made by (speaker) _Twitter, Facebook, Blog post, Republican Party Texas, etc._"
   ]
  },
  {
   "cell_type": "code",
   "execution_count": 124,
   "metadata": {},
   "outputs": [
    {
     "ename": "NameError",
     "evalue": "name '_t' is not defined",
     "output_type": "error",
     "traceback": [
      "\u001b[0;31m---------------------------------------------------------------------------\u001b[0m",
      "\u001b[0;31mNameError\u001b[0m                                 Traceback (most recent call last)",
      "\u001b[0;32m<ipython-input-124-c625ec858ee9>\u001b[0m in \u001b[0;36m<module>\u001b[0;34m()\u001b[0m\n\u001b[1;32m      1\u001b[0m \u001b[0;31m# removing non-people statements\u001b[0m\u001b[0;34m\u001b[0m\u001b[0;34m\u001b[0m\u001b[0m\n\u001b[0;32m----> 2\u001b[0;31m \u001b[0m_t\u001b[0m \u001b[0;34m=\u001b[0m \u001b[0m_t\u001b[0m\u001b[0;34m[\u001b[0m\u001b[0m_t\u001b[0m\u001b[0;34m[\u001b[0m\u001b[0;34m'speaker_tag'\u001b[0m\u001b[0;34m]\u001b[0m \u001b[0;34m==\u001b[0m \u001b[0;34m\"PERSON\"\u001b[0m\u001b[0;34m]\u001b[0m\u001b[0;34m\u001b[0m\u001b[0m\n\u001b[0m",
      "\u001b[0;31mNameError\u001b[0m: name '_t' is not defined"
     ]
    }
   ],
   "source": [
    "# removing non-people statements\n",
    "_t = _t[_t['speaker_tag'] == \"PERSON\"]"
   ]
  },
  {
   "cell_type": "markdown",
   "metadata": {},
   "source": [
    "### Clean-up Context"
   ]
  },
  {
   "cell_type": "code",
   "execution_count": 125,
   "metadata": {
    "scrolled": true
   },
   "outputs": [
    {
     "ename": "NameError",
     "evalue": "name '_t' is not defined",
     "output_type": "error",
     "traceback": [
      "\u001b[0;31m---------------------------------------------------------------------------\u001b[0m",
      "\u001b[0;31mNameError\u001b[0m                                 Traceback (most recent call last)",
      "\u001b[0;32m<ipython-input-125-e0c6b5558a5b>\u001b[0m in \u001b[0;36m<module>\u001b[0;34m()\u001b[0m\n\u001b[0;32m----> 1\u001b[0;31m \u001b[0m_t\u001b[0m\u001b[0;34m[\u001b[0m\u001b[0;34m\"context\"\u001b[0m\u001b[0;34m]\u001b[0m\u001b[0;34m.\u001b[0m\u001b[0mvalue_counts\u001b[0m\u001b[0;34m(\u001b[0m\u001b[0;34m)\u001b[0m\u001b[0;34m.\u001b[0m\u001b[0mindex\u001b[0m\u001b[0;34m.\u001b[0m\u001b[0mvalues\u001b[0m\u001b[0;34m\u001b[0m\u001b[0m\n\u001b[0m",
      "\u001b[0;31mNameError\u001b[0m: name '_t' is not defined"
     ]
    }
   ],
   "source": [
    "_t[\"context\"].value_counts().index.values"
   ]
  },
  {
   "cell_type": "markdown",
   "metadata": {},
   "source": [
    "It would be good to try using the tool that would extract keywords from these phases. Let's use NLTK Rake:"
   ]
  },
  {
   "cell_type": "code",
   "execution_count": 126,
   "metadata": {
    "scrolled": true
   },
   "outputs": [
    {
     "ename": "ModuleNotFoundError",
     "evalue": "No module named 'rake_nltk'",
     "output_type": "error",
     "traceback": [
      "\u001b[0;31m---------------------------------------------------------------------------\u001b[0m",
      "\u001b[0;31mModuleNotFoundError\u001b[0m                       Traceback (most recent call last)",
      "\u001b[0;32m<ipython-input-126-1852c789c63f>\u001b[0m in \u001b[0;36m<module>\u001b[0;34m()\u001b[0m\n\u001b[0;32m----> 1\u001b[0;31m \u001b[0;32mfrom\u001b[0m \u001b[0mrake_nltk\u001b[0m \u001b[0;32mimport\u001b[0m \u001b[0mRake\u001b[0m\u001b[0;34m,\u001b[0m \u001b[0mMetric\u001b[0m\u001b[0;34m\u001b[0m\u001b[0m\n\u001b[0m\u001b[1;32m      2\u001b[0m \u001b[0;32mfrom\u001b[0m \u001b[0mcollections\u001b[0m \u001b[0;32mimport\u001b[0m \u001b[0mCounter\u001b[0m\u001b[0;34m\u001b[0m\u001b[0m\n\u001b[1;32m      3\u001b[0m \u001b[0;34m\u001b[0m\u001b[0m\n\u001b[1;32m      4\u001b[0m \u001b[0mdebug\u001b[0m \u001b[0;34m=\u001b[0m \u001b[0;32mFalse\u001b[0m\u001b[0;34m\u001b[0m\u001b[0m\n\u001b[1;32m      5\u001b[0m \u001b[0;34m\u001b[0m\u001b[0m\n",
      "\u001b[0;31mModuleNotFoundError\u001b[0m: No module named 'rake_nltk'"
     ]
    }
   ],
   "source": [
    "from rake_nltk import Rake, Metric\n",
    "from collections import Counter\n",
    "\n",
    "debug = False\n",
    "\n",
    "def do_keyword_extraction(words):\n",
    "    if debug: print(\"---\\n\", words)\n",
    "        \n",
    "    rake_all = Rake()\n",
    "    rake_all.extract_keywords_from_sentences(_t[\"context\"].value_counts().index.values)\n",
    "\n",
    "    word_degrees = dict(rake_all.get_word_degrees())\n",
    "    \n",
    "    r = Rake()\n",
    "    r.extract_keywords_from_text(words)\n",
    "\n",
    "    keywords = dict(r.get_word_degrees())\n",
    "    \n",
    "    if debug: print(keywords)\n",
    "        \n",
    "    for k, v in keywords.items():\n",
    "        keywords[k] = word_degrees[k]\n",
    "    \n",
    "    if debug: print(keywords)\n",
    "\n",
    "    return Counter(keywords).most_common(1)[0]"
   ]
  },
  {
   "cell_type": "code",
   "execution_count": 127,
   "metadata": {
    "scrolled": true
   },
   "outputs": [
    {
     "ename": "NameError",
     "evalue": "name 'do_keyword_extraction' is not defined",
     "output_type": "error",
     "traceback": [
      "\u001b[0;31m---------------------------------------------------------------------------\u001b[0m",
      "\u001b[0;31mNameError\u001b[0m                                 Traceback (most recent call last)",
      "\u001b[0;32m<ipython-input-127-c45a67aa48ca>\u001b[0m in \u001b[0;36m<module>\u001b[0;34m()\u001b[0m\n\u001b[1;32m      1\u001b[0m \u001b[0;31m# try to see how it works\u001b[0m\u001b[0;34m\u001b[0m\u001b[0;34m\u001b[0m\u001b[0m\n\u001b[1;32m      2\u001b[0m \u001b[0mtext_to_process\u001b[0m \u001b[0;34m=\u001b[0m \u001b[0;34m\"a television interview\"\u001b[0m\u001b[0;34m\u001b[0m\u001b[0m\n\u001b[0;32m----> 3\u001b[0;31m \u001b[0mdo_keyword_extraction\u001b[0m\u001b[0;34m(\u001b[0m\u001b[0;34m\"an interview\"\u001b[0m\u001b[0;34m)\u001b[0m\u001b[0;34m\u001b[0m\u001b[0m\n\u001b[0m\u001b[1;32m      4\u001b[0m \u001b[0mdo_keyword_extraction\u001b[0m\u001b[0;34m(\u001b[0m\u001b[0;34m\"a television interview\"\u001b[0m\u001b[0;34m)\u001b[0m\u001b[0;34m\u001b[0m\u001b[0m\n\u001b[1;32m      5\u001b[0m \u001b[0mdo_keyword_extraction\u001b[0m\u001b[0;34m(\u001b[0m\u001b[0;34m\"a TV interview\"\u001b[0m\u001b[0;34m)\u001b[0m\u001b[0;34m\u001b[0m\u001b[0m\n",
      "\u001b[0;31mNameError\u001b[0m: name 'do_keyword_extraction' is not defined"
     ]
    }
   ],
   "source": [
    "# try to see how it works\n",
    "text_to_process = \"a television interview\"\n",
    "do_keyword_extraction(\"an interview\")\n",
    "do_keyword_extraction(\"a television interview\")\n",
    "do_keyword_extraction(\"a TV interview\")"
   ]
  },
  {
   "cell_type": "code",
   "execution_count": 128,
   "metadata": {
    "scrolled": false
   },
   "outputs": [
    {
     "ename": "NameError",
     "evalue": "name '_t' is not defined",
     "output_type": "error",
     "traceback": [
      "\u001b[0;31m---------------------------------------------------------------------------\u001b[0m",
      "\u001b[0;31mNameError\u001b[0m                                 Traceback (most recent call last)",
      "\u001b[0;32m<ipython-input-128-bb6ac04755b6>\u001b[0m in \u001b[0;36m<module>\u001b[0;34m()\u001b[0m\n\u001b[0;32m----> 1\u001b[0;31m \u001b[0m_t\u001b[0m\u001b[0;34m[\u001b[0m\u001b[0;34m\"context_tag\"\u001b[0m\u001b[0;34m]\u001b[0m \u001b[0;34m=\u001b[0m \u001b[0m_t\u001b[0m\u001b[0;34m.\u001b[0m\u001b[0mapply\u001b[0m\u001b[0;34m(\u001b[0m\u001b[0;32mlambda\u001b[0m \u001b[0mrow\u001b[0m\u001b[0;34m:\u001b[0m \u001b[0mdo_keyword_extraction\u001b[0m\u001b[0;34m(\u001b[0m\u001b[0mrow\u001b[0m\u001b[0;34m[\u001b[0m\u001b[0;34m'context'\u001b[0m\u001b[0;34m]\u001b[0m\u001b[0;34m)\u001b[0m \u001b[0;32mif\u001b[0m \u001b[0;32mnot\u001b[0m \u001b[0mpd\u001b[0m\u001b[0;34m.\u001b[0m\u001b[0misnull\u001b[0m\u001b[0;34m(\u001b[0m\u001b[0mrow\u001b[0m\u001b[0;34m[\u001b[0m\u001b[0;34m'context'\u001b[0m\u001b[0;34m]\u001b[0m\u001b[0;34m)\u001b[0m \u001b[0;32melse\u001b[0m \u001b[0mrow\u001b[0m\u001b[0;34m[\u001b[0m\u001b[0;34m'context'\u001b[0m\u001b[0;34m]\u001b[0m\u001b[0;34m,\u001b[0m \u001b[0maxis\u001b[0m\u001b[0;34m=\u001b[0m\u001b[0;36m1\u001b[0m\u001b[0;34m)\u001b[0m\u001b[0;34m\u001b[0m\u001b[0m\n\u001b[0m",
      "\u001b[0;31mNameError\u001b[0m: name '_t' is not defined"
     ]
    }
   ],
   "source": [
    "_t[\"context_tag\"] = _t.apply(lambda row: do_keyword_extraction(row['context']) if not pd.isnull(row['context']) else row['context'], axis=1)"
   ]
  },
  {
   "cell_type": "code",
   "execution_count": 129,
   "metadata": {},
   "outputs": [
    {
     "ename": "NameError",
     "evalue": "name '_t' is not defined",
     "output_type": "error",
     "traceback": [
      "\u001b[0;31m---------------------------------------------------------------------------\u001b[0m",
      "\u001b[0;31mNameError\u001b[0m                                 Traceback (most recent call last)",
      "\u001b[0;32m<ipython-input-129-ea2de8b3e01d>\u001b[0m in \u001b[0;36m<module>\u001b[0;34m()\u001b[0m\n\u001b[0;32m----> 1\u001b[0;31m \u001b[0mcontext_tags\u001b[0m \u001b[0;34m=\u001b[0m \u001b[0m_t\u001b[0m\u001b[0;34m[\u001b[0m\u001b[0;34m[\u001b[0m\u001b[0;34m'context'\u001b[0m\u001b[0;34m,\u001b[0m\u001b[0;34m'context_tag'\u001b[0m\u001b[0;34m]\u001b[0m\u001b[0;34m]\u001b[0m\u001b[0;34m[\u001b[0m\u001b[0;34m'context_tag'\u001b[0m\u001b[0;34m]\u001b[0m\u001b[0;34m.\u001b[0m\u001b[0mvalue_counts\u001b[0m\u001b[0;34m(\u001b[0m\u001b[0;34m)\u001b[0m\u001b[0;34m\u001b[0m\u001b[0m\n\u001b[0m\u001b[1;32m      2\u001b[0m \u001b[0mprint\u001b[0m\u001b[0;34m(\u001b[0m\u001b[0;34mf\"Number of different context tags is {len(context_tags)}\"\u001b[0m\u001b[0;34m)\u001b[0m\u001b[0;34m\u001b[0m\u001b[0m\n\u001b[1;32m      3\u001b[0m \u001b[0mcontext_tags\u001b[0m\u001b[0;34m\u001b[0m\u001b[0m\n",
      "\u001b[0;31mNameError\u001b[0m: name '_t' is not defined"
     ]
    }
   ],
   "source": [
    "context_tags = _t[['context','context_tag']]['context_tag'].value_counts()\n",
    "print(f\"Number of different context tags is {len(context_tags)}\")\n",
    "context_tags"
   ]
  },
  {
   "cell_type": "markdown",
   "metadata": {},
   "source": [
    "We see that the number of context tags is 271, which is a preatty big number. Let's consider decreasing this number and make smaller groups."
   ]
  },
  {
   "cell_type": "code",
   "execution_count": 130,
   "metadata": {},
   "outputs": [],
   "source": [
    "# TODO: make smaller context groups, ideally around 10"
   ]
  },
  {
   "cell_type": "code",
   "execution_count": 131,
   "metadata": {},
   "outputs": [],
   "source": [
    "# TODO: implement tagging on the cleaned jobs as well"
   ]
  },
  {
   "cell_type": "code",
   "execution_count": 132,
   "metadata": {},
   "outputs": [],
   "source": [
    "# TODO: plot the answers from research questions we have"
   ]
  },
  {
   "cell_type": "markdown",
   "metadata": {},
   "source": [
    "## Some initial insights"
   ]
  },
  {
   "cell_type": "code",
   "execution_count": 133,
   "metadata": {
    "scrolled": true
   },
   "outputs": [
    {
     "ename": "NameError",
     "evalue": "name '_t' is not defined",
     "output_type": "error",
     "traceback": [
      "\u001b[0;31m---------------------------------------------------------------------------\u001b[0m",
      "\u001b[0;31mNameError\u001b[0m                                 Traceback (most recent call last)",
      "\u001b[0;32m<ipython-input-133-f40e6d30a8e9>\u001b[0m in \u001b[0;36m<module>\u001b[0;34m()\u001b[0m\n\u001b[0;32m----> 1\u001b[0;31m \u001b[0m_t\u001b[0m\u001b[0;34m[\u001b[0m\u001b[0;34m'sum_not_so_true'\u001b[0m\u001b[0;34m]\u001b[0m \u001b[0;34m=\u001b[0m \u001b[0m_t\u001b[0m\u001b[0;34m[\u001b[0m\u001b[0;34m'pants_on_fire_counts'\u001b[0m\u001b[0;34m]\u001b[0m\u001b[0;34m/\u001b[0m\u001b[0;34m(\u001b[0m\u001b[0m_t\u001b[0m\u001b[0;34m[\u001b[0m\u001b[0;34m'barely_true_counts'\u001b[0m\u001b[0;34m]\u001b[0m \u001b[0;34m+\u001b[0m \u001b[0m_t\u001b[0m\u001b[0;34m[\u001b[0m\u001b[0;34m'false_counts'\u001b[0m\u001b[0;34m]\u001b[0m \u001b[0;34m+\u001b[0m \u001b[0m_t\u001b[0m\u001b[0;34m[\u001b[0m\u001b[0;34m'half_true_counts'\u001b[0m\u001b[0;34m]\u001b[0m \u001b[0;34m+\u001b[0m \u001b[0m_t\u001b[0m\u001b[0;34m[\u001b[0m\u001b[0;34m'mostly_true_counts'\u001b[0m\u001b[0;34m]\u001b[0m \u001b[0;34m+\u001b[0m \u001b[0m_t\u001b[0m\u001b[0;34m[\u001b[0m\u001b[0;34m'pants_on_fire_counts'\u001b[0m\u001b[0;34m]\u001b[0m\u001b[0;34m)\u001b[0m\u001b[0;34m\u001b[0m\u001b[0m\n\u001b[0m\u001b[1;32m      2\u001b[0m \u001b[0mnumber_of_party_affiliation\u001b[0m \u001b[0;34m=\u001b[0m \u001b[0m_t\u001b[0m\u001b[0;34m.\u001b[0m\u001b[0mgroupby\u001b[0m\u001b[0;34m(\u001b[0m\u001b[0;34m'party_affiliation'\u001b[0m\u001b[0;34m)\u001b[0m\u001b[0;34m[\u001b[0m\u001b[0;34m'sum_not_so_true'\u001b[0m\u001b[0;34m]\u001b[0m\u001b[0;34m.\u001b[0m\u001b[0msum\u001b[0m\u001b[0;34m(\u001b[0m\u001b[0;34m)\u001b[0m\u001b[0;34m.\u001b[0m\u001b[0msort_values\u001b[0m\u001b[0;34m(\u001b[0m\u001b[0mascending\u001b[0m\u001b[0;34m=\u001b[0m\u001b[0;32mFalse\u001b[0m\u001b[0;34m)\u001b[0m\u001b[0;34m\u001b[0m\u001b[0m\n\u001b[1;32m      3\u001b[0m \u001b[0mnumber_of_party_affiliation\u001b[0m\u001b[0;34m\u001b[0m\u001b[0m\n",
      "\u001b[0;31mNameError\u001b[0m: name '_t' is not defined"
     ]
    }
   ],
   "source": [
    "_t['sum_not_so_true'] = _t['pants_on_fire_counts']/(_t['barely_true_counts'] + _t['false_counts'] + _t['half_true_counts'] + _t['mostly_true_counts'] + _t['pants_on_fire_counts'])\n",
    "number_of_party_affiliation = _t.groupby('party_affiliation')['sum_not_so_true'].sum().sort_values(ascending=False)\n",
    "number_of_party_affiliation"
   ]
  },
  {
   "cell_type": "markdown",
   "metadata": {},
   "source": [
    "Here are the `party_affiliations` who most lie ordered by their proportion of lies. But we already know that the 2 dominant parties in USA are republican and democrat. We see that there are lots of unknown party affiliations from which we can make identify 2 possibilities"
   ]
  },
  {
   "cell_type": "code",
   "execution_count": 134,
   "metadata": {
    "scrolled": true
   },
   "outputs": [
    {
     "ename": "NameError",
     "evalue": "name '_t' is not defined",
     "output_type": "error",
     "traceback": [
      "\u001b[0;31m---------------------------------------------------------------------------\u001b[0m",
      "\u001b[0;31mNameError\u001b[0m                                 Traceback (most recent call last)",
      "\u001b[0;32m<ipython-input-134-deb489306cc2>\u001b[0m in \u001b[0;36m<module>\u001b[0;34m()\u001b[0m\n\u001b[0;32m----> 1\u001b[0;31m \u001b[0mnumber_of_party_affiliation\u001b[0m \u001b[0;34m=\u001b[0m \u001b[0m_t\u001b[0m\u001b[0;34m.\u001b[0m\u001b[0mgroupby\u001b[0m\u001b[0;34m(\u001b[0m\u001b[0;34m[\u001b[0m\u001b[0;34m'speaker'\u001b[0m\u001b[0;34m]\u001b[0m\u001b[0;34m)\u001b[0m\u001b[0;34m[\u001b[0m\u001b[0;34m'sum_not_so_true'\u001b[0m\u001b[0;34m]\u001b[0m\u001b[0;34m.\u001b[0m\u001b[0msum\u001b[0m\u001b[0;34m(\u001b[0m\u001b[0;34m)\u001b[0m\u001b[0;34m.\u001b[0m\u001b[0msort_values\u001b[0m\u001b[0;34m(\u001b[0m\u001b[0mascending\u001b[0m\u001b[0;34m=\u001b[0m\u001b[0;32mFalse\u001b[0m\u001b[0;34m)\u001b[0m\u001b[0;34m\u001b[0m\u001b[0m\n\u001b[0m\u001b[1;32m      2\u001b[0m \u001b[0mnumber_of_party_affiliation\u001b[0m\u001b[0;34m.\u001b[0m\u001b[0mhead\u001b[0m\u001b[0;34m(\u001b[0m\u001b[0;36m10\u001b[0m\u001b[0;34m)\u001b[0m\u001b[0;34m\u001b[0m\u001b[0m\n",
      "\u001b[0;31mNameError\u001b[0m: name '_t' is not defined"
     ]
    }
   ],
   "source": [
    "number_of_party_affiliation = _t.groupby(['speaker'])['sum_not_so_true'].sum().sort_values(ascending=False)\n",
    "number_of_party_affiliation.head(10)"
   ]
  },
  {
   "cell_type": "markdown",
   "metadata": {},
   "source": [
    "Looking at the dataset content, people above are sorted quantity of lies."
   ]
  },
  {
   "cell_type": "code",
   "execution_count": 135,
   "metadata": {
    "scrolled": false
   },
   "outputs": [
    {
     "ename": "NameError",
     "evalue": "name '_t' is not defined",
     "output_type": "error",
     "traceback": [
      "\u001b[0;31m---------------------------------------------------------------------------\u001b[0m",
      "\u001b[0;31mNameError\u001b[0m                                 Traceback (most recent call last)",
      "\u001b[0;32m<ipython-input-135-a0102b1e0120>\u001b[0m in \u001b[0;36m<module>\u001b[0;34m()\u001b[0m\n\u001b[0;32m----> 1\u001b[0;31m \u001b[0mall_contexts\u001b[0m \u001b[0;34m=\u001b[0m \u001b[0m_t\u001b[0m\u001b[0;34m[\u001b[0m\u001b[0;34m'context_tag'\u001b[0m\u001b[0;34m]\u001b[0m\u001b[0;34m.\u001b[0m\u001b[0munique\u001b[0m\u001b[0;34m(\u001b[0m\u001b[0;34m)\u001b[0m\u001b[0;34m\u001b[0m\u001b[0m\n\u001b[0m\u001b[1;32m      2\u001b[0m \u001b[0mnb_elements_context\u001b[0m \u001b[0;34m=\u001b[0m \u001b[0m_t\u001b[0m\u001b[0;34m.\u001b[0m\u001b[0mgroupby\u001b[0m\u001b[0;34m(\u001b[0m\u001b[0;34m[\u001b[0m\u001b[0;34m'context_tag'\u001b[0m\u001b[0;34m]\u001b[0m\u001b[0;34m)\u001b[0m\u001b[0;34m[\u001b[0m\u001b[0;34m'context_tag'\u001b[0m\u001b[0;34m]\u001b[0m\u001b[0;34m.\u001b[0m\u001b[0mcount\u001b[0m\u001b[0;34m(\u001b[0m\u001b[0;34m)\u001b[0m\u001b[0;34m.\u001b[0m\u001b[0msort_values\u001b[0m\u001b[0;34m(\u001b[0m\u001b[0mascending\u001b[0m\u001b[0;34m=\u001b[0m\u001b[0;32mFalse\u001b[0m\u001b[0;34m)\u001b[0m\u001b[0;34m\u001b[0m\u001b[0m\n\u001b[1;32m      3\u001b[0m \u001b[0mnb_elements_context\u001b[0m\u001b[0;34m.\u001b[0m\u001b[0mhead\u001b[0m\u001b[0;34m(\u001b[0m\u001b[0;36m50\u001b[0m\u001b[0;34m)\u001b[0m\u001b[0;34m\u001b[0m\u001b[0m\n",
      "\u001b[0;31mNameError\u001b[0m: name '_t' is not defined"
     ]
    }
   ],
   "source": [
    "all_contexts = _t['context_tag'].unique()\n",
    "nb_elements_context = _t.groupby(['context_tag'])['context_tag'].count().sort_values(ascending=False)\n",
    "nb_elements_context.head(50)"
   ]
  },
  {
   "cell_type": "markdown",
   "metadata": {},
   "source": [
    "Looking at the context, it seems that people lie the most during the interviews, then speech, after debates, and so on..."
   ]
  },
  {
   "cell_type": "markdown",
   "metadata": {},
   "source": [
    "## [misc] One statement content visualization"
   ]
  },
  {
   "cell_type": "markdown",
   "metadata": {},
   "source": [
    "Let's analyse first row, statement with id `1`. What is the information we get there?"
   ]
  },
  {
   "cell_type": "code",
   "execution_count": 136,
   "metadata": {},
   "outputs": [],
   "source": [
    "sid = 1.0"
   ]
  },
  {
   "cell_type": "code",
   "execution_count": 137,
   "metadata": {},
   "outputs": [
    {
     "ename": "NameError",
     "evalue": "name '_t' is not defined",
     "output_type": "error",
     "traceback": [
      "\u001b[0;31m---------------------------------------------------------------------------\u001b[0m",
      "\u001b[0;31mNameError\u001b[0m                                 Traceback (most recent call last)",
      "\u001b[0;32m<ipython-input-137-a8e3a32cbb1c>\u001b[0m in \u001b[0;36m<module>\u001b[0;34m()\u001b[0m\n\u001b[0;32m----> 1\u001b[0;31m \u001b[0m_t\u001b[0m\u001b[0;34m[\u001b[0m\u001b[0m_t\u001b[0m\u001b[0;34m.\u001b[0m\u001b[0mstatement_id\u001b[0m \u001b[0;34m==\u001b[0m \u001b[0msid\u001b[0m\u001b[0;34m]\u001b[0m\u001b[0;34m\u001b[0m\u001b[0m\n\u001b[0m",
      "\u001b[0;31mNameError\u001b[0m: name '_t' is not defined"
     ]
    }
   ],
   "source": [
    "_t[_t.statement_id == sid]"
   ]
  },
  {
   "cell_type": "code",
   "execution_count": 138,
   "metadata": {},
   "outputs": [],
   "source": [
    "with open(f\"{directory_statements}/{int(sid)}.json\", \"r\") as f:\n",
    "    data = json.load(f)"
   ]
  },
  {
   "cell_type": "markdown",
   "metadata": {},
   "source": [
    "Just to visualize JSON hierarchy, run the following cell:"
   ]
  },
  {
   "cell_type": "code",
   "execution_count": 139,
   "metadata": {},
   "outputs": [
    {
     "ename": "FileNotFoundError",
     "evalue": "[Errno 2] No such file or directory: '../docs/data_insight/data.json'",
     "output_type": "error",
     "traceback": [
      "\u001b[0;31m---------------------------------------------------------------------------\u001b[0m",
      "\u001b[0;31mFileNotFoundError\u001b[0m                         Traceback (most recent call last)",
      "\u001b[0;32m<ipython-input-139-0c41c9fde1ec>\u001b[0m in \u001b[0;36m<module>\u001b[0;34m()\u001b[0m\n\u001b[1;32m     17\u001b[0m \u001b[0mmy_dict\u001b[0m \u001b[0;34m=\u001b[0m \u001b[0mgo_further\u001b[0m\u001b[0;34m(\u001b[0m\u001b[0mdata\u001b[0m\u001b[0;34m,\u001b[0m \u001b[0mname\u001b[0m\u001b[0;34m=\u001b[0m\u001b[0;34m\"statement_info\"\u001b[0m\u001b[0;34m)\u001b[0m\u001b[0;34m\u001b[0m\u001b[0m\n\u001b[1;32m     18\u001b[0m \u001b[0;34m\u001b[0m\u001b[0m\n\u001b[0;32m---> 19\u001b[0;31m \u001b[0;32mwith\u001b[0m \u001b[0mopen\u001b[0m\u001b[0;34m(\u001b[0m\u001b[0;34mf\"{directory_visualizations}/data.json\"\u001b[0m\u001b[0;34m,\u001b[0m \u001b[0;34m\"w\"\u001b[0m\u001b[0;34m)\u001b[0m \u001b[0;32mas\u001b[0m \u001b[0mf\u001b[0m\u001b[0;34m:\u001b[0m\u001b[0;34m\u001b[0m\u001b[0m\n\u001b[0m\u001b[1;32m     20\u001b[0m     \u001b[0mjson\u001b[0m\u001b[0;34m.\u001b[0m\u001b[0mdump\u001b[0m\u001b[0;34m(\u001b[0m\u001b[0mmy_dict\u001b[0m\u001b[0;34m,\u001b[0m \u001b[0mf\u001b[0m\u001b[0;34m)\u001b[0m\u001b[0;34m\u001b[0m\u001b[0m\n\u001b[1;32m     21\u001b[0m \u001b[0;34m\u001b[0m\u001b[0m\n",
      "\u001b[0;31mFileNotFoundError\u001b[0m: [Errno 2] No such file or directory: '../docs/data_insight/data.json'"
     ]
    }
   ],
   "source": [
    "def go_further(dic, name):\n",
    "    dict_vis = {\"name\": name, \"children\": []}\n",
    "    for k, v in dic.items():\n",
    "        if type(v) == str:\n",
    "            new_el = {\"name\": k}\n",
    "        elif type(v) == list:\n",
    "            if len(v) > 0:\n",
    "                new_el = go_further(v[0], k)\n",
    "        elif type(v) == dict:\n",
    "            new_el = go_further(v, k)\n",
    "        else:\n",
    "            new_el = {\"name\": k}\n",
    "        dict_vis[\"children\"].append(new_el)\n",
    "        \n",
    "    return dict_vis\n",
    "\n",
    "my_dict = go_further(data, name=\"statement_info\")\n",
    "\n",
    "with open(f\"{directory_visualizations}/data.json\", \"w\") as f:\n",
    "    json.dump(my_dict, f)\n",
    "\n",
    "print(f\"Checkout visualization by: \\n1) cd ../visualizations \\n2) python -m http.server \\n3) in browser, open: http://localhost:8000/\")"
   ]
  },
  {
   "cell_type": "markdown",
   "metadata": {},
   "source": [
    "## Biggest liars pants on fire"
   ]
  },
  {
   "cell_type": "markdown",
   "metadata": {},
   "source": [
    "Here are the people who most lie ordered by their proportion of pants on fire."
   ]
  },
  {
   "cell_type": "code",
   "execution_count": 140,
   "metadata": {},
   "outputs": [],
   "source": [
    "people_pants_classification = statements[['speaker_first_name', 'speaker_last_name', 'label', 'speaker_home_state']]\n",
    "#people_pants_classification[(people_pants_classification['speaker_first_name'].isnull() | people_pants_classification['speaker_first_name'].str.strip().eq('')) == False][:1].values\n",
    "\n",
    "# We want to keep only people which have both a first-name and a last-name (not totaly perfect)\n",
    "people_pants_classification = people_pants_classification[((people_pants_classification['speaker_first_name'].isnull() |\n",
    "                                                           people_pants_classification['speaker_first_name'].str.strip().eq('')) == False)]\n",
    "people_pants_classification = people_pants_classification[((people_pants_classification['speaker_last_name'].isnull() |\n",
    "                                                           people_pants_classification['speaker_last_name'].str.strip().eq('')) == False)]\n",
    "people_pants_classification = people_pants_classification[((people_pants_classification['label'].isnull() |\n",
    "                                                           people_pants_classification['label'].str.strip().eq('')) == False)]\n",
    "\n",
    "_blop = people_pants_classification[['speaker_first_name', 'speaker_last_name']].groupby(['speaker_first_name', 'speaker_last_name']).size().reset_index()\n",
    "_blopblop = people_pants_classification.groupby(['speaker_first_name', 'speaker_last_name', 'label']).size().reset_index().rename(columns={'0':'nb_labeled_statements'})\n",
    "\n",
    "statement_percentage = pd.merge(_blopblop,_blop,on=['speaker_first_name', 'speaker_last_name'])\n",
    "\n",
    "statement_percentage['statements_perc'] = statement_percentage['0_x']/statement_percentage['0_y']\n",
    "#statement_percentage.sample(5)"
   ]
  },
  {
   "cell_type": "markdown",
   "metadata": {},
   "source": [
    "#### Pants on fire analysis"
   ]
  },
  {
   "cell_type": "code",
   "execution_count": 141,
   "metadata": {},
   "outputs": [],
   "source": [
    "statement_percentage_cleaned = statement_percentage.loc[statement_percentage['label']=='pants-fire'].sort_values(by='statements_perc', ascending=False)"
   ]
  },
  {
   "cell_type": "markdown",
   "metadata": {},
   "source": [
    "#### We need people who have at least a certain number of statements to limit bias"
   ]
  },
  {
   "cell_type": "code",
   "execution_count": 142,
   "metadata": {},
   "outputs": [
    {
     "name": "stdout",
     "output_type": "stream",
     "text": [
      "The 10 badest guys with the highest percentage of pants on fire are:\n"
     ]
    },
    {
     "data": {
      "text/html": [
       "<div>\n",
       "<style scoped>\n",
       "    .dataframe tbody tr th:only-of-type {\n",
       "        vertical-align: middle;\n",
       "    }\n",
       "\n",
       "    .dataframe tbody tr th {\n",
       "        vertical-align: top;\n",
       "    }\n",
       "\n",
       "    .dataframe thead th {\n",
       "        text-align: right;\n",
       "    }\n",
       "</style>\n",
       "<table border=\"1\" class=\"dataframe\">\n",
       "  <thead>\n",
       "    <tr style=\"text-align: right;\">\n",
       "      <th></th>\n",
       "      <th>speaker_first_name</th>\n",
       "      <th>speaker_last_name</th>\n",
       "      <th>label</th>\n",
       "      <th>0_x</th>\n",
       "      <th>0_y</th>\n",
       "      <th>statements_perc</th>\n",
       "    </tr>\n",
       "  </thead>\n",
       "  <tbody>\n",
       "    <tr>\n",
       "      <th>3746</th>\n",
       "      <td>Michele</td>\n",
       "      <td>Bachmann</td>\n",
       "      <td>pants-fire</td>\n",
       "      <td>16</td>\n",
       "      <td>61</td>\n",
       "      <td>0.262295</td>\n",
       "    </tr>\n",
       "    <tr>\n",
       "      <th>4668</th>\n",
       "      <td>Rush</td>\n",
       "      <td>Limbaugh</td>\n",
       "      <td>pants-fire</td>\n",
       "      <td>10</td>\n",
       "      <td>39</td>\n",
       "      <td>0.256410</td>\n",
       "    </tr>\n",
       "    <tr>\n",
       "      <th>2840</th>\n",
       "      <td>Josh</td>\n",
       "      <td>Mandel</td>\n",
       "      <td>pants-fire</td>\n",
       "      <td>6</td>\n",
       "      <td>29</td>\n",
       "      <td>0.206897</td>\n",
       "    </tr>\n",
       "    <tr>\n",
       "      <th>1824</th>\n",
       "      <td>Glenn</td>\n",
       "      <td>Beck</td>\n",
       "      <td>pants-fire</td>\n",
       "      <td>6</td>\n",
       "      <td>31</td>\n",
       "      <td>0.193548</td>\n",
       "    </tr>\n",
       "    <tr>\n",
       "      <th>1079</th>\n",
       "      <td>Dan</td>\n",
       "      <td>Patrick</td>\n",
       "      <td>pants-fire</td>\n",
       "      <td>6</td>\n",
       "      <td>32</td>\n",
       "      <td>0.187500</td>\n",
       "    </tr>\n",
       "    <tr>\n",
       "      <th>637</th>\n",
       "      <td>Bruce</td>\n",
       "      <td>Rauner</td>\n",
       "      <td>pants-fire</td>\n",
       "      <td>4</td>\n",
       "      <td>23</td>\n",
       "      <td>0.173913</td>\n",
       "    </tr>\n",
       "    <tr>\n",
       "      <th>116</th>\n",
       "      <td>Allen</td>\n",
       "      <td>West</td>\n",
       "      <td>pants-fire</td>\n",
       "      <td>4</td>\n",
       "      <td>26</td>\n",
       "      <td>0.153846</td>\n",
       "    </tr>\n",
       "    <tr>\n",
       "      <th>1395</th>\n",
       "      <td>Donald</td>\n",
       "      <td>Trump</td>\n",
       "      <td>pants-fire</td>\n",
       "      <td>92</td>\n",
       "      <td>639</td>\n",
       "      <td>0.143975</td>\n",
       "    </tr>\n",
       "    <tr>\n",
       "      <th>340</th>\n",
       "      <td>Ben</td>\n",
       "      <td>Carson</td>\n",
       "      <td>pants-fire</td>\n",
       "      <td>4</td>\n",
       "      <td>28</td>\n",
       "      <td>0.142857</td>\n",
       "    </tr>\n",
       "    <tr>\n",
       "      <th>3970</th>\n",
       "      <td>Newt</td>\n",
       "      <td>Gingrich</td>\n",
       "      <td>pants-fire</td>\n",
       "      <td>12</td>\n",
       "      <td>86</td>\n",
       "      <td>0.139535</td>\n",
       "    </tr>\n",
       "  </tbody>\n",
       "</table>\n",
       "</div>"
      ],
      "text/plain": [
       "     speaker_first_name speaker_last_name       label  0_x  0_y  \\\n",
       "3746            Michele          Bachmann  pants-fire   16   61   \n",
       "4668               Rush          Limbaugh  pants-fire   10   39   \n",
       "2840               Josh            Mandel  pants-fire    6   29   \n",
       "1824              Glenn              Beck  pants-fire    6   31   \n",
       "1079                Dan           Patrick  pants-fire    6   32   \n",
       "637               Bruce            Rauner  pants-fire    4   23   \n",
       "116               Allen              West  pants-fire    4   26   \n",
       "1395             Donald             Trump  pants-fire   92  639   \n",
       "340                 Ben            Carson  pants-fire    4   28   \n",
       "3970               Newt          Gingrich  pants-fire   12   86   \n",
       "\n",
       "      statements_perc  \n",
       "3746         0.262295  \n",
       "4668         0.256410  \n",
       "2840         0.206897  \n",
       "1824         0.193548  \n",
       "1079         0.187500  \n",
       "637          0.173913  \n",
       "116          0.153846  \n",
       "1395         0.143975  \n",
       "340          0.142857  \n",
       "3970         0.139535  "
      ]
     },
     "execution_count": 142,
     "metadata": {},
     "output_type": "execute_result"
    }
   ],
   "source": [
    "statement_percentage_cleaned_numerous = statement_percentage_cleaned.loc[statement_percentage_cleaned['0_y']>20]\n",
    "print('The 10 badest guys with the highest percentage of pants on fire are:')\n",
    "statement_percentage_cleaned_numerous.head(10)"
   ]
  },
  {
   "cell_type": "code",
   "execution_count": 143,
   "metadata": {},
   "outputs": [
    {
     "data": {
      "text/html": [
       "<div>\n",
       "<style scoped>\n",
       "    .dataframe tbody tr th:only-of-type {\n",
       "        vertical-align: middle;\n",
       "    }\n",
       "\n",
       "    .dataframe tbody tr th {\n",
       "        vertical-align: top;\n",
       "    }\n",
       "\n",
       "    .dataframe thead th {\n",
       "        text-align: right;\n",
       "    }\n",
       "</style>\n",
       "<table border=\"1\" class=\"dataframe\">\n",
       "  <thead>\n",
       "    <tr style=\"text-align: right;\">\n",
       "      <th></th>\n",
       "      <th>speaker_first_name</th>\n",
       "      <th>speaker_last_name</th>\n",
       "      <th>label</th>\n",
       "      <th>0_x</th>\n",
       "      <th>0_y</th>\n",
       "      <th>statements_perc</th>\n",
       "    </tr>\n",
       "  </thead>\n",
       "  <tbody>\n",
       "    <tr>\n",
       "      <th>3625</th>\n",
       "      <td>Matthew</td>\n",
       "      <td>Rosendale</td>\n",
       "      <td>pants-fire</td>\n",
       "      <td>2</td>\n",
       "      <td>2</td>\n",
       "      <td>1.0</td>\n",
       "    </tr>\n",
       "    <tr>\n",
       "      <th>2939</th>\n",
       "      <td>Kathie</td>\n",
       "      <td>Glass</td>\n",
       "      <td>pants-fire</td>\n",
       "      <td>2</td>\n",
       "      <td>2</td>\n",
       "      <td>1.0</td>\n",
       "    </tr>\n",
       "    <tr>\n",
       "      <th>1850</th>\n",
       "      <td>Graeme</td>\n",
       "      <td>Zielinski</td>\n",
       "      <td>pants-fire</td>\n",
       "      <td>2</td>\n",
       "      <td>2</td>\n",
       "      <td>1.0</td>\n",
       "    </tr>\n",
       "    <tr>\n",
       "      <th>2847</th>\n",
       "      <td>Joshua</td>\n",
       "      <td>Feuerstein</td>\n",
       "      <td>pants-fire</td>\n",
       "      <td>2</td>\n",
       "      <td>2</td>\n",
       "      <td>1.0</td>\n",
       "    </tr>\n",
       "    <tr>\n",
       "      <th>5022</th>\n",
       "      <td>Steve</td>\n",
       "      <td>Kagen</td>\n",
       "      <td>pants-fire</td>\n",
       "      <td>2</td>\n",
       "      <td>2</td>\n",
       "      <td>1.0</td>\n",
       "    </tr>\n",
       "    <tr>\n",
       "      <th>5441</th>\n",
       "      <td>Uspoln</td>\n",
       "      <td>Website</td>\n",
       "      <td>pants-fire</td>\n",
       "      <td>4</td>\n",
       "      <td>4</td>\n",
       "      <td>1.0</td>\n",
       "    </tr>\n",
       "    <tr>\n",
       "      <th>1064</th>\n",
       "      <td>Dan</td>\n",
       "      <td>Kapanke</td>\n",
       "      <td>pants-fire</td>\n",
       "      <td>2</td>\n",
       "      <td>2</td>\n",
       "      <td>1.0</td>\n",
       "    </tr>\n",
       "    <tr>\n",
       "      <th>1039</th>\n",
       "      <td>Daily World</td>\n",
       "      <td>Update</td>\n",
       "      <td>pants-fire</td>\n",
       "      <td>4</td>\n",
       "      <td>4</td>\n",
       "      <td>1.0</td>\n",
       "    </tr>\n",
       "    <tr>\n",
       "      <th>641</th>\n",
       "      <td>Bryan</td>\n",
       "      <td>Fischer</td>\n",
       "      <td>pants-fire</td>\n",
       "      <td>2</td>\n",
       "      <td>2</td>\n",
       "      <td>1.0</td>\n",
       "    </tr>\n",
       "    <tr>\n",
       "      <th>363</th>\n",
       "      <td>Betsy</td>\n",
       "      <td>McCaughey</td>\n",
       "      <td>pants-fire</td>\n",
       "      <td>2</td>\n",
       "      <td>2</td>\n",
       "      <td>1.0</td>\n",
       "    </tr>\n",
       "  </tbody>\n",
       "</table>\n",
       "</div>"
      ],
      "text/plain": [
       "     speaker_first_name speaker_last_name       label  0_x  0_y  \\\n",
       "3625            Matthew         Rosendale  pants-fire    2    2   \n",
       "2939             Kathie             Glass  pants-fire    2    2   \n",
       "1850             Graeme         Zielinski  pants-fire    2    2   \n",
       "2847             Joshua        Feuerstein  pants-fire    2    2   \n",
       "5022              Steve             Kagen  pants-fire    2    2   \n",
       "5441             Uspoln           Website  pants-fire    4    4   \n",
       "1064                Dan           Kapanke  pants-fire    2    2   \n",
       "1039       Daily World             Update  pants-fire    4    4   \n",
       "641               Bryan           Fischer  pants-fire    2    2   \n",
       "363               Betsy         McCaughey  pants-fire    2    2   \n",
       "\n",
       "      statements_perc  \n",
       "3625              1.0  \n",
       "2939              1.0  \n",
       "1850              1.0  \n",
       "2847              1.0  \n",
       "5022              1.0  \n",
       "5441              1.0  \n",
       "1064              1.0  \n",
       "1039              1.0  \n",
       "641               1.0  \n",
       "363               1.0  "
      ]
     },
     "execution_count": 143,
     "metadata": {},
     "output_type": "execute_result"
    }
   ],
   "source": [
    "statement_percentage_cleaned = statement_percentage_cleaned.loc[statement_percentage_cleaned['0_y']>1]\n",
    "statement_percentage_cleaned.head(10)"
   ]
  },
  {
   "cell_type": "code",
   "execution_count": 144,
   "metadata": {},
   "outputs": [],
   "source": [
    "%matplotlib inline\n",
    "#statement_percentage_cleaned.plot(kind='scatter' y='statements_perc')\n",
    "import seaborn as sns"
   ]
  },
  {
   "cell_type": "code",
   "execution_count": 145,
   "metadata": {},
   "outputs": [
    {
     "data": {
      "text/plain": [
       "<matplotlib.axes._subplots.AxesSubplot at 0x1a23526198>"
      ]
     },
     "execution_count": 145,
     "metadata": {},
     "output_type": "execute_result"
    },
    {
     "data": {
      "image/png": "[encoded data removed]",
      "text/plain": [
       "<Figure size 432x288 with 1 Axes>"
      ]
     },
     "metadata": {},
     "output_type": "display_data"
    }
   ],
   "source": [
    "sns.distplot(statement_percentage_cleaned['0_y'], bins=50, kde=False, axlabel='number of statements for each person')"
   ]
  },
  {
   "cell_type": "code",
   "execution_count": 146,
   "metadata": {},
   "outputs": [
    {
     "data": {
      "text/plain": [
       "<matplotlib.axes._subplots.AxesSubplot at 0x1108900f0>"
      ]
     },
     "execution_count": 146,
     "metadata": {},
     "output_type": "execute_result"
    },
    {
     "data": {
      "image/png": "[encoded data removed]",
      "text/plain": [
       "<Figure size 432x288 with 1 Axes>"
      ]
     },
     "metadata": {},
     "output_type": "display_data"
    }
   ],
   "source": [
    "sns.distplot(statement_percentage_cleaned.statements_perc, bins=50, kde=False, axlabel='percentage of \"pants on fire\" for each person')"
   ]
  },
  {
   "cell_type": "code",
   "execution_count": 147,
   "metadata": {},
   "outputs": [],
   "source": [
    "# Column renaming does not work\n",
    "#.rename(columns={'0':'nb_statements'})\n",
    "# to rename the column of counts df = df.rename(columns={'oldName1': 'newName1', 'oldName2': 'newName2'})\n",
    "# _blop.rename(columns='0':'nb_statements')"
   ]
  },
  {
   "cell_type": "code",
   "execution_count": 148,
   "metadata": {},
   "outputs": [
    {
     "data": {
      "text/html": [
       "<div>\n",
       "<style scoped>\n",
       "    .dataframe tbody tr th:only-of-type {\n",
       "        vertical-align: middle;\n",
       "    }\n",
       "\n",
       "    .dataframe tbody tr th {\n",
       "        vertical-align: top;\n",
       "    }\n",
       "\n",
       "    .dataframe thead th {\n",
       "        text-align: right;\n",
       "    }\n",
       "</style>\n",
       "<table border=\"1\" class=\"dataframe\">\n",
       "  <thead>\n",
       "    <tr style=\"text-align: right;\">\n",
       "      <th></th>\n",
       "      <th>speaker_first_name</th>\n",
       "      <th>speaker_last_name</th>\n",
       "      <th>0</th>\n",
       "    </tr>\n",
       "  </thead>\n",
       "  <tbody>\n",
       "    <tr>\n",
       "      <th>774</th>\n",
       "      <td>Donald</td>\n",
       "      <td>Trump</td>\n",
       "      <td>639</td>\n",
       "    </tr>\n",
       "    <tr>\n",
       "      <th>1114</th>\n",
       "      <td>Ivanka</td>\n",
       "      <td>Trump</td>\n",
       "      <td>7</td>\n",
       "    </tr>\n",
       "  </tbody>\n",
       "</table>\n",
       "</div>"
      ],
      "text/plain": [
       "     speaker_first_name speaker_last_name    0\n",
       "774              Donald             Trump  639\n",
       "1114             Ivanka             Trump    7"
      ]
     },
     "execution_count": 148,
     "metadata": {},
     "output_type": "execute_result"
    }
   ],
   "source": [
    "# Verification, not needed\n",
    "_blop[_blop['speaker_last_name'].eq('Trump')]"
   ]
  },
  {
   "cell_type": "code",
   "execution_count": null,
   "metadata": {},
   "outputs": [],
   "source": []
  }
 ],
 "metadata": {
  "hide_input": false,
  "kernelspec": {
   "display_name": "Python 3",
   "language": "python",
   "name": "python3"
  },
  "language_info": {
   "codemirror_mode": {
    "name": "ipython",
    "version": 3
   },
   "file_extension": ".py",
   "mimetype": "text/x-python",
   "name": "python",
   "nbconvert_exporter": "python",
   "pygments_lexer": "ipython3",
   "version": "3.6.5"
  },
  "toc": {
   "base_numbering": 1,
   "nav_menu": {
    "height": "49.1333px",
    "width": "252px"
   },
   "number_sections": true,
   "sideBar": true,
   "skip_h1_title": false,
   "title_cell": "Table of Contents",
   "title_sidebar": "Contents",
   "toc_cell": false,
   "toc_position": {},
   "toc_section_display": "block",
   "toc_window_display": false
  }
 },
 "nbformat": 4,
 "nbformat_minor": 2
}
