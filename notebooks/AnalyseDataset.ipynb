{
 "cells": [
  {
   "cell_type": "markdown",
   "metadata": {
    "heading_collapsed": true
   },
   "source": [
    "# Analysing Dataset"
   ]
  },
  {
   "cell_type": "code",
   "execution_count": 1,
   "metadata": {
    "ExecuteTime": {
     "end_time": "2018-12-13T16:22:16.844191Z",
     "start_time": "2018-12-13T16:22:16.823986Z"
    },
    "hidden": true
   },
   "outputs": [
    {
     "data": {
      "text/html": [
       "<style>.container { width:95% !important; }</style>"
      ],
      "text/plain": [
       "<IPython.core.display.HTML object>"
      ]
     },
     "metadata": {},
     "output_type": "display_data"
    }
   ],
   "source": [
    "def fix_layout(width:int=95):\n",
    "    from IPython.core.display import display, HTML\n",
    "    display(HTML('<style>.container { width:' + str(width) + '% !important; }</style>'))\n",
    "    \n",
    "fix_layout()"
   ]
  },
  {
   "cell_type": "markdown",
   "metadata": {
    "hidden": true
   },
   "source": [
    "This notebook is dedicated to datasets analysis. \n",
    "\n",
    "Here we will concentrate on connecting our datasets into one dataframe that will later be used to extract meaningful information that can help us answer our research questions. \n",
    "\n",
    "In addition, data cleaning is performed where necessary since we will not use all the data provided. The goal of this notebook is to make data as easy as possible to use for future plotting and data story writing.\n",
    "\n",
    "So, let's dive into our data!"
   ]
  },
  {
   "cell_type": "code",
   "execution_count": 2,
   "metadata": {
    "ExecuteTime": {
     "end_time": "2018-12-13T17:32:43.676648Z",
     "start_time": "2018-12-13T17:32:43.666025Z"
    },
    "hidden": true
   },
   "outputs": [
    {
     "data": {
      "text/plain": [
       "<module 'utils.statement_handling' from '../src/utils/statement_handling.py'>"
      ]
     },
     "execution_count": 2,
     "metadata": {},
     "output_type": "execute_result"
    }
   ],
   "source": [
    "import os\n",
    "import re\n",
    "import json\n",
    "import time\n",
    "import datetime\n",
    "from functools import reduce\n",
    "from itertools import product\n",
    "\n",
    "from json import load, JSONDecodeError\n",
    "from functional import pseq, seq\n",
    "import pandas as pd\n",
    "import pandas_profiling\n",
    "import requests\n",
    "import pathlib\n",
    "\n",
    "# necessary to load the utils, which are in src\n",
    "import sys\n",
    "sys.path.append('../src')\n",
    "\n",
    "from utils import file, logging\n",
    "from utils.statement_handling import extract_information, safe_json_read\n",
    "\n",
    "from importlib import reload\n",
    "\n",
    "import utils.statement_handling as SH\n",
    "reload(SH)"
   ]
  },
  {
   "cell_type": "code",
   "execution_count": 3,
   "metadata": {
    "ExecuteTime": {
     "end_time": "2018-12-13T16:22:20.508943Z",
     "start_time": "2018-12-13T16:22:20.503617Z"
    },
    "hidden": true
   },
   "outputs": [],
   "source": [
    "def group_and_count(df, groupby_column, with_pct=False, with_avg=False):\n",
    "    result = df.groupby(groupby_column).size().sort_values(ascending=False).reset_index().rename(columns={0: 'count'})\n",
    "    if with_pct:\n",
    "        result['count_pct'] = result['count'] / result['count'].sum()\n",
    "    if with_avg:\n",
    "        result['count_avg'] = result['count'].mean()\n",
    "    return result"
   ]
  },
  {
   "cell_type": "code",
   "execution_count": 4,
   "metadata": {
    "ExecuteTime": {
     "end_time": "2018-12-13T16:22:22.023282Z",
     "start_time": "2018-12-13T16:22:22.016409Z"
    },
    "hidden": true
   },
   "outputs": [],
   "source": [
    "directory_liar_dataset = \"../data/liar_dataset\"\n",
    "directory_statements = f\"{directory_liar_dataset}/statements\"\n",
    "directory_visualizations = \"../docs/data_insight\"\n",
    "directory_election_results = \"../data/election_results\"\n",
    "directory_county_data = \"../data/county_data\""
   ]
  },
  {
   "cell_type": "markdown",
   "metadata": {},
   "source": [
    "# LIAR Dataset"
   ]
  },
  {
   "cell_type": "markdown",
   "metadata": {},
   "source": [
    "This is just the LIAR dataset:"
   ]
  },
  {
   "cell_type": "code",
   "execution_count": 5,
   "metadata": {
    "ExecuteTime": {
     "end_time": "2018-12-13T16:57:40.678636Z",
     "start_time": "2018-12-13T16:57:37.652081Z"
    }
   },
   "outputs": [
    {
     "name": "stderr",
     "output_type": "stream",
     "text": [
      "ERROR:root:File ../data/liar_dataset/statements/5355.json is empty or something...\n",
      "ERROR:root:File ../data/liar_dataset/statements/9.json is empty or something...\n"
     ]
    },
    {
     "data": {
      "text/html": [
       "<div>\n",
       "<style scoped>\n",
       "    .dataframe tbody tr th:only-of-type {\n",
       "        vertical-align: middle;\n",
       "    }\n",
       "\n",
       "    .dataframe tbody tr th {\n",
       "        vertical-align: top;\n",
       "    }\n",
       "\n",
       "    .dataframe thead th {\n",
       "        text-align: right;\n",
       "    }\n",
       "</style>\n",
       "<table border=\"1\" class=\"dataframe\">\n",
       "  <thead>\n",
       "    <tr style=\"text-align: right;\">\n",
       "      <th></th>\n",
       "      <th>author_name_slug</th>\n",
       "      <th>context</th>\n",
       "      <th>label</th>\n",
       "      <th>ruling_date</th>\n",
       "      <th>speaker_current_job</th>\n",
       "      <th>speaker_first_name</th>\n",
       "      <th>speaker_home_state</th>\n",
       "      <th>speaker_last_name</th>\n",
       "      <th>statement</th>\n",
       "      <th>statement_date</th>\n",
       "      <th>statement_id</th>\n",
       "      <th>statement_type</th>\n",
       "      <th>statement_type_description</th>\n",
       "      <th>subject</th>\n",
       "    </tr>\n",
       "  </thead>\n",
       "  <tbody>\n",
       "    <tr>\n",
       "      <th>3275</th>\n",
       "      <td>linda-qiu</td>\n",
       "      <td>a speech in Florissant, Mo.</td>\n",
       "      <td>mostly-true</td>\n",
       "      <td>2015-06-25T16:52:09</td>\n",
       "      <td>Presidential candidate</td>\n",
       "      <td>Hillary</td>\n",
       "      <td>New York</td>\n",
       "      <td>Clinton</td>\n",
       "      <td>American&amp;nbsp;schools are more segregated than...</td>\n",
       "      <td>2015-06-23</td>\n",
       "      <td>10999</td>\n",
       "      <td>Claim</td>\n",
       "      <td>blog post</td>\n",
       "      <td>Civil Rights</td>\n",
       "    </tr>\n",
       "    <tr>\n",
       "      <th>9082</th>\n",
       "      <td>robert-farley</td>\n",
       "      <td>the televised health care summit</td>\n",
       "      <td>true</td>\n",
       "      <td>2010-02-25T12:37:03</td>\n",
       "      <td>Senate Democratic Leader</td>\n",
       "      <td>Harry</td>\n",
       "      <td>Nevada</td>\n",
       "      <td>Reid</td>\n",
       "      <td>Since 1981, reconciliation has been used 21 ti...</td>\n",
       "      <td>2010-02-25</td>\n",
       "      <td>1519</td>\n",
       "      <td>Claim</td>\n",
       "      <td>blog post</td>\n",
       "      <td>Bipartisanship</td>\n",
       "    </tr>\n",
       "    <tr>\n",
       "      <th>9999</th>\n",
       "      <td>adriel-bettelheim</td>\n",
       "      <td>a speech in Westerville, Ohio</td>\n",
       "      <td>true</td>\n",
       "      <td>2008-03-03T00:00:00</td>\n",
       "      <td>President</td>\n",
       "      <td>Barack</td>\n",
       "      <td>Illinois</td>\n",
       "      <td>Obama</td>\n",
       "      <td>Says Clinton did not read the National Intelli...</td>\n",
       "      <td>2008-03-01</td>\n",
       "      <td>385</td>\n",
       "      <td>Attack</td>\n",
       "      <td>&lt;p&gt;\\r\\n\\tA criticism of a candidate.&lt;/p&gt;\\r\\n</td>\n",
       "      <td>Iraq</td>\n",
       "    </tr>\n",
       "    <tr>\n",
       "      <th>9079</th>\n",
       "      <td>tom-kertscher</td>\n",
       "      <td>a speech</td>\n",
       "      <td>true</td>\n",
       "      <td>2013-05-30T09:00:00</td>\n",
       "      <td>State Assembly member, 78th District</td>\n",
       "      <td>Mark</td>\n",
       "      <td>Wisconsin</td>\n",
       "      <td>Pocan</td>\n",
       "      <td>&lt;p dir=ltr id=docs-internal-guid-60c16d7d-f1a0...</td>\n",
       "      <td>2013-05-13</td>\n",
       "      <td>7834</td>\n",
       "      <td>Claim</td>\n",
       "      <td>blog post</td>\n",
       "      <td>Elections</td>\n",
       "    </tr>\n",
       "    <tr>\n",
       "      <th>3576</th>\n",
       "      <td>robert-farley</td>\n",
       "      <td>a press release</td>\n",
       "      <td>false</td>\n",
       "      <td>2009-05-21T18:14:21</td>\n",
       "      <td>Congresswoman</td>\n",
       "      <td>Michele</td>\n",
       "      <td>Minnesota</td>\n",
       "      <td>Bachmann</td>\n",
       "      <td>ACORN could get up to $8.5 billion more tax do...</td>\n",
       "      <td>2009-05-06</td>\n",
       "      <td>1025</td>\n",
       "      <td>Claim</td>\n",
       "      <td>blog post</td>\n",
       "      <td>Federal Budget</td>\n",
       "    </tr>\n",
       "    <tr>\n",
       "      <th>7054</th>\n",
       "      <td>jon-greenberg</td>\n",
       "      <td>an interview on Fox News</td>\n",
       "      <td>barely-true</td>\n",
       "      <td>2014-11-13T16:47:47</td>\n",
       "      <td>Fox News political analyst</td>\n",
       "      <td>Brit</td>\n",
       "      <td></td>\n",
       "      <td>Hume</td>\n",
       "      <td>It is senior citizens, not Hispanics, who are ...</td>\n",
       "      <td>2014-11-10</td>\n",
       "      <td>10213</td>\n",
       "      <td>Claim</td>\n",
       "      <td>blog post</td>\n",
       "      <td>Elections</td>\n",
       "    </tr>\n",
       "    <tr>\n",
       "      <th>8196</th>\n",
       "      <td>mb-pell</td>\n",
       "      <td>a Twitter post</td>\n",
       "      <td>pants-fire</td>\n",
       "      <td>2011-08-29T06:00:00</td>\n",
       "      <td></td>\n",
       "      <td>Newt</td>\n",
       "      <td>Georgia</td>\n",
       "      <td>Gingrich</td>\n",
       "      <td>We spend less on defense today as % of GDP tha...</td>\n",
       "      <td>2011-07-20</td>\n",
       "      <td>4347</td>\n",
       "      <td>Claim</td>\n",
       "      <td>blog post</td>\n",
       "      <td>Federal Budget</td>\n",
       "    </tr>\n",
       "    <tr>\n",
       "      <th>1155</th>\n",
       "      <td>susan-areson</td>\n",
       "      <td>a headline</td>\n",
       "      <td>pants-fire</td>\n",
       "      <td>2017-09-19T15:00:08</td>\n",
       "      <td></td>\n",
       "      <td></td>\n",
       "      <td></td>\n",
       "      <td>NYDailyNews-TV.com</td>\n",
       "      <td>U.S. comedian Kevin Hart in critical condition...</td>\n",
       "      <td>2017-09-18</td>\n",
       "      <td>14543</td>\n",
       "      <td>Claim</td>\n",
       "      <td>blog post</td>\n",
       "      <td>Fake news</td>\n",
       "    </tr>\n",
       "    <tr>\n",
       "      <th>8208</th>\n",
       "      <td>peter-krouse</td>\n",
       "      <td>a news release</td>\n",
       "      <td>mostly-true</td>\n",
       "      <td>2011-11-02T06:00:00</td>\n",
       "      <td>U.S. representative</td>\n",
       "      <td>Tim</td>\n",
       "      <td>Ohio</td>\n",
       "      <td>Ryan</td>\n",
       "      <td>Attacks on Planned Parenthood come at a time w...</td>\n",
       "      <td>2011-09-28</td>\n",
       "      <td>4717</td>\n",
       "      <td>Claim</td>\n",
       "      <td>blog post</td>\n",
       "      <td>Health Care</td>\n",
       "    </tr>\n",
       "    <tr>\n",
       "      <th>6474</th>\n",
       "      <td>meghan-ashford-grooms</td>\n",
       "      <td>a press release.</td>\n",
       "      <td>half-true</td>\n",
       "      <td>2011-10-27T12:03:10</td>\n",
       "      <td>Former governor</td>\n",
       "      <td>Mitt</td>\n",
       "      <td>Massachusetts</td>\n",
       "      <td>Romney</td>\n",
       "      <td>Says Texas unemployment is dire in various way...</td>\n",
       "      <td>2011-10-26</td>\n",
       "      <td>4688</td>\n",
       "      <td>Claim</td>\n",
       "      <td>blog post</td>\n",
       "      <td>Economy</td>\n",
       "    </tr>\n",
       "  </tbody>\n",
       "</table>\n",
       "</div>"
      ],
      "text/plain": [
       "           author_name_slug                           context        label  \\\n",
       "3275              linda-qiu       a speech in Florissant, Mo.  mostly-true   \n",
       "9082          robert-farley  the televised health care summit         true   \n",
       "9999      adriel-bettelheim     a speech in Westerville, Ohio         true   \n",
       "9079          tom-kertscher                          a speech         true   \n",
       "3576          robert-farley                   a press release        false   \n",
       "7054          jon-greenberg          an interview on Fox News  barely-true   \n",
       "8196                mb-pell                    a Twitter post   pants-fire   \n",
       "1155           susan-areson                        a headline   pants-fire   \n",
       "8208           peter-krouse                    a news release  mostly-true   \n",
       "6474  meghan-ashford-grooms                  a press release.    half-true   \n",
       "\n",
       "              ruling_date                   speaker_current_job  \\\n",
       "3275  2015-06-25T16:52:09                Presidential candidate   \n",
       "9082  2010-02-25T12:37:03              Senate Democratic Leader   \n",
       "9999  2008-03-03T00:00:00                             President   \n",
       "9079  2013-05-30T09:00:00  State Assembly member, 78th District   \n",
       "3576  2009-05-21T18:14:21                         Congresswoman   \n",
       "7054  2014-11-13T16:47:47            Fox News political analyst   \n",
       "8196  2011-08-29T06:00:00                                         \n",
       "1155  2017-09-19T15:00:08                                         \n",
       "8208  2011-11-02T06:00:00                  U.S. representative    \n",
       "6474  2011-10-27T12:03:10                       Former governor   \n",
       "\n",
       "     speaker_first_name speaker_home_state   speaker_last_name  \\\n",
       "3275            Hillary           New York             Clinton   \n",
       "9082              Harry             Nevada                Reid   \n",
       "9999             Barack           Illinois               Obama   \n",
       "9079               Mark          Wisconsin               Pocan   \n",
       "3576            Michele          Minnesota            Bachmann   \n",
       "7054              Brit                                    Hume   \n",
       "8196               Newt            Georgia            Gingrich   \n",
       "1155                                        NYDailyNews-TV.com   \n",
       "8208                Tim               Ohio                Ryan   \n",
       "6474               Mitt      Massachusetts              Romney   \n",
       "\n",
       "                                              statement statement_date  \\\n",
       "3275  American&nbsp;schools are more segregated than...     2015-06-23   \n",
       "9082  Since 1981, reconciliation has been used 21 ti...     2010-02-25   \n",
       "9999  Says Clinton did not read the National Intelli...     2008-03-01   \n",
       "9079  <p dir=ltr id=docs-internal-guid-60c16d7d-f1a0...     2013-05-13   \n",
       "3576  ACORN could get up to $8.5 billion more tax do...     2009-05-06   \n",
       "7054  It is senior citizens, not Hispanics, who are ...     2014-11-10   \n",
       "8196  We spend less on defense today as % of GDP tha...     2011-07-20   \n",
       "1155  U.S. comedian Kevin Hart in critical condition...     2017-09-18   \n",
       "8208  Attacks on Planned Parenthood come at a time w...     2011-09-28   \n",
       "6474  Says Texas unemployment is dire in various way...     2011-10-26   \n",
       "\n",
       "      statement_id statement_type  \\\n",
       "3275         10999          Claim   \n",
       "9082          1519          Claim   \n",
       "9999           385         Attack   \n",
       "9079          7834          Claim   \n",
       "3576          1025          Claim   \n",
       "7054         10213          Claim   \n",
       "8196          4347          Claim   \n",
       "1155         14543          Claim   \n",
       "8208          4717          Claim   \n",
       "6474          4688          Claim   \n",
       "\n",
       "                        statement_type_description         subject  \n",
       "3275                                    blog post     Civil Rights  \n",
       "9082                                    blog post   Bipartisanship  \n",
       "9999  <p>\\r\\n\\tA criticism of a candidate.</p>\\r\\n            Iraq  \n",
       "9079                                    blog post        Elections  \n",
       "3576                                    blog post   Federal Budget  \n",
       "7054                                    blog post        Elections  \n",
       "8196                                    blog post   Federal Budget  \n",
       "1155                                    blog post        Fake news  \n",
       "8208                                    blog post      Health Care  \n",
       "6474                                    blog post          Economy  "
      ]
     },
     "execution_count": 5,
     "metadata": {},
     "output_type": "execute_result"
    }
   ],
   "source": [
    "statements = seq(pathlib.Path(directory_statements).iterdir()).map(safe_json_read)\\\n",
    "                               .filter(lambda x: len(x) > 0)\\\n",
    "                               .map(extract_information)\\\n",
    "                               .to_pandas()\n",
    "\n",
    "statements['statement_date'] = pd.to_datetime(statements['statement_date'])\n",
    "statements.sample(10)"
   ]
  },
  {
   "cell_type": "code",
   "execution_count": 6,
   "metadata": {
    "ExecuteTime": {
     "end_time": "2018-12-13T16:57:46.633085Z",
     "start_time": "2018-12-13T16:57:46.629695Z"
    }
   },
   "outputs": [
    {
     "data": {
      "text/plain": [
       "646"
      ]
     },
     "execution_count": 6,
     "metadata": {},
     "output_type": "execute_result"
    }
   ],
   "source": [
    "statements['speaker_last_name'].eq('Trump').sum()"
   ]
  },
  {
   "cell_type": "code",
   "execution_count": 7,
   "metadata": {
    "ExecuteTime": {
     "end_time": "2018-12-13T16:58:00.916407Z",
     "start_time": "2018-12-13T16:58:00.895890Z"
    }
   },
   "outputs": [
    {
     "name": "stdout",
     "output_type": "stream",
     "text": [
      "The number of different context names is: 5828. That is much too many different contexts and lots of them appear only a few times. We thus need to regroup/reduce the number of contexts.\n"
     ]
    }
   ],
   "source": [
    "print('The number of different context names is: {}.\\\n",
    " That is much too many different contexts and lots of them appear only a few times.\\\n",
    " We thus need to regroup/reduce the number of contexts.'.format(group_and_count(statements, 'context').shape[0]))"
   ]
  },
  {
   "cell_type": "code",
   "execution_count": 8,
   "metadata": {
    "ExecuteTime": {
     "end_time": "2018-12-13T16:58:05.878502Z",
     "start_time": "2018-12-13T16:58:05.848183Z"
    }
   },
   "outputs": [
    {
     "data": {
      "text/html": [
       "<div>\n",
       "<style scoped>\n",
       "    .dataframe tbody tr th:only-of-type {\n",
       "        vertical-align: middle;\n",
       "    }\n",
       "\n",
       "    .dataframe tbody tr th {\n",
       "        vertical-align: top;\n",
       "    }\n",
       "\n",
       "    .dataframe thead th {\n",
       "        text-align: right;\n",
       "    }\n",
       "</style>\n",
       "<table border=\"1\" class=\"dataframe\">\n",
       "  <thead>\n",
       "    <tr style=\"text-align: right;\">\n",
       "      <th></th>\n",
       "      <th>context</th>\n",
       "      <th>count</th>\n",
       "    </tr>\n",
       "  </thead>\n",
       "  <tbody>\n",
       "    <tr>\n",
       "      <th>0</th>\n",
       "      <td>a tweet</td>\n",
       "      <td>471</td>\n",
       "    </tr>\n",
       "    <tr>\n",
       "      <th>1</th>\n",
       "      <td>an interview</td>\n",
       "      <td>380</td>\n",
       "    </tr>\n",
       "    <tr>\n",
       "      <th>2</th>\n",
       "      <td>a news release</td>\n",
       "      <td>329</td>\n",
       "    </tr>\n",
       "    <tr>\n",
       "      <th>3</th>\n",
       "      <td>a press release</td>\n",
       "      <td>325</td>\n",
       "    </tr>\n",
       "    <tr>\n",
       "      <th>4</th>\n",
       "      <td>a speech</td>\n",
       "      <td>319</td>\n",
       "    </tr>\n",
       "    <tr>\n",
       "      <th>5</th>\n",
       "      <td>a TV ad</td>\n",
       "      <td>275</td>\n",
       "    </tr>\n",
       "    <tr>\n",
       "      <th>6</th>\n",
       "      <td>a campaign ad</td>\n",
       "      <td>221</td>\n",
       "    </tr>\n",
       "    <tr>\n",
       "      <th>7</th>\n",
       "      <td>a headline</td>\n",
       "      <td>175</td>\n",
       "    </tr>\n",
       "    <tr>\n",
       "      <th>8</th>\n",
       "      <td>a television ad</td>\n",
       "      <td>168</td>\n",
       "    </tr>\n",
       "    <tr>\n",
       "      <th>9</th>\n",
       "      <td></td>\n",
       "      <td>166</td>\n",
       "    </tr>\n",
       "    <tr>\n",
       "      <th>10</th>\n",
       "      <td>a radio interview</td>\n",
       "      <td>158</td>\n",
       "    </tr>\n",
       "    <tr>\n",
       "      <th>11</th>\n",
       "      <td>a debate</td>\n",
       "      <td>148</td>\n",
       "    </tr>\n",
       "    <tr>\n",
       "      <th>12</th>\n",
       "      <td>a Facebook post</td>\n",
       "      <td>139</td>\n",
       "    </tr>\n",
       "    <tr>\n",
       "      <th>13</th>\n",
       "      <td>a blog post</td>\n",
       "      <td>133</td>\n",
       "    </tr>\n",
       "    <tr>\n",
       "      <th>14</th>\n",
       "      <td>a press conference</td>\n",
       "      <td>125</td>\n",
       "    </tr>\n",
       "    <tr>\n",
       "      <th>15</th>\n",
       "      <td>a news conference</td>\n",
       "      <td>118</td>\n",
       "    </tr>\n",
       "    <tr>\n",
       "      <th>16</th>\n",
       "      <td>a campaign commercial</td>\n",
       "      <td>93</td>\n",
       "    </tr>\n",
       "    <tr>\n",
       "      <th>17</th>\n",
       "      <td>a television interview</td>\n",
       "      <td>90</td>\n",
       "    </tr>\n",
       "    <tr>\n",
       "      <th>18</th>\n",
       "      <td>a TV interview</td>\n",
       "      <td>76</td>\n",
       "    </tr>\n",
       "    <tr>\n",
       "      <th>19</th>\n",
       "      <td>a speech.</td>\n",
       "      <td>73</td>\n",
       "    </tr>\n",
       "    <tr>\n",
       "      <th>20</th>\n",
       "      <td>an ad</td>\n",
       "      <td>66</td>\n",
       "    </tr>\n",
       "    <tr>\n",
       "      <th>21</th>\n",
       "      <td>a radio ad</td>\n",
       "      <td>64</td>\n",
       "    </tr>\n",
       "    <tr>\n",
       "      <th>22</th>\n",
       "      <td>a TV ad.</td>\n",
       "      <td>62</td>\n",
       "    </tr>\n",
       "    <tr>\n",
       "      <th>23</th>\n",
       "      <td>a press release.</td>\n",
       "      <td>59</td>\n",
       "    </tr>\n",
       "    <tr>\n",
       "      <th>24</th>\n",
       "      <td>an interview on CNN</td>\n",
       "      <td>55</td>\n",
       "    </tr>\n",
       "    <tr>\n",
       "      <th>25</th>\n",
       "      <td>a post on Facebook</td>\n",
       "      <td>54</td>\n",
       "    </tr>\n",
       "    <tr>\n",
       "      <th>26</th>\n",
       "      <td>an interview on Fox News</td>\n",
       "      <td>53</td>\n",
       "    </tr>\n",
       "    <tr>\n",
       "      <th>27</th>\n",
       "      <td>a chain e-mail</td>\n",
       "      <td>52</td>\n",
       "    </tr>\n",
       "    <tr>\n",
       "      <th>28</th>\n",
       "      <td>an interview.</td>\n",
       "      <td>51</td>\n",
       "    </tr>\n",
       "    <tr>\n",
       "      <th>29</th>\n",
       "      <td>a campaign mailer</td>\n",
       "      <td>50</td>\n",
       "    </tr>\n",
       "    <tr>\n",
       "      <th>...</th>\n",
       "      <td>...</td>\n",
       "      <td>...</td>\n",
       "    </tr>\n",
       "    <tr>\n",
       "      <th>70</th>\n",
       "      <td>ABC's \"This Week\"</td>\n",
       "      <td>23</td>\n",
       "    </tr>\n",
       "    <tr>\n",
       "      <th>71</th>\n",
       "      <td>an interview on ABC's \"This Week\"</td>\n",
       "      <td>23</td>\n",
       "    </tr>\n",
       "    <tr>\n",
       "      <th>72</th>\n",
       "      <td>a news conference.</td>\n",
       "      <td>22</td>\n",
       "    </tr>\n",
       "    <tr>\n",
       "      <th>73</th>\n",
       "      <td>in a blog post</td>\n",
       "      <td>22</td>\n",
       "    </tr>\n",
       "    <tr>\n",
       "      <th>74</th>\n",
       "      <td>a Twitter post</td>\n",
       "      <td>21</td>\n",
       "    </tr>\n",
       "    <tr>\n",
       "      <th>75</th>\n",
       "      <td>the second presidential debate</td>\n",
       "      <td>21</td>\n",
       "    </tr>\n",
       "    <tr>\n",
       "      <th>76</th>\n",
       "      <td>comments on NBC's \"Meet the Press\"</td>\n",
       "      <td>21</td>\n",
       "    </tr>\n",
       "    <tr>\n",
       "      <th>77</th>\n",
       "      <td>a newspaper column</td>\n",
       "      <td>21</td>\n",
       "    </tr>\n",
       "    <tr>\n",
       "      <th>78</th>\n",
       "      <td>an e-mail</td>\n",
       "      <td>20</td>\n",
       "    </tr>\n",
       "    <tr>\n",
       "      <th>79</th>\n",
       "      <td>a campaign mailer.</td>\n",
       "      <td>20</td>\n",
       "    </tr>\n",
       "    <tr>\n",
       "      <th>80</th>\n",
       "      <td>a House floor speech</td>\n",
       "      <td>20</td>\n",
       "    </tr>\n",
       "    <tr>\n",
       "      <th>81</th>\n",
       "      <td>in a tweet</td>\n",
       "      <td>19</td>\n",
       "    </tr>\n",
       "    <tr>\n",
       "      <th>82</th>\n",
       "      <td>an advertisement</td>\n",
       "      <td>19</td>\n",
       "    </tr>\n",
       "    <tr>\n",
       "      <th>83</th>\n",
       "      <td>a speech on the Senate floor</td>\n",
       "      <td>19</td>\n",
       "    </tr>\n",
       "    <tr>\n",
       "      <th>84</th>\n",
       "      <td>a campaign website</td>\n",
       "      <td>19</td>\n",
       "    </tr>\n",
       "    <tr>\n",
       "      <th>85</th>\n",
       "      <td>a fundraising email</td>\n",
       "      <td>18</td>\n",
       "    </tr>\n",
       "    <tr>\n",
       "      <th>86</th>\n",
       "      <td>a video ad</td>\n",
       "      <td>18</td>\n",
       "    </tr>\n",
       "    <tr>\n",
       "      <th>87</th>\n",
       "      <td>comments on \"Meet the Press\"</td>\n",
       "      <td>18</td>\n",
       "    </tr>\n",
       "    <tr>\n",
       "      <th>88</th>\n",
       "      <td>a YouTube video</td>\n",
       "      <td>18</td>\n",
       "    </tr>\n",
       "    <tr>\n",
       "      <th>89</th>\n",
       "      <td>in a press release</td>\n",
       "      <td>18</td>\n",
       "    </tr>\n",
       "    <tr>\n",
       "      <th>90</th>\n",
       "      <td>a column</td>\n",
       "      <td>18</td>\n",
       "    </tr>\n",
       "    <tr>\n",
       "      <th>91</th>\n",
       "      <td>an opinion column</td>\n",
       "      <td>17</td>\n",
       "    </tr>\n",
       "    <tr>\n",
       "      <th>92</th>\n",
       "      <td>an interview on MSNBC's \"Morning Joe\"</td>\n",
       "      <td>17</td>\n",
       "    </tr>\n",
       "    <tr>\n",
       "      <th>93</th>\n",
       "      <td>a statement.</td>\n",
       "      <td>17</td>\n",
       "    </tr>\n",
       "    <tr>\n",
       "      <th>94</th>\n",
       "      <td>an interview with Fox News</td>\n",
       "      <td>17</td>\n",
       "    </tr>\n",
       "    <tr>\n",
       "      <th>95</th>\n",
       "      <td>a campaign email</td>\n",
       "      <td>17</td>\n",
       "    </tr>\n",
       "    <tr>\n",
       "      <th>96</th>\n",
       "      <td>a fundraising letter</td>\n",
       "      <td>17</td>\n",
       "    </tr>\n",
       "    <tr>\n",
       "      <th>97</th>\n",
       "      <td>an interview on CNN's \"State of the Union\"</td>\n",
       "      <td>16</td>\n",
       "    </tr>\n",
       "    <tr>\n",
       "      <th>98</th>\n",
       "      <td>a floor speech.</td>\n",
       "      <td>16</td>\n",
       "    </tr>\n",
       "    <tr>\n",
       "      <th>99</th>\n",
       "      <td>a tweet.</td>\n",
       "      <td>16</td>\n",
       "    </tr>\n",
       "  </tbody>\n",
       "</table>\n",
       "<p>100 rows × 2 columns</p>\n",
       "</div>"
      ],
      "text/plain": [
       "                                       context  count\n",
       "0                                      a tweet    471\n",
       "1                                 an interview    380\n",
       "2                               a news release    329\n",
       "3                              a press release    325\n",
       "4                                     a speech    319\n",
       "5                                      a TV ad    275\n",
       "6                                a campaign ad    221\n",
       "7                                   a headline    175\n",
       "8                              a television ad    168\n",
       "9                                                 166\n",
       "10                           a radio interview    158\n",
       "11                                    a debate    148\n",
       "12                             a Facebook post    139\n",
       "13                                 a blog post    133\n",
       "14                          a press conference    125\n",
       "15                           a news conference    118\n",
       "16                       a campaign commercial     93\n",
       "17                      a television interview     90\n",
       "18                              a TV interview     76\n",
       "19                                   a speech.     73\n",
       "20                                       an ad     66\n",
       "21                                  a radio ad     64\n",
       "22                                    a TV ad.     62\n",
       "23                            a press release.     59\n",
       "24                         an interview on CNN     55\n",
       "25                          a post on Facebook     54\n",
       "26                    an interview on Fox News     53\n",
       "27                              a chain e-mail     52\n",
       "28                               an interview.     51\n",
       "29                           a campaign mailer     50\n",
       "..                                         ...    ...\n",
       "70                           ABC's \"This Week\"     23\n",
       "71           an interview on ABC's \"This Week\"     23\n",
       "72                          a news conference.     22\n",
       "73                              in a blog post     22\n",
       "74                              a Twitter post     21\n",
       "75              the second presidential debate     21\n",
       "76          comments on NBC's \"Meet the Press\"     21\n",
       "77                          a newspaper column     21\n",
       "78                                   an e-mail     20\n",
       "79                          a campaign mailer.     20\n",
       "80                        a House floor speech     20\n",
       "81                                  in a tweet     19\n",
       "82                            an advertisement     19\n",
       "83                a speech on the Senate floor     19\n",
       "84                          a campaign website     19\n",
       "85                         a fundraising email     18\n",
       "86                                  a video ad     18\n",
       "87                comments on \"Meet the Press\"     18\n",
       "88                             a YouTube video     18\n",
       "89                          in a press release     18\n",
       "90                                    a column     18\n",
       "91                           an opinion column     17\n",
       "92       an interview on MSNBC's \"Morning Joe\"     17\n",
       "93                                a statement.     17\n",
       "94                  an interview with Fox News     17\n",
       "95                            a campaign email     17\n",
       "96                        a fundraising letter     17\n",
       "97  an interview on CNN's \"State of the Union\"     16\n",
       "98                             a floor speech.     16\n",
       "99                                    a tweet.     16\n",
       "\n",
       "[100 rows x 2 columns]"
      ]
     },
     "execution_count": 8,
     "metadata": {},
     "output_type": "execute_result"
    }
   ],
   "source": [
    "group_and_count(statements, 'context').head(100)"
   ]
  },
  {
   "cell_type": "markdown",
   "metadata": {},
   "source": [
    "So how to regroup all these or part of these?\n",
    "We can use the mean of communication for example:\n",
    "radio/tv/facebook/twitter/internet\n",
    "and these classes can have overlap..."
   ]
  },
  {
   "cell_type": "code",
   "execution_count": 9,
   "metadata": {
    "ExecuteTime": {
     "end_time": "2018-12-13T17:32:29.773868Z",
     "start_time": "2018-12-13T17:32:29.661428Z"
    }
   },
   "outputs": [],
   "source": [
    "statements['clean_context'] = statements['context'].apply(SH.clean_up_context)"
   ]
  },
  {
   "cell_type": "markdown",
   "metadata": {},
   "source": [
    "# ----------------------------------------------------------------------------------------------------\n",
    "# Biggest liars pants on fire"
   ]
  },
  {
   "cell_type": "markdown",
   "metadata": {},
   "source": [
    "Here are the people who most lie ordered by their proportion of pants on fire."
   ]
  },
  {
   "cell_type": "code",
   "execution_count": 65,
   "metadata": {},
   "outputs": [],
   "source": [
    "people_pants_classification = statements[['speaker_first_name', 'speaker_last_name', 'label', 'speaker_home_state']]\n",
    "#people_pants_classification[(people_pants_classification['speaker_first_name'].isnull() | people_pants_classification['speaker_first_name'].str.strip().eq('')) == False][:1].values\n",
    "\n",
    "# We want to keep only people which have both a first-name and a last-name (not totaly perfect)\n",
    "people_pants_classification = people_pants_classification[((people_pants_classification['speaker_first_name'].isnull() |\n",
    "                                                           people_pants_classification['speaker_first_name'].str.strip().eq('')) == False)]\n",
    "people_pants_classification = people_pants_classification[((people_pants_classification['speaker_last_name'].isnull() |\n",
    "                                                           people_pants_classification['speaker_last_name'].str.strip().eq('')) == False)]\n",
    "people_pants_classification = people_pants_classification[((people_pants_classification['label'].isnull() |\n",
    "                                                           people_pants_classification['label'].str.strip().eq('')) == False)]\n",
    "\n",
    "_blop = people_pants_classification[['speaker_first_name', 'speaker_last_name']].groupby(['speaker_first_name', 'speaker_last_name']).size().reset_index()\n",
    "_blopblop = people_pants_classification.groupby(['speaker_first_name', 'speaker_last_name', 'label']).size().reset_index().rename(columns={'0':'nb_labeled_statements'})\n",
    "\n",
    "statement_percentage = pd.merge(_blopblop,_blop,on=['speaker_first_name', 'speaker_last_name'])\n",
    "\n",
    "statement_percentage['statements_perc'] = statement_percentage['0_x']/statement_percentage['0_y']\n",
    "#statement_percentage.sample(5)\n"
   ]
  },
  {
   "cell_type": "markdown",
   "metadata": {},
   "source": [
    "#### Pants on fire analysis"
   ]
  },
  {
   "cell_type": "code",
   "execution_count": 66,
   "metadata": {},
   "outputs": [],
   "source": [
    "statement_percentage_cleaned = statement_percentage.loc[statement_percentage['label']=='pants-fire'].sort_values(by='statements_perc', ascending=False)\n"
   ]
  },
  {
   "cell_type": "markdown",
   "metadata": {},
   "source": [
    "#### We need people who have at least a certain number of statements to limit bias"
   ]
  },
  {
   "cell_type": "code",
   "execution_count": 67,
   "metadata": {},
   "outputs": [
    {
     "name": "stdout",
     "output_type": "stream",
     "text": [
      "The 10 badest guys with the highest percentage of pants on fire are:\n"
     ]
    },
    {
     "data": {
      "text/html": [
       "<div>\n",
       "<style scoped>\n",
       "    .dataframe tbody tr th:only-of-type {\n",
       "        vertical-align: middle;\n",
       "    }\n",
       "\n",
       "    .dataframe tbody tr th {\n",
       "        vertical-align: top;\n",
       "    }\n",
       "\n",
       "    .dataframe thead th {\n",
       "        text-align: right;\n",
       "    }\n",
       "</style>\n",
       "<table border=\"1\" class=\"dataframe\">\n",
       "  <thead>\n",
       "    <tr style=\"text-align: right;\">\n",
       "      <th></th>\n",
       "      <th>speaker_first_name</th>\n",
       "      <th>speaker_last_name</th>\n",
       "      <th>label</th>\n",
       "      <th>0_x</th>\n",
       "      <th>0_y</th>\n",
       "      <th>statements_perc</th>\n",
       "    </tr>\n",
       "  </thead>\n",
       "  <tbody>\n",
       "    <tr>\n",
       "      <th>3746</th>\n",
       "      <td>Michele</td>\n",
       "      <td>Bachmann</td>\n",
       "      <td>pants-fire</td>\n",
       "      <td>16</td>\n",
       "      <td>61</td>\n",
       "      <td>0.262295</td>\n",
       "    </tr>\n",
       "    <tr>\n",
       "      <th>4668</th>\n",
       "      <td>Rush</td>\n",
       "      <td>Limbaugh</td>\n",
       "      <td>pants-fire</td>\n",
       "      <td>10</td>\n",
       "      <td>39</td>\n",
       "      <td>0.256410</td>\n",
       "    </tr>\n",
       "    <tr>\n",
       "      <th>2840</th>\n",
       "      <td>Josh</td>\n",
       "      <td>Mandel</td>\n",
       "      <td>pants-fire</td>\n",
       "      <td>6</td>\n",
       "      <td>29</td>\n",
       "      <td>0.206897</td>\n",
       "    </tr>\n",
       "    <tr>\n",
       "      <th>1824</th>\n",
       "      <td>Glenn</td>\n",
       "      <td>Beck</td>\n",
       "      <td>pants-fire</td>\n",
       "      <td>6</td>\n",
       "      <td>31</td>\n",
       "      <td>0.193548</td>\n",
       "    </tr>\n",
       "    <tr>\n",
       "      <th>1079</th>\n",
       "      <td>Dan</td>\n",
       "      <td>Patrick</td>\n",
       "      <td>pants-fire</td>\n",
       "      <td>6</td>\n",
       "      <td>32</td>\n",
       "      <td>0.187500</td>\n",
       "    </tr>\n",
       "    <tr>\n",
       "      <th>637</th>\n",
       "      <td>Bruce</td>\n",
       "      <td>Rauner</td>\n",
       "      <td>pants-fire</td>\n",
       "      <td>4</td>\n",
       "      <td>23</td>\n",
       "      <td>0.173913</td>\n",
       "    </tr>\n",
       "    <tr>\n",
       "      <th>116</th>\n",
       "      <td>Allen</td>\n",
       "      <td>West</td>\n",
       "      <td>pants-fire</td>\n",
       "      <td>4</td>\n",
       "      <td>26</td>\n",
       "      <td>0.153846</td>\n",
       "    </tr>\n",
       "    <tr>\n",
       "      <th>1395</th>\n",
       "      <td>Donald</td>\n",
       "      <td>Trump</td>\n",
       "      <td>pants-fire</td>\n",
       "      <td>92</td>\n",
       "      <td>639</td>\n",
       "      <td>0.143975</td>\n",
       "    </tr>\n",
       "    <tr>\n",
       "      <th>340</th>\n",
       "      <td>Ben</td>\n",
       "      <td>Carson</td>\n",
       "      <td>pants-fire</td>\n",
       "      <td>4</td>\n",
       "      <td>28</td>\n",
       "      <td>0.142857</td>\n",
       "    </tr>\n",
       "    <tr>\n",
       "      <th>3970</th>\n",
       "      <td>Newt</td>\n",
       "      <td>Gingrich</td>\n",
       "      <td>pants-fire</td>\n",
       "      <td>12</td>\n",
       "      <td>86</td>\n",
       "      <td>0.139535</td>\n",
       "    </tr>\n",
       "  </tbody>\n",
       "</table>\n",
       "</div>"
      ],
      "text/plain": [
       "     speaker_first_name speaker_last_name       label  0_x  0_y  \\\n",
       "3746            Michele          Bachmann  pants-fire   16   61   \n",
       "4668               Rush          Limbaugh  pants-fire   10   39   \n",
       "2840               Josh            Mandel  pants-fire    6   29   \n",
       "1824              Glenn              Beck  pants-fire    6   31   \n",
       "1079                Dan           Patrick  pants-fire    6   32   \n",
       "637               Bruce            Rauner  pants-fire    4   23   \n",
       "116               Allen              West  pants-fire    4   26   \n",
       "1395             Donald             Trump  pants-fire   92  639   \n",
       "340                 Ben            Carson  pants-fire    4   28   \n",
       "3970               Newt          Gingrich  pants-fire   12   86   \n",
       "\n",
       "      statements_perc  \n",
       "3746         0.262295  \n",
       "4668         0.256410  \n",
       "2840         0.206897  \n",
       "1824         0.193548  \n",
       "1079         0.187500  \n",
       "637          0.173913  \n",
       "116          0.153846  \n",
       "1395         0.143975  \n",
       "340          0.142857  \n",
       "3970         0.139535  "
      ]
     },
     "execution_count": 67,
     "metadata": {},
     "output_type": "execute_result"
    }
   ],
   "source": [
    "statement_percentage_cleaned_numerous = statement_percentage_cleaned.loc[statement_percentage_cleaned['0_y']>20]\n",
    "print('The 10 badest guys with the highest percentage of pants on fire are:')\n",
    "statement_percentage_cleaned_numerous.head(10)\n"
   ]
  },
  {
   "cell_type": "code",
   "execution_count": 68,
   "metadata": {},
   "outputs": [
    {
     "data": {
      "text/html": [
       "<div>\n",
       "<style scoped>\n",
       "    .dataframe tbody tr th:only-of-type {\n",
       "        vertical-align: middle;\n",
       "    }\n",
       "\n",
       "    .dataframe tbody tr th {\n",
       "        vertical-align: top;\n",
       "    }\n",
       "\n",
       "    .dataframe thead th {\n",
       "        text-align: right;\n",
       "    }\n",
       "</style>\n",
       "<table border=\"1\" class=\"dataframe\">\n",
       "  <thead>\n",
       "    <tr style=\"text-align: right;\">\n",
       "      <th></th>\n",
       "      <th>speaker_first_name</th>\n",
       "      <th>speaker_last_name</th>\n",
       "      <th>label</th>\n",
       "      <th>0_x</th>\n",
       "      <th>0_y</th>\n",
       "      <th>statements_perc</th>\n",
       "    </tr>\n",
       "  </thead>\n",
       "  <tbody>\n",
       "    <tr>\n",
       "      <th>3625</th>\n",
       "      <td>Matthew</td>\n",
       "      <td>Rosendale</td>\n",
       "      <td>pants-fire</td>\n",
       "      <td>2</td>\n",
       "      <td>2</td>\n",
       "      <td>1.0</td>\n",
       "    </tr>\n",
       "    <tr>\n",
       "      <th>2939</th>\n",
       "      <td>Kathie</td>\n",
       "      <td>Glass</td>\n",
       "      <td>pants-fire</td>\n",
       "      <td>2</td>\n",
       "      <td>2</td>\n",
       "      <td>1.0</td>\n",
       "    </tr>\n",
       "    <tr>\n",
       "      <th>1850</th>\n",
       "      <td>Graeme</td>\n",
       "      <td>Zielinski</td>\n",
       "      <td>pants-fire</td>\n",
       "      <td>2</td>\n",
       "      <td>2</td>\n",
       "      <td>1.0</td>\n",
       "    </tr>\n",
       "    <tr>\n",
       "      <th>2847</th>\n",
       "      <td>Joshua</td>\n",
       "      <td>Feuerstein</td>\n",
       "      <td>pants-fire</td>\n",
       "      <td>2</td>\n",
       "      <td>2</td>\n",
       "      <td>1.0</td>\n",
       "    </tr>\n",
       "    <tr>\n",
       "      <th>5022</th>\n",
       "      <td>Steve</td>\n",
       "      <td>Kagen</td>\n",
       "      <td>pants-fire</td>\n",
       "      <td>2</td>\n",
       "      <td>2</td>\n",
       "      <td>1.0</td>\n",
       "    </tr>\n",
       "    <tr>\n",
       "      <th>5441</th>\n",
       "      <td>Uspoln</td>\n",
       "      <td>Website</td>\n",
       "      <td>pants-fire</td>\n",
       "      <td>4</td>\n",
       "      <td>4</td>\n",
       "      <td>1.0</td>\n",
       "    </tr>\n",
       "    <tr>\n",
       "      <th>1064</th>\n",
       "      <td>Dan</td>\n",
       "      <td>Kapanke</td>\n",
       "      <td>pants-fire</td>\n",
       "      <td>2</td>\n",
       "      <td>2</td>\n",
       "      <td>1.0</td>\n",
       "    </tr>\n",
       "    <tr>\n",
       "      <th>1039</th>\n",
       "      <td>Daily World</td>\n",
       "      <td>Update</td>\n",
       "      <td>pants-fire</td>\n",
       "      <td>4</td>\n",
       "      <td>4</td>\n",
       "      <td>1.0</td>\n",
       "    </tr>\n",
       "    <tr>\n",
       "      <th>641</th>\n",
       "      <td>Bryan</td>\n",
       "      <td>Fischer</td>\n",
       "      <td>pants-fire</td>\n",
       "      <td>2</td>\n",
       "      <td>2</td>\n",
       "      <td>1.0</td>\n",
       "    </tr>\n",
       "    <tr>\n",
       "      <th>363</th>\n",
       "      <td>Betsy</td>\n",
       "      <td>McCaughey</td>\n",
       "      <td>pants-fire</td>\n",
       "      <td>2</td>\n",
       "      <td>2</td>\n",
       "      <td>1.0</td>\n",
       "    </tr>\n",
       "  </tbody>\n",
       "</table>\n",
       "</div>"
      ],
      "text/plain": [
       "     speaker_first_name speaker_last_name       label  0_x  0_y  \\\n",
       "3625            Matthew         Rosendale  pants-fire    2    2   \n",
       "2939             Kathie             Glass  pants-fire    2    2   \n",
       "1850             Graeme         Zielinski  pants-fire    2    2   \n",
       "2847             Joshua        Feuerstein  pants-fire    2    2   \n",
       "5022              Steve             Kagen  pants-fire    2    2   \n",
       "5441             Uspoln           Website  pants-fire    4    4   \n",
       "1064                Dan           Kapanke  pants-fire    2    2   \n",
       "1039       Daily World             Update  pants-fire    4    4   \n",
       "641               Bryan           Fischer  pants-fire    2    2   \n",
       "363               Betsy         McCaughey  pants-fire    2    2   \n",
       "\n",
       "      statements_perc  \n",
       "3625              1.0  \n",
       "2939              1.0  \n",
       "1850              1.0  \n",
       "2847              1.0  \n",
       "5022              1.0  \n",
       "5441              1.0  \n",
       "1064              1.0  \n",
       "1039              1.0  \n",
       "641               1.0  \n",
       "363               1.0  "
      ]
     },
     "execution_count": 68,
     "metadata": {},
     "output_type": "execute_result"
    }
   ],
   "source": [
    "statement_percentage_cleaned = statement_percentage_cleaned.loc[statement_percentage_cleaned['0_y']>1]\n",
    "statement_percentage_cleaned.head(10)"
   ]
  },
  {
   "cell_type": "code",
   "execution_count": 45,
   "metadata": {},
   "outputs": [],
   "source": [
    "%matplotlib inline\n",
    "#statement_percentage_cleaned.plot(kind='scatter' y='statements_perc')\n",
    "import seaborn as sns"
   ]
  },
  {
   "cell_type": "code",
   "execution_count": 46,
   "metadata": {},
   "outputs": [
    {
     "data": {
      "text/plain": [
       "<matplotlib.axes._subplots.AxesSubplot at 0x1a1f396dd8>"
      ]
     },
     "execution_count": 46,
     "metadata": {},
     "output_type": "execute_result"
    },
    {
     "data": {
      "image/png": "[encoded data removed]",
      "text/plain": [
       "<Figure size 432x288 with 1 Axes>"
      ]
     },
     "metadata": {},
     "output_type": "display_data"
    }
   ],
   "source": [
    "sns.distplot(statement_percentage_cleaned.statements_perc, bins=50, kde=False, axlabel='percentage of \"pants on fire\" for each person')"
   ]
  },
  {
   "cell_type": "code",
   "execution_count": 47,
   "metadata": {},
   "outputs": [
    {
     "data": {
      "text/plain": [
       "<matplotlib.axes._subplots.AxesSubplot at 0x1a1e4331d0>"
      ]
     },
     "execution_count": 47,
     "metadata": {},
     "output_type": "execute_result"
    },
    {
     "data": {
      "image/png": "[encoded data removed]",
      "text/plain": [
       "<Figure size 432x288 with 1 Axes>"
      ]
     },
     "metadata": {},
     "output_type": "display_data"
    }
   ],
   "source": [
    "a=statement_percentage_cleaned['0_y']\n",
    "sns.distplot(statement_percentage_cleaned['0_y'], bins=50, kde=False, axlabel='number of statements for each person')"
   ]
  },
  {
   "cell_type": "code",
   "execution_count": null,
   "metadata": {},
   "outputs": [],
   "source": []
  },
  {
   "cell_type": "code",
   "execution_count": 15,
   "metadata": {},
   "outputs": [],
   "source": [
    "# Column renaming does not work\n",
    "#.rename(columns={'0':'nb_statements'})\n",
    "# to rename the column of counts df = df.rename(columns={'oldName1': 'newName1', 'oldName2': 'newName2'})\n",
    "# _blop.rename(columns='0':'nb_statements')"
   ]
  },
  {
   "cell_type": "code",
   "execution_count": 16,
   "metadata": {},
   "outputs": [
    {
     "data": {
      "text/html": [
       "<div>\n",
       "<style scoped>\n",
       "    .dataframe tbody tr th:only-of-type {\n",
       "        vertical-align: middle;\n",
       "    }\n",
       "\n",
       "    .dataframe tbody tr th {\n",
       "        vertical-align: top;\n",
       "    }\n",
       "\n",
       "    .dataframe thead th {\n",
       "        text-align: right;\n",
       "    }\n",
       "</style>\n",
       "<table border=\"1\" class=\"dataframe\">\n",
       "  <thead>\n",
       "    <tr style=\"text-align: right;\">\n",
       "      <th></th>\n",
       "      <th>speaker_first_name</th>\n",
       "      <th>speaker_last_name</th>\n",
       "      <th>0</th>\n",
       "    </tr>\n",
       "  </thead>\n",
       "  <tbody>\n",
       "    <tr>\n",
       "      <th>774</th>\n",
       "      <td>Donald</td>\n",
       "      <td>Trump</td>\n",
       "      <td>639</td>\n",
       "    </tr>\n",
       "    <tr>\n",
       "      <th>1114</th>\n",
       "      <td>Ivanka</td>\n",
       "      <td>Trump</td>\n",
       "      <td>7</td>\n",
       "    </tr>\n",
       "  </tbody>\n",
       "</table>\n",
       "</div>"
      ],
      "text/plain": [
       "     speaker_first_name speaker_last_name    0\n",
       "774              Donald             Trump  639\n",
       "1114             Ivanka             Trump    7"
      ]
     },
     "execution_count": 16,
     "metadata": {},
     "output_type": "execute_result"
    }
   ],
   "source": [
    "# Verification, not needed\n",
    "_blop[_blop['speaker_last_name'].eq('Trump')]"
   ]
  },
  {
   "cell_type": "markdown",
   "metadata": {
    "heading_collapsed": true
   },
   "source": [
    "# ------------------------------------------------------------------------------------------------------"
   ]
  },
  {
   "cell_type": "code",
   "execution_count": null,
   "metadata": {
    "hidden": true
   },
   "outputs": [],
   "source": []
  },
  {
   "cell_type": "code",
   "execution_count": null,
   "metadata": {
    "hidden": true
   },
   "outputs": [],
   "source": []
  },
  {
   "cell_type": "code",
   "execution_count": 17,
   "metadata": {
    "ExecuteTime": {
     "end_time": "2018-11-23T14:05:12.691316Z",
     "start_time": "2018-11-23T14:05:12.658211Z"
    },
    "hidden": true
   },
   "outputs": [
    {
     "ename": "NameError",
     "evalue": "name 'false' is not defined",
     "output_type": "error",
     "traceback": [
      "\u001b[0;31m---------------------------------------------------------------------------\u001b[0m",
      "\u001b[0;31mNameError\u001b[0m                                 Traceback (most recent call last)",
      "\u001b[0;32m<ipython-input-17-2493ee97f1de>\u001b[0m in \u001b[0;36m<module>\u001b[0;34m()\u001b[0m\n\u001b[1;32m      1\u001b[0m \u001b[0;31m# no longer necessary\u001b[0m\u001b[0;34m\u001b[0m\u001b[0;34m\u001b[0m\u001b[0m\n\u001b[0;32m----> 2\u001b[0;31m \u001b[0;32mif\u001b[0m \u001b[0mfalse\u001b[0m\u001b[0;34m:\u001b[0m\u001b[0;34m\u001b[0m\u001b[0m\n\u001b[0m\u001b[1;32m      3\u001b[0m     \u001b[0mdf\u001b[0m\u001b[0;34m[\u001b[0m\u001b[0;34m'label_as_nb'\u001b[0m\u001b[0;34m]\u001b[0m \u001b[0;34m=\u001b[0m \u001b[0mdf\u001b[0m\u001b[0;34m[\u001b[0m\u001b[0;34m'label'\u001b[0m\u001b[0;34m]\u001b[0m\u001b[0;34m.\u001b[0m\u001b[0mapply\u001b[0m\u001b[0;34m(\u001b[0m\u001b[0mlabel_to_nb\u001b[0m\u001b[0;34m)\u001b[0m \u001b[0;34m*\u001b[0m \u001b[0;36m2\u001b[0m\u001b[0;34m\u001b[0m\u001b[0m\n\u001b[1;32m      4\u001b[0m     \u001b[0mdf\u001b[0m\u001b[0;34m[\u001b[0m\u001b[0;34m'statement_id'\u001b[0m\u001b[0;34m]\u001b[0m \u001b[0;34m=\u001b[0m \u001b[0mpd\u001b[0m\u001b[0;34m.\u001b[0m\u001b[0mto_numeric\u001b[0m\u001b[0;34m(\u001b[0m\u001b[0mdf\u001b[0m\u001b[0;34m[\u001b[0m\u001b[0;34m'statement_id'\u001b[0m\u001b[0;34m]\u001b[0m\u001b[0;34m)\u001b[0m\u001b[0;34m\u001b[0m\u001b[0m\n\u001b[1;32m      5\u001b[0m     \u001b[0mlies\u001b[0m \u001b[0;34m=\u001b[0m \u001b[0mdf\u001b[0m\u001b[0;34m.\u001b[0m\u001b[0mmerge\u001b[0m\u001b[0;34m(\u001b[0m\u001b[0madditional_information\u001b[0m\u001b[0;34m,\u001b[0m \u001b[0mon\u001b[0m\u001b[0;34m=\u001b[0m\u001b[0;34m'statement_id'\u001b[0m\u001b[0;34m,\u001b[0m \u001b[0mhow\u001b[0m\u001b[0;34m=\u001b[0m\u001b[0;34m'left'\u001b[0m\u001b[0;34m)\u001b[0m\u001b[0;34m\u001b[0m\u001b[0m\n",
      "\u001b[0;31mNameError\u001b[0m: name 'false' is not defined"
     ]
    }
   ],
   "source": [
    "# no longer necessary\n",
    "if false:\n",
    "    df['label_as_nb'] = df['label'].apply(label_to_nb) * 2 \n",
    "    df['statement_id'] = pd.to_numeric(df['statement_id'])\n",
    "    lies = df.merge(additional_information, on='statement_id', how='left')"
   ]
  },
  {
   "cell_type": "markdown",
   "metadata": {
    "hidden": true
   },
   "source": [
    "Let's just see what we have here:"
   ]
  },
  {
   "cell_type": "code",
   "execution_count": null,
   "metadata": {
    "ExecuteTime": {
     "end_time": "2018-11-26T23:15:50.111849Z",
     "start_time": "2018-11-26T23:15:50.081132Z"
    },
    "hidden": true
   },
   "outputs": [],
   "source": [
    "# TODO rene add new values, see trello board\n",
    "lies['label_to_nb'] = lies['label'].apply(label_to_nb) * 2"
   ]
  },
  {
   "cell_type": "code",
   "execution_count": null,
   "metadata": {
    "ExecuteTime": {
     "end_time": "2018-11-26T23:10:54.850114Z",
     "start_time": "2018-11-26T23:10:54.837258Z"
    },
    "hidden": true
   },
   "outputs": [],
   "source": [
    "lies['label'].value_counts()"
   ]
  },
  {
   "cell_type": "code",
   "execution_count": null,
   "metadata": {
    "ExecuteTime": {
     "end_time": "2018-12-13T17:55:34.774105Z",
     "start_time": "2018-12-13T17:55:34.768276Z"
    },
    "hidden": true
   },
   "outputs": [],
   "source": [
    "def _count_for_last_name_(df, last_name):\n",
    "    return group_and_count(lies.loc[lies['speaker_last_name'].str.contains(last_name, flags=re.IGNORECASE), :], 'label', with_pct=True)\\\n",
    "            .rename(columns={'count': f'count_{last_name}', 'count_pct': f'count_pct{last_name}'})"
   ]
  },
  {
   "cell_type": "code",
   "execution_count": null,
   "metadata": {
    "ExecuteTime": {
     "end_time": "2018-12-13T17:55:34.935077Z",
     "start_time": "2018-12-13T17:55:34.862847Z"
    },
    "hidden": true
   },
   "outputs": [],
   "source": [
    "pd.merge(_count_for_last_name_(lies, 'obama'), _count_for_last_name_(lies, 'trump'), on='label')"
   ]
  },
  {
   "cell_type": "markdown",
   "metadata": {
    "hidden": true
   },
   "source": [
    "Here we can see that Barack Obama had 549 statements labeled with _pants on fire_."
   ]
  },
  {
   "cell_type": "code",
   "execution_count": null,
   "metadata": {
    "ExecuteTime": {
     "end_time": "2018-11-23T14:05:12.996192Z",
     "start_time": "2018-11-23T14:05:12.980178Z"
    },
    "hidden": true
   },
   "outputs": [],
   "source": [
    "lies[lies['speakers_job_title'].str.contains('County') == True].shape"
   ]
  },
  {
   "cell_type": "code",
   "execution_count": null,
   "metadata": {
    "ExecuteTime": {
     "end_time": "2018-11-23T14:05:13.100791Z",
     "start_time": "2018-11-23T14:05:13.095370Z"
    },
    "hidden": true,
    "scrolled": true
   },
   "outputs": [],
   "source": [
    "lies['statement_date'].describe()"
   ]
  },
  {
   "cell_type": "markdown",
   "metadata": {
    "hidden": true
   },
   "source": [
    "Above, we can see that statements range from 1995 to 2016."
   ]
  },
  {
   "cell_type": "markdown",
   "metadata": {
    "hidden": true
   },
   "source": [
    "Now, let's do some profiling to get some more insights:"
   ]
  },
  {
   "cell_type": "code",
   "execution_count": null,
   "metadata": {
    "ExecuteTime": {
     "end_time": "2018-11-23T14:05:14.172902Z",
     "start_time": "2018-11-23T14:05:13.219463Z"
    },
    "hidden": true,
    "scrolled": true
   },
   "outputs": [],
   "source": [
    "pandas_profiling.ProfileReport(lies)"
   ]
  },
  {
   "cell_type": "markdown",
   "metadata": {
    "heading_collapsed": true
   },
   "source": [
    "# Federal Election Results"
   ]
  },
  {
   "cell_type": "markdown",
   "metadata": {
    "hidden": true
   },
   "source": [
    "We have another dataset that we will explore and merge to our LIAR dataset in order to get some more insight into data. This one is regarding election results."
   ]
  },
  {
   "cell_type": "code",
   "execution_count": null,
   "metadata": {
    "ExecuteTime": {
     "end_time": "2018-11-23T14:05:14.177069Z",
     "start_time": "2018-11-23T14:05:14.174640Z"
    },
    "hidden": true
   },
   "outputs": [],
   "source": [
    "pd.options.display.max_colwidth = 300\n",
    "pd.options.display.max_columns = 300"
   ]
  },
  {
   "cell_type": "code",
   "execution_count": null,
   "metadata": {
    "ExecuteTime": {
     "end_time": "2018-11-23T14:05:14.190483Z",
     "start_time": "2018-11-23T14:05:14.178287Z"
    },
    "hidden": true
   },
   "outputs": [],
   "source": [
    "from itertools import product\n",
    "from functools import reduce"
   ]
  },
  {
   "cell_type": "code",
   "execution_count": null,
   "metadata": {
    "ExecuteTime": {
     "end_time": "2018-12-13T17:55:48.638641Z",
     "start_time": "2018-12-13T17:55:48.631235Z"
    },
    "hidden": true
   },
   "outputs": [],
   "source": [
    "def add_ending(f):\n",
    "    \"\"\" File ending depending on a year\n",
    "    \n",
    "    Parameters\n",
    "    ----------\n",
    "    f: str\n",
    "        Name of the file\n",
    "    \n",
    "    ToDos:\n",
    "    - do 2012 it's a special snowflake\n",
    "    \"\"\"\n",
    "    if '2016' in f:\n",
    "        return f\"{f}x\"\n",
    "    else:\n",
    "        return f\n",
    "\n",
    "\n",
    "election_files = [(add_ending(f'{directory_election_results}/federalelections{year}.xls'), year) for year in [2014, 2016]]"
   ]
  },
  {
   "cell_type": "markdown",
   "metadata": {
    "hidden": true
   },
   "source": [
    "Now, let's prepare some data for viewing:"
   ]
  },
  {
   "cell_type": "code",
   "execution_count": null,
   "metadata": {
    "ExecuteTime": {
     "end_time": "2018-12-13T17:55:51.265010Z",
     "start_time": "2018-12-13T17:55:51.258328Z"
    },
    "hidden": true
   },
   "outputs": [],
   "source": [
    "election_results_cols_of_interest = ['CANDIDATE NAME', 'PRIMARY VOTES', 'PRIMARY %']\n",
    "\n",
    "def fix_columns_election_results(df, year, type_):\n",
    "    \"\"\"we are only interested in the primary votes, since these reflect the opinion the most\"\"\"\n",
    "    df = df.loc[:, election_results_cols_of_interest]\n",
    "    df[f'primary_votes_{type_.lower()}_{year}'] = df['PRIMARY VOTES']\n",
    "    df[f'primary_votes_{type_.lower()}_{year}_pct'] = df['PRIMARY %']\n",
    "    return df.drop(columns=['PRIMARY VOTES', 'PRIMARY %'])\n",
    "\n",
    "\n",
    "def get_only_voting_results(df):\n",
    "    return df.loc[df['CANDIDATE NAME'].notna() & df['PRIMARY VOTES'].notna() & df['CANDIDATE NAME'].ne('Scattered') & df['CANDIDATE NAME'].ne('All Others'), :]\n",
    "\n",
    "\n",
    "def prep_election_results(df, year, type_):\n",
    "    return fix_columns_election_results(get_only_voting_results(df), year, type_)"
   ]
  },
  {
   "cell_type": "code",
   "execution_count": null,
   "metadata": {
    "ExecuteTime": {
     "end_time": "2018-12-13T17:55:57.353263Z",
     "start_time": "2018-12-13T17:55:53.276293Z"
    },
    "hidden": true
   },
   "outputs": [],
   "source": [
    "election_results = [prep_election_results(pd.read_excel(f, sheet_name=f'{year} US {type_} Results by State'), year, type_) for (f, year), type_ in product(election_files, ['Senate', 'House'])]\n",
    "\n",
    "# we let the results as they are, merge, and then check if the person is a senator or a member of the house based on the other results\n",
    "# yes they did a spelling mistake\n",
    "election_results += [prep_election_results(pd.read_excel(f'{directory_election_results}/federalelections2012.xls', sheet_name=f'2012 US House & Senate Resuts'), 2012, 'all')]\n",
    "election_results = reduce(lambda acc, el: pd.merge(acc, el, on='CANDIDATE NAME', how='outer'), election_results)"
   ]
  },
  {
   "cell_type": "code",
   "execution_count": null,
   "metadata": {
    "ExecuteTime": {
     "end_time": "2018-12-13T17:55:57.374766Z",
     "start_time": "2018-12-13T17:55:57.355287Z"
    },
    "hidden": true
   },
   "outputs": [],
   "source": [
    "election_results.head()"
   ]
  },
  {
   "cell_type": "code",
   "execution_count": null,
   "metadata": {
    "ExecuteTime": {
     "end_time": "2018-12-13T17:56:35.701754Z",
     "start_time": "2018-12-13T17:56:35.688944Z"
    },
    "hidden": true
   },
   "outputs": [],
   "source": [
    "idx_multiple_election_results = election_results.loc[:, [c for c in election_results.columns if any((c.endswith(str(y)) for y in [2012, 2014, 2016]))]].notna().sum(axis=1) > 1\n",
    "\n",
    "print(f\"we have multple election results for {idx_multiple_election_results.sum()} politicians ({idx_multiple_election_results.mean()}%)\")"
   ]
  },
  {
   "cell_type": "code",
   "execution_count": null,
   "metadata": {
    "ExecuteTime": {
     "end_time": "2018-12-13T17:56:48.386112Z",
     "start_time": "2018-12-13T17:56:48.361763Z"
    },
    "hidden": true
   },
   "outputs": [],
   "source": [
    "election_results[idx_multiple_election_results].head()"
   ]
  },
  {
   "cell_type": "code",
   "execution_count": null,
   "metadata": {
    "ExecuteTime": {
     "end_time": "2018-11-26T23:30:48.179640Z",
     "start_time": "2018-11-26T23:30:48.159311Z"
    },
    "hidden": true,
    "scrolled": false
   },
   "outputs": [],
   "source": [
    "# yeah ... let's see how many we can join. the one letter endings might be a problem\n",
    "election_results['CANDIDATE NAME'].value_counts()"
   ]
  },
  {
   "cell_type": "code",
   "execution_count": null,
   "metadata": {
    "ExecuteTime": {
     "end_time": "2018-11-23T14:05:16.839135Z",
     "start_time": "2018-11-23T14:05:16.830067Z"
    },
    "hidden": true
   },
   "outputs": [],
   "source": [
    "# we are only interest in people and they have a first name\n",
    "lies = lies.loc[lies['speaker_first_name'].notnull(), :]"
   ]
  },
  {
   "cell_type": "code",
   "execution_count": null,
   "metadata": {
    "ExecuteTime": {
     "end_time": "2018-11-23T14:05:16.883211Z",
     "start_time": "2018-11-23T14:05:16.840386Z"
    },
    "hidden": true
   },
   "outputs": [],
   "source": [
    "# to aggregate the statements\n",
    "lies['statement_year'] = lies['statement_date'].dt.year\n",
    "\n",
    "# for the merging\n",
    "lies['speaker_full_name'] = lies['speaker_last_name'] + ', ' + lies['speaker_first_name']"
   ]
  },
  {
   "cell_type": "markdown",
   "metadata": {
    "hidden": true
   },
   "source": [
    "### Cleaning job titles"
   ]
  },
  {
   "cell_type": "code",
   "execution_count": null,
   "metadata": {
    "ExecuteTime": {
     "end_time": "2018-11-23T14:05:16.897019Z",
     "start_time": "2018-11-23T14:05:16.884462Z"
    },
    "hidden": true
   },
   "outputs": [],
   "source": [
    "# todo expand this and check this! this is just a quick and dirty fix\n",
    "# is it really houseman? probably not...\n",
    "_job_titles_of_interest = [('senat', 'senator'), ('governor', None), ('congress', 'congressman'), ('mayor', None), ('president', None), ('house', 'houseman'), ('rep', 'houseman')]\n",
    "job_titles_of_interest = [out if out is not None else j for j, out in _job_titles_of_interest]\n",
    "\n",
    "def cleaned_job_title(jt):\n",
    "    jt = str(jt).lower()\n",
    "    \n",
    "    for j, out in _job_titles_of_interest:\n",
    "        if j in jt:\n",
    "            return out if out is not None else j\n",
    "    else:\n",
    "        return jt\n",
    "\n",
    "lies['speakers_job_title_cleaned'] = lies['speakers_job_title'].apply(cleaned_job_title)"
   ]
  },
  {
   "cell_type": "code",
   "execution_count": null,
   "metadata": {
    "ExecuteTime": {
     "end_time": "2018-11-23T14:05:16.932546Z",
     "start_time": "2018-11-23T14:05:16.898550Z"
    },
    "hidden": true
   },
   "outputs": [],
   "source": [
    "_t = lies.merge(election_results, left_on='speaker_full_name', right_on='CANDIDATE NAME', how='outer')"
   ]
  },
  {
   "cell_type": "code",
   "execution_count": null,
   "metadata": {
    "ExecuteTime": {
     "end_time": "2018-11-23T14:05:16.939503Z",
     "start_time": "2018-11-23T14:05:16.934213Z"
    },
    "hidden": true
   },
   "outputs": [],
   "source": [
    "print(f\"found election results for {_t['CANDIDATE NAME'].notnull().sum()} ({_t['CANDIDATE NAME'].notnull().mean()}%) people\")"
   ]
  },
  {
   "cell_type": "code",
   "execution_count": null,
   "metadata": {
    "ExecuteTime": {
     "end_time": "2018-11-23T14:05:17.028465Z",
     "start_time": "2018-11-23T14:05:16.940630Z"
    },
    "hidden": true,
    "scrolled": true
   },
   "outputs": [],
   "source": [
    "votes_cols = [c for c in _t.columns if 'votes' in c]\n",
    "useful_idx = reduce(lambda acc, el: acc | el, [_t[c].notnull() for c in votes_cols]) & _t['speaker'].notnull() \n",
    "\n",
    "print(f\"found useful results for {useful_idx.sum()} people\")\n",
    "\n",
    "columns_of_interest = ['label', 'label_as_nb', 'subject', 'speaker', 'speakers_job_title_cleaned', 'state_info', 'party_affiliation', 'context', 'statement_date'] + votes_cols\n",
    "_t.loc[useful_idx, columns_of_interest]"
   ]
  },
  {
   "cell_type": "code",
   "execution_count": null,
   "metadata": {
    "ExecuteTime": {
     "end_time": "2018-11-23T14:05:23.130725Z",
     "start_time": "2018-11-23T14:05:23.124323Z"
    },
    "hidden": true,
    "scrolled": false
   },
   "outputs": [],
   "source": [
    "_t.loc[useful_idx, 'speakers_job_title_cleaned'].value_counts()"
   ]
  },
  {
   "cell_type": "code",
   "execution_count": null,
   "metadata": {
    "ExecuteTime": {
     "end_time": "2018-11-23T14:05:25.316594Z",
     "start_time": "2018-11-23T14:05:25.264393Z"
    },
    "hidden": true,
    "scrolled": true
   },
   "outputs": [],
   "source": [
    "_t.loc[_t['speakers_job_title_cleaned'].isin(job_titles_of_interest) & useful_idx, columns_of_interest]"
   ]
  },
  {
   "cell_type": "markdown",
   "metadata": {
    "hidden": true
   },
   "source": [
    "Now, our dataframe looks like this:"
   ]
  },
  {
   "cell_type": "code",
   "execution_count": null,
   "metadata": {
    "hidden": true,
    "scrolled": true
   },
   "outputs": [],
   "source": [
    "_t.head(1)"
   ]
  },
  {
   "cell_type": "markdown",
   "metadata": {
    "heading_collapsed": true
   },
   "source": [
    "# County Data"
   ]
  },
  {
   "cell_type": "code",
   "execution_count": null,
   "metadata": {
    "hidden": true
   },
   "outputs": [],
   "source": [
    "# load data file\n",
    "county_raw = pd.read_csv(f\"{directory_county_data}/acs2015_county_data.csv\")\n",
    "US_states = county_raw['State'].unique()\n",
    "county_raw.head()"
   ]
  },
  {
   "cell_type": "markdown",
   "metadata": {
    "ExecuteTime": {
     "end_time": "2018-11-23T13:15:16.215139Z",
     "start_time": "2018-11-23T13:15:16.189010Z"
    }
   },
   "source": [
    "# DATA SET COMPLETE"
   ]
  },
  {
   "cell_type": "markdown",
   "metadata": {},
   "source": [
    "At this point, we collected all the columns we need. Let's see how we can clean them:"
   ]
  },
  {
   "cell_type": "code",
   "execution_count": null,
   "metadata": {
    "ExecuteTime": {
     "end_time": "2018-11-23T14:14:08.462121Z",
     "start_time": "2018-11-23T14:14:08.444554Z"
    }
   },
   "outputs": [],
   "source": [
    "median_speaker_value = _t.groupby(['statement_year', 'speaker'])['label_as_nb'].median().reset_index()"
   ]
  },
  {
   "cell_type": "code",
   "execution_count": null,
   "metadata": {
    "ExecuteTime": {
     "end_time": "2018-11-23T14:14:12.630778Z",
     "start_time": "2018-11-23T14:14:12.617803Z"
    },
    "scrolled": true
   },
   "outputs": [],
   "source": [
    "median_speaker_value[median_speaker_value['statement_year'] == 2016]"
   ]
  },
  {
   "cell_type": "markdown",
   "metadata": {},
   "source": [
    "### Non-People Speakers Handling"
   ]
  },
  {
   "cell_type": "markdown",
   "metadata": {},
   "source": [
    "Removing non-people (_tweets, facebook posts, etc._) from the dataset:"
   ]
  },
  {
   "cell_type": "code",
   "execution_count": null,
   "metadata": {
    "scrolled": false
   },
   "outputs": [],
   "source": [
    "from nltk import download\n",
    "download('punkt')\n",
    "from nltk.tag import StanfordNERTagger\n",
    "from nltk.tokenize import word_tokenize\n",
    "from nltk import sent_tokenize\n",
    "from collections import Counter\n",
    "\n",
    "model = 'nlp/stanford-ner-2018-10-16/classifiers/english.all.3class.distsim.crf.ser.gz'\n",
    "jar = 'nlp/stanford-ner-2018-10-16/stanford-ner-3.9.2.jar'\n",
    "st = StanfordNERTagger(model, jar, encoding='utf-8')\n",
    "\n",
    "def get_tag(speaker):\n",
    "    ner_tag = 0\n",
    "    if type(speaker) == str:\n",
    "        full_speaker_name = speaker.replace(\"-\", \" \").title()\n",
    "\n",
    "        for sent in sent_tokenize(full_speaker_name):\n",
    "            tokens = word_tokenize(sent)\n",
    "            tags = st.tag(tokens)\n",
    "            \n",
    "        ner_tag= Counter(dict(tags).values()).most_common(1)[0][0]\n",
    "        print(tags, \" --> \", ner_tag)\n",
    "    return ner_tag\n",
    "    \n",
    "\n",
    "# just to see if/how it works\n",
    "word = \"Twitter-Post-Anna\"\n",
    "get_ner_tag(word)\n",
    "\n",
    "full_speaker_name = \"Barack-Obama\"\n",
    "get_ner_tag(full_speaker_name)\n",
    "\n",
    "full_speaker_name = 0\n",
    "get_ner_tag(full_speaker_name)\n"
   ]
  },
  {
   "cell_type": "code",
   "execution_count": null,
   "metadata": {
    "scrolled": true
   },
   "outputs": [],
   "source": [
    "import os.path\n",
    "\n",
    "file_path = 'nlp/speaker_tags.json'\n",
    "\n",
    "if not os.path.exists(file_path):\n",
    "    print(f\"Total number of values to classify: {len(_t['speaker'].value_counts().index)}\")\n",
    "\n",
    "    words_with_tags = {}\n",
    "    for word in _t['speaker'].value_counts().index:\n",
    "        words_with_tags[word] = get_tag(word)\n",
    "    \n",
    "    # save tags, since it took ~3h to tag all 3214 unique speakers\n",
    "    with open(file_path, 'w') as fp:\n",
    "        json.dump(words_with_tags, fp, indent=4)\n",
    "else:\n",
    "    with open(file_path, 'r') as f:\n",
    "        words_with_tags = json.load(f)\n",
    "    print(f\"Total number of classified values (from file): {len(words_with_tags)}\")"
   ]
  },
  {
   "cell_type": "code",
   "execution_count": null,
   "metadata": {
    "scrolled": true
   },
   "outputs": [],
   "source": [
    "_t[\"speaker_tag\"] = _t.apply(lambda row: words_with_tags[row['speaker']] if not pd.isnull(row['speaker']) else row['speaker'], axis=1)\n",
    "_t[['speaker','speaker_tag']].drop_duplicates()"
   ]
  },
  {
   "cell_type": "markdown",
   "metadata": {},
   "source": [
    "Seems good, so now let's remove non-people from the dataset:"
   ]
  },
  {
   "cell_type": "code",
   "execution_count": null,
   "metadata": {},
   "outputs": [],
   "source": [
    "_t.shape"
   ]
  },
  {
   "cell_type": "code",
   "execution_count": null,
   "metadata": {},
   "outputs": [],
   "source": [
    "_t[_t['speaker_tag'] == \"PERSON\"].shape"
   ]
  },
  {
   "cell_type": "markdown",
   "metadata": {},
   "source": [
    "We see that we will remove ~5000 statements which are made by (speaker) _Twitter, Facebook, Blog post, Republican Party Texas, etc._"
   ]
  },
  {
   "cell_type": "code",
   "execution_count": null,
   "metadata": {},
   "outputs": [],
   "source": [
    "# removing non-people statements\n",
    "_t = _t[_t['speaker_tag'] == \"PERSON\"]"
   ]
  },
  {
   "cell_type": "markdown",
   "metadata": {},
   "source": [
    "### Clean-up Context"
   ]
  },
  {
   "cell_type": "code",
   "execution_count": null,
   "metadata": {
    "scrolled": true
   },
   "outputs": [],
   "source": [
    "_t[\"context\"].value_counts().index.values"
   ]
  },
  {
   "cell_type": "markdown",
   "metadata": {},
   "source": [
    "It would be good to try using the tool that would extract keywords from these phases. Let's use NLTK Rake:"
   ]
  },
  {
   "cell_type": "code",
   "execution_count": null,
   "metadata": {
    "scrolled": true
   },
   "outputs": [],
   "source": [
    "from rake_nltk import Rake, Metric\n",
    "from collections import Counter\n",
    "\n",
    "debug = False\n",
    "\n",
    "def do_keyword_extraction(words):\n",
    "    if debug: print(\"---\\n\", words)\n",
    "        \n",
    "    rake_all = Rake()\n",
    "    rake_all.extract_keywords_from_sentences(_t[\"context\"].value_counts().index.values)\n",
    "\n",
    "    word_degrees = dict(rake_all.get_word_degrees())\n",
    "    \n",
    "    r = Rake()\n",
    "    r.extract_keywords_from_text(words)\n",
    "\n",
    "    keywords = dict(r.get_word_degrees())\n",
    "    \n",
    "    if debug: print(keywords)\n",
    "        \n",
    "    for k, v in keywords.items():\n",
    "        keywords[k] = word_degrees[k]\n",
    "    \n",
    "    if debug: print(keywords)\n",
    "\n",
    "    return Counter(keywords).most_common(1)[0]"
   ]
  },
  {
   "cell_type": "code",
   "execution_count": null,
   "metadata": {
    "scrolled": true
   },
   "outputs": [],
   "source": [
    "# try to see how it works\n",
    "text_to_process = \"a television interview\"\n",
    "do_keyword_extraction(\"an interview\")\n",
    "do_keyword_extraction(\"a television interview\")\n",
    "do_keyword_extraction(\"a TV interview\")"
   ]
  },
  {
   "cell_type": "code",
   "execution_count": null,
   "metadata": {
    "scrolled": false
   },
   "outputs": [],
   "source": [
    "_t[\"context_tag\"] = _t.apply(lambda row: do_keyword_extraction(row['context']) if not pd.isnull(row['context']) else row['context'], axis=1)"
   ]
  },
  {
   "cell_type": "code",
   "execution_count": null,
   "metadata": {},
   "outputs": [],
   "source": [
    "context_tags = _t[['context','context_tag']]['context_tag'].value_counts()\n",
    "print(f\"Number of different context tags is {len(context_tags)}\")\n",
    "context_tags"
   ]
  },
  {
   "cell_type": "markdown",
   "metadata": {},
   "source": [
    "We see that the number of context tags is 271, which is a preatty big number. Let's consider decreasing this number and make smaller groups."
   ]
  },
  {
   "cell_type": "code",
   "execution_count": null,
   "metadata": {},
   "outputs": [],
   "source": [
    "# TODO: make smaller context groups, ideally around 10"
   ]
  },
  {
   "cell_type": "code",
   "execution_count": null,
   "metadata": {},
   "outputs": [],
   "source": [
    "# TODO: implement tagging on the cleaned jobs as well"
   ]
  },
  {
   "cell_type": "code",
   "execution_count": null,
   "metadata": {},
   "outputs": [],
   "source": [
    "# TODO: plot the answers from research questions we have"
   ]
  },
  {
   "cell_type": "markdown",
   "metadata": {},
   "source": [
    "## Some initial insights"
   ]
  },
  {
   "cell_type": "code",
   "execution_count": null,
   "metadata": {
    "scrolled": true
   },
   "outputs": [],
   "source": [
    "_t['sum_not_so_true'] = _t['pants_on_fire_counts']/(_t['barely_true_counts'] + _t['false_counts'] + _t['half_true_counts'] + _t['mostly_true_counts'] + _t['pants_on_fire_counts'])\n",
    "number_of_party_affiliation = _t.groupby('party_affiliation')['sum_not_so_true'].sum().sort_values(ascending=False)\n",
    "number_of_party_affiliation"
   ]
  },
  {
   "cell_type": "markdown",
   "metadata": {},
   "source": [
    "Here are the `party_affiliations` who most lie ordered by their proportion of lies. But we already know that the 2 dominant parties in USA are republican and democrat. We see that there are lots of unknown party affiliations from which we can make identify 2 possibilities"
   ]
  },
  {
   "cell_type": "code",
   "execution_count": null,
   "metadata": {
    "scrolled": true
   },
   "outputs": [],
   "source": [
    "number_of_party_affiliation = _t.groupby(['speaker'])['sum_not_so_true'].sum().sort_values(ascending=False)\n",
    "number_of_party_affiliation.head(10)"
   ]
  },
  {
   "cell_type": "markdown",
   "metadata": {},
   "source": [
    "Looking at the dataset content, people above are sorted quantity of lies."
   ]
  },
  {
   "cell_type": "code",
   "execution_count": null,
   "metadata": {
    "scrolled": false
   },
   "outputs": [],
   "source": [
    "all_contexts = _t['context_tag'].unique()\n",
    "nb_elements_context = _t.groupby(['context_tag'])['context_tag'].count().sort_values(ascending=False)\n",
    "nb_elements_context.head(50)"
   ]
  },
  {
   "cell_type": "markdown",
   "metadata": {},
   "source": [
    "Looking at the context, it seems that people lie the most during the interviews, then speech, after debates, and so on..."
   ]
  },
  {
   "cell_type": "markdown",
   "metadata": {},
   "source": [
    "## [misc] One statement content visualization"
   ]
  },
  {
   "cell_type": "markdown",
   "metadata": {},
   "source": [
    "Let's analyse first row, statement with id `1`. What is the information we get there?"
   ]
  },
  {
   "cell_type": "code",
   "execution_count": null,
   "metadata": {},
   "outputs": [],
   "source": [
    "sid = 1.0"
   ]
  },
  {
   "cell_type": "code",
   "execution_count": null,
   "metadata": {},
   "outputs": [],
   "source": [
    "_t[_t.statement_id == sid]"
   ]
  },
  {
   "cell_type": "code",
   "execution_count": null,
   "metadata": {},
   "outputs": [],
   "source": [
    "with open(f\"{directory_statements}/{int(sid)}.json\", \"r\") as f:\n",
    "    data = json.load(f)"
   ]
  },
  {
   "cell_type": "markdown",
   "metadata": {},
   "source": [
    "Just to visualize JSON hierarchy, run the following cell:"
   ]
  },
  {
   "cell_type": "code",
   "execution_count": null,
   "metadata": {},
   "outputs": [],
   "source": [
    "def go_further(dic, name):\n",
    "    dict_vis = {\"name\": name, \"children\": []}\n",
    "    for k, v in dic.items():\n",
    "        if type(v) == str:\n",
    "            new_el = {\"name\": k}\n",
    "        elif type(v) == list:\n",
    "            if len(v) > 0:\n",
    "                new_el = go_further(v[0], k)\n",
    "        elif type(v) == dict:\n",
    "            new_el = go_further(v, k)\n",
    "        else:\n",
    "            new_el = {\"name\": k}\n",
    "        dict_vis[\"children\"].append(new_el)\n",
    "        \n",
    "    return dict_vis\n",
    "\n",
    "my_dict = go_further(data, name=\"statement_info\")\n",
    "\n",
    "with open(f\"{directory_visualizations}/data.json\", \"w\") as f:\n",
    "    json.dump(my_dict, f)\n",
    "\n",
    "print(f\"Checkout visualization by: \\n1) cd ../visualizations \\n2) python -m http.server \\n3) in browser, open: http://localhost:8000/\")"
   ]
  },
  {
   "cell_type": "code",
   "execution_count": null,
   "metadata": {},
   "outputs": [],
   "source": []
  }
 ],
 "metadata": {
  "hide_input": false,
  "kernelspec": {
   "display_name": "Python 3",
   "language": "python",
   "name": "python3"
  },
  "language_info": {
   "codemirror_mode": {
    "name": "ipython",
    "version": 3
   },
   "file_extension": ".py",
   "mimetype": "text/x-python",
   "name": "python",
   "nbconvert_exporter": "python",
   "pygments_lexer": "ipython3",
   "version": "3.6.5"
  },
  "toc": {
   "base_numbering": 1,
   "nav_menu": {
    "height": "49.1333px",
    "width": "252px"
   },
   "number_sections": true,
   "sideBar": true,
   "skip_h1_title": false,
   "title_cell": "Table of Contents",
   "title_sidebar": "Contents",
   "toc_cell": false,
   "toc_position": {},
   "toc_section_display": "block",
   "toc_window_display": false
  }
 },
 "nbformat": 4,
 "nbformat_minor": 2
}
