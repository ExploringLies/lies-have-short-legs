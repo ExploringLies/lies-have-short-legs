{
 "cells": [
  {
   "cell_type": "code",
   "execution_count": 3,
   "metadata": {
    "ExecuteTime": {
     "end_time": "2018-11-26T22:35:30.279666Z",
     "start_time": "2018-11-26T22:35:30.276212Z"
    }
   },
   "outputs": [],
   "source": [
    "import re\n",
    "import json\n",
    "import logging"
   ]
  },
  {
   "cell_type": "code",
   "execution_count": 5,
   "metadata": {
    "ExecuteTime": {
     "end_time": "2018-11-26T22:35:34.663698Z",
     "start_time": "2018-11-26T22:35:34.653099Z"
    }
   },
   "outputs": [],
   "source": [
    "# quick and dirty version\n",
    "_STATEMENT_CLEAN_REGEX_ = re.compile('|'.join((\"({})\".format(r) for r in ['<p>', '</p>', '<em>', '</em>', '\"', \"'\", '\\\\r', '\\\\n', '\\\\t', '\\&quot;', '\\&quot;', '\\\\\\\\'])), re.IGNORECASE)\n",
    "\n",
    "def _clean_statement_(statement:str, regexes=_STATEMENT_CLEAN_REGEX_) -> str:\n",
    "    \"\"\"only the statement, like in the string, not the full object\"\"\"\n",
    "    return re.sub(regexes, '', statement)"
   ]
  },
  {
   "cell_type": "code",
   "execution_count": 8,
   "metadata": {
    "ExecuteTime": {
     "end_time": "2018-11-26T22:42:08.342081Z",
     "start_time": "2018-11-26T22:42:08.319213Z"
    }
   },
   "outputs": [],
   "source": [
    "def extract_information(res):\n",
    "    \"\"\" Extracting information from JSON statements\n",
    "    \n",
    "    Parameters\n",
    "    ----------\n",
    "    res: dict\n",
    "        The dictionary containing collected information of one statement, the statement that is collected using web scrapping.\n",
    "    \n",
    "    Returns\n",
    "    -------\n",
    "    dict\n",
    "        The dictionary only with the data we need for our data analysis.\n",
    "    \"\"\"\n",
    "    try:\n",
    "        author = res['author']\n",
    "\n",
    "        try:\n",
    "            if len(author) > 0:\n",
    "                author = author[0]['name_slug']\n",
    "            else:\n",
    "                author = None\n",
    "        except Exception:\n",
    "            print(author)\n",
    "\n",
    "        return {'author_name_slug': author,\n",
    "                'ruling_date':  res['ruling_date'],\n",
    "                'label': res['ruling']['ruling_slug'],\n",
    "                'context': res['statement_context'],\n",
    "                'statement': _clean_statement_(res['statement']),\n",
    "                'statement_date': res['statement_date'],\n",
    "                'statement_type': res['statement_type']['statement_type'],\n",
    "                'statement_type_description': res['statement_type']['type_description'],\n",
    "                'speaker_current_job': res['speaker']['current_job'],\n",
    "                'speaker_first_name': res['speaker']['first_name'],\n",
    "                'speaker_last_name': res['speaker']['last_name'],\n",
    "                'speaker_home_state': res['speaker']['home_state'],\n",
    "                'statement_id': res['id']\n",
    "               }\n",
    "    except KeyError:\n",
    "        logging.error(f\"problem with id {res.get('statement_id', 'NO ID')}\")\n",
    "        return {}\n",
    "    \n",
    "\n",
    "def safe_json_read(f):\n",
    "    \"\"\" Safely reading the JSON file\n",
    "    \n",
    "    Parameters\n",
    "    ----------\n",
    "    f: str\n",
    "        File name of JSON\n",
    "    \n",
    "    Returns\n",
    "    -------\n",
    "    dict\n",
    "        Dictionary with data read from JSON file\n",
    "    \n",
    "    Rasises\n",
    "    -------\n",
    "    JSONDecodeError: If JSON file doesn't have JSON format.\n",
    "    \"\"\"\n",
    "    try:\n",
    "        with open(f, 'r') as fc:\n",
    "            return json.load(fc)\n",
    "    except json.JSONDecodeError as de:\n",
    "        logging.error(f\"File {f} is empty or something...\")\n",
    "        return {}"
   ]
  }
 ],
 "metadata": {
  "kernelspec": {
   "display_name": "Python 3",
   "language": "python",
   "name": "python3"
  },
  "language_info": {
   "codemirror_mode": {
    "name": "ipython",
    "version": 3
   },
   "file_extension": ".py",
   "mimetype": "text/x-python",
   "name": "python",
   "nbconvert_exporter": "python",
   "pygments_lexer": "ipython3",
   "version": "3.6.6"
  },
  "toc": {
   "base_numbering": 1,
   "nav_menu": {},
   "number_sections": true,
   "sideBar": true,
   "skip_h1_title": false,
   "title_cell": "Table of Contents",
   "title_sidebar": "Contents",
   "toc_cell": false,
   "toc_position": {},
   "toc_section_display": true,
   "toc_window_display": false
  }
 },
 "nbformat": 4,
 "nbformat_minor": 2
}
